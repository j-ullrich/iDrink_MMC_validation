{
 "cells": [
  {
   "cell_type": "code",
   "execution_count": 2,
   "id": "fbfa416109e0c0dd",
   "metadata": {
    "ExecuteTime": {
     "end_time": "2024-12-31T08:42:55.659368Z",
     "start_time": "2024-12-31T08:42:54.873593Z"
    }
   },
   "outputs": [],
   "source": [
    "import os\n",
    "import sys\n",
    "import glob\n",
    "from os import write\n",
    "\n",
    "from tqdm import tqdm\n",
    "import pandas as pd\n",
    "import numpy as np\n",
    "import ast\n",
    "\n",
    "import plotly as py\n",
    "import plotly.express as px\n",
    "import plotly.graph_objects as go\n",
    "from plotly.subplots import make_subplots\n",
    "\n",
    "sys.path.append(os.path.realpath(os.path.abspath('..')))\n",
    "from iDrink import iDrinkUtilities\n",
    "from iDrink.iDrinkUtilities import get_title_measure_name, get_unit, get_cad, get_setting_axis_name\n",
    "\n",
    "drive = iDrinkUtilities.get_drivepath()\n",
    "\n",
    "root_iDrink = os.path.join(drive, 'iDrink')\n",
    "root_val = os.path.join(root_iDrink, \"validation_root\")\n",
    "root_stat = os.path.join(root_val, '04_Statistics')\n",
    "root_omc = os.path.join(root_val, '03_data', 'OMC_new', 'S15133')\n",
    "root_data = os.path.join(root_val, \"03_data\")\n",
    "root_logs = os.path.join(root_val, \"05_logs\")\n",
    "\n",
    "csv_val_trials = os.path.join(root_logs, 'validation_trials.csv')\n",
    "df_val_trials = pd.read_csv(csv_val_trials, sep=';')\n",
    "\n",
    "csv_settings = os.path.join(root_logs, 'validation_settings.csv')\n",
    "df_settings = pd.read_csv(csv_settings, sep=';')\n",
    "\n",
    "csv_calib_error = os.path.join(root_logs, 'calib_errors.csv')\n",
    "df_calib_error = pd.read_csv(csv_calib_error, sep=';')\n",
    "\n",
    "csv_murphy = os.path.join(root_stat, '02_categorical', 'murphy_measures.csv')\n",
    "df_murphy = pd.read_csv(csv_murphy, sep=';')\n",
    "\n",
    "csv_failed_trials = os.path.join(root_stat, '04_failed_trials', 'failed_trials.csv')\n",
    "df_failed_trials = pd.read_csv(csv_failed_trials, sep=';')\n",
    "\n",
    "list_identifier = sorted(df_val_trials['identifier'].tolist())\n",
    "\n",
    "ignore_id_p = ['P11', 'P19']\n",
    "idx_s_singlecam_full = ['S017', 'S018', 'S019', 'S020', 'S021', 'S022', 'S023', 'S024', 'S025', 'S026']\n",
    "idx_s_singlecam = ['S017', 'S018']\n",
    "idx_s_multicam = ['S001', 'S002', 'S003', 'S004', 'S005', 'S006', 'S007', 'S008', 'S009', 'S010', 'S011', 'S012', 'S013', 'S014', 'S015', 'S016']\n",
    "idx_s_multicam_reduced = ['S001', 'S002']\n",
    "idx_s_reduced = idx_s_multicam_reduced + idx_s_singlecam\n",
    "idx_s_full = idx_s_multicam + idx_s_singlecam\n"
   ]
  },
  {
   "cell_type": "code",
   "execution_count": 3,
   "id": "ecbf33126141c944",
   "metadata": {
    "ExecuteTime": {
     "end_time": "2024-12-29T23:10:57.036421Z",
     "start_time": "2024-12-29T23:10:57.029888Z"
    }
   },
   "outputs": [
    {
     "data": {
      "text/plain": [
       "Index(['id_s', 'id_p', 'id_t', 'affected', 'side', 'calib_error', 'HPE', 'P2S',\n",
       "       'OS', 'murphy', 'murphy_omc', 'success', 'fail', 'failed_at', 'reason'],\n",
       "      dtype='object')"
      ]
     },
     "execution_count": 3,
     "metadata": {},
     "output_type": "execute_result"
    }
   ],
   "source": [
    "df_failed_trials.columns"
   ]
  },
  {
   "cell_type": "code",
   "execution_count": 4,
   "id": "18416d01f3ee8772",
   "metadata": {
    "ExecuteTime": {
     "end_time": "2024-12-31T08:56:58.114398Z",
     "start_time": "2024-12-31T08:56:58.105184Z"
    }
   },
   "outputs": [],
   "source": [
    "trials_count = df_failed_trials[df_failed_trials['id_s'] =='S001'].groupby(['id_p', 'affected']).size().reset_index(name='count')\n",
    "df_failed_trials = df_failed_trials[df_failed_trials['id_s'].isin(idx_s_full)]"
   ]
  },
  {
   "cell_type": "code",
   "execution_count": null,
   "id": "f905b119d1cf88d7",
   "metadata": {
    "ExecuteTime": {
     "end_time": "2024-12-28T20:14:22.823689400Z",
     "start_time": "2024-12-28T20:10:24.805816Z"
    }
   },
   "outputs": [],
   "source": []
  },
  {
   "cell_type": "code",
   "execution_count": 5,
   "id": "f97bae0a1027487f",
   "metadata": {
    "ExecuteTime": {
     "end_time": "2024-12-31T08:43:05.025406Z",
     "start_time": "2024-12-31T08:43:05.007787Z"
    }
   },
   "outputs": [
    {
     "data": {
      "application/vnd.microsoft.datawrangler.viewer.v0+json": {
       "columns": [
        {
         "name": "index",
         "rawType": "int64",
         "type": "integer"
        },
        {
         "name": "failed_at",
         "rawType": "object",
         "type": "string"
        },
        {
         "name": "count",
         "rawType": "int64",
         "type": "integer"
        }
       ],
       "conversionMethod": "pd.DataFrame",
       "ref": "c521d140-2abc-4b9b-a51b-0922cb2cbc01",
       "rows": [
        [
         "0",
         "P2S",
         "83"
        ]
       ],
       "shape": {
        "columns": 2,
        "rows": 1
       }
      },
      "text/html": [
       "<div>\n",
       "<style scoped>\n",
       "    .dataframe tbody tr th:only-of-type {\n",
       "        vertical-align: middle;\n",
       "    }\n",
       "\n",
       "    .dataframe tbody tr th {\n",
       "        vertical-align: top;\n",
       "    }\n",
       "\n",
       "    .dataframe thead th {\n",
       "        text-align: right;\n",
       "    }\n",
       "</style>\n",
       "<table border=\"1\" class=\"dataframe\">\n",
       "  <thead>\n",
       "    <tr style=\"text-align: right;\">\n",
       "      <th></th>\n",
       "      <th>failed_at</th>\n",
       "      <th>count</th>\n",
       "    </tr>\n",
       "  </thead>\n",
       "  <tbody>\n",
       "    <tr>\n",
       "      <th>0</th>\n",
       "      <td>P2S</td>\n",
       "      <td>83</td>\n",
       "    </tr>\n",
       "  </tbody>\n",
       "</table>\n",
       "</div>"
      ],
      "text/plain": [
       "  failed_at  count\n",
       "0       P2S     83"
      ]
     },
     "execution_count": 5,
     "metadata": {},
     "output_type": "execute_result"
    }
   ],
   "source": [
    "df_failed_trials[df_failed_trials['id_s'] == 'S001'].groupby(['failed_at']).size().reset_index(\n",
    "    name='count')"
   ]
  },
  {
   "cell_type": "code",
   "execution_count": 6,
   "id": "b045c0772970e934",
   "metadata": {
    "ExecuteTime": {
     "end_time": "2024-12-31T08:43:11.254605Z",
     "start_time": "2024-12-31T08:43:10.659416Z"
    }
   },
   "outputs": [
    {
     "name": "stdout",
     "output_type": "stream",
     "text": [
      "\\begin{tabular}{lllr}\n",
      " & id_p & affected & count \\\\\n",
      "0 & P07 & affected & 41 \\\\\n",
      "1 & P07 & unaffected & 42 \\\\\n",
      "\\end{tabular}\n",
      "\n"
     ]
    }
   ],
   "source": [
    "print(trials_count.style.to_latex())"
   ]
  },
  {
   "cell_type": "code",
   "execution_count": 7,
   "id": "6e6b9eea74533304",
   "metadata": {
    "ExecuteTime": {
     "end_time": "2024-12-31T08:57:11.381749Z",
     "start_time": "2024-12-31T08:57:11.365848Z"
    }
   },
   "outputs": [
    {
     "data": {
      "application/vnd.microsoft.datawrangler.viewer.v0+json": {
       "columns": [
        {
         "name": "index",
         "rawType": "int64",
         "type": "integer"
        },
        {
         "name": "id_s",
         "rawType": "object",
         "type": "string"
        },
        {
         "name": "id_p",
         "rawType": "object",
         "type": "string"
        },
        {
         "name": "id_t",
         "rawType": "object",
         "type": "string"
        },
        {
         "name": "affected",
         "rawType": "object",
         "type": "string"
        },
        {
         "name": "side",
         "rawType": "object",
         "type": "string"
        },
        {
         "name": "calib_error",
         "rawType": "float64",
         "type": "float"
        },
        {
         "name": "HPE",
         "rawType": "int64",
         "type": "integer"
        },
        {
         "name": "P2S",
         "rawType": "int64",
         "type": "integer"
        },
        {
         "name": "OS",
         "rawType": "float64",
         "type": "float"
        },
        {
         "name": "murphy",
         "rawType": "float64",
         "type": "float"
        },
        {
         "name": "murphy_omc",
         "rawType": "float64",
         "type": "float"
        },
        {
         "name": "success",
         "rawType": "int64",
         "type": "integer"
        },
        {
         "name": "fail",
         "rawType": "int64",
         "type": "integer"
        },
        {
         "name": "failed_at",
         "rawType": "object",
         "type": "string"
        },
        {
         "name": "reason",
         "rawType": "object",
         "type": "string"
        }
       ],
       "conversionMethod": "pd.DataFrame",
       "ref": "11871224-73eb-4d59-ba15-2a3cb06011e5",
       "rows": [
        [
         "0",
         "S001",
         "P07",
         "T001",
         "unaffected",
         "L",
         "1.3839010832038627",
         "1",
         "0",
         null,
         null,
         null,
         "0",
         "1",
         "P2S",
         null
        ],
        [
         "1",
         "S001",
         "P07",
         "T002",
         "unaffected",
         "L",
         "1.3839010832038627",
         "1",
         "0",
         null,
         null,
         null,
         "0",
         "1",
         "P2S",
         null
        ],
        [
         "2",
         "S001",
         "P07",
         "T003",
         "unaffected",
         "L",
         "1.3839010832038627",
         "1",
         "0",
         null,
         null,
         null,
         "0",
         "1",
         "P2S",
         null
        ],
        [
         "3",
         "S001",
         "P07",
         "T004",
         "unaffected",
         "L",
         "1.3839010832038627",
         "1",
         "0",
         null,
         null,
         null,
         "0",
         "1",
         "P2S",
         null
        ],
        [
         "4",
         "S001",
         "P07",
         "T005",
         "unaffected",
         "L",
         "1.3839010832038627",
         "1",
         "0",
         null,
         null,
         null,
         "0",
         "1",
         "P2S",
         null
        ],
        [
         "5",
         "S001",
         "P07",
         "T006",
         "unaffected",
         "L",
         "1.3839010832038627",
         "1",
         "0",
         null,
         null,
         null,
         "0",
         "1",
         "P2S",
         null
        ],
        [
         "6",
         "S001",
         "P07",
         "T007",
         "unaffected",
         "L",
         "1.3839010832038627",
         "1",
         "0",
         null,
         null,
         null,
         "0",
         "1",
         "P2S",
         null
        ],
        [
         "7",
         "S001",
         "P07",
         "T008",
         "unaffected",
         "L",
         "1.3839010832038627",
         "1",
         "0",
         null,
         null,
         null,
         "0",
         "1",
         "P2S",
         null
        ],
        [
         "8",
         "S001",
         "P07",
         "T009",
         "unaffected",
         "L",
         "1.3839010832038627",
         "1",
         "0",
         null,
         null,
         null,
         "0",
         "1",
         "P2S",
         null
        ],
        [
         "9",
         "S001",
         "P07",
         "T010",
         "unaffected",
         "L",
         "1.3839010832038627",
         "1",
         "0",
         null,
         null,
         null,
         "0",
         "1",
         "P2S",
         null
        ],
        [
         "10",
         "S001",
         "P07",
         "T011",
         "unaffected",
         "L",
         "1.3839010832038627",
         "1",
         "0",
         null,
         null,
         null,
         "0",
         "1",
         "P2S",
         null
        ],
        [
         "11",
         "S001",
         "P07",
         "T012",
         "unaffected",
         "L",
         "1.3839010832038627",
         "1",
         "0",
         null,
         null,
         null,
         "0",
         "1",
         "P2S",
         null
        ],
        [
         "12",
         "S001",
         "P07",
         "T013",
         "unaffected",
         "L",
         "1.3839010832038627",
         "1",
         "0",
         null,
         null,
         null,
         "0",
         "1",
         "P2S",
         null
        ],
        [
         "13",
         "S001",
         "P07",
         "T014",
         "unaffected",
         "L",
         "1.3839010832038627",
         "1",
         "0",
         null,
         null,
         null,
         "0",
         "1",
         "P2S",
         null
        ],
        [
         "14",
         "S001",
         "P07",
         "T015",
         "unaffected",
         "L",
         "1.3839010832038627",
         "1",
         "0",
         null,
         null,
         null,
         "0",
         "1",
         "P2S",
         null
        ],
        [
         "15",
         "S001",
         "P07",
         "T016",
         "unaffected",
         "L",
         "1.3839010832038627",
         "1",
         "0",
         null,
         null,
         null,
         "0",
         "1",
         "P2S",
         null
        ],
        [
         "16",
         "S001",
         "P07",
         "T017",
         "unaffected",
         "L",
         "1.3839010832038627",
         "1",
         "0",
         null,
         null,
         null,
         "0",
         "1",
         "P2S",
         null
        ],
        [
         "17",
         "S001",
         "P07",
         "T018",
         "unaffected",
         "L",
         "1.3839010832038627",
         "1",
         "0",
         null,
         null,
         null,
         "0",
         "1",
         "P2S",
         null
        ],
        [
         "18",
         "S001",
         "P07",
         "T019",
         "unaffected",
         "L",
         "1.3839010832038627",
         "1",
         "0",
         null,
         null,
         null,
         "0",
         "1",
         "P2S",
         null
        ],
        [
         "19",
         "S001",
         "P07",
         "T020",
         "unaffected",
         "L",
         "1.3839010832038627",
         "1",
         "0",
         null,
         null,
         null,
         "0",
         "1",
         "P2S",
         null
        ],
        [
         "20",
         "S001",
         "P07",
         "T021",
         "unaffected",
         "L",
         "1.3839010832038627",
         "1",
         "0",
         null,
         null,
         null,
         "0",
         "1",
         "P2S",
         null
        ],
        [
         "21",
         "S001",
         "P07",
         "T022",
         "unaffected",
         "L",
         "1.3839010832038627",
         "1",
         "0",
         null,
         null,
         null,
         "0",
         "1",
         "P2S",
         null
        ],
        [
         "22",
         "S001",
         "P07",
         "T023",
         "unaffected",
         "L",
         "1.3839010832038627",
         "1",
         "0",
         null,
         null,
         null,
         "0",
         "1",
         "P2S",
         null
        ],
        [
         "23",
         "S001",
         "P07",
         "T024",
         "unaffected",
         "L",
         "1.3839010832038627",
         "1",
         "0",
         null,
         null,
         null,
         "0",
         "1",
         "P2S",
         null
        ],
        [
         "24",
         "S001",
         "P07",
         "T025",
         "unaffected",
         "L",
         "1.3839010832038627",
         "1",
         "0",
         null,
         null,
         null,
         "0",
         "1",
         "P2S",
         null
        ],
        [
         "25",
         "S001",
         "P07",
         "T026",
         "unaffected",
         "L",
         "1.3839010832038627",
         "1",
         "0",
         null,
         null,
         null,
         "0",
         "1",
         "P2S",
         null
        ],
        [
         "26",
         "S001",
         "P07",
         "T027",
         "unaffected",
         "L",
         "1.3839010832038627",
         "1",
         "0",
         null,
         null,
         null,
         "0",
         "1",
         "P2S",
         null
        ],
        [
         "27",
         "S001",
         "P07",
         "T028",
         "unaffected",
         "L",
         "1.3839010832038627",
         "1",
         "0",
         null,
         null,
         null,
         "0",
         "1",
         "P2S",
         null
        ],
        [
         "28",
         "S001",
         "P07",
         "T029",
         "unaffected",
         "L",
         "1.3839010832038627",
         "1",
         "0",
         null,
         null,
         null,
         "0",
         "1",
         "P2S",
         null
        ],
        [
         "29",
         "S001",
         "P07",
         "T030",
         "unaffected",
         "L",
         "1.3839010832038627",
         "1",
         "0",
         null,
         null,
         null,
         "0",
         "1",
         "P2S",
         null
        ],
        [
         "30",
         "S001",
         "P07",
         "T031",
         "unaffected",
         "L",
         "1.3839010832038627",
         "1",
         "0",
         null,
         null,
         null,
         "0",
         "1",
         "P2S",
         null
        ],
        [
         "31",
         "S001",
         "P07",
         "T032",
         "unaffected",
         "L",
         "1.3839010832038627",
         "1",
         "0",
         null,
         null,
         null,
         "0",
         "1",
         "P2S",
         null
        ],
        [
         "32",
         "S001",
         "P07",
         "T033",
         "unaffected",
         "L",
         "1.3839010832038627",
         "1",
         "0",
         null,
         null,
         null,
         "0",
         "1",
         "P2S",
         null
        ],
        [
         "33",
         "S001",
         "P07",
         "T034",
         "unaffected",
         "L",
         "1.3839010832038627",
         "1",
         "0",
         null,
         null,
         null,
         "0",
         "1",
         "P2S",
         null
        ],
        [
         "34",
         "S001",
         "P07",
         "T035",
         "unaffected",
         "L",
         "1.3839010832038627",
         "1",
         "0",
         null,
         null,
         null,
         "0",
         "1",
         "P2S",
         null
        ],
        [
         "35",
         "S001",
         "P07",
         "T036",
         "unaffected",
         "L",
         "1.3839010832038627",
         "1",
         "0",
         null,
         null,
         null,
         "0",
         "1",
         "P2S",
         null
        ],
        [
         "36",
         "S001",
         "P07",
         "T037",
         "unaffected",
         "L",
         "1.3839010832038627",
         "1",
         "0",
         null,
         null,
         null,
         "0",
         "1",
         "P2S",
         null
        ],
        [
         "37",
         "S001",
         "P07",
         "T038",
         "unaffected",
         "L",
         "1.3839010832038627",
         "1",
         "0",
         null,
         null,
         null,
         "0",
         "1",
         "P2S",
         null
        ],
        [
         "38",
         "S001",
         "P07",
         "T039",
         "unaffected",
         "L",
         "1.3839010832038627",
         "1",
         "0",
         null,
         null,
         null,
         "0",
         "1",
         "P2S",
         null
        ],
        [
         "39",
         "S001",
         "P07",
         "T040",
         "unaffected",
         "L",
         "1.3839010832038627",
         "1",
         "0",
         null,
         null,
         null,
         "0",
         "1",
         "P2S",
         null
        ],
        [
         "40",
         "S001",
         "P07",
         "T041",
         "unaffected",
         "L",
         "1.3839010832038627",
         "1",
         "0",
         null,
         null,
         null,
         "0",
         "1",
         "P2S",
         null
        ],
        [
         "41",
         "S001",
         "P07",
         "T042",
         "unaffected",
         "L",
         "1.3839010832038627",
         "1",
         "0",
         null,
         null,
         null,
         "0",
         "1",
         "P2S",
         null
        ],
        [
         "42",
         "S001",
         "P07",
         "T043",
         "affected",
         "R",
         "1.3839010832038627",
         "1",
         "0",
         null,
         null,
         null,
         "0",
         "1",
         "P2S",
         null
        ],
        [
         "43",
         "S001",
         "P07",
         "T044",
         "affected",
         "R",
         "1.3839010832038627",
         "1",
         "0",
         null,
         null,
         null,
         "0",
         "1",
         "P2S",
         null
        ],
        [
         "44",
         "S001",
         "P07",
         "T045",
         "affected",
         "R",
         "1.3839010832038627",
         "1",
         "0",
         null,
         null,
         null,
         "0",
         "1",
         "P2S",
         null
        ],
        [
         "45",
         "S001",
         "P07",
         "T046",
         "affected",
         "R",
         "1.3839010832038627",
         "1",
         "0",
         null,
         null,
         null,
         "0",
         "1",
         "P2S",
         null
        ],
        [
         "46",
         "S001",
         "P07",
         "T047",
         "affected",
         "R",
         "1.3839010832038627",
         "1",
         "0",
         null,
         null,
         null,
         "0",
         "1",
         "P2S",
         null
        ],
        [
         "47",
         "S001",
         "P07",
         "T048",
         "affected",
         "R",
         "1.3839010832038627",
         "1",
         "0",
         null,
         null,
         null,
         "0",
         "1",
         "P2S",
         null
        ],
        [
         "48",
         "S001",
         "P07",
         "T049",
         "affected",
         "R",
         "1.3839010832038627",
         "1",
         "0",
         null,
         null,
         null,
         "0",
         "1",
         "P2S",
         null
        ],
        [
         "49",
         "S001",
         "P07",
         "T050",
         "affected",
         "R",
         "1.3839010832038627",
         "1",
         "0",
         null,
         null,
         null,
         "0",
         "1",
         "P2S",
         null
        ]
       ],
       "shape": {
        "columns": 15,
        "rows": 747
       }
      },
      "text/html": [
       "<div>\n",
       "<style scoped>\n",
       "    .dataframe tbody tr th:only-of-type {\n",
       "        vertical-align: middle;\n",
       "    }\n",
       "\n",
       "    .dataframe tbody tr th {\n",
       "        vertical-align: top;\n",
       "    }\n",
       "\n",
       "    .dataframe thead th {\n",
       "        text-align: right;\n",
       "    }\n",
       "</style>\n",
       "<table border=\"1\" class=\"dataframe\">\n",
       "  <thead>\n",
       "    <tr style=\"text-align: right;\">\n",
       "      <th></th>\n",
       "      <th>id_s</th>\n",
       "      <th>id_p</th>\n",
       "      <th>id_t</th>\n",
       "      <th>affected</th>\n",
       "      <th>side</th>\n",
       "      <th>calib_error</th>\n",
       "      <th>HPE</th>\n",
       "      <th>P2S</th>\n",
       "      <th>OS</th>\n",
       "      <th>murphy</th>\n",
       "      <th>murphy_omc</th>\n",
       "      <th>success</th>\n",
       "      <th>fail</th>\n",
       "      <th>failed_at</th>\n",
       "      <th>reason</th>\n",
       "    </tr>\n",
       "  </thead>\n",
       "  <tbody>\n",
       "    <tr>\n",
       "      <th>0</th>\n",
       "      <td>S001</td>\n",
       "      <td>P07</td>\n",
       "      <td>T001</td>\n",
       "      <td>unaffected</td>\n",
       "      <td>L</td>\n",
       "      <td>1.383901</td>\n",
       "      <td>1</td>\n",
       "      <td>0</td>\n",
       "      <td>NaN</td>\n",
       "      <td>NaN</td>\n",
       "      <td>NaN</td>\n",
       "      <td>0</td>\n",
       "      <td>1</td>\n",
       "      <td>P2S</td>\n",
       "      <td>NaN</td>\n",
       "    </tr>\n",
       "    <tr>\n",
       "      <th>1</th>\n",
       "      <td>S001</td>\n",
       "      <td>P07</td>\n",
       "      <td>T002</td>\n",
       "      <td>unaffected</td>\n",
       "      <td>L</td>\n",
       "      <td>1.383901</td>\n",
       "      <td>1</td>\n",
       "      <td>0</td>\n",
       "      <td>NaN</td>\n",
       "      <td>NaN</td>\n",
       "      <td>NaN</td>\n",
       "      <td>0</td>\n",
       "      <td>1</td>\n",
       "      <td>P2S</td>\n",
       "      <td>NaN</td>\n",
       "    </tr>\n",
       "    <tr>\n",
       "      <th>2</th>\n",
       "      <td>S001</td>\n",
       "      <td>P07</td>\n",
       "      <td>T003</td>\n",
       "      <td>unaffected</td>\n",
       "      <td>L</td>\n",
       "      <td>1.383901</td>\n",
       "      <td>1</td>\n",
       "      <td>0</td>\n",
       "      <td>NaN</td>\n",
       "      <td>NaN</td>\n",
       "      <td>NaN</td>\n",
       "      <td>0</td>\n",
       "      <td>1</td>\n",
       "      <td>P2S</td>\n",
       "      <td>NaN</td>\n",
       "    </tr>\n",
       "    <tr>\n",
       "      <th>3</th>\n",
       "      <td>S001</td>\n",
       "      <td>P07</td>\n",
       "      <td>T004</td>\n",
       "      <td>unaffected</td>\n",
       "      <td>L</td>\n",
       "      <td>1.383901</td>\n",
       "      <td>1</td>\n",
       "      <td>0</td>\n",
       "      <td>NaN</td>\n",
       "      <td>NaN</td>\n",
       "      <td>NaN</td>\n",
       "      <td>0</td>\n",
       "      <td>1</td>\n",
       "      <td>P2S</td>\n",
       "      <td>NaN</td>\n",
       "    </tr>\n",
       "    <tr>\n",
       "      <th>4</th>\n",
       "      <td>S001</td>\n",
       "      <td>P07</td>\n",
       "      <td>T005</td>\n",
       "      <td>unaffected</td>\n",
       "      <td>L</td>\n",
       "      <td>1.383901</td>\n",
       "      <td>1</td>\n",
       "      <td>0</td>\n",
       "      <td>NaN</td>\n",
       "      <td>NaN</td>\n",
       "      <td>NaN</td>\n",
       "      <td>0</td>\n",
       "      <td>1</td>\n",
       "      <td>P2S</td>\n",
       "      <td>NaN</td>\n",
       "    </tr>\n",
       "    <tr>\n",
       "      <th>...</th>\n",
       "      <td>...</td>\n",
       "      <td>...</td>\n",
       "      <td>...</td>\n",
       "      <td>...</td>\n",
       "      <td>...</td>\n",
       "      <td>...</td>\n",
       "      <td>...</td>\n",
       "      <td>...</td>\n",
       "      <td>...</td>\n",
       "      <td>...</td>\n",
       "      <td>...</td>\n",
       "      <td>...</td>\n",
       "      <td>...</td>\n",
       "      <td>...</td>\n",
       "      <td>...</td>\n",
       "    </tr>\n",
       "    <tr>\n",
       "      <th>742</th>\n",
       "      <td>S010</td>\n",
       "      <td>P07</td>\n",
       "      <td>T079</td>\n",
       "      <td>affected</td>\n",
       "      <td>R</td>\n",
       "      <td>-2.000000</td>\n",
       "      <td>1</td>\n",
       "      <td>1</td>\n",
       "      <td>1.0</td>\n",
       "      <td>1.0</td>\n",
       "      <td>1.0</td>\n",
       "      <td>1</td>\n",
       "      <td>0</td>\n",
       "      <td>NaN</td>\n",
       "      <td>NaN</td>\n",
       "    </tr>\n",
       "    <tr>\n",
       "      <th>743</th>\n",
       "      <td>S010</td>\n",
       "      <td>P07</td>\n",
       "      <td>T080</td>\n",
       "      <td>affected</td>\n",
       "      <td>R</td>\n",
       "      <td>-2.000000</td>\n",
       "      <td>1</td>\n",
       "      <td>1</td>\n",
       "      <td>1.0</td>\n",
       "      <td>1.0</td>\n",
       "      <td>1.0</td>\n",
       "      <td>1</td>\n",
       "      <td>0</td>\n",
       "      <td>NaN</td>\n",
       "      <td>NaN</td>\n",
       "    </tr>\n",
       "    <tr>\n",
       "      <th>744</th>\n",
       "      <td>S010</td>\n",
       "      <td>P07</td>\n",
       "      <td>T081</td>\n",
       "      <td>affected</td>\n",
       "      <td>R</td>\n",
       "      <td>-2.000000</td>\n",
       "      <td>1</td>\n",
       "      <td>1</td>\n",
       "      <td>1.0</td>\n",
       "      <td>1.0</td>\n",
       "      <td>1.0</td>\n",
       "      <td>1</td>\n",
       "      <td>0</td>\n",
       "      <td>NaN</td>\n",
       "      <td>NaN</td>\n",
       "    </tr>\n",
       "    <tr>\n",
       "      <th>745</th>\n",
       "      <td>S010</td>\n",
       "      <td>P07</td>\n",
       "      <td>T082</td>\n",
       "      <td>affected</td>\n",
       "      <td>R</td>\n",
       "      <td>-2.000000</td>\n",
       "      <td>1</td>\n",
       "      <td>1</td>\n",
       "      <td>1.0</td>\n",
       "      <td>1.0</td>\n",
       "      <td>1.0</td>\n",
       "      <td>1</td>\n",
       "      <td>0</td>\n",
       "      <td>NaN</td>\n",
       "      <td>NaN</td>\n",
       "    </tr>\n",
       "    <tr>\n",
       "      <th>746</th>\n",
       "      <td>S010</td>\n",
       "      <td>P07</td>\n",
       "      <td>T083</td>\n",
       "      <td>affected</td>\n",
       "      <td>R</td>\n",
       "      <td>-2.000000</td>\n",
       "      <td>1</td>\n",
       "      <td>1</td>\n",
       "      <td>1.0</td>\n",
       "      <td>1.0</td>\n",
       "      <td>1.0</td>\n",
       "      <td>1</td>\n",
       "      <td>0</td>\n",
       "      <td>NaN</td>\n",
       "      <td>NaN</td>\n",
       "    </tr>\n",
       "  </tbody>\n",
       "</table>\n",
       "<p>747 rows × 15 columns</p>\n",
       "</div>"
      ],
      "text/plain": [
       "     id_s id_p  id_t    affected side  calib_error  HPE  P2S   OS  murphy  \\\n",
       "0    S001  P07  T001  unaffected    L     1.383901    1    0  NaN     NaN   \n",
       "1    S001  P07  T002  unaffected    L     1.383901    1    0  NaN     NaN   \n",
       "2    S001  P07  T003  unaffected    L     1.383901    1    0  NaN     NaN   \n",
       "3    S001  P07  T004  unaffected    L     1.383901    1    0  NaN     NaN   \n",
       "4    S001  P07  T005  unaffected    L     1.383901    1    0  NaN     NaN   \n",
       "..    ...  ...   ...         ...  ...          ...  ...  ...  ...     ...   \n",
       "742  S010  P07  T079    affected    R    -2.000000    1    1  1.0     1.0   \n",
       "743  S010  P07  T080    affected    R    -2.000000    1    1  1.0     1.0   \n",
       "744  S010  P07  T081    affected    R    -2.000000    1    1  1.0     1.0   \n",
       "745  S010  P07  T082    affected    R    -2.000000    1    1  1.0     1.0   \n",
       "746  S010  P07  T083    affected    R    -2.000000    1    1  1.0     1.0   \n",
       "\n",
       "     murphy_omc  success  fail failed_at reason  \n",
       "0           NaN        0     1       P2S    NaN  \n",
       "1           NaN        0     1       P2S    NaN  \n",
       "2           NaN        0     1       P2S    NaN  \n",
       "3           NaN        0     1       P2S    NaN  \n",
       "4           NaN        0     1       P2S    NaN  \n",
       "..          ...      ...   ...       ...    ...  \n",
       "742         1.0        1     0       NaN    NaN  \n",
       "743         1.0        1     0       NaN    NaN  \n",
       "744         1.0        1     0       NaN    NaN  \n",
       "745         1.0        1     0       NaN    NaN  \n",
       "746         1.0        1     0       NaN    NaN  \n",
       "\n",
       "[747 rows x 15 columns]"
      ]
     },
     "execution_count": 7,
     "metadata": {},
     "output_type": "execute_result"
    }
   ],
   "source": [
    "df_failed_trials"
   ]
  },
  {
   "cell_type": "code",
   "execution_count": 8,
   "id": "24b9e528df0ce670",
   "metadata": {
    "ExecuteTime": {
     "end_time": "2024-12-28T20:14:22.828551200Z",
     "start_time": "2024-12-28T20:10:31.206071Z"
    }
   },
   "outputs": [
    {
     "data": {
      "text/plain": [
       "747"
      ]
     },
     "execution_count": 8,
     "metadata": {},
     "output_type": "execute_result"
    }
   ],
   "source": [
    "len(df_failed_trials)"
   ]
  },
  {
   "cell_type": "code",
   "execution_count": 9,
   "id": "8648d0c81753ee24",
   "metadata": {
    "ExecuteTime": {
     "end_time": "2024-12-28T20:14:22.834651500Z",
     "start_time": "2024-12-28T20:10:32.047821Z"
    }
   },
   "outputs": [
    {
     "data": {
      "text/plain": [
       "99"
      ]
     },
     "execution_count": 9,
     "metadata": {},
     "output_type": "execute_result"
    }
   ],
   "source": [
    "len(df_failed_trials[df_failed_trials['success'] == 0])"
   ]
  },
  {
   "cell_type": "code",
   "execution_count": 10,
   "id": "f5e85d96b59eb051",
   "metadata": {
    "ExecuteTime": {
     "end_time": "2024-12-31T08:57:18.610375Z",
     "start_time": "2024-12-31T08:57:18.603167Z"
    }
   },
   "outputs": [
    {
     "name": "stdout",
     "output_type": "stream",
     "text": [
      "Total number: \t747\n",
      "Failed trials: \t99\n",
      "Successful trials: \t648\n",
      "Quota = 0.8674698795180723\n",
      "Quota Failed = 0.13253012048192772\n"
     ]
    }
   ],
   "source": [
    "print(f'Total number: \\t{len(df_failed_trials)}\\n'\n",
    "      f'Failed trials: \\t{len(df_failed_trials[df_failed_trials[\"success\"] == 0])}\\n'\n",
    "      f'Successful trials: \\t{len(df_failed_trials[df_failed_trials[\"success\"] == 1])}\\n'\n",
    "      f'Quota = {len(df_failed_trials[df_failed_trials[\"success\"] == 1])/len(df_failed_trials)}\\n'\n",
    "      f'Quota Failed = {len(df_failed_trials[df_failed_trials[\"success\"] == 0])/len(df_failed_trials)}')"
   ]
  },
  {
   "cell_type": "code",
   "execution_count": 11,
   "id": "2134404ab50f88de",
   "metadata": {
    "ExecuteTime": {
     "end_time": "2024-12-28T20:14:22.836030700Z",
     "start_time": "2024-12-28T20:10:34.314767Z"
    }
   },
   "outputs": [
    {
     "name": "stdout",
     "output_type": "stream",
     "text": [
      "\\begin{table}\n",
      "\t\\centering\n",
      "\\begin{tabular}{llrr}\n",
      " & id_s & success & fail \\\\\n",
      "0 & S001 & 0 & 83 \\\\\n",
      "1 & S003 & 81 & 2 \\\\\n",
      "2 & S004 & 81 & 2 \\\\\n",
      "3 & S005 & 81 & 2 \\\\\n",
      "4 & S006 & 81 & 2 \\\\\n",
      "5 & S007 & 81 & 2 \\\\\n",
      "6 & S008 & 81 & 2 \\\\\n",
      "7 & S009 & 81 & 2 \\\\\n",
      "8 & S010 & 81 & 2 \\\\\n",
      "\\end{tabular}\n",
      "\n",
      "\t\\caption{Number of successful and failed trials per setting}\n",
      "\t\\label{tab:res:failed_trials_per_setting}\n",
      "\\end{table}\n"
     ]
    }
   ],
   "source": [
    "print(r'\\begin{table}')\n",
    "print('\\t\\\\centering')\n",
    "print(df_failed_trials.groupby(['id_s']).sum(numeric_only=True).reset_index()[['id_s', 'success', 'fail',]].style.to_latex())\n",
    "print('\\t\\\\caption{Number of successful and failed trials per setting}')\n",
    "print('\\t\\\\label{tab:res:failed_trials_per_setting}')\n",
    "print(r'\\end{table}')"
   ]
  },
  {
   "cell_type": "code",
   "execution_count": 12,
   "id": "ecee7f9e175e57a9",
   "metadata": {
    "ExecuteTime": {
     "end_time": "2024-12-31T08:49:04.593853Z",
     "start_time": "2024-12-31T08:49:04.579885Z"
    }
   },
   "outputs": [],
   "source": [
    "df_failed_trials['ids_name'] = df_failed_trials['id_s'].apply(lambda x: get_setting_axis_name(x))\n",
    "df_latex = df_failed_trials.groupby(['ids_name'], as_index=False).sum(numeric_only=True).reset_index().rename(columns={'ids_name': 'Setting', 'success': 'Successful', 'fail': 'Failed'})\n",
    "df_latex.drop(columns=['index', 'calib_error'], inplace=True)\n"
   ]
  },
  {
   "cell_type": "code",
   "execution_count": 13,
   "id": "572b47eab17f3279",
   "metadata": {
    "ExecuteTime": {
     "end_time": "2024-12-31T08:47:34.035903Z",
     "start_time": "2024-12-31T08:47:34.022273Z"
    }
   },
   "outputs": [
    {
     "data": {
      "application/vnd.microsoft.datawrangler.viewer.v0+json": {
       "columns": [
        {
         "name": "index",
         "rawType": "int64",
         "type": "integer"
        },
        {
         "name": "Setting",
         "rawType": "object",
         "type": "string"
        },
        {
         "name": "HPE",
         "rawType": "int64",
         "type": "integer"
        },
        {
         "name": "P2S",
         "rawType": "int64",
         "type": "integer"
        },
        {
         "name": "OS",
         "rawType": "float64",
         "type": "float"
        },
        {
         "name": "murphy",
         "rawType": "float64",
         "type": "float"
        },
        {
         "name": "murphy_omc",
         "rawType": "float64",
         "type": "float"
        },
        {
         "name": "Successful",
         "rawType": "int64",
         "type": "integer"
        },
        {
         "name": "Failed",
         "rawType": "int64",
         "type": "integer"
        }
       ],
       "conversionMethod": "pd.DataFrame",
       "ref": "5df4442e-65ce-4250-a03e-9d40cc5a76f6",
       "rows": [
        [
         "0",
         "Metrabs, Cams: 1,3,5",
         "83",
         "83",
         "83.0",
         "81.0",
         "81.0",
         "81",
         "2"
        ],
        [
         "1",
         "Metrabs, Cams: 2,3,4",
         "83",
         "83",
         "83.0",
         "81.0",
         "81.0",
         "81",
         "2"
        ],
        [
         "2",
         "Metrabs, Cams: 6,7,8,9,10",
         "83",
         "83",
         "83.0",
         "81.0",
         "81.0",
         "81",
         "2"
        ],
        [
         "3",
         "Metrabs, Cams: 6,8,10",
         "83",
         "83",
         "83.0",
         "81.0",
         "81.0",
         "81",
         "2"
        ],
        [
         "4",
         "SimCC, Cams: 1,2,3,4,5",
         "83",
         "0",
         "0.0",
         "0.0",
         "0.0",
         "0",
         "83"
        ],
        [
         "5",
         "SimCC, Cams: 1,3,5",
         "83",
         "83",
         "83.0",
         "81.0",
         "81.0",
         "81",
         "2"
        ],
        [
         "6",
         "SimCC, Cams: 2,3,4",
         "83",
         "83",
         "83.0",
         "81.0",
         "81.0",
         "81",
         "2"
        ],
        [
         "7",
         "SimCC, Cams: 6,7,8,9,10",
         "83",
         "83",
         "83.0",
         "81.0",
         "81.0",
         "81",
         "2"
        ],
        [
         "8",
         "SimCC, Cams: 6,8,10",
         "83",
         "83",
         "83.0",
         "81.0",
         "81.0",
         "81",
         "2"
        ]
       ],
       "shape": {
        "columns": 8,
        "rows": 9
       }
      },
      "text/html": [
       "<div>\n",
       "<style scoped>\n",
       "    .dataframe tbody tr th:only-of-type {\n",
       "        vertical-align: middle;\n",
       "    }\n",
       "\n",
       "    .dataframe tbody tr th {\n",
       "        vertical-align: top;\n",
       "    }\n",
       "\n",
       "    .dataframe thead th {\n",
       "        text-align: right;\n",
       "    }\n",
       "</style>\n",
       "<table border=\"1\" class=\"dataframe\">\n",
       "  <thead>\n",
       "    <tr style=\"text-align: right;\">\n",
       "      <th></th>\n",
       "      <th>Setting</th>\n",
       "      <th>HPE</th>\n",
       "      <th>P2S</th>\n",
       "      <th>OS</th>\n",
       "      <th>murphy</th>\n",
       "      <th>murphy_omc</th>\n",
       "      <th>Successful</th>\n",
       "      <th>Failed</th>\n",
       "    </tr>\n",
       "  </thead>\n",
       "  <tbody>\n",
       "    <tr>\n",
       "      <th>0</th>\n",
       "      <td>Metrabs, Cams: 1,3,5</td>\n",
       "      <td>83</td>\n",
       "      <td>83</td>\n",
       "      <td>83.0</td>\n",
       "      <td>81.0</td>\n",
       "      <td>81.0</td>\n",
       "      <td>81</td>\n",
       "      <td>2</td>\n",
       "    </tr>\n",
       "    <tr>\n",
       "      <th>1</th>\n",
       "      <td>Metrabs, Cams: 2,3,4</td>\n",
       "      <td>83</td>\n",
       "      <td>83</td>\n",
       "      <td>83.0</td>\n",
       "      <td>81.0</td>\n",
       "      <td>81.0</td>\n",
       "      <td>81</td>\n",
       "      <td>2</td>\n",
       "    </tr>\n",
       "    <tr>\n",
       "      <th>2</th>\n",
       "      <td>Metrabs, Cams: 6,7,8,9,10</td>\n",
       "      <td>83</td>\n",
       "      <td>83</td>\n",
       "      <td>83.0</td>\n",
       "      <td>81.0</td>\n",
       "      <td>81.0</td>\n",
       "      <td>81</td>\n",
       "      <td>2</td>\n",
       "    </tr>\n",
       "    <tr>\n",
       "      <th>3</th>\n",
       "      <td>Metrabs, Cams: 6,8,10</td>\n",
       "      <td>83</td>\n",
       "      <td>83</td>\n",
       "      <td>83.0</td>\n",
       "      <td>81.0</td>\n",
       "      <td>81.0</td>\n",
       "      <td>81</td>\n",
       "      <td>2</td>\n",
       "    </tr>\n",
       "    <tr>\n",
       "      <th>4</th>\n",
       "      <td>SimCC, Cams: 1,2,3,4,5</td>\n",
       "      <td>83</td>\n",
       "      <td>0</td>\n",
       "      <td>0.0</td>\n",
       "      <td>0.0</td>\n",
       "      <td>0.0</td>\n",
       "      <td>0</td>\n",
       "      <td>83</td>\n",
       "    </tr>\n",
       "    <tr>\n",
       "      <th>5</th>\n",
       "      <td>SimCC, Cams: 1,3,5</td>\n",
       "      <td>83</td>\n",
       "      <td>83</td>\n",
       "      <td>83.0</td>\n",
       "      <td>81.0</td>\n",
       "      <td>81.0</td>\n",
       "      <td>81</td>\n",
       "      <td>2</td>\n",
       "    </tr>\n",
       "    <tr>\n",
       "      <th>6</th>\n",
       "      <td>SimCC, Cams: 2,3,4</td>\n",
       "      <td>83</td>\n",
       "      <td>83</td>\n",
       "      <td>83.0</td>\n",
       "      <td>81.0</td>\n",
       "      <td>81.0</td>\n",
       "      <td>81</td>\n",
       "      <td>2</td>\n",
       "    </tr>\n",
       "    <tr>\n",
       "      <th>7</th>\n",
       "      <td>SimCC, Cams: 6,7,8,9,10</td>\n",
       "      <td>83</td>\n",
       "      <td>83</td>\n",
       "      <td>83.0</td>\n",
       "      <td>81.0</td>\n",
       "      <td>81.0</td>\n",
       "      <td>81</td>\n",
       "      <td>2</td>\n",
       "    </tr>\n",
       "    <tr>\n",
       "      <th>8</th>\n",
       "      <td>SimCC, Cams: 6,8,10</td>\n",
       "      <td>83</td>\n",
       "      <td>83</td>\n",
       "      <td>83.0</td>\n",
       "      <td>81.0</td>\n",
       "      <td>81.0</td>\n",
       "      <td>81</td>\n",
       "      <td>2</td>\n",
       "    </tr>\n",
       "  </tbody>\n",
       "</table>\n",
       "</div>"
      ],
      "text/plain": [
       "                     Setting  HPE  P2S    OS  murphy  murphy_omc  Successful  \\\n",
       "0       Metrabs, Cams: 1,3,5   83   83  83.0    81.0        81.0          81   \n",
       "1       Metrabs, Cams: 2,3,4   83   83  83.0    81.0        81.0          81   \n",
       "2  Metrabs, Cams: 6,7,8,9,10   83   83  83.0    81.0        81.0          81   \n",
       "3      Metrabs, Cams: 6,8,10   83   83  83.0    81.0        81.0          81   \n",
       "4     SimCC, Cams: 1,2,3,4,5   83    0   0.0     0.0         0.0           0   \n",
       "5         SimCC, Cams: 1,3,5   83   83  83.0    81.0        81.0          81   \n",
       "6         SimCC, Cams: 2,3,4   83   83  83.0    81.0        81.0          81   \n",
       "7    SimCC, Cams: 6,7,8,9,10   83   83  83.0    81.0        81.0          81   \n",
       "8        SimCC, Cams: 6,8,10   83   83  83.0    81.0        81.0          81   \n",
       "\n",
       "   Failed  \n",
       "0       2  \n",
       "1       2  \n",
       "2       2  \n",
       "3       2  \n",
       "4      83  \n",
       "5       2  \n",
       "6       2  \n",
       "7       2  \n",
       "8       2  "
      ]
     },
     "execution_count": 13,
     "metadata": {},
     "output_type": "execute_result"
    }
   ],
   "source": [
    "df_latex"
   ]
  },
  {
   "cell_type": "code",
   "execution_count": 14,
   "id": "593bc0d5632c317d",
   "metadata": {
    "ExecuteTime": {
     "end_time": "2024-12-31T08:49:06.883103Z",
     "start_time": "2024-12-31T08:49:06.868180Z"
    }
   },
   "outputs": [
    {
     "name": "stdout",
     "output_type": "stream",
     "text": [
      "\\begin{table}\n",
      "\\caption{Number of successful and failed trials per setting}\n",
      "\\label{tab:app:failed_trials_per_setting}\n",
      "\\begin{tabular}{llrr}\n",
      " & Setting & Successful & Failed \\\\\n",
      "0 & Metrabs, Cams: 1,3,5 & 81 & 2 \\\\\n",
      "1 & Metrabs, Cams: 2,3,4 & 81 & 2 \\\\\n",
      "2 & Metrabs, Cams: 6,7,8,9,10 & 81 & 2 \\\\\n",
      "3 & Metrabs, Cams: 6,8,10 & 81 & 2 \\\\\n",
      "4 & SimCC, Cams: 1,2,3,4,5 & 0 & 83 \\\\\n",
      "5 & SimCC, Cams: 1,3,5 & 81 & 2 \\\\\n",
      "6 & SimCC, Cams: 2,3,4 & 81 & 2 \\\\\n",
      "7 & SimCC, Cams: 6,7,8,9,10 & 81 & 2 \\\\\n",
      "8 & SimCC, Cams: 6,8,10 & 81 & 2 \\\\\n",
      "\\end{tabular}\n",
      "\\end{table}\n",
      "\n"
     ]
    }
   ],
   "source": [
    "print(df_latex[['Setting', 'Successful', 'Failed',]].style.to_latex(caption='Number of successful and failed trials per setting', label='tab:app:failed_trials_per_setting'))"
   ]
  },
  {
   "cell_type": "code",
   "execution_count": 15,
   "id": "4307856ad143623c",
   "metadata": {
    "ExecuteTime": {
     "end_time": "2024-12-31T08:50:34.074611Z",
     "start_time": "2024-12-31T08:50:34.065909Z"
    }
   },
   "outputs": [],
   "source": [
    "df_to_plot = df_failed_trials.groupby(['id_s']).sum(numeric_only=True).reset_index()[['id_s', 'success', 'fail',]].sort_values(by='fail', ascending=True)\n",
    "\n",
    "df_to_plot['id_s_name'] = df_to_plot['id_s'].apply(lambda x: get_setting_axis_name(x))"
   ]
  },
  {
   "cell_type": "code",
   "execution_count": 16,
   "id": "2353b8b1a5d19c80",
   "metadata": {
    "ExecuteTime": {
     "end_time": "2024-12-31T08:50:35.229374Z",
     "start_time": "2024-12-31T08:50:35.222813Z"
    }
   },
   "outputs": [
    {
     "data": {
      "text/plain": [
       "83"
      ]
     },
     "execution_count": 16,
     "metadata": {},
     "output_type": "execute_result"
    }
   ],
   "source": [
    "len(df_failed_trials[df_failed_trials['id_s'] == 'S001'])"
   ]
  },
  {
   "cell_type": "code",
   "execution_count": 17,
   "id": "ea322da31fd82659",
   "metadata": {
    "ExecuteTime": {
     "end_time": "2024-12-31T08:50:36.135639Z",
     "start_time": "2024-12-31T08:50:36.128153Z"
    }
   },
   "outputs": [
    {
     "data": {
      "text/plain": [
       "0    1.0\n",
       "Name: fail, dtype: float64"
      ]
     },
     "execution_count": 17,
     "metadata": {},
     "output_type": "execute_result"
    }
   ],
   "source": [
    "df_to_plot[df_to_plot['id_s'] == 'S001']['fail']/len(df_failed_trials[df_failed_trials['id_s'] == 'S001'])"
   ]
  },
  {
   "cell_type": "code",
   "execution_count": 18,
   "id": "ba8a1066a3d73a2",
   "metadata": {
    "ExecuteTime": {
     "end_time": "2024-12-31T08:50:37.698509Z",
     "start_time": "2024-12-31T08:50:37.625335Z"
    }
   },
   "outputs": [],
   "source": [
    "df_plot_rel_multi = pd.DataFrame(columns=['id_s', 'id_s_name', 'success', 'fail'])\n",
    "df_plot_rel_single = pd.DataFrame(columns=['id_s', 'id_s_name', 'success', 'fail'])\n",
    "df_plot_multi = df_to_plot[df_to_plot['id_s'].isin(idx_s_multicam)]\n",
    "df_plot_single = df_to_plot[df_to_plot['id_s'].isin(idx_s_singlecam)]\n",
    "df_temp_multi = df_plot_multi.copy()\n",
    "df_temp_single = df_plot_single.copy()\n",
    "\n",
    "for id_s in sorted(df_temp_multi['id_s'].unique()):\n",
    "    rel_fail = df_temp_multi[df_temp_multi['id_s'] == id_s]['fail'].values[0]/len(df_failed_trials[df_failed_trials['id_s'] == id_s])\n",
    "    rel_succ = df_temp_multi[df_temp_multi['id_s'] == id_s]['success'].values[0]/len(df_failed_trials[df_failed_trials['id_s'] == id_s])\n",
    "    \n",
    "    rel_fail = round(rel_fail*100, 2)\n",
    "    rel_succ = round(rel_succ*100, 2)\n",
    "\n",
    "    id_s_name =  get_setting_axis_name(id_s)\n",
    "    \n",
    "    df_new_row = pd.DataFrame({'id_s': id_s, 'id_s_name': id_s_name,  'success': rel_succ, 'fail': rel_fail}, index=[0])\n",
    "    df_plot_rel_multi = pd.concat([df_plot_rel_multi, df_new_row], ignore_index=True)\n",
    "    \n",
    "for id_s in sorted(df_temp_single['id_s'].unique()):\n",
    "    rel_fail = df_temp_single[df_temp_single['id_s'] == id_s]['fail'].values[0]/len(df_failed_trials[df_failed_trials['id_s'] == id_s])\n",
    "    rel_succ = df_temp_single[df_temp_single['id_s'] == id_s]['success'].values[0]/len(df_failed_trials[df_failed_trials['id_s'] == id_s])\n",
    "    \n",
    "    rel_fail = round(rel_fail*100, 2)\n",
    "    rel_succ = round(rel_succ*100, 2)\n",
    "\n",
    "    id_s_name =  get_setting_axis_name(id_s)\n",
    "    \n",
    "    df_new_row = pd.DataFrame({'id_s': id_s, 'id_s_name': id_s_name,  'success': rel_succ, 'fail': rel_fail}, index=[0])\n",
    "    df_plot_rel_single = pd.concat([df_plot_rel_single, df_new_row], ignore_index=True)"
   ]
  },
  {
   "cell_type": "code",
   "execution_count": 19,
   "id": "dcae55ae7b0f7f94",
   "metadata": {
    "ExecuteTime": {
     "end_time": "2024-12-31T08:50:41.140663Z",
     "start_time": "2024-12-31T08:50:39.280167Z"
    }
   },
   "outputs": [],
   "source": [
    "fig = px.bar(df_plot_rel_multi.sort_values(by='id_s'), x='id_s_name', y=['success', 'fail'], barmode='group', title='<b>Successful and failed multi-cam trials<b>', template = 'plotly')\n",
    "fig.update_layout(height=600, width=1000,\n",
    "                  xaxis_title='Setting ID', yaxis_title='% of trials', legend_title='Outcome')\n",
    "dir = os.path.join(root_stat, '04_failed_trials', '02_plots')\n",
    "\n",
    "#fig.show()\n",
    "os.makedirs(dir, exist_ok=True)\n",
    "fig.write_html(os.path.join(dir, 'rel_failed_trials_multicam.html'))\n",
    "fig.write_image(os.path.join(dir, 'rel_failed_trials_multicam.svg'), scale=5)\n",
    "fig.write_image(os.path.join(dir, 'rel_failed_trials_multicam.png'), scale=5)"
   ]
  },
  {
   "cell_type": "code",
   "execution_count": 20,
   "id": "a4410ff145d3502c",
   "metadata": {
    "ExecuteTime": {
     "end_time": "2024-12-31T08:50:42.312490Z",
     "start_time": "2024-12-31T08:50:41.979209Z"
    }
   },
   "outputs": [],
   "source": [
    "fig = px.bar(df_plot_rel_single.sort_values(by='id_s'), x='id_s_name', y=['success', 'fail'], barmode='group', title='<b>Successful and failed single-cam trials<b>', template = 'plotly')\n",
    "fig.update_layout(height=600, width=1000,\n",
    "                  xaxis_title='Setting ID', yaxis_title='% of trials', legend_title='Outcome')\n",
    "dir = os.path.join(root_stat, '04_failed_trials', '02_plots')\n",
    "\n",
    "#fig.show()\n",
    "os.makedirs(dir, exist_ok=True)\n",
    "fig.write_html(os.path.join(dir, 'rel_failed_trials_singlecam.html'))\n",
    "fig.write_image(os.path.join(dir, 'rel_failed_trials_singlecam.svg'), scale=5)\n",
    "fig.write_image(os.path.join(dir, 'rel_failed_trials_singlecam.png'), scale=5)"
   ]
  },
  {
   "cell_type": "code",
   "execution_count": 21,
   "id": "a7e7cc978d5f8fdd",
   "metadata": {
    "ExecuteTime": {
     "end_time": "2024-12-31T08:52:02.338697Z",
     "start_time": "2024-12-31T08:52:01.979614Z"
    }
   },
   "outputs": [
    {
     "data": {
      "application/vnd.plotly.v1+json": {
       "config": {
        "plotlyServerURL": "https://plot.ly"
       },
       "data": [
        {
         "alignmentgroup": "True",
         "hovertemplate": "variable=success<br>id_s_name=%{x}<br>value=%{y}<extra></extra>",
         "legendgroup": "success",
         "marker": {
          "color": "#636efa",
          "pattern": {
           "shape": ""
          }
         },
         "name": "success",
         "offsetgroup": "success",
         "orientation": "v",
         "showlegend": true,
         "textposition": "auto",
         "type": "bar",
         "x": [
          "SimCC, Cams: 1,2,3,4,5",
          "SimCC, Cams: 6,7,8,9,10",
          "Metrabs, Cams: 6,7,8,9,10",
          "SimCC, Cams: 1,3,5",
          "Metrabs, Cams: 1,3,5",
          "SimCC, Cams: 2,3,4",
          "Metrabs, Cams: 2,3,4",
          "SimCC, Cams: 6,8,10",
          "Metrabs, Cams: 6,8,10"
         ],
         "xaxis": "x",
         "y": [
          0,
          97.59,
          97.59,
          97.59,
          97.59,
          97.59,
          97.59,
          97.59,
          97.59
         ],
         "yaxis": "y"
        },
        {
         "alignmentgroup": "True",
         "hovertemplate": "variable=fail<br>id_s_name=%{x}<br>value=%{y}<extra></extra>",
         "legendgroup": "fail",
         "marker": {
          "color": "#EF553B",
          "pattern": {
           "shape": ""
          }
         },
         "name": "fail",
         "offsetgroup": "fail",
         "orientation": "v",
         "showlegend": true,
         "textposition": "auto",
         "type": "bar",
         "x": [
          "SimCC, Cams: 1,2,3,4,5",
          "SimCC, Cams: 6,7,8,9,10",
          "Metrabs, Cams: 6,7,8,9,10",
          "SimCC, Cams: 1,3,5",
          "Metrabs, Cams: 1,3,5",
          "SimCC, Cams: 2,3,4",
          "Metrabs, Cams: 2,3,4",
          "SimCC, Cams: 6,8,10",
          "Metrabs, Cams: 6,8,10"
         ],
         "xaxis": "x",
         "y": [
          100,
          2.41,
          2.41,
          2.41,
          2.41,
          2.41,
          2.41,
          2.41,
          2.41
         ],
         "yaxis": "y"
        }
       ],
       "layout": {
        "barmode": "group",
        "height": 500,
        "legend": {
         "title": {
          "text": "Outcome"
         },
         "tracegroupgap": 0
        },
        "template": {
         "data": {
          "bar": [
           {
            "error_x": {
             "color": "#2a3f5f"
            },
            "error_y": {
             "color": "#2a3f5f"
            },
            "marker": {
             "line": {
              "color": "#E5ECF6",
              "width": 0.5
             },
             "pattern": {
              "fillmode": "overlay",
              "size": 10,
              "solidity": 0.2
             }
            },
            "type": "bar"
           }
          ],
          "barpolar": [
           {
            "marker": {
             "line": {
              "color": "#E5ECF6",
              "width": 0.5
             },
             "pattern": {
              "fillmode": "overlay",
              "size": 10,
              "solidity": 0.2
             }
            },
            "type": "barpolar"
           }
          ],
          "carpet": [
           {
            "aaxis": {
             "endlinecolor": "#2a3f5f",
             "gridcolor": "white",
             "linecolor": "white",
             "minorgridcolor": "white",
             "startlinecolor": "#2a3f5f"
            },
            "baxis": {
             "endlinecolor": "#2a3f5f",
             "gridcolor": "white",
             "linecolor": "white",
             "minorgridcolor": "white",
             "startlinecolor": "#2a3f5f"
            },
            "type": "carpet"
           }
          ],
          "choropleth": [
           {
            "colorbar": {
             "outlinewidth": 0,
             "ticks": ""
            },
            "type": "choropleth"
           }
          ],
          "contour": [
           {
            "colorbar": {
             "outlinewidth": 0,
             "ticks": ""
            },
            "colorscale": [
             [
              0,
              "#0d0887"
             ],
             [
              0.1111111111111111,
              "#46039f"
             ],
             [
              0.2222222222222222,
              "#7201a8"
             ],
             [
              0.3333333333333333,
              "#9c179e"
             ],
             [
              0.4444444444444444,
              "#bd3786"
             ],
             [
              0.5555555555555556,
              "#d8576b"
             ],
             [
              0.6666666666666666,
              "#ed7953"
             ],
             [
              0.7777777777777778,
              "#fb9f3a"
             ],
             [
              0.8888888888888888,
              "#fdca26"
             ],
             [
              1,
              "#f0f921"
             ]
            ],
            "type": "contour"
           }
          ],
          "contourcarpet": [
           {
            "colorbar": {
             "outlinewidth": 0,
             "ticks": ""
            },
            "type": "contourcarpet"
           }
          ],
          "heatmap": [
           {
            "colorbar": {
             "outlinewidth": 0,
             "ticks": ""
            },
            "colorscale": [
             [
              0,
              "#0d0887"
             ],
             [
              0.1111111111111111,
              "#46039f"
             ],
             [
              0.2222222222222222,
              "#7201a8"
             ],
             [
              0.3333333333333333,
              "#9c179e"
             ],
             [
              0.4444444444444444,
              "#bd3786"
             ],
             [
              0.5555555555555556,
              "#d8576b"
             ],
             [
              0.6666666666666666,
              "#ed7953"
             ],
             [
              0.7777777777777778,
              "#fb9f3a"
             ],
             [
              0.8888888888888888,
              "#fdca26"
             ],
             [
              1,
              "#f0f921"
             ]
            ],
            "type": "heatmap"
           }
          ],
          "heatmapgl": [
           {
            "colorbar": {
             "outlinewidth": 0,
             "ticks": ""
            },
            "colorscale": [
             [
              0,
              "#0d0887"
             ],
             [
              0.1111111111111111,
              "#46039f"
             ],
             [
              0.2222222222222222,
              "#7201a8"
             ],
             [
              0.3333333333333333,
              "#9c179e"
             ],
             [
              0.4444444444444444,
              "#bd3786"
             ],
             [
              0.5555555555555556,
              "#d8576b"
             ],
             [
              0.6666666666666666,
              "#ed7953"
             ],
             [
              0.7777777777777778,
              "#fb9f3a"
             ],
             [
              0.8888888888888888,
              "#fdca26"
             ],
             [
              1,
              "#f0f921"
             ]
            ],
            "type": "heatmapgl"
           }
          ],
          "histogram": [
           {
            "marker": {
             "pattern": {
              "fillmode": "overlay",
              "size": 10,
              "solidity": 0.2
             }
            },
            "type": "histogram"
           }
          ],
          "histogram2d": [
           {
            "colorbar": {
             "outlinewidth": 0,
             "ticks": ""
            },
            "colorscale": [
             [
              0,
              "#0d0887"
             ],
             [
              0.1111111111111111,
              "#46039f"
             ],
             [
              0.2222222222222222,
              "#7201a8"
             ],
             [
              0.3333333333333333,
              "#9c179e"
             ],
             [
              0.4444444444444444,
              "#bd3786"
             ],
             [
              0.5555555555555556,
              "#d8576b"
             ],
             [
              0.6666666666666666,
              "#ed7953"
             ],
             [
              0.7777777777777778,
              "#fb9f3a"
             ],
             [
              0.8888888888888888,
              "#fdca26"
             ],
             [
              1,
              "#f0f921"
             ]
            ],
            "type": "histogram2d"
           }
          ],
          "histogram2dcontour": [
           {
            "colorbar": {
             "outlinewidth": 0,
             "ticks": ""
            },
            "colorscale": [
             [
              0,
              "#0d0887"
             ],
             [
              0.1111111111111111,
              "#46039f"
             ],
             [
              0.2222222222222222,
              "#7201a8"
             ],
             [
              0.3333333333333333,
              "#9c179e"
             ],
             [
              0.4444444444444444,
              "#bd3786"
             ],
             [
              0.5555555555555556,
              "#d8576b"
             ],
             [
              0.6666666666666666,
              "#ed7953"
             ],
             [
              0.7777777777777778,
              "#fb9f3a"
             ],
             [
              0.8888888888888888,
              "#fdca26"
             ],
             [
              1,
              "#f0f921"
             ]
            ],
            "type": "histogram2dcontour"
           }
          ],
          "mesh3d": [
           {
            "colorbar": {
             "outlinewidth": 0,
             "ticks": ""
            },
            "type": "mesh3d"
           }
          ],
          "parcoords": [
           {
            "line": {
             "colorbar": {
              "outlinewidth": 0,
              "ticks": ""
             }
            },
            "type": "parcoords"
           }
          ],
          "pie": [
           {
            "automargin": true,
            "type": "pie"
           }
          ],
          "scatter": [
           {
            "fillpattern": {
             "fillmode": "overlay",
             "size": 10,
             "solidity": 0.2
            },
            "type": "scatter"
           }
          ],
          "scatter3d": [
           {
            "line": {
             "colorbar": {
              "outlinewidth": 0,
              "ticks": ""
             }
            },
            "marker": {
             "colorbar": {
              "outlinewidth": 0,
              "ticks": ""
             }
            },
            "type": "scatter3d"
           }
          ],
          "scattercarpet": [
           {
            "marker": {
             "colorbar": {
              "outlinewidth": 0,
              "ticks": ""
             }
            },
            "type": "scattercarpet"
           }
          ],
          "scattergeo": [
           {
            "marker": {
             "colorbar": {
              "outlinewidth": 0,
              "ticks": ""
             }
            },
            "type": "scattergeo"
           }
          ],
          "scattergl": [
           {
            "marker": {
             "colorbar": {
              "outlinewidth": 0,
              "ticks": ""
             }
            },
            "type": "scattergl"
           }
          ],
          "scattermapbox": [
           {
            "marker": {
             "colorbar": {
              "outlinewidth": 0,
              "ticks": ""
             }
            },
            "type": "scattermapbox"
           }
          ],
          "scatterpolar": [
           {
            "marker": {
             "colorbar": {
              "outlinewidth": 0,
              "ticks": ""
             }
            },
            "type": "scatterpolar"
           }
          ],
          "scatterpolargl": [
           {
            "marker": {
             "colorbar": {
              "outlinewidth": 0,
              "ticks": ""
             }
            },
            "type": "scatterpolargl"
           }
          ],
          "scatterternary": [
           {
            "marker": {
             "colorbar": {
              "outlinewidth": 0,
              "ticks": ""
             }
            },
            "type": "scatterternary"
           }
          ],
          "surface": [
           {
            "colorbar": {
             "outlinewidth": 0,
             "ticks": ""
            },
            "colorscale": [
             [
              0,
              "#0d0887"
             ],
             [
              0.1111111111111111,
              "#46039f"
             ],
             [
              0.2222222222222222,
              "#7201a8"
             ],
             [
              0.3333333333333333,
              "#9c179e"
             ],
             [
              0.4444444444444444,
              "#bd3786"
             ],
             [
              0.5555555555555556,
              "#d8576b"
             ],
             [
              0.6666666666666666,
              "#ed7953"
             ],
             [
              0.7777777777777778,
              "#fb9f3a"
             ],
             [
              0.8888888888888888,
              "#fdca26"
             ],
             [
              1,
              "#f0f921"
             ]
            ],
            "type": "surface"
           }
          ],
          "table": [
           {
            "cells": {
             "fill": {
              "color": "#EBF0F8"
             },
             "line": {
              "color": "white"
             }
            },
            "header": {
             "fill": {
              "color": "#C8D4E3"
             },
             "line": {
              "color": "white"
             }
            },
            "type": "table"
           }
          ]
         },
         "layout": {
          "annotationdefaults": {
           "arrowcolor": "#2a3f5f",
           "arrowhead": 0,
           "arrowwidth": 1
          },
          "autotypenumbers": "strict",
          "coloraxis": {
           "colorbar": {
            "outlinewidth": 0,
            "ticks": ""
           }
          },
          "colorscale": {
           "diverging": [
            [
             0,
             "#8e0152"
            ],
            [
             0.1,
             "#c51b7d"
            ],
            [
             0.2,
             "#de77ae"
            ],
            [
             0.3,
             "#f1b6da"
            ],
            [
             0.4,
             "#fde0ef"
            ],
            [
             0.5,
             "#f7f7f7"
            ],
            [
             0.6,
             "#e6f5d0"
            ],
            [
             0.7,
             "#b8e186"
            ],
            [
             0.8,
             "#7fbc41"
            ],
            [
             0.9,
             "#4d9221"
            ],
            [
             1,
             "#276419"
            ]
           ],
           "sequential": [
            [
             0,
             "#0d0887"
            ],
            [
             0.1111111111111111,
             "#46039f"
            ],
            [
             0.2222222222222222,
             "#7201a8"
            ],
            [
             0.3333333333333333,
             "#9c179e"
            ],
            [
             0.4444444444444444,
             "#bd3786"
            ],
            [
             0.5555555555555556,
             "#d8576b"
            ],
            [
             0.6666666666666666,
             "#ed7953"
            ],
            [
             0.7777777777777778,
             "#fb9f3a"
            ],
            [
             0.8888888888888888,
             "#fdca26"
            ],
            [
             1,
             "#f0f921"
            ]
           ],
           "sequentialminus": [
            [
             0,
             "#0d0887"
            ],
            [
             0.1111111111111111,
             "#46039f"
            ],
            [
             0.2222222222222222,
             "#7201a8"
            ],
            [
             0.3333333333333333,
             "#9c179e"
            ],
            [
             0.4444444444444444,
             "#bd3786"
            ],
            [
             0.5555555555555556,
             "#d8576b"
            ],
            [
             0.6666666666666666,
             "#ed7953"
            ],
            [
             0.7777777777777778,
             "#fb9f3a"
            ],
            [
             0.8888888888888888,
             "#fdca26"
            ],
            [
             1,
             "#f0f921"
            ]
           ]
          },
          "colorway": [
           "#636efa",
           "#EF553B",
           "#00cc96",
           "#ab63fa",
           "#FFA15A",
           "#19d3f3",
           "#FF6692",
           "#B6E880",
           "#FF97FF",
           "#FECB52"
          ],
          "font": {
           "color": "#2a3f5f"
          },
          "geo": {
           "bgcolor": "white",
           "lakecolor": "white",
           "landcolor": "#E5ECF6",
           "showlakes": true,
           "showland": true,
           "subunitcolor": "white"
          },
          "hoverlabel": {
           "align": "left"
          },
          "hovermode": "closest",
          "mapbox": {
           "style": "light"
          },
          "paper_bgcolor": "white",
          "plot_bgcolor": "#E5ECF6",
          "polar": {
           "angularaxis": {
            "gridcolor": "white",
            "linecolor": "white",
            "ticks": ""
           },
           "bgcolor": "#E5ECF6",
           "radialaxis": {
            "gridcolor": "white",
            "linecolor": "white",
            "ticks": ""
           }
          },
          "scene": {
           "xaxis": {
            "backgroundcolor": "#E5ECF6",
            "gridcolor": "white",
            "gridwidth": 2,
            "linecolor": "white",
            "showbackground": true,
            "ticks": "",
            "zerolinecolor": "white"
           },
           "yaxis": {
            "backgroundcolor": "#E5ECF6",
            "gridcolor": "white",
            "gridwidth": 2,
            "linecolor": "white",
            "showbackground": true,
            "ticks": "",
            "zerolinecolor": "white"
           },
           "zaxis": {
            "backgroundcolor": "#E5ECF6",
            "gridcolor": "white",
            "gridwidth": 2,
            "linecolor": "white",
            "showbackground": true,
            "ticks": "",
            "zerolinecolor": "white"
           }
          },
          "shapedefaults": {
           "line": {
            "color": "#2a3f5f"
           }
          },
          "ternary": {
           "aaxis": {
            "gridcolor": "white",
            "linecolor": "white",
            "ticks": ""
           },
           "baxis": {
            "gridcolor": "white",
            "linecolor": "white",
            "ticks": ""
           },
           "bgcolor": "#E5ECF6",
           "caxis": {
            "gridcolor": "white",
            "linecolor": "white",
            "ticks": ""
           }
          },
          "title": {
           "x": 0.05
          },
          "xaxis": {
           "automargin": true,
           "gridcolor": "white",
           "linecolor": "white",
           "ticks": "",
           "title": {
            "standoff": 15
           },
           "zerolinecolor": "white",
           "zerolinewidth": 2
          },
          "yaxis": {
           "automargin": true,
           "gridcolor": "white",
           "linecolor": "white",
           "ticks": "",
           "title": {
            "standoff": 15
           },
           "zerolinecolor": "white",
           "zerolinewidth": 2
          }
         }
        },
        "title": {
         "font": {
          "size": 24
         },
         "text": "<b>Percentage of successful and failed trials<b>"
        },
        "width": 800,
        "xaxis": {
         "anchor": "y",
         "domain": [
          0,
          1
         ],
         "title": {
          "font": {
           "size": 20
          },
          "text": "Setting ID"
         }
        },
        "yaxis": {
         "anchor": "x",
         "domain": [
          0,
          1
         ],
         "title": {
          "font": {
           "size": 20
          },
          "text": "% of trials"
         }
        }
       }
      }
     },
     "metadata": {},
     "output_type": "display_data"
    }
   ],
   "source": [
    "df_plot_rel = pd.concat([df_plot_rel_multi, df_plot_rel_single], ignore_index=True)\n",
    "\n",
    "fig = px.bar(df_plot_rel.sort_values(by='id_s'), x='id_s_name', y=['success', 'fail'], barmode='group', title='<b>Percentage of successful and failed trials<b>', template = 'plotly')\n",
    "fig.update_layout(title = dict(text = '<b>Percentage of successful and failed trials<b>', font=dict(size=24)),\n",
    "                  xaxis_title=dict(text = 'Setting ID', font=dict(size=20)), \n",
    "                  yaxis_title=dict(text = '% of trials', font=dict(size=20)), \n",
    "                  legend_title='Outcome',\n",
    "                    height=500, width=800,)\n",
    "dir = os.path.join(root_stat, '04_failed_trials', '02_plots')\n",
    "\n",
    "fig.show()\n",
    "os.makedirs(dir, exist_ok=True)\n",
    "fig.write_html(os.path.join(dir, 'rel_failed_trials_per_setting.html'))\n",
    "fig.write_image(os.path.join(dir, 'rel_failed_trials_per_setting.svg'), scale=5)\n",
    "fig.write_image(os.path.join(dir, '03_rel_failed_trials_per_setting.png'), scale=5)"
   ]
  },
  {
   "cell_type": "code",
   "execution_count": 22,
   "id": "63280bafa1a647cf",
   "metadata": {
    "ExecuteTime": {
     "end_time": "2024-12-31T08:52:26.625601Z",
     "start_time": "2024-12-31T08:52:26.621610Z"
    }
   },
   "outputs": [],
   "source": [
    "df_plot_rel.drop(columns=['id_s'], inplace=True)"
   ]
  },
  {
   "cell_type": "code",
   "execution_count": 23,
   "id": "f1399c423bdb2a1e",
   "metadata": {
    "ExecuteTime": {
     "end_time": "2024-12-31T08:53:34.947016Z",
     "start_time": "2024-12-31T08:53:34.942891Z"
    }
   },
   "outputs": [],
   "source": [
    "df_plot_rel.rename(columns={'id_s_name': 'Setting', 'success': 'Successful', 'fail': 'Failed'}, inplace=True)"
   ]
  },
  {
   "cell_type": "code",
   "execution_count": 24,
   "id": "ecdc49ab56c324b1",
   "metadata": {
    "ExecuteTime": {
     "end_time": "2024-12-31T08:53:58.267866Z",
     "start_time": "2024-12-31T08:53:58.260995Z"
    }
   },
   "outputs": [
    {
     "name": "stdout",
     "output_type": "stream",
     "text": [
      "\\begin{table}\n",
      "\\caption{Percentage of successful and failed trials per setting}\n",
      "\\label{tab:res:rel_num_failed_trial}\n",
      "\\begin{tabular}{llrr}\n",
      " & Setting & Successful & Failed \\\\\n",
      "0 & SimCC, Cams: 1,2,3,4,5 & 0.000000 & 100.000000 \\\\\n",
      "1 & SimCC, Cams: 6,7,8,9,10 & 97.590000 & 2.410000 \\\\\n",
      "2 & Metrabs, Cams: 6,7,8,9,10 & 97.590000 & 2.410000 \\\\\n",
      "3 & SimCC, Cams: 1,3,5 & 97.590000 & 2.410000 \\\\\n",
      "4 & Metrabs, Cams: 1,3,5 & 97.590000 & 2.410000 \\\\\n",
      "5 & SimCC, Cams: 2,3,4 & 97.590000 & 2.410000 \\\\\n",
      "6 & Metrabs, Cams: 2,3,4 & 97.590000 & 2.410000 \\\\\n",
      "7 & SimCC, Cams: 6,8,10 & 97.590000 & 2.410000 \\\\\n",
      "8 & Metrabs, Cams: 6,8,10 & 97.590000 & 2.410000 \\\\\n",
      "\\end{tabular}\n",
      "\\end{table}\n",
      "\n"
     ]
    }
   ],
   "source": [
    "print(df_plot_rel.style.to_latex(caption='Percentage of successful and failed trials per setting', label='tab:res:rel_num_failed_trial'))"
   ]
  },
  {
   "cell_type": "code",
   "execution_count": 25,
   "id": "2ccc9158726f5e61",
   "metadata": {
    "ExecuteTime": {
     "end_time": "2024-12-28T20:14:22.858596100Z",
     "start_time": "2024-12-22T10:06:00.344879Z"
    }
   },
   "outputs": [
    {
     "data": {
      "text/plain": [
       "'\\x08egin{tabular}{lrr}\\n id_s & success & fail \\\\\\nS001 & 94.55 & 5.45 \\\\\\nS002 & 88.83 & 11.17 \\\\\\nS003 & 90.76 & 9.24 \\\\\\nS004 & 6.52 & 93.48 \\\\\\nS005 & 34.94 & 65.06 \\\\\\nS006 & 47.14 & 52.86 \\\\\\nS007 & 51.04 & 48.96 \\\\\\nS008 & 54.16 & 45.84 \\\\\\nS009 & 48.37 & 51.63 \\\\\\nS010 & 0.54 & 99.46 \\\\\\nS011 & 19.57 & 80.43 \\\\\\nS012 & 10.33 & 89.67 \\\\\\nS013 & 24.29 & 75.71 \\\\\\nS014 & 29.74 & 70.26 \\\\\\nS015 & 46.82 & 53.18 \\\\\\nS016 & 28.46 & 71.54 \\\\\\nS017 & 96.62 & 3.38 \\\\\\nS018 & 96.62 & 3.38 \\\\\\nS019 & 96.49 & 3.51 \\\\\\nS020 & 96.49 & 3.51 \\\\\\nS021 & 96.49 & 3.51 \\\\\\nS022 & 96.49 & 3.51 \\\\\\nS023 & 93.26 & 6.74 \\\\\\nS024 & 93.26 & 6.74 \\\\\\nS025 & 89.13 & 10.87 \\\\\\nS026 & 89.13 & 10.87 \\\\\\n\\\\end{tabular}\\n\\n'"
      ]
     },
     "execution_count": 25,
     "metadata": {},
     "output_type": "execute_result"
    }
   ],
   "source": [
    "\"\"\"\\begin{tabular}{lrr}\n",
    " id_s & success & fail \\\\\n",
    "S001 & 94.55 & 5.45 \\\\\n",
    "S002 & 88.83 & 11.17 \\\\\n",
    "S003 & 90.76 & 9.24 \\\\\n",
    "S004 & 6.52 & 93.48 \\\\\n",
    "S005 & 34.94 & 65.06 \\\\\n",
    "S006 & 47.14 & 52.86 \\\\\n",
    "S007 & 51.04 & 48.96 \\\\\n",
    "S008 & 54.16 & 45.84 \\\\\n",
    "S009 & 48.37 & 51.63 \\\\\n",
    "S010 & 0.54 & 99.46 \\\\\n",
    "S011 & 19.57 & 80.43 \\\\\n",
    "S012 & 10.33 & 89.67 \\\\\n",
    "S013 & 24.29 & 75.71 \\\\\n",
    "S014 & 29.74 & 70.26 \\\\\n",
    "S015 & 46.82 & 53.18 \\\\\n",
    "S016 & 28.46 & 71.54 \\\\\n",
    "S017 & 96.62 & 3.38 \\\\\n",
    "S018 & 96.62 & 3.38 \\\\\n",
    "S019 & 96.49 & 3.51 \\\\\n",
    "S020 & 96.49 & 3.51 \\\\\n",
    "S021 & 96.49 & 3.51 \\\\\n",
    "S022 & 96.49 & 3.51 \\\\\n",
    "S023 & 93.26 & 6.74 \\\\\n",
    "S024 & 93.26 & 6.74 \\\\\n",
    "S025 & 89.13 & 10.87 \\\\\n",
    "S026 & 89.13 & 10.87 \\\\\n",
    "\\end{tabular}\n",
    "\n",
    "\"\"\""
   ]
  },
  {
   "cell_type": "code",
   "execution_count": 21,
   "id": "7009f70d9aa0fda7",
   "metadata": {
    "ExecuteTime": {
     "end_time": "2024-12-28T20:14:22.858596100Z",
     "start_time": "2024-12-22T10:06:00.397729Z"
    }
   },
   "outputs": [
    {
     "name": "stdout",
     "output_type": "stream",
     "text": [
      "\\begin{tabular}{lllrr}\n",
      " & id_s & id_s_name & success & fail \\\\\n",
      "0 & S001 & SimCC, Cams: 1,2,3,4,5 & 94.550000 & 5.450000 \\\\\n",
      "1 & S002 & Metrabs, Cams: 1,2,3,4,5 & 88.830000 & 11.170000 \\\\\n",
      "2 & S003 & SimCC, Cams: 6,7,8,9,10 & 90.760000 & 9.240000 \\\\\n",
      "3 & S004 & Metrabs, Cams: 6,7,8,9,10 & 6.520000 & 93.480000 \\\\\n",
      "4 & S005 & SimCC, Cams: 1,3,5 & 34.940000 & 65.060000 \\\\\n",
      "5 & S006 & Metrabs, Cams: 1,3,5 & 47.140000 & 52.860000 \\\\\n",
      "6 & S007 & SimCC, Cams: 2,3,4 & 51.040000 & 48.960000 \\\\\n",
      "7 & S008 & Metrabs, Cams: 2,3,4 & 54.160000 & 45.840000 \\\\\n",
      "8 & S009 & SimCC, Cams: 6,8,10 & 48.370000 & 51.630000 \\\\\n",
      "9 & S010 & Metrabs, Cams: 6,8,10 & 0.540000 & 99.460000 \\\\\n",
      "10 & S011 & SimCC, Cams: 7,8,9 & 19.570000 & 80.430000 \\\\\n",
      "11 & S012 & Metrabs, Cams: 7,8,9 & 10.330000 & 89.670000 \\\\\n",
      "12 & S013 & SimCC, Cams: 2,4 & 24.290000 & 75.710000 \\\\\n",
      "13 & S014 & Metrabs, Cams: 2,4 & 29.740000 & 70.260000 \\\\\n",
      "14 & S015 & SimCC, Cams: 7,9 & 46.820000 & 53.180000 \\\\\n",
      "15 & S016 & Metrabs, Cams: 7,9 & 28.460000 & 71.540000 \\\\\n",
      "16 & S017 & Single, Cam: 1, filt & 96.620000 & 3.380000 \\\\\n",
      "17 & S018 & Single, Cam: 1, unfilt & 96.620000 & 3.380000 \\\\\n",
      "\\end{tabular}\n",
      "\n"
     ]
    }
   ],
   "source": [
    "print(df_plot_rel.style.to_latex())"
   ]
  },
  {
   "cell_type": "code",
   "execution_count": 22,
   "id": "723bdb07582cc6e5",
   "metadata": {
    "ExecuteTime": {
     "end_time": "2024-12-28T20:14:22.859407600Z",
     "start_time": "2024-12-22T10:06:00.475644Z"
    }
   },
   "outputs": [
    {
     "data": {
      "text/html": [
       "<div>\n",
       "<style scoped>\n",
       "    .dataframe tbody tr th:only-of-type {\n",
       "        vertical-align: middle;\n",
       "    }\n",
       "\n",
       "    .dataframe tbody tr th {\n",
       "        vertical-align: top;\n",
       "    }\n",
       "\n",
       "    .dataframe thead th {\n",
       "        text-align: right;\n",
       "    }\n",
       "</style>\n",
       "<table border=\"1\" class=\"dataframe\">\n",
       "  <thead>\n",
       "    <tr style=\"text-align: right;\">\n",
       "      <th></th>\n",
       "      <th>id_s</th>\n",
       "      <th>success</th>\n",
       "      <th>fail</th>\n",
       "      <th>id_s_name</th>\n",
       "    </tr>\n",
       "  </thead>\n",
       "  <tbody>\n",
       "    <tr>\n",
       "      <th>2</th>\n",
       "      <td>S003</td>\n",
       "      <td>167</td>\n",
       "      <td>17</td>\n",
       "      <td>SimCC, Cams: 6,7,8,9,10</td>\n",
       "    </tr>\n",
       "    <tr>\n",
       "      <th>23</th>\n",
       "      <td>S024</td>\n",
       "      <td>249</td>\n",
       "      <td>18</td>\n",
       "      <td>Single, Cam: 7, unfilt</td>\n",
       "    </tr>\n",
       "    <tr>\n",
       "      <th>22</th>\n",
       "      <td>S023</td>\n",
       "      <td>249</td>\n",
       "      <td>18</td>\n",
       "      <td>Single, Cam: 7, filt</td>\n",
       "    </tr>\n",
       "    <tr>\n",
       "      <th>25</th>\n",
       "      <td>S026</td>\n",
       "      <td>164</td>\n",
       "      <td>20</td>\n",
       "      <td>Single, Cam: 8, unfilt</td>\n",
       "    </tr>\n",
       "    <tr>\n",
       "      <th>24</th>\n",
       "      <td>S025</td>\n",
       "      <td>164</td>\n",
       "      <td>20</td>\n",
       "      <td>Single, Cam: 8, filt</td>\n",
       "    </tr>\n",
       "    <tr>\n",
       "      <th>17</th>\n",
       "      <td>S018</td>\n",
       "      <td>744</td>\n",
       "      <td>26</td>\n",
       "      <td>Single, Cam: 1, unfilt</td>\n",
       "    </tr>\n",
       "    <tr>\n",
       "      <th>16</th>\n",
       "      <td>S017</td>\n",
       "      <td>744</td>\n",
       "      <td>26</td>\n",
       "      <td>Single, Cam: 1, filt</td>\n",
       "    </tr>\n",
       "    <tr>\n",
       "      <th>21</th>\n",
       "      <td>S022</td>\n",
       "      <td>743</td>\n",
       "      <td>27</td>\n",
       "      <td>Single, Cam: 3, unfilt</td>\n",
       "    </tr>\n",
       "    <tr>\n",
       "      <th>20</th>\n",
       "      <td>S021</td>\n",
       "      <td>743</td>\n",
       "      <td>27</td>\n",
       "      <td>Single, Cam: 3, filt</td>\n",
       "    </tr>\n",
       "    <tr>\n",
       "      <th>19</th>\n",
       "      <td>S020</td>\n",
       "      <td>743</td>\n",
       "      <td>27</td>\n",
       "      <td>Single, Cam: 2, unfilt</td>\n",
       "    </tr>\n",
       "    <tr>\n",
       "      <th>18</th>\n",
       "      <td>S019</td>\n",
       "      <td>743</td>\n",
       "      <td>27</td>\n",
       "      <td>Single, Cam: 2, filt</td>\n",
       "    </tr>\n",
       "    <tr>\n",
       "      <th>0</th>\n",
       "      <td>S001</td>\n",
       "      <td>728</td>\n",
       "      <td>42</td>\n",
       "      <td>SimCC, Cams: 1,2,3,4,5</td>\n",
       "    </tr>\n",
       "    <tr>\n",
       "      <th>1</th>\n",
       "      <td>S002</td>\n",
       "      <td>684</td>\n",
       "      <td>86</td>\n",
       "      <td>Metrabs, Cams: 1,2,3,4,5</td>\n",
       "    </tr>\n",
       "    <tr>\n",
       "      <th>8</th>\n",
       "      <td>S009</td>\n",
       "      <td>89</td>\n",
       "      <td>95</td>\n",
       "      <td>SimCC, Cams: 6,8,10</td>\n",
       "    </tr>\n",
       "    <tr>\n",
       "      <th>14</th>\n",
       "      <td>S015</td>\n",
       "      <td>125</td>\n",
       "      <td>142</td>\n",
       "      <td>SimCC, Cams: 7,9</td>\n",
       "    </tr>\n",
       "    <tr>\n",
       "      <th>10</th>\n",
       "      <td>S011</td>\n",
       "      <td>36</td>\n",
       "      <td>148</td>\n",
       "      <td>SimCC, Cams: 7,8,9</td>\n",
       "    </tr>\n",
       "    <tr>\n",
       "      <th>11</th>\n",
       "      <td>S012</td>\n",
       "      <td>19</td>\n",
       "      <td>165</td>\n",
       "      <td>Metrabs, Cams: 7,8,9</td>\n",
       "    </tr>\n",
       "    <tr>\n",
       "      <th>3</th>\n",
       "      <td>S004</td>\n",
       "      <td>12</td>\n",
       "      <td>172</td>\n",
       "      <td>Metrabs, Cams: 6,7,8,9,10</td>\n",
       "    </tr>\n",
       "    <tr>\n",
       "      <th>9</th>\n",
       "      <td>S010</td>\n",
       "      <td>1</td>\n",
       "      <td>183</td>\n",
       "      <td>Metrabs, Cams: 6,8,10</td>\n",
       "    </tr>\n",
       "    <tr>\n",
       "      <th>15</th>\n",
       "      <td>S016</td>\n",
       "      <td>76</td>\n",
       "      <td>191</td>\n",
       "      <td>Metrabs, Cams: 7,9</td>\n",
       "    </tr>\n",
       "    <tr>\n",
       "      <th>7</th>\n",
       "      <td>S008</td>\n",
       "      <td>417</td>\n",
       "      <td>353</td>\n",
       "      <td>Metrabs, Cams: 2,3,4</td>\n",
       "    </tr>\n",
       "    <tr>\n",
       "      <th>6</th>\n",
       "      <td>S007</td>\n",
       "      <td>393</td>\n",
       "      <td>377</td>\n",
       "      <td>SimCC, Cams: 2,3,4</td>\n",
       "    </tr>\n",
       "    <tr>\n",
       "      <th>5</th>\n",
       "      <td>S006</td>\n",
       "      <td>363</td>\n",
       "      <td>407</td>\n",
       "      <td>Metrabs, Cams: 1,3,5</td>\n",
       "    </tr>\n",
       "    <tr>\n",
       "      <th>4</th>\n",
       "      <td>S005</td>\n",
       "      <td>269</td>\n",
       "      <td>501</td>\n",
       "      <td>SimCC, Cams: 1,3,5</td>\n",
       "    </tr>\n",
       "    <tr>\n",
       "      <th>13</th>\n",
       "      <td>S014</td>\n",
       "      <td>229</td>\n",
       "      <td>541</td>\n",
       "      <td>Metrabs, Cams: 2,4</td>\n",
       "    </tr>\n",
       "    <tr>\n",
       "      <th>12</th>\n",
       "      <td>S013</td>\n",
       "      <td>187</td>\n",
       "      <td>583</td>\n",
       "      <td>SimCC, Cams: 2,4</td>\n",
       "    </tr>\n",
       "  </tbody>\n",
       "</table>\n",
       "</div>"
      ],
      "text/plain": [
       "    id_s  success  fail                  id_s_name\n",
       "2   S003      167    17    SimCC, Cams: 6,7,8,9,10\n",
       "23  S024      249    18     Single, Cam: 7, unfilt\n",
       "22  S023      249    18       Single, Cam: 7, filt\n",
       "25  S026      164    20     Single, Cam: 8, unfilt\n",
       "24  S025      164    20       Single, Cam: 8, filt\n",
       "17  S018      744    26     Single, Cam: 1, unfilt\n",
       "16  S017      744    26       Single, Cam: 1, filt\n",
       "21  S022      743    27     Single, Cam: 3, unfilt\n",
       "20  S021      743    27       Single, Cam: 3, filt\n",
       "19  S020      743    27     Single, Cam: 2, unfilt\n",
       "18  S019      743    27       Single, Cam: 2, filt\n",
       "0   S001      728    42     SimCC, Cams: 1,2,3,4,5\n",
       "1   S002      684    86   Metrabs, Cams: 1,2,3,4,5\n",
       "8   S009       89    95        SimCC, Cams: 6,8,10\n",
       "14  S015      125   142           SimCC, Cams: 7,9\n",
       "10  S011       36   148         SimCC, Cams: 7,8,9\n",
       "11  S012       19   165       Metrabs, Cams: 7,8,9\n",
       "3   S004       12   172  Metrabs, Cams: 6,7,8,9,10\n",
       "9   S010        1   183      Metrabs, Cams: 6,8,10\n",
       "15  S016       76   191         Metrabs, Cams: 7,9\n",
       "7   S008      417   353       Metrabs, Cams: 2,3,4\n",
       "6   S007      393   377         SimCC, Cams: 2,3,4\n",
       "5   S006      363   407       Metrabs, Cams: 1,3,5\n",
       "4   S005      269   501         SimCC, Cams: 1,3,5\n",
       "13  S014      229   541         Metrabs, Cams: 2,4\n",
       "12  S013      187   583           SimCC, Cams: 2,4"
      ]
     },
     "execution_count": 22,
     "metadata": {},
     "output_type": "execute_result"
    }
   ],
   "source": [
    "df_to_plot"
   ]
  },
  {
   "cell_type": "code",
   "execution_count": 23,
   "id": "7f84c45bf82f67f7",
   "metadata": {
    "ExecuteTime": {
     "end_time": "2024-12-28T20:14:22.860399Z",
     "start_time": "2024-12-22T10:06:00.562934Z"
    }
   },
   "outputs": [
    {
     "data": {
      "application/vnd.plotly.v1+json": {
       "config": {
        "plotlyServerURL": "https://plot.ly"
       },
       "data": [
        {
         "alignmentgroup": "True",
         "hovertemplate": "variable=success<br>id_s_name=%{x}<br>value=%{y}<extra></extra>",
         "legendgroup": "success",
         "marker": {
          "color": "#636efa",
          "pattern": {
           "shape": ""
          }
         },
         "name": "success",
         "offsetgroup": "success",
         "orientation": "v",
         "showlegend": true,
         "textposition": "auto",
         "type": "bar",
         "x": [
          "SimCC, Cams: 1,2,3,4,5",
          "Metrabs, Cams: 1,2,3,4,5",
          "SimCC, Cams: 6,7,8,9,10",
          "Metrabs, Cams: 6,7,8,9,10",
          "SimCC, Cams: 1,3,5",
          "Metrabs, Cams: 1,3,5",
          "SimCC, Cams: 2,3,4",
          "Metrabs, Cams: 2,3,4",
          "SimCC, Cams: 6,8,10",
          "Metrabs, Cams: 6,8,10",
          "SimCC, Cams: 7,8,9",
          "Metrabs, Cams: 7,8,9",
          "SimCC, Cams: 2,4",
          "Metrabs, Cams: 2,4",
          "SimCC, Cams: 7,9",
          "Metrabs, Cams: 7,9",
          "Single, Cam: 1, filt",
          "Single, Cam: 1, unfilt",
          "Single, Cam: 2, filt",
          "Single, Cam: 2, unfilt",
          "Single, Cam: 3, filt",
          "Single, Cam: 3, unfilt",
          "Single, Cam: 7, filt",
          "Single, Cam: 7, unfilt",
          "Single, Cam: 8, filt",
          "Single, Cam: 8, unfilt"
         ],
         "xaxis": "x",
         "y": [
          728,
          684,
          167,
          12,
          269,
          363,
          393,
          417,
          89,
          1,
          36,
          19,
          187,
          229,
          125,
          76,
          744,
          744,
          743,
          743,
          743,
          743,
          249,
          249,
          164,
          164
         ],
         "yaxis": "y"
        },
        {
         "alignmentgroup": "True",
         "hovertemplate": "variable=fail<br>id_s_name=%{x}<br>value=%{y}<extra></extra>",
         "legendgroup": "fail",
         "marker": {
          "color": "#EF553B",
          "pattern": {
           "shape": ""
          }
         },
         "name": "fail",
         "offsetgroup": "fail",
         "orientation": "v",
         "showlegend": true,
         "textposition": "auto",
         "type": "bar",
         "x": [
          "SimCC, Cams: 1,2,3,4,5",
          "Metrabs, Cams: 1,2,3,4,5",
          "SimCC, Cams: 6,7,8,9,10",
          "Metrabs, Cams: 6,7,8,9,10",
          "SimCC, Cams: 1,3,5",
          "Metrabs, Cams: 1,3,5",
          "SimCC, Cams: 2,3,4",
          "Metrabs, Cams: 2,3,4",
          "SimCC, Cams: 6,8,10",
          "Metrabs, Cams: 6,8,10",
          "SimCC, Cams: 7,8,9",
          "Metrabs, Cams: 7,8,9",
          "SimCC, Cams: 2,4",
          "Metrabs, Cams: 2,4",
          "SimCC, Cams: 7,9",
          "Metrabs, Cams: 7,9",
          "Single, Cam: 1, filt",
          "Single, Cam: 1, unfilt",
          "Single, Cam: 2, filt",
          "Single, Cam: 2, unfilt",
          "Single, Cam: 3, filt",
          "Single, Cam: 3, unfilt",
          "Single, Cam: 7, filt",
          "Single, Cam: 7, unfilt",
          "Single, Cam: 8, filt",
          "Single, Cam: 8, unfilt"
         ],
         "xaxis": "x",
         "y": [
          42,
          86,
          17,
          172,
          501,
          407,
          377,
          353,
          95,
          183,
          148,
          165,
          583,
          541,
          142,
          191,
          26,
          26,
          27,
          27,
          27,
          27,
          18,
          18,
          20,
          20
         ],
         "yaxis": "y"
        }
       ],
       "layout": {
        "barmode": "group",
        "legend": {
         "title": {
          "text": "variable"
         },
         "tracegroupgap": 0
        },
        "template": {
         "data": {
          "bar": [
           {
            "error_x": {
             "color": "#2a3f5f"
            },
            "error_y": {
             "color": "#2a3f5f"
            },
            "marker": {
             "line": {
              "color": "#E5ECF6",
              "width": 0.5
             },
             "pattern": {
              "fillmode": "overlay",
              "size": 10,
              "solidity": 0.2
             }
            },
            "type": "bar"
           }
          ],
          "barpolar": [
           {
            "marker": {
             "line": {
              "color": "#E5ECF6",
              "width": 0.5
             },
             "pattern": {
              "fillmode": "overlay",
              "size": 10,
              "solidity": 0.2
             }
            },
            "type": "barpolar"
           }
          ],
          "carpet": [
           {
            "aaxis": {
             "endlinecolor": "#2a3f5f",
             "gridcolor": "white",
             "linecolor": "white",
             "minorgridcolor": "white",
             "startlinecolor": "#2a3f5f"
            },
            "baxis": {
             "endlinecolor": "#2a3f5f",
             "gridcolor": "white",
             "linecolor": "white",
             "minorgridcolor": "white",
             "startlinecolor": "#2a3f5f"
            },
            "type": "carpet"
           }
          ],
          "choropleth": [
           {
            "colorbar": {
             "outlinewidth": 0,
             "ticks": ""
            },
            "type": "choropleth"
           }
          ],
          "contour": [
           {
            "colorbar": {
             "outlinewidth": 0,
             "ticks": ""
            },
            "colorscale": [
             [
              0,
              "#0d0887"
             ],
             [
              0.1111111111111111,
              "#46039f"
             ],
             [
              0.2222222222222222,
              "#7201a8"
             ],
             [
              0.3333333333333333,
              "#9c179e"
             ],
             [
              0.4444444444444444,
              "#bd3786"
             ],
             [
              0.5555555555555556,
              "#d8576b"
             ],
             [
              0.6666666666666666,
              "#ed7953"
             ],
             [
              0.7777777777777778,
              "#fb9f3a"
             ],
             [
              0.8888888888888888,
              "#fdca26"
             ],
             [
              1,
              "#f0f921"
             ]
            ],
            "type": "contour"
           }
          ],
          "contourcarpet": [
           {
            "colorbar": {
             "outlinewidth": 0,
             "ticks": ""
            },
            "type": "contourcarpet"
           }
          ],
          "heatmap": [
           {
            "colorbar": {
             "outlinewidth": 0,
             "ticks": ""
            },
            "colorscale": [
             [
              0,
              "#0d0887"
             ],
             [
              0.1111111111111111,
              "#46039f"
             ],
             [
              0.2222222222222222,
              "#7201a8"
             ],
             [
              0.3333333333333333,
              "#9c179e"
             ],
             [
              0.4444444444444444,
              "#bd3786"
             ],
             [
              0.5555555555555556,
              "#d8576b"
             ],
             [
              0.6666666666666666,
              "#ed7953"
             ],
             [
              0.7777777777777778,
              "#fb9f3a"
             ],
             [
              0.8888888888888888,
              "#fdca26"
             ],
             [
              1,
              "#f0f921"
             ]
            ],
            "type": "heatmap"
           }
          ],
          "heatmapgl": [
           {
            "colorbar": {
             "outlinewidth": 0,
             "ticks": ""
            },
            "colorscale": [
             [
              0,
              "#0d0887"
             ],
             [
              0.1111111111111111,
              "#46039f"
             ],
             [
              0.2222222222222222,
              "#7201a8"
             ],
             [
              0.3333333333333333,
              "#9c179e"
             ],
             [
              0.4444444444444444,
              "#bd3786"
             ],
             [
              0.5555555555555556,
              "#d8576b"
             ],
             [
              0.6666666666666666,
              "#ed7953"
             ],
             [
              0.7777777777777778,
              "#fb9f3a"
             ],
             [
              0.8888888888888888,
              "#fdca26"
             ],
             [
              1,
              "#f0f921"
             ]
            ],
            "type": "heatmapgl"
           }
          ],
          "histogram": [
           {
            "marker": {
             "pattern": {
              "fillmode": "overlay",
              "size": 10,
              "solidity": 0.2
             }
            },
            "type": "histogram"
           }
          ],
          "histogram2d": [
           {
            "colorbar": {
             "outlinewidth": 0,
             "ticks": ""
            },
            "colorscale": [
             [
              0,
              "#0d0887"
             ],
             [
              0.1111111111111111,
              "#46039f"
             ],
             [
              0.2222222222222222,
              "#7201a8"
             ],
             [
              0.3333333333333333,
              "#9c179e"
             ],
             [
              0.4444444444444444,
              "#bd3786"
             ],
             [
              0.5555555555555556,
              "#d8576b"
             ],
             [
              0.6666666666666666,
              "#ed7953"
             ],
             [
              0.7777777777777778,
              "#fb9f3a"
             ],
             [
              0.8888888888888888,
              "#fdca26"
             ],
             [
              1,
              "#f0f921"
             ]
            ],
            "type": "histogram2d"
           }
          ],
          "histogram2dcontour": [
           {
            "colorbar": {
             "outlinewidth": 0,
             "ticks": ""
            },
            "colorscale": [
             [
              0,
              "#0d0887"
             ],
             [
              0.1111111111111111,
              "#46039f"
             ],
             [
              0.2222222222222222,
              "#7201a8"
             ],
             [
              0.3333333333333333,
              "#9c179e"
             ],
             [
              0.4444444444444444,
              "#bd3786"
             ],
             [
              0.5555555555555556,
              "#d8576b"
             ],
             [
              0.6666666666666666,
              "#ed7953"
             ],
             [
              0.7777777777777778,
              "#fb9f3a"
             ],
             [
              0.8888888888888888,
              "#fdca26"
             ],
             [
              1,
              "#f0f921"
             ]
            ],
            "type": "histogram2dcontour"
           }
          ],
          "mesh3d": [
           {
            "colorbar": {
             "outlinewidth": 0,
             "ticks": ""
            },
            "type": "mesh3d"
           }
          ],
          "parcoords": [
           {
            "line": {
             "colorbar": {
              "outlinewidth": 0,
              "ticks": ""
             }
            },
            "type": "parcoords"
           }
          ],
          "pie": [
           {
            "automargin": true,
            "type": "pie"
           }
          ],
          "scatter": [
           {
            "fillpattern": {
             "fillmode": "overlay",
             "size": 10,
             "solidity": 0.2
            },
            "type": "scatter"
           }
          ],
          "scatter3d": [
           {
            "line": {
             "colorbar": {
              "outlinewidth": 0,
              "ticks": ""
             }
            },
            "marker": {
             "colorbar": {
              "outlinewidth": 0,
              "ticks": ""
             }
            },
            "type": "scatter3d"
           }
          ],
          "scattercarpet": [
           {
            "marker": {
             "colorbar": {
              "outlinewidth": 0,
              "ticks": ""
             }
            },
            "type": "scattercarpet"
           }
          ],
          "scattergeo": [
           {
            "marker": {
             "colorbar": {
              "outlinewidth": 0,
              "ticks": ""
             }
            },
            "type": "scattergeo"
           }
          ],
          "scattergl": [
           {
            "marker": {
             "colorbar": {
              "outlinewidth": 0,
              "ticks": ""
             }
            },
            "type": "scattergl"
           }
          ],
          "scattermapbox": [
           {
            "marker": {
             "colorbar": {
              "outlinewidth": 0,
              "ticks": ""
             }
            },
            "type": "scattermapbox"
           }
          ],
          "scatterpolar": [
           {
            "marker": {
             "colorbar": {
              "outlinewidth": 0,
              "ticks": ""
             }
            },
            "type": "scatterpolar"
           }
          ],
          "scatterpolargl": [
           {
            "marker": {
             "colorbar": {
              "outlinewidth": 0,
              "ticks": ""
             }
            },
            "type": "scatterpolargl"
           }
          ],
          "scatterternary": [
           {
            "marker": {
             "colorbar": {
              "outlinewidth": 0,
              "ticks": ""
             }
            },
            "type": "scatterternary"
           }
          ],
          "surface": [
           {
            "colorbar": {
             "outlinewidth": 0,
             "ticks": ""
            },
            "colorscale": [
             [
              0,
              "#0d0887"
             ],
             [
              0.1111111111111111,
              "#46039f"
             ],
             [
              0.2222222222222222,
              "#7201a8"
             ],
             [
              0.3333333333333333,
              "#9c179e"
             ],
             [
              0.4444444444444444,
              "#bd3786"
             ],
             [
              0.5555555555555556,
              "#d8576b"
             ],
             [
              0.6666666666666666,
              "#ed7953"
             ],
             [
              0.7777777777777778,
              "#fb9f3a"
             ],
             [
              0.8888888888888888,
              "#fdca26"
             ],
             [
              1,
              "#f0f921"
             ]
            ],
            "type": "surface"
           }
          ],
          "table": [
           {
            "cells": {
             "fill": {
              "color": "#EBF0F8"
             },
             "line": {
              "color": "white"
             }
            },
            "header": {
             "fill": {
              "color": "#C8D4E3"
             },
             "line": {
              "color": "white"
             }
            },
            "type": "table"
           }
          ]
         },
         "layout": {
          "annotationdefaults": {
           "arrowcolor": "#2a3f5f",
           "arrowhead": 0,
           "arrowwidth": 1
          },
          "autotypenumbers": "strict",
          "coloraxis": {
           "colorbar": {
            "outlinewidth": 0,
            "ticks": ""
           }
          },
          "colorscale": {
           "diverging": [
            [
             0,
             "#8e0152"
            ],
            [
             0.1,
             "#c51b7d"
            ],
            [
             0.2,
             "#de77ae"
            ],
            [
             0.3,
             "#f1b6da"
            ],
            [
             0.4,
             "#fde0ef"
            ],
            [
             0.5,
             "#f7f7f7"
            ],
            [
             0.6,
             "#e6f5d0"
            ],
            [
             0.7,
             "#b8e186"
            ],
            [
             0.8,
             "#7fbc41"
            ],
            [
             0.9,
             "#4d9221"
            ],
            [
             1,
             "#276419"
            ]
           ],
           "sequential": [
            [
             0,
             "#0d0887"
            ],
            [
             0.1111111111111111,
             "#46039f"
            ],
            [
             0.2222222222222222,
             "#7201a8"
            ],
            [
             0.3333333333333333,
             "#9c179e"
            ],
            [
             0.4444444444444444,
             "#bd3786"
            ],
            [
             0.5555555555555556,
             "#d8576b"
            ],
            [
             0.6666666666666666,
             "#ed7953"
            ],
            [
             0.7777777777777778,
             "#fb9f3a"
            ],
            [
             0.8888888888888888,
             "#fdca26"
            ],
            [
             1,
             "#f0f921"
            ]
           ],
           "sequentialminus": [
            [
             0,
             "#0d0887"
            ],
            [
             0.1111111111111111,
             "#46039f"
            ],
            [
             0.2222222222222222,
             "#7201a8"
            ],
            [
             0.3333333333333333,
             "#9c179e"
            ],
            [
             0.4444444444444444,
             "#bd3786"
            ],
            [
             0.5555555555555556,
             "#d8576b"
            ],
            [
             0.6666666666666666,
             "#ed7953"
            ],
            [
             0.7777777777777778,
             "#fb9f3a"
            ],
            [
             0.8888888888888888,
             "#fdca26"
            ],
            [
             1,
             "#f0f921"
            ]
           ]
          },
          "colorway": [
           "#636efa",
           "#EF553B",
           "#00cc96",
           "#ab63fa",
           "#FFA15A",
           "#19d3f3",
           "#FF6692",
           "#B6E880",
           "#FF97FF",
           "#FECB52"
          ],
          "font": {
           "color": "#2a3f5f"
          },
          "geo": {
           "bgcolor": "white",
           "lakecolor": "white",
           "landcolor": "#E5ECF6",
           "showlakes": true,
           "showland": true,
           "subunitcolor": "white"
          },
          "hoverlabel": {
           "align": "left"
          },
          "hovermode": "closest",
          "mapbox": {
           "style": "light"
          },
          "paper_bgcolor": "white",
          "plot_bgcolor": "#E5ECF6",
          "polar": {
           "angularaxis": {
            "gridcolor": "white",
            "linecolor": "white",
            "ticks": ""
           },
           "bgcolor": "#E5ECF6",
           "radialaxis": {
            "gridcolor": "white",
            "linecolor": "white",
            "ticks": ""
           }
          },
          "scene": {
           "xaxis": {
            "backgroundcolor": "#E5ECF6",
            "gridcolor": "white",
            "gridwidth": 2,
            "linecolor": "white",
            "showbackground": true,
            "ticks": "",
            "zerolinecolor": "white"
           },
           "yaxis": {
            "backgroundcolor": "#E5ECF6",
            "gridcolor": "white",
            "gridwidth": 2,
            "linecolor": "white",
            "showbackground": true,
            "ticks": "",
            "zerolinecolor": "white"
           },
           "zaxis": {
            "backgroundcolor": "#E5ECF6",
            "gridcolor": "white",
            "gridwidth": 2,
            "linecolor": "white",
            "showbackground": true,
            "ticks": "",
            "zerolinecolor": "white"
           }
          },
          "shapedefaults": {
           "line": {
            "color": "#2a3f5f"
           }
          },
          "ternary": {
           "aaxis": {
            "gridcolor": "white",
            "linecolor": "white",
            "ticks": ""
           },
           "baxis": {
            "gridcolor": "white",
            "linecolor": "white",
            "ticks": ""
           },
           "bgcolor": "#E5ECF6",
           "caxis": {
            "gridcolor": "white",
            "linecolor": "white",
            "ticks": ""
           }
          },
          "title": {
           "x": 0.05
          },
          "xaxis": {
           "automargin": true,
           "gridcolor": "white",
           "linecolor": "white",
           "ticks": "",
           "title": {
            "standoff": 15
           },
           "zerolinecolor": "white",
           "zerolinewidth": 2
          },
          "yaxis": {
           "automargin": true,
           "gridcolor": "white",
           "linecolor": "white",
           "ticks": "",
           "title": {
            "standoff": 15
           },
           "zerolinecolor": "white",
           "zerolinewidth": 2
          }
         }
        },
        "title": {
         "text": "Number of successful and failed trials per setting"
        },
        "xaxis": {
         "anchor": "y",
         "domain": [
          0,
          1
         ],
         "title": {
          "text": "id_s_name"
         }
        },
        "yaxis": {
         "anchor": "x",
         "domain": [
          0,
          1
         ],
         "title": {
          "text": "value"
         }
        }
       }
      },
      "text/html": [
       "<div>                            <div id=\"64c72f9e-c842-4088-8744-c5a8016bc347\" class=\"plotly-graph-div\" style=\"height:525px; width:100%;\"></div>            <script type=\"text/javascript\">                require([\"plotly\"], function(Plotly) {                    window.PLOTLYENV=window.PLOTLYENV || {};                                    if (document.getElementById(\"64c72f9e-c842-4088-8744-c5a8016bc347\")) {                    Plotly.newPlot(                        \"64c72f9e-c842-4088-8744-c5a8016bc347\",                        [{\"alignmentgroup\":\"True\",\"hovertemplate\":\"variable=success\\u003cbr\\u003eid_s_name=%{x}\\u003cbr\\u003evalue=%{y}\\u003cextra\\u003e\\u003c\\u002fextra\\u003e\",\"legendgroup\":\"success\",\"marker\":{\"color\":\"#636efa\",\"pattern\":{\"shape\":\"\"}},\"name\":\"success\",\"offsetgroup\":\"success\",\"orientation\":\"v\",\"showlegend\":true,\"textposition\":\"auto\",\"x\":[\"SimCC, Cams: 1,2,3,4,5\",\"Metrabs, Cams: 1,2,3,4,5\",\"SimCC, Cams: 6,7,8,9,10\",\"Metrabs, Cams: 6,7,8,9,10\",\"SimCC, Cams: 1,3,5\",\"Metrabs, Cams: 1,3,5\",\"SimCC, Cams: 2,3,4\",\"Metrabs, Cams: 2,3,4\",\"SimCC, Cams: 6,8,10\",\"Metrabs, Cams: 6,8,10\",\"SimCC, Cams: 7,8,9\",\"Metrabs, Cams: 7,8,9\",\"SimCC, Cams: 2,4\",\"Metrabs, Cams: 2,4\",\"SimCC, Cams: 7,9\",\"Metrabs, Cams: 7,9\",\"Single, Cam: 1, filt\",\"Single, Cam: 1, unfilt\",\"Single, Cam: 2, filt\",\"Single, Cam: 2, unfilt\",\"Single, Cam: 3, filt\",\"Single, Cam: 3, unfilt\",\"Single, Cam: 7, filt\",\"Single, Cam: 7, unfilt\",\"Single, Cam: 8, filt\",\"Single, Cam: 8, unfilt\"],\"xaxis\":\"x\",\"y\":[728,684,167,12,269,363,393,417,89,1,36,19,187,229,125,76,744,744,743,743,743,743,249,249,164,164],\"yaxis\":\"y\",\"type\":\"bar\"},{\"alignmentgroup\":\"True\",\"hovertemplate\":\"variable=fail\\u003cbr\\u003eid_s_name=%{x}\\u003cbr\\u003evalue=%{y}\\u003cextra\\u003e\\u003c\\u002fextra\\u003e\",\"legendgroup\":\"fail\",\"marker\":{\"color\":\"#EF553B\",\"pattern\":{\"shape\":\"\"}},\"name\":\"fail\",\"offsetgroup\":\"fail\",\"orientation\":\"v\",\"showlegend\":true,\"textposition\":\"auto\",\"x\":[\"SimCC, Cams: 1,2,3,4,5\",\"Metrabs, Cams: 1,2,3,4,5\",\"SimCC, Cams: 6,7,8,9,10\",\"Metrabs, Cams: 6,7,8,9,10\",\"SimCC, Cams: 1,3,5\",\"Metrabs, Cams: 1,3,5\",\"SimCC, Cams: 2,3,4\",\"Metrabs, Cams: 2,3,4\",\"SimCC, Cams: 6,8,10\",\"Metrabs, Cams: 6,8,10\",\"SimCC, Cams: 7,8,9\",\"Metrabs, Cams: 7,8,9\",\"SimCC, Cams: 2,4\",\"Metrabs, Cams: 2,4\",\"SimCC, Cams: 7,9\",\"Metrabs, Cams: 7,9\",\"Single, Cam: 1, filt\",\"Single, Cam: 1, unfilt\",\"Single, Cam: 2, filt\",\"Single, Cam: 2, unfilt\",\"Single, Cam: 3, filt\",\"Single, Cam: 3, unfilt\",\"Single, Cam: 7, filt\",\"Single, Cam: 7, unfilt\",\"Single, Cam: 8, filt\",\"Single, Cam: 8, unfilt\"],\"xaxis\":\"x\",\"y\":[42,86,17,172,501,407,377,353,95,183,148,165,583,541,142,191,26,26,27,27,27,27,18,18,20,20],\"yaxis\":\"y\",\"type\":\"bar\"}],                        {\"template\":{\"data\":{\"barpolar\":[{\"marker\":{\"line\":{\"color\":\"#E5ECF6\",\"width\":0.5},\"pattern\":{\"fillmode\":\"overlay\",\"size\":10,\"solidity\":0.2}},\"type\":\"barpolar\"}],\"bar\":[{\"error_x\":{\"color\":\"#2a3f5f\"},\"error_y\":{\"color\":\"#2a3f5f\"},\"marker\":{\"line\":{\"color\":\"#E5ECF6\",\"width\":0.5},\"pattern\":{\"fillmode\":\"overlay\",\"size\":10,\"solidity\":0.2}},\"type\":\"bar\"}],\"carpet\":[{\"aaxis\":{\"endlinecolor\":\"#2a3f5f\",\"gridcolor\":\"white\",\"linecolor\":\"white\",\"minorgridcolor\":\"white\",\"startlinecolor\":\"#2a3f5f\"},\"baxis\":{\"endlinecolor\":\"#2a3f5f\",\"gridcolor\":\"white\",\"linecolor\":\"white\",\"minorgridcolor\":\"white\",\"startlinecolor\":\"#2a3f5f\"},\"type\":\"carpet\"}],\"choropleth\":[{\"colorbar\":{\"outlinewidth\":0,\"ticks\":\"\"},\"type\":\"choropleth\"}],\"contourcarpet\":[{\"colorbar\":{\"outlinewidth\":0,\"ticks\":\"\"},\"type\":\"contourcarpet\"}],\"contour\":[{\"colorbar\":{\"outlinewidth\":0,\"ticks\":\"\"},\"colorscale\":[[0.0,\"#0d0887\"],[0.1111111111111111,\"#46039f\"],[0.2222222222222222,\"#7201a8\"],[0.3333333333333333,\"#9c179e\"],[0.4444444444444444,\"#bd3786\"],[0.5555555555555556,\"#d8576b\"],[0.6666666666666666,\"#ed7953\"],[0.7777777777777778,\"#fb9f3a\"],[0.8888888888888888,\"#fdca26\"],[1.0,\"#f0f921\"]],\"type\":\"contour\"}],\"heatmapgl\":[{\"colorbar\":{\"outlinewidth\":0,\"ticks\":\"\"},\"colorscale\":[[0.0,\"#0d0887\"],[0.1111111111111111,\"#46039f\"],[0.2222222222222222,\"#7201a8\"],[0.3333333333333333,\"#9c179e\"],[0.4444444444444444,\"#bd3786\"],[0.5555555555555556,\"#d8576b\"],[0.6666666666666666,\"#ed7953\"],[0.7777777777777778,\"#fb9f3a\"],[0.8888888888888888,\"#fdca26\"],[1.0,\"#f0f921\"]],\"type\":\"heatmapgl\"}],\"heatmap\":[{\"colorbar\":{\"outlinewidth\":0,\"ticks\":\"\"},\"colorscale\":[[0.0,\"#0d0887\"],[0.1111111111111111,\"#46039f\"],[0.2222222222222222,\"#7201a8\"],[0.3333333333333333,\"#9c179e\"],[0.4444444444444444,\"#bd3786\"],[0.5555555555555556,\"#d8576b\"],[0.6666666666666666,\"#ed7953\"],[0.7777777777777778,\"#fb9f3a\"],[0.8888888888888888,\"#fdca26\"],[1.0,\"#f0f921\"]],\"type\":\"heatmap\"}],\"histogram2dcontour\":[{\"colorbar\":{\"outlinewidth\":0,\"ticks\":\"\"},\"colorscale\":[[0.0,\"#0d0887\"],[0.1111111111111111,\"#46039f\"],[0.2222222222222222,\"#7201a8\"],[0.3333333333333333,\"#9c179e\"],[0.4444444444444444,\"#bd3786\"],[0.5555555555555556,\"#d8576b\"],[0.6666666666666666,\"#ed7953\"],[0.7777777777777778,\"#fb9f3a\"],[0.8888888888888888,\"#fdca26\"],[1.0,\"#f0f921\"]],\"type\":\"histogram2dcontour\"}],\"histogram2d\":[{\"colorbar\":{\"outlinewidth\":0,\"ticks\":\"\"},\"colorscale\":[[0.0,\"#0d0887\"],[0.1111111111111111,\"#46039f\"],[0.2222222222222222,\"#7201a8\"],[0.3333333333333333,\"#9c179e\"],[0.4444444444444444,\"#bd3786\"],[0.5555555555555556,\"#d8576b\"],[0.6666666666666666,\"#ed7953\"],[0.7777777777777778,\"#fb9f3a\"],[0.8888888888888888,\"#fdca26\"],[1.0,\"#f0f921\"]],\"type\":\"histogram2d\"}],\"histogram\":[{\"marker\":{\"pattern\":{\"fillmode\":\"overlay\",\"size\":10,\"solidity\":0.2}},\"type\":\"histogram\"}],\"mesh3d\":[{\"colorbar\":{\"outlinewidth\":0,\"ticks\":\"\"},\"type\":\"mesh3d\"}],\"parcoords\":[{\"line\":{\"colorbar\":{\"outlinewidth\":0,\"ticks\":\"\"}},\"type\":\"parcoords\"}],\"pie\":[{\"automargin\":true,\"type\":\"pie\"}],\"scatter3d\":[{\"line\":{\"colorbar\":{\"outlinewidth\":0,\"ticks\":\"\"}},\"marker\":{\"colorbar\":{\"outlinewidth\":0,\"ticks\":\"\"}},\"type\":\"scatter3d\"}],\"scattercarpet\":[{\"marker\":{\"colorbar\":{\"outlinewidth\":0,\"ticks\":\"\"}},\"type\":\"scattercarpet\"}],\"scattergeo\":[{\"marker\":{\"colorbar\":{\"outlinewidth\":0,\"ticks\":\"\"}},\"type\":\"scattergeo\"}],\"scattergl\":[{\"marker\":{\"colorbar\":{\"outlinewidth\":0,\"ticks\":\"\"}},\"type\":\"scattergl\"}],\"scattermapbox\":[{\"marker\":{\"colorbar\":{\"outlinewidth\":0,\"ticks\":\"\"}},\"type\":\"scattermapbox\"}],\"scatterpolargl\":[{\"marker\":{\"colorbar\":{\"outlinewidth\":0,\"ticks\":\"\"}},\"type\":\"scatterpolargl\"}],\"scatterpolar\":[{\"marker\":{\"colorbar\":{\"outlinewidth\":0,\"ticks\":\"\"}},\"type\":\"scatterpolar\"}],\"scatter\":[{\"fillpattern\":{\"fillmode\":\"overlay\",\"size\":10,\"solidity\":0.2},\"type\":\"scatter\"}],\"scatterternary\":[{\"marker\":{\"colorbar\":{\"outlinewidth\":0,\"ticks\":\"\"}},\"type\":\"scatterternary\"}],\"surface\":[{\"colorbar\":{\"outlinewidth\":0,\"ticks\":\"\"},\"colorscale\":[[0.0,\"#0d0887\"],[0.1111111111111111,\"#46039f\"],[0.2222222222222222,\"#7201a8\"],[0.3333333333333333,\"#9c179e\"],[0.4444444444444444,\"#bd3786\"],[0.5555555555555556,\"#d8576b\"],[0.6666666666666666,\"#ed7953\"],[0.7777777777777778,\"#fb9f3a\"],[0.8888888888888888,\"#fdca26\"],[1.0,\"#f0f921\"]],\"type\":\"surface\"}],\"table\":[{\"cells\":{\"fill\":{\"color\":\"#EBF0F8\"},\"line\":{\"color\":\"white\"}},\"header\":{\"fill\":{\"color\":\"#C8D4E3\"},\"line\":{\"color\":\"white\"}},\"type\":\"table\"}]},\"layout\":{\"annotationdefaults\":{\"arrowcolor\":\"#2a3f5f\",\"arrowhead\":0,\"arrowwidth\":1},\"autotypenumbers\":\"strict\",\"coloraxis\":{\"colorbar\":{\"outlinewidth\":0,\"ticks\":\"\"}},\"colorscale\":{\"diverging\":[[0,\"#8e0152\"],[0.1,\"#c51b7d\"],[0.2,\"#de77ae\"],[0.3,\"#f1b6da\"],[0.4,\"#fde0ef\"],[0.5,\"#f7f7f7\"],[0.6,\"#e6f5d0\"],[0.7,\"#b8e186\"],[0.8,\"#7fbc41\"],[0.9,\"#4d9221\"],[1,\"#276419\"]],\"sequential\":[[0.0,\"#0d0887\"],[0.1111111111111111,\"#46039f\"],[0.2222222222222222,\"#7201a8\"],[0.3333333333333333,\"#9c179e\"],[0.4444444444444444,\"#bd3786\"],[0.5555555555555556,\"#d8576b\"],[0.6666666666666666,\"#ed7953\"],[0.7777777777777778,\"#fb9f3a\"],[0.8888888888888888,\"#fdca26\"],[1.0,\"#f0f921\"]],\"sequentialminus\":[[0.0,\"#0d0887\"],[0.1111111111111111,\"#46039f\"],[0.2222222222222222,\"#7201a8\"],[0.3333333333333333,\"#9c179e\"],[0.4444444444444444,\"#bd3786\"],[0.5555555555555556,\"#d8576b\"],[0.6666666666666666,\"#ed7953\"],[0.7777777777777778,\"#fb9f3a\"],[0.8888888888888888,\"#fdca26\"],[1.0,\"#f0f921\"]]},\"colorway\":[\"#636efa\",\"#EF553B\",\"#00cc96\",\"#ab63fa\",\"#FFA15A\",\"#19d3f3\",\"#FF6692\",\"#B6E880\",\"#FF97FF\",\"#FECB52\"],\"font\":{\"color\":\"#2a3f5f\"},\"geo\":{\"bgcolor\":\"white\",\"lakecolor\":\"white\",\"landcolor\":\"#E5ECF6\",\"showlakes\":true,\"showland\":true,\"subunitcolor\":\"white\"},\"hoverlabel\":{\"align\":\"left\"},\"hovermode\":\"closest\",\"mapbox\":{\"style\":\"light\"},\"paper_bgcolor\":\"white\",\"plot_bgcolor\":\"#E5ECF6\",\"polar\":{\"angularaxis\":{\"gridcolor\":\"white\",\"linecolor\":\"white\",\"ticks\":\"\"},\"bgcolor\":\"#E5ECF6\",\"radialaxis\":{\"gridcolor\":\"white\",\"linecolor\":\"white\",\"ticks\":\"\"}},\"scene\":{\"xaxis\":{\"backgroundcolor\":\"#E5ECF6\",\"gridcolor\":\"white\",\"gridwidth\":2,\"linecolor\":\"white\",\"showbackground\":true,\"ticks\":\"\",\"zerolinecolor\":\"white\"},\"yaxis\":{\"backgroundcolor\":\"#E5ECF6\",\"gridcolor\":\"white\",\"gridwidth\":2,\"linecolor\":\"white\",\"showbackground\":true,\"ticks\":\"\",\"zerolinecolor\":\"white\"},\"zaxis\":{\"backgroundcolor\":\"#E5ECF6\",\"gridcolor\":\"white\",\"gridwidth\":2,\"linecolor\":\"white\",\"showbackground\":true,\"ticks\":\"\",\"zerolinecolor\":\"white\"}},\"shapedefaults\":{\"line\":{\"color\":\"#2a3f5f\"}},\"ternary\":{\"aaxis\":{\"gridcolor\":\"white\",\"linecolor\":\"white\",\"ticks\":\"\"},\"baxis\":{\"gridcolor\":\"white\",\"linecolor\":\"white\",\"ticks\":\"\"},\"bgcolor\":\"#E5ECF6\",\"caxis\":{\"gridcolor\":\"white\",\"linecolor\":\"white\",\"ticks\":\"\"}},\"title\":{\"x\":0.05},\"xaxis\":{\"automargin\":true,\"gridcolor\":\"white\",\"linecolor\":\"white\",\"ticks\":\"\",\"title\":{\"standoff\":15},\"zerolinecolor\":\"white\",\"zerolinewidth\":2},\"yaxis\":{\"automargin\":true,\"gridcolor\":\"white\",\"linecolor\":\"white\",\"ticks\":\"\",\"title\":{\"standoff\":15},\"zerolinecolor\":\"white\",\"zerolinewidth\":2}}},\"xaxis\":{\"anchor\":\"y\",\"domain\":[0.0,1.0],\"title\":{\"text\":\"id_s_name\"}},\"yaxis\":{\"anchor\":\"x\",\"domain\":[0.0,1.0],\"title\":{\"text\":\"value\"}},\"legend\":{\"title\":{\"text\":\"variable\"},\"tracegroupgap\":0},\"title\":{\"text\":\"Number of successful and failed trials per setting\"},\"barmode\":\"group\"},                        {\"responsive\": true}                    ).then(function(){\n",
       "                            \n",
       "var gd = document.getElementById('64c72f9e-c842-4088-8744-c5a8016bc347');\n",
       "var x = new MutationObserver(function (mutations, observer) {{\n",
       "        var display = window.getComputedStyle(gd).display;\n",
       "        if (!display || display === 'none') {{\n",
       "            console.log([gd, 'removed!']);\n",
       "            Plotly.purge(gd);\n",
       "            observer.disconnect();\n",
       "        }}\n",
       "}});\n",
       "\n",
       "// Listen for the removal of the full notebook cells\n",
       "var notebookContainer = gd.closest('#notebook-container');\n",
       "if (notebookContainer) {{\n",
       "    x.observe(notebookContainer, {childList: true});\n",
       "}}\n",
       "\n",
       "// Listen for the clearing of the current output cell\n",
       "var outputEl = gd.closest('.output');\n",
       "if (outputEl) {{\n",
       "    x.observe(outputEl, {childList: true});\n",
       "}}\n",
       "\n",
       "                        })                };                });            </script>        </div>"
      ]
     },
     "metadata": {},
     "output_type": "display_data"
    }
   ],
   "source": [
    "px.bar(df_to_plot.sort_values(by='id_s'), x='id_s_name', y=['success', 'fail'], barmode='group', title='Number of successful and failed trials per setting', template = 'plotly')"
   ]
  },
  {
   "cell_type": "code",
   "execution_count": 8,
   "id": "f6e5f7fd66494504",
   "metadata": {
    "ExecuteTime": {
     "end_time": "2024-12-28T20:15:51.021505Z",
     "start_time": "2024-12-28T20:15:47.993374Z"
    }
   },
   "outputs": [],
   "source": [
    "fig = px.bar(df_to_plot, x='id_s_name', y=['success', 'fail'], barmode='group', title='<b>Number of successful and failed trials per setting<b>', template = 'plotly')\n",
    "\n",
    "fig.update_layout(height=600, width=1000,\n",
    "                  xaxis_title='Setting ID', yaxis_title='Number of trials', legend_title='Outcome')\n",
    "\n",
    "dir = os.path.join(root_stat, '04_failed_trials', '02_plots')\n",
    "os.makedirs(dir, exist_ok=True)\n",
    "fig.write_html(os.path.join(dir, 'failed_trials_per_setting.html'))\n",
    "fig.write_image(os.path.join(dir, 'failed_trials_per_setting.svg'), scale=5)\n",
    "fig.write_image(os.path.join(dir, 'failed_trials_per_setting.png'), scale=5)"
   ]
  },
  {
   "cell_type": "code",
   "execution_count": 25,
   "id": "c319d9336baad58d",
   "metadata": {
    "ExecuteTime": {
     "end_time": "2024-12-28T20:14:22.861403300Z",
     "start_time": "2024-12-22T10:06:01.880064Z"
    }
   },
   "outputs": [
    {
     "data": {
      "text/html": [
       "<div>\n",
       "<style scoped>\n",
       "    .dataframe tbody tr th:only-of-type {\n",
       "        vertical-align: middle;\n",
       "    }\n",
       "\n",
       "    .dataframe tbody tr th {\n",
       "        vertical-align: top;\n",
       "    }\n",
       "\n",
       "    .dataframe thead th {\n",
       "        text-align: right;\n",
       "    }\n",
       "</style>\n",
       "<table border=\"1\" class=\"dataframe\">\n",
       "  <thead>\n",
       "    <tr style=\"text-align: right;\">\n",
       "      <th></th>\n",
       "      <th>id_s</th>\n",
       "      <th>id_p</th>\n",
       "      <th>id_t</th>\n",
       "      <th>affected</th>\n",
       "      <th>side</th>\n",
       "      <th>calib_error</th>\n",
       "      <th>HPE</th>\n",
       "      <th>P2S</th>\n",
       "      <th>OS</th>\n",
       "      <th>murphy</th>\n",
       "      <th>murphy_omc</th>\n",
       "      <th>success</th>\n",
       "      <th>fail</th>\n",
       "      <th>failed_at</th>\n",
       "      <th>reason</th>\n",
       "    </tr>\n",
       "  </thead>\n",
       "  <tbody>\n",
       "    <tr>\n",
       "      <th>0</th>\n",
       "      <td>S001</td>\n",
       "      <td>P07</td>\n",
       "      <td>T001</td>\n",
       "      <td>unaffected</td>\n",
       "      <td>L</td>\n",
       "      <td>1.3857</td>\n",
       "      <td>1</td>\n",
       "      <td>1.0</td>\n",
       "      <td>1.0</td>\n",
       "      <td>0.0</td>\n",
       "      <td>0.0</td>\n",
       "      <td>0</td>\n",
       "      <td>1</td>\n",
       "      <td>Murphy</td>\n",
       "      <td>time-series for measures not found in preproce...</td>\n",
       "    </tr>\n",
       "    <tr>\n",
       "      <th>1</th>\n",
       "      <td>S001</td>\n",
       "      <td>P07</td>\n",
       "      <td>T002</td>\n",
       "      <td>unaffected</td>\n",
       "      <td>L</td>\n",
       "      <td>1.3857</td>\n",
       "      <td>1</td>\n",
       "      <td>1.0</td>\n",
       "      <td>1.0</td>\n",
       "      <td>1.0</td>\n",
       "      <td>1.0</td>\n",
       "      <td>1</td>\n",
       "      <td>0</td>\n",
       "      <td>NaN</td>\n",
       "      <td>NaN</td>\n",
       "    </tr>\n",
       "    <tr>\n",
       "      <th>2</th>\n",
       "      <td>S001</td>\n",
       "      <td>P07</td>\n",
       "      <td>T003</td>\n",
       "      <td>unaffected</td>\n",
       "      <td>L</td>\n",
       "      <td>1.3857</td>\n",
       "      <td>1</td>\n",
       "      <td>1.0</td>\n",
       "      <td>1.0</td>\n",
       "      <td>1.0</td>\n",
       "      <td>1.0</td>\n",
       "      <td>1</td>\n",
       "      <td>0</td>\n",
       "      <td>NaN</td>\n",
       "      <td>NaN</td>\n",
       "    </tr>\n",
       "    <tr>\n",
       "      <th>3</th>\n",
       "      <td>S001</td>\n",
       "      <td>P07</td>\n",
       "      <td>T004</td>\n",
       "      <td>unaffected</td>\n",
       "      <td>L</td>\n",
       "      <td>1.3857</td>\n",
       "      <td>1</td>\n",
       "      <td>1.0</td>\n",
       "      <td>1.0</td>\n",
       "      <td>1.0</td>\n",
       "      <td>1.0</td>\n",
       "      <td>1</td>\n",
       "      <td>0</td>\n",
       "      <td>NaN</td>\n",
       "      <td>NaN</td>\n",
       "    </tr>\n",
       "    <tr>\n",
       "      <th>4</th>\n",
       "      <td>S001</td>\n",
       "      <td>P07</td>\n",
       "      <td>T005</td>\n",
       "      <td>unaffected</td>\n",
       "      <td>L</td>\n",
       "      <td>1.3857</td>\n",
       "      <td>1</td>\n",
       "      <td>1.0</td>\n",
       "      <td>1.0</td>\n",
       "      <td>1.0</td>\n",
       "      <td>1.0</td>\n",
       "      <td>1</td>\n",
       "      <td>0</td>\n",
       "      <td>NaN</td>\n",
       "      <td>NaN</td>\n",
       "    </tr>\n",
       "    <tr>\n",
       "      <th>...</th>\n",
       "      <td>...</td>\n",
       "      <td>...</td>\n",
       "      <td>...</td>\n",
       "      <td>...</td>\n",
       "      <td>...</td>\n",
       "      <td>...</td>\n",
       "      <td>...</td>\n",
       "      <td>...</td>\n",
       "      <td>...</td>\n",
       "      <td>...</td>\n",
       "      <td>...</td>\n",
       "      <td>...</td>\n",
       "      <td>...</td>\n",
       "      <td>...</td>\n",
       "      <td>...</td>\n",
       "    </tr>\n",
       "    <tr>\n",
       "      <th>13315</th>\n",
       "      <td>S026</td>\n",
       "      <td>P19</td>\n",
       "      <td>T090</td>\n",
       "      <td>affected</td>\n",
       "      <td>R</td>\n",
       "      <td>-2.0000</td>\n",
       "      <td>1</td>\n",
       "      <td>1.0</td>\n",
       "      <td>1.0</td>\n",
       "      <td>1.0</td>\n",
       "      <td>1.0</td>\n",
       "      <td>1</td>\n",
       "      <td>0</td>\n",
       "      <td>NaN</td>\n",
       "      <td>NaN</td>\n",
       "    </tr>\n",
       "    <tr>\n",
       "      <th>13316</th>\n",
       "      <td>S026</td>\n",
       "      <td>P19</td>\n",
       "      <td>T091</td>\n",
       "      <td>affected</td>\n",
       "      <td>R</td>\n",
       "      <td>-2.0000</td>\n",
       "      <td>1</td>\n",
       "      <td>1.0</td>\n",
       "      <td>1.0</td>\n",
       "      <td>1.0</td>\n",
       "      <td>1.0</td>\n",
       "      <td>1</td>\n",
       "      <td>0</td>\n",
       "      <td>NaN</td>\n",
       "      <td>NaN</td>\n",
       "    </tr>\n",
       "    <tr>\n",
       "      <th>13317</th>\n",
       "      <td>S026</td>\n",
       "      <td>P19</td>\n",
       "      <td>T092</td>\n",
       "      <td>affected</td>\n",
       "      <td>R</td>\n",
       "      <td>-2.0000</td>\n",
       "      <td>1</td>\n",
       "      <td>1.0</td>\n",
       "      <td>1.0</td>\n",
       "      <td>0.0</td>\n",
       "      <td>0.0</td>\n",
       "      <td>0</td>\n",
       "      <td>1</td>\n",
       "      <td>Murphy</td>\n",
       "      <td>time-series for measures not found in preproce...</td>\n",
       "    </tr>\n",
       "    <tr>\n",
       "      <th>13318</th>\n",
       "      <td>S026</td>\n",
       "      <td>P19</td>\n",
       "      <td>T093</td>\n",
       "      <td>affected</td>\n",
       "      <td>R</td>\n",
       "      <td>-2.0000</td>\n",
       "      <td>1</td>\n",
       "      <td>1.0</td>\n",
       "      <td>1.0</td>\n",
       "      <td>1.0</td>\n",
       "      <td>1.0</td>\n",
       "      <td>1</td>\n",
       "      <td>0</td>\n",
       "      <td>NaN</td>\n",
       "      <td>NaN</td>\n",
       "    </tr>\n",
       "    <tr>\n",
       "      <th>13319</th>\n",
       "      <td>S026</td>\n",
       "      <td>P19</td>\n",
       "      <td>T094</td>\n",
       "      <td>affected</td>\n",
       "      <td>R</td>\n",
       "      <td>-2.0000</td>\n",
       "      <td>1</td>\n",
       "      <td>1.0</td>\n",
       "      <td>1.0</td>\n",
       "      <td>1.0</td>\n",
       "      <td>1.0</td>\n",
       "      <td>1</td>\n",
       "      <td>0</td>\n",
       "      <td>NaN</td>\n",
       "      <td>NaN</td>\n",
       "    </tr>\n",
       "  </tbody>\n",
       "</table>\n",
       "<p>13320 rows × 15 columns</p>\n",
       "</div>"
      ],
      "text/plain": [
       "       id_s id_p  id_t    affected side  calib_error  HPE  P2S   OS  murphy  \\\n",
       "0      S001  P07  T001  unaffected    L       1.3857    1  1.0  1.0     0.0   \n",
       "1      S001  P07  T002  unaffected    L       1.3857    1  1.0  1.0     1.0   \n",
       "2      S001  P07  T003  unaffected    L       1.3857    1  1.0  1.0     1.0   \n",
       "3      S001  P07  T004  unaffected    L       1.3857    1  1.0  1.0     1.0   \n",
       "4      S001  P07  T005  unaffected    L       1.3857    1  1.0  1.0     1.0   \n",
       "...     ...  ...   ...         ...  ...          ...  ...  ...  ...     ...   \n",
       "13315  S026  P19  T090    affected    R      -2.0000    1  1.0  1.0     1.0   \n",
       "13316  S026  P19  T091    affected    R      -2.0000    1  1.0  1.0     1.0   \n",
       "13317  S026  P19  T092    affected    R      -2.0000    1  1.0  1.0     0.0   \n",
       "13318  S026  P19  T093    affected    R      -2.0000    1  1.0  1.0     1.0   \n",
       "13319  S026  P19  T094    affected    R      -2.0000    1  1.0  1.0     1.0   \n",
       "\n",
       "       murphy_omc  success  fail failed_at  \\\n",
       "0             0.0        0     1    Murphy   \n",
       "1             1.0        1     0       NaN   \n",
       "2             1.0        1     0       NaN   \n",
       "3             1.0        1     0       NaN   \n",
       "4             1.0        1     0       NaN   \n",
       "...           ...      ...   ...       ...   \n",
       "13315         1.0        1     0       NaN   \n",
       "13316         1.0        1     0       NaN   \n",
       "13317         0.0        0     1    Murphy   \n",
       "13318         1.0        1     0       NaN   \n",
       "13319         1.0        1     0       NaN   \n",
       "\n",
       "                                                  reason  \n",
       "0      time-series for measures not found in preproce...  \n",
       "1                                                    NaN  \n",
       "2                                                    NaN  \n",
       "3                                                    NaN  \n",
       "4                                                    NaN  \n",
       "...                                                  ...  \n",
       "13315                                                NaN  \n",
       "13316                                                NaN  \n",
       "13317  time-series for measures not found in preproce...  \n",
       "13318                                                NaN  \n",
       "13319                                                NaN  \n",
       "\n",
       "[13320 rows x 15 columns]"
      ]
     },
     "execution_count": 25,
     "metadata": {},
     "output_type": "execute_result"
    }
   ],
   "source": [
    "df_failed_trials"
   ]
  },
  {
   "cell_type": "code",
   "execution_count": 26,
   "id": "848118265b99e166",
   "metadata": {
    "ExecuteTime": {
     "end_time": "2024-12-28T20:14:22.866060400Z",
     "start_time": "2024-12-22T10:06:01.944248Z"
    }
   },
   "outputs": [
    {
     "name": "stdout",
     "output_type": "stream",
     "text": [
      "\\begin{tabular}{llr}\n",
      " & failed_at & count \\\\\n",
      "0 & HPE & 72 \\\\\n",
      "1 & Murphy & 388 \\\\\n",
      "2 & OS & 2517 \\\\\n",
      "3 & P2S & 1262 \\\\\n",
      "\\end{tabular}\n",
      "\n"
     ]
    }
   ],
   "source": [
    "print(df_failed_trials.groupby(['failed_at']).size().reset_index(name='count').style.to_latex())"
   ]
  },
  {
   "cell_type": "code",
   "execution_count": 9,
   "id": "3305535d683029bd",
   "metadata": {
    "ExecuteTime": {
     "end_time": "2024-12-28T20:16:10.676990Z",
     "start_time": "2024-12-28T20:16:10.666090Z"
    }
   },
   "outputs": [
    {
     "data": {
      "text/html": [
       "<div>\n",
       "<style scoped>\n",
       "    .dataframe tbody tr th:only-of-type {\n",
       "        vertical-align: middle;\n",
       "    }\n",
       "\n",
       "    .dataframe tbody tr th {\n",
       "        vertical-align: top;\n",
       "    }\n",
       "\n",
       "    .dataframe thead th {\n",
       "        text-align: right;\n",
       "    }\n",
       "</style>\n",
       "<table border=\"1\" class=\"dataframe\">\n",
       "  <thead>\n",
       "    <tr style=\"text-align: right;\">\n",
       "      <th></th>\n",
       "      <th>date</th>\n",
       "      <th>time</th>\n",
       "      <th>id_s</th>\n",
       "      <th>id_p</th>\n",
       "      <th>cam_used</th>\n",
       "      <th>error</th>\n",
       "    </tr>\n",
       "  </thead>\n",
       "  <tbody>\n",
       "    <tr>\n",
       "      <th>0</th>\n",
       "      <td>08.11.2024</td>\n",
       "      <td>11:55:56</td>\n",
       "      <td>S001</td>\n",
       "      <td>P15</td>\n",
       "      <td>cam1, cam2, cam3, cam4, cam5</td>\n",
       "      <td>1.730408</td>\n",
       "    </tr>\n",
       "    <tr>\n",
       "      <th>1</th>\n",
       "      <td>08.11.2024</td>\n",
       "      <td>12:15:35</td>\n",
       "      <td>S003</td>\n",
       "      <td>P15</td>\n",
       "      <td>cam6, cam7, cam8, cam9, cam10</td>\n",
       "      <td>1.736733</td>\n",
       "    </tr>\n",
       "    <tr>\n",
       "      <th>2</th>\n",
       "      <td>08.11.2024</td>\n",
       "      <td>12:26:16</td>\n",
       "      <td>S005</td>\n",
       "      <td>P15</td>\n",
       "      <td>cam1, cam3, cam5</td>\n",
       "      <td>1.651214</td>\n",
       "    </tr>\n",
       "    <tr>\n",
       "      <th>3</th>\n",
       "      <td>08.11.2024</td>\n",
       "      <td>12:36:50</td>\n",
       "      <td>S007</td>\n",
       "      <td>P15</td>\n",
       "      <td>cam2, cam3, cam4</td>\n",
       "      <td>1.648930</td>\n",
       "    </tr>\n",
       "    <tr>\n",
       "      <th>4</th>\n",
       "      <td>08.11.2024</td>\n",
       "      <td>12:47:11</td>\n",
       "      <td>S009</td>\n",
       "      <td>P15</td>\n",
       "      <td>cam6, cam8, cam10</td>\n",
       "      <td>1.647874</td>\n",
       "    </tr>\n",
       "    <tr>\n",
       "      <th>5</th>\n",
       "      <td>08.11.2024</td>\n",
       "      <td>12:57:30</td>\n",
       "      <td>S011</td>\n",
       "      <td>P15</td>\n",
       "      <td>cam7, cam8, cam9</td>\n",
       "      <td>1.645155</td>\n",
       "    </tr>\n",
       "    <tr>\n",
       "      <th>6</th>\n",
       "      <td>08.11.2024</td>\n",
       "      <td>13:03:08</td>\n",
       "      <td>S013</td>\n",
       "      <td>P15</td>\n",
       "      <td>cam2, cam4</td>\n",
       "      <td>0.754633</td>\n",
       "    </tr>\n",
       "    <tr>\n",
       "      <th>7</th>\n",
       "      <td>08.11.2024</td>\n",
       "      <td>13:08:51</td>\n",
       "      <td>S015</td>\n",
       "      <td>P15</td>\n",
       "      <td>cam7, cam9</td>\n",
       "      <td>0.736514</td>\n",
       "    </tr>\n",
       "    <tr>\n",
       "      <th>8</th>\n",
       "      <td>08.11.2024</td>\n",
       "      <td>14:18:59</td>\n",
       "      <td>S001</td>\n",
       "      <td>P19</td>\n",
       "      <td>cam1, cam2, cam3, cam4, cam5</td>\n",
       "      <td>7.267665</td>\n",
       "    </tr>\n",
       "    <tr>\n",
       "      <th>9</th>\n",
       "      <td>08.11.2024</td>\n",
       "      <td>14:41:44</td>\n",
       "      <td>S003</td>\n",
       "      <td>P19</td>\n",
       "      <td>cam6, cam7, cam8, cam9, cam10</td>\n",
       "      <td>7.283054</td>\n",
       "    </tr>\n",
       "    <tr>\n",
       "      <th>10</th>\n",
       "      <td>08.11.2024</td>\n",
       "      <td>14:54:21</td>\n",
       "      <td>S005</td>\n",
       "      <td>P19</td>\n",
       "      <td>cam1, cam3, cam5</td>\n",
       "      <td>7.696826</td>\n",
       "    </tr>\n",
       "    <tr>\n",
       "      <th>11</th>\n",
       "      <td>08.11.2024</td>\n",
       "      <td>15:06:48</td>\n",
       "      <td>S007</td>\n",
       "      <td>P19</td>\n",
       "      <td>cam2, cam3, cam4</td>\n",
       "      <td>7.907884</td>\n",
       "    </tr>\n",
       "    <tr>\n",
       "      <th>12</th>\n",
       "      <td>08.11.2024</td>\n",
       "      <td>15:19:25</td>\n",
       "      <td>S009</td>\n",
       "      <td>P19</td>\n",
       "      <td>cam6, cam8, cam10</td>\n",
       "      <td>7.697961</td>\n",
       "    </tr>\n",
       "    <tr>\n",
       "      <th>13</th>\n",
       "      <td>08.11.2024</td>\n",
       "      <td>15:31:58</td>\n",
       "      <td>S011</td>\n",
       "      <td>P19</td>\n",
       "      <td>cam7, cam8, cam9</td>\n",
       "      <td>8.021960</td>\n",
       "    </tr>\n",
       "    <tr>\n",
       "      <th>14</th>\n",
       "      <td>08.11.2024</td>\n",
       "      <td>15:39:14</td>\n",
       "      <td>S013</td>\n",
       "      <td>P19</td>\n",
       "      <td>cam2, cam4</td>\n",
       "      <td>6.712056</td>\n",
       "    </tr>\n",
       "    <tr>\n",
       "      <th>15</th>\n",
       "      <td>08.11.2024</td>\n",
       "      <td>15:46:33</td>\n",
       "      <td>S015</td>\n",
       "      <td>P19</td>\n",
       "      <td>cam7, cam9</td>\n",
       "      <td>6.246702</td>\n",
       "    </tr>\n",
       "    <tr>\n",
       "      <th>16</th>\n",
       "      <td>08.11.2024</td>\n",
       "      <td>16:56:26</td>\n",
       "      <td>S001</td>\n",
       "      <td>P241</td>\n",
       "      <td>cam1, cam2, cam3, cam4, cam5</td>\n",
       "      <td>2.545337</td>\n",
       "    </tr>\n",
       "    <tr>\n",
       "      <th>17</th>\n",
       "      <td>08.11.2024</td>\n",
       "      <td>17:15:31</td>\n",
       "      <td>S005</td>\n",
       "      <td>P241</td>\n",
       "      <td>cam1, cam3, cam5</td>\n",
       "      <td>0.885035</td>\n",
       "    </tr>\n",
       "    <tr>\n",
       "      <th>18</th>\n",
       "      <td>08.11.2024</td>\n",
       "      <td>17:34:45</td>\n",
       "      <td>S007</td>\n",
       "      <td>P241</td>\n",
       "      <td>cam2, cam3, cam4</td>\n",
       "      <td>0.861323</td>\n",
       "    </tr>\n",
       "    <tr>\n",
       "      <th>19</th>\n",
       "      <td>08.11.2024</td>\n",
       "      <td>17:45:44</td>\n",
       "      <td>S013</td>\n",
       "      <td>P241</td>\n",
       "      <td>cam2, cam4</td>\n",
       "      <td>0.575685</td>\n",
       "    </tr>\n",
       "    <tr>\n",
       "      <th>20</th>\n",
       "      <td>08.11.2024</td>\n",
       "      <td>19:03:43</td>\n",
       "      <td>S001</td>\n",
       "      <td>P242</td>\n",
       "      <td>cam1, cam2, cam3, cam4, cam5</td>\n",
       "      <td>2.525373</td>\n",
       "    </tr>\n",
       "    <tr>\n",
       "      <th>21</th>\n",
       "      <td>08.11.2024</td>\n",
       "      <td>19:26:18</td>\n",
       "      <td>S005</td>\n",
       "      <td>P242</td>\n",
       "      <td>cam1, cam3, cam5</td>\n",
       "      <td>0.760580</td>\n",
       "    </tr>\n",
       "    <tr>\n",
       "      <th>22</th>\n",
       "      <td>08.11.2024</td>\n",
       "      <td>19:48:51</td>\n",
       "      <td>S007</td>\n",
       "      <td>P242</td>\n",
       "      <td>cam2, cam3, cam4</td>\n",
       "      <td>0.792664</td>\n",
       "    </tr>\n",
       "    <tr>\n",
       "      <th>23</th>\n",
       "      <td>08.11.2024</td>\n",
       "      <td>20:02:00</td>\n",
       "      <td>S013</td>\n",
       "      <td>P242</td>\n",
       "      <td>cam2, cam4</td>\n",
       "      <td>0.599889</td>\n",
       "    </tr>\n",
       "    <tr>\n",
       "      <th>24</th>\n",
       "      <td>08.11.2024</td>\n",
       "      <td>22:43:54</td>\n",
       "      <td>S001</td>\n",
       "      <td>P251</td>\n",
       "      <td>cam1, cam2, cam3, cam4, cam5</td>\n",
       "      <td>0.469230</td>\n",
       "    </tr>\n",
       "    <tr>\n",
       "      <th>25</th>\n",
       "      <td>08.11.2024</td>\n",
       "      <td>23:28:08</td>\n",
       "      <td>S005</td>\n",
       "      <td>P251</td>\n",
       "      <td>cam1, cam3, cam5</td>\n",
       "      <td>0.370609</td>\n",
       "    </tr>\n",
       "    <tr>\n",
       "      <th>26</th>\n",
       "      <td>09.11.2024</td>\n",
       "      <td>00:14:04</td>\n",
       "      <td>S007</td>\n",
       "      <td>P251</td>\n",
       "      <td>cam2, cam3, cam4</td>\n",
       "      <td>0.384466</td>\n",
       "    </tr>\n",
       "    <tr>\n",
       "      <th>27</th>\n",
       "      <td>09.11.2024</td>\n",
       "      <td>00:40:23</td>\n",
       "      <td>S013</td>\n",
       "      <td>P251</td>\n",
       "      <td>cam2, cam4</td>\n",
       "      <td>0.194517</td>\n",
       "    </tr>\n",
       "    <tr>\n",
       "      <th>28</th>\n",
       "      <td>09.11.2024</td>\n",
       "      <td>01:27:46</td>\n",
       "      <td>S001</td>\n",
       "      <td>P252</td>\n",
       "      <td>cam1, cam2, cam3, cam4, cam5</td>\n",
       "      <td>3.183073</td>\n",
       "    </tr>\n",
       "    <tr>\n",
       "      <th>29</th>\n",
       "      <td>09.11.2024</td>\n",
       "      <td>01:42:10</td>\n",
       "      <td>S005</td>\n",
       "      <td>P252</td>\n",
       "      <td>cam1, cam3, cam5</td>\n",
       "      <td>0.758476</td>\n",
       "    </tr>\n",
       "    <tr>\n",
       "      <th>30</th>\n",
       "      <td>09.11.2024</td>\n",
       "      <td>01:56:34</td>\n",
       "      <td>S007</td>\n",
       "      <td>P252</td>\n",
       "      <td>cam2, cam3, cam4</td>\n",
       "      <td>0.747517</td>\n",
       "    </tr>\n",
       "    <tr>\n",
       "      <th>31</th>\n",
       "      <td>09.11.2024</td>\n",
       "      <td>02:05:22</td>\n",
       "      <td>S013</td>\n",
       "      <td>P252</td>\n",
       "      <td>cam2, cam4</td>\n",
       "      <td>0.432021</td>\n",
       "    </tr>\n",
       "    <tr>\n",
       "      <th>32</th>\n",
       "      <td>08.11.2024</td>\n",
       "      <td>11:19:52</td>\n",
       "      <td>S001</td>\n",
       "      <td>P07</td>\n",
       "      <td>cam1, cam2, cam3, cam4, cam5</td>\n",
       "      <td>1.385700</td>\n",
       "    </tr>\n",
       "    <tr>\n",
       "      <th>33</th>\n",
       "      <td>08.11.2024</td>\n",
       "      <td>11:23:34</td>\n",
       "      <td>S005</td>\n",
       "      <td>P07</td>\n",
       "      <td>cam1, cam3, cam5</td>\n",
       "      <td>1.462317</td>\n",
       "    </tr>\n",
       "    <tr>\n",
       "      <th>34</th>\n",
       "      <td>08.11.2024</td>\n",
       "      <td>11:27:14</td>\n",
       "      <td>S007</td>\n",
       "      <td>P07</td>\n",
       "      <td>cam2, cam3, cam4</td>\n",
       "      <td>1.452339</td>\n",
       "    </tr>\n",
       "    <tr>\n",
       "      <th>35</th>\n",
       "      <td>08.11.2024</td>\n",
       "      <td>11:29:31</td>\n",
       "      <td>S013</td>\n",
       "      <td>P07</td>\n",
       "      <td>cam2, cam4</td>\n",
       "      <td>0.587715</td>\n",
       "    </tr>\n",
       "    <tr>\n",
       "      <th>36</th>\n",
       "      <td>08.11.2024</td>\n",
       "      <td>11:31:50</td>\n",
       "      <td>S015</td>\n",
       "      <td>P07</td>\n",
       "      <td>cam7, cam9</td>\n",
       "      <td>0.589697</td>\n",
       "    </tr>\n",
       "    <tr>\n",
       "      <th>37</th>\n",
       "      <td>08.11.2024</td>\n",
       "      <td>11:51:22</td>\n",
       "      <td>S001</td>\n",
       "      <td>P08</td>\n",
       "      <td>cam1, cam2, cam3, cam4, cam5</td>\n",
       "      <td>1.132042</td>\n",
       "    </tr>\n",
       "    <tr>\n",
       "      <th>38</th>\n",
       "      <td>08.11.2024</td>\n",
       "      <td>11:56:16</td>\n",
       "      <td>S005</td>\n",
       "      <td>P08</td>\n",
       "      <td>cam1, cam3, cam5</td>\n",
       "      <td>0.758549</td>\n",
       "    </tr>\n",
       "    <tr>\n",
       "      <th>39</th>\n",
       "      <td>08.11.2024</td>\n",
       "      <td>12:01:09</td>\n",
       "      <td>S007</td>\n",
       "      <td>P08</td>\n",
       "      <td>cam2, cam3, cam4</td>\n",
       "      <td>0.737334</td>\n",
       "    </tr>\n",
       "    <tr>\n",
       "      <th>40</th>\n",
       "      <td>08.11.2024</td>\n",
       "      <td>12:04:21</td>\n",
       "      <td>S013</td>\n",
       "      <td>P08</td>\n",
       "      <td>cam2, cam4</td>\n",
       "      <td>0.287760</td>\n",
       "    </tr>\n",
       "    <tr>\n",
       "      <th>41</th>\n",
       "      <td>08.11.2024</td>\n",
       "      <td>12:40:31</td>\n",
       "      <td>S001</td>\n",
       "      <td>P10</td>\n",
       "      <td>cam1, cam2, cam3, cam4, cam5</td>\n",
       "      <td>5.603799</td>\n",
       "    </tr>\n",
       "    <tr>\n",
       "      <th>42</th>\n",
       "      <td>08.11.2024</td>\n",
       "      <td>12:51:20</td>\n",
       "      <td>S005</td>\n",
       "      <td>P10</td>\n",
       "      <td>cam1, cam3, cam5</td>\n",
       "      <td>0.969596</td>\n",
       "    </tr>\n",
       "    <tr>\n",
       "      <th>43</th>\n",
       "      <td>08.11.2024</td>\n",
       "      <td>13:02:10</td>\n",
       "      <td>S007</td>\n",
       "      <td>P10</td>\n",
       "      <td>cam2, cam3, cam4</td>\n",
       "      <td>0.959856</td>\n",
       "    </tr>\n",
       "    <tr>\n",
       "      <th>44</th>\n",
       "      <td>08.11.2024</td>\n",
       "      <td>13:08:40</td>\n",
       "      <td>S013</td>\n",
       "      <td>P10</td>\n",
       "      <td>cam2, cam4</td>\n",
       "      <td>0.528535</td>\n",
       "    </tr>\n",
       "    <tr>\n",
       "      <th>45</th>\n",
       "      <td>08.11.2024</td>\n",
       "      <td>13:40:22</td>\n",
       "      <td>S001</td>\n",
       "      <td>P11</td>\n",
       "      <td>cam1, cam2, cam3, cam4, cam5</td>\n",
       "      <td>19.981685</td>\n",
       "    </tr>\n",
       "    <tr>\n",
       "      <th>46</th>\n",
       "      <td>08.11.2024</td>\n",
       "      <td>13:49:26</td>\n",
       "      <td>S005</td>\n",
       "      <td>P11</td>\n",
       "      <td>cam1, cam3, cam5</td>\n",
       "      <td>19.971588</td>\n",
       "    </tr>\n",
       "    <tr>\n",
       "      <th>47</th>\n",
       "      <td>08.11.2024</td>\n",
       "      <td>13:58:27</td>\n",
       "      <td>S007</td>\n",
       "      <td>P11</td>\n",
       "      <td>cam2, cam3, cam4</td>\n",
       "      <td>20.848321</td>\n",
       "    </tr>\n",
       "    <tr>\n",
       "      <th>48</th>\n",
       "      <td>08.11.2024</td>\n",
       "      <td>14:03:20</td>\n",
       "      <td>S013</td>\n",
       "      <td>P11</td>\n",
       "      <td>cam2, cam4</td>\n",
       "      <td>12.103493</td>\n",
       "    </tr>\n",
       "    <tr>\n",
       "      <th>49</th>\n",
       "      <td>08.11.2024</td>\n",
       "      <td>14:43:10</td>\n",
       "      <td>S001</td>\n",
       "      <td>P12</td>\n",
       "      <td>cam1, cam2, cam3, cam4, cam5</td>\n",
       "      <td>4.753502</td>\n",
       "    </tr>\n",
       "    <tr>\n",
       "      <th>50</th>\n",
       "      <td>08.11.2024</td>\n",
       "      <td>14:55:06</td>\n",
       "      <td>S005</td>\n",
       "      <td>P12</td>\n",
       "      <td>cam1, cam3, cam5</td>\n",
       "      <td>1.415610</td>\n",
       "    </tr>\n",
       "    <tr>\n",
       "      <th>51</th>\n",
       "      <td>08.11.2024</td>\n",
       "      <td>15:06:54</td>\n",
       "      <td>S007</td>\n",
       "      <td>P12</td>\n",
       "      <td>cam2, cam3, cam4</td>\n",
       "      <td>1.405195</td>\n",
       "    </tr>\n",
       "    <tr>\n",
       "      <th>52</th>\n",
       "      <td>08.11.2024</td>\n",
       "      <td>15:13:47</td>\n",
       "      <td>S013</td>\n",
       "      <td>P12</td>\n",
       "      <td>cam2, cam4</td>\n",
       "      <td>0.844891</td>\n",
       "    </tr>\n",
       "  </tbody>\n",
       "</table>\n",
       "</div>"
      ],
      "text/plain": [
       "          date      time  id_s  id_p                       cam_used      error\n",
       "0   08.11.2024  11:55:56  S001   P15   cam1, cam2, cam3, cam4, cam5   1.730408\n",
       "1   08.11.2024  12:15:35  S003   P15  cam6, cam7, cam8, cam9, cam10   1.736733\n",
       "2   08.11.2024  12:26:16  S005   P15               cam1, cam3, cam5   1.651214\n",
       "3   08.11.2024  12:36:50  S007   P15               cam2, cam3, cam4   1.648930\n",
       "4   08.11.2024  12:47:11  S009   P15              cam6, cam8, cam10   1.647874\n",
       "5   08.11.2024  12:57:30  S011   P15               cam7, cam8, cam9   1.645155\n",
       "6   08.11.2024  13:03:08  S013   P15                     cam2, cam4   0.754633\n",
       "7   08.11.2024  13:08:51  S015   P15                     cam7, cam9   0.736514\n",
       "8   08.11.2024  14:18:59  S001   P19   cam1, cam2, cam3, cam4, cam5   7.267665\n",
       "9   08.11.2024  14:41:44  S003   P19  cam6, cam7, cam8, cam9, cam10   7.283054\n",
       "10  08.11.2024  14:54:21  S005   P19               cam1, cam3, cam5   7.696826\n",
       "11  08.11.2024  15:06:48  S007   P19               cam2, cam3, cam4   7.907884\n",
       "12  08.11.2024  15:19:25  S009   P19              cam6, cam8, cam10   7.697961\n",
       "13  08.11.2024  15:31:58  S011   P19               cam7, cam8, cam9   8.021960\n",
       "14  08.11.2024  15:39:14  S013   P19                     cam2, cam4   6.712056\n",
       "15  08.11.2024  15:46:33  S015   P19                     cam7, cam9   6.246702\n",
       "16  08.11.2024  16:56:26  S001  P241   cam1, cam2, cam3, cam4, cam5   2.545337\n",
       "17  08.11.2024  17:15:31  S005  P241               cam1, cam3, cam5   0.885035\n",
       "18  08.11.2024  17:34:45  S007  P241               cam2, cam3, cam4   0.861323\n",
       "19  08.11.2024  17:45:44  S013  P241                     cam2, cam4   0.575685\n",
       "20  08.11.2024  19:03:43  S001  P242   cam1, cam2, cam3, cam4, cam5   2.525373\n",
       "21  08.11.2024  19:26:18  S005  P242               cam1, cam3, cam5   0.760580\n",
       "22  08.11.2024  19:48:51  S007  P242               cam2, cam3, cam4   0.792664\n",
       "23  08.11.2024  20:02:00  S013  P242                     cam2, cam4   0.599889\n",
       "24  08.11.2024  22:43:54  S001  P251   cam1, cam2, cam3, cam4, cam5   0.469230\n",
       "25  08.11.2024  23:28:08  S005  P251               cam1, cam3, cam5   0.370609\n",
       "26  09.11.2024  00:14:04  S007  P251               cam2, cam3, cam4   0.384466\n",
       "27  09.11.2024  00:40:23  S013  P251                     cam2, cam4   0.194517\n",
       "28  09.11.2024  01:27:46  S001  P252   cam1, cam2, cam3, cam4, cam5   3.183073\n",
       "29  09.11.2024  01:42:10  S005  P252               cam1, cam3, cam5   0.758476\n",
       "30  09.11.2024  01:56:34  S007  P252               cam2, cam3, cam4   0.747517\n",
       "31  09.11.2024  02:05:22  S013  P252                     cam2, cam4   0.432021\n",
       "32  08.11.2024  11:19:52  S001   P07   cam1, cam2, cam3, cam4, cam5   1.385700\n",
       "33  08.11.2024  11:23:34  S005   P07               cam1, cam3, cam5   1.462317\n",
       "34  08.11.2024  11:27:14  S007   P07               cam2, cam3, cam4   1.452339\n",
       "35  08.11.2024  11:29:31  S013   P07                     cam2, cam4   0.587715\n",
       "36  08.11.2024  11:31:50  S015   P07                     cam7, cam9   0.589697\n",
       "37  08.11.2024  11:51:22  S001   P08   cam1, cam2, cam3, cam4, cam5   1.132042\n",
       "38  08.11.2024  11:56:16  S005   P08               cam1, cam3, cam5   0.758549\n",
       "39  08.11.2024  12:01:09  S007   P08               cam2, cam3, cam4   0.737334\n",
       "40  08.11.2024  12:04:21  S013   P08                     cam2, cam4   0.287760\n",
       "41  08.11.2024  12:40:31  S001   P10   cam1, cam2, cam3, cam4, cam5   5.603799\n",
       "42  08.11.2024  12:51:20  S005   P10               cam1, cam3, cam5   0.969596\n",
       "43  08.11.2024  13:02:10  S007   P10               cam2, cam3, cam4   0.959856\n",
       "44  08.11.2024  13:08:40  S013   P10                     cam2, cam4   0.528535\n",
       "45  08.11.2024  13:40:22  S001   P11   cam1, cam2, cam3, cam4, cam5  19.981685\n",
       "46  08.11.2024  13:49:26  S005   P11               cam1, cam3, cam5  19.971588\n",
       "47  08.11.2024  13:58:27  S007   P11               cam2, cam3, cam4  20.848321\n",
       "48  08.11.2024  14:03:20  S013   P11                     cam2, cam4  12.103493\n",
       "49  08.11.2024  14:43:10  S001   P12   cam1, cam2, cam3, cam4, cam5   4.753502\n",
       "50  08.11.2024  14:55:06  S005   P12               cam1, cam3, cam5   1.415610\n",
       "51  08.11.2024  15:06:54  S007   P12               cam2, cam3, cam4   1.405195\n",
       "52  08.11.2024  15:13:47  S013   P12                     cam2, cam4   0.844891"
      ]
     },
     "execution_count": 9,
     "metadata": {},
     "output_type": "execute_result"
    }
   ],
   "source": [
    "df_calib_error"
   ]
  },
  {
   "cell_type": "code",
   "execution_count": 10,
   "id": "46529d95cfeae35c",
   "metadata": {
    "ExecuteTime": {
     "end_time": "2024-12-28T20:16:16.418455Z",
     "start_time": "2024-12-28T20:16:16.408034Z"
    }
   },
   "outputs": [
    {
     "name": "stderr",
     "output_type": "stream",
     "text": [
      "C:\\Users\\johan\\AppData\\Local\\Temp\\ipykernel_34948\\2798537533.py:1: FutureWarning:\n",
      "\n",
      "The default value of numeric_only in DataFrameGroupBy.mean is deprecated. In a future version, numeric_only will default to False. Either specify numeric_only or select only columns which should be valid for the function.\n",
      "\n"
     ]
    },
    {
     "data": {
      "text/html": [
       "<div>\n",
       "<style scoped>\n",
       "    .dataframe tbody tr th:only-of-type {\n",
       "        vertical-align: middle;\n",
       "    }\n",
       "\n",
       "    .dataframe tbody tr th {\n",
       "        vertical-align: top;\n",
       "    }\n",
       "\n",
       "    .dataframe thead th {\n",
       "        text-align: right;\n",
       "    }\n",
       "</style>\n",
       "<table border=\"1\" class=\"dataframe\">\n",
       "  <thead>\n",
       "    <tr style=\"text-align: right;\">\n",
       "      <th></th>\n",
       "      <th>id_p</th>\n",
       "      <th>error</th>\n",
       "    </tr>\n",
       "  </thead>\n",
       "  <tbody>\n",
       "    <tr>\n",
       "      <th>0</th>\n",
       "      <td>P07</td>\n",
       "      <td>1.095553</td>\n",
       "    </tr>\n",
       "    <tr>\n",
       "      <th>1</th>\n",
       "      <td>P08</td>\n",
       "      <td>0.728921</td>\n",
       "    </tr>\n",
       "    <tr>\n",
       "      <th>2</th>\n",
       "      <td>P10</td>\n",
       "      <td>2.015446</td>\n",
       "    </tr>\n",
       "    <tr>\n",
       "      <th>3</th>\n",
       "      <td>P11</td>\n",
       "      <td>18.226272</td>\n",
       "    </tr>\n",
       "    <tr>\n",
       "      <th>4</th>\n",
       "      <td>P12</td>\n",
       "      <td>2.104800</td>\n",
       "    </tr>\n",
       "    <tr>\n",
       "      <th>5</th>\n",
       "      <td>P15</td>\n",
       "      <td>1.443933</td>\n",
       "    </tr>\n",
       "    <tr>\n",
       "      <th>6</th>\n",
       "      <td>P19</td>\n",
       "      <td>7.354264</td>\n",
       "    </tr>\n",
       "    <tr>\n",
       "      <th>7</th>\n",
       "      <td>P241</td>\n",
       "      <td>1.216845</td>\n",
       "    </tr>\n",
       "    <tr>\n",
       "      <th>8</th>\n",
       "      <td>P242</td>\n",
       "      <td>1.169626</td>\n",
       "    </tr>\n",
       "    <tr>\n",
       "      <th>9</th>\n",
       "      <td>P251</td>\n",
       "      <td>0.354706</td>\n",
       "    </tr>\n",
       "    <tr>\n",
       "      <th>10</th>\n",
       "      <td>P252</td>\n",
       "      <td>1.280272</td>\n",
       "    </tr>\n",
       "  </tbody>\n",
       "</table>\n",
       "</div>"
      ],
      "text/plain": [
       "    id_p      error\n",
       "0    P07   1.095553\n",
       "1    P08   0.728921\n",
       "2    P10   2.015446\n",
       "3    P11  18.226272\n",
       "4    P12   2.104800\n",
       "5    P15   1.443933\n",
       "6    P19   7.354264\n",
       "7   P241   1.216845\n",
       "8   P242   1.169626\n",
       "9   P251   0.354706\n",
       "10  P252   1.280272"
      ]
     },
     "execution_count": 10,
     "metadata": {},
     "output_type": "execute_result"
    }
   ],
   "source": [
    "df_calib_error.groupby(['id_p']).mean().reset_index()\n"
   ]
  },
  {
   "cell_type": "code",
   "execution_count": 12,
   "id": "4f1b8bc3fe22eeac",
   "metadata": {
    "ExecuteTime": {
     "end_time": "2024-12-28T20:17:03.718015Z",
     "start_time": "2024-12-28T20:17:03.398090Z"
    }
   },
   "outputs": [
    {
     "data": {
      "application/vnd.plotly.v1+json": {
       "config": {
        "plotlyServerURL": "https://plot.ly"
       },
       "data": [
        {
         "alignmentgroup": "True",
         "hovertemplate": "Patient ID=%{x}<br>Reprojection error (px)=%{y}<extra></extra>",
         "legendgroup": "",
         "marker": {
          "color": "#636efa"
         },
         "name": "",
         "notched": false,
         "offsetgroup": "",
         "orientation": "v",
         "showlegend": false,
         "type": "box",
         "x": [
          "P07",
          "P07",
          "P07",
          "P07",
          "P07",
          "P08",
          "P08",
          "P08",
          "P08",
          "P10",
          "P10",
          "P10",
          "P10",
          "P11",
          "P11",
          "P11",
          "P11",
          "P12",
          "P12",
          "P12",
          "P12",
          "P15",
          "P15",
          "P15",
          "P15",
          "P15",
          "P15",
          "P15",
          "P15",
          "P19",
          "P19",
          "P19",
          "P19",
          "P19",
          "P19",
          "P19",
          "P19",
          "P241",
          "P241",
          "P241",
          "P241",
          "P242",
          "P242",
          "P242",
          "P242",
          "P251",
          "P251",
          "P251",
          "P251",
          "P252",
          "P252",
          "P252",
          "P252"
         ],
         "x0": " ",
         "xaxis": "x",
         "y": [
          0.5877149980743823,
          1.4623168789131638,
          1.452339071,
          1.3856998244070415,
          0.5896965025150871,
          1.132041664508491,
          0.7585488956505331,
          0.7373341750485854,
          0.287759823,
          5.603798834800886,
          0.5285352136094463,
          0.969595663,
          0.9598558765026692,
          19.98168538578729,
          19.971587873754725,
          20.84832116353782,
          12.103492991008787,
          0.8448913460241703,
          1.4156095618868552,
          4.753502019186575,
          1.4051951267127227,
          1.730408491868073,
          1.7367328125815646,
          1.6512135123870213,
          1.648929527712487,
          1.6478737746882477,
          1.6451552534350582,
          0.7546332462574536,
          0.7365135014097596,
          6.712056212710561,
          8.021960271265396,
          7.696826269613687,
          6.2467024165139176,
          7.283054153062226,
          7.697960651901122,
          7.267664633556111,
          7.907883622,
          0.8850350447548564,
          2.5453370903476875,
          0.5756849189331235,
          0.8613228237466151,
          0.7926636955784211,
          2.5253731800473043,
          0.5998886646935133,
          0.7605801982043499,
          0.1945172919916582,
          0.3706091119763433,
          0.4692301812111543,
          0.3844656955935694,
          0.4320205142804827,
          0.7475174944206365,
          0.7584760658388333,
          3.1830728067029423
         ],
         "y0": " ",
         "yaxis": "y"
        }
       ],
       "layout": {
        "boxmode": "group",
        "height": 600,
        "legend": {
         "tracegroupgap": 0
        },
        "template": {
         "data": {
          "bar": [
           {
            "error_x": {
             "color": "#2a3f5f"
            },
            "error_y": {
             "color": "#2a3f5f"
            },
            "marker": {
             "line": {
              "color": "#E5ECF6",
              "width": 0.5
             },
             "pattern": {
              "fillmode": "overlay",
              "size": 10,
              "solidity": 0.2
             }
            },
            "type": "bar"
           }
          ],
          "barpolar": [
           {
            "marker": {
             "line": {
              "color": "#E5ECF6",
              "width": 0.5
             },
             "pattern": {
              "fillmode": "overlay",
              "size": 10,
              "solidity": 0.2
             }
            },
            "type": "barpolar"
           }
          ],
          "carpet": [
           {
            "aaxis": {
             "endlinecolor": "#2a3f5f",
             "gridcolor": "white",
             "linecolor": "white",
             "minorgridcolor": "white",
             "startlinecolor": "#2a3f5f"
            },
            "baxis": {
             "endlinecolor": "#2a3f5f",
             "gridcolor": "white",
             "linecolor": "white",
             "minorgridcolor": "white",
             "startlinecolor": "#2a3f5f"
            },
            "type": "carpet"
           }
          ],
          "choropleth": [
           {
            "colorbar": {
             "outlinewidth": 0,
             "ticks": ""
            },
            "type": "choropleth"
           }
          ],
          "contour": [
           {
            "colorbar": {
             "outlinewidth": 0,
             "ticks": ""
            },
            "colorscale": [
             [
              0,
              "#0d0887"
             ],
             [
              0.1111111111111111,
              "#46039f"
             ],
             [
              0.2222222222222222,
              "#7201a8"
             ],
             [
              0.3333333333333333,
              "#9c179e"
             ],
             [
              0.4444444444444444,
              "#bd3786"
             ],
             [
              0.5555555555555556,
              "#d8576b"
             ],
             [
              0.6666666666666666,
              "#ed7953"
             ],
             [
              0.7777777777777778,
              "#fb9f3a"
             ],
             [
              0.8888888888888888,
              "#fdca26"
             ],
             [
              1,
              "#f0f921"
             ]
            ],
            "type": "contour"
           }
          ],
          "contourcarpet": [
           {
            "colorbar": {
             "outlinewidth": 0,
             "ticks": ""
            },
            "type": "contourcarpet"
           }
          ],
          "heatmap": [
           {
            "colorbar": {
             "outlinewidth": 0,
             "ticks": ""
            },
            "colorscale": [
             [
              0,
              "#0d0887"
             ],
             [
              0.1111111111111111,
              "#46039f"
             ],
             [
              0.2222222222222222,
              "#7201a8"
             ],
             [
              0.3333333333333333,
              "#9c179e"
             ],
             [
              0.4444444444444444,
              "#bd3786"
             ],
             [
              0.5555555555555556,
              "#d8576b"
             ],
             [
              0.6666666666666666,
              "#ed7953"
             ],
             [
              0.7777777777777778,
              "#fb9f3a"
             ],
             [
              0.8888888888888888,
              "#fdca26"
             ],
             [
              1,
              "#f0f921"
             ]
            ],
            "type": "heatmap"
           }
          ],
          "heatmapgl": [
           {
            "colorbar": {
             "outlinewidth": 0,
             "ticks": ""
            },
            "colorscale": [
             [
              0,
              "#0d0887"
             ],
             [
              0.1111111111111111,
              "#46039f"
             ],
             [
              0.2222222222222222,
              "#7201a8"
             ],
             [
              0.3333333333333333,
              "#9c179e"
             ],
             [
              0.4444444444444444,
              "#bd3786"
             ],
             [
              0.5555555555555556,
              "#d8576b"
             ],
             [
              0.6666666666666666,
              "#ed7953"
             ],
             [
              0.7777777777777778,
              "#fb9f3a"
             ],
             [
              0.8888888888888888,
              "#fdca26"
             ],
             [
              1,
              "#f0f921"
             ]
            ],
            "type": "heatmapgl"
           }
          ],
          "histogram": [
           {
            "marker": {
             "pattern": {
              "fillmode": "overlay",
              "size": 10,
              "solidity": 0.2
             }
            },
            "type": "histogram"
           }
          ],
          "histogram2d": [
           {
            "colorbar": {
             "outlinewidth": 0,
             "ticks": ""
            },
            "colorscale": [
             [
              0,
              "#0d0887"
             ],
             [
              0.1111111111111111,
              "#46039f"
             ],
             [
              0.2222222222222222,
              "#7201a8"
             ],
             [
              0.3333333333333333,
              "#9c179e"
             ],
             [
              0.4444444444444444,
              "#bd3786"
             ],
             [
              0.5555555555555556,
              "#d8576b"
             ],
             [
              0.6666666666666666,
              "#ed7953"
             ],
             [
              0.7777777777777778,
              "#fb9f3a"
             ],
             [
              0.8888888888888888,
              "#fdca26"
             ],
             [
              1,
              "#f0f921"
             ]
            ],
            "type": "histogram2d"
           }
          ],
          "histogram2dcontour": [
           {
            "colorbar": {
             "outlinewidth": 0,
             "ticks": ""
            },
            "colorscale": [
             [
              0,
              "#0d0887"
             ],
             [
              0.1111111111111111,
              "#46039f"
             ],
             [
              0.2222222222222222,
              "#7201a8"
             ],
             [
              0.3333333333333333,
              "#9c179e"
             ],
             [
              0.4444444444444444,
              "#bd3786"
             ],
             [
              0.5555555555555556,
              "#d8576b"
             ],
             [
              0.6666666666666666,
              "#ed7953"
             ],
             [
              0.7777777777777778,
              "#fb9f3a"
             ],
             [
              0.8888888888888888,
              "#fdca26"
             ],
             [
              1,
              "#f0f921"
             ]
            ],
            "type": "histogram2dcontour"
           }
          ],
          "mesh3d": [
           {
            "colorbar": {
             "outlinewidth": 0,
             "ticks": ""
            },
            "type": "mesh3d"
           }
          ],
          "parcoords": [
           {
            "line": {
             "colorbar": {
              "outlinewidth": 0,
              "ticks": ""
             }
            },
            "type": "parcoords"
           }
          ],
          "pie": [
           {
            "automargin": true,
            "type": "pie"
           }
          ],
          "scatter": [
           {
            "fillpattern": {
             "fillmode": "overlay",
             "size": 10,
             "solidity": 0.2
            },
            "type": "scatter"
           }
          ],
          "scatter3d": [
           {
            "line": {
             "colorbar": {
              "outlinewidth": 0,
              "ticks": ""
             }
            },
            "marker": {
             "colorbar": {
              "outlinewidth": 0,
              "ticks": ""
             }
            },
            "type": "scatter3d"
           }
          ],
          "scattercarpet": [
           {
            "marker": {
             "colorbar": {
              "outlinewidth": 0,
              "ticks": ""
             }
            },
            "type": "scattercarpet"
           }
          ],
          "scattergeo": [
           {
            "marker": {
             "colorbar": {
              "outlinewidth": 0,
              "ticks": ""
             }
            },
            "type": "scattergeo"
           }
          ],
          "scattergl": [
           {
            "marker": {
             "colorbar": {
              "outlinewidth": 0,
              "ticks": ""
             }
            },
            "type": "scattergl"
           }
          ],
          "scattermapbox": [
           {
            "marker": {
             "colorbar": {
              "outlinewidth": 0,
              "ticks": ""
             }
            },
            "type": "scattermapbox"
           }
          ],
          "scatterpolar": [
           {
            "marker": {
             "colorbar": {
              "outlinewidth": 0,
              "ticks": ""
             }
            },
            "type": "scatterpolar"
           }
          ],
          "scatterpolargl": [
           {
            "marker": {
             "colorbar": {
              "outlinewidth": 0,
              "ticks": ""
             }
            },
            "type": "scatterpolargl"
           }
          ],
          "scatterternary": [
           {
            "marker": {
             "colorbar": {
              "outlinewidth": 0,
              "ticks": ""
             }
            },
            "type": "scatterternary"
           }
          ],
          "surface": [
           {
            "colorbar": {
             "outlinewidth": 0,
             "ticks": ""
            },
            "colorscale": [
             [
              0,
              "#0d0887"
             ],
             [
              0.1111111111111111,
              "#46039f"
             ],
             [
              0.2222222222222222,
              "#7201a8"
             ],
             [
              0.3333333333333333,
              "#9c179e"
             ],
             [
              0.4444444444444444,
              "#bd3786"
             ],
             [
              0.5555555555555556,
              "#d8576b"
             ],
             [
              0.6666666666666666,
              "#ed7953"
             ],
             [
              0.7777777777777778,
              "#fb9f3a"
             ],
             [
              0.8888888888888888,
              "#fdca26"
             ],
             [
              1,
              "#f0f921"
             ]
            ],
            "type": "surface"
           }
          ],
          "table": [
           {
            "cells": {
             "fill": {
              "color": "#EBF0F8"
             },
             "line": {
              "color": "white"
             }
            },
            "header": {
             "fill": {
              "color": "#C8D4E3"
             },
             "line": {
              "color": "white"
             }
            },
            "type": "table"
           }
          ]
         },
         "layout": {
          "annotationdefaults": {
           "arrowcolor": "#2a3f5f",
           "arrowhead": 0,
           "arrowwidth": 1
          },
          "autotypenumbers": "strict",
          "coloraxis": {
           "colorbar": {
            "outlinewidth": 0,
            "ticks": ""
           }
          },
          "colorscale": {
           "diverging": [
            [
             0,
             "#8e0152"
            ],
            [
             0.1,
             "#c51b7d"
            ],
            [
             0.2,
             "#de77ae"
            ],
            [
             0.3,
             "#f1b6da"
            ],
            [
             0.4,
             "#fde0ef"
            ],
            [
             0.5,
             "#f7f7f7"
            ],
            [
             0.6,
             "#e6f5d0"
            ],
            [
             0.7,
             "#b8e186"
            ],
            [
             0.8,
             "#7fbc41"
            ],
            [
             0.9,
             "#4d9221"
            ],
            [
             1,
             "#276419"
            ]
           ],
           "sequential": [
            [
             0,
             "#0d0887"
            ],
            [
             0.1111111111111111,
             "#46039f"
            ],
            [
             0.2222222222222222,
             "#7201a8"
            ],
            [
             0.3333333333333333,
             "#9c179e"
            ],
            [
             0.4444444444444444,
             "#bd3786"
            ],
            [
             0.5555555555555556,
             "#d8576b"
            ],
            [
             0.6666666666666666,
             "#ed7953"
            ],
            [
             0.7777777777777778,
             "#fb9f3a"
            ],
            [
             0.8888888888888888,
             "#fdca26"
            ],
            [
             1,
             "#f0f921"
            ]
           ],
           "sequentialminus": [
            [
             0,
             "#0d0887"
            ],
            [
             0.1111111111111111,
             "#46039f"
            ],
            [
             0.2222222222222222,
             "#7201a8"
            ],
            [
             0.3333333333333333,
             "#9c179e"
            ],
            [
             0.4444444444444444,
             "#bd3786"
            ],
            [
             0.5555555555555556,
             "#d8576b"
            ],
            [
             0.6666666666666666,
             "#ed7953"
            ],
            [
             0.7777777777777778,
             "#fb9f3a"
            ],
            [
             0.8888888888888888,
             "#fdca26"
            ],
            [
             1,
             "#f0f921"
            ]
           ]
          },
          "colorway": [
           "#636efa",
           "#EF553B",
           "#00cc96",
           "#ab63fa",
           "#FFA15A",
           "#19d3f3",
           "#FF6692",
           "#B6E880",
           "#FF97FF",
           "#FECB52"
          ],
          "font": {
           "color": "#2a3f5f"
          },
          "geo": {
           "bgcolor": "white",
           "lakecolor": "white",
           "landcolor": "#E5ECF6",
           "showlakes": true,
           "showland": true,
           "subunitcolor": "white"
          },
          "hoverlabel": {
           "align": "left"
          },
          "hovermode": "closest",
          "mapbox": {
           "style": "light"
          },
          "paper_bgcolor": "white",
          "plot_bgcolor": "#E5ECF6",
          "polar": {
           "angularaxis": {
            "gridcolor": "white",
            "linecolor": "white",
            "ticks": ""
           },
           "bgcolor": "#E5ECF6",
           "radialaxis": {
            "gridcolor": "white",
            "linecolor": "white",
            "ticks": ""
           }
          },
          "scene": {
           "xaxis": {
            "backgroundcolor": "#E5ECF6",
            "gridcolor": "white",
            "gridwidth": 2,
            "linecolor": "white",
            "showbackground": true,
            "ticks": "",
            "zerolinecolor": "white"
           },
           "yaxis": {
            "backgroundcolor": "#E5ECF6",
            "gridcolor": "white",
            "gridwidth": 2,
            "linecolor": "white",
            "showbackground": true,
            "ticks": "",
            "zerolinecolor": "white"
           },
           "zaxis": {
            "backgroundcolor": "#E5ECF6",
            "gridcolor": "white",
            "gridwidth": 2,
            "linecolor": "white",
            "showbackground": true,
            "ticks": "",
            "zerolinecolor": "white"
           }
          },
          "shapedefaults": {
           "line": {
            "color": "#2a3f5f"
           }
          },
          "ternary": {
           "aaxis": {
            "gridcolor": "white",
            "linecolor": "white",
            "ticks": ""
           },
           "baxis": {
            "gridcolor": "white",
            "linecolor": "white",
            "ticks": ""
           },
           "bgcolor": "#E5ECF6",
           "caxis": {
            "gridcolor": "white",
            "linecolor": "white",
            "ticks": ""
           }
          },
          "title": {
           "x": 0.05
          },
          "xaxis": {
           "automargin": true,
           "gridcolor": "white",
           "linecolor": "white",
           "ticks": "",
           "title": {
            "standoff": 15
           },
           "zerolinecolor": "white",
           "zerolinewidth": 2
          },
          "yaxis": {
           "automargin": true,
           "gridcolor": "white",
           "linecolor": "white",
           "ticks": "",
           "title": {
            "standoff": 15
           },
           "zerolinecolor": "white",
           "zerolinewidth": 2
          }
         }
        },
        "title": {
         "font": {
          "size": 24
         },
         "text": "<b>Calibration errors of patients<b>"
        },
        "width": 1000,
        "xaxis": {
         "anchor": "y",
         "domain": [
          0,
          1
         ],
         "title": {
          "font": {
           "size": 20
          },
          "text": "Patient ID"
         }
        },
        "yaxis": {
         "anchor": "x",
         "domain": [
          0,
          1
         ],
         "title": {
          "font": {
           "size": 20
          },
          "text": "Reprojection error (px)"
         }
        }
       }
      },
      "text/html": [
       "<div>                            <div id=\"32efecf4-d9b4-4663-9960-927b645a0f36\" class=\"plotly-graph-div\" style=\"height:600px; width:1000px;\"></div>            <script type=\"text/javascript\">                require([\"plotly\"], function(Plotly) {                    window.PLOTLYENV=window.PLOTLYENV || {};                                    if (document.getElementById(\"32efecf4-d9b4-4663-9960-927b645a0f36\")) {                    Plotly.newPlot(                        \"32efecf4-d9b4-4663-9960-927b645a0f36\",                        [{\"alignmentgroup\":\"True\",\"hovertemplate\":\"Patient ID=%{x}\\u003cbr\\u003eReprojection error (px)=%{y}\\u003cextra\\u003e\\u003c\\u002fextra\\u003e\",\"legendgroup\":\"\",\"marker\":{\"color\":\"#636efa\"},\"name\":\"\",\"notched\":false,\"offsetgroup\":\"\",\"orientation\":\"v\",\"showlegend\":false,\"x\":[\"P07\",\"P07\",\"P07\",\"P07\",\"P07\",\"P08\",\"P08\",\"P08\",\"P08\",\"P10\",\"P10\",\"P10\",\"P10\",\"P11\",\"P11\",\"P11\",\"P11\",\"P12\",\"P12\",\"P12\",\"P12\",\"P15\",\"P15\",\"P15\",\"P15\",\"P15\",\"P15\",\"P15\",\"P15\",\"P19\",\"P19\",\"P19\",\"P19\",\"P19\",\"P19\",\"P19\",\"P19\",\"P241\",\"P241\",\"P241\",\"P241\",\"P242\",\"P242\",\"P242\",\"P242\",\"P251\",\"P251\",\"P251\",\"P251\",\"P252\",\"P252\",\"P252\",\"P252\"],\"x0\":\" \",\"xaxis\":\"x\",\"y\":[0.5877149980743823,1.4623168789131638,1.452339071,1.3856998244070415,0.5896965025150871,1.132041664508491,0.7585488956505331,0.7373341750485854,0.287759823,5.603798834800886,0.5285352136094463,0.969595663,0.9598558765026692,19.98168538578729,19.971587873754725,20.84832116353782,12.103492991008787,0.8448913460241703,1.4156095618868552,4.753502019186575,1.4051951267127227,1.730408491868073,1.7367328125815646,1.6512135123870213,1.648929527712487,1.6478737746882477,1.6451552534350582,0.7546332462574536,0.7365135014097596,6.712056212710561,8.021960271265396,7.696826269613687,6.2467024165139176,7.283054153062226,7.697960651901122,7.267664633556111,7.907883622,0.8850350447548564,2.5453370903476875,0.5756849189331235,0.8613228237466151,0.7926636955784211,2.5253731800473043,0.5998886646935133,0.7605801982043499,0.1945172919916582,0.3706091119763433,0.4692301812111543,0.3844656955935694,0.4320205142804827,0.7475174944206365,0.7584760658388333,3.1830728067029423],\"y0\":\" \",\"yaxis\":\"y\",\"type\":\"box\"}],                        {\"template\":{\"data\":{\"barpolar\":[{\"marker\":{\"line\":{\"color\":\"#E5ECF6\",\"width\":0.5},\"pattern\":{\"fillmode\":\"overlay\",\"size\":10,\"solidity\":0.2}},\"type\":\"barpolar\"}],\"bar\":[{\"error_x\":{\"color\":\"#2a3f5f\"},\"error_y\":{\"color\":\"#2a3f5f\"},\"marker\":{\"line\":{\"color\":\"#E5ECF6\",\"width\":0.5},\"pattern\":{\"fillmode\":\"overlay\",\"size\":10,\"solidity\":0.2}},\"type\":\"bar\"}],\"carpet\":[{\"aaxis\":{\"endlinecolor\":\"#2a3f5f\",\"gridcolor\":\"white\",\"linecolor\":\"white\",\"minorgridcolor\":\"white\",\"startlinecolor\":\"#2a3f5f\"},\"baxis\":{\"endlinecolor\":\"#2a3f5f\",\"gridcolor\":\"white\",\"linecolor\":\"white\",\"minorgridcolor\":\"white\",\"startlinecolor\":\"#2a3f5f\"},\"type\":\"carpet\"}],\"choropleth\":[{\"colorbar\":{\"outlinewidth\":0,\"ticks\":\"\"},\"type\":\"choropleth\"}],\"contourcarpet\":[{\"colorbar\":{\"outlinewidth\":0,\"ticks\":\"\"},\"type\":\"contourcarpet\"}],\"contour\":[{\"colorbar\":{\"outlinewidth\":0,\"ticks\":\"\"},\"colorscale\":[[0.0,\"#0d0887\"],[0.1111111111111111,\"#46039f\"],[0.2222222222222222,\"#7201a8\"],[0.3333333333333333,\"#9c179e\"],[0.4444444444444444,\"#bd3786\"],[0.5555555555555556,\"#d8576b\"],[0.6666666666666666,\"#ed7953\"],[0.7777777777777778,\"#fb9f3a\"],[0.8888888888888888,\"#fdca26\"],[1.0,\"#f0f921\"]],\"type\":\"contour\"}],\"heatmapgl\":[{\"colorbar\":{\"outlinewidth\":0,\"ticks\":\"\"},\"colorscale\":[[0.0,\"#0d0887\"],[0.1111111111111111,\"#46039f\"],[0.2222222222222222,\"#7201a8\"],[0.3333333333333333,\"#9c179e\"],[0.4444444444444444,\"#bd3786\"],[0.5555555555555556,\"#d8576b\"],[0.6666666666666666,\"#ed7953\"],[0.7777777777777778,\"#fb9f3a\"],[0.8888888888888888,\"#fdca26\"],[1.0,\"#f0f921\"]],\"type\":\"heatmapgl\"}],\"heatmap\":[{\"colorbar\":{\"outlinewidth\":0,\"ticks\":\"\"},\"colorscale\":[[0.0,\"#0d0887\"],[0.1111111111111111,\"#46039f\"],[0.2222222222222222,\"#7201a8\"],[0.3333333333333333,\"#9c179e\"],[0.4444444444444444,\"#bd3786\"],[0.5555555555555556,\"#d8576b\"],[0.6666666666666666,\"#ed7953\"],[0.7777777777777778,\"#fb9f3a\"],[0.8888888888888888,\"#fdca26\"],[1.0,\"#f0f921\"]],\"type\":\"heatmap\"}],\"histogram2dcontour\":[{\"colorbar\":{\"outlinewidth\":0,\"ticks\":\"\"},\"colorscale\":[[0.0,\"#0d0887\"],[0.1111111111111111,\"#46039f\"],[0.2222222222222222,\"#7201a8\"],[0.3333333333333333,\"#9c179e\"],[0.4444444444444444,\"#bd3786\"],[0.5555555555555556,\"#d8576b\"],[0.6666666666666666,\"#ed7953\"],[0.7777777777777778,\"#fb9f3a\"],[0.8888888888888888,\"#fdca26\"],[1.0,\"#f0f921\"]],\"type\":\"histogram2dcontour\"}],\"histogram2d\":[{\"colorbar\":{\"outlinewidth\":0,\"ticks\":\"\"},\"colorscale\":[[0.0,\"#0d0887\"],[0.1111111111111111,\"#46039f\"],[0.2222222222222222,\"#7201a8\"],[0.3333333333333333,\"#9c179e\"],[0.4444444444444444,\"#bd3786\"],[0.5555555555555556,\"#d8576b\"],[0.6666666666666666,\"#ed7953\"],[0.7777777777777778,\"#fb9f3a\"],[0.8888888888888888,\"#fdca26\"],[1.0,\"#f0f921\"]],\"type\":\"histogram2d\"}],\"histogram\":[{\"marker\":{\"pattern\":{\"fillmode\":\"overlay\",\"size\":10,\"solidity\":0.2}},\"type\":\"histogram\"}],\"mesh3d\":[{\"colorbar\":{\"outlinewidth\":0,\"ticks\":\"\"},\"type\":\"mesh3d\"}],\"parcoords\":[{\"line\":{\"colorbar\":{\"outlinewidth\":0,\"ticks\":\"\"}},\"type\":\"parcoords\"}],\"pie\":[{\"automargin\":true,\"type\":\"pie\"}],\"scatter3d\":[{\"line\":{\"colorbar\":{\"outlinewidth\":0,\"ticks\":\"\"}},\"marker\":{\"colorbar\":{\"outlinewidth\":0,\"ticks\":\"\"}},\"type\":\"scatter3d\"}],\"scattercarpet\":[{\"marker\":{\"colorbar\":{\"outlinewidth\":0,\"ticks\":\"\"}},\"type\":\"scattercarpet\"}],\"scattergeo\":[{\"marker\":{\"colorbar\":{\"outlinewidth\":0,\"ticks\":\"\"}},\"type\":\"scattergeo\"}],\"scattergl\":[{\"marker\":{\"colorbar\":{\"outlinewidth\":0,\"ticks\":\"\"}},\"type\":\"scattergl\"}],\"scattermapbox\":[{\"marker\":{\"colorbar\":{\"outlinewidth\":0,\"ticks\":\"\"}},\"type\":\"scattermapbox\"}],\"scatterpolargl\":[{\"marker\":{\"colorbar\":{\"outlinewidth\":0,\"ticks\":\"\"}},\"type\":\"scatterpolargl\"}],\"scatterpolar\":[{\"marker\":{\"colorbar\":{\"outlinewidth\":0,\"ticks\":\"\"}},\"type\":\"scatterpolar\"}],\"scatter\":[{\"fillpattern\":{\"fillmode\":\"overlay\",\"size\":10,\"solidity\":0.2},\"type\":\"scatter\"}],\"scatterternary\":[{\"marker\":{\"colorbar\":{\"outlinewidth\":0,\"ticks\":\"\"}},\"type\":\"scatterternary\"}],\"surface\":[{\"colorbar\":{\"outlinewidth\":0,\"ticks\":\"\"},\"colorscale\":[[0.0,\"#0d0887\"],[0.1111111111111111,\"#46039f\"],[0.2222222222222222,\"#7201a8\"],[0.3333333333333333,\"#9c179e\"],[0.4444444444444444,\"#bd3786\"],[0.5555555555555556,\"#d8576b\"],[0.6666666666666666,\"#ed7953\"],[0.7777777777777778,\"#fb9f3a\"],[0.8888888888888888,\"#fdca26\"],[1.0,\"#f0f921\"]],\"type\":\"surface\"}],\"table\":[{\"cells\":{\"fill\":{\"color\":\"#EBF0F8\"},\"line\":{\"color\":\"white\"}},\"header\":{\"fill\":{\"color\":\"#C8D4E3\"},\"line\":{\"color\":\"white\"}},\"type\":\"table\"}]},\"layout\":{\"annotationdefaults\":{\"arrowcolor\":\"#2a3f5f\",\"arrowhead\":0,\"arrowwidth\":1},\"autotypenumbers\":\"strict\",\"coloraxis\":{\"colorbar\":{\"outlinewidth\":0,\"ticks\":\"\"}},\"colorscale\":{\"diverging\":[[0,\"#8e0152\"],[0.1,\"#c51b7d\"],[0.2,\"#de77ae\"],[0.3,\"#f1b6da\"],[0.4,\"#fde0ef\"],[0.5,\"#f7f7f7\"],[0.6,\"#e6f5d0\"],[0.7,\"#b8e186\"],[0.8,\"#7fbc41\"],[0.9,\"#4d9221\"],[1,\"#276419\"]],\"sequential\":[[0.0,\"#0d0887\"],[0.1111111111111111,\"#46039f\"],[0.2222222222222222,\"#7201a8\"],[0.3333333333333333,\"#9c179e\"],[0.4444444444444444,\"#bd3786\"],[0.5555555555555556,\"#d8576b\"],[0.6666666666666666,\"#ed7953\"],[0.7777777777777778,\"#fb9f3a\"],[0.8888888888888888,\"#fdca26\"],[1.0,\"#f0f921\"]],\"sequentialminus\":[[0.0,\"#0d0887\"],[0.1111111111111111,\"#46039f\"],[0.2222222222222222,\"#7201a8\"],[0.3333333333333333,\"#9c179e\"],[0.4444444444444444,\"#bd3786\"],[0.5555555555555556,\"#d8576b\"],[0.6666666666666666,\"#ed7953\"],[0.7777777777777778,\"#fb9f3a\"],[0.8888888888888888,\"#fdca26\"],[1.0,\"#f0f921\"]]},\"colorway\":[\"#636efa\",\"#EF553B\",\"#00cc96\",\"#ab63fa\",\"#FFA15A\",\"#19d3f3\",\"#FF6692\",\"#B6E880\",\"#FF97FF\",\"#FECB52\"],\"font\":{\"color\":\"#2a3f5f\"},\"geo\":{\"bgcolor\":\"white\",\"lakecolor\":\"white\",\"landcolor\":\"#E5ECF6\",\"showlakes\":true,\"showland\":true,\"subunitcolor\":\"white\"},\"hoverlabel\":{\"align\":\"left\"},\"hovermode\":\"closest\",\"mapbox\":{\"style\":\"light\"},\"paper_bgcolor\":\"white\",\"plot_bgcolor\":\"#E5ECF6\",\"polar\":{\"angularaxis\":{\"gridcolor\":\"white\",\"linecolor\":\"white\",\"ticks\":\"\"},\"bgcolor\":\"#E5ECF6\",\"radialaxis\":{\"gridcolor\":\"white\",\"linecolor\":\"white\",\"ticks\":\"\"}},\"scene\":{\"xaxis\":{\"backgroundcolor\":\"#E5ECF6\",\"gridcolor\":\"white\",\"gridwidth\":2,\"linecolor\":\"white\",\"showbackground\":true,\"ticks\":\"\",\"zerolinecolor\":\"white\"},\"yaxis\":{\"backgroundcolor\":\"#E5ECF6\",\"gridcolor\":\"white\",\"gridwidth\":2,\"linecolor\":\"white\",\"showbackground\":true,\"ticks\":\"\",\"zerolinecolor\":\"white\"},\"zaxis\":{\"backgroundcolor\":\"#E5ECF6\",\"gridcolor\":\"white\",\"gridwidth\":2,\"linecolor\":\"white\",\"showbackground\":true,\"ticks\":\"\",\"zerolinecolor\":\"white\"}},\"shapedefaults\":{\"line\":{\"color\":\"#2a3f5f\"}},\"ternary\":{\"aaxis\":{\"gridcolor\":\"white\",\"linecolor\":\"white\",\"ticks\":\"\"},\"baxis\":{\"gridcolor\":\"white\",\"linecolor\":\"white\",\"ticks\":\"\"},\"bgcolor\":\"#E5ECF6\",\"caxis\":{\"gridcolor\":\"white\",\"linecolor\":\"white\",\"ticks\":\"\"}},\"title\":{\"x\":0.05},\"xaxis\":{\"automargin\":true,\"gridcolor\":\"white\",\"linecolor\":\"white\",\"ticks\":\"\",\"title\":{\"standoff\":15},\"zerolinecolor\":\"white\",\"zerolinewidth\":2},\"yaxis\":{\"automargin\":true,\"gridcolor\":\"white\",\"linecolor\":\"white\",\"ticks\":\"\",\"title\":{\"standoff\":15},\"zerolinecolor\":\"white\",\"zerolinewidth\":2}}},\"xaxis\":{\"anchor\":\"y\",\"domain\":[0.0,1.0],\"title\":{\"text\":\"Patient ID\",\"font\":{\"size\":20}}},\"yaxis\":{\"anchor\":\"x\",\"domain\":[0.0,1.0],\"title\":{\"text\":\"Reprojection error (px)\",\"font\":{\"size\":20}}},\"legend\":{\"tracegroupgap\":0},\"title\":{\"text\":\"\\u003cb\\u003eCalibration errors of patients\\u003cb\\u003e\",\"font\":{\"size\":24}},\"boxmode\":\"group\",\"height\":600,\"width\":1000},                        {\"responsive\": true}                    ).then(function(){\n",
       "                            \n",
       "var gd = document.getElementById('32efecf4-d9b4-4663-9960-927b645a0f36');\n",
       "var x = new MutationObserver(function (mutations, observer) {{\n",
       "        var display = window.getComputedStyle(gd).display;\n",
       "        if (!display || display === 'none') {{\n",
       "            console.log([gd, 'removed!']);\n",
       "            Plotly.purge(gd);\n",
       "            observer.disconnect();\n",
       "        }}\n",
       "}});\n",
       "\n",
       "// Listen for the removal of the full notebook cells\n",
       "var notebookContainer = gd.closest('#notebook-container');\n",
       "if (notebookContainer) {{\n",
       "    x.observe(notebookContainer, {childList: true});\n",
       "}}\n",
       "\n",
       "// Listen for the clearing of the current output cell\n",
       "var outputEl = gd.closest('.output');\n",
       "if (outputEl) {{\n",
       "    x.observe(outputEl, {childList: true});\n",
       "}}\n",
       "\n",
       "                        })                };                });            </script>        </div>"
      ]
     },
     "metadata": {},
     "output_type": "display_data"
    }
   ],
   "source": [
    "\n",
    "fig = px.box(df_calib_error.sort_values(by='id_p'), x='id_p', y='error',\n",
    "           title='<b>Calibration errors of patients<b>',\n",
    "           labels={'error': 'Reprojection error (px)', 'id_p': 'Patient ID'}, template = 'plotly')\n",
    "\n",
    "fig.update_layout(title=dict(text='<b>Calibration errors of patients<b>', font=dict(size=24)),\n",
    "                  xaxis_title = dict(text = 'Patient ID', font=dict(size=20)),\n",
    "                  yaxis_title = dict(text = 'Reprojection error (px)', font=dict(size=20)),\n",
    "                  height=600, width=1000)\n",
    "\n",
    "fig.show()\n",
    "\n",
    "dir_dst = os.path.join(root_stat, '05_calibration')\n",
    "os.makedirs(dir_dst, exist_ok=True)\n",
    "fig.write_html(os.path.join(dir_dst, '0301_calib_error.html'))\n",
    "\n",
    "fig.write_image(os.path.join(dir_dst, '0301_calib_error.svg'), scale=5)\n",
    "fig.write_image(os.path.join(dir_dst, '0301_calib_error.png'), scale=5)"
   ]
  },
  {
   "cell_type": "code",
   "execution_count": 30,
   "id": "74fd23f96e1cc201",
   "metadata": {
    "ExecuteTime": {
     "end_time": "2024-12-28T20:14:22.869571500Z",
     "start_time": "2024-12-20T08:22:32.087094Z"
    }
   },
   "outputs": [
    {
     "data": {
      "text/plain": [
       "9081"
      ]
     },
     "execution_count": 30,
     "metadata": {},
     "output_type": "execute_result"
    }
   ],
   "source": [
    "df_failed_trials['success'].sum()"
   ]
  },
  {
   "cell_type": "code",
   "execution_count": 31,
   "id": "1f519d4cfb567a08",
   "metadata": {
    "ExecuteTime": {
     "end_time": "2024-12-28T20:14:22.869571500Z",
     "start_time": "2024-12-20T08:22:32.270207Z"
    }
   },
   "outputs": [
    {
     "data": {
      "text/plain": [
       "4239"
      ]
     },
     "execution_count": 31,
     "metadata": {},
     "output_type": "execute_result"
    }
   ],
   "source": [
    "df_failed_trials['fail'].sum()"
   ]
  },
  {
   "cell_type": "code",
   "execution_count": 32,
   "id": "c2a8642df3fd6b12",
   "metadata": {
    "ExecuteTime": {
     "end_time": "2024-12-28T20:14:22.869571500Z",
     "start_time": "2024-12-20T08:22:32.302776Z"
    }
   },
   "outputs": [
    {
     "name": "stderr",
     "output_type": "stream",
     "text": [
      "C:\\Users\\johan\\AppData\\Local\\Temp\\ipykernel_34504\\2525283356.py:2: SettingWithCopyWarning:\n",
      "\n",
      "\n",
      "A value is trying to be set on a copy of a slice from a DataFrame\n",
      "\n",
      "See the caveats in the documentation: https://pandas.pydata.org/pandas-docs/stable/user_guide/indexing.html#returning-a-view-versus-a-copy\n",
      "\n"
     ]
    }
   ],
   "source": [
    "df_temp = df_failed_trials[['id_p', 'id_s', 'HPE']]\n",
    "df_temp.loc['HPE'] = df_temp['HPE'].apply(lambda x: 0 if x == 1 else 1 if x == 0 else x)"
   ]
  },
  {
   "cell_type": "code",
   "execution_count": 33,
   "id": "f7bd1536b224f5c6",
   "metadata": {
    "ExecuteTime": {
     "end_time": "2024-12-28T20:14:22.870575600Z",
     "start_time": "2024-12-20T08:22:32.389032Z"
    }
   },
   "outputs": [],
   "source": [
    "df_temp = df_failed_trials[['id_s', 'id_p', 'calib_error']].drop_duplicates()\n",
    "df_temp = df_temp [df_temp['calib_error'] != -2]"
   ]
  },
  {
   "cell_type": "code",
   "execution_count": 34,
   "id": "de48b01e1fa13e58",
   "metadata": {
    "ExecuteTime": {
     "end_time": "2024-12-28T20:14:22.871078Z",
     "start_time": "2024-12-20T08:22:32.459698Z"
    }
   },
   "outputs": [
    {
     "data": {
      "text/html": [
       "<div>\n",
       "<style scoped>\n",
       "    .dataframe tbody tr th:only-of-type {\n",
       "        vertical-align: middle;\n",
       "    }\n",
       "\n",
       "    .dataframe tbody tr th {\n",
       "        vertical-align: top;\n",
       "    }\n",
       "\n",
       "    .dataframe thead th {\n",
       "        text-align: right;\n",
       "    }\n",
       "</style>\n",
       "<table border=\"1\" class=\"dataframe\">\n",
       "  <thead>\n",
       "    <tr style=\"text-align: right;\">\n",
       "      <th></th>\n",
       "      <th>id_p</th>\n",
       "      <th>calib_error</th>\n",
       "    </tr>\n",
       "  </thead>\n",
       "  <tbody>\n",
       "    <tr>\n",
       "      <th>0</th>\n",
       "      <td>P07</td>\n",
       "      <td>1.095553</td>\n",
       "    </tr>\n",
       "    <tr>\n",
       "      <th>1</th>\n",
       "      <td>P08</td>\n",
       "      <td>0.728921</td>\n",
       "    </tr>\n",
       "    <tr>\n",
       "      <th>2</th>\n",
       "      <td>P10</td>\n",
       "      <td>2.015446</td>\n",
       "    </tr>\n",
       "    <tr>\n",
       "      <th>3</th>\n",
       "      <td>P11</td>\n",
       "      <td>18.226272</td>\n",
       "    </tr>\n",
       "    <tr>\n",
       "      <th>4</th>\n",
       "      <td>P12</td>\n",
       "      <td>2.104800</td>\n",
       "    </tr>\n",
       "    <tr>\n",
       "      <th>5</th>\n",
       "      <td>P15</td>\n",
       "      <td>1.443933</td>\n",
       "    </tr>\n",
       "    <tr>\n",
       "      <th>6</th>\n",
       "      <td>P19</td>\n",
       "      <td>7.354264</td>\n",
       "    </tr>\n",
       "    <tr>\n",
       "      <th>7</th>\n",
       "      <td>P241</td>\n",
       "      <td>1.216845</td>\n",
       "    </tr>\n",
       "    <tr>\n",
       "      <th>8</th>\n",
       "      <td>P242</td>\n",
       "      <td>1.169626</td>\n",
       "    </tr>\n",
       "    <tr>\n",
       "      <th>9</th>\n",
       "      <td>P251</td>\n",
       "      <td>0.354706</td>\n",
       "    </tr>\n",
       "    <tr>\n",
       "      <th>10</th>\n",
       "      <td>P252</td>\n",
       "      <td>1.280272</td>\n",
       "    </tr>\n",
       "  </tbody>\n",
       "</table>\n",
       "</div>"
      ],
      "text/plain": [
       "    id_p  calib_error\n",
       "0    P07     1.095553\n",
       "1    P08     0.728921\n",
       "2    P10     2.015446\n",
       "3    P11    18.226272\n",
       "4    P12     2.104800\n",
       "5    P15     1.443933\n",
       "6    P19     7.354264\n",
       "7   P241     1.216845\n",
       "8   P242     1.169626\n",
       "9   P251     0.354706\n",
       "10  P252     1.280272"
      ]
     },
     "execution_count": 34,
     "metadata": {},
     "output_type": "execute_result"
    }
   ],
   "source": [
    "df_temp.groupby(['id_p'])['calib_error'].mean().reset_index()"
   ]
  },
  {
   "cell_type": "code",
   "execution_count": 35,
   "id": "ec52d1041a5c6807",
   "metadata": {
    "ExecuteTime": {
     "end_time": "2024-12-28T20:14:22.875840900Z",
     "start_time": "2024-12-20T08:22:32.559855Z"
    }
   },
   "outputs": [
    {
     "data": {
      "text/plain": [
       "'\\\\begin{tabular}{llr}\\n & id_p & calib_error \\\\\\\\\\n0 & P07 & 1.095553 \\\\\\\\\\n1 & P08 & 0.728921 \\\\\\\\\\n2 & P10 & 2.015446 \\\\\\\\\\n3 & P11 & 18.226272 \\\\\\\\\\n4 & P12 & 2.104800 \\\\\\\\\\n5 & P15 & 1.443933 \\\\\\\\\\n6 & P19 & 7.354264 \\\\\\\\\\n7 & P241 & 1.216845 \\\\\\\\\\n8 & P242 & 1.169626 \\\\\\\\\\n9 & P251 & 0.354706 \\\\\\\\\\n10 & P252 & 1.280272 \\\\\\\\\\n\\\\end{tabular}\\n'"
      ]
     },
     "execution_count": 35,
     "metadata": {},
     "output_type": "execute_result"
    }
   ],
   "source": [
    "df_temp.groupby(['id_p'])['calib_error'].mean().reset_index().style.to_latex()"
   ]
  },
  {
   "cell_type": "code",
   "execution_count": 36,
   "id": "53e05dab862d032d",
   "metadata": {
    "ExecuteTime": {
     "end_time": "2024-12-28T20:14:22.876441800Z",
     "start_time": "2024-12-20T08:22:32.608734Z"
    }
   },
   "outputs": [
    {
     "data": {
      "text/plain": [
       "7.354263528827877"
      ]
     },
     "execution_count": 36,
     "metadata": {},
     "output_type": "execute_result"
    }
   ],
   "source": [
    "df_temp[df_temp['id_p'] == 'P19']['calib_error'].mean()"
   ]
  },
  {
   "cell_type": "code",
   "execution_count": 37,
   "id": "78f4c60e035b9167",
   "metadata": {
    "ExecuteTime": {
     "end_time": "2024-12-28T20:14:22.876937600Z",
     "start_time": "2024-12-20T08:22:32.690300Z"
    }
   },
   "outputs": [
    {
     "data": {
      "text/plain": [
       "8.021960271265396"
      ]
     },
     "execution_count": 37,
     "metadata": {},
     "output_type": "execute_result"
    }
   ],
   "source": [
    "df_temp[df_temp['id_p'] == 'P19']['calib_error'].max()"
   ]
  },
  {
   "cell_type": "code",
   "execution_count": 38,
   "id": "a838d90a3a836412",
   "metadata": {
    "ExecuteTime": {
     "end_time": "2024-12-28T20:14:22.876937600Z",
     "start_time": "2024-12-20T08:22:32.816422Z"
    }
   },
   "outputs": [
    {
     "data": {
      "text/plain": [
       "509     7.267665\n",
       "1279    7.267665\n",
       "1630    7.283054\n",
       "1814    7.283054\n",
       "2417    7.696826\n",
       "3187    7.696826\n",
       "3957    7.907884\n",
       "4727    7.907884\n",
       "5078    7.697961\n",
       "5262    7.697961\n",
       "5446    8.021960\n",
       "5630    8.021960\n",
       "6233    6.712056\n",
       "7003    6.712056\n",
       "7437    6.246702\n",
       "7704    6.246702\n",
       "Name: calib_error, dtype: float64"
      ]
     },
     "execution_count": 38,
     "metadata": {},
     "output_type": "execute_result"
    }
   ],
   "source": [
    "df_temp[df_temp['id_p'] == 'P19']['calib_error']"
   ]
  },
  {
   "cell_type": "code",
   "execution_count": 39,
   "id": "af5357b82d9b1848",
   "metadata": {
    "ExecuteTime": {
     "end_time": "2024-12-28T20:14:22.877743800Z",
     "start_time": "2024-12-20T08:22:33.400386Z"
    }
   },
   "outputs": [
    {
     "data": {
      "text/plain": [
       "'\\\\begin{tabular}{lllr}\\n & id_s & id_p & calib_error \\\\\\\\\\n0 & S001 & P07 & 1.385700 \\\\\\\\\\n83 & S001 & P08 & 1.132042 \\\\\\\\\\n172 & S001 & P10 & 5.603799 \\\\\\\\\\n255 & S001 & P11 & 19.981685 \\\\\\\\\\n337 & S001 & P12 & 4.753502 \\\\\\\\\\n419 & S001 & P15 & 1.730408 \\\\\\\\\\n509 & S001 & P19 & 7.267665 \\\\\\\\\\n603 & S001 & P241 & 2.545337 \\\\\\\\\\n646 & S001 & P242 & 2.525373 \\\\\\\\\\n687 & S001 & P251 & 0.469230 \\\\\\\\\\n728 & S001 & P252 & 3.183073 \\\\\\\\\\n770 & S002 & P07 & 1.385700 \\\\\\\\\\n853 & S002 & P08 & 1.132042 \\\\\\\\\\n942 & S002 & P10 & 5.603799 \\\\\\\\\\n1025 & S002 & P11 & 19.981685 \\\\\\\\\\n1107 & S002 & P12 & 4.753502 \\\\\\\\\\n1189 & S002 & P15 & 1.730408 \\\\\\\\\\n1279 & S002 & P19 & 7.267665 \\\\\\\\\\n1373 & S002 & P241 & 2.545337 \\\\\\\\\\n1416 & S002 & P242 & 2.525373 \\\\\\\\\\n1457 & S002 & P251 & 0.469230 \\\\\\\\\\n1498 & S002 & P252 & 3.183073 \\\\\\\\\\n1540 & S003 & P15 & 1.736733 \\\\\\\\\\n1630 & S003 & P19 & 7.283054 \\\\\\\\\\n1724 & S004 & P15 & 1.736733 \\\\\\\\\\n1814 & S004 & P19 & 7.283054 \\\\\\\\\\n1908 & S005 & P07 & 1.462317 \\\\\\\\\\n1991 & S005 & P08 & 0.758549 \\\\\\\\\\n2080 & S005 & P10 & 0.969596 \\\\\\\\\\n2163 & S005 & P11 & 19.971588 \\\\\\\\\\n2245 & S005 & P12 & 1.415610 \\\\\\\\\\n2327 & S005 & P15 & 1.651214 \\\\\\\\\\n2417 & S005 & P19 & 7.696826 \\\\\\\\\\n2511 & S005 & P241 & 0.885035 \\\\\\\\\\n2554 & S005 & P242 & 0.760580 \\\\\\\\\\n2595 & S005 & P251 & 0.370609 \\\\\\\\\\n2636 & S005 & P252 & 0.758476 \\\\\\\\\\n2678 & S006 & P07 & 1.462317 \\\\\\\\\\n2761 & S006 & P08 & 0.758549 \\\\\\\\\\n2850 & S006 & P10 & 0.969596 \\\\\\\\\\n2933 & S006 & P11 & 19.971588 \\\\\\\\\\n3015 & S006 & P12 & 1.415610 \\\\\\\\\\n3097 & S006 & P15 & 1.651214 \\\\\\\\\\n3187 & S006 & P19 & 7.696826 \\\\\\\\\\n3281 & S006 & P241 & 0.885035 \\\\\\\\\\n3324 & S006 & P242 & 0.760580 \\\\\\\\\\n3365 & S006 & P251 & 0.370609 \\\\\\\\\\n3406 & S006 & P252 & 0.758476 \\\\\\\\\\n3448 & S007 & P07 & 1.452339 \\\\\\\\\\n3531 & S007 & P08 & 0.737334 \\\\\\\\\\n3620 & S007 & P10 & 0.959856 \\\\\\\\\\n3703 & S007 & P11 & 20.848321 \\\\\\\\\\n3785 & S007 & P12 & 1.405195 \\\\\\\\\\n3867 & S007 & P15 & 1.648930 \\\\\\\\\\n3957 & S007 & P19 & 7.907884 \\\\\\\\\\n4051 & S007 & P241 & 0.861323 \\\\\\\\\\n4094 & S007 & P242 & 0.792664 \\\\\\\\\\n4135 & S007 & P251 & 0.384466 \\\\\\\\\\n4176 & S007 & P252 & 0.747517 \\\\\\\\\\n4218 & S008 & P07 & 1.452339 \\\\\\\\\\n4301 & S008 & P08 & 0.737334 \\\\\\\\\\n4390 & S008 & P10 & 0.959856 \\\\\\\\\\n4473 & S008 & P11 & 20.848321 \\\\\\\\\\n4555 & S008 & P12 & 1.405195 \\\\\\\\\\n4637 & S008 & P15 & 1.648930 \\\\\\\\\\n4727 & S008 & P19 & 7.907884 \\\\\\\\\\n4821 & S008 & P241 & 0.861323 \\\\\\\\\\n4864 & S008 & P242 & 0.792664 \\\\\\\\\\n4905 & S008 & P251 & 0.384466 \\\\\\\\\\n4946 & S008 & P252 & 0.747517 \\\\\\\\\\n4988 & S009 & P15 & 1.647874 \\\\\\\\\\n5078 & S009 & P19 & 7.697961 \\\\\\\\\\n5172 & S010 & P15 & 1.647874 \\\\\\\\\\n5262 & S010 & P19 & 7.697961 \\\\\\\\\\n5356 & S011 & P15 & 1.645155 \\\\\\\\\\n5446 & S011 & P19 & 8.021960 \\\\\\\\\\n5540 & S012 & P15 & 1.645155 \\\\\\\\\\n5630 & S012 & P19 & 8.021960 \\\\\\\\\\n5724 & S013 & P07 & 0.587715 \\\\\\\\\\n5807 & S013 & P08 & 0.287760 \\\\\\\\\\n5896 & S013 & P10 & 0.528535 \\\\\\\\\\n5979 & S013 & P11 & 12.103493 \\\\\\\\\\n6061 & S013 & P12 & 0.844891 \\\\\\\\\\n6143 & S013 & P15 & 0.754633 \\\\\\\\\\n6233 & S013 & P19 & 6.712056 \\\\\\\\\\n6327 & S013 & P241 & 0.575685 \\\\\\\\\\n6370 & S013 & P242 & 0.599889 \\\\\\\\\\n6411 & S013 & P251 & 0.194517 \\\\\\\\\\n6452 & S013 & P252 & 0.432021 \\\\\\\\\\n6494 & S014 & P07 & 0.587715 \\\\\\\\\\n6577 & S014 & P08 & 0.287760 \\\\\\\\\\n6666 & S014 & P10 & 0.528535 \\\\\\\\\\n6749 & S014 & P11 & 12.103493 \\\\\\\\\\n6831 & S014 & P12 & 0.844891 \\\\\\\\\\n6913 & S014 & P15 & 0.754633 \\\\\\\\\\n7003 & S014 & P19 & 6.712056 \\\\\\\\\\n7097 & S014 & P241 & 0.575685 \\\\\\\\\\n7140 & S014 & P242 & 0.599889 \\\\\\\\\\n7181 & S014 & P251 & 0.194517 \\\\\\\\\\n7222 & S014 & P252 & 0.432021 \\\\\\\\\\n7264 & S015 & P07 & 0.589697 \\\\\\\\\\n7347 & S015 & P15 & 0.736514 \\\\\\\\\\n7437 & S015 & P19 & 6.246702 \\\\\\\\\\n7531 & S016 & P07 & 0.589697 \\\\\\\\\\n7614 & S016 & P15 & 0.736514 \\\\\\\\\\n7704 & S016 & P19 & 6.246702 \\\\\\\\\\n\\\\end{tabular}\\n'"
      ]
     },
     "execution_count": 39,
     "metadata": {},
     "output_type": "execute_result"
    }
   ],
   "source": [
    "df_temp.style.to_latex()"
   ]
  },
  {
   "cell_type": "code",
   "execution_count": 40,
   "id": "8e6547a1ea11cf84",
   "metadata": {
    "ExecuteTime": {
     "end_time": "2024-12-28T20:14:22.878241300Z",
     "start_time": "2024-12-20T08:22:34.241256Z"
    }
   },
   "outputs": [
    {
     "data": {
      "text/html": [
       "<div>\n",
       "<style scoped>\n",
       "    .dataframe tbody tr th:only-of-type {\n",
       "        vertical-align: middle;\n",
       "    }\n",
       "\n",
       "    .dataframe tbody tr th {\n",
       "        vertical-align: top;\n",
       "    }\n",
       "\n",
       "    .dataframe thead th {\n",
       "        text-align: right;\n",
       "    }\n",
       "</style>\n",
       "<table border=\"1\" class=\"dataframe\">\n",
       "  <thead>\n",
       "    <tr style=\"text-align: right;\">\n",
       "      <th></th>\n",
       "      <th>date</th>\n",
       "      <th>time</th>\n",
       "      <th>id_s</th>\n",
       "      <th>id_p</th>\n",
       "      <th>cam_used</th>\n",
       "      <th>error</th>\n",
       "    </tr>\n",
       "  </thead>\n",
       "  <tbody>\n",
       "  </tbody>\n",
       "</table>\n",
       "</div>"
      ],
      "text/plain": [
       "Empty DataFrame\n",
       "Columns: [date, time, id_s, id_p, cam_used, error]\n",
       "Index: []"
      ]
     },
     "execution_count": 40,
     "metadata": {},
     "output_type": "execute_result"
    }
   ],
   "source": [
    "df_calib_error[df_calib_error['id_p']=='p15']"
   ]
  },
  {
   "cell_type": "code",
   "execution_count": 41,
   "id": "d5130897d1336be2",
   "metadata": {
    "ExecuteTime": {
     "end_time": "2024-12-28T20:14:22.878738Z",
     "start_time": "2024-12-20T08:22:34.499205Z"
    }
   },
   "outputs": [
    {
     "ename": "ValueError",
     "evalue": "The truth value of a Series is ambiguous. Use a.empty, a.bool(), a.item(), a.any() or a.all().",
     "output_type": "error",
     "traceback": [
      "\u001b[1;31m---------------------------------------------------------------------------\u001b[0m",
      "\u001b[1;31mValueError\u001b[0m                                Traceback (most recent call last)",
      "\u001b[1;32m~\\AppData\\Local\\Temp\\ipykernel_34504\\3333031224.py\u001b[0m in \u001b[0;36m?\u001b[1;34m()\u001b[0m\n\u001b[1;32m----> 1\u001b[1;33m \u001b[0mdf_failed_trials\u001b[0m\u001b[1;33m[\u001b[0m\u001b[0mdf_failed_trials\u001b[0m\u001b[1;33m[\u001b[0m\u001b[1;34m'id_p'\u001b[0m\u001b[1;33m]\u001b[0m \u001b[1;32min\u001b[0m \u001b[1;33m[\u001b[0m\u001b[1;34m'P15'\u001b[0m\u001b[1;33m,\u001b[0m \u001b[1;34m'P19'\u001b[0m\u001b[1;33m]\u001b[0m\u001b[1;33m]\u001b[0m\u001b[1;33m.\u001b[0m\u001b[0mgroupby\u001b[0m\u001b[1;33m(\u001b[0m\u001b[1;33m[\u001b[0m\u001b[1;34m'id_s'\u001b[0m\u001b[1;33m,\u001b[0m \u001b[1;34m'id_p'\u001b[0m\u001b[1;33m]\u001b[0m\u001b[1;33m)\u001b[0m\u001b[1;33m[\u001b[0m\u001b[1;34m'calib_error'\u001b[0m\u001b[1;33m]\u001b[0m\u001b[1;33m.\u001b[0m\u001b[0msum\u001b[0m\u001b[1;33m(\u001b[0m\u001b[1;33m)\u001b[0m\u001b[1;33m.\u001b[0m\u001b[0mreset_index\u001b[0m\u001b[1;33m(\u001b[0m\u001b[1;33m)\u001b[0m\u001b[1;33m\u001b[0m\u001b[1;33m\u001b[0m\u001b[0m\n\u001b[0m",
      "\u001b[1;32m~\\anaconda3\\envs\\iDrink_GUI\\Lib\\site-packages\\pandas\\core\\generic.py\u001b[0m in \u001b[0;36m?\u001b[1;34m(self)\u001b[0m\n\u001b[0;32m   1525\u001b[0m     \u001b[1;33m@\u001b[0m\u001b[0mfinal\u001b[0m\u001b[1;33m\u001b[0m\u001b[1;33m\u001b[0m\u001b[0m\n\u001b[0;32m   1526\u001b[0m     \u001b[1;32mdef\u001b[0m \u001b[0m__nonzero__\u001b[0m\u001b[1;33m(\u001b[0m\u001b[0mself\u001b[0m\u001b[1;33m)\u001b[0m \u001b[1;33m->\u001b[0m \u001b[0mNoReturn\u001b[0m\u001b[1;33m:\u001b[0m\u001b[1;33m\u001b[0m\u001b[1;33m\u001b[0m\u001b[0m\n\u001b[1;32m-> 1527\u001b[1;33m         raise ValueError(\n\u001b[0m\u001b[0;32m   1528\u001b[0m             \u001b[1;34mf\"The truth value of a {type(self).__name__} is ambiguous. \"\u001b[0m\u001b[1;33m\u001b[0m\u001b[1;33m\u001b[0m\u001b[0m\n\u001b[0;32m   1529\u001b[0m             \u001b[1;34m\"Use a.empty, a.bool(), a.item(), a.any() or a.all().\"\u001b[0m\u001b[1;33m\u001b[0m\u001b[1;33m\u001b[0m\u001b[0m\n\u001b[0;32m   1530\u001b[0m         )\n",
      "\u001b[1;31mValueError\u001b[0m: The truth value of a Series is ambiguous. Use a.empty, a.bool(), a.item(), a.any() or a.all()."
     ]
    }
   ],
   "source": [
    "df_failed_trials[df_failed_trials['id_p'] in ['P15', 'P19']].groupby(['id_s', 'id_p'])['calib_error'].sum().reset_index()"
   ]
  },
  {
   "cell_type": "code",
   "execution_count": null,
   "id": "e42c676ac60c7e4e",
   "metadata": {},
   "outputs": [],
   "source": [
    "df_failed_trials['HPE']"
   ]
  },
  {
   "cell_type": "code",
   "execution_count": null,
   "id": "81c94ebf5dad4045",
   "metadata": {},
   "outputs": [],
   "source": [
    "df_temp['HPE']"
   ]
  },
  {
   "cell_type": "code",
   "execution_count": null,
   "id": "9581bdfdf91460ed",
   "metadata": {},
   "outputs": [],
   "source": [
    "\"\"\"\\begin{tabular}{lllr}\n",
    "id\\_s & id\\_p & calib\\_error \\\\\n",
    "S001, S002 & P07 & 1.385700 \\\\\n",
    "S001, S002 & P08 & 1.132042 \\\\\n",
    "S001, S002 & P10 & 5.603799 \\\\\n",
    "S001, S002 & P11 & 19.981685 \\\\\n",
    "S001, S002 & P12 & 4.753502 \\\\\n",
    "S001, S002 & P15 & 1.730408 \\\\\n",
    "S001, S002 & P19 & 7.267665 \\\\\n",
    "S001, S002 & P241 & 2.545337 \\\\\n",
    "S001, S002 & P242 & 2.525373 \\\\\n",
    "S001, S002 & P251 & 0.469230 \\\\\n",
    "S001, S002 & P252 & 3.183073 \\\\\n",
    "S003, S004 & P15 & 1.736733 \\\\\n",
    "S003, S004 & P19 & 7.283054 \\\\\n",
    "S005, S006 & P07 & 1.462317 \\\\\n",
    "S005, S006 & P08 & 0.758549 \\\\\n",
    "S005, S006 & P10 & 0.969596 \\\\\n",
    "S005, S006 & P11 & 19.971588 \\\\\n",
    "S005, S006 & P12 & 1.415610 \\\\\n",
    "S005, S006 & P15 & 1.651214 \\\\\n",
    "S005, S006 & P19 & 7.696826 \\\\\n",
    "S005, S006 & P241 & 0.885035 \\\\\n",
    "S005, S006 & P242 & 0.760580 \\\\\n",
    "S005, S006 & P251 & 0.370609 \\\\\n",
    "S005, S006 & P252 & 0.758476 \\\\\n",
    "S007, S008 & P07 & 1.452339 \\\\\n",
    "S007, S008 & P08 & 0.737334 \\\\\n",
    "S007, S008 & P10 & 0.959856 \\\\\n",
    "S007, S008 & P11 & 20.848321 \\\\\n",
    "S007, S008 & P12 & 1.405195 \\\\\n",
    "S007, S008 & P15 & 1.648930 \\\\\n",
    "S007, S008 & P19 & 7.907884 \\\\\n",
    "S007, S008 & P241 & 0.861323 \\\\\n",
    "S007, S008 & P242 & 0.792664 \\\\\n",
    "S007, S008 & P251 & 0.384466 \\\\\n",
    "S007, S008 & P252 & 0.747517 \\\\\n",
    "S009, S010 & P15 & 1.647874 \\\\\n",
    "S009, S010 & P19 & 7.697961 \\\\\n",
    "S011, S012 & P15 & 1.645155 \\\\\n",
    "S011, S012 & P19 & 8.021960 \\\\\n",
    "S013, S014 & P07 & 0.587715 \\\\\n",
    "S013, S014 & P08 & 0.287760 \\\\\n",
    "S013, S014 & P10 & 0.528535 \\\\\n",
    "S013, S014 & P11 & 12.103493 \\\\\n",
    "S013, S014 & P12 & 0.844891 \\\\\n",
    "S013, S014 & P15 & 0.754633 \\\\\n",
    "S013, S014 & P19 & 6.712056 \\\\\n",
    "S013, S014 & P241 & 0.575685 \\\\\n",
    "S013, S014 & P242 & 0.599889 \\\\\n",
    "S013, S014 & P251 & 0.194517 \\\\\n",
    "S013, S014 & P252 & 0.432021 \\\\\n",
    "S015, S016 & P07 & 0.589697 \\\\\n",
    "S015, S016 & P15 & 0.736514 \\\\\n",
    "S015, S016 & P19 & 6.246702 \\\\\n",
    "\\end{tabular}\"\"\""
   ]
  },
  {
   "cell_type": "code",
   "execution_count": null,
   "id": "ea291bebaa982fe8",
   "metadata": {},
   "outputs": [],
   "source": [
    "\"\"\"\\begin{tabular}{lllr}\n",
    "id\\_s & id\\_p & calib\\_error & id\\_s & id\\_p & calib\\_error \\\\\n",
    "S001, S002 & P07 & 1.385700 & S009, S010 & P15 & 1.647874 \\\\\n",
    "S001, S002 & P08 & 1.132042 & S009, S010 & P19 & 7.697961 \\\\\n",
    "S001, S002 & P10 & 5.603799 & S011, S012 & P15 & 1.645155 \\\\\n",
    "S001, S002 & P11 & 19.981685 & S011, S012 & P19 & 8.021960 \\\\\n",
    "S001, S002 & P12 & 4.753502 & S013, S014 & P07 & 0.587715 \\\\\n",
    "S001, S002 & P15 & 1.730408 & S013, S014 & P08 & 0.287760 \\\\\n",
    "S001, S002 & P19 & 7.267665 & S013, S014 & P10 & 0.528535 \\\\\n",
    "S001, S002 & P241 & 2.545337 & S013, S014 & P11 & 12.103493 \\\\\n",
    "S001, S002 & P242 & 2.525373 & S013, S014 & P12 & 0.844891 \\\\\n",
    "S001, S002 & P251 & 0.469230 & S013, S014 & P15 & 0.754633 \\\\\n",
    "S001, S002 & P252 & 3.183073 & S013, S014 & P19 & 6.712056 \\\\\n",
    "S003, S004 & P15 & 1.736733 & S013, S014 & P241 & 0.575685 \\\\\n",
    "S003, S004 & P19 & 7.283054 & S013, S014 & P242 & 0.599889 \\\\\n",
    "S005, S006 & P07 & 1.462317 & S013, S014 & P251 & 0.194517 \\\\\n",
    "S005, S006 & P08 & 0.758549 & S013, S014 & P252 & 0.432021 \\\\\n",
    "S005, S006 & P10 & 0.969596 & S015, S016 & P07 & 0.589697 \\\\\n",
    "S005, S006 & P11 & 19.971588 & S015, S016 & P15 & 0.736514 \\\\\n",
    "S005, S006 & P12 & 1.415610 & S015, S016 & P19 & 6.246702 \\\\\n",
    "S005, S006 & P15 & 1.651214 & & & \\\\\n",
    "S005, S006 & P19 & 7.696826 & & & \\\\\n",
    "S005, S006 & P241 & 0.885035 & & & \\\\\n",
    "S005, S006 & P242 & 0.760580 & & & \\\\\n",
    "S005, S006 & P251 & 0.370609 & & & \\\\\n",
    "S005, S006 & P252 & 0.758476 & & & \\\\\n",
    "S007, S008 & P07 & 1.452339 & & & \\\\\n",
    "S007, S008 & P08 & 0.737334 & & & \\\\\n",
    "S007, S008 & P10 & 0.959856 & & & \\\\\n",
    "S007, S008 & P11 & 20.848321 & & & \\\\\n",
    "S007, S008 & P12 & 1.405195 & & & \\\\\n",
    "S007, S008 & P15 & 1.648930 & & & \\\\\n",
    "S007, S008 & P19 & 7.907884 & & & \\\\\n",
    "S007, S008 & P241 & 0.861323 & & & \\\\\n",
    "S007, S008 & P242 & 0.792664 & & & \\\\\n",
    "S007, S008 & P251 & 0.384466 & & & \\\\\n",
    "S007, S008 & P252 & 0.747517 & & & \\\\\n",
    "\\end{tabular}\"\"\""
   ]
  }
 ],
 "metadata": {
  "kernelspec": {
   "display_name": "iDrink_GUI",
   "language": "python",
   "name": "python3"
  },
  "language_info": {
   "codemirror_mode": {
    "name": "ipython",
    "version": 3
   },
   "file_extension": ".py",
   "mimetype": "text/x-python",
   "name": "python",
   "nbconvert_exporter": "python",
   "pygments_lexer": "ipython3",
   "version": "3.11.9"
  }
 },
 "nbformat": 4,
 "nbformat_minor": 5
}
