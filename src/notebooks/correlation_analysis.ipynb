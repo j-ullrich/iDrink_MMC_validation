{
 "cells": [
  {
   "cell_type": "code",
   "execution_count": 1,
   "id": "initial_id",
   "metadata": {
    "ExecuteTime": {
     "end_time": "2024-12-31T10:12:37.580897Z",
     "start_time": "2024-12-31T10:12:36.819998Z"
    },
    "collapsed": true
   },
   "outputs": [],
   "source": [
    "import os\n",
    "import sys\n",
    "\n",
    "import pandas as pd\n",
    "import numpy as np\n",
    "import ast\n",
    "\n",
    "import plotly as py\n",
    "import plotly.express as px\n",
    "import plotly.graph_objects as go\n",
    "from plotly.subplots import make_subplots\n",
    "\n",
    "sys.path.append(os.path.realpath(os.path.abspath('..')))\n",
    "from iDrink.iDrinkUtilities import get_drivepath, get_title_measure_name, get_unit, get_cad, get_setting_axis_name, get_measure_plot_num, get_measure_short_name"
   ]
  },
  {
   "cell_type": "code",
   "execution_count": 2,
   "id": "eb65feaf52dedaa3",
   "metadata": {
    "ExecuteTime": {
     "end_time": "2024-12-31T10:12:37.766520Z",
     "start_time": "2024-12-31T10:12:37.585902Z"
    }
   },
   "outputs": [],
   "source": [
    "drive = get_drivepath()\n",
    "\n",
    "root_iDrink = os.path.join(drive, 'iDrink')\n",
    "root_val = os.path.join(root_iDrink, \"validation_root\")\n",
    "root_stat = os.path.join(root_val, '04_Statistics')\n",
    "root_omc = os.path.join(root_val, '03_data', 'OMC_new', 'S15133')\n",
    "root_data = os.path.join(root_val, \"03_data\")\n",
    "root_logs = os.path.join(root_val, \"05_logs\")\n",
    "\n",
    "dir_stat_cont = os.path.join(root_stat, '01_continuous')\n",
    "dir_stat_cat = os.path.join(root_stat, '02_categorical')\n",
    "dir_results = os.path.join(dir_stat_cont, '01_results')\n",
    "dir_plots_cont = os.path.join(dir_stat_cont, '02_plots')\n",
    "dir_plots_cat = os.path.join(dir_stat_cat, '02_plots')\n",
    "\n",
    "csv_val_trials = os.path.join(root_logs, 'validation_trials.csv')\n",
    "df_val_trials = pd.read_csv(csv_val_trials, sep=';')\n",
    "\n",
    "csv_settings = os.path.join(root_logs, 'validation_settings.csv')\n",
    "df_settings = pd.read_csv(csv_settings, sep=';')\n",
    "\n",
    "csv_calib_error = os.path.join(root_logs, 'calib_errors.csv')\n",
    "df_calib_error = pd.read_csv(csv_calib_error, sep=';')\n",
    "\n",
    "csv_murphy = os.path.join(root_stat, '02_categorical', 'murphy_measures.csv')\n",
    "df_murphy = pd.read_csv(csv_murphy, sep=';')\n",
    "\n",
    "csv_failed_trials = os.path.join(root_stat, '04_failed_trials', 'failed_trials.csv')\n",
    "df_failed_trials = pd.read_csv(csv_failed_trials, sep=';')\n",
    "\n",
    "\n",
    "csv_cad = os.path.join(root_stat, '02_categorical', 'clinically_acceptable_difference.csv')\n",
    "df_cad = pd.read_csv(csv_cad, sep=',')\n",
    "\n",
    "list_identifier = sorted(df_val_trials['identifier'].tolist())\n",
    "\n",
    "ignore_id_p = ['P11', 'P19']\n",
    "idx_s_singlecam_full = ['S017', 'S018', 'S019', 'S020', 'S021', 'S022', 'S023', 'S024', 'S025', 'S026']\n",
    "idx_s_singlecam = ['S017', 'S018']\n",
    "idx_s_multicam = ['S001', 'S002', 'S003', 'S004', 'S005', 'S006', 'S007', 'S008', 'S009', 'S010', 'S011', 'S012', 'S013', 'S014', 'S015', 'S016']\n",
    "idx_s_multicam_reduced = ['S001', 'S002']\n",
    "idx_s_reduced = idx_s_multicam_reduced + idx_s_singlecam\n",
    "idx_s_full = idx_s_multicam + idx_s_singlecam"
   ]
  },
  {
   "cell_type": "code",
   "execution_count": 3,
   "id": "17318e1b3bf5ffe5",
   "metadata": {
    "ExecuteTime": {
     "end_time": "2024-12-31T10:12:37.914915Z",
     "start_time": "2024-12-31T10:12:37.911874Z"
    }
   },
   "outputs": [],
   "source": [
    "reduced_analysis = False # If True, only S001 and S002 from Multicam will be used.\n",
    "if reduced_analysis:\n",
    "    file_app = '_reduced'\n",
    "else:\n",
    "    file_app = ''\n",
    "    "
   ]
  },
  {
   "cell_type": "markdown",
   "id": "d96438b30f6fdb5e",
   "metadata": {},
   "source": [
    "## kinematic measures"
   ]
  },
  {
   "cell_type": "code",
   "execution_count": 4,
   "id": "b0d7bfd2ae5fa3ec",
   "metadata": {
    "ExecuteTime": {
     "end_time": "2024-12-31T10:12:38.472707Z",
     "start_time": "2024-12-31T10:12:38.455693Z"
    }
   },
   "outputs": [],
   "source": [
    "df_corr_murphy = pd.read_csv(os.path.join(dir_stat_cat, f'stat_murphy_corr{file_app}.csv'), sep=';')\n",
    "df_corr_murphy['id_s_name'] = df_corr_murphy['id_s'].apply(lambda x: get_setting_axis_name(x))\n",
    "df_corr_murphy = df_corr_murphy[df_corr_murphy['id_s'].isin(idx_s_full)]\n",
    "\n",
    "if reduced_analysis:\n",
    "    df_corr_murphy = df_corr_murphy[df_corr_murphy['id_s'].isin(idx_s_reduced)]\n",
    "\n",
    "if 'Unnamed: 0' in df_corr_murphy.columns:\n",
    "    df_corr_murphy = df_corr_murphy.drop(columns=['Unnamed: 0'])"
   ]
  },
  {
   "cell_type": "code",
   "execution_count": 5,
   "id": "f5ebf3b81b24a127",
   "metadata": {
    "ExecuteTime": {
     "end_time": "2024-12-31T10:12:42.567747Z",
     "start_time": "2024-12-31T10:12:42.562223Z"
    }
   },
   "outputs": [
    {
     "name": "stdout",
     "output_type": "stream",
     "text": [
      "Number of rows dropped: 0\n"
     ]
    }
   ],
   "source": [
    "len_before = len(df_corr_murphy)\n",
    "df_corr_murphy.dropna(inplace=True)\n",
    "len_after = len(df_corr_murphy)\n",
    "print(f'Number of rows dropped: {len_before - len_after}')"
   ]
  },
  {
   "cell_type": "code",
   "execution_count": 6,
   "id": "7c078f5505b8999e",
   "metadata": {
    "ExecuteTime": {
     "end_time": "2024-12-31T10:12:47.635400Z",
     "start_time": "2024-12-31T10:12:47.618904Z"
    }
   },
   "outputs": [],
   "source": [
    "df_grouped = df_corr_murphy.groupby(['id_s']).mean(numeric_only=True)\n",
    "\n",
    "df_corr_murphy_s = pd.DataFrame(columns = ['id_s', 'id_s_name', 'correlation', 'p_value'])\n",
    "\n",
    "for index in df_grouped.index:\n",
    "    id_s = index\n",
    "    r = df_grouped.loc[index]['pearson']\n",
    "    p = df_grouped.loc[index]['pearson_p']\n",
    "    id_s_name = get_setting_axis_name(id_s)\n",
    "\n",
    "    df_corr_murphy_s = pd.concat([df_corr_murphy_s, pd.DataFrame([[id_s, id_s_name, r, p]], columns = ['id_s', 'id_s_name', 'correlation', 'p_value'], index = [0])], ignore_index=True)"
   ]
  },
  {
   "cell_type": "code",
   "execution_count": 7,
   "id": "a9b3effc0b1e775",
   "metadata": {
    "ExecuteTime": {
     "end_time": "2024-12-31T10:12:52.804143Z",
     "start_time": "2024-12-31T10:12:52.591975Z"
    }
   },
   "outputs": [],
   "source": [
    "df_grouped = df_corr_murphy.groupby(['id_s', 'measure']).mean(numeric_only=True)\n",
    "\n",
    "df_plot = pd.DataFrame(columns = ['id_s', 'id_s_name', 'measure', 'correlation', 'p_value'])\n",
    "\n",
    "for index in df_grouped.index:\n",
    "    id_s = index[0]\n",
    "    measure = index[1]\n",
    "    r = df_grouped.loc[index]['pearson']\n",
    "    p = df_grouped.loc[index]['pearson_p']\n",
    "    id_s_name = get_setting_axis_name(id_s)\n",
    "    \n",
    "    df_plot = pd.concat([df_plot, pd.DataFrame([[id_s, id_s_name, measure, r, p]], columns = ['id_s', 'id_s_name', 'measure', 'correlation', 'p_value'], index = [0])], ignore_index=True)\n",
    "\n",
    "df_plot = df_plot[df_plot['measure'] != 'trunkDisplacementDEG']"
   ]
  },
  {
   "cell_type": "code",
   "execution_count": 8,
   "id": "fe08d93c551d633b",
   "metadata": {
    "ExecuteTime": {
     "end_time": "2024-12-31T10:14:07.241312Z",
     "start_time": "2024-12-31T10:14:06.424859Z"
    }
   },
   "outputs": [
    {
     "data": {
      "application/vnd.plotly.v1+json": {
       "config": {
        "plotlyServerURL": "https://plot.ly"
       },
       "data": [
        {
         "alignmentgroup": "True",
         "hovertemplate": "Kin. Measure=ElbowExtension<br>id_s_name=%{x}<br>Correlation [r] Correlation=%{y}<extra></extra>",
         "legendgroup": "ElbowExtension",
         "marker": {
          "color": "#636efa",
          "pattern": {
           "shape": ""
          }
         },
         "name": "ElbowExtension",
         "offsetgroup": "ElbowExtension",
         "orientation": "v",
         "showlegend": true,
         "textposition": "auto",
         "type": "bar",
         "x": [
          "SimCC, Cams: 6,7,8,9,10",
          "Metrabs, Cams: 6,7,8,9,10",
          "SimCC, Cams: 1,3,5",
          "Metrabs, Cams: 1,3,5",
          "SimCC, Cams: 2,3,4",
          "Metrabs, Cams: 2,3,4",
          "SimCC, Cams: 6,8,10",
          "Metrabs, Cams: 6,8,10"
         ],
         "xaxis": "x",
         "y": [
          0.7451999238057898,
          0.751886892764336,
          0.6066577947433305,
          0.606741827061974,
          0.6262656561283719,
          0.6052520600928133,
          0.4489494432856307,
          0.5280307345364963
         ],
         "yaxis": "y"
        },
        {
         "alignmentgroup": "True",
         "hovertemplate": "Kin. Measure=InterjointCoordination<br>id_s_name=%{x}<br>Correlation [r] Correlation=%{y}<extra></extra>",
         "legendgroup": "InterjointCoordination",
         "marker": {
          "color": "#EF553B",
          "pattern": {
           "shape": ""
          }
         },
         "name": "InterjointCoordination",
         "offsetgroup": "InterjointCoordination",
         "orientation": "v",
         "showlegend": true,
         "textposition": "auto",
         "type": "bar",
         "x": [
          "SimCC, Cams: 6,7,8,9,10",
          "Metrabs, Cams: 6,7,8,9,10",
          "SimCC, Cams: 1,3,5",
          "Metrabs, Cams: 1,3,5",
          "SimCC, Cams: 2,3,4",
          "Metrabs, Cams: 2,3,4",
          "SimCC, Cams: 6,8,10",
          "Metrabs, Cams: 6,8,10"
         ],
         "xaxis": "x",
         "y": [
          0.9466472743321868,
          0.9481482835066801,
          0.7086804243433888,
          0.717293793428057,
          0.9241848053116943,
          0.9264490023868195,
          0.7287325383581524,
          0.7799485139579225
         ],
         "yaxis": "y"
        },
        {
         "alignmentgroup": "True",
         "hovertemplate": "Kin. Measure=NumberMovementUnits<br>id_s_name=%{x}<br>Correlation [r] Correlation=%{y}<extra></extra>",
         "legendgroup": "NumberMovementUnits",
         "marker": {
          "color": "#00cc96",
          "pattern": {
           "shape": ""
          }
         },
         "name": "NumberMovementUnits",
         "offsetgroup": "NumberMovementUnits",
         "orientation": "v",
         "showlegend": true,
         "textposition": "auto",
         "type": "bar",
         "x": [
          "SimCC, Cams: 6,7,8,9,10",
          "Metrabs, Cams: 6,7,8,9,10",
          "SimCC, Cams: 1,3,5",
          "Metrabs, Cams: 1,3,5",
          "SimCC, Cams: 2,3,4",
          "Metrabs, Cams: 2,3,4",
          "SimCC, Cams: 6,8,10",
          "Metrabs, Cams: 6,8,10"
         ],
         "xaxis": "x",
         "y": [
          0.38342567028335683,
          0.16727389636486129,
          0.4729948651565055,
          -0.037135903922968,
          0.45208053757919076,
          0.2852817134210565,
          0.43327371644815815,
          0.3479845610943715
         ],
         "yaxis": "y"
        },
        {
         "alignmentgroup": "True",
         "hovertemplate": "Kin. Measure=PeakVelocity_mms<br>id_s_name=%{x}<br>Correlation [r] Correlation=%{y}<extra></extra>",
         "legendgroup": "PeakVelocity_mms",
         "marker": {
          "color": "#ab63fa",
          "pattern": {
           "shape": ""
          }
         },
         "name": "PeakVelocity_mms",
         "offsetgroup": "PeakVelocity_mms",
         "orientation": "v",
         "showlegend": true,
         "textposition": "auto",
         "type": "bar",
         "x": [
          "SimCC, Cams: 6,7,8,9,10",
          "Metrabs, Cams: 6,7,8,9,10",
          "SimCC, Cams: 1,3,5",
          "Metrabs, Cams: 1,3,5",
          "SimCC, Cams: 2,3,4",
          "Metrabs, Cams: 2,3,4",
          "SimCC, Cams: 6,8,10",
          "Metrabs, Cams: 6,8,10"
         ],
         "xaxis": "x",
         "y": [
          0.8909935775273128,
          0.4715542243333372,
          0.2898960625432491,
          0.22001822188367307,
          0.5368983884532894,
          0.4567341751491816,
          0.26028017819003096,
          0.21749041255374535
         ],
         "yaxis": "y"
        },
        {
         "alignmentgroup": "True",
         "hovertemplate": "Kin. Measure=ShoulderFlexionReaching<br>id_s_name=%{x}<br>Correlation [r] Correlation=%{y}<extra></extra>",
         "legendgroup": "ShoulderFlexionReaching",
         "marker": {
          "color": "#FFA15A",
          "pattern": {
           "shape": ""
          }
         },
         "name": "ShoulderFlexionReaching",
         "offsetgroup": "ShoulderFlexionReaching",
         "orientation": "v",
         "showlegend": true,
         "textposition": "auto",
         "type": "bar",
         "x": [
          "SimCC, Cams: 6,7,8,9,10",
          "Metrabs, Cams: 6,7,8,9,10",
          "SimCC, Cams: 1,3,5",
          "Metrabs, Cams: 1,3,5",
          "SimCC, Cams: 2,3,4",
          "Metrabs, Cams: 2,3,4",
          "SimCC, Cams: 6,8,10",
          "Metrabs, Cams: 6,8,10"
         ],
         "xaxis": "x",
         "y": [
          0.5566429207468861,
          0.573084954344235,
          0.26958374275102204,
          0.2624289617540526,
          0.5193174476859401,
          0.5162295700948711,
          0.11850853804506344,
          0.13496537580249784
         ],
         "yaxis": "y"
        },
        {
         "alignmentgroup": "True",
         "hovertemplate": "Kin. Measure=elbowVelocity<br>id_s_name=%{x}<br>Correlation [r] Correlation=%{y}<extra></extra>",
         "legendgroup": "elbowVelocity",
         "marker": {
          "color": "#19d3f3",
          "pattern": {
           "shape": ""
          }
         },
         "name": "elbowVelocity",
         "offsetgroup": "elbowVelocity",
         "orientation": "v",
         "showlegend": true,
         "textposition": "auto",
         "type": "bar",
         "x": [
          "SimCC, Cams: 6,7,8,9,10",
          "Metrabs, Cams: 6,7,8,9,10",
          "SimCC, Cams: 1,3,5",
          "Metrabs, Cams: 1,3,5",
          "SimCC, Cams: 2,3,4",
          "Metrabs, Cams: 2,3,4",
          "SimCC, Cams: 6,8,10",
          "Metrabs, Cams: 6,8,10"
         ],
         "xaxis": "x",
         "y": [
          0.7702500138998364,
          0.6813023845648848,
          0.15894095960524343,
          0.009284805658840642,
          0.0940777512055978,
          0.0230350124397911,
          -0.08127506714293531,
          0.1429261829818166
         ],
         "yaxis": "y"
        },
        {
         "alignmentgroup": "True",
         "hovertemplate": "Kin. Measure=shoulderAbduction<br>id_s_name=%{x}<br>Correlation [r] Correlation=%{y}<extra></extra>",
         "legendgroup": "shoulderAbduction",
         "marker": {
          "color": "#FF6692",
          "pattern": {
           "shape": ""
          }
         },
         "name": "shoulderAbduction",
         "offsetgroup": "shoulderAbduction",
         "orientation": "v",
         "showlegend": true,
         "textposition": "auto",
         "type": "bar",
         "x": [
          "SimCC, Cams: 6,7,8,9,10",
          "Metrabs, Cams: 6,7,8,9,10",
          "SimCC, Cams: 1,3,5",
          "Metrabs, Cams: 1,3,5",
          "SimCC, Cams: 2,3,4",
          "Metrabs, Cams: 2,3,4",
          "SimCC, Cams: 6,8,10",
          "Metrabs, Cams: 6,8,10"
         ],
         "xaxis": "x",
         "y": [
          0.6005016537542762,
          0.5953675595395619,
          0.7827722333669112,
          0.7835949827924862,
          0.8167202082375737,
          0.8145577692625793,
          0.5960198329278614,
          0.5040742233645108
         ],
         "yaxis": "y"
        },
        {
         "alignmentgroup": "True",
         "hovertemplate": "Kin. Measure=shoulderFlexionDrinking<br>id_s_name=%{x}<br>Correlation [r] Correlation=%{y}<extra></extra>",
         "legendgroup": "shoulderFlexionDrinking",
         "marker": {
          "color": "#B6E880",
          "pattern": {
           "shape": ""
          }
         },
         "name": "shoulderFlexionDrinking",
         "offsetgroup": "shoulderFlexionDrinking",
         "orientation": "v",
         "showlegend": true,
         "textposition": "auto",
         "type": "bar",
         "x": [
          "SimCC, Cams: 6,7,8,9,10",
          "Metrabs, Cams: 6,7,8,9,10",
          "SimCC, Cams: 1,3,5",
          "Metrabs, Cams: 1,3,5",
          "SimCC, Cams: 2,3,4",
          "Metrabs, Cams: 2,3,4",
          "SimCC, Cams: 6,8,10",
          "Metrabs, Cams: 6,8,10"
         ],
         "xaxis": "x",
         "y": [
          0.9107155167267718,
          0.9080571684293886,
          0.9025328919894862,
          0.9015661233359767,
          0.8842445265003457,
          0.8801725930260782,
          0.750770176263176,
          0.6826594586707371
         ],
         "yaxis": "y"
        },
        {
         "alignmentgroup": "True",
         "hovertemplate": "Kin. Measure=tToFirstpeakV_rel<br>id_s_name=%{x}<br>Correlation [r] Correlation=%{y}<extra></extra>",
         "legendgroup": "tToFirstpeakV_rel",
         "marker": {
          "color": "#FF97FF",
          "pattern": {
           "shape": ""
          }
         },
         "name": "tToFirstpeakV_rel",
         "offsetgroup": "tToFirstpeakV_rel",
         "orientation": "v",
         "showlegend": true,
         "textposition": "auto",
         "type": "bar",
         "x": [
          "SimCC, Cams: 6,7,8,9,10",
          "Metrabs, Cams: 6,7,8,9,10",
          "SimCC, Cams: 1,3,5",
          "Metrabs, Cams: 1,3,5",
          "SimCC, Cams: 2,3,4",
          "Metrabs, Cams: 2,3,4",
          "SimCC, Cams: 6,8,10",
          "Metrabs, Cams: 6,8,10"
         ],
         "xaxis": "x",
         "y": [
          0.6682113981324124,
          0.7273689526823017,
          0.6719031279907531,
          0.6850938084553297,
          0.6851136446227291,
          0.6846041109068023,
          0.7132573379247722,
          0.6256339964683272
         ],
         "yaxis": "y"
        },
        {
         "alignmentgroup": "True",
         "hovertemplate": "Kin. Measure=tToFirstpeakV_s<br>id_s_name=%{x}<br>Correlation [r] Correlation=%{y}<extra></extra>",
         "legendgroup": "tToFirstpeakV_s",
         "marker": {
          "color": "#FECB52",
          "pattern": {
           "shape": ""
          }
         },
         "name": "tToFirstpeakV_s",
         "offsetgroup": "tToFirstpeakV_s",
         "orientation": "v",
         "showlegend": true,
         "textposition": "auto",
         "type": "bar",
         "x": [
          "SimCC, Cams: 6,7,8,9,10",
          "Metrabs, Cams: 6,7,8,9,10",
          "SimCC, Cams: 1,3,5",
          "Metrabs, Cams: 1,3,5",
          "SimCC, Cams: 2,3,4",
          "Metrabs, Cams: 2,3,4",
          "SimCC, Cams: 6,8,10",
          "Metrabs, Cams: 6,8,10"
         ],
         "xaxis": "x",
         "y": [
          0.6463813168332234,
          0.707369825656337,
          0.6783858726914453,
          0.6989975542544367,
          0.668414438488255,
          0.7009910916366812,
          0.7095019991444218,
          0.6312796745853392
         ],
         "yaxis": "y"
        },
        {
         "alignmentgroup": "True",
         "hovertemplate": "Kin. Measure=tTopeakV_rel<br>id_s_name=%{x}<br>Correlation [r] Correlation=%{y}<extra></extra>",
         "legendgroup": "tTopeakV_rel",
         "marker": {
          "color": "#636efa",
          "pattern": {
           "shape": ""
          }
         },
         "name": "tTopeakV_rel",
         "offsetgroup": "tTopeakV_rel",
         "orientation": "v",
         "showlegend": true,
         "textposition": "auto",
         "type": "bar",
         "x": [
          "SimCC, Cams: 6,7,8,9,10",
          "Metrabs, Cams: 6,7,8,9,10",
          "SimCC, Cams: 1,3,5",
          "Metrabs, Cams: 1,3,5",
          "SimCC, Cams: 2,3,4",
          "Metrabs, Cams: 2,3,4",
          "SimCC, Cams: 6,8,10",
          "Metrabs, Cams: 6,8,10"
         ],
         "xaxis": "x",
         "y": [
          0.7221660759627553,
          0.5552774742803103,
          0.3934099081164551,
          0.33908271728283773,
          0.8654821573966023,
          0.3670011363626164,
          0.2939085473644971,
          0.39019713466484207
         ],
         "yaxis": "y"
        },
        {
         "alignmentgroup": "True",
         "hovertemplate": "Kin. Measure=tTopeakV_s<br>id_s_name=%{x}<br>Correlation [r] Correlation=%{y}<extra></extra>",
         "legendgroup": "tTopeakV_s",
         "marker": {
          "color": "#EF553B",
          "pattern": {
           "shape": ""
          }
         },
         "name": "tTopeakV_s",
         "offsetgroup": "tTopeakV_s",
         "orientation": "v",
         "showlegend": true,
         "textposition": "auto",
         "type": "bar",
         "x": [
          "SimCC, Cams: 6,7,8,9,10",
          "Metrabs, Cams: 6,7,8,9,10",
          "SimCC, Cams: 1,3,5",
          "Metrabs, Cams: 1,3,5",
          "SimCC, Cams: 2,3,4",
          "Metrabs, Cams: 2,3,4",
          "SimCC, Cams: 6,8,10",
          "Metrabs, Cams: 6,8,10"
         ],
         "xaxis": "x",
         "y": [
          0.8224419842161559,
          0.7317049130733727,
          0.5410417593871419,
          0.4481251913302882,
          0.9297145146750043,
          0.5403079923142808,
          0.4974266475612841,
          0.4350650145224465
         ],
         "yaxis": "y"
        },
        {
         "alignmentgroup": "True",
         "hovertemplate": "Kin. Measure=trunkDisplacementMM<br>id_s_name=%{x}<br>Correlation [r] Correlation=%{y}<extra></extra>",
         "legendgroup": "trunkDisplacementMM",
         "marker": {
          "color": "#00cc96",
          "pattern": {
           "shape": ""
          }
         },
         "name": "trunkDisplacementMM",
         "offsetgroup": "trunkDisplacementMM",
         "orientation": "v",
         "showlegend": true,
         "textposition": "auto",
         "type": "bar",
         "x": [
          "SimCC, Cams: 6,7,8,9,10",
          "Metrabs, Cams: 6,7,8,9,10",
          "SimCC, Cams: 1,3,5",
          "Metrabs, Cams: 1,3,5",
          "SimCC, Cams: 2,3,4",
          "Metrabs, Cams: 2,3,4",
          "SimCC, Cams: 6,8,10",
          "Metrabs, Cams: 6,8,10"
         ],
         "xaxis": "x",
         "y": [
          0.8649016698962111,
          0.8634264217100702,
          0.3913711545987131,
          0.39183877074901896,
          -0.05902136985455775,
          -0.08332806708416884,
          -0.0713812410454621,
          0.0374063244268838
         ],
         "yaxis": "y"
        }
       ],
       "layout": {
        "barmode": "group",
        "height": 600,
        "legend": {
         "title": {
          "text": "Kin. Measure"
         },
         "tracegroupgap": 0
        },
        "shapes": [
         {
          "line": {
           "color": "red",
           "dash": "dot"
          },
          "name": "minimum correlation",
          "type": "line",
          "x0": 0,
          "x1": 1,
          "xref": "x domain",
          "y0": 0.9,
          "y1": 0.9,
          "yref": "y"
         }
        ],
        "template": {
         "data": {
          "bar": [
           {
            "error_x": {
             "color": "#2a3f5f"
            },
            "error_y": {
             "color": "#2a3f5f"
            },
            "marker": {
             "line": {
              "color": "#E5ECF6",
              "width": 0.5
             },
             "pattern": {
              "fillmode": "overlay",
              "size": 10,
              "solidity": 0.2
             }
            },
            "type": "bar"
           }
          ],
          "barpolar": [
           {
            "marker": {
             "line": {
              "color": "#E5ECF6",
              "width": 0.5
             },
             "pattern": {
              "fillmode": "overlay",
              "size": 10,
              "solidity": 0.2
             }
            },
            "type": "barpolar"
           }
          ],
          "carpet": [
           {
            "aaxis": {
             "endlinecolor": "#2a3f5f",
             "gridcolor": "white",
             "linecolor": "white",
             "minorgridcolor": "white",
             "startlinecolor": "#2a3f5f"
            },
            "baxis": {
             "endlinecolor": "#2a3f5f",
             "gridcolor": "white",
             "linecolor": "white",
             "minorgridcolor": "white",
             "startlinecolor": "#2a3f5f"
            },
            "type": "carpet"
           }
          ],
          "choropleth": [
           {
            "colorbar": {
             "outlinewidth": 0,
             "ticks": ""
            },
            "type": "choropleth"
           }
          ],
          "contour": [
           {
            "colorbar": {
             "outlinewidth": 0,
             "ticks": ""
            },
            "colorscale": [
             [
              0,
              "#0d0887"
             ],
             [
              0.1111111111111111,
              "#46039f"
             ],
             [
              0.2222222222222222,
              "#7201a8"
             ],
             [
              0.3333333333333333,
              "#9c179e"
             ],
             [
              0.4444444444444444,
              "#bd3786"
             ],
             [
              0.5555555555555556,
              "#d8576b"
             ],
             [
              0.6666666666666666,
              "#ed7953"
             ],
             [
              0.7777777777777778,
              "#fb9f3a"
             ],
             [
              0.8888888888888888,
              "#fdca26"
             ],
             [
              1,
              "#f0f921"
             ]
            ],
            "type": "contour"
           }
          ],
          "contourcarpet": [
           {
            "colorbar": {
             "outlinewidth": 0,
             "ticks": ""
            },
            "type": "contourcarpet"
           }
          ],
          "heatmap": [
           {
            "colorbar": {
             "outlinewidth": 0,
             "ticks": ""
            },
            "colorscale": [
             [
              0,
              "#0d0887"
             ],
             [
              0.1111111111111111,
              "#46039f"
             ],
             [
              0.2222222222222222,
              "#7201a8"
             ],
             [
              0.3333333333333333,
              "#9c179e"
             ],
             [
              0.4444444444444444,
              "#bd3786"
             ],
             [
              0.5555555555555556,
              "#d8576b"
             ],
             [
              0.6666666666666666,
              "#ed7953"
             ],
             [
              0.7777777777777778,
              "#fb9f3a"
             ],
             [
              0.8888888888888888,
              "#fdca26"
             ],
             [
              1,
              "#f0f921"
             ]
            ],
            "type": "heatmap"
           }
          ],
          "heatmapgl": [
           {
            "colorbar": {
             "outlinewidth": 0,
             "ticks": ""
            },
            "colorscale": [
             [
              0,
              "#0d0887"
             ],
             [
              0.1111111111111111,
              "#46039f"
             ],
             [
              0.2222222222222222,
              "#7201a8"
             ],
             [
              0.3333333333333333,
              "#9c179e"
             ],
             [
              0.4444444444444444,
              "#bd3786"
             ],
             [
              0.5555555555555556,
              "#d8576b"
             ],
             [
              0.6666666666666666,
              "#ed7953"
             ],
             [
              0.7777777777777778,
              "#fb9f3a"
             ],
             [
              0.8888888888888888,
              "#fdca26"
             ],
             [
              1,
              "#f0f921"
             ]
            ],
            "type": "heatmapgl"
           }
          ],
          "histogram": [
           {
            "marker": {
             "pattern": {
              "fillmode": "overlay",
              "size": 10,
              "solidity": 0.2
             }
            },
            "type": "histogram"
           }
          ],
          "histogram2d": [
           {
            "colorbar": {
             "outlinewidth": 0,
             "ticks": ""
            },
            "colorscale": [
             [
              0,
              "#0d0887"
             ],
             [
              0.1111111111111111,
              "#46039f"
             ],
             [
              0.2222222222222222,
              "#7201a8"
             ],
             [
              0.3333333333333333,
              "#9c179e"
             ],
             [
              0.4444444444444444,
              "#bd3786"
             ],
             [
              0.5555555555555556,
              "#d8576b"
             ],
             [
              0.6666666666666666,
              "#ed7953"
             ],
             [
              0.7777777777777778,
              "#fb9f3a"
             ],
             [
              0.8888888888888888,
              "#fdca26"
             ],
             [
              1,
              "#f0f921"
             ]
            ],
            "type": "histogram2d"
           }
          ],
          "histogram2dcontour": [
           {
            "colorbar": {
             "outlinewidth": 0,
             "ticks": ""
            },
            "colorscale": [
             [
              0,
              "#0d0887"
             ],
             [
              0.1111111111111111,
              "#46039f"
             ],
             [
              0.2222222222222222,
              "#7201a8"
             ],
             [
              0.3333333333333333,
              "#9c179e"
             ],
             [
              0.4444444444444444,
              "#bd3786"
             ],
             [
              0.5555555555555556,
              "#d8576b"
             ],
             [
              0.6666666666666666,
              "#ed7953"
             ],
             [
              0.7777777777777778,
              "#fb9f3a"
             ],
             [
              0.8888888888888888,
              "#fdca26"
             ],
             [
              1,
              "#f0f921"
             ]
            ],
            "type": "histogram2dcontour"
           }
          ],
          "mesh3d": [
           {
            "colorbar": {
             "outlinewidth": 0,
             "ticks": ""
            },
            "type": "mesh3d"
           }
          ],
          "parcoords": [
           {
            "line": {
             "colorbar": {
              "outlinewidth": 0,
              "ticks": ""
             }
            },
            "type": "parcoords"
           }
          ],
          "pie": [
           {
            "automargin": true,
            "type": "pie"
           }
          ],
          "scatter": [
           {
            "fillpattern": {
             "fillmode": "overlay",
             "size": 10,
             "solidity": 0.2
            },
            "type": "scatter"
           }
          ],
          "scatter3d": [
           {
            "line": {
             "colorbar": {
              "outlinewidth": 0,
              "ticks": ""
             }
            },
            "marker": {
             "colorbar": {
              "outlinewidth": 0,
              "ticks": ""
             }
            },
            "type": "scatter3d"
           }
          ],
          "scattercarpet": [
           {
            "marker": {
             "colorbar": {
              "outlinewidth": 0,
              "ticks": ""
             }
            },
            "type": "scattercarpet"
           }
          ],
          "scattergeo": [
           {
            "marker": {
             "colorbar": {
              "outlinewidth": 0,
              "ticks": ""
             }
            },
            "type": "scattergeo"
           }
          ],
          "scattergl": [
           {
            "marker": {
             "colorbar": {
              "outlinewidth": 0,
              "ticks": ""
             }
            },
            "type": "scattergl"
           }
          ],
          "scattermapbox": [
           {
            "marker": {
             "colorbar": {
              "outlinewidth": 0,
              "ticks": ""
             }
            },
            "type": "scattermapbox"
           }
          ],
          "scatterpolar": [
           {
            "marker": {
             "colorbar": {
              "outlinewidth": 0,
              "ticks": ""
             }
            },
            "type": "scatterpolar"
           }
          ],
          "scatterpolargl": [
           {
            "marker": {
             "colorbar": {
              "outlinewidth": 0,
              "ticks": ""
             }
            },
            "type": "scatterpolargl"
           }
          ],
          "scatterternary": [
           {
            "marker": {
             "colorbar": {
              "outlinewidth": 0,
              "ticks": ""
             }
            },
            "type": "scatterternary"
           }
          ],
          "surface": [
           {
            "colorbar": {
             "outlinewidth": 0,
             "ticks": ""
            },
            "colorscale": [
             [
              0,
              "#0d0887"
             ],
             [
              0.1111111111111111,
              "#46039f"
             ],
             [
              0.2222222222222222,
              "#7201a8"
             ],
             [
              0.3333333333333333,
              "#9c179e"
             ],
             [
              0.4444444444444444,
              "#bd3786"
             ],
             [
              0.5555555555555556,
              "#d8576b"
             ],
             [
              0.6666666666666666,
              "#ed7953"
             ],
             [
              0.7777777777777778,
              "#fb9f3a"
             ],
             [
              0.8888888888888888,
              "#fdca26"
             ],
             [
              1,
              "#f0f921"
             ]
            ],
            "type": "surface"
           }
          ],
          "table": [
           {
            "cells": {
             "fill": {
              "color": "#EBF0F8"
             },
             "line": {
              "color": "white"
             }
            },
            "header": {
             "fill": {
              "color": "#C8D4E3"
             },
             "line": {
              "color": "white"
             }
            },
            "type": "table"
           }
          ]
         },
         "layout": {
          "annotationdefaults": {
           "arrowcolor": "#2a3f5f",
           "arrowhead": 0,
           "arrowwidth": 1
          },
          "autotypenumbers": "strict",
          "coloraxis": {
           "colorbar": {
            "outlinewidth": 0,
            "ticks": ""
           }
          },
          "colorscale": {
           "diverging": [
            [
             0,
             "#8e0152"
            ],
            [
             0.1,
             "#c51b7d"
            ],
            [
             0.2,
             "#de77ae"
            ],
            [
             0.3,
             "#f1b6da"
            ],
            [
             0.4,
             "#fde0ef"
            ],
            [
             0.5,
             "#f7f7f7"
            ],
            [
             0.6,
             "#e6f5d0"
            ],
            [
             0.7,
             "#b8e186"
            ],
            [
             0.8,
             "#7fbc41"
            ],
            [
             0.9,
             "#4d9221"
            ],
            [
             1,
             "#276419"
            ]
           ],
           "sequential": [
            [
             0,
             "#0d0887"
            ],
            [
             0.1111111111111111,
             "#46039f"
            ],
            [
             0.2222222222222222,
             "#7201a8"
            ],
            [
             0.3333333333333333,
             "#9c179e"
            ],
            [
             0.4444444444444444,
             "#bd3786"
            ],
            [
             0.5555555555555556,
             "#d8576b"
            ],
            [
             0.6666666666666666,
             "#ed7953"
            ],
            [
             0.7777777777777778,
             "#fb9f3a"
            ],
            [
             0.8888888888888888,
             "#fdca26"
            ],
            [
             1,
             "#f0f921"
            ]
           ],
           "sequentialminus": [
            [
             0,
             "#0d0887"
            ],
            [
             0.1111111111111111,
             "#46039f"
            ],
            [
             0.2222222222222222,
             "#7201a8"
            ],
            [
             0.3333333333333333,
             "#9c179e"
            ],
            [
             0.4444444444444444,
             "#bd3786"
            ],
            [
             0.5555555555555556,
             "#d8576b"
            ],
            [
             0.6666666666666666,
             "#ed7953"
            ],
            [
             0.7777777777777778,
             "#fb9f3a"
            ],
            [
             0.8888888888888888,
             "#fdca26"
            ],
            [
             1,
             "#f0f921"
            ]
           ]
          },
          "colorway": [
           "#636efa",
           "#EF553B",
           "#00cc96",
           "#ab63fa",
           "#FFA15A",
           "#19d3f3",
           "#FF6692",
           "#B6E880",
           "#FF97FF",
           "#FECB52"
          ],
          "font": {
           "color": "#2a3f5f"
          },
          "geo": {
           "bgcolor": "white",
           "lakecolor": "white",
           "landcolor": "#E5ECF6",
           "showlakes": true,
           "showland": true,
           "subunitcolor": "white"
          },
          "hoverlabel": {
           "align": "left"
          },
          "hovermode": "closest",
          "mapbox": {
           "style": "light"
          },
          "paper_bgcolor": "white",
          "plot_bgcolor": "#E5ECF6",
          "polar": {
           "angularaxis": {
            "gridcolor": "white",
            "linecolor": "white",
            "ticks": ""
           },
           "bgcolor": "#E5ECF6",
           "radialaxis": {
            "gridcolor": "white",
            "linecolor": "white",
            "ticks": ""
           }
          },
          "scene": {
           "xaxis": {
            "backgroundcolor": "#E5ECF6",
            "gridcolor": "white",
            "gridwidth": 2,
            "linecolor": "white",
            "showbackground": true,
            "ticks": "",
            "zerolinecolor": "white"
           },
           "yaxis": {
            "backgroundcolor": "#E5ECF6",
            "gridcolor": "white",
            "gridwidth": 2,
            "linecolor": "white",
            "showbackground": true,
            "ticks": "",
            "zerolinecolor": "white"
           },
           "zaxis": {
            "backgroundcolor": "#E5ECF6",
            "gridcolor": "white",
            "gridwidth": 2,
            "linecolor": "white",
            "showbackground": true,
            "ticks": "",
            "zerolinecolor": "white"
           }
          },
          "shapedefaults": {
           "line": {
            "color": "#2a3f5f"
           }
          },
          "ternary": {
           "aaxis": {
            "gridcolor": "white",
            "linecolor": "white",
            "ticks": ""
           },
           "baxis": {
            "gridcolor": "white",
            "linecolor": "white",
            "ticks": ""
           },
           "bgcolor": "#E5ECF6",
           "caxis": {
            "gridcolor": "white",
            "linecolor": "white",
            "ticks": ""
           }
          },
          "title": {
           "x": 0.05
          },
          "xaxis": {
           "automargin": true,
           "gridcolor": "white",
           "linecolor": "white",
           "ticks": "",
           "title": {
            "standoff": 15
           },
           "zerolinecolor": "white",
           "zerolinewidth": 2
          },
          "yaxis": {
           "automargin": true,
           "gridcolor": "white",
           "linecolor": "white",
           "ticks": "",
           "title": {
            "standoff": 15
           },
           "zerolinecolor": "white",
           "zerolinewidth": 2
          }
         }
        },
        "title": {
         "font": {
          "size": 24
         },
         "text": "<b>Pearson Correlation of kinematic measures<b>"
        },
        "width": 1300,
        "xaxis": {
         "anchor": "y",
         "domain": [
          0,
          1
         ],
         "title": {
          "font": {
           "size": 20
          },
          "text": "<b>Settings<b>"
         }
        },
        "yaxis": {
         "anchor": "x",
         "domain": [
          0,
          1
         ],
         "title": {
          "font": {
           "size": 20
          },
          "text": "<b>Correlation [r]<b>"
         }
        }
       }
      }
     },
     "metadata": {},
     "output_type": "display_data"
    }
   ],
   "source": [
    "fig = px.bar(df_plot, x='id_s_name', y='correlation', color='measure', title=f'<b>Pearson Correlation<b>', labels={'correlation': 'Correlation [r] Correlation', 'Settings': 'Subject ID', 'measure': 'Kin. Measure'},\n",
    "             template = 'plotly', barmode=\"group\")\n",
    "\n",
    "fig.add_hline(y=0.9, line_dash='dot', line_color='red', name = 'minimum correlation')\n",
    "#fig.add_hline(y=-0.9, line_dash='dot', line_color='red', name = 'minimum correlation')\n",
    "\n",
    "fig.update_layout(title= dict(text=f'<b>Pearson Correlation of kinematic measures<b>', font=dict(size=24)),\n",
    "          xaxis_title=dict(text=f'<b>Settings<b>', font=dict(size=20)),\n",
    "          yaxis_title=dict(text=f'<b>Correlation [r]<b>', font=dict(size=20)),\n",
    "                  width=1300, height=600\n",
    "          )\n",
    "\n",
    "fig.show()\n",
    "\n",
    "os.makedirs(os.path.join(dir_plots_cat, '04_correlation'), exist_ok=True)\n",
    "\n",
    "path = os.path.join(dir_plots_cat, '04_correlation', f'pearson_corr_all.html')\n",
    "fig.write_html(path)\n",
    "\n",
    "path = os.path.join(dir_plots_cat, '04_correlation', f'pearson_corr_all.png')\n",
    "fig.write_image(path, scale = 5)"
   ]
  },
  {
   "cell_type": "code",
   "execution_count": null,
   "id": "10495ff4f68e975a",
   "metadata": {
    "ExecuteTime": {
     "end_time": "2024-12-25T10:30:34.924035Z",
     "start_time": "2024-12-25T10:30:34.921541Z"
    }
   },
   "outputs": [],
   "source": []
  },
  {
   "cell_type": "code",
   "execution_count": 10,
   "id": "1e2516e2a5edb819",
   "metadata": {
    "ExecuteTime": {
     "end_time": "2024-12-31T10:14:28.959565Z",
     "start_time": "2024-12-31T10:14:28.953564Z"
    }
   },
   "outputs": [
    {
     "data": {
      "text/plain": [
       "'D:\\\\iDrink\\\\validation_root\\\\04_Statistics\\\\02_categorical\\\\02_plots'"
      ]
     },
     "execution_count": 10,
     "metadata": {},
     "output_type": "execute_result"
    }
   ],
   "source": [
    "dir_plots_cat\n"
   ]
  },
  {
   "cell_type": "code",
   "execution_count": 10,
   "id": "cbc707663312cd43",
   "metadata": {
    "ExecuteTime": {
     "end_time": "2024-12-25T20:10:31.239753Z",
     "start_time": "2024-12-25T20:10:30.624976Z"
    }
   },
   "outputs": [
    {
     "data": {
      "application/vnd.plotly.v1+json": {
       "config": {
        "plotlyServerURL": "https://plot.ly"
       },
       "data": [
        {
         "alignmentgroup": "True",
         "hovertemplate": "Kin. Measure=ElbowExtension<br>id_s_name=%{x}<br>Pearson Correlation=%{y}<extra></extra>",
         "legendgroup": "ElbowExtension",
         "marker": {
          "color": "#636efa",
          "pattern": {
           "shape": ""
          }
         },
         "name": "ElbowExtension",
         "offsetgroup": "ElbowExtension",
         "orientation": "v",
         "showlegend": true,
         "textposition": "auto",
         "type": "bar",
         "x": [
          "SimCC, Cams: 1,2,3,4,5",
          "Metrabs, Cams: 1,2,3,4,5",
          "Single, Cam: 1, filt",
          "Single, Cam: 1, unfilt"
         ],
         "xaxis": "x",
         "y": [
          0.5668488751281129,
          0.8625947287037916,
          0.5700550093668062,
          0.575122645095663
         ],
         "yaxis": "y"
        },
        {
         "alignmentgroup": "True",
         "hovertemplate": "Kin. Measure=InterjointCoordination<br>id_s_name=%{x}<br>Pearson Correlation=%{y}<extra></extra>",
         "legendgroup": "InterjointCoordination",
         "marker": {
          "color": "#EF553B",
          "pattern": {
           "shape": ""
          }
         },
         "name": "InterjointCoordination",
         "offsetgroup": "InterjointCoordination",
         "orientation": "v",
         "showlegend": true,
         "textposition": "auto",
         "type": "bar",
         "x": [
          "SimCC, Cams: 1,2,3,4,5",
          "Metrabs, Cams: 1,2,3,4,5",
          "Single, Cam: 1, filt",
          "Single, Cam: 1, unfilt"
         ],
         "xaxis": "x",
         "y": [
          0.8626175741658915,
          0.9674912601782655,
          0.9127177887648439,
          0.912773844585863
         ],
         "yaxis": "y"
        },
        {
         "alignmentgroup": "True",
         "hovertemplate": "Kin. Measure=NumberMovementUnits<br>id_s_name=%{x}<br>Pearson Correlation=%{y}<extra></extra>",
         "legendgroup": "NumberMovementUnits",
         "marker": {
          "color": "#00cc96",
          "pattern": {
           "shape": ""
          }
         },
         "name": "NumberMovementUnits",
         "offsetgroup": "NumberMovementUnits",
         "orientation": "v",
         "showlegend": true,
         "textposition": "auto",
         "type": "bar",
         "x": [
          "SimCC, Cams: 1,2,3,4,5",
          "Metrabs, Cams: 1,2,3,4,5",
          "Single, Cam: 1, filt",
          "Single, Cam: 1, unfilt"
         ],
         "xaxis": "x",
         "y": [
          0.4416347369705941,
          0.5340103079403927,
          0.6305378330292342,
          0.4352376353906917
         ],
         "yaxis": "y"
        },
        {
         "alignmentgroup": "True",
         "hovertemplate": "Kin. Measure=PeakVelocity_mms<br>id_s_name=%{x}<br>Pearson Correlation=%{y}<extra></extra>",
         "legendgroup": "PeakVelocity_mms",
         "marker": {
          "color": "#ab63fa",
          "pattern": {
           "shape": ""
          }
         },
         "name": "PeakVelocity_mms",
         "offsetgroup": "PeakVelocity_mms",
         "orientation": "v",
         "showlegend": true,
         "textposition": "auto",
         "type": "bar",
         "x": [
          "SimCC, Cams: 1,2,3,4,5",
          "Metrabs, Cams: 1,2,3,4,5",
          "Single, Cam: 1, filt",
          "Single, Cam: 1, unfilt"
         ],
         "xaxis": "x",
         "y": [
          0.0510152563635973,
          0.29014713632068084,
          0.8115172943310485,
          0.21054729656055626
         ],
         "yaxis": "y"
        },
        {
         "alignmentgroup": "True",
         "hovertemplate": "Kin. Measure=ShoulderFlexionReaching<br>id_s_name=%{x}<br>Pearson Correlation=%{y}<extra></extra>",
         "legendgroup": "ShoulderFlexionReaching",
         "marker": {
          "color": "#FFA15A",
          "pattern": {
           "shape": ""
          }
         },
         "name": "ShoulderFlexionReaching",
         "offsetgroup": "ShoulderFlexionReaching",
         "orientation": "v",
         "showlegend": true,
         "textposition": "auto",
         "type": "bar",
         "x": [
          "SimCC, Cams: 1,2,3,4,5",
          "Metrabs, Cams: 1,2,3,4,5",
          "Single, Cam: 1, filt",
          "Single, Cam: 1, unfilt"
         ],
         "xaxis": "x",
         "y": [
          0.6047895956306422,
          0.853379930248853,
          0.7980992668188918,
          0.7959310103874278
         ],
         "yaxis": "y"
        },
        {
         "alignmentgroup": "True",
         "hovertemplate": "Kin. Measure=elbowVelocity<br>id_s_name=%{x}<br>Pearson Correlation=%{y}<extra></extra>",
         "legendgroup": "elbowVelocity",
         "marker": {
          "color": "#19d3f3",
          "pattern": {
           "shape": ""
          }
         },
         "name": "elbowVelocity",
         "offsetgroup": "elbowVelocity",
         "orientation": "v",
         "showlegend": true,
         "textposition": "auto",
         "type": "bar",
         "x": [
          "SimCC, Cams: 1,2,3,4,5",
          "Metrabs, Cams: 1,2,3,4,5",
          "Single, Cam: 1, filt",
          "Single, Cam: 1, unfilt"
         ],
         "xaxis": "x",
         "y": [
          0.39091452341942917,
          0.7042074268591778,
          0.6844337439478627,
          0.6369982716039136
         ],
         "yaxis": "y"
        },
        {
         "alignmentgroup": "True",
         "hovertemplate": "Kin. Measure=shoulderAbduction<br>id_s_name=%{x}<br>Pearson Correlation=%{y}<extra></extra>",
         "legendgroup": "shoulderAbduction",
         "marker": {
          "color": "#FF6692",
          "pattern": {
           "shape": ""
          }
         },
         "name": "shoulderAbduction",
         "offsetgroup": "shoulderAbduction",
         "orientation": "v",
         "showlegend": true,
         "textposition": "auto",
         "type": "bar",
         "x": [
          "SimCC, Cams: 1,2,3,4,5",
          "Metrabs, Cams: 1,2,3,4,5",
          "Single, Cam: 1, filt",
          "Single, Cam: 1, unfilt"
         ],
         "xaxis": "x",
         "y": [
          0.56559434189851,
          0.779382285777537,
          0.4118364522953269,
          0.4258900304486689
         ],
         "yaxis": "y"
        },
        {
         "alignmentgroup": "True",
         "hovertemplate": "Kin. Measure=shoulderFlexionDrinking<br>id_s_name=%{x}<br>Pearson Correlation=%{y}<extra></extra>",
         "legendgroup": "shoulderFlexionDrinking",
         "marker": {
          "color": "#B6E880",
          "pattern": {
           "shape": ""
          }
         },
         "name": "shoulderFlexionDrinking",
         "offsetgroup": "shoulderFlexionDrinking",
         "orientation": "v",
         "showlegend": true,
         "textposition": "auto",
         "type": "bar",
         "x": [
          "SimCC, Cams: 1,2,3,4,5",
          "Metrabs, Cams: 1,2,3,4,5",
          "Single, Cam: 1, filt",
          "Single, Cam: 1, unfilt"
         ],
         "xaxis": "x",
         "y": [
          0.7766674476048849,
          0.9045986937675042,
          0.8417463916801111,
          0.825503823010218
         ],
         "yaxis": "y"
        },
        {
         "alignmentgroup": "True",
         "hovertemplate": "Kin. Measure=tToFirstpeakV_rel<br>id_s_name=%{x}<br>Pearson Correlation=%{y}<extra></extra>",
         "legendgroup": "tToFirstpeakV_rel",
         "marker": {
          "color": "#FF97FF",
          "pattern": {
           "shape": ""
          }
         },
         "name": "tToFirstpeakV_rel",
         "offsetgroup": "tToFirstpeakV_rel",
         "orientation": "v",
         "showlegend": true,
         "textposition": "auto",
         "type": "bar",
         "x": [
          "SimCC, Cams: 1,2,3,4,5",
          "Metrabs, Cams: 1,2,3,4,5",
          "Single, Cam: 1, filt",
          "Single, Cam: 1, unfilt"
         ],
         "xaxis": "x",
         "y": [
          0.8953369333556043,
          0.9141804964807396,
          0.8297846134504014,
          0.7873404712428078
         ],
         "yaxis": "y"
        },
        {
         "alignmentgroup": "True",
         "hovertemplate": "Kin. Measure=tToFirstpeakV_s<br>id_s_name=%{x}<br>Pearson Correlation=%{y}<extra></extra>",
         "legendgroup": "tToFirstpeakV_s",
         "marker": {
          "color": "#FECB52",
          "pattern": {
           "shape": ""
          }
         },
         "name": "tToFirstpeakV_s",
         "offsetgroup": "tToFirstpeakV_s",
         "orientation": "v",
         "showlegend": true,
         "textposition": "auto",
         "type": "bar",
         "x": [
          "SimCC, Cams: 1,2,3,4,5",
          "Metrabs, Cams: 1,2,3,4,5",
          "Single, Cam: 1, filt",
          "Single, Cam: 1, unfilt"
         ],
         "xaxis": "x",
         "y": [
          0.9108945652898872,
          0.922178408992044,
          0.8353970883667272,
          0.8030813641276977
         ],
         "yaxis": "y"
        },
        {
         "alignmentgroup": "True",
         "hovertemplate": "Kin. Measure=tTopeakV_rel<br>id_s_name=%{x}<br>Pearson Correlation=%{y}<extra></extra>",
         "legendgroup": "tTopeakV_rel",
         "marker": {
          "color": "#636efa",
          "pattern": {
           "shape": ""
          }
         },
         "name": "tTopeakV_rel",
         "offsetgroup": "tTopeakV_rel",
         "orientation": "v",
         "showlegend": true,
         "textposition": "auto",
         "type": "bar",
         "x": [
          "SimCC, Cams: 1,2,3,4,5",
          "Metrabs, Cams: 1,2,3,4,5",
          "Single, Cam: 1, filt",
          "Single, Cam: 1, unfilt"
         ],
         "xaxis": "x",
         "y": [
          0.49511928376895226,
          0.4667639791903798,
          0.32608847676923547,
          0.2880715722079615
         ],
         "yaxis": "y"
        },
        {
         "alignmentgroup": "True",
         "hovertemplate": "Kin. Measure=tTopeakV_s<br>id_s_name=%{x}<br>Pearson Correlation=%{y}<extra></extra>",
         "legendgroup": "tTopeakV_s",
         "marker": {
          "color": "#EF553B",
          "pattern": {
           "shape": ""
          }
         },
         "name": "tTopeakV_s",
         "offsetgroup": "tTopeakV_s",
         "orientation": "v",
         "showlegend": true,
         "textposition": "auto",
         "type": "bar",
         "x": [
          "SimCC, Cams: 1,2,3,4,5",
          "Metrabs, Cams: 1,2,3,4,5",
          "Single, Cam: 1, filt",
          "Single, Cam: 1, unfilt"
         ],
         "xaxis": "x",
         "y": [
          0.6543619474081664,
          0.658292512948309,
          0.5524528138423078,
          0.502621140271755
         ],
         "yaxis": "y"
        },
        {
         "alignmentgroup": "True",
         "hovertemplate": "Kin. Measure=trunkDisplacementMM<br>id_s_name=%{x}<br>Pearson Correlation=%{y}<extra></extra>",
         "legendgroup": "trunkDisplacementMM",
         "marker": {
          "color": "#00cc96",
          "pattern": {
           "shape": ""
          }
         },
         "name": "trunkDisplacementMM",
         "offsetgroup": "trunkDisplacementMM",
         "orientation": "v",
         "showlegend": true,
         "textposition": "auto",
         "type": "bar",
         "x": [
          "SimCC, Cams: 1,2,3,4,5",
          "Metrabs, Cams: 1,2,3,4,5",
          "Single, Cam: 1, filt",
          "Single, Cam: 1, unfilt"
         ],
         "xaxis": "x",
         "y": [
          0.6263600620274068,
          0.936733959659552,
          0.6352093956303337,
          0.6174225128353308
         ],
         "yaxis": "y"
        }
       ],
       "layout": {
        "barmode": "group",
        "height": 600,
        "legend": {
         "title": {
          "text": "Kin. Measure"
         },
         "tracegroupgap": 0
        },
        "shapes": [
         {
          "line": {
           "color": "red",
           "dash": "dot"
          },
          "name": "minimum correlation",
          "type": "line",
          "x0": 0,
          "x1": 1,
          "xref": "x domain",
          "y0": 0.9,
          "y1": 0.9,
          "yref": "y"
         }
        ],
        "template": {
         "data": {
          "bar": [
           {
            "error_x": {
             "color": "#2a3f5f"
            },
            "error_y": {
             "color": "#2a3f5f"
            },
            "marker": {
             "line": {
              "color": "#E5ECF6",
              "width": 0.5
             },
             "pattern": {
              "fillmode": "overlay",
              "size": 10,
              "solidity": 0.2
             }
            },
            "type": "bar"
           }
          ],
          "barpolar": [
           {
            "marker": {
             "line": {
              "color": "#E5ECF6",
              "width": 0.5
             },
             "pattern": {
              "fillmode": "overlay",
              "size": 10,
              "solidity": 0.2
             }
            },
            "type": "barpolar"
           }
          ],
          "carpet": [
           {
            "aaxis": {
             "endlinecolor": "#2a3f5f",
             "gridcolor": "white",
             "linecolor": "white",
             "minorgridcolor": "white",
             "startlinecolor": "#2a3f5f"
            },
            "baxis": {
             "endlinecolor": "#2a3f5f",
             "gridcolor": "white",
             "linecolor": "white",
             "minorgridcolor": "white",
             "startlinecolor": "#2a3f5f"
            },
            "type": "carpet"
           }
          ],
          "choropleth": [
           {
            "colorbar": {
             "outlinewidth": 0,
             "ticks": ""
            },
            "type": "choropleth"
           }
          ],
          "contour": [
           {
            "colorbar": {
             "outlinewidth": 0,
             "ticks": ""
            },
            "colorscale": [
             [
              0,
              "#0d0887"
             ],
             [
              0.1111111111111111,
              "#46039f"
             ],
             [
              0.2222222222222222,
              "#7201a8"
             ],
             [
              0.3333333333333333,
              "#9c179e"
             ],
             [
              0.4444444444444444,
              "#bd3786"
             ],
             [
              0.5555555555555556,
              "#d8576b"
             ],
             [
              0.6666666666666666,
              "#ed7953"
             ],
             [
              0.7777777777777778,
              "#fb9f3a"
             ],
             [
              0.8888888888888888,
              "#fdca26"
             ],
             [
              1,
              "#f0f921"
             ]
            ],
            "type": "contour"
           }
          ],
          "contourcarpet": [
           {
            "colorbar": {
             "outlinewidth": 0,
             "ticks": ""
            },
            "type": "contourcarpet"
           }
          ],
          "heatmap": [
           {
            "colorbar": {
             "outlinewidth": 0,
             "ticks": ""
            },
            "colorscale": [
             [
              0,
              "#0d0887"
             ],
             [
              0.1111111111111111,
              "#46039f"
             ],
             [
              0.2222222222222222,
              "#7201a8"
             ],
             [
              0.3333333333333333,
              "#9c179e"
             ],
             [
              0.4444444444444444,
              "#bd3786"
             ],
             [
              0.5555555555555556,
              "#d8576b"
             ],
             [
              0.6666666666666666,
              "#ed7953"
             ],
             [
              0.7777777777777778,
              "#fb9f3a"
             ],
             [
              0.8888888888888888,
              "#fdca26"
             ],
             [
              1,
              "#f0f921"
             ]
            ],
            "type": "heatmap"
           }
          ],
          "heatmapgl": [
           {
            "colorbar": {
             "outlinewidth": 0,
             "ticks": ""
            },
            "colorscale": [
             [
              0,
              "#0d0887"
             ],
             [
              0.1111111111111111,
              "#46039f"
             ],
             [
              0.2222222222222222,
              "#7201a8"
             ],
             [
              0.3333333333333333,
              "#9c179e"
             ],
             [
              0.4444444444444444,
              "#bd3786"
             ],
             [
              0.5555555555555556,
              "#d8576b"
             ],
             [
              0.6666666666666666,
              "#ed7953"
             ],
             [
              0.7777777777777778,
              "#fb9f3a"
             ],
             [
              0.8888888888888888,
              "#fdca26"
             ],
             [
              1,
              "#f0f921"
             ]
            ],
            "type": "heatmapgl"
           }
          ],
          "histogram": [
           {
            "marker": {
             "pattern": {
              "fillmode": "overlay",
              "size": 10,
              "solidity": 0.2
             }
            },
            "type": "histogram"
           }
          ],
          "histogram2d": [
           {
            "colorbar": {
             "outlinewidth": 0,
             "ticks": ""
            },
            "colorscale": [
             [
              0,
              "#0d0887"
             ],
             [
              0.1111111111111111,
              "#46039f"
             ],
             [
              0.2222222222222222,
              "#7201a8"
             ],
             [
              0.3333333333333333,
              "#9c179e"
             ],
             [
              0.4444444444444444,
              "#bd3786"
             ],
             [
              0.5555555555555556,
              "#d8576b"
             ],
             [
              0.6666666666666666,
              "#ed7953"
             ],
             [
              0.7777777777777778,
              "#fb9f3a"
             ],
             [
              0.8888888888888888,
              "#fdca26"
             ],
             [
              1,
              "#f0f921"
             ]
            ],
            "type": "histogram2d"
           }
          ],
          "histogram2dcontour": [
           {
            "colorbar": {
             "outlinewidth": 0,
             "ticks": ""
            },
            "colorscale": [
             [
              0,
              "#0d0887"
             ],
             [
              0.1111111111111111,
              "#46039f"
             ],
             [
              0.2222222222222222,
              "#7201a8"
             ],
             [
              0.3333333333333333,
              "#9c179e"
             ],
             [
              0.4444444444444444,
              "#bd3786"
             ],
             [
              0.5555555555555556,
              "#d8576b"
             ],
             [
              0.6666666666666666,
              "#ed7953"
             ],
             [
              0.7777777777777778,
              "#fb9f3a"
             ],
             [
              0.8888888888888888,
              "#fdca26"
             ],
             [
              1,
              "#f0f921"
             ]
            ],
            "type": "histogram2dcontour"
           }
          ],
          "mesh3d": [
           {
            "colorbar": {
             "outlinewidth": 0,
             "ticks": ""
            },
            "type": "mesh3d"
           }
          ],
          "parcoords": [
           {
            "line": {
             "colorbar": {
              "outlinewidth": 0,
              "ticks": ""
             }
            },
            "type": "parcoords"
           }
          ],
          "pie": [
           {
            "automargin": true,
            "type": "pie"
           }
          ],
          "scatter": [
           {
            "fillpattern": {
             "fillmode": "overlay",
             "size": 10,
             "solidity": 0.2
            },
            "type": "scatter"
           }
          ],
          "scatter3d": [
           {
            "line": {
             "colorbar": {
              "outlinewidth": 0,
              "ticks": ""
             }
            },
            "marker": {
             "colorbar": {
              "outlinewidth": 0,
              "ticks": ""
             }
            },
            "type": "scatter3d"
           }
          ],
          "scattercarpet": [
           {
            "marker": {
             "colorbar": {
              "outlinewidth": 0,
              "ticks": ""
             }
            },
            "type": "scattercarpet"
           }
          ],
          "scattergeo": [
           {
            "marker": {
             "colorbar": {
              "outlinewidth": 0,
              "ticks": ""
             }
            },
            "type": "scattergeo"
           }
          ],
          "scattergl": [
           {
            "marker": {
             "colorbar": {
              "outlinewidth": 0,
              "ticks": ""
             }
            },
            "type": "scattergl"
           }
          ],
          "scattermapbox": [
           {
            "marker": {
             "colorbar": {
              "outlinewidth": 0,
              "ticks": ""
             }
            },
            "type": "scattermapbox"
           }
          ],
          "scatterpolar": [
           {
            "marker": {
             "colorbar": {
              "outlinewidth": 0,
              "ticks": ""
             }
            },
            "type": "scatterpolar"
           }
          ],
          "scatterpolargl": [
           {
            "marker": {
             "colorbar": {
              "outlinewidth": 0,
              "ticks": ""
             }
            },
            "type": "scatterpolargl"
           }
          ],
          "scatterternary": [
           {
            "marker": {
             "colorbar": {
              "outlinewidth": 0,
              "ticks": ""
             }
            },
            "type": "scatterternary"
           }
          ],
          "surface": [
           {
            "colorbar": {
             "outlinewidth": 0,
             "ticks": ""
            },
            "colorscale": [
             [
              0,
              "#0d0887"
             ],
             [
              0.1111111111111111,
              "#46039f"
             ],
             [
              0.2222222222222222,
              "#7201a8"
             ],
             [
              0.3333333333333333,
              "#9c179e"
             ],
             [
              0.4444444444444444,
              "#bd3786"
             ],
             [
              0.5555555555555556,
              "#d8576b"
             ],
             [
              0.6666666666666666,
              "#ed7953"
             ],
             [
              0.7777777777777778,
              "#fb9f3a"
             ],
             [
              0.8888888888888888,
              "#fdca26"
             ],
             [
              1,
              "#f0f921"
             ]
            ],
            "type": "surface"
           }
          ],
          "table": [
           {
            "cells": {
             "fill": {
              "color": "#EBF0F8"
             },
             "line": {
              "color": "white"
             }
            },
            "header": {
             "fill": {
              "color": "#C8D4E3"
             },
             "line": {
              "color": "white"
             }
            },
            "type": "table"
           }
          ]
         },
         "layout": {
          "annotationdefaults": {
           "arrowcolor": "#2a3f5f",
           "arrowhead": 0,
           "arrowwidth": 1
          },
          "autotypenumbers": "strict",
          "coloraxis": {
           "colorbar": {
            "outlinewidth": 0,
            "ticks": ""
           }
          },
          "colorscale": {
           "diverging": [
            [
             0,
             "#8e0152"
            ],
            [
             0.1,
             "#c51b7d"
            ],
            [
             0.2,
             "#de77ae"
            ],
            [
             0.3,
             "#f1b6da"
            ],
            [
             0.4,
             "#fde0ef"
            ],
            [
             0.5,
             "#f7f7f7"
            ],
            [
             0.6,
             "#e6f5d0"
            ],
            [
             0.7,
             "#b8e186"
            ],
            [
             0.8,
             "#7fbc41"
            ],
            [
             0.9,
             "#4d9221"
            ],
            [
             1,
             "#276419"
            ]
           ],
           "sequential": [
            [
             0,
             "#0d0887"
            ],
            [
             0.1111111111111111,
             "#46039f"
            ],
            [
             0.2222222222222222,
             "#7201a8"
            ],
            [
             0.3333333333333333,
             "#9c179e"
            ],
            [
             0.4444444444444444,
             "#bd3786"
            ],
            [
             0.5555555555555556,
             "#d8576b"
            ],
            [
             0.6666666666666666,
             "#ed7953"
            ],
            [
             0.7777777777777778,
             "#fb9f3a"
            ],
            [
             0.8888888888888888,
             "#fdca26"
            ],
            [
             1,
             "#f0f921"
            ]
           ],
           "sequentialminus": [
            [
             0,
             "#0d0887"
            ],
            [
             0.1111111111111111,
             "#46039f"
            ],
            [
             0.2222222222222222,
             "#7201a8"
            ],
            [
             0.3333333333333333,
             "#9c179e"
            ],
            [
             0.4444444444444444,
             "#bd3786"
            ],
            [
             0.5555555555555556,
             "#d8576b"
            ],
            [
             0.6666666666666666,
             "#ed7953"
            ],
            [
             0.7777777777777778,
             "#fb9f3a"
            ],
            [
             0.8888888888888888,
             "#fdca26"
            ],
            [
             1,
             "#f0f921"
            ]
           ]
          },
          "colorway": [
           "#636efa",
           "#EF553B",
           "#00cc96",
           "#ab63fa",
           "#FFA15A",
           "#19d3f3",
           "#FF6692",
           "#B6E880",
           "#FF97FF",
           "#FECB52"
          ],
          "font": {
           "color": "#2a3f5f"
          },
          "geo": {
           "bgcolor": "white",
           "lakecolor": "white",
           "landcolor": "#E5ECF6",
           "showlakes": true,
           "showland": true,
           "subunitcolor": "white"
          },
          "hoverlabel": {
           "align": "left"
          },
          "hovermode": "closest",
          "mapbox": {
           "style": "light"
          },
          "paper_bgcolor": "white",
          "plot_bgcolor": "#E5ECF6",
          "polar": {
           "angularaxis": {
            "gridcolor": "white",
            "linecolor": "white",
            "ticks": ""
           },
           "bgcolor": "#E5ECF6",
           "radialaxis": {
            "gridcolor": "white",
            "linecolor": "white",
            "ticks": ""
           }
          },
          "scene": {
           "xaxis": {
            "backgroundcolor": "#E5ECF6",
            "gridcolor": "white",
            "gridwidth": 2,
            "linecolor": "white",
            "showbackground": true,
            "ticks": "",
            "zerolinecolor": "white"
           },
           "yaxis": {
            "backgroundcolor": "#E5ECF6",
            "gridcolor": "white",
            "gridwidth": 2,
            "linecolor": "white",
            "showbackground": true,
            "ticks": "",
            "zerolinecolor": "white"
           },
           "zaxis": {
            "backgroundcolor": "#E5ECF6",
            "gridcolor": "white",
            "gridwidth": 2,
            "linecolor": "white",
            "showbackground": true,
            "ticks": "",
            "zerolinecolor": "white"
           }
          },
          "shapedefaults": {
           "line": {
            "color": "#2a3f5f"
           }
          },
          "ternary": {
           "aaxis": {
            "gridcolor": "white",
            "linecolor": "white",
            "ticks": ""
           },
           "baxis": {
            "gridcolor": "white",
            "linecolor": "white",
            "ticks": ""
           },
           "bgcolor": "#E5ECF6",
           "caxis": {
            "gridcolor": "white",
            "linecolor": "white",
            "ticks": ""
           }
          },
          "title": {
           "x": 0.05
          },
          "xaxis": {
           "automargin": true,
           "gridcolor": "white",
           "linecolor": "white",
           "ticks": "",
           "title": {
            "standoff": 15
           },
           "zerolinecolor": "white",
           "zerolinewidth": 2
          },
          "yaxis": {
           "automargin": true,
           "gridcolor": "white",
           "linecolor": "white",
           "ticks": "",
           "title": {
            "standoff": 15
           },
           "zerolinecolor": "white",
           "zerolinewidth": 2
          }
         }
        },
        "title": {
         "font": {
          "size": 24
         },
         "text": "<b>Pearson Correlation of kinematic Measures<b>"
        },
        "width": 1300,
        "xaxis": {
         "anchor": "y",
         "domain": [
          0,
          1
         ],
         "tickfont": {
          "size": 20
         },
         "title": {
          "font": {
           "size": 20
          },
          "text": "<b>Settings<b>"
         }
        },
        "yaxis": {
         "anchor": "x",
         "domain": [
          0,
          1
         ],
         "title": {
          "font": {
           "size": 20
          },
          "text": "<b>Correlation [r]<b>"
         }
        }
       }
      },
      "text/html": [
       "<div>                            <div id=\"e9c70e8c-86f9-4847-bada-2dfb63e84867\" class=\"plotly-graph-div\" style=\"height:600px; width:1300px;\"></div>            <script type=\"text/javascript\">                require([\"plotly\"], function(Plotly) {                    window.PLOTLYENV=window.PLOTLYENV || {};                                    if (document.getElementById(\"e9c70e8c-86f9-4847-bada-2dfb63e84867\")) {                    Plotly.newPlot(                        \"e9c70e8c-86f9-4847-bada-2dfb63e84867\",                        [{\"alignmentgroup\":\"True\",\"hovertemplate\":\"Kin. Measure=ElbowExtension\\u003cbr\\u003eid_s_name=%{x}\\u003cbr\\u003ePearson Correlation=%{y}\\u003cextra\\u003e\\u003c\\u002fextra\\u003e\",\"legendgroup\":\"ElbowExtension\",\"marker\":{\"color\":\"#636efa\",\"pattern\":{\"shape\":\"\"}},\"name\":\"ElbowExtension\",\"offsetgroup\":\"ElbowExtension\",\"orientation\":\"v\",\"showlegend\":true,\"textposition\":\"auto\",\"x\":[\"SimCC, Cams: 1,2,3,4,5\",\"Metrabs, Cams: 1,2,3,4,5\",\"Single, Cam: 1, filt\",\"Single, Cam: 1, unfilt\"],\"xaxis\":\"x\",\"y\":[0.5668488751281129,0.8625947287037916,0.5700550093668062,0.575122645095663],\"yaxis\":\"y\",\"type\":\"bar\"},{\"alignmentgroup\":\"True\",\"hovertemplate\":\"Kin. Measure=InterjointCoordination\\u003cbr\\u003eid_s_name=%{x}\\u003cbr\\u003ePearson Correlation=%{y}\\u003cextra\\u003e\\u003c\\u002fextra\\u003e\",\"legendgroup\":\"InterjointCoordination\",\"marker\":{\"color\":\"#EF553B\",\"pattern\":{\"shape\":\"\"}},\"name\":\"InterjointCoordination\",\"offsetgroup\":\"InterjointCoordination\",\"orientation\":\"v\",\"showlegend\":true,\"textposition\":\"auto\",\"x\":[\"SimCC, Cams: 1,2,3,4,5\",\"Metrabs, Cams: 1,2,3,4,5\",\"Single, Cam: 1, filt\",\"Single, Cam: 1, unfilt\"],\"xaxis\":\"x\",\"y\":[0.8626175741658915,0.9674912601782655,0.9127177887648439,0.912773844585863],\"yaxis\":\"y\",\"type\":\"bar\"},{\"alignmentgroup\":\"True\",\"hovertemplate\":\"Kin. Measure=NumberMovementUnits\\u003cbr\\u003eid_s_name=%{x}\\u003cbr\\u003ePearson Correlation=%{y}\\u003cextra\\u003e\\u003c\\u002fextra\\u003e\",\"legendgroup\":\"NumberMovementUnits\",\"marker\":{\"color\":\"#00cc96\",\"pattern\":{\"shape\":\"\"}},\"name\":\"NumberMovementUnits\",\"offsetgroup\":\"NumberMovementUnits\",\"orientation\":\"v\",\"showlegend\":true,\"textposition\":\"auto\",\"x\":[\"SimCC, Cams: 1,2,3,4,5\",\"Metrabs, Cams: 1,2,3,4,5\",\"Single, Cam: 1, filt\",\"Single, Cam: 1, unfilt\"],\"xaxis\":\"x\",\"y\":[0.4416347369705941,0.5340103079403927,0.6305378330292342,0.4352376353906917],\"yaxis\":\"y\",\"type\":\"bar\"},{\"alignmentgroup\":\"True\",\"hovertemplate\":\"Kin. Measure=PeakVelocity_mms\\u003cbr\\u003eid_s_name=%{x}\\u003cbr\\u003ePearson Correlation=%{y}\\u003cextra\\u003e\\u003c\\u002fextra\\u003e\",\"legendgroup\":\"PeakVelocity_mms\",\"marker\":{\"color\":\"#ab63fa\",\"pattern\":{\"shape\":\"\"}},\"name\":\"PeakVelocity_mms\",\"offsetgroup\":\"PeakVelocity_mms\",\"orientation\":\"v\",\"showlegend\":true,\"textposition\":\"auto\",\"x\":[\"SimCC, Cams: 1,2,3,4,5\",\"Metrabs, Cams: 1,2,3,4,5\",\"Single, Cam: 1, filt\",\"Single, Cam: 1, unfilt\"],\"xaxis\":\"x\",\"y\":[0.0510152563635973,0.29014713632068084,0.8115172943310485,0.21054729656055626],\"yaxis\":\"y\",\"type\":\"bar\"},{\"alignmentgroup\":\"True\",\"hovertemplate\":\"Kin. Measure=ShoulderFlexionReaching\\u003cbr\\u003eid_s_name=%{x}\\u003cbr\\u003ePearson Correlation=%{y}\\u003cextra\\u003e\\u003c\\u002fextra\\u003e\",\"legendgroup\":\"ShoulderFlexionReaching\",\"marker\":{\"color\":\"#FFA15A\",\"pattern\":{\"shape\":\"\"}},\"name\":\"ShoulderFlexionReaching\",\"offsetgroup\":\"ShoulderFlexionReaching\",\"orientation\":\"v\",\"showlegend\":true,\"textposition\":\"auto\",\"x\":[\"SimCC, Cams: 1,2,3,4,5\",\"Metrabs, Cams: 1,2,3,4,5\",\"Single, Cam: 1, filt\",\"Single, Cam: 1, unfilt\"],\"xaxis\":\"x\",\"y\":[0.6047895956306422,0.853379930248853,0.7980992668188918,0.7959310103874278],\"yaxis\":\"y\",\"type\":\"bar\"},{\"alignmentgroup\":\"True\",\"hovertemplate\":\"Kin. Measure=elbowVelocity\\u003cbr\\u003eid_s_name=%{x}\\u003cbr\\u003ePearson Correlation=%{y}\\u003cextra\\u003e\\u003c\\u002fextra\\u003e\",\"legendgroup\":\"elbowVelocity\",\"marker\":{\"color\":\"#19d3f3\",\"pattern\":{\"shape\":\"\"}},\"name\":\"elbowVelocity\",\"offsetgroup\":\"elbowVelocity\",\"orientation\":\"v\",\"showlegend\":true,\"textposition\":\"auto\",\"x\":[\"SimCC, Cams: 1,2,3,4,5\",\"Metrabs, Cams: 1,2,3,4,5\",\"Single, Cam: 1, filt\",\"Single, Cam: 1, unfilt\"],\"xaxis\":\"x\",\"y\":[0.39091452341942917,0.7042074268591778,0.6844337439478627,0.6369982716039136],\"yaxis\":\"y\",\"type\":\"bar\"},{\"alignmentgroup\":\"True\",\"hovertemplate\":\"Kin. Measure=shoulderAbduction\\u003cbr\\u003eid_s_name=%{x}\\u003cbr\\u003ePearson Correlation=%{y}\\u003cextra\\u003e\\u003c\\u002fextra\\u003e\",\"legendgroup\":\"shoulderAbduction\",\"marker\":{\"color\":\"#FF6692\",\"pattern\":{\"shape\":\"\"}},\"name\":\"shoulderAbduction\",\"offsetgroup\":\"shoulderAbduction\",\"orientation\":\"v\",\"showlegend\":true,\"textposition\":\"auto\",\"x\":[\"SimCC, Cams: 1,2,3,4,5\",\"Metrabs, Cams: 1,2,3,4,5\",\"Single, Cam: 1, filt\",\"Single, Cam: 1, unfilt\"],\"xaxis\":\"x\",\"y\":[0.56559434189851,0.779382285777537,0.4118364522953269,0.4258900304486689],\"yaxis\":\"y\",\"type\":\"bar\"},{\"alignmentgroup\":\"True\",\"hovertemplate\":\"Kin. Measure=shoulderFlexionDrinking\\u003cbr\\u003eid_s_name=%{x}\\u003cbr\\u003ePearson Correlation=%{y}\\u003cextra\\u003e\\u003c\\u002fextra\\u003e\",\"legendgroup\":\"shoulderFlexionDrinking\",\"marker\":{\"color\":\"#B6E880\",\"pattern\":{\"shape\":\"\"}},\"name\":\"shoulderFlexionDrinking\",\"offsetgroup\":\"shoulderFlexionDrinking\",\"orientation\":\"v\",\"showlegend\":true,\"textposition\":\"auto\",\"x\":[\"SimCC, Cams: 1,2,3,4,5\",\"Metrabs, Cams: 1,2,3,4,5\",\"Single, Cam: 1, filt\",\"Single, Cam: 1, unfilt\"],\"xaxis\":\"x\",\"y\":[0.7766674476048849,0.9045986937675042,0.8417463916801111,0.825503823010218],\"yaxis\":\"y\",\"type\":\"bar\"},{\"alignmentgroup\":\"True\",\"hovertemplate\":\"Kin. Measure=tToFirstpeakV_rel\\u003cbr\\u003eid_s_name=%{x}\\u003cbr\\u003ePearson Correlation=%{y}\\u003cextra\\u003e\\u003c\\u002fextra\\u003e\",\"legendgroup\":\"tToFirstpeakV_rel\",\"marker\":{\"color\":\"#FF97FF\",\"pattern\":{\"shape\":\"\"}},\"name\":\"tToFirstpeakV_rel\",\"offsetgroup\":\"tToFirstpeakV_rel\",\"orientation\":\"v\",\"showlegend\":true,\"textposition\":\"auto\",\"x\":[\"SimCC, Cams: 1,2,3,4,5\",\"Metrabs, Cams: 1,2,3,4,5\",\"Single, Cam: 1, filt\",\"Single, Cam: 1, unfilt\"],\"xaxis\":\"x\",\"y\":[0.8953369333556043,0.9141804964807396,0.8297846134504014,0.7873404712428078],\"yaxis\":\"y\",\"type\":\"bar\"},{\"alignmentgroup\":\"True\",\"hovertemplate\":\"Kin. Measure=tToFirstpeakV_s\\u003cbr\\u003eid_s_name=%{x}\\u003cbr\\u003ePearson Correlation=%{y}\\u003cextra\\u003e\\u003c\\u002fextra\\u003e\",\"legendgroup\":\"tToFirstpeakV_s\",\"marker\":{\"color\":\"#FECB52\",\"pattern\":{\"shape\":\"\"}},\"name\":\"tToFirstpeakV_s\",\"offsetgroup\":\"tToFirstpeakV_s\",\"orientation\":\"v\",\"showlegend\":true,\"textposition\":\"auto\",\"x\":[\"SimCC, Cams: 1,2,3,4,5\",\"Metrabs, Cams: 1,2,3,4,5\",\"Single, Cam: 1, filt\",\"Single, Cam: 1, unfilt\"],\"xaxis\":\"x\",\"y\":[0.9108945652898872,0.922178408992044,0.8353970883667272,0.8030813641276977],\"yaxis\":\"y\",\"type\":\"bar\"},{\"alignmentgroup\":\"True\",\"hovertemplate\":\"Kin. Measure=tTopeakV_rel\\u003cbr\\u003eid_s_name=%{x}\\u003cbr\\u003ePearson Correlation=%{y}\\u003cextra\\u003e\\u003c\\u002fextra\\u003e\",\"legendgroup\":\"tTopeakV_rel\",\"marker\":{\"color\":\"#636efa\",\"pattern\":{\"shape\":\"\"}},\"name\":\"tTopeakV_rel\",\"offsetgroup\":\"tTopeakV_rel\",\"orientation\":\"v\",\"showlegend\":true,\"textposition\":\"auto\",\"x\":[\"SimCC, Cams: 1,2,3,4,5\",\"Metrabs, Cams: 1,2,3,4,5\",\"Single, Cam: 1, filt\",\"Single, Cam: 1, unfilt\"],\"xaxis\":\"x\",\"y\":[0.49511928376895226,0.4667639791903798,0.32608847676923547,0.2880715722079615],\"yaxis\":\"y\",\"type\":\"bar\"},{\"alignmentgroup\":\"True\",\"hovertemplate\":\"Kin. Measure=tTopeakV_s\\u003cbr\\u003eid_s_name=%{x}\\u003cbr\\u003ePearson Correlation=%{y}\\u003cextra\\u003e\\u003c\\u002fextra\\u003e\",\"legendgroup\":\"tTopeakV_s\",\"marker\":{\"color\":\"#EF553B\",\"pattern\":{\"shape\":\"\"}},\"name\":\"tTopeakV_s\",\"offsetgroup\":\"tTopeakV_s\",\"orientation\":\"v\",\"showlegend\":true,\"textposition\":\"auto\",\"x\":[\"SimCC, Cams: 1,2,3,4,5\",\"Metrabs, Cams: 1,2,3,4,5\",\"Single, Cam: 1, filt\",\"Single, Cam: 1, unfilt\"],\"xaxis\":\"x\",\"y\":[0.6543619474081664,0.658292512948309,0.5524528138423078,0.502621140271755],\"yaxis\":\"y\",\"type\":\"bar\"},{\"alignmentgroup\":\"True\",\"hovertemplate\":\"Kin. Measure=trunkDisplacementMM\\u003cbr\\u003eid_s_name=%{x}\\u003cbr\\u003ePearson Correlation=%{y}\\u003cextra\\u003e\\u003c\\u002fextra\\u003e\",\"legendgroup\":\"trunkDisplacementMM\",\"marker\":{\"color\":\"#00cc96\",\"pattern\":{\"shape\":\"\"}},\"name\":\"trunkDisplacementMM\",\"offsetgroup\":\"trunkDisplacementMM\",\"orientation\":\"v\",\"showlegend\":true,\"textposition\":\"auto\",\"x\":[\"SimCC, Cams: 1,2,3,4,5\",\"Metrabs, Cams: 1,2,3,4,5\",\"Single, Cam: 1, filt\",\"Single, Cam: 1, unfilt\"],\"xaxis\":\"x\",\"y\":[0.6263600620274068,0.936733959659552,0.6352093956303337,0.6174225128353308],\"yaxis\":\"y\",\"type\":\"bar\"}],                        {\"template\":{\"data\":{\"barpolar\":[{\"marker\":{\"line\":{\"color\":\"#E5ECF6\",\"width\":0.5},\"pattern\":{\"fillmode\":\"overlay\",\"size\":10,\"solidity\":0.2}},\"type\":\"barpolar\"}],\"bar\":[{\"error_x\":{\"color\":\"#2a3f5f\"},\"error_y\":{\"color\":\"#2a3f5f\"},\"marker\":{\"line\":{\"color\":\"#E5ECF6\",\"width\":0.5},\"pattern\":{\"fillmode\":\"overlay\",\"size\":10,\"solidity\":0.2}},\"type\":\"bar\"}],\"carpet\":[{\"aaxis\":{\"endlinecolor\":\"#2a3f5f\",\"gridcolor\":\"white\",\"linecolor\":\"white\",\"minorgridcolor\":\"white\",\"startlinecolor\":\"#2a3f5f\"},\"baxis\":{\"endlinecolor\":\"#2a3f5f\",\"gridcolor\":\"white\",\"linecolor\":\"white\",\"minorgridcolor\":\"white\",\"startlinecolor\":\"#2a3f5f\"},\"type\":\"carpet\"}],\"choropleth\":[{\"colorbar\":{\"outlinewidth\":0,\"ticks\":\"\"},\"type\":\"choropleth\"}],\"contourcarpet\":[{\"colorbar\":{\"outlinewidth\":0,\"ticks\":\"\"},\"type\":\"contourcarpet\"}],\"contour\":[{\"colorbar\":{\"outlinewidth\":0,\"ticks\":\"\"},\"colorscale\":[[0.0,\"#0d0887\"],[0.1111111111111111,\"#46039f\"],[0.2222222222222222,\"#7201a8\"],[0.3333333333333333,\"#9c179e\"],[0.4444444444444444,\"#bd3786\"],[0.5555555555555556,\"#d8576b\"],[0.6666666666666666,\"#ed7953\"],[0.7777777777777778,\"#fb9f3a\"],[0.8888888888888888,\"#fdca26\"],[1.0,\"#f0f921\"]],\"type\":\"contour\"}],\"heatmapgl\":[{\"colorbar\":{\"outlinewidth\":0,\"ticks\":\"\"},\"colorscale\":[[0.0,\"#0d0887\"],[0.1111111111111111,\"#46039f\"],[0.2222222222222222,\"#7201a8\"],[0.3333333333333333,\"#9c179e\"],[0.4444444444444444,\"#bd3786\"],[0.5555555555555556,\"#d8576b\"],[0.6666666666666666,\"#ed7953\"],[0.7777777777777778,\"#fb9f3a\"],[0.8888888888888888,\"#fdca26\"],[1.0,\"#f0f921\"]],\"type\":\"heatmapgl\"}],\"heatmap\":[{\"colorbar\":{\"outlinewidth\":0,\"ticks\":\"\"},\"colorscale\":[[0.0,\"#0d0887\"],[0.1111111111111111,\"#46039f\"],[0.2222222222222222,\"#7201a8\"],[0.3333333333333333,\"#9c179e\"],[0.4444444444444444,\"#bd3786\"],[0.5555555555555556,\"#d8576b\"],[0.6666666666666666,\"#ed7953\"],[0.7777777777777778,\"#fb9f3a\"],[0.8888888888888888,\"#fdca26\"],[1.0,\"#f0f921\"]],\"type\":\"heatmap\"}],\"histogram2dcontour\":[{\"colorbar\":{\"outlinewidth\":0,\"ticks\":\"\"},\"colorscale\":[[0.0,\"#0d0887\"],[0.1111111111111111,\"#46039f\"],[0.2222222222222222,\"#7201a8\"],[0.3333333333333333,\"#9c179e\"],[0.4444444444444444,\"#bd3786\"],[0.5555555555555556,\"#d8576b\"],[0.6666666666666666,\"#ed7953\"],[0.7777777777777778,\"#fb9f3a\"],[0.8888888888888888,\"#fdca26\"],[1.0,\"#f0f921\"]],\"type\":\"histogram2dcontour\"}],\"histogram2d\":[{\"colorbar\":{\"outlinewidth\":0,\"ticks\":\"\"},\"colorscale\":[[0.0,\"#0d0887\"],[0.1111111111111111,\"#46039f\"],[0.2222222222222222,\"#7201a8\"],[0.3333333333333333,\"#9c179e\"],[0.4444444444444444,\"#bd3786\"],[0.5555555555555556,\"#d8576b\"],[0.6666666666666666,\"#ed7953\"],[0.7777777777777778,\"#fb9f3a\"],[0.8888888888888888,\"#fdca26\"],[1.0,\"#f0f921\"]],\"type\":\"histogram2d\"}],\"histogram\":[{\"marker\":{\"pattern\":{\"fillmode\":\"overlay\",\"size\":10,\"solidity\":0.2}},\"type\":\"histogram\"}],\"mesh3d\":[{\"colorbar\":{\"outlinewidth\":0,\"ticks\":\"\"},\"type\":\"mesh3d\"}],\"parcoords\":[{\"line\":{\"colorbar\":{\"outlinewidth\":0,\"ticks\":\"\"}},\"type\":\"parcoords\"}],\"pie\":[{\"automargin\":true,\"type\":\"pie\"}],\"scatter3d\":[{\"line\":{\"colorbar\":{\"outlinewidth\":0,\"ticks\":\"\"}},\"marker\":{\"colorbar\":{\"outlinewidth\":0,\"ticks\":\"\"}},\"type\":\"scatter3d\"}],\"scattercarpet\":[{\"marker\":{\"colorbar\":{\"outlinewidth\":0,\"ticks\":\"\"}},\"type\":\"scattercarpet\"}],\"scattergeo\":[{\"marker\":{\"colorbar\":{\"outlinewidth\":0,\"ticks\":\"\"}},\"type\":\"scattergeo\"}],\"scattergl\":[{\"marker\":{\"colorbar\":{\"outlinewidth\":0,\"ticks\":\"\"}},\"type\":\"scattergl\"}],\"scattermapbox\":[{\"marker\":{\"colorbar\":{\"outlinewidth\":0,\"ticks\":\"\"}},\"type\":\"scattermapbox\"}],\"scatterpolargl\":[{\"marker\":{\"colorbar\":{\"outlinewidth\":0,\"ticks\":\"\"}},\"type\":\"scatterpolargl\"}],\"scatterpolar\":[{\"marker\":{\"colorbar\":{\"outlinewidth\":0,\"ticks\":\"\"}},\"type\":\"scatterpolar\"}],\"scatter\":[{\"fillpattern\":{\"fillmode\":\"overlay\",\"size\":10,\"solidity\":0.2},\"type\":\"scatter\"}],\"scatterternary\":[{\"marker\":{\"colorbar\":{\"outlinewidth\":0,\"ticks\":\"\"}},\"type\":\"scatterternary\"}],\"surface\":[{\"colorbar\":{\"outlinewidth\":0,\"ticks\":\"\"},\"colorscale\":[[0.0,\"#0d0887\"],[0.1111111111111111,\"#46039f\"],[0.2222222222222222,\"#7201a8\"],[0.3333333333333333,\"#9c179e\"],[0.4444444444444444,\"#bd3786\"],[0.5555555555555556,\"#d8576b\"],[0.6666666666666666,\"#ed7953\"],[0.7777777777777778,\"#fb9f3a\"],[0.8888888888888888,\"#fdca26\"],[1.0,\"#f0f921\"]],\"type\":\"surface\"}],\"table\":[{\"cells\":{\"fill\":{\"color\":\"#EBF0F8\"},\"line\":{\"color\":\"white\"}},\"header\":{\"fill\":{\"color\":\"#C8D4E3\"},\"line\":{\"color\":\"white\"}},\"type\":\"table\"}]},\"layout\":{\"annotationdefaults\":{\"arrowcolor\":\"#2a3f5f\",\"arrowhead\":0,\"arrowwidth\":1},\"autotypenumbers\":\"strict\",\"coloraxis\":{\"colorbar\":{\"outlinewidth\":0,\"ticks\":\"\"}},\"colorscale\":{\"diverging\":[[0,\"#8e0152\"],[0.1,\"#c51b7d\"],[0.2,\"#de77ae\"],[0.3,\"#f1b6da\"],[0.4,\"#fde0ef\"],[0.5,\"#f7f7f7\"],[0.6,\"#e6f5d0\"],[0.7,\"#b8e186\"],[0.8,\"#7fbc41\"],[0.9,\"#4d9221\"],[1,\"#276419\"]],\"sequential\":[[0.0,\"#0d0887\"],[0.1111111111111111,\"#46039f\"],[0.2222222222222222,\"#7201a8\"],[0.3333333333333333,\"#9c179e\"],[0.4444444444444444,\"#bd3786\"],[0.5555555555555556,\"#d8576b\"],[0.6666666666666666,\"#ed7953\"],[0.7777777777777778,\"#fb9f3a\"],[0.8888888888888888,\"#fdca26\"],[1.0,\"#f0f921\"]],\"sequentialminus\":[[0.0,\"#0d0887\"],[0.1111111111111111,\"#46039f\"],[0.2222222222222222,\"#7201a8\"],[0.3333333333333333,\"#9c179e\"],[0.4444444444444444,\"#bd3786\"],[0.5555555555555556,\"#d8576b\"],[0.6666666666666666,\"#ed7953\"],[0.7777777777777778,\"#fb9f3a\"],[0.8888888888888888,\"#fdca26\"],[1.0,\"#f0f921\"]]},\"colorway\":[\"#636efa\",\"#EF553B\",\"#00cc96\",\"#ab63fa\",\"#FFA15A\",\"#19d3f3\",\"#FF6692\",\"#B6E880\",\"#FF97FF\",\"#FECB52\"],\"font\":{\"color\":\"#2a3f5f\"},\"geo\":{\"bgcolor\":\"white\",\"lakecolor\":\"white\",\"landcolor\":\"#E5ECF6\",\"showlakes\":true,\"showland\":true,\"subunitcolor\":\"white\"},\"hoverlabel\":{\"align\":\"left\"},\"hovermode\":\"closest\",\"mapbox\":{\"style\":\"light\"},\"paper_bgcolor\":\"white\",\"plot_bgcolor\":\"#E5ECF6\",\"polar\":{\"angularaxis\":{\"gridcolor\":\"white\",\"linecolor\":\"white\",\"ticks\":\"\"},\"bgcolor\":\"#E5ECF6\",\"radialaxis\":{\"gridcolor\":\"white\",\"linecolor\":\"white\",\"ticks\":\"\"}},\"scene\":{\"xaxis\":{\"backgroundcolor\":\"#E5ECF6\",\"gridcolor\":\"white\",\"gridwidth\":2,\"linecolor\":\"white\",\"showbackground\":true,\"ticks\":\"\",\"zerolinecolor\":\"white\"},\"yaxis\":{\"backgroundcolor\":\"#E5ECF6\",\"gridcolor\":\"white\",\"gridwidth\":2,\"linecolor\":\"white\",\"showbackground\":true,\"ticks\":\"\",\"zerolinecolor\":\"white\"},\"zaxis\":{\"backgroundcolor\":\"#E5ECF6\",\"gridcolor\":\"white\",\"gridwidth\":2,\"linecolor\":\"white\",\"showbackground\":true,\"ticks\":\"\",\"zerolinecolor\":\"white\"}},\"shapedefaults\":{\"line\":{\"color\":\"#2a3f5f\"}},\"ternary\":{\"aaxis\":{\"gridcolor\":\"white\",\"linecolor\":\"white\",\"ticks\":\"\"},\"baxis\":{\"gridcolor\":\"white\",\"linecolor\":\"white\",\"ticks\":\"\"},\"bgcolor\":\"#E5ECF6\",\"caxis\":{\"gridcolor\":\"white\",\"linecolor\":\"white\",\"ticks\":\"\"}},\"title\":{\"x\":0.05},\"xaxis\":{\"automargin\":true,\"gridcolor\":\"white\",\"linecolor\":\"white\",\"ticks\":\"\",\"title\":{\"standoff\":15},\"zerolinecolor\":\"white\",\"zerolinewidth\":2},\"yaxis\":{\"automargin\":true,\"gridcolor\":\"white\",\"linecolor\":\"white\",\"ticks\":\"\",\"title\":{\"standoff\":15},\"zerolinecolor\":\"white\",\"zerolinewidth\":2}}},\"xaxis\":{\"anchor\":\"y\",\"domain\":[0.0,1.0],\"title\":{\"text\":\"\\u003cb\\u003eSettings\\u003cb\\u003e\",\"font\":{\"size\":20}},\"tickfont\":{\"size\":20}},\"yaxis\":{\"anchor\":\"x\",\"domain\":[0.0,1.0],\"title\":{\"text\":\"\\u003cb\\u003eCorrelation [r]\\u003cb\\u003e\",\"font\":{\"size\":20}}},\"legend\":{\"title\":{\"text\":\"Kin. Measure\"},\"tracegroupgap\":0},\"title\":{\"text\":\"\\u003cb\\u003ePearson Correlation of kinematic Measures\\u003cb\\u003e\",\"font\":{\"size\":24}},\"barmode\":\"group\",\"shapes\":[{\"line\":{\"color\":\"red\",\"dash\":\"dot\"},\"name\":\"minimum correlation\",\"type\":\"line\",\"x0\":0,\"x1\":1,\"xref\":\"x domain\",\"y0\":0.9,\"y1\":0.9,\"yref\":\"y\"}],\"width\":1300,\"height\":600},                        {\"responsive\": true}                    ).then(function(){\n",
       "                            \n",
       "var gd = document.getElementById('e9c70e8c-86f9-4847-bada-2dfb63e84867');\n",
       "var x = new MutationObserver(function (mutations, observer) {{\n",
       "        var display = window.getComputedStyle(gd).display;\n",
       "        if (!display || display === 'none') {{\n",
       "            console.log([gd, 'removed!']);\n",
       "            Plotly.purge(gd);\n",
       "            observer.disconnect();\n",
       "        }}\n",
       "}});\n",
       "\n",
       "// Listen for the removal of the full notebook cells\n",
       "var notebookContainer = gd.closest('#notebook-container');\n",
       "if (notebookContainer) {{\n",
       "    x.observe(notebookContainer, {childList: true});\n",
       "}}\n",
       "\n",
       "// Listen for the clearing of the current output cell\n",
       "var outputEl = gd.closest('.output');\n",
       "if (outputEl) {{\n",
       "    x.observe(outputEl, {childList: true});\n",
       "}}\n",
       "\n",
       "                        })                };                });            </script>        </div>"
      ]
     },
     "metadata": {},
     "output_type": "display_data"
    }
   ],
   "source": [
    "fig = px.bar(df_plot[df_plot['id_s'].isin(idx_s_reduced)], x='id_s_name', y='correlation', color='measure', title=f'Pearson Correlation', labels={'correlation': 'Pearson Correlation', 'id_s': 'Subject ID', 'measure': 'Kin. Measure'},\n",
    "             template = 'plotly', barmode=\"group\")\n",
    "\n",
    "fig.add_hline(y=0.9, line_dash='dot', line_color='red', name = 'minimum correlation')\n",
    "\n",
    "fig.update_layout(title= dict(text=f'<b>Pearson Correlation of kinematic Measures<b>', font=dict(size=24)) ,\n",
    "                  xaxis_title = dict(text=f'<b>Settings<b>', font=dict(size=20)),\n",
    "                  yaxis_title = dict(text=f'<b>Correlation [r]<b>', font=dict(size=20)),\n",
    "                  xaxis = dict(tickfont=dict(size=20)),\n",
    "                  width = 1300, height = 600,\n",
    "          )\n",
    "\n",
    "fig.show()\n",
    "\n",
    "os.makedirs(os.path.join(dir_plots_cat, '04_correlation'), exist_ok=True)\n",
    "\n",
    "path = os.path.join(dir_plots_cat, '04_correlation', f'pearson_corr_reduced.html')\n",
    "fig.write_html(path)\n",
    "\n",
    "path = os.path.join(dir_plots_cat, '04_correlation', f'pearson_corr_reduced.png')\n",
    "fig.write_image(path, scale = 5)"
   ]
  },
  {
   "cell_type": "code",
   "execution_count": 11,
   "id": "a53ef7e3dea809cf",
   "metadata": {
    "ExecuteTime": {
     "end_time": "2024-12-25T20:11:23.368026Z",
     "start_time": "2024-12-25T20:11:19.198183Z"
    }
   },
   "outputs": [],
   "source": [
    "measures = df_plot['measure'].unique()\n",
    "\n",
    "for measure in measures:\n",
    "    df_plot_measure = df_plot[df_plot['measure'] == measure]\n",
    "    title_name = get_title_measure_name(measure)\n",
    "    \n",
    "    fig = px.bar(df_plot_measure[df_plot_measure['id_s'].isin(idx_s_reduced)], x='id_s_name', y='correlation', title=f'Pearson Correlation of {title_name}', labels={'correlation': 'Pearson Correlation', 'id_s': 'Subject ID', 'measure': 'Kin. Measure'},\n",
    "                 template = 'plotly')\n",
    "    \n",
    "    fig.add_hline(y=0.9, line_dash='dot', line_color='red', name = 'minimum correlation')\n",
    "    \n",
    "    fig.update_layout(title= dict(text=f'<b>Pearson Correlation of {title_name}<b>', font=dict(size=24)),\n",
    "                      xaxis_title=dict(text=f'<b>Settings<b>', font=dict(size=20)),\n",
    "                      yaxis_title=dict(text=f'<b>Correlation [r]<b>', font=dict(size=20)),\n",
    "                      width=1000, height=500,\n",
    "                      xaxis = dict(tickfont=dict(size=18))\n",
    "              )\n",
    "    \n",
    "    #fig.show()\n",
    "    os.makedirs(os.path.join(dir_plots_cat, '04_correlation'), exist_ok=True)\n",
    "    \n",
    "    path = os.path.join(dir_plots_cat, '04_correlation', f'pearson_corr_{measure}.html')\n",
    "    fig.write_html(path)\n",
    "    \n",
    "    suff = get_measure_plot_num(measure)\n",
    "    \n",
    "    dir_png = os.path.join(dir_plots_cat, '04_correlation', 'png')\n",
    "    os.makedirs(dir_png, exist_ok=True)\n",
    "    path = os.path.join(dir_png, f'{suff}pearson_corr_{measure}.png')\n",
    "    fig.write_image(path, scale = 5)"
   ]
  },
  {
   "cell_type": "markdown",
   "id": "33f1a0306ce7a8d7",
   "metadata": {},
   "source": []
  },
  {
   "cell_type": "code",
   "execution_count": 10,
   "id": "35618d42a4c89e01",
   "metadata": {
    "ExecuteTime": {
     "end_time": "2024-12-31T09:11:44.345509Z",
     "start_time": "2024-12-31T09:11:44.326093Z"
    }
   },
   "outputs": [
    {
     "data": {
      "text/html": [
       "<div>\n",
       "<style scoped>\n",
       "    .dataframe tbody tr th:only-of-type {\n",
       "        vertical-align: middle;\n",
       "    }\n",
       "\n",
       "    .dataframe tbody tr th {\n",
       "        vertical-align: top;\n",
       "    }\n",
       "\n",
       "    .dataframe thead th {\n",
       "        text-align: right;\n",
       "    }\n",
       "</style>\n",
       "<table border=\"1\" class=\"dataframe\">\n",
       "  <thead>\n",
       "    <tr style=\"text-align: right;\">\n",
       "      <th></th>\n",
       "      <th>Setting</th>\n",
       "      <th>Measure</th>\n",
       "      <th>Correlation</th>\n",
       "    </tr>\n",
       "  </thead>\n",
       "  <tbody>\n",
       "    <tr>\n",
       "      <th>0</th>\n",
       "      <td>SimCC, Cams: 1,2,3,4,5</td>\n",
       "      <td>elb_ext</td>\n",
       "      <td>0.55</td>\n",
       "    </tr>\n",
       "    <tr>\n",
       "      <th>1</th>\n",
       "      <td>SimCC, Cams: 1,2,3,4,5</td>\n",
       "      <td>interj_coord</td>\n",
       "      <td>0.72</td>\n",
       "    </tr>\n",
       "    <tr>\n",
       "      <th>2</th>\n",
       "      <td>SimCC, Cams: 1,2,3,4,5</td>\n",
       "      <td>n_mov_units</td>\n",
       "      <td>0.60</td>\n",
       "    </tr>\n",
       "    <tr>\n",
       "      <th>3</th>\n",
       "      <td>SimCC, Cams: 1,2,3,4,5</td>\n",
       "      <td>peak_V</td>\n",
       "      <td>-0.03</td>\n",
       "    </tr>\n",
       "    <tr>\n",
       "      <th>4</th>\n",
       "      <td>SimCC, Cams: 1,2,3,4,5</td>\n",
       "      <td>arm_flex_reach</td>\n",
       "      <td>0.56</td>\n",
       "    </tr>\n",
       "    <tr>\n",
       "      <th>...</th>\n",
       "      <td>...</td>\n",
       "      <td>...</td>\n",
       "      <td>...</td>\n",
       "    </tr>\n",
       "    <tr>\n",
       "      <th>232</th>\n",
       "      <td>Single, Cam: 1, unfilt</td>\n",
       "      <td>t_first_PV_rel</td>\n",
       "      <td>0.75</td>\n",
       "    </tr>\n",
       "    <tr>\n",
       "      <th>233</th>\n",
       "      <td>Single, Cam: 1, unfilt</td>\n",
       "      <td>t_first_PV</td>\n",
       "      <td>0.76</td>\n",
       "    </tr>\n",
       "    <tr>\n",
       "      <th>234</th>\n",
       "      <td>Single, Cam: 1, unfilt</td>\n",
       "      <td>t_PV_rel</td>\n",
       "      <td>0.26</td>\n",
       "    </tr>\n",
       "    <tr>\n",
       "      <th>235</th>\n",
       "      <td>Single, Cam: 1, unfilt</td>\n",
       "      <td>t_to_PV</td>\n",
       "      <td>0.49</td>\n",
       "    </tr>\n",
       "    <tr>\n",
       "      <th>237</th>\n",
       "      <td>Single, Cam: 1, unfilt</td>\n",
       "      <td>trunk_disp</td>\n",
       "      <td>0.27</td>\n",
       "    </tr>\n",
       "  </tbody>\n",
       "</table>\n",
       "<p>221 rows × 3 columns</p>\n",
       "</div>"
      ],
      "text/plain": [
       "                    Setting         Measure  Correlation\n",
       "0    SimCC, Cams: 1,2,3,4,5         elb_ext         0.55\n",
       "1    SimCC, Cams: 1,2,3,4,5    interj_coord         0.72\n",
       "2    SimCC, Cams: 1,2,3,4,5     n_mov_units         0.60\n",
       "3    SimCC, Cams: 1,2,3,4,5          peak_V        -0.03\n",
       "4    SimCC, Cams: 1,2,3,4,5  arm_flex_reach         0.56\n",
       "..                      ...             ...          ...\n",
       "232  Single, Cam: 1, unfilt  t_first_PV_rel         0.75\n",
       "233  Single, Cam: 1, unfilt      t_first_PV         0.76\n",
       "234  Single, Cam: 1, unfilt        t_PV_rel         0.26\n",
       "235  Single, Cam: 1, unfilt         t_to_PV         0.49\n",
       "237  Single, Cam: 1, unfilt      trunk_disp         0.27\n",
       "\n",
       "[221 rows x 3 columns]"
      ]
     },
     "execution_count": 10,
     "metadata": {},
     "output_type": "execute_result"
    }
   ],
   "source": [
    "df_table"
   ]
  },
  {
   "cell_type": "code",
   "execution_count": 11,
   "id": "91015018af104b91",
   "metadata": {
    "ExecuteTime": {
     "end_time": "2024-12-31T10:17:48.523727Z",
     "start_time": "2024-12-31T10:17:48.511847Z"
    }
   },
   "outputs": [],
   "source": [
    "df_table = df_plot.copy().round(2)\n",
    "df_table.drop(columns=['id_s', 'p_value'], inplace=True)\n",
    "df_table['measure'] = df_table['measure'].apply(lambda x: get_measure_short_name(x))\n",
    "df_table.rename(columns={'id_s_name': 'Setting', 'measure': 'Measure', 'correlation': 'Correlation'}, inplace=True)"
   ]
  },
  {
   "cell_type": "code",
   "execution_count": 12,
   "id": "4a170c6dd66cac15",
   "metadata": {
    "ExecuteTime": {
     "end_time": "2024-12-31T10:17:52.603443Z",
     "start_time": "2024-12-31T10:17:51.964350Z"
    }
   },
   "outputs": [
    {
     "name": "stdout",
     "output_type": "stream",
     "text": [
      "\\begin{table}\n",
      "\\caption{Pearson Correlation fo all Settings}\n",
      "\\label{tab:app:cat:pearson_corr}\n",
      "\\begin{tabular}{lllr}\n",
      " & Setting & Measure & Correlation \\\\\n",
      "0 & SimCC, Cams: 1,2,3,4,5 & elb_ext & 0.550000 \\\\\n",
      "1 & SimCC, Cams: 1,2,3,4,5 & interj_coord & 0.720000 \\\\\n",
      "2 & SimCC, Cams: 1,2,3,4,5 & n_mov_units & 0.600000 \\\\\n",
      "3 & SimCC, Cams: 1,2,3,4,5 & peak_V & -0.030000 \\\\\n",
      "4 & SimCC, Cams: 1,2,3,4,5 & arm_flex_reach & 0.560000 \\\\\n",
      "5 & SimCC, Cams: 1,2,3,4,5 & peak_V_elb & -0.190000 \\\\\n",
      "6 & SimCC, Cams: 1,2,3,4,5 & arm_abd & 0.090000 \\\\\n",
      "7 & SimCC, Cams: 1,2,3,4,5 & arm_flex_drink & 0.660000 \\\\\n",
      "8 & SimCC, Cams: 1,2,3,4,5 & t_first_PV_rel & 0.820000 \\\\\n",
      "9 & SimCC, Cams: 1,2,3,4,5 & t_first_PV & 0.850000 \\\\\n",
      "10 & SimCC, Cams: 1,2,3,4,5 & t_PV_rel & 0.510000 \\\\\n",
      "11 & SimCC, Cams: 1,2,3,4,5 & t_to_PV & 0.650000 \\\\\n",
      "13 & SimCC, Cams: 1,2,3,4,5 & trunk_disp & 0.270000 \\\\\n",
      "14 & Metrabs, Cams: 1,2,3,4,5 & elb_ext & 0.570000 \\\\\n",
      "15 & Metrabs, Cams: 1,2,3,4,5 & interj_coord & 0.920000 \\\\\n",
      "16 & Metrabs, Cams: 1,2,3,4,5 & n_mov_units & 0.650000 \\\\\n",
      "17 & Metrabs, Cams: 1,2,3,4,5 & peak_V & 0.030000 \\\\\n",
      "18 & Metrabs, Cams: 1,2,3,4,5 & arm_flex_reach & 0.780000 \\\\\n",
      "19 & Metrabs, Cams: 1,2,3,4,5 & peak_V_elb & 0.490000 \\\\\n",
      "20 & Metrabs, Cams: 1,2,3,4,5 & arm_abd & 0.400000 \\\\\n",
      "21 & Metrabs, Cams: 1,2,3,4,5 & arm_flex_drink & 0.780000 \\\\\n",
      "22 & Metrabs, Cams: 1,2,3,4,5 & t_first_PV_rel & 0.880000 \\\\\n",
      "23 & Metrabs, Cams: 1,2,3,4,5 & t_first_PV & 0.880000 \\\\\n",
      "24 & Metrabs, Cams: 1,2,3,4,5 & t_PV_rel & 0.400000 \\\\\n",
      "25 & Metrabs, Cams: 1,2,3,4,5 & t_to_PV & 0.620000 \\\\\n",
      "27 & Metrabs, Cams: 1,2,3,4,5 & trunk_disp & 0.650000 \\\\\n",
      "28 & SimCC, Cams: 6,7,8,9,10 & elb_ext & -0.380000 \\\\\n",
      "29 & SimCC, Cams: 6,7,8,9,10 & interj_coord & -0.370000 \\\\\n",
      "30 & SimCC, Cams: 6,7,8,9,10 & n_mov_units & 0.480000 \\\\\n",
      "31 & SimCC, Cams: 6,7,8,9,10 & peak_V & 0.320000 \\\\\n",
      "32 & SimCC, Cams: 6,7,8,9,10 & arm_flex_reach & -0.790000 \\\\\n",
      "33 & SimCC, Cams: 6,7,8,9,10 & peak_V_elb & -0.480000 \\\\\n",
      "34 & SimCC, Cams: 6,7,8,9,10 & arm_abd & 0.030000 \\\\\n",
      "35 & SimCC, Cams: 6,7,8,9,10 & arm_flex_drink & 0.040000 \\\\\n",
      "36 & SimCC, Cams: 6,7,8,9,10 & t_first_PV_rel & 0.220000 \\\\\n",
      "37 & SimCC, Cams: 6,7,8,9,10 & t_first_PV & 0.140000 \\\\\n",
      "38 & SimCC, Cams: 6,7,8,9,10 & t_PV_rel & 0.150000 \\\\\n",
      "39 & SimCC, Cams: 6,7,8,9,10 & t_to_PV & 0.100000 \\\\\n",
      "41 & SimCC, Cams: 6,7,8,9,10 & trunk_disp & 0.080000 \\\\\n",
      "42 & Metrabs, Cams: 6,7,8,9,10 & elb_ext & 0.370000 \\\\\n",
      "43 & Metrabs, Cams: 6,7,8,9,10 & interj_coord & 0.320000 \\\\\n",
      "44 & Metrabs, Cams: 6,7,8,9,10 & n_mov_units & -0.220000 \\\\\n",
      "45 & Metrabs, Cams: 6,7,8,9,10 & peak_V & -0.810000 \\\\\n",
      "46 & Metrabs, Cams: 6,7,8,9,10 & arm_flex_reach & 0.790000 \\\\\n",
      "47 & Metrabs, Cams: 6,7,8,9,10 & peak_V_elb & 0.220000 \\\\\n",
      "48 & Metrabs, Cams: 6,7,8,9,10 & arm_abd & 0.790000 \\\\\n",
      "49 & Metrabs, Cams: 6,7,8,9,10 & arm_flex_drink & 0.390000 \\\\\n",
      "50 & Metrabs, Cams: 6,7,8,9,10 & t_first_PV_rel & 0.070000 \\\\\n",
      "51 & Metrabs, Cams: 6,7,8,9,10 & t_first_PV & 0.320000 \\\\\n",
      "52 & Metrabs, Cams: 6,7,8,9,10 & t_PV_rel & -0.570000 \\\\\n",
      "53 & Metrabs, Cams: 6,7,8,9,10 & t_to_PV & -0.520000 \\\\\n",
      "55 & Metrabs, Cams: 6,7,8,9,10 & trunk_disp & 0.010000 \\\\\n",
      "56 & SimCC, Cams: 1,3,5 & elb_ext & -0.020000 \\\\\n",
      "57 & SimCC, Cams: 1,3,5 & interj_coord & 0.120000 \\\\\n",
      "58 & SimCC, Cams: 1,3,5 & n_mov_units & 0.620000 \\\\\n",
      "59 & SimCC, Cams: 1,3,5 & peak_V & 0.020000 \\\\\n",
      "60 & SimCC, Cams: 1,3,5 & arm_flex_reach & 0.110000 \\\\\n",
      "61 & SimCC, Cams: 1,3,5 & peak_V_elb & -0.220000 \\\\\n",
      "62 & SimCC, Cams: 1,3,5 & arm_abd & 0.300000 \\\\\n",
      "63 & SimCC, Cams: 1,3,5 & arm_flex_drink & -0.150000 \\\\\n",
      "64 & SimCC, Cams: 1,3,5 & t_first_PV_rel & 0.360000 \\\\\n",
      "65 & SimCC, Cams: 1,3,5 & t_first_PV & 0.470000 \\\\\n",
      "66 & SimCC, Cams: 1,3,5 & t_PV_rel & 0.180000 \\\\\n",
      "67 & SimCC, Cams: 1,3,5 & t_to_PV & 0.410000 \\\\\n",
      "69 & SimCC, Cams: 1,3,5 & trunk_disp & -0.160000 \\\\\n",
      "70 & Metrabs, Cams: 1,3,5 & elb_ext & -0.100000 \\\\\n",
      "71 & Metrabs, Cams: 1,3,5 & interj_coord & 0.220000 \\\\\n",
      "72 & Metrabs, Cams: 1,3,5 & n_mov_units & 0.620000 \\\\\n",
      "73 & Metrabs, Cams: 1,3,5 & peak_V & 0.050000 \\\\\n",
      "74 & Metrabs, Cams: 1,3,5 & arm_flex_reach & 0.510000 \\\\\n",
      "75 & Metrabs, Cams: 1,3,5 & peak_V_elb & 0.170000 \\\\\n",
      "76 & Metrabs, Cams: 1,3,5 & arm_abd & 0.080000 \\\\\n",
      "77 & Metrabs, Cams: 1,3,5 & arm_flex_drink & -0.250000 \\\\\n",
      "78 & Metrabs, Cams: 1,3,5 & t_first_PV_rel & 0.660000 \\\\\n",
      "79 & Metrabs, Cams: 1,3,5 & t_first_PV & 0.690000 \\\\\n",
      "80 & Metrabs, Cams: 1,3,5 & t_PV_rel & -0.010000 \\\\\n",
      "81 & Metrabs, Cams: 1,3,5 & t_to_PV & 0.230000 \\\\\n",
      "83 & Metrabs, Cams: 1,3,5 & trunk_disp & -0.010000 \\\\\n",
      "84 & SimCC, Cams: 2,3,4 & elb_ext & 0.310000 \\\\\n",
      "85 & SimCC, Cams: 2,3,4 & interj_coord & 0.440000 \\\\\n",
      "86 & SimCC, Cams: 2,3,4 & n_mov_units & 0.490000 \\\\\n",
      "87 & SimCC, Cams: 2,3,4 & peak_V & -0.200000 \\\\\n",
      "88 & SimCC, Cams: 2,3,4 & arm_flex_reach & -0.240000 \\\\\n",
      "89 & SimCC, Cams: 2,3,4 & peak_V_elb & -0.220000 \\\\\n",
      "90 & SimCC, Cams: 2,3,4 & arm_abd & 0.340000 \\\\\n",
      "91 & SimCC, Cams: 2,3,4 & arm_flex_drink & 0.370000 \\\\\n",
      "92 & SimCC, Cams: 2,3,4 & t_first_PV_rel & 0.700000 \\\\\n",
      "93 & SimCC, Cams: 2,3,4 & t_first_PV & 0.740000 \\\\\n",
      "94 & SimCC, Cams: 2,3,4 & t_PV_rel & 0.290000 \\\\\n",
      "95 & SimCC, Cams: 2,3,4 & t_to_PV & 0.300000 \\\\\n",
      "97 & SimCC, Cams: 2,3,4 & trunk_disp & 0.120000 \\\\\n",
      "98 & Metrabs, Cams: 2,3,4 & elb_ext & 0.240000 \\\\\n",
      "99 & Metrabs, Cams: 2,3,4 & interj_coord & 0.630000 \\\\\n",
      "100 & Metrabs, Cams: 2,3,4 & n_mov_units & 0.410000 \\\\\n",
      "101 & Metrabs, Cams: 2,3,4 & peak_V & -0.110000 \\\\\n",
      "102 & Metrabs, Cams: 2,3,4 & arm_flex_reach & 0.440000 \\\\\n",
      "103 & Metrabs, Cams: 2,3,4 & peak_V_elb & -0.060000 \\\\\n",
      "104 & Metrabs, Cams: 2,3,4 & arm_abd & 0.100000 \\\\\n",
      "105 & Metrabs, Cams: 2,3,4 & arm_flex_drink & 0.740000 \\\\\n",
      "106 & Metrabs, Cams: 2,3,4 & t_first_PV_rel & 0.860000 \\\\\n",
      "107 & Metrabs, Cams: 2,3,4 & t_first_PV & 0.880000 \\\\\n",
      "108 & Metrabs, Cams: 2,3,4 & t_PV_rel & 0.360000 \\\\\n",
      "109 & Metrabs, Cams: 2,3,4 & t_to_PV & 0.570000 \\\\\n",
      "111 & Metrabs, Cams: 2,3,4 & trunk_disp & -0.010000 \\\\\n",
      "112 & SimCC, Cams: 6,8,10 & elb_ext & -0.260000 \\\\\n",
      "113 & SimCC, Cams: 6,8,10 & interj_coord & -0.270000 \\\\\n",
      "114 & SimCC, Cams: 6,8,10 & n_mov_units & 0.490000 \\\\\n",
      "115 & SimCC, Cams: 6,8,10 & peak_V & 0.030000 \\\\\n",
      "116 & SimCC, Cams: 6,8,10 & arm_flex_reach & -0.060000 \\\\\n",
      "117 & SimCC, Cams: 6,8,10 & peak_V_elb & 0.060000 \\\\\n",
      "118 & SimCC, Cams: 6,8,10 & arm_abd & -0.140000 \\\\\n",
      "119 & SimCC, Cams: 6,8,10 & arm_flex_drink & -0.080000 \\\\\n",
      "120 & SimCC, Cams: 6,8,10 & t_first_PV_rel & 0.020000 \\\\\n",
      "121 & SimCC, Cams: 6,8,10 & t_first_PV & 0.000000 \\\\\n",
      "122 & SimCC, Cams: 6,8,10 & t_PV_rel & -0.030000 \\\\\n",
      "123 & SimCC, Cams: 6,8,10 & t_to_PV & 0.160000 \\\\\n",
      "125 & SimCC, Cams: 6,8,10 & trunk_disp & 0.000000 \\\\\n",
      "126 & SimCC, Cams: 7,8,9 & elb_ext & 0.390000 \\\\\n",
      "127 & SimCC, Cams: 7,8,9 & interj_coord & 0.130000 \\\\\n",
      "128 & SimCC, Cams: 7,8,9 & n_mov_units & -0.000000 \\\\\n",
      "129 & SimCC, Cams: 7,8,9 & peak_V & -0.360000 \\\\\n",
      "130 & SimCC, Cams: 7,8,9 & arm_flex_reach & 0.240000 \\\\\n",
      "131 & SimCC, Cams: 7,8,9 & peak_V_elb & 0.030000 \\\\\n",
      "132 & SimCC, Cams: 7,8,9 & arm_abd & -0.170000 \\\\\n",
      "133 & SimCC, Cams: 7,8,9 & arm_flex_drink & -0.030000 \\\\\n",
      "134 & SimCC, Cams: 7,8,9 & t_first_PV_rel & -0.410000 \\\\\n",
      "135 & SimCC, Cams: 7,8,9 & t_first_PV & -0.400000 \\\\\n",
      "136 & SimCC, Cams: 7,8,9 & t_PV_rel & -0.190000 \\\\\n",
      "137 & SimCC, Cams: 7,8,9 & t_to_PV & -0.120000 \\\\\n",
      "139 & SimCC, Cams: 7,8,9 & trunk_disp & -0.210000 \\\\\n",
      "140 & Metrabs, Cams: 7,8,9 & elb_ext & -0.660000 \\\\\n",
      "141 & Metrabs, Cams: 7,8,9 & interj_coord & 0.390000 \\\\\n",
      "142 & Metrabs, Cams: 7,8,9 & n_mov_units & 0.920000 \\\\\n",
      "143 & Metrabs, Cams: 7,8,9 & peak_V & 0.030000 \\\\\n",
      "144 & Metrabs, Cams: 7,8,9 & arm_flex_reach & -0.650000 \\\\\n",
      "145 & Metrabs, Cams: 7,8,9 & peak_V_elb & -0.730000 \\\\\n",
      "146 & Metrabs, Cams: 7,8,9 & arm_abd & 0.350000 \\\\\n",
      "147 & Metrabs, Cams: 7,8,9 & arm_flex_drink & 0.440000 \\\\\n",
      "148 & Metrabs, Cams: 7,8,9 & t_first_PV_rel & 0.230000 \\\\\n",
      "149 & Metrabs, Cams: 7,8,9 & t_first_PV & 0.180000 \\\\\n",
      "150 & Metrabs, Cams: 7,8,9 & t_PV_rel & -0.160000 \\\\\n",
      "151 & Metrabs, Cams: 7,8,9 & t_to_PV & -0.110000 \\\\\n",
      "153 & Metrabs, Cams: 7,8,9 & trunk_disp & 0.540000 \\\\\n",
      "154 & SimCC, Cams: 2,4 & elb_ext & 0.150000 \\\\\n",
      "155 & SimCC, Cams: 2,4 & interj_coord & 0.260000 \\\\\n",
      "156 & SimCC, Cams: 2,4 & n_mov_units & 0.300000 \\\\\n",
      "157 & SimCC, Cams: 2,4 & peak_V & 0.610000 \\\\\n",
      "158 & SimCC, Cams: 2,4 & arm_flex_reach & 0.560000 \\\\\n",
      "159 & SimCC, Cams: 2,4 & peak_V_elb & 0.260000 \\\\\n",
      "160 & SimCC, Cams: 2,4 & arm_abd & -0.290000 \\\\\n",
      "161 & SimCC, Cams: 2,4 & arm_flex_drink & -0.340000 \\\\\n",
      "162 & SimCC, Cams: 2,4 & t_first_PV_rel & 0.830000 \\\\\n",
      "163 & SimCC, Cams: 2,4 & t_first_PV & 0.820000 \\\\\n",
      "164 & SimCC, Cams: 2,4 & t_PV_rel & 0.270000 \\\\\n",
      "165 & SimCC, Cams: 2,4 & t_to_PV & 0.300000 \\\\\n",
      "167 & SimCC, Cams: 2,4 & trunk_disp & 0.130000 \\\\\n",
      "168 & Metrabs, Cams: 2,4 & elb_ext & 0.210000 \\\\\n",
      "169 & Metrabs, Cams: 2,4 & interj_coord & 0.200000 \\\\\n",
      "170 & Metrabs, Cams: 2,4 & n_mov_units & 0.680000 \\\\\n",
      "171 & Metrabs, Cams: 2,4 & peak_V & 0.120000 \\\\\n",
      "172 & Metrabs, Cams: 2,4 & arm_flex_reach & 0.590000 \\\\\n",
      "173 & Metrabs, Cams: 2,4 & peak_V_elb & 0.120000 \\\\\n",
      "174 & Metrabs, Cams: 2,4 & arm_abd & 0.130000 \\\\\n",
      "175 & Metrabs, Cams: 2,4 & arm_flex_drink & 0.530000 \\\\\n",
      "176 & Metrabs, Cams: 2,4 & t_first_PV_rel & 0.470000 \\\\\n",
      "177 & Metrabs, Cams: 2,4 & t_first_PV & 0.450000 \\\\\n",
      "178 & Metrabs, Cams: 2,4 & t_PV_rel & 0.170000 \\\\\n",
      "179 & Metrabs, Cams: 2,4 & t_to_PV & 0.210000 \\\\\n",
      "181 & Metrabs, Cams: 2,4 & trunk_disp & 0.030000 \\\\\n",
      "182 & SimCC, Cams: 7,9 & elb_ext & -0.500000 \\\\\n",
      "183 & SimCC, Cams: 7,9 & interj_coord & -0.120000 \\\\\n",
      "184 & SimCC, Cams: 7,9 & n_mov_units & 0.500000 \\\\\n",
      "185 & SimCC, Cams: 7,9 & peak_V & 0.050000 \\\\\n",
      "186 & SimCC, Cams: 7,9 & arm_flex_reach & 0.530000 \\\\\n",
      "187 & SimCC, Cams: 7,9 & peak_V_elb & 0.040000 \\\\\n",
      "188 & SimCC, Cams: 7,9 & arm_abd & -0.370000 \\\\\n",
      "189 & SimCC, Cams: 7,9 & arm_flex_drink & -0.040000 \\\\\n",
      "190 & SimCC, Cams: 7,9 & t_first_PV_rel & 0.160000 \\\\\n",
      "191 & SimCC, Cams: 7,9 & t_first_PV & 0.120000 \\\\\n",
      "192 & SimCC, Cams: 7,9 & t_PV_rel & 0.160000 \\\\\n",
      "193 & SimCC, Cams: 7,9 & t_to_PV & 0.210000 \\\\\n",
      "195 & SimCC, Cams: 7,9 & trunk_disp & -0.040000 \\\\\n",
      "196 & Metrabs, Cams: 7,9 & elb_ext & 0.260000 \\\\\n",
      "197 & Metrabs, Cams: 7,9 & interj_coord & 0.320000 \\\\\n",
      "198 & Metrabs, Cams: 7,9 & n_mov_units & 0.800000 \\\\\n",
      "199 & Metrabs, Cams: 7,9 & peak_V & 0.310000 \\\\\n",
      "200 & Metrabs, Cams: 7,9 & arm_flex_reach & 0.100000 \\\\\n",
      "201 & Metrabs, Cams: 7,9 & peak_V_elb & -0.200000 \\\\\n",
      "202 & Metrabs, Cams: 7,9 & arm_abd & 0.100000 \\\\\n",
      "203 & Metrabs, Cams: 7,9 & arm_flex_drink & 0.650000 \\\\\n",
      "204 & Metrabs, Cams: 7,9 & t_first_PV_rel & 0.460000 \\\\\n",
      "205 & Metrabs, Cams: 7,9 & t_first_PV & 0.520000 \\\\\n",
      "206 & Metrabs, Cams: 7,9 & t_PV_rel & 0.310000 \\\\\n",
      "207 & Metrabs, Cams: 7,9 & t_to_PV & 0.650000 \\\\\n",
      "209 & Metrabs, Cams: 7,9 & trunk_disp & 0.030000 \\\\\n",
      "210 & Single, Cam: 1, filt & elb_ext & 0.870000 \\\\\n",
      "211 & Single, Cam: 1, filt & interj_coord & 0.920000 \\\\\n",
      "212 & Single, Cam: 1, filt & n_mov_units & 0.720000 \\\\\n",
      "213 & Single, Cam: 1, filt & peak_V & 0.310000 \\\\\n",
      "214 & Single, Cam: 1, filt & arm_flex_reach & 0.830000 \\\\\n",
      "215 & Single, Cam: 1, filt & peak_V_elb & 0.710000 \\\\\n",
      "216 & Single, Cam: 1, filt & arm_abd & 0.440000 \\\\\n",
      "217 & Single, Cam: 1, filt & arm_flex_drink & 0.830000 \\\\\n",
      "218 & Single, Cam: 1, filt & t_first_PV_rel & 0.830000 \\\\\n",
      "219 & Single, Cam: 1, filt & t_first_PV & 0.830000 \\\\\n",
      "220 & Single, Cam: 1, filt & t_PV_rel & 0.380000 \\\\\n",
      "221 & Single, Cam: 1, filt & t_to_PV & 0.600000 \\\\\n",
      "223 & Single, Cam: 1, filt & trunk_disp & 0.260000 \\\\\n",
      "224 & Single, Cam: 1, unfilt & elb_ext & 0.870000 \\\\\n",
      "225 & Single, Cam: 1, unfilt & interj_coord & 0.920000 \\\\\n",
      "226 & Single, Cam: 1, unfilt & n_mov_units & 0.520000 \\\\\n",
      "227 & Single, Cam: 1, unfilt & peak_V & -0.050000 \\\\\n",
      "228 & Single, Cam: 1, unfilt & arm_flex_reach & 0.810000 \\\\\n",
      "229 & Single, Cam: 1, unfilt & peak_V_elb & 0.590000 \\\\\n",
      "230 & Single, Cam: 1, unfilt & arm_abd & 0.440000 \\\\\n",
      "231 & Single, Cam: 1, unfilt & arm_flex_drink & 0.830000 \\\\\n",
      "232 & Single, Cam: 1, unfilt & t_first_PV_rel & 0.750000 \\\\\n",
      "233 & Single, Cam: 1, unfilt & t_first_PV & 0.760000 \\\\\n",
      "234 & Single, Cam: 1, unfilt & t_PV_rel & 0.260000 \\\\\n",
      "235 & Single, Cam: 1, unfilt & t_to_PV & 0.490000 \\\\\n",
      "237 & Single, Cam: 1, unfilt & trunk_disp & 0.270000 \\\\\n",
      "\\end{tabular}\n",
      "\\end{table}\n",
      "\n"
     ]
    }
   ],
   "source": [
    "print(df_table.style.to_latex(caption='Pearson Correlation fo all Settings',\n",
    "                        label = 'tab:app:cat:pearson_corr'))"
   ]
  },
  {
   "cell_type": "code",
   "execution_count": 15,
   "id": "521588f88f7c8ac0",
   "metadata": {
    "ExecuteTime": {
     "end_time": "2024-12-31T10:23:09.661002Z",
     "start_time": "2024-12-31T10:23:09.652378Z"
    }
   },
   "outputs": [
    {
     "name": "stdout",
     "output_type": "stream",
     "text": [
      "\\begin{table}\n",
      "\\centering\n",
      "\\caption{Mean Pearson Correlation for all Settings}\n",
      "\\label{tab:res:cat:pearson_corr_mean}\n",
      "\\begin{tabular}{lr}\n",
      " & Correlation \\\\\n",
      "Setting &  \\\\\n",
      "Metrabs, Cams: 1,2,3,4,5 & 0.620000 \\\\\n",
      "Metrabs, Cams: 1,3,5 & 0.220000 \\\\\n",
      "Metrabs, Cams: 2,3,4 & 0.390000 \\\\\n",
      "Metrabs, Cams: 2,4 & 0.300000 \\\\\n",
      "Metrabs, Cams: 6,7,8,9,10 & 0.090000 \\\\\n",
      "Metrabs, Cams: 7,8,9 & 0.060000 \\\\\n",
      "Metrabs, Cams: 7,9 & 0.330000 \\\\\n",
      "SimCC, Cams: 1,2,3,4,5 & 0.470000 \\\\\n",
      "SimCC, Cams: 1,3,5 & 0.160000 \\\\\n",
      "SimCC, Cams: 2,3,4 & 0.260000 \\\\\n",
      "SimCC, Cams: 2,4 & 0.300000 \\\\\n",
      "SimCC, Cams: 6,7,8,9,10 & -0.040000 \\\\\n",
      "SimCC, Cams: 6,8,10 & -0.010000 \\\\\n",
      "SimCC, Cams: 7,8,9 & -0.080000 \\\\\n",
      "SimCC, Cams: 7,9 & 0.050000 \\\\\n",
      "Single, Cam: 1, filt & 0.660000 \\\\\n",
      "Single, Cam: 1, unfilt & 0.570000 \\\\\n",
      "\\end{tabular}\n",
      "\\end{table}\n",
      "\n"
     ]
    }
   ],
   "source": [
    "print(df_table.groupby(['Setting']).mean(numeric_only=True).round(2).style.to_latex(caption='Mean Pearson Correlation for all Settings',\n",
    "                        label = 'tab:res:cat:pearson_corr_mean',\n",
    "                                                                           position_float = 'centering'))"
   ]
  },
  {
   "cell_type": "markdown",
   "id": "c6d8f7fba2b106a8",
   "metadata": {},
   "source": [
    "## Timeseries\n"
   ]
  },
  {
   "cell_type": "code",
   "execution_count": 6,
   "id": "51285c640628eb1d",
   "metadata": {
    "ExecuteTime": {
     "end_time": "2024-12-31T09:18:12.622842Z",
     "start_time": "2024-12-31T09:18:12.617282Z"
    }
   },
   "outputs": [],
   "source": [
    "def restructure_dataframe(df):\n",
    "    # Define the metrics\n",
    "    metrics = ['hand_vel', 'elbow_vel', 'trunk_disp', 'elbow_flex_pos', 'shoulder_flex_pos', 'shoulder_abduction_pos']\n",
    "\n",
    "    # Initialize a list to collect rows\n",
    "    rows = []\n",
    "\n",
    "    # Iterate through each row in the original DataFrame\n",
    "    for _, row in df.iterrows():\n",
    "        for metric in metrics:\n",
    "            rows.append({\n",
    "                'id_s': row['id_s'],\n",
    "                'id_p': row['id_p'],\n",
    "                'id_t': row['id_t'],\n",
    "                'dynamic': row['dynamic'],\n",
    "                'metric': metric,\n",
    "                'pearson': row[f'{metric}_pearson'],\n",
    "                'pearson_p': row[f'{metric}_pearson_p']\n",
    "            })\n",
    "\n",
    "    # Create a new DataFrame from the collected rows\n",
    "    new_df = pd.DataFrame(rows)\n",
    "    return new_df"
   ]
  },
  {
   "cell_type": "code",
   "execution_count": 3,
   "id": "a50e56282326da41",
   "metadata": {
    "ExecuteTime": {
     "end_time": "2024-12-31T09:17:41.596636Z",
     "start_time": "2024-12-31T09:17:41.524238Z"
    }
   },
   "outputs": [],
   "source": [
    "csv_corr_ts = os.path.join(dir_stat_cont, '01_results', 'time_series_correlation.csv')\n",
    "csv_corr_ts = os.path.join(dir_stat_cont, '01_results', '09_ fancy_offset', 'time_series_correlation.csv')\n",
    "df_corr_ts = pd.read_csv(csv_corr_ts, sep=';')\n",
    "\n",
    "metrics_ts = ['hand_vel', 'elbow_vel', 'trunk_disp', 'elbow_flex_pos', 'shoulder_flex_pos', 'shoulder_abduction_pos']"
   ]
  },
  {
   "cell_type": "code",
   "execution_count": 17,
   "id": "770e12458feb336e",
   "metadata": {
    "ExecuteTime": {
     "end_time": "2024-12-25T09:34:25.373466Z",
     "start_time": "2024-12-25T09:34:25.367131Z"
    }
   },
   "outputs": [
    {
     "data": {
      "text/plain": [
       "True"
      ]
     },
     "execution_count": 17,
     "metadata": {},
     "output_type": "execute_result"
    }
   ],
   "source": [
    "'metric' not in df_corr_ts.columns"
   ]
  },
  {
   "cell_type": "code",
   "execution_count": 7,
   "id": "f0fe1fc983636220",
   "metadata": {
    "ExecuteTime": {
     "end_time": "2024-12-31T09:18:18.185036Z",
     "start_time": "2024-12-31T09:18:15.630556Z"
    }
   },
   "outputs": [],
   "source": [
    "if 'metric' not in df_corr_ts.columns:\n",
    "    df_corr_ts = restructure_dataframe(df_corr_ts)"
   ]
  },
  {
   "cell_type": "code",
   "execution_count": 8,
   "id": "8fcb1271c0508c19",
   "metadata": {
    "ExecuteTime": {
     "end_time": "2024-12-31T09:18:21.941160Z",
     "start_time": "2024-12-31T09:18:21.916716Z"
    }
   },
   "outputs": [],
   "source": [
    "df_corr_ts = df_corr_ts[(df_corr_ts['dynamic'] == 'fixed') & (df_corr_ts['metric'].isin(metrics_ts)) & (~df_corr_ts['id_p'].isin(ignore_id_p))]"
   ]
  },
  {
   "cell_type": "code",
   "execution_count": 9,
   "id": "8314bc8b97942561",
   "metadata": {
    "ExecuteTime": {
     "end_time": "2024-12-31T09:18:24.840402Z",
     "start_time": "2024-12-31T09:18:24.833587Z"
    }
   },
   "outputs": [
    {
     "data": {
      "text/plain": [
       "Index(['id_s', 'id_p', 'id_t', 'dynamic', 'metric', 'pearson', 'pearson_p'], dtype='object')"
      ]
     },
     "execution_count": 9,
     "metadata": {},
     "output_type": "execute_result"
    }
   ],
   "source": [
    "df_corr_ts.columns"
   ]
  },
  {
   "cell_type": "code",
   "execution_count": 10,
   "id": "401890935882d748",
   "metadata": {
    "ExecuteTime": {
     "end_time": "2024-12-31T09:18:32.125148Z",
     "start_time": "2024-12-31T09:18:32.093438Z"
    }
   },
   "outputs": [],
   "source": [
    "df_corr_ts_s = pd.DataFrame(columns=['id_s', 'id_s_name', 'correlation', 'p_value'])\n",
    "df_grouped = df_corr_ts[df_corr_ts['id_s'].isin(idx_s_full)].groupby(['id_s']).mean(numeric_only=True)\n",
    "\n",
    "for index in df_grouped.index:\n",
    "    id_s = index\n",
    "    r = df_grouped.loc[index]['pearson']\n",
    "    p = df_grouped.loc[index]['pearson_p']\n",
    "    id_s_name = get_setting_axis_name(id_s)\n",
    "\n",
    "    df_corr_ts_s = pd.concat([df_corr_ts_s, pd.DataFrame([[id_s, id_s_name, r, p]],\n",
    "                                                    columns=['id_s', 'id_s_name', 'correlation', 'p_value'],\n",
    "                                                    index=[0])], ignore_index=True)\n",
    "df_corr_ts_s.sort_values(by='id_s', inplace=True)"
   ]
  },
  {
   "cell_type": "markdown",
   "id": "3e13336c51ef99b9",
   "metadata": {},
   "source": [
    "### All Settings Joint Measures and Time-series"
   ]
  },
  {
   "cell_type": "code",
   "execution_count": 22,
   "id": "86008ff40c2213eb",
   "metadata": {
    "ExecuteTime": {
     "end_time": "2024-12-25T09:34:27.804622Z",
     "start_time": "2024-12-25T09:34:27.797622Z"
    }
   },
   "outputs": [],
   "source": [
    "merged = pd.concat([df_corr_murphy_s, df_corr_ts_s])\n",
    "\n",
    "df_corr_murphy_and_ts = merged.groupby(['id_s', 'id_s_name'], as_index=False).mean(numeric_only=True)"
   ]
  },
  {
   "cell_type": "code",
   "execution_count": 23,
   "id": "c91a7ec45676878",
   "metadata": {
    "ExecuteTime": {
     "end_time": "2024-12-25T09:34:27.881615Z",
     "start_time": "2024-12-25T09:34:27.872813Z"
    }
   },
   "outputs": [
    {
     "data": {
      "text/html": [
       "<div>\n",
       "<style scoped>\n",
       "    .dataframe tbody tr th:only-of-type {\n",
       "        vertical-align: middle;\n",
       "    }\n",
       "\n",
       "    .dataframe tbody tr th {\n",
       "        vertical-align: top;\n",
       "    }\n",
       "\n",
       "    .dataframe thead th {\n",
       "        text-align: right;\n",
       "    }\n",
       "</style>\n",
       "<table border=\"1\" class=\"dataframe\">\n",
       "  <thead>\n",
       "    <tr style=\"text-align: right;\">\n",
       "      <th></th>\n",
       "      <th>id_s</th>\n",
       "      <th>id_s_name</th>\n",
       "      <th>correlation</th>\n",
       "      <th>p_value</th>\n",
       "    </tr>\n",
       "  </thead>\n",
       "  <tbody>\n",
       "    <tr>\n",
       "      <th>1</th>\n",
       "      <td>S002</td>\n",
       "      <td>Metrabs, Cams: 1,2,3,4,5</td>\n",
       "      <td>0.789126</td>\n",
       "      <td>0.004238</td>\n",
       "    </tr>\n",
       "    <tr>\n",
       "      <th>16</th>\n",
       "      <td>S017</td>\n",
       "      <td>Single, Cam: 1, filt</td>\n",
       "      <td>0.719419</td>\n",
       "      <td>0.003615</td>\n",
       "    </tr>\n",
       "    <tr>\n",
       "      <th>0</th>\n",
       "      <td>S001</td>\n",
       "      <td>SimCC, Cams: 1,2,3,4,5</td>\n",
       "      <td>0.687276</td>\n",
       "      <td>0.033470</td>\n",
       "    </tr>\n",
       "    <tr>\n",
       "      <th>7</th>\n",
       "      <td>S008</td>\n",
       "      <td>Metrabs, Cams: 2,3,4</td>\n",
       "      <td>0.670515</td>\n",
       "      <td>0.040703</td>\n",
       "    </tr>\n",
       "    <tr>\n",
       "      <th>17</th>\n",
       "      <td>S018</td>\n",
       "      <td>Single, Cam: 1, unfilt</td>\n",
       "      <td>0.661055</td>\n",
       "      <td>0.004213</td>\n",
       "    </tr>\n",
       "    <tr>\n",
       "      <th>12</th>\n",
       "      <td>S013</td>\n",
       "      <td>SimCC, Cams: 2,4</td>\n",
       "      <td>0.496257</td>\n",
       "      <td>0.042706</td>\n",
       "    </tr>\n",
       "    <tr>\n",
       "      <th>13</th>\n",
       "      <td>S014</td>\n",
       "      <td>Metrabs, Cams: 2,4</td>\n",
       "      <td>0.474347</td>\n",
       "      <td>0.078661</td>\n",
       "    </tr>\n",
       "    <tr>\n",
       "      <th>5</th>\n",
       "      <td>S006</td>\n",
       "      <td>Metrabs, Cams: 1,3,5</td>\n",
       "      <td>0.388474</td>\n",
       "      <td>0.053147</td>\n",
       "    </tr>\n",
       "    <tr>\n",
       "      <th>6</th>\n",
       "      <td>S007</td>\n",
       "      <td>SimCC, Cams: 2,3,4</td>\n",
       "      <td>0.380477</td>\n",
       "      <td>0.072564</td>\n",
       "    </tr>\n",
       "    <tr>\n",
       "      <th>4</th>\n",
       "      <td>S005</td>\n",
       "      <td>SimCC, Cams: 1,3,5</td>\n",
       "      <td>0.261180</td>\n",
       "      <td>0.066029</td>\n",
       "    </tr>\n",
       "    <tr>\n",
       "      <th>9</th>\n",
       "      <td>S010</td>\n",
       "      <td>Metrabs, Cams: 6,8,10</td>\n",
       "      <td>0.194177</td>\n",
       "      <td>0.187949</td>\n",
       "    </tr>\n",
       "    <tr>\n",
       "      <th>11</th>\n",
       "      <td>S012</td>\n",
       "      <td>Metrabs, Cams: 7,8,9</td>\n",
       "      <td>0.081050</td>\n",
       "      <td>0.225885</td>\n",
       "    </tr>\n",
       "    <tr>\n",
       "      <th>15</th>\n",
       "      <td>S016</td>\n",
       "      <td>Metrabs, Cams: 7,9</td>\n",
       "      <td>0.051658</td>\n",
       "      <td>0.145636</td>\n",
       "    </tr>\n",
       "    <tr>\n",
       "      <th>10</th>\n",
       "      <td>S011</td>\n",
       "      <td>SimCC, Cams: 7,8,9</td>\n",
       "      <td>0.040798</td>\n",
       "      <td>0.203293</td>\n",
       "    </tr>\n",
       "    <tr>\n",
       "      <th>8</th>\n",
       "      <td>S009</td>\n",
       "      <td>SimCC, Cams: 6,8,10</td>\n",
       "      <td>0.033255</td>\n",
       "      <td>0.132909</td>\n",
       "    </tr>\n",
       "    <tr>\n",
       "      <th>2</th>\n",
       "      <td>S003</td>\n",
       "      <td>SimCC, Cams: 6,7,8,9,10</td>\n",
       "      <td>0.029266</td>\n",
       "      <td>0.183184</td>\n",
       "    </tr>\n",
       "    <tr>\n",
       "      <th>3</th>\n",
       "      <td>S004</td>\n",
       "      <td>Metrabs, Cams: 6,7,8,9,10</td>\n",
       "      <td>0.010460</td>\n",
       "      <td>0.257324</td>\n",
       "    </tr>\n",
       "    <tr>\n",
       "      <th>14</th>\n",
       "      <td>S015</td>\n",
       "      <td>SimCC, Cams: 7,9</td>\n",
       "      <td>0.005893</td>\n",
       "      <td>0.199150</td>\n",
       "    </tr>\n",
       "  </tbody>\n",
       "</table>\n",
       "</div>"
      ],
      "text/plain": [
       "    id_s                  id_s_name  correlation   p_value\n",
       "1   S002   Metrabs, Cams: 1,2,3,4,5     0.789126  0.004238\n",
       "16  S017       Single, Cam: 1, filt     0.719419  0.003615\n",
       "0   S001     SimCC, Cams: 1,2,3,4,5     0.687276  0.033470\n",
       "7   S008       Metrabs, Cams: 2,3,4     0.670515  0.040703\n",
       "17  S018     Single, Cam: 1, unfilt     0.661055  0.004213\n",
       "12  S013           SimCC, Cams: 2,4     0.496257  0.042706\n",
       "13  S014         Metrabs, Cams: 2,4     0.474347  0.078661\n",
       "5   S006       Metrabs, Cams: 1,3,5     0.388474  0.053147\n",
       "6   S007         SimCC, Cams: 2,3,4     0.380477  0.072564\n",
       "4   S005         SimCC, Cams: 1,3,5     0.261180  0.066029\n",
       "9   S010      Metrabs, Cams: 6,8,10     0.194177  0.187949\n",
       "11  S012       Metrabs, Cams: 7,8,9     0.081050  0.225885\n",
       "15  S016         Metrabs, Cams: 7,9     0.051658  0.145636\n",
       "10  S011         SimCC, Cams: 7,8,9     0.040798  0.203293\n",
       "8   S009        SimCC, Cams: 6,8,10     0.033255  0.132909\n",
       "2   S003    SimCC, Cams: 6,7,8,9,10     0.029266  0.183184\n",
       "3   S004  Metrabs, Cams: 6,7,8,9,10     0.010460  0.257324\n",
       "14  S015           SimCC, Cams: 7,9     0.005893  0.199150"
      ]
     },
     "execution_count": 23,
     "metadata": {},
     "output_type": "execute_result"
    }
   ],
   "source": [
    "df_corr_murphy_and_ts.sort_values(by='correlation', ascending=False)"
   ]
  },
  {
   "cell_type": "code",
   "execution_count": 24,
   "id": "92fd5cfc28bdf807",
   "metadata": {
    "ExecuteTime": {
     "end_time": "2024-12-25T09:34:28.409241Z",
     "start_time": "2024-12-25T09:34:27.982041Z"
    }
   },
   "outputs": [
    {
     "data": {
      "application/vnd.plotly.v1+json": {
       "config": {
        "plotlyServerURL": "https://plot.ly"
       },
       "data": [
        {
         "alignmentgroup": "True",
         "hovertemplate": "id_s_name=%{x}<br>correlation=%{y}<extra></extra>",
         "legendgroup": "",
         "marker": {
          "color": "#636efa",
          "pattern": {
           "shape": ""
          }
         },
         "name": "",
         "offsetgroup": "",
         "orientation": "v",
         "showlegend": false,
         "textposition": "auto",
         "type": "bar",
         "x": [
          "Metrabs, Cams: 1,2,3,4,5",
          "Single, Cam: 1, filt",
          "SimCC, Cams: 1,2,3,4,5",
          "Metrabs, Cams: 2,3,4",
          "Single, Cam: 1, unfilt",
          "SimCC, Cams: 2,4",
          "Metrabs, Cams: 2,4",
          "Metrabs, Cams: 1,3,5",
          "SimCC, Cams: 2,3,4",
          "SimCC, Cams: 1,3,5",
          "Metrabs, Cams: 6,8,10",
          "Metrabs, Cams: 7,8,9",
          "Metrabs, Cams: 7,9",
          "SimCC, Cams: 7,8,9",
          "SimCC, Cams: 6,8,10",
          "SimCC, Cams: 6,7,8,9,10",
          "Metrabs, Cams: 6,7,8,9,10",
          "SimCC, Cams: 7,9"
         ],
         "xaxis": "x",
         "y": [
          0.78912646985942,
          0.7194191367117838,
          0.6872756930720594,
          0.6705151637604218,
          0.6610545401631179,
          0.49625725755311734,
          0.4743466993261874,
          0.38847429625861196,
          0.3804767132068546,
          0.261180180277553,
          0.19417664621277597,
          0.08104962848758607,
          0.051657952557592896,
          0.04079846898597105,
          0.033255207716440735,
          0.02926649850830326,
          0.010459931613768255,
          0.005893449096436102
         ],
         "yaxis": "y"
        }
       ],
       "layout": {
        "barmode": "relative",
        "height": 600,
        "legend": {
         "tracegroupgap": 0
        },
        "margin": {
         "t": 60
        },
        "template": {
         "data": {
          "bar": [
           {
            "error_x": {
             "color": "#2a3f5f"
            },
            "error_y": {
             "color": "#2a3f5f"
            },
            "marker": {
             "line": {
              "color": "#E5ECF6",
              "width": 0.5
             },
             "pattern": {
              "fillmode": "overlay",
              "size": 10,
              "solidity": 0.2
             }
            },
            "type": "bar"
           }
          ],
          "barpolar": [
           {
            "marker": {
             "line": {
              "color": "#E5ECF6",
              "width": 0.5
             },
             "pattern": {
              "fillmode": "overlay",
              "size": 10,
              "solidity": 0.2
             }
            },
            "type": "barpolar"
           }
          ],
          "carpet": [
           {
            "aaxis": {
             "endlinecolor": "#2a3f5f",
             "gridcolor": "white",
             "linecolor": "white",
             "minorgridcolor": "white",
             "startlinecolor": "#2a3f5f"
            },
            "baxis": {
             "endlinecolor": "#2a3f5f",
             "gridcolor": "white",
             "linecolor": "white",
             "minorgridcolor": "white",
             "startlinecolor": "#2a3f5f"
            },
            "type": "carpet"
           }
          ],
          "choropleth": [
           {
            "colorbar": {
             "outlinewidth": 0,
             "ticks": ""
            },
            "type": "choropleth"
           }
          ],
          "contour": [
           {
            "colorbar": {
             "outlinewidth": 0,
             "ticks": ""
            },
            "colorscale": [
             [
              0,
              "#0d0887"
             ],
             [
              0.1111111111111111,
              "#46039f"
             ],
             [
              0.2222222222222222,
              "#7201a8"
             ],
             [
              0.3333333333333333,
              "#9c179e"
             ],
             [
              0.4444444444444444,
              "#bd3786"
             ],
             [
              0.5555555555555556,
              "#d8576b"
             ],
             [
              0.6666666666666666,
              "#ed7953"
             ],
             [
              0.7777777777777778,
              "#fb9f3a"
             ],
             [
              0.8888888888888888,
              "#fdca26"
             ],
             [
              1,
              "#f0f921"
             ]
            ],
            "type": "contour"
           }
          ],
          "contourcarpet": [
           {
            "colorbar": {
             "outlinewidth": 0,
             "ticks": ""
            },
            "type": "contourcarpet"
           }
          ],
          "heatmap": [
           {
            "colorbar": {
             "outlinewidth": 0,
             "ticks": ""
            },
            "colorscale": [
             [
              0,
              "#0d0887"
             ],
             [
              0.1111111111111111,
              "#46039f"
             ],
             [
              0.2222222222222222,
              "#7201a8"
             ],
             [
              0.3333333333333333,
              "#9c179e"
             ],
             [
              0.4444444444444444,
              "#bd3786"
             ],
             [
              0.5555555555555556,
              "#d8576b"
             ],
             [
              0.6666666666666666,
              "#ed7953"
             ],
             [
              0.7777777777777778,
              "#fb9f3a"
             ],
             [
              0.8888888888888888,
              "#fdca26"
             ],
             [
              1,
              "#f0f921"
             ]
            ],
            "type": "heatmap"
           }
          ],
          "heatmapgl": [
           {
            "colorbar": {
             "outlinewidth": 0,
             "ticks": ""
            },
            "colorscale": [
             [
              0,
              "#0d0887"
             ],
             [
              0.1111111111111111,
              "#46039f"
             ],
             [
              0.2222222222222222,
              "#7201a8"
             ],
             [
              0.3333333333333333,
              "#9c179e"
             ],
             [
              0.4444444444444444,
              "#bd3786"
             ],
             [
              0.5555555555555556,
              "#d8576b"
             ],
             [
              0.6666666666666666,
              "#ed7953"
             ],
             [
              0.7777777777777778,
              "#fb9f3a"
             ],
             [
              0.8888888888888888,
              "#fdca26"
             ],
             [
              1,
              "#f0f921"
             ]
            ],
            "type": "heatmapgl"
           }
          ],
          "histogram": [
           {
            "marker": {
             "pattern": {
              "fillmode": "overlay",
              "size": 10,
              "solidity": 0.2
             }
            },
            "type": "histogram"
           }
          ],
          "histogram2d": [
           {
            "colorbar": {
             "outlinewidth": 0,
             "ticks": ""
            },
            "colorscale": [
             [
              0,
              "#0d0887"
             ],
             [
              0.1111111111111111,
              "#46039f"
             ],
             [
              0.2222222222222222,
              "#7201a8"
             ],
             [
              0.3333333333333333,
              "#9c179e"
             ],
             [
              0.4444444444444444,
              "#bd3786"
             ],
             [
              0.5555555555555556,
              "#d8576b"
             ],
             [
              0.6666666666666666,
              "#ed7953"
             ],
             [
              0.7777777777777778,
              "#fb9f3a"
             ],
             [
              0.8888888888888888,
              "#fdca26"
             ],
             [
              1,
              "#f0f921"
             ]
            ],
            "type": "histogram2d"
           }
          ],
          "histogram2dcontour": [
           {
            "colorbar": {
             "outlinewidth": 0,
             "ticks": ""
            },
            "colorscale": [
             [
              0,
              "#0d0887"
             ],
             [
              0.1111111111111111,
              "#46039f"
             ],
             [
              0.2222222222222222,
              "#7201a8"
             ],
             [
              0.3333333333333333,
              "#9c179e"
             ],
             [
              0.4444444444444444,
              "#bd3786"
             ],
             [
              0.5555555555555556,
              "#d8576b"
             ],
             [
              0.6666666666666666,
              "#ed7953"
             ],
             [
              0.7777777777777778,
              "#fb9f3a"
             ],
             [
              0.8888888888888888,
              "#fdca26"
             ],
             [
              1,
              "#f0f921"
             ]
            ],
            "type": "histogram2dcontour"
           }
          ],
          "mesh3d": [
           {
            "colorbar": {
             "outlinewidth": 0,
             "ticks": ""
            },
            "type": "mesh3d"
           }
          ],
          "parcoords": [
           {
            "line": {
             "colorbar": {
              "outlinewidth": 0,
              "ticks": ""
             }
            },
            "type": "parcoords"
           }
          ],
          "pie": [
           {
            "automargin": true,
            "type": "pie"
           }
          ],
          "scatter": [
           {
            "fillpattern": {
             "fillmode": "overlay",
             "size": 10,
             "solidity": 0.2
            },
            "type": "scatter"
           }
          ],
          "scatter3d": [
           {
            "line": {
             "colorbar": {
              "outlinewidth": 0,
              "ticks": ""
             }
            },
            "marker": {
             "colorbar": {
              "outlinewidth": 0,
              "ticks": ""
             }
            },
            "type": "scatter3d"
           }
          ],
          "scattercarpet": [
           {
            "marker": {
             "colorbar": {
              "outlinewidth": 0,
              "ticks": ""
             }
            },
            "type": "scattercarpet"
           }
          ],
          "scattergeo": [
           {
            "marker": {
             "colorbar": {
              "outlinewidth": 0,
              "ticks": ""
             }
            },
            "type": "scattergeo"
           }
          ],
          "scattergl": [
           {
            "marker": {
             "colorbar": {
              "outlinewidth": 0,
              "ticks": ""
             }
            },
            "type": "scattergl"
           }
          ],
          "scattermapbox": [
           {
            "marker": {
             "colorbar": {
              "outlinewidth": 0,
              "ticks": ""
             }
            },
            "type": "scattermapbox"
           }
          ],
          "scatterpolar": [
           {
            "marker": {
             "colorbar": {
              "outlinewidth": 0,
              "ticks": ""
             }
            },
            "type": "scatterpolar"
           }
          ],
          "scatterpolargl": [
           {
            "marker": {
             "colorbar": {
              "outlinewidth": 0,
              "ticks": ""
             }
            },
            "type": "scatterpolargl"
           }
          ],
          "scatterternary": [
           {
            "marker": {
             "colorbar": {
              "outlinewidth": 0,
              "ticks": ""
             }
            },
            "type": "scatterternary"
           }
          ],
          "surface": [
           {
            "colorbar": {
             "outlinewidth": 0,
             "ticks": ""
            },
            "colorscale": [
             [
              0,
              "#0d0887"
             ],
             [
              0.1111111111111111,
              "#46039f"
             ],
             [
              0.2222222222222222,
              "#7201a8"
             ],
             [
              0.3333333333333333,
              "#9c179e"
             ],
             [
              0.4444444444444444,
              "#bd3786"
             ],
             [
              0.5555555555555556,
              "#d8576b"
             ],
             [
              0.6666666666666666,
              "#ed7953"
             ],
             [
              0.7777777777777778,
              "#fb9f3a"
             ],
             [
              0.8888888888888888,
              "#fdca26"
             ],
             [
              1,
              "#f0f921"
             ]
            ],
            "type": "surface"
           }
          ],
          "table": [
           {
            "cells": {
             "fill": {
              "color": "#EBF0F8"
             },
             "line": {
              "color": "white"
             }
            },
            "header": {
             "fill": {
              "color": "#C8D4E3"
             },
             "line": {
              "color": "white"
             }
            },
            "type": "table"
           }
          ]
         },
         "layout": {
          "annotationdefaults": {
           "arrowcolor": "#2a3f5f",
           "arrowhead": 0,
           "arrowwidth": 1
          },
          "autotypenumbers": "strict",
          "coloraxis": {
           "colorbar": {
            "outlinewidth": 0,
            "ticks": ""
           }
          },
          "colorscale": {
           "diverging": [
            [
             0,
             "#8e0152"
            ],
            [
             0.1,
             "#c51b7d"
            ],
            [
             0.2,
             "#de77ae"
            ],
            [
             0.3,
             "#f1b6da"
            ],
            [
             0.4,
             "#fde0ef"
            ],
            [
             0.5,
             "#f7f7f7"
            ],
            [
             0.6,
             "#e6f5d0"
            ],
            [
             0.7,
             "#b8e186"
            ],
            [
             0.8,
             "#7fbc41"
            ],
            [
             0.9,
             "#4d9221"
            ],
            [
             1,
             "#276419"
            ]
           ],
           "sequential": [
            [
             0,
             "#0d0887"
            ],
            [
             0.1111111111111111,
             "#46039f"
            ],
            [
             0.2222222222222222,
             "#7201a8"
            ],
            [
             0.3333333333333333,
             "#9c179e"
            ],
            [
             0.4444444444444444,
             "#bd3786"
            ],
            [
             0.5555555555555556,
             "#d8576b"
            ],
            [
             0.6666666666666666,
             "#ed7953"
            ],
            [
             0.7777777777777778,
             "#fb9f3a"
            ],
            [
             0.8888888888888888,
             "#fdca26"
            ],
            [
             1,
             "#f0f921"
            ]
           ],
           "sequentialminus": [
            [
             0,
             "#0d0887"
            ],
            [
             0.1111111111111111,
             "#46039f"
            ],
            [
             0.2222222222222222,
             "#7201a8"
            ],
            [
             0.3333333333333333,
             "#9c179e"
            ],
            [
             0.4444444444444444,
             "#bd3786"
            ],
            [
             0.5555555555555556,
             "#d8576b"
            ],
            [
             0.6666666666666666,
             "#ed7953"
            ],
            [
             0.7777777777777778,
             "#fb9f3a"
            ],
            [
             0.8888888888888888,
             "#fdca26"
            ],
            [
             1,
             "#f0f921"
            ]
           ]
          },
          "colorway": [
           "#636efa",
           "#EF553B",
           "#00cc96",
           "#ab63fa",
           "#FFA15A",
           "#19d3f3",
           "#FF6692",
           "#B6E880",
           "#FF97FF",
           "#FECB52"
          ],
          "font": {
           "color": "#2a3f5f"
          },
          "geo": {
           "bgcolor": "white",
           "lakecolor": "white",
           "landcolor": "#E5ECF6",
           "showlakes": true,
           "showland": true,
           "subunitcolor": "white"
          },
          "hoverlabel": {
           "align": "left"
          },
          "hovermode": "closest",
          "mapbox": {
           "style": "light"
          },
          "paper_bgcolor": "white",
          "plot_bgcolor": "#E5ECF6",
          "polar": {
           "angularaxis": {
            "gridcolor": "white",
            "linecolor": "white",
            "ticks": ""
           },
           "bgcolor": "#E5ECF6",
           "radialaxis": {
            "gridcolor": "white",
            "linecolor": "white",
            "ticks": ""
           }
          },
          "scene": {
           "xaxis": {
            "backgroundcolor": "#E5ECF6",
            "gridcolor": "white",
            "gridwidth": 2,
            "linecolor": "white",
            "showbackground": true,
            "ticks": "",
            "zerolinecolor": "white"
           },
           "yaxis": {
            "backgroundcolor": "#E5ECF6",
            "gridcolor": "white",
            "gridwidth": 2,
            "linecolor": "white",
            "showbackground": true,
            "ticks": "",
            "zerolinecolor": "white"
           },
           "zaxis": {
            "backgroundcolor": "#E5ECF6",
            "gridcolor": "white",
            "gridwidth": 2,
            "linecolor": "white",
            "showbackground": true,
            "ticks": "",
            "zerolinecolor": "white"
           }
          },
          "shapedefaults": {
           "line": {
            "color": "#2a3f5f"
           }
          },
          "ternary": {
           "aaxis": {
            "gridcolor": "white",
            "linecolor": "white",
            "ticks": ""
           },
           "baxis": {
            "gridcolor": "white",
            "linecolor": "white",
            "ticks": ""
           },
           "bgcolor": "#E5ECF6",
           "caxis": {
            "gridcolor": "white",
            "linecolor": "white",
            "ticks": ""
           }
          },
          "title": {
           "x": 0.05
          },
          "xaxis": {
           "automargin": true,
           "gridcolor": "white",
           "linecolor": "white",
           "ticks": "",
           "title": {
            "standoff": 15
           },
           "zerolinecolor": "white",
           "zerolinewidth": 2
          },
          "yaxis": {
           "automargin": true,
           "gridcolor": "white",
           "linecolor": "white",
           "ticks": "",
           "title": {
            "standoff": 15
           },
           "zerolinecolor": "white",
           "zerolinewidth": 2
          }
         }
        },
        "title": {
         "text": "Pearson Correlation for all settings"
        },
        "width": 1300,
        "xaxis": {
         "anchor": "y",
         "domain": [
          0,
          1
         ],
         "title": {
          "text": "id_s_name"
         }
        },
        "yaxis": {
         "anchor": "x",
         "domain": [
          0,
          1
         ],
         "title": {
          "text": "Mean Correlation of Time-Series and Measures [r]"
         }
        }
       }
      },
      "text/html": [
       "<div>                            <div id=\"9faa495e-c53b-406f-aa14-e7dcbdb28bd7\" class=\"plotly-graph-div\" style=\"height:600px; width:1300px;\"></div>            <script type=\"text/javascript\">                require([\"plotly\"], function(Plotly) {                    window.PLOTLYENV=window.PLOTLYENV || {};                                    if (document.getElementById(\"9faa495e-c53b-406f-aa14-e7dcbdb28bd7\")) {                    Plotly.newPlot(                        \"9faa495e-c53b-406f-aa14-e7dcbdb28bd7\",                        [{\"alignmentgroup\":\"True\",\"hovertemplate\":\"id_s_name=%{x}\\u003cbr\\u003ecorrelation=%{y}\\u003cextra\\u003e\\u003c\\u002fextra\\u003e\",\"legendgroup\":\"\",\"marker\":{\"color\":\"#636efa\",\"pattern\":{\"shape\":\"\"}},\"name\":\"\",\"offsetgroup\":\"\",\"orientation\":\"v\",\"showlegend\":false,\"textposition\":\"auto\",\"x\":[\"Metrabs, Cams: 1,2,3,4,5\",\"Single, Cam: 1, filt\",\"SimCC, Cams: 1,2,3,4,5\",\"Metrabs, Cams: 2,3,4\",\"Single, Cam: 1, unfilt\",\"SimCC, Cams: 2,4\",\"Metrabs, Cams: 2,4\",\"Metrabs, Cams: 1,3,5\",\"SimCC, Cams: 2,3,4\",\"SimCC, Cams: 1,3,5\",\"Metrabs, Cams: 6,8,10\",\"Metrabs, Cams: 7,8,9\",\"Metrabs, Cams: 7,9\",\"SimCC, Cams: 7,8,9\",\"SimCC, Cams: 6,8,10\",\"SimCC, Cams: 6,7,8,9,10\",\"Metrabs, Cams: 6,7,8,9,10\",\"SimCC, Cams: 7,9\"],\"xaxis\":\"x\",\"y\":[0.78912646985942,0.7194191367117838,0.6872756930720594,0.6705151637604218,0.6610545401631179,0.49625725755311734,0.4743466993261874,0.38847429625861196,0.3804767132068546,0.261180180277553,0.19417664621277597,0.08104962848758607,0.051657952557592896,0.04079846898597105,0.033255207716440735,0.02926649850830326,0.010459931613768255,0.005893449096436102],\"yaxis\":\"y\",\"type\":\"bar\"}],                        {\"template\":{\"data\":{\"barpolar\":[{\"marker\":{\"line\":{\"color\":\"#E5ECF6\",\"width\":0.5},\"pattern\":{\"fillmode\":\"overlay\",\"size\":10,\"solidity\":0.2}},\"type\":\"barpolar\"}],\"bar\":[{\"error_x\":{\"color\":\"#2a3f5f\"},\"error_y\":{\"color\":\"#2a3f5f\"},\"marker\":{\"line\":{\"color\":\"#E5ECF6\",\"width\":0.5},\"pattern\":{\"fillmode\":\"overlay\",\"size\":10,\"solidity\":0.2}},\"type\":\"bar\"}],\"carpet\":[{\"aaxis\":{\"endlinecolor\":\"#2a3f5f\",\"gridcolor\":\"white\",\"linecolor\":\"white\",\"minorgridcolor\":\"white\",\"startlinecolor\":\"#2a3f5f\"},\"baxis\":{\"endlinecolor\":\"#2a3f5f\",\"gridcolor\":\"white\",\"linecolor\":\"white\",\"minorgridcolor\":\"white\",\"startlinecolor\":\"#2a3f5f\"},\"type\":\"carpet\"}],\"choropleth\":[{\"colorbar\":{\"outlinewidth\":0,\"ticks\":\"\"},\"type\":\"choropleth\"}],\"contourcarpet\":[{\"colorbar\":{\"outlinewidth\":0,\"ticks\":\"\"},\"type\":\"contourcarpet\"}],\"contour\":[{\"colorbar\":{\"outlinewidth\":0,\"ticks\":\"\"},\"colorscale\":[[0.0,\"#0d0887\"],[0.1111111111111111,\"#46039f\"],[0.2222222222222222,\"#7201a8\"],[0.3333333333333333,\"#9c179e\"],[0.4444444444444444,\"#bd3786\"],[0.5555555555555556,\"#d8576b\"],[0.6666666666666666,\"#ed7953\"],[0.7777777777777778,\"#fb9f3a\"],[0.8888888888888888,\"#fdca26\"],[1.0,\"#f0f921\"]],\"type\":\"contour\"}],\"heatmapgl\":[{\"colorbar\":{\"outlinewidth\":0,\"ticks\":\"\"},\"colorscale\":[[0.0,\"#0d0887\"],[0.1111111111111111,\"#46039f\"],[0.2222222222222222,\"#7201a8\"],[0.3333333333333333,\"#9c179e\"],[0.4444444444444444,\"#bd3786\"],[0.5555555555555556,\"#d8576b\"],[0.6666666666666666,\"#ed7953\"],[0.7777777777777778,\"#fb9f3a\"],[0.8888888888888888,\"#fdca26\"],[1.0,\"#f0f921\"]],\"type\":\"heatmapgl\"}],\"heatmap\":[{\"colorbar\":{\"outlinewidth\":0,\"ticks\":\"\"},\"colorscale\":[[0.0,\"#0d0887\"],[0.1111111111111111,\"#46039f\"],[0.2222222222222222,\"#7201a8\"],[0.3333333333333333,\"#9c179e\"],[0.4444444444444444,\"#bd3786\"],[0.5555555555555556,\"#d8576b\"],[0.6666666666666666,\"#ed7953\"],[0.7777777777777778,\"#fb9f3a\"],[0.8888888888888888,\"#fdca26\"],[1.0,\"#f0f921\"]],\"type\":\"heatmap\"}],\"histogram2dcontour\":[{\"colorbar\":{\"outlinewidth\":0,\"ticks\":\"\"},\"colorscale\":[[0.0,\"#0d0887\"],[0.1111111111111111,\"#46039f\"],[0.2222222222222222,\"#7201a8\"],[0.3333333333333333,\"#9c179e\"],[0.4444444444444444,\"#bd3786\"],[0.5555555555555556,\"#d8576b\"],[0.6666666666666666,\"#ed7953\"],[0.7777777777777778,\"#fb9f3a\"],[0.8888888888888888,\"#fdca26\"],[1.0,\"#f0f921\"]],\"type\":\"histogram2dcontour\"}],\"histogram2d\":[{\"colorbar\":{\"outlinewidth\":0,\"ticks\":\"\"},\"colorscale\":[[0.0,\"#0d0887\"],[0.1111111111111111,\"#46039f\"],[0.2222222222222222,\"#7201a8\"],[0.3333333333333333,\"#9c179e\"],[0.4444444444444444,\"#bd3786\"],[0.5555555555555556,\"#d8576b\"],[0.6666666666666666,\"#ed7953\"],[0.7777777777777778,\"#fb9f3a\"],[0.8888888888888888,\"#fdca26\"],[1.0,\"#f0f921\"]],\"type\":\"histogram2d\"}],\"histogram\":[{\"marker\":{\"pattern\":{\"fillmode\":\"overlay\",\"size\":10,\"solidity\":0.2}},\"type\":\"histogram\"}],\"mesh3d\":[{\"colorbar\":{\"outlinewidth\":0,\"ticks\":\"\"},\"type\":\"mesh3d\"}],\"parcoords\":[{\"line\":{\"colorbar\":{\"outlinewidth\":0,\"ticks\":\"\"}},\"type\":\"parcoords\"}],\"pie\":[{\"automargin\":true,\"type\":\"pie\"}],\"scatter3d\":[{\"line\":{\"colorbar\":{\"outlinewidth\":0,\"ticks\":\"\"}},\"marker\":{\"colorbar\":{\"outlinewidth\":0,\"ticks\":\"\"}},\"type\":\"scatter3d\"}],\"scattercarpet\":[{\"marker\":{\"colorbar\":{\"outlinewidth\":0,\"ticks\":\"\"}},\"type\":\"scattercarpet\"}],\"scattergeo\":[{\"marker\":{\"colorbar\":{\"outlinewidth\":0,\"ticks\":\"\"}},\"type\":\"scattergeo\"}],\"scattergl\":[{\"marker\":{\"colorbar\":{\"outlinewidth\":0,\"ticks\":\"\"}},\"type\":\"scattergl\"}],\"scattermapbox\":[{\"marker\":{\"colorbar\":{\"outlinewidth\":0,\"ticks\":\"\"}},\"type\":\"scattermapbox\"}],\"scatterpolargl\":[{\"marker\":{\"colorbar\":{\"outlinewidth\":0,\"ticks\":\"\"}},\"type\":\"scatterpolargl\"}],\"scatterpolar\":[{\"marker\":{\"colorbar\":{\"outlinewidth\":0,\"ticks\":\"\"}},\"type\":\"scatterpolar\"}],\"scatter\":[{\"fillpattern\":{\"fillmode\":\"overlay\",\"size\":10,\"solidity\":0.2},\"type\":\"scatter\"}],\"scatterternary\":[{\"marker\":{\"colorbar\":{\"outlinewidth\":0,\"ticks\":\"\"}},\"type\":\"scatterternary\"}],\"surface\":[{\"colorbar\":{\"outlinewidth\":0,\"ticks\":\"\"},\"colorscale\":[[0.0,\"#0d0887\"],[0.1111111111111111,\"#46039f\"],[0.2222222222222222,\"#7201a8\"],[0.3333333333333333,\"#9c179e\"],[0.4444444444444444,\"#bd3786\"],[0.5555555555555556,\"#d8576b\"],[0.6666666666666666,\"#ed7953\"],[0.7777777777777778,\"#fb9f3a\"],[0.8888888888888888,\"#fdca26\"],[1.0,\"#f0f921\"]],\"type\":\"surface\"}],\"table\":[{\"cells\":{\"fill\":{\"color\":\"#EBF0F8\"},\"line\":{\"color\":\"white\"}},\"header\":{\"fill\":{\"color\":\"#C8D4E3\"},\"line\":{\"color\":\"white\"}},\"type\":\"table\"}]},\"layout\":{\"annotationdefaults\":{\"arrowcolor\":\"#2a3f5f\",\"arrowhead\":0,\"arrowwidth\":1},\"autotypenumbers\":\"strict\",\"coloraxis\":{\"colorbar\":{\"outlinewidth\":0,\"ticks\":\"\"}},\"colorscale\":{\"diverging\":[[0,\"#8e0152\"],[0.1,\"#c51b7d\"],[0.2,\"#de77ae\"],[0.3,\"#f1b6da\"],[0.4,\"#fde0ef\"],[0.5,\"#f7f7f7\"],[0.6,\"#e6f5d0\"],[0.7,\"#b8e186\"],[0.8,\"#7fbc41\"],[0.9,\"#4d9221\"],[1,\"#276419\"]],\"sequential\":[[0.0,\"#0d0887\"],[0.1111111111111111,\"#46039f\"],[0.2222222222222222,\"#7201a8\"],[0.3333333333333333,\"#9c179e\"],[0.4444444444444444,\"#bd3786\"],[0.5555555555555556,\"#d8576b\"],[0.6666666666666666,\"#ed7953\"],[0.7777777777777778,\"#fb9f3a\"],[0.8888888888888888,\"#fdca26\"],[1.0,\"#f0f921\"]],\"sequentialminus\":[[0.0,\"#0d0887\"],[0.1111111111111111,\"#46039f\"],[0.2222222222222222,\"#7201a8\"],[0.3333333333333333,\"#9c179e\"],[0.4444444444444444,\"#bd3786\"],[0.5555555555555556,\"#d8576b\"],[0.6666666666666666,\"#ed7953\"],[0.7777777777777778,\"#fb9f3a\"],[0.8888888888888888,\"#fdca26\"],[1.0,\"#f0f921\"]]},\"colorway\":[\"#636efa\",\"#EF553B\",\"#00cc96\",\"#ab63fa\",\"#FFA15A\",\"#19d3f3\",\"#FF6692\",\"#B6E880\",\"#FF97FF\",\"#FECB52\"],\"font\":{\"color\":\"#2a3f5f\"},\"geo\":{\"bgcolor\":\"white\",\"lakecolor\":\"white\",\"landcolor\":\"#E5ECF6\",\"showlakes\":true,\"showland\":true,\"subunitcolor\":\"white\"},\"hoverlabel\":{\"align\":\"left\"},\"hovermode\":\"closest\",\"mapbox\":{\"style\":\"light\"},\"paper_bgcolor\":\"white\",\"plot_bgcolor\":\"#E5ECF6\",\"polar\":{\"angularaxis\":{\"gridcolor\":\"white\",\"linecolor\":\"white\",\"ticks\":\"\"},\"bgcolor\":\"#E5ECF6\",\"radialaxis\":{\"gridcolor\":\"white\",\"linecolor\":\"white\",\"ticks\":\"\"}},\"scene\":{\"xaxis\":{\"backgroundcolor\":\"#E5ECF6\",\"gridcolor\":\"white\",\"gridwidth\":2,\"linecolor\":\"white\",\"showbackground\":true,\"ticks\":\"\",\"zerolinecolor\":\"white\"},\"yaxis\":{\"backgroundcolor\":\"#E5ECF6\",\"gridcolor\":\"white\",\"gridwidth\":2,\"linecolor\":\"white\",\"showbackground\":true,\"ticks\":\"\",\"zerolinecolor\":\"white\"},\"zaxis\":{\"backgroundcolor\":\"#E5ECF6\",\"gridcolor\":\"white\",\"gridwidth\":2,\"linecolor\":\"white\",\"showbackground\":true,\"ticks\":\"\",\"zerolinecolor\":\"white\"}},\"shapedefaults\":{\"line\":{\"color\":\"#2a3f5f\"}},\"ternary\":{\"aaxis\":{\"gridcolor\":\"white\",\"linecolor\":\"white\",\"ticks\":\"\"},\"baxis\":{\"gridcolor\":\"white\",\"linecolor\":\"white\",\"ticks\":\"\"},\"bgcolor\":\"#E5ECF6\",\"caxis\":{\"gridcolor\":\"white\",\"linecolor\":\"white\",\"ticks\":\"\"}},\"title\":{\"x\":0.05},\"xaxis\":{\"automargin\":true,\"gridcolor\":\"white\",\"linecolor\":\"white\",\"ticks\":\"\",\"title\":{\"standoff\":15},\"zerolinecolor\":\"white\",\"zerolinewidth\":2},\"yaxis\":{\"automargin\":true,\"gridcolor\":\"white\",\"linecolor\":\"white\",\"ticks\":\"\",\"title\":{\"standoff\":15},\"zerolinecolor\":\"white\",\"zerolinewidth\":2}}},\"xaxis\":{\"anchor\":\"y\",\"domain\":[0.0,1.0],\"title\":{\"text\":\"id_s_name\"}},\"yaxis\":{\"anchor\":\"x\",\"domain\":[0.0,1.0],\"title\":{\"text\":\"Mean Correlation of Time-Series and Measures [r]\"}},\"legend\":{\"tracegroupgap\":0},\"margin\":{\"t\":60},\"barmode\":\"relative\",\"title\":{\"text\":\"Pearson Correlation for all settings\"},\"width\":1300,\"height\":600},                        {\"responsive\": true}                    ).then(function(){\n",
       "                            \n",
       "var gd = document.getElementById('9faa495e-c53b-406f-aa14-e7dcbdb28bd7');\n",
       "var x = new MutationObserver(function (mutations, observer) {{\n",
       "        var display = window.getComputedStyle(gd).display;\n",
       "        if (!display || display === 'none') {{\n",
       "            console.log([gd, 'removed!']);\n",
       "            Plotly.purge(gd);\n",
       "            observer.disconnect();\n",
       "        }}\n",
       "}});\n",
       "\n",
       "// Listen for the removal of the full notebook cells\n",
       "var notebookContainer = gd.closest('#notebook-container');\n",
       "if (notebookContainer) {{\n",
       "    x.observe(notebookContainer, {childList: true});\n",
       "}}\n",
       "\n",
       "// Listen for the clearing of the current output cell\n",
       "var outputEl = gd.closest('.output');\n",
       "if (outputEl) {{\n",
       "    x.observe(outputEl, {childList: true});\n",
       "}}\n",
       "\n",
       "                        })                };                });            </script>        </div>"
      ]
     },
     "metadata": {},
     "output_type": "display_data"
    }
   ],
   "source": [
    "fig = px.bar(df_corr_murphy_and_ts.sort_values(by='correlation', ascending=False), x='id_s_name', y='correlation', template = 'plotly')\n",
    "\n",
    "#fig.add_hline(y=0.9, line_dash='dot', line_color='red', name = 'corr = 0.9')\n",
    "\n",
    "fig.update_layout(title= f'Pearson Correlation for all settings',\n",
    "                  yaxis_title=f'Mean Correlation of Time-Series and Measures [r]',\n",
    "                    width=1300, height=600\n",
    "            )\n",
    "\n",
    "fig.show()\n",
    "\n",
    "os.makedirs(os.path.join(dir_plots_cont, '04_correlation'), exist_ok=True)\n",
    "\n",
    "path = os.path.join(dir_plots_cont, '04_correlation', f'pearson_corr_joint_mean.html')\n",
    "fig.write_html(path)\n",
    "\n",
    "path = os.path.join(dir_plots_cont, '04_correlation', f'pearson_corr_joint_mean.png')\n",
    "fig.write_image(path, scale = 5)"
   ]
  },
  {
   "cell_type": "markdown",
   "id": "2533e0f28a870e7d",
   "metadata": {},
   "source": [
    "### Multi-Cam\n",
    "\n",
    "Let's first look at all Multi-cam Settings"
   ]
  },
  {
   "cell_type": "code",
   "execution_count": 14,
   "id": "2f7d8648e46c975e",
   "metadata": {
    "ExecuteTime": {
     "end_time": "2024-12-31T09:19:53.762257Z",
     "start_time": "2024-12-31T09:19:53.622110Z"
    }
   },
   "outputs": [],
   "source": [
    "df_plot = pd.DataFrame(columns = ['id_s', 'id_s_name', 'id_p', 'ml', 'correlation', 'p_value'])\n",
    "df_grouped = df_corr_ts[df_corr_ts['dynamic'] == 'fixed'].groupby(['id_s', 'id_p']).mean(numeric_only=True)\n",
    "\n",
    "for index in df_grouped.index:        \n",
    "    id_s = index[0]\n",
    "    id_p = index[1]\n",
    "    r = df_grouped.loc[index]['pearson']\n",
    "    p = df_grouped.loc[index]['pearson_p']\n",
    "    id_s_name = get_setting_axis_name(id_s)\n",
    "    ml = id_s_name.split(',')[0]\n",
    "    \n",
    "    df_plot = pd.concat([df_plot, pd.DataFrame([[id_s, id_s_name, id_p, ml,  r, p]], columns = ['id_s', 'id_s_name', 'id_p', 'ml', 'correlation', 'p_value'], index = [0])], ignore_index=True)\n",
    "\n",
    "df_plot = df_plot[df_plot['id_s'].isin(idx_s_multicam)]"
   ]
  },
  {
   "cell_type": "code",
   "execution_count": 15,
   "id": "73ad688b85eae923",
   "metadata": {
    "ExecuteTime": {
     "end_time": "2024-12-31T09:20:02.962255Z",
     "start_time": "2024-12-31T09:20:02.952139Z"
    }
   },
   "outputs": [
    {
     "data": {
      "text/html": [
       "<div>\n",
       "<style scoped>\n",
       "    .dataframe tbody tr th:only-of-type {\n",
       "        vertical-align: middle;\n",
       "    }\n",
       "\n",
       "    .dataframe tbody tr th {\n",
       "        vertical-align: top;\n",
       "    }\n",
       "\n",
       "    .dataframe thead th {\n",
       "        text-align: right;\n",
       "    }\n",
       "</style>\n",
       "<table border=\"1\" class=\"dataframe\">\n",
       "  <thead>\n",
       "    <tr style=\"text-align: right;\">\n",
       "      <th></th>\n",
       "      <th>id_s</th>\n",
       "      <th>id_s_name</th>\n",
       "      <th>id_p</th>\n",
       "      <th>ml</th>\n",
       "      <th>correlation</th>\n",
       "      <th>p_value</th>\n",
       "    </tr>\n",
       "  </thead>\n",
       "  <tbody>\n",
       "    <tr>\n",
       "      <th>0</th>\n",
       "      <td>S001</td>\n",
       "      <td>SimCC, Cams: 1,2,3,4,5</td>\n",
       "      <td>P07</td>\n",
       "      <td>SimCC</td>\n",
       "      <td>0.976075</td>\n",
       "      <td>6.665468e-118</td>\n",
       "    </tr>\n",
       "    <tr>\n",
       "      <th>1</th>\n",
       "      <td>S001</td>\n",
       "      <td>SimCC, Cams: 1,2,3,4,5</td>\n",
       "      <td>P08</td>\n",
       "      <td>SimCC</td>\n",
       "      <td>0.957311</td>\n",
       "      <td>1.216049e-40</td>\n",
       "    </tr>\n",
       "    <tr>\n",
       "      <th>2</th>\n",
       "      <td>S001</td>\n",
       "      <td>SimCC, Cams: 1,2,3,4,5</td>\n",
       "      <td>P10</td>\n",
       "      <td>SimCC</td>\n",
       "      <td>0.845377</td>\n",
       "      <td>1.015420e-02</td>\n",
       "    </tr>\n",
       "    <tr>\n",
       "      <th>3</th>\n",
       "      <td>S001</td>\n",
       "      <td>SimCC, Cams: 1,2,3,4,5</td>\n",
       "      <td>P12</td>\n",
       "      <td>SimCC</td>\n",
       "      <td>0.858815</td>\n",
       "      <td>2.376322e-03</td>\n",
       "    </tr>\n",
       "    <tr>\n",
       "      <th>4</th>\n",
       "      <td>S001</td>\n",
       "      <td>SimCC, Cams: 1,2,3,4,5</td>\n",
       "      <td>P15</td>\n",
       "      <td>SimCC</td>\n",
       "      <td>0.231562</td>\n",
       "      <td>1.227481e-01</td>\n",
       "    </tr>\n",
       "    <tr>\n",
       "      <th>...</th>\n",
       "      <td>...</td>\n",
       "      <td>...</td>\n",
       "      <td>...</td>\n",
       "      <td>...</td>\n",
       "      <td>...</td>\n",
       "      <td>...</td>\n",
       "    </tr>\n",
       "    <tr>\n",
       "      <th>57</th>\n",
       "      <td>S014</td>\n",
       "      <td>Metrabs, Cams: 2,4</td>\n",
       "      <td>P10</td>\n",
       "      <td>Metrabs</td>\n",
       "      <td>0.802792</td>\n",
       "      <td>9.892342e-03</td>\n",
       "    </tr>\n",
       "    <tr>\n",
       "      <th>58</th>\n",
       "      <td>S014</td>\n",
       "      <td>Metrabs, Cams: 2,4</td>\n",
       "      <td>P12</td>\n",
       "      <td>Metrabs</td>\n",
       "      <td>0.165892</td>\n",
       "      <td>4.817370e-02</td>\n",
       "    </tr>\n",
       "    <tr>\n",
       "      <th>59</th>\n",
       "      <td>S015</td>\n",
       "      <td>SimCC, Cams: 7,9</td>\n",
       "      <td>P15</td>\n",
       "      <td>SimCC</td>\n",
       "      <td>0.005893</td>\n",
       "      <td>1.991503e-01</td>\n",
       "    </tr>\n",
       "    <tr>\n",
       "      <th>60</th>\n",
       "      <td>S016</td>\n",
       "      <td>Metrabs, Cams: 7,9</td>\n",
       "      <td>P07</td>\n",
       "      <td>Metrabs</td>\n",
       "      <td>0.218877</td>\n",
       "      <td>4.482050e-02</td>\n",
       "    </tr>\n",
       "    <tr>\n",
       "      <th>61</th>\n",
       "      <td>S016</td>\n",
       "      <td>Metrabs, Cams: 7,9</td>\n",
       "      <td>P15</td>\n",
       "      <td>Metrabs</td>\n",
       "      <td>0.011202</td>\n",
       "      <td>1.700263e-01</td>\n",
       "    </tr>\n",
       "  </tbody>\n",
       "</table>\n",
       "<p>62 rows × 6 columns</p>\n",
       "</div>"
      ],
      "text/plain": [
       "    id_s               id_s_name id_p       ml  correlation        p_value\n",
       "0   S001  SimCC, Cams: 1,2,3,4,5  P07    SimCC     0.976075  6.665468e-118\n",
       "1   S001  SimCC, Cams: 1,2,3,4,5  P08    SimCC     0.957311   1.216049e-40\n",
       "2   S001  SimCC, Cams: 1,2,3,4,5  P10    SimCC     0.845377   1.015420e-02\n",
       "3   S001  SimCC, Cams: 1,2,3,4,5  P12    SimCC     0.858815   2.376322e-03\n",
       "4   S001  SimCC, Cams: 1,2,3,4,5  P15    SimCC     0.231562   1.227481e-01\n",
       "..   ...                     ...  ...      ...          ...            ...\n",
       "57  S014      Metrabs, Cams: 2,4  P10  Metrabs     0.802792   9.892342e-03\n",
       "58  S014      Metrabs, Cams: 2,4  P12  Metrabs     0.165892   4.817370e-02\n",
       "59  S015        SimCC, Cams: 7,9  P15    SimCC     0.005893   1.991503e-01\n",
       "60  S016      Metrabs, Cams: 7,9  P07  Metrabs     0.218877   4.482050e-02\n",
       "61  S016      Metrabs, Cams: 7,9  P15  Metrabs     0.011202   1.700263e-01\n",
       "\n",
       "[62 rows x 6 columns]"
      ]
     },
     "execution_count": 15,
     "metadata": {},
     "output_type": "execute_result"
    }
   ],
   "source": [
    "df_plot"
   ]
  },
  {
   "cell_type": "markdown",
   "id": "1faaabcd206efe3a",
   "metadata": {},
   "source": []
  },
  {
   "cell_type": "code",
   "execution_count": 26,
   "id": "3a15c2d570bc93b2",
   "metadata": {
    "ExecuteTime": {
     "end_time": "2024-12-25T09:34:29.114843Z",
     "start_time": "2024-12-25T09:34:28.581843Z"
    }
   },
   "outputs": [
    {
     "data": {
      "application/vnd.plotly.v1+json": {
       "config": {
        "plotlyServerURL": "https://plot.ly"
       },
       "data": [
        {
         "alignmentgroup": "True",
         "hovertemplate": "Patient=P07<br>id_s_name=%{x}<br>correlation=%{y}<extra></extra>",
         "legendgroup": "P07",
         "marker": {
          "color": "#636efa",
          "pattern": {
           "shape": ""
          }
         },
         "name": "P07",
         "offsetgroup": "P07",
         "orientation": "v",
         "showlegend": true,
         "textposition": "auto",
         "type": "bar",
         "x": [
          "SimCC, Cams: 1,2,3,4,5",
          "Metrabs, Cams: 1,2,3,4,5",
          "SimCC, Cams: 1,3,5",
          "Metrabs, Cams: 1,3,5",
          "Metrabs, Cams: 2,3,4",
          "Metrabs, Cams: 2,4",
          "Metrabs, Cams: 7,9"
         ],
         "xaxis": "x",
         "y": [
          0.9760754947457521,
          0.9725419442347408,
          0.30884126944723145,
          0.40127023762758923,
          0.9636073719812461,
          0.5301134056908186,
          0.21887677791849894
         ],
         "yaxis": "y"
        },
        {
         "alignmentgroup": "True",
         "hovertemplate": "Patient=P08<br>id_s_name=%{x}<br>correlation=%{y}<extra></extra>",
         "legendgroup": "P08",
         "marker": {
          "color": "#EF553B",
          "pattern": {
           "shape": ""
          }
         },
         "name": "P08",
         "offsetgroup": "P08",
         "orientation": "v",
         "showlegend": true,
         "textposition": "auto",
         "type": "bar",
         "x": [
          "SimCC, Cams: 1,2,3,4,5",
          "Metrabs, Cams: 1,2,3,4,5",
          "SimCC, Cams: 1,3,5",
          "Metrabs, Cams: 1,3,5",
          "Metrabs, Cams: 2,3,4",
          "Metrabs, Cams: 2,4"
         ],
         "xaxis": "x",
         "y": [
          0.9573109978971184,
          0.9652738028310699,
          0.22490117246389218,
          0.39755767881489884,
          0.9430330982683095,
          0.170324523115708
         ],
         "yaxis": "y"
        },
        {
         "alignmentgroup": "True",
         "hovertemplate": "Patient=P10<br>id_s_name=%{x}<br>correlation=%{y}<extra></extra>",
         "legendgroup": "P10",
         "marker": {
          "color": "#00cc96",
          "pattern": {
           "shape": ""
          }
         },
         "name": "P10",
         "offsetgroup": "P10",
         "orientation": "v",
         "showlegend": true,
         "textposition": "auto",
         "type": "bar",
         "x": [
          "SimCC, Cams: 1,2,3,4,5",
          "Metrabs, Cams: 1,2,3,4,5",
          "Metrabs, Cams: 1,3,5",
          "SimCC, Cams: 2,3,4",
          "Metrabs, Cams: 2,3,4",
          "SimCC, Cams: 2,4",
          "Metrabs, Cams: 2,4"
         ],
         "xaxis": "x",
         "y": [
          0.8453772521872671,
          0.8683518202003094,
          0.3568229436907947,
          0.3182302269943847,
          0.3776070510784296,
          0.7848028210768934,
          0.8027918466449957
         ],
         "yaxis": "y"
        },
        {
         "alignmentgroup": "True",
         "hovertemplate": "Patient=P12<br>id_s_name=%{x}<br>correlation=%{y}<extra></extra>",
         "legendgroup": "P12",
         "marker": {
          "color": "#ab63fa",
          "pattern": {
           "shape": ""
          }
         },
         "name": "P12",
         "offsetgroup": "P12",
         "orientation": "v",
         "showlegend": true,
         "textposition": "auto",
         "type": "bar",
         "x": [
          "SimCC, Cams: 1,2,3,4,5",
          "Metrabs, Cams: 1,2,3,4,5",
          "SimCC, Cams: 1,3,5",
          "Metrabs, Cams: 1,3,5",
          "SimCC, Cams: 2,3,4",
          "Metrabs, Cams: 2,3,4",
          "SimCC, Cams: 2,4",
          "Metrabs, Cams: 2,4"
         ],
         "xaxis": "x",
         "y": [
          0.8588153915581229,
          0.9075952722977676,
          0.0869138190679052,
          0.24223619269544985,
          0.6370630898923121,
          0.7486294738154914,
          0.21236949615918344,
          0.16589222078192029
         ],
         "yaxis": "y"
        },
        {
         "alignmentgroup": "True",
         "hovertemplate": "Patient=P15<br>id_s_name=%{x}<br>correlation=%{y}<extra></extra>",
         "legendgroup": "P15",
         "marker": {
          "color": "#FFA15A",
          "pattern": {
           "shape": ""
          }
         },
         "name": "P15",
         "offsetgroup": "P15",
         "orientation": "v",
         "showlegend": true,
         "textposition": "auto",
         "type": "bar",
         "x": [
          "SimCC, Cams: 1,2,3,4,5",
          "Metrabs, Cams: 1,2,3,4,5",
          "SimCC, Cams: 6,7,8,9,10",
          "Metrabs, Cams: 6,7,8,9,10",
          "SimCC, Cams: 2,3,4",
          "Metrabs, Cams: 2,3,4",
          "SimCC, Cams: 6,8,10",
          "Metrabs, Cams: 6,8,10",
          "SimCC, Cams: 7,8,9",
          "Metrabs, Cams: 7,8,9",
          "SimCC, Cams: 7,9",
          "Metrabs, Cams: 7,9"
         ],
         "xaxis": "x",
         "y": [
          0.2315615209412846,
          0.6157090859708404,
          0.02926649850830326,
          0.010459931613768255,
          0.25577125851202825,
          0.41165318937010725,
          0.033255207716440735,
          0.19417664621277597,
          0.04079846898597105,
          0.08104962848758607,
          0.005893449096436102,
          0.011201785131567239
         ],
         "yaxis": "y"
        },
        {
         "alignmentgroup": "True",
         "hovertemplate": "Patient=P241<br>id_s_name=%{x}<br>correlation=%{y}<extra></extra>",
         "legendgroup": "P241",
         "marker": {
          "color": "#19d3f3",
          "pattern": {
           "shape": ""
          }
         },
         "name": "P241",
         "offsetgroup": "P241",
         "orientation": "v",
         "showlegend": true,
         "textposition": "auto",
         "type": "bar",
         "x": [
          "SimCC, Cams: 1,2,3,4,5",
          "Metrabs, Cams: 1,2,3,4,5",
          "SimCC, Cams: 1,3,5",
          "Metrabs, Cams: 1,3,5",
          "SimCC, Cams: 2,3,4",
          "Metrabs, Cams: 2,3,4",
          "SimCC, Cams: 2,4"
         ],
         "xaxis": "x",
         "y": [
          0.956679223113216,
          0.9211934035116808,
          0.4726321461481828,
          0.8282702482350994,
          0.38705158418060764,
          0.64471362567168,
          0.44409060175680887
         ],
         "yaxis": "y"
        },
        {
         "alignmentgroup": "True",
         "hovertemplate": "Patient=P242<br>id_s_name=%{x}<br>correlation=%{y}<extra></extra>",
         "legendgroup": "P242",
         "marker": {
          "color": "#FF6692",
          "pattern": {
           "shape": ""
          }
         },
         "name": "P242",
         "offsetgroup": "P242",
         "orientation": "v",
         "showlegend": true,
         "textposition": "auto",
         "type": "bar",
         "x": [
          "SimCC, Cams: 1,2,3,4,5",
          "Metrabs, Cams: 1,2,3,4,5",
          "Metrabs, Cams: 1,3,5",
          "SimCC, Cams: 2,3,4"
         ],
         "xaxis": "x",
         "y": [
          0.9677296030179174,
          0.9415581477481851,
          0.5383004520454292,
          0.22950258512979083
         ],
         "yaxis": "y"
        },
        {
         "alignmentgroup": "True",
         "hovertemplate": "Patient=P251<br>id_s_name=%{x}<br>correlation=%{y}<extra></extra>",
         "legendgroup": "P251",
         "marker": {
          "color": "#B6E880",
          "pattern": {
           "shape": ""
          }
         },
         "name": "P251",
         "offsetgroup": "P251",
         "orientation": "v",
         "showlegend": true,
         "textposition": "auto",
         "type": "bar",
         "x": [
          "SimCC, Cams: 1,2,3,4,5",
          "Metrabs, Cams: 1,2,3,4,5",
          "SimCC, Cams: 1,3,5",
          "Metrabs, Cams: 1,3,5",
          "SimCC, Cams: 2,3,4",
          "Metrabs, Cams: 2,3,4"
         ],
         "xaxis": "x",
         "y": [
          0.733885711683094,
          0.7221091576043289,
          0.09230466025397364,
          0.11694827691250592,
          0.3698610106254291,
          0.04145163069374609
         ],
         "yaxis": "y"
        },
        {
         "alignmentgroup": "True",
         "hovertemplate": "Patient=P252<br>id_s_name=%{x}<br>correlation=%{y}<extra></extra>",
         "legendgroup": "P252",
         "marker": {
          "color": "#FF97FF",
          "pattern": {
           "shape": ""
          }
         },
         "name": "P252",
         "offsetgroup": "P252",
         "orientation": "v",
         "showlegend": true,
         "textposition": "auto",
         "type": "bar",
         "x": [
          "SimCC, Cams: 1,2,3,4,5",
          "Metrabs, Cams: 1,2,3,4,5",
          "Metrabs, Cams: 1,3,5",
          "SimCC, Cams: 2,3,4",
          "Metrabs, Cams: 2,3,4"
         ],
         "xaxis": "x",
         "y": [
          0.9310469695266059,
          0.8957807263214507,
          0.1387509627028559,
          0.2599718997397592,
          0.1744809396741005
         ],
         "yaxis": "y"
        }
       ],
       "layout": {
        "barmode": "group",
        "height": 600,
        "legend": {
         "title": {
          "text": "Patient"
         },
         "tracegroupgap": 0
        },
        "margin": {
         "t": 60
        },
        "shapes": [
         {
          "line": {
           "color": "red",
           "dash": "dot"
          },
          "name": "corr = 0.9",
          "type": "line",
          "x0": 0,
          "x1": 1,
          "xref": "x domain",
          "y0": 0.9,
          "y1": 0.9,
          "yref": "y"
         }
        ],
        "template": {
         "data": {
          "bar": [
           {
            "error_x": {
             "color": "#2a3f5f"
            },
            "error_y": {
             "color": "#2a3f5f"
            },
            "marker": {
             "line": {
              "color": "#E5ECF6",
              "width": 0.5
             },
             "pattern": {
              "fillmode": "overlay",
              "size": 10,
              "solidity": 0.2
             }
            },
            "type": "bar"
           }
          ],
          "barpolar": [
           {
            "marker": {
             "line": {
              "color": "#E5ECF6",
              "width": 0.5
             },
             "pattern": {
              "fillmode": "overlay",
              "size": 10,
              "solidity": 0.2
             }
            },
            "type": "barpolar"
           }
          ],
          "carpet": [
           {
            "aaxis": {
             "endlinecolor": "#2a3f5f",
             "gridcolor": "white",
             "linecolor": "white",
             "minorgridcolor": "white",
             "startlinecolor": "#2a3f5f"
            },
            "baxis": {
             "endlinecolor": "#2a3f5f",
             "gridcolor": "white",
             "linecolor": "white",
             "minorgridcolor": "white",
             "startlinecolor": "#2a3f5f"
            },
            "type": "carpet"
           }
          ],
          "choropleth": [
           {
            "colorbar": {
             "outlinewidth": 0,
             "ticks": ""
            },
            "type": "choropleth"
           }
          ],
          "contour": [
           {
            "colorbar": {
             "outlinewidth": 0,
             "ticks": ""
            },
            "colorscale": [
             [
              0,
              "#0d0887"
             ],
             [
              0.1111111111111111,
              "#46039f"
             ],
             [
              0.2222222222222222,
              "#7201a8"
             ],
             [
              0.3333333333333333,
              "#9c179e"
             ],
             [
              0.4444444444444444,
              "#bd3786"
             ],
             [
              0.5555555555555556,
              "#d8576b"
             ],
             [
              0.6666666666666666,
              "#ed7953"
             ],
             [
              0.7777777777777778,
              "#fb9f3a"
             ],
             [
              0.8888888888888888,
              "#fdca26"
             ],
             [
              1,
              "#f0f921"
             ]
            ],
            "type": "contour"
           }
          ],
          "contourcarpet": [
           {
            "colorbar": {
             "outlinewidth": 0,
             "ticks": ""
            },
            "type": "contourcarpet"
           }
          ],
          "heatmap": [
           {
            "colorbar": {
             "outlinewidth": 0,
             "ticks": ""
            },
            "colorscale": [
             [
              0,
              "#0d0887"
             ],
             [
              0.1111111111111111,
              "#46039f"
             ],
             [
              0.2222222222222222,
              "#7201a8"
             ],
             [
              0.3333333333333333,
              "#9c179e"
             ],
             [
              0.4444444444444444,
              "#bd3786"
             ],
             [
              0.5555555555555556,
              "#d8576b"
             ],
             [
              0.6666666666666666,
              "#ed7953"
             ],
             [
              0.7777777777777778,
              "#fb9f3a"
             ],
             [
              0.8888888888888888,
              "#fdca26"
             ],
             [
              1,
              "#f0f921"
             ]
            ],
            "type": "heatmap"
           }
          ],
          "heatmapgl": [
           {
            "colorbar": {
             "outlinewidth": 0,
             "ticks": ""
            },
            "colorscale": [
             [
              0,
              "#0d0887"
             ],
             [
              0.1111111111111111,
              "#46039f"
             ],
             [
              0.2222222222222222,
              "#7201a8"
             ],
             [
              0.3333333333333333,
              "#9c179e"
             ],
             [
              0.4444444444444444,
              "#bd3786"
             ],
             [
              0.5555555555555556,
              "#d8576b"
             ],
             [
              0.6666666666666666,
              "#ed7953"
             ],
             [
              0.7777777777777778,
              "#fb9f3a"
             ],
             [
              0.8888888888888888,
              "#fdca26"
             ],
             [
              1,
              "#f0f921"
             ]
            ],
            "type": "heatmapgl"
           }
          ],
          "histogram": [
           {
            "marker": {
             "pattern": {
              "fillmode": "overlay",
              "size": 10,
              "solidity": 0.2
             }
            },
            "type": "histogram"
           }
          ],
          "histogram2d": [
           {
            "colorbar": {
             "outlinewidth": 0,
             "ticks": ""
            },
            "colorscale": [
             [
              0,
              "#0d0887"
             ],
             [
              0.1111111111111111,
              "#46039f"
             ],
             [
              0.2222222222222222,
              "#7201a8"
             ],
             [
              0.3333333333333333,
              "#9c179e"
             ],
             [
              0.4444444444444444,
              "#bd3786"
             ],
             [
              0.5555555555555556,
              "#d8576b"
             ],
             [
              0.6666666666666666,
              "#ed7953"
             ],
             [
              0.7777777777777778,
              "#fb9f3a"
             ],
             [
              0.8888888888888888,
              "#fdca26"
             ],
             [
              1,
              "#f0f921"
             ]
            ],
            "type": "histogram2d"
           }
          ],
          "histogram2dcontour": [
           {
            "colorbar": {
             "outlinewidth": 0,
             "ticks": ""
            },
            "colorscale": [
             [
              0,
              "#0d0887"
             ],
             [
              0.1111111111111111,
              "#46039f"
             ],
             [
              0.2222222222222222,
              "#7201a8"
             ],
             [
              0.3333333333333333,
              "#9c179e"
             ],
             [
              0.4444444444444444,
              "#bd3786"
             ],
             [
              0.5555555555555556,
              "#d8576b"
             ],
             [
              0.6666666666666666,
              "#ed7953"
             ],
             [
              0.7777777777777778,
              "#fb9f3a"
             ],
             [
              0.8888888888888888,
              "#fdca26"
             ],
             [
              1,
              "#f0f921"
             ]
            ],
            "type": "histogram2dcontour"
           }
          ],
          "mesh3d": [
           {
            "colorbar": {
             "outlinewidth": 0,
             "ticks": ""
            },
            "type": "mesh3d"
           }
          ],
          "parcoords": [
           {
            "line": {
             "colorbar": {
              "outlinewidth": 0,
              "ticks": ""
             }
            },
            "type": "parcoords"
           }
          ],
          "pie": [
           {
            "automargin": true,
            "type": "pie"
           }
          ],
          "scatter": [
           {
            "fillpattern": {
             "fillmode": "overlay",
             "size": 10,
             "solidity": 0.2
            },
            "type": "scatter"
           }
          ],
          "scatter3d": [
           {
            "line": {
             "colorbar": {
              "outlinewidth": 0,
              "ticks": ""
             }
            },
            "marker": {
             "colorbar": {
              "outlinewidth": 0,
              "ticks": ""
             }
            },
            "type": "scatter3d"
           }
          ],
          "scattercarpet": [
           {
            "marker": {
             "colorbar": {
              "outlinewidth": 0,
              "ticks": ""
             }
            },
            "type": "scattercarpet"
           }
          ],
          "scattergeo": [
           {
            "marker": {
             "colorbar": {
              "outlinewidth": 0,
              "ticks": ""
             }
            },
            "type": "scattergeo"
           }
          ],
          "scattergl": [
           {
            "marker": {
             "colorbar": {
              "outlinewidth": 0,
              "ticks": ""
             }
            },
            "type": "scattergl"
           }
          ],
          "scattermapbox": [
           {
            "marker": {
             "colorbar": {
              "outlinewidth": 0,
              "ticks": ""
             }
            },
            "type": "scattermapbox"
           }
          ],
          "scatterpolar": [
           {
            "marker": {
             "colorbar": {
              "outlinewidth": 0,
              "ticks": ""
             }
            },
            "type": "scatterpolar"
           }
          ],
          "scatterpolargl": [
           {
            "marker": {
             "colorbar": {
              "outlinewidth": 0,
              "ticks": ""
             }
            },
            "type": "scatterpolargl"
           }
          ],
          "scatterternary": [
           {
            "marker": {
             "colorbar": {
              "outlinewidth": 0,
              "ticks": ""
             }
            },
            "type": "scatterternary"
           }
          ],
          "surface": [
           {
            "colorbar": {
             "outlinewidth": 0,
             "ticks": ""
            },
            "colorscale": [
             [
              0,
              "#0d0887"
             ],
             [
              0.1111111111111111,
              "#46039f"
             ],
             [
              0.2222222222222222,
              "#7201a8"
             ],
             [
              0.3333333333333333,
              "#9c179e"
             ],
             [
              0.4444444444444444,
              "#bd3786"
             ],
             [
              0.5555555555555556,
              "#d8576b"
             ],
             [
              0.6666666666666666,
              "#ed7953"
             ],
             [
              0.7777777777777778,
              "#fb9f3a"
             ],
             [
              0.8888888888888888,
              "#fdca26"
             ],
             [
              1,
              "#f0f921"
             ]
            ],
            "type": "surface"
           }
          ],
          "table": [
           {
            "cells": {
             "fill": {
              "color": "#EBF0F8"
             },
             "line": {
              "color": "white"
             }
            },
            "header": {
             "fill": {
              "color": "#C8D4E3"
             },
             "line": {
              "color": "white"
             }
            },
            "type": "table"
           }
          ]
         },
         "layout": {
          "annotationdefaults": {
           "arrowcolor": "#2a3f5f",
           "arrowhead": 0,
           "arrowwidth": 1
          },
          "autotypenumbers": "strict",
          "coloraxis": {
           "colorbar": {
            "outlinewidth": 0,
            "ticks": ""
           }
          },
          "colorscale": {
           "diverging": [
            [
             0,
             "#8e0152"
            ],
            [
             0.1,
             "#c51b7d"
            ],
            [
             0.2,
             "#de77ae"
            ],
            [
             0.3,
             "#f1b6da"
            ],
            [
             0.4,
             "#fde0ef"
            ],
            [
             0.5,
             "#f7f7f7"
            ],
            [
             0.6,
             "#e6f5d0"
            ],
            [
             0.7,
             "#b8e186"
            ],
            [
             0.8,
             "#7fbc41"
            ],
            [
             0.9,
             "#4d9221"
            ],
            [
             1,
             "#276419"
            ]
           ],
           "sequential": [
            [
             0,
             "#0d0887"
            ],
            [
             0.1111111111111111,
             "#46039f"
            ],
            [
             0.2222222222222222,
             "#7201a8"
            ],
            [
             0.3333333333333333,
             "#9c179e"
            ],
            [
             0.4444444444444444,
             "#bd3786"
            ],
            [
             0.5555555555555556,
             "#d8576b"
            ],
            [
             0.6666666666666666,
             "#ed7953"
            ],
            [
             0.7777777777777778,
             "#fb9f3a"
            ],
            [
             0.8888888888888888,
             "#fdca26"
            ],
            [
             1,
             "#f0f921"
            ]
           ],
           "sequentialminus": [
            [
             0,
             "#0d0887"
            ],
            [
             0.1111111111111111,
             "#46039f"
            ],
            [
             0.2222222222222222,
             "#7201a8"
            ],
            [
             0.3333333333333333,
             "#9c179e"
            ],
            [
             0.4444444444444444,
             "#bd3786"
            ],
            [
             0.5555555555555556,
             "#d8576b"
            ],
            [
             0.6666666666666666,
             "#ed7953"
            ],
            [
             0.7777777777777778,
             "#fb9f3a"
            ],
            [
             0.8888888888888888,
             "#fdca26"
            ],
            [
             1,
             "#f0f921"
            ]
           ]
          },
          "colorway": [
           "#636efa",
           "#EF553B",
           "#00cc96",
           "#ab63fa",
           "#FFA15A",
           "#19d3f3",
           "#FF6692",
           "#B6E880",
           "#FF97FF",
           "#FECB52"
          ],
          "font": {
           "color": "#2a3f5f"
          },
          "geo": {
           "bgcolor": "white",
           "lakecolor": "white",
           "landcolor": "#E5ECF6",
           "showlakes": true,
           "showland": true,
           "subunitcolor": "white"
          },
          "hoverlabel": {
           "align": "left"
          },
          "hovermode": "closest",
          "mapbox": {
           "style": "light"
          },
          "paper_bgcolor": "white",
          "plot_bgcolor": "#E5ECF6",
          "polar": {
           "angularaxis": {
            "gridcolor": "white",
            "linecolor": "white",
            "ticks": ""
           },
           "bgcolor": "#E5ECF6",
           "radialaxis": {
            "gridcolor": "white",
            "linecolor": "white",
            "ticks": ""
           }
          },
          "scene": {
           "xaxis": {
            "backgroundcolor": "#E5ECF6",
            "gridcolor": "white",
            "gridwidth": 2,
            "linecolor": "white",
            "showbackground": true,
            "ticks": "",
            "zerolinecolor": "white"
           },
           "yaxis": {
            "backgroundcolor": "#E5ECF6",
            "gridcolor": "white",
            "gridwidth": 2,
            "linecolor": "white",
            "showbackground": true,
            "ticks": "",
            "zerolinecolor": "white"
           },
           "zaxis": {
            "backgroundcolor": "#E5ECF6",
            "gridcolor": "white",
            "gridwidth": 2,
            "linecolor": "white",
            "showbackground": true,
            "ticks": "",
            "zerolinecolor": "white"
           }
          },
          "shapedefaults": {
           "line": {
            "color": "#2a3f5f"
           }
          },
          "ternary": {
           "aaxis": {
            "gridcolor": "white",
            "linecolor": "white",
            "ticks": ""
           },
           "baxis": {
            "gridcolor": "white",
            "linecolor": "white",
            "ticks": ""
           },
           "bgcolor": "#E5ECF6",
           "caxis": {
            "gridcolor": "white",
            "linecolor": "white",
            "ticks": ""
           }
          },
          "title": {
           "x": 0.05
          },
          "xaxis": {
           "automargin": true,
           "gridcolor": "white",
           "linecolor": "white",
           "ticks": "",
           "title": {
            "standoff": 15
           },
           "zerolinecolor": "white",
           "zerolinewidth": 2
          },
          "yaxis": {
           "automargin": true,
           "gridcolor": "white",
           "linecolor": "white",
           "ticks": "",
           "title": {
            "standoff": 15
           },
           "zerolinecolor": "white",
           "zerolinewidth": 2
          }
         }
        },
        "title": {
         "text": "Pearson Correlation for multi-cam settings"
        },
        "width": 1300,
        "xaxis": {
         "anchor": "y",
         "domain": [
          0,
          1
         ],
         "title": {
          "text": "Setting"
         }
        },
        "yaxis": {
         "anchor": "x",
         "domain": [
          0,
          1
         ],
         "title": {
          "text": "Correlation [r]"
         }
        }
       }
      },
      "text/html": [
       "<div>                            <div id=\"55a9f88b-2e4c-4cd9-817c-a53881603032\" class=\"plotly-graph-div\" style=\"height:600px; width:1300px;\"></div>            <script type=\"text/javascript\">                require([\"plotly\"], function(Plotly) {                    window.PLOTLYENV=window.PLOTLYENV || {};                                    if (document.getElementById(\"55a9f88b-2e4c-4cd9-817c-a53881603032\")) {                    Plotly.newPlot(                        \"55a9f88b-2e4c-4cd9-817c-a53881603032\",                        [{\"alignmentgroup\":\"True\",\"hovertemplate\":\"Patient=P07\\u003cbr\\u003eid_s_name=%{x}\\u003cbr\\u003ecorrelation=%{y}\\u003cextra\\u003e\\u003c\\u002fextra\\u003e\",\"legendgroup\":\"P07\",\"marker\":{\"color\":\"#636efa\",\"pattern\":{\"shape\":\"\"}},\"name\":\"P07\",\"offsetgroup\":\"P07\",\"orientation\":\"v\",\"showlegend\":true,\"textposition\":\"auto\",\"x\":[\"SimCC, Cams: 1,2,3,4,5\",\"Metrabs, Cams: 1,2,3,4,5\",\"SimCC, Cams: 1,3,5\",\"Metrabs, Cams: 1,3,5\",\"Metrabs, Cams: 2,3,4\",\"Metrabs, Cams: 2,4\",\"Metrabs, Cams: 7,9\"],\"xaxis\":\"x\",\"y\":[0.9760754947457521,0.9725419442347408,0.30884126944723145,0.40127023762758923,0.9636073719812461,0.5301134056908186,0.21887677791849894],\"yaxis\":\"y\",\"type\":\"bar\"},{\"alignmentgroup\":\"True\",\"hovertemplate\":\"Patient=P08\\u003cbr\\u003eid_s_name=%{x}\\u003cbr\\u003ecorrelation=%{y}\\u003cextra\\u003e\\u003c\\u002fextra\\u003e\",\"legendgroup\":\"P08\",\"marker\":{\"color\":\"#EF553B\",\"pattern\":{\"shape\":\"\"}},\"name\":\"P08\",\"offsetgroup\":\"P08\",\"orientation\":\"v\",\"showlegend\":true,\"textposition\":\"auto\",\"x\":[\"SimCC, Cams: 1,2,3,4,5\",\"Metrabs, Cams: 1,2,3,4,5\",\"SimCC, Cams: 1,3,5\",\"Metrabs, Cams: 1,3,5\",\"Metrabs, Cams: 2,3,4\",\"Metrabs, Cams: 2,4\"],\"xaxis\":\"x\",\"y\":[0.9573109978971184,0.9652738028310699,0.22490117246389218,0.39755767881489884,0.9430330982683095,0.170324523115708],\"yaxis\":\"y\",\"type\":\"bar\"},{\"alignmentgroup\":\"True\",\"hovertemplate\":\"Patient=P10\\u003cbr\\u003eid_s_name=%{x}\\u003cbr\\u003ecorrelation=%{y}\\u003cextra\\u003e\\u003c\\u002fextra\\u003e\",\"legendgroup\":\"P10\",\"marker\":{\"color\":\"#00cc96\",\"pattern\":{\"shape\":\"\"}},\"name\":\"P10\",\"offsetgroup\":\"P10\",\"orientation\":\"v\",\"showlegend\":true,\"textposition\":\"auto\",\"x\":[\"SimCC, Cams: 1,2,3,4,5\",\"Metrabs, Cams: 1,2,3,4,5\",\"Metrabs, Cams: 1,3,5\",\"SimCC, Cams: 2,3,4\",\"Metrabs, Cams: 2,3,4\",\"SimCC, Cams: 2,4\",\"Metrabs, Cams: 2,4\"],\"xaxis\":\"x\",\"y\":[0.8453772521872671,0.8683518202003094,0.3568229436907947,0.3182302269943847,0.3776070510784296,0.7848028210768934,0.8027918466449957],\"yaxis\":\"y\",\"type\":\"bar\"},{\"alignmentgroup\":\"True\",\"hovertemplate\":\"Patient=P12\\u003cbr\\u003eid_s_name=%{x}\\u003cbr\\u003ecorrelation=%{y}\\u003cextra\\u003e\\u003c\\u002fextra\\u003e\",\"legendgroup\":\"P12\",\"marker\":{\"color\":\"#ab63fa\",\"pattern\":{\"shape\":\"\"}},\"name\":\"P12\",\"offsetgroup\":\"P12\",\"orientation\":\"v\",\"showlegend\":true,\"textposition\":\"auto\",\"x\":[\"SimCC, Cams: 1,2,3,4,5\",\"Metrabs, Cams: 1,2,3,4,5\",\"SimCC, Cams: 1,3,5\",\"Metrabs, Cams: 1,3,5\",\"SimCC, Cams: 2,3,4\",\"Metrabs, Cams: 2,3,4\",\"SimCC, Cams: 2,4\",\"Metrabs, Cams: 2,4\"],\"xaxis\":\"x\",\"y\":[0.8588153915581229,0.9075952722977676,0.0869138190679052,0.24223619269544985,0.6370630898923121,0.7486294738154914,0.21236949615918344,0.16589222078192029],\"yaxis\":\"y\",\"type\":\"bar\"},{\"alignmentgroup\":\"True\",\"hovertemplate\":\"Patient=P15\\u003cbr\\u003eid_s_name=%{x}\\u003cbr\\u003ecorrelation=%{y}\\u003cextra\\u003e\\u003c\\u002fextra\\u003e\",\"legendgroup\":\"P15\",\"marker\":{\"color\":\"#FFA15A\",\"pattern\":{\"shape\":\"\"}},\"name\":\"P15\",\"offsetgroup\":\"P15\",\"orientation\":\"v\",\"showlegend\":true,\"textposition\":\"auto\",\"x\":[\"SimCC, Cams: 1,2,3,4,5\",\"Metrabs, Cams: 1,2,3,4,5\",\"SimCC, Cams: 6,7,8,9,10\",\"Metrabs, Cams: 6,7,8,9,10\",\"SimCC, Cams: 2,3,4\",\"Metrabs, Cams: 2,3,4\",\"SimCC, Cams: 6,8,10\",\"Metrabs, Cams: 6,8,10\",\"SimCC, Cams: 7,8,9\",\"Metrabs, Cams: 7,8,9\",\"SimCC, Cams: 7,9\",\"Metrabs, Cams: 7,9\"],\"xaxis\":\"x\",\"y\":[0.2315615209412846,0.6157090859708404,0.02926649850830326,0.010459931613768255,0.25577125851202825,0.41165318937010725,0.033255207716440735,0.19417664621277597,0.04079846898597105,0.08104962848758607,0.005893449096436102,0.011201785131567239],\"yaxis\":\"y\",\"type\":\"bar\"},{\"alignmentgroup\":\"True\",\"hovertemplate\":\"Patient=P241\\u003cbr\\u003eid_s_name=%{x}\\u003cbr\\u003ecorrelation=%{y}\\u003cextra\\u003e\\u003c\\u002fextra\\u003e\",\"legendgroup\":\"P241\",\"marker\":{\"color\":\"#19d3f3\",\"pattern\":{\"shape\":\"\"}},\"name\":\"P241\",\"offsetgroup\":\"P241\",\"orientation\":\"v\",\"showlegend\":true,\"textposition\":\"auto\",\"x\":[\"SimCC, Cams: 1,2,3,4,5\",\"Metrabs, Cams: 1,2,3,4,5\",\"SimCC, Cams: 1,3,5\",\"Metrabs, Cams: 1,3,5\",\"SimCC, Cams: 2,3,4\",\"Metrabs, Cams: 2,3,4\",\"SimCC, Cams: 2,4\"],\"xaxis\":\"x\",\"y\":[0.956679223113216,0.9211934035116808,0.4726321461481828,0.8282702482350994,0.38705158418060764,0.64471362567168,0.44409060175680887],\"yaxis\":\"y\",\"type\":\"bar\"},{\"alignmentgroup\":\"True\",\"hovertemplate\":\"Patient=P242\\u003cbr\\u003eid_s_name=%{x}\\u003cbr\\u003ecorrelation=%{y}\\u003cextra\\u003e\\u003c\\u002fextra\\u003e\",\"legendgroup\":\"P242\",\"marker\":{\"color\":\"#FF6692\",\"pattern\":{\"shape\":\"\"}},\"name\":\"P242\",\"offsetgroup\":\"P242\",\"orientation\":\"v\",\"showlegend\":true,\"textposition\":\"auto\",\"x\":[\"SimCC, Cams: 1,2,3,4,5\",\"Metrabs, Cams: 1,2,3,4,5\",\"Metrabs, Cams: 1,3,5\",\"SimCC, Cams: 2,3,4\"],\"xaxis\":\"x\",\"y\":[0.9677296030179174,0.9415581477481851,0.5383004520454292,0.22950258512979083],\"yaxis\":\"y\",\"type\":\"bar\"},{\"alignmentgroup\":\"True\",\"hovertemplate\":\"Patient=P251\\u003cbr\\u003eid_s_name=%{x}\\u003cbr\\u003ecorrelation=%{y}\\u003cextra\\u003e\\u003c\\u002fextra\\u003e\",\"legendgroup\":\"P251\",\"marker\":{\"color\":\"#B6E880\",\"pattern\":{\"shape\":\"\"}},\"name\":\"P251\",\"offsetgroup\":\"P251\",\"orientation\":\"v\",\"showlegend\":true,\"textposition\":\"auto\",\"x\":[\"SimCC, Cams: 1,2,3,4,5\",\"Metrabs, Cams: 1,2,3,4,5\",\"SimCC, Cams: 1,3,5\",\"Metrabs, Cams: 1,3,5\",\"SimCC, Cams: 2,3,4\",\"Metrabs, Cams: 2,3,4\"],\"xaxis\":\"x\",\"y\":[0.733885711683094,0.7221091576043289,0.09230466025397364,0.11694827691250592,0.3698610106254291,0.04145163069374609],\"yaxis\":\"y\",\"type\":\"bar\"},{\"alignmentgroup\":\"True\",\"hovertemplate\":\"Patient=P252\\u003cbr\\u003eid_s_name=%{x}\\u003cbr\\u003ecorrelation=%{y}\\u003cextra\\u003e\\u003c\\u002fextra\\u003e\",\"legendgroup\":\"P252\",\"marker\":{\"color\":\"#FF97FF\",\"pattern\":{\"shape\":\"\"}},\"name\":\"P252\",\"offsetgroup\":\"P252\",\"orientation\":\"v\",\"showlegend\":true,\"textposition\":\"auto\",\"x\":[\"SimCC, Cams: 1,2,3,4,5\",\"Metrabs, Cams: 1,2,3,4,5\",\"Metrabs, Cams: 1,3,5\",\"SimCC, Cams: 2,3,4\",\"Metrabs, Cams: 2,3,4\"],\"xaxis\":\"x\",\"y\":[0.9310469695266059,0.8957807263214507,0.1387509627028559,0.2599718997397592,0.1744809396741005],\"yaxis\":\"y\",\"type\":\"bar\"}],                        {\"template\":{\"data\":{\"barpolar\":[{\"marker\":{\"line\":{\"color\":\"#E5ECF6\",\"width\":0.5},\"pattern\":{\"fillmode\":\"overlay\",\"size\":10,\"solidity\":0.2}},\"type\":\"barpolar\"}],\"bar\":[{\"error_x\":{\"color\":\"#2a3f5f\"},\"error_y\":{\"color\":\"#2a3f5f\"},\"marker\":{\"line\":{\"color\":\"#E5ECF6\",\"width\":0.5},\"pattern\":{\"fillmode\":\"overlay\",\"size\":10,\"solidity\":0.2}},\"type\":\"bar\"}],\"carpet\":[{\"aaxis\":{\"endlinecolor\":\"#2a3f5f\",\"gridcolor\":\"white\",\"linecolor\":\"white\",\"minorgridcolor\":\"white\",\"startlinecolor\":\"#2a3f5f\"},\"baxis\":{\"endlinecolor\":\"#2a3f5f\",\"gridcolor\":\"white\",\"linecolor\":\"white\",\"minorgridcolor\":\"white\",\"startlinecolor\":\"#2a3f5f\"},\"type\":\"carpet\"}],\"choropleth\":[{\"colorbar\":{\"outlinewidth\":0,\"ticks\":\"\"},\"type\":\"choropleth\"}],\"contourcarpet\":[{\"colorbar\":{\"outlinewidth\":0,\"ticks\":\"\"},\"type\":\"contourcarpet\"}],\"contour\":[{\"colorbar\":{\"outlinewidth\":0,\"ticks\":\"\"},\"colorscale\":[[0.0,\"#0d0887\"],[0.1111111111111111,\"#46039f\"],[0.2222222222222222,\"#7201a8\"],[0.3333333333333333,\"#9c179e\"],[0.4444444444444444,\"#bd3786\"],[0.5555555555555556,\"#d8576b\"],[0.6666666666666666,\"#ed7953\"],[0.7777777777777778,\"#fb9f3a\"],[0.8888888888888888,\"#fdca26\"],[1.0,\"#f0f921\"]],\"type\":\"contour\"}],\"heatmapgl\":[{\"colorbar\":{\"outlinewidth\":0,\"ticks\":\"\"},\"colorscale\":[[0.0,\"#0d0887\"],[0.1111111111111111,\"#46039f\"],[0.2222222222222222,\"#7201a8\"],[0.3333333333333333,\"#9c179e\"],[0.4444444444444444,\"#bd3786\"],[0.5555555555555556,\"#d8576b\"],[0.6666666666666666,\"#ed7953\"],[0.7777777777777778,\"#fb9f3a\"],[0.8888888888888888,\"#fdca26\"],[1.0,\"#f0f921\"]],\"type\":\"heatmapgl\"}],\"heatmap\":[{\"colorbar\":{\"outlinewidth\":0,\"ticks\":\"\"},\"colorscale\":[[0.0,\"#0d0887\"],[0.1111111111111111,\"#46039f\"],[0.2222222222222222,\"#7201a8\"],[0.3333333333333333,\"#9c179e\"],[0.4444444444444444,\"#bd3786\"],[0.5555555555555556,\"#d8576b\"],[0.6666666666666666,\"#ed7953\"],[0.7777777777777778,\"#fb9f3a\"],[0.8888888888888888,\"#fdca26\"],[1.0,\"#f0f921\"]],\"type\":\"heatmap\"}],\"histogram2dcontour\":[{\"colorbar\":{\"outlinewidth\":0,\"ticks\":\"\"},\"colorscale\":[[0.0,\"#0d0887\"],[0.1111111111111111,\"#46039f\"],[0.2222222222222222,\"#7201a8\"],[0.3333333333333333,\"#9c179e\"],[0.4444444444444444,\"#bd3786\"],[0.5555555555555556,\"#d8576b\"],[0.6666666666666666,\"#ed7953\"],[0.7777777777777778,\"#fb9f3a\"],[0.8888888888888888,\"#fdca26\"],[1.0,\"#f0f921\"]],\"type\":\"histogram2dcontour\"}],\"histogram2d\":[{\"colorbar\":{\"outlinewidth\":0,\"ticks\":\"\"},\"colorscale\":[[0.0,\"#0d0887\"],[0.1111111111111111,\"#46039f\"],[0.2222222222222222,\"#7201a8\"],[0.3333333333333333,\"#9c179e\"],[0.4444444444444444,\"#bd3786\"],[0.5555555555555556,\"#d8576b\"],[0.6666666666666666,\"#ed7953\"],[0.7777777777777778,\"#fb9f3a\"],[0.8888888888888888,\"#fdca26\"],[1.0,\"#f0f921\"]],\"type\":\"histogram2d\"}],\"histogram\":[{\"marker\":{\"pattern\":{\"fillmode\":\"overlay\",\"size\":10,\"solidity\":0.2}},\"type\":\"histogram\"}],\"mesh3d\":[{\"colorbar\":{\"outlinewidth\":0,\"ticks\":\"\"},\"type\":\"mesh3d\"}],\"parcoords\":[{\"line\":{\"colorbar\":{\"outlinewidth\":0,\"ticks\":\"\"}},\"type\":\"parcoords\"}],\"pie\":[{\"automargin\":true,\"type\":\"pie\"}],\"scatter3d\":[{\"line\":{\"colorbar\":{\"outlinewidth\":0,\"ticks\":\"\"}},\"marker\":{\"colorbar\":{\"outlinewidth\":0,\"ticks\":\"\"}},\"type\":\"scatter3d\"}],\"scattercarpet\":[{\"marker\":{\"colorbar\":{\"outlinewidth\":0,\"ticks\":\"\"}},\"type\":\"scattercarpet\"}],\"scattergeo\":[{\"marker\":{\"colorbar\":{\"outlinewidth\":0,\"ticks\":\"\"}},\"type\":\"scattergeo\"}],\"scattergl\":[{\"marker\":{\"colorbar\":{\"outlinewidth\":0,\"ticks\":\"\"}},\"type\":\"scattergl\"}],\"scattermapbox\":[{\"marker\":{\"colorbar\":{\"outlinewidth\":0,\"ticks\":\"\"}},\"type\":\"scattermapbox\"}],\"scatterpolargl\":[{\"marker\":{\"colorbar\":{\"outlinewidth\":0,\"ticks\":\"\"}},\"type\":\"scatterpolargl\"}],\"scatterpolar\":[{\"marker\":{\"colorbar\":{\"outlinewidth\":0,\"ticks\":\"\"}},\"type\":\"scatterpolar\"}],\"scatter\":[{\"fillpattern\":{\"fillmode\":\"overlay\",\"size\":10,\"solidity\":0.2},\"type\":\"scatter\"}],\"scatterternary\":[{\"marker\":{\"colorbar\":{\"outlinewidth\":0,\"ticks\":\"\"}},\"type\":\"scatterternary\"}],\"surface\":[{\"colorbar\":{\"outlinewidth\":0,\"ticks\":\"\"},\"colorscale\":[[0.0,\"#0d0887\"],[0.1111111111111111,\"#46039f\"],[0.2222222222222222,\"#7201a8\"],[0.3333333333333333,\"#9c179e\"],[0.4444444444444444,\"#bd3786\"],[0.5555555555555556,\"#d8576b\"],[0.6666666666666666,\"#ed7953\"],[0.7777777777777778,\"#fb9f3a\"],[0.8888888888888888,\"#fdca26\"],[1.0,\"#f0f921\"]],\"type\":\"surface\"}],\"table\":[{\"cells\":{\"fill\":{\"color\":\"#EBF0F8\"},\"line\":{\"color\":\"white\"}},\"header\":{\"fill\":{\"color\":\"#C8D4E3\"},\"line\":{\"color\":\"white\"}},\"type\":\"table\"}]},\"layout\":{\"annotationdefaults\":{\"arrowcolor\":\"#2a3f5f\",\"arrowhead\":0,\"arrowwidth\":1},\"autotypenumbers\":\"strict\",\"coloraxis\":{\"colorbar\":{\"outlinewidth\":0,\"ticks\":\"\"}},\"colorscale\":{\"diverging\":[[0,\"#8e0152\"],[0.1,\"#c51b7d\"],[0.2,\"#de77ae\"],[0.3,\"#f1b6da\"],[0.4,\"#fde0ef\"],[0.5,\"#f7f7f7\"],[0.6,\"#e6f5d0\"],[0.7,\"#b8e186\"],[0.8,\"#7fbc41\"],[0.9,\"#4d9221\"],[1,\"#276419\"]],\"sequential\":[[0.0,\"#0d0887\"],[0.1111111111111111,\"#46039f\"],[0.2222222222222222,\"#7201a8\"],[0.3333333333333333,\"#9c179e\"],[0.4444444444444444,\"#bd3786\"],[0.5555555555555556,\"#d8576b\"],[0.6666666666666666,\"#ed7953\"],[0.7777777777777778,\"#fb9f3a\"],[0.8888888888888888,\"#fdca26\"],[1.0,\"#f0f921\"]],\"sequentialminus\":[[0.0,\"#0d0887\"],[0.1111111111111111,\"#46039f\"],[0.2222222222222222,\"#7201a8\"],[0.3333333333333333,\"#9c179e\"],[0.4444444444444444,\"#bd3786\"],[0.5555555555555556,\"#d8576b\"],[0.6666666666666666,\"#ed7953\"],[0.7777777777777778,\"#fb9f3a\"],[0.8888888888888888,\"#fdca26\"],[1.0,\"#f0f921\"]]},\"colorway\":[\"#636efa\",\"#EF553B\",\"#00cc96\",\"#ab63fa\",\"#FFA15A\",\"#19d3f3\",\"#FF6692\",\"#B6E880\",\"#FF97FF\",\"#FECB52\"],\"font\":{\"color\":\"#2a3f5f\"},\"geo\":{\"bgcolor\":\"white\",\"lakecolor\":\"white\",\"landcolor\":\"#E5ECF6\",\"showlakes\":true,\"showland\":true,\"subunitcolor\":\"white\"},\"hoverlabel\":{\"align\":\"left\"},\"hovermode\":\"closest\",\"mapbox\":{\"style\":\"light\"},\"paper_bgcolor\":\"white\",\"plot_bgcolor\":\"#E5ECF6\",\"polar\":{\"angularaxis\":{\"gridcolor\":\"white\",\"linecolor\":\"white\",\"ticks\":\"\"},\"bgcolor\":\"#E5ECF6\",\"radialaxis\":{\"gridcolor\":\"white\",\"linecolor\":\"white\",\"ticks\":\"\"}},\"scene\":{\"xaxis\":{\"backgroundcolor\":\"#E5ECF6\",\"gridcolor\":\"white\",\"gridwidth\":2,\"linecolor\":\"white\",\"showbackground\":true,\"ticks\":\"\",\"zerolinecolor\":\"white\"},\"yaxis\":{\"backgroundcolor\":\"#E5ECF6\",\"gridcolor\":\"white\",\"gridwidth\":2,\"linecolor\":\"white\",\"showbackground\":true,\"ticks\":\"\",\"zerolinecolor\":\"white\"},\"zaxis\":{\"backgroundcolor\":\"#E5ECF6\",\"gridcolor\":\"white\",\"gridwidth\":2,\"linecolor\":\"white\",\"showbackground\":true,\"ticks\":\"\",\"zerolinecolor\":\"white\"}},\"shapedefaults\":{\"line\":{\"color\":\"#2a3f5f\"}},\"ternary\":{\"aaxis\":{\"gridcolor\":\"white\",\"linecolor\":\"white\",\"ticks\":\"\"},\"baxis\":{\"gridcolor\":\"white\",\"linecolor\":\"white\",\"ticks\":\"\"},\"bgcolor\":\"#E5ECF6\",\"caxis\":{\"gridcolor\":\"white\",\"linecolor\":\"white\",\"ticks\":\"\"}},\"title\":{\"x\":0.05},\"xaxis\":{\"automargin\":true,\"gridcolor\":\"white\",\"linecolor\":\"white\",\"ticks\":\"\",\"title\":{\"standoff\":15},\"zerolinecolor\":\"white\",\"zerolinewidth\":2},\"yaxis\":{\"automargin\":true,\"gridcolor\":\"white\",\"linecolor\":\"white\",\"ticks\":\"\",\"title\":{\"standoff\":15},\"zerolinecolor\":\"white\",\"zerolinewidth\":2}}},\"xaxis\":{\"anchor\":\"y\",\"domain\":[0.0,1.0],\"title\":{\"text\":\"Setting\"}},\"yaxis\":{\"anchor\":\"x\",\"domain\":[0.0,1.0],\"title\":{\"text\":\"Correlation [r]\"}},\"legend\":{\"title\":{\"text\":\"Patient\"},\"tracegroupgap\":0},\"margin\":{\"t\":60},\"barmode\":\"group\",\"shapes\":[{\"line\":{\"color\":\"red\",\"dash\":\"dot\"},\"name\":\"corr = 0.9\",\"type\":\"line\",\"x0\":0,\"x1\":1,\"xref\":\"x domain\",\"y0\":0.9,\"y1\":0.9,\"yref\":\"y\"}],\"title\":{\"text\":\"Pearson Correlation for multi-cam settings\"},\"width\":1300,\"height\":600},                        {\"responsive\": true}                    ).then(function(){\n",
       "                            \n",
       "var gd = document.getElementById('55a9f88b-2e4c-4cd9-817c-a53881603032');\n",
       "var x = new MutationObserver(function (mutations, observer) {{\n",
       "        var display = window.getComputedStyle(gd).display;\n",
       "        if (!display || display === 'none') {{\n",
       "            console.log([gd, 'removed!']);\n",
       "            Plotly.purge(gd);\n",
       "            observer.disconnect();\n",
       "        }}\n",
       "}});\n",
       "\n",
       "// Listen for the removal of the full notebook cells\n",
       "var notebookContainer = gd.closest('#notebook-container');\n",
       "if (notebookContainer) {{\n",
       "    x.observe(notebookContainer, {childList: true});\n",
       "}}\n",
       "\n",
       "// Listen for the clearing of the current output cell\n",
       "var outputEl = gd.closest('.output');\n",
       "if (outputEl) {{\n",
       "    x.observe(outputEl, {childList: true});\n",
       "}}\n",
       "\n",
       "                        })                };                });            </script>        </div>"
      ]
     },
     "metadata": {},
     "output_type": "display_data"
    }
   ],
   "source": [
    "fig = px.bar(df_plot.sort_values(by='id_s'), x='id_s_name', y='correlation', color='id_p', template = 'plotly', barmode='group', labels={\"id_p\": \"Patient\"})\n",
    "\n",
    "fig.add_hline(y=0.9, line_dash='dot', line_color='red', name = 'corr = 0.9')\n",
    "\n",
    "fig.update_layout(title= f'Pearson Correlation for multi-cam settings',\n",
    "          xaxis_title=f'Setting',\n",
    "          yaxis_title=f'Correlation [r]',\n",
    "                  width=1300, height=600\n",
    "          )\n",
    "\n",
    "os.makedirs(os.path.join(dir_plots_cont, '04_correlation'), exist_ok=True)\n",
    "\n",
    "path = os.path.join(dir_plots_cont, '04_correlation', f'pearson_corr_multi_cam.html')\n",
    "fig.write_html(path)\n",
    "\n",
    "path = os.path.join(dir_plots_cont, '04_correlation', f'pearson_corr_multi_cam.png')\n",
    "fig.write_image(path, scale = 5)\n",
    "fig.show()"
   ]
  },
  {
   "cell_type": "code",
   "execution_count": 12,
   "id": "228ea9a3e7cb8c83",
   "metadata": {
    "ExecuteTime": {
     "end_time": "2024-12-31T09:19:28.921792Z",
     "start_time": "2024-12-31T09:19:28.893259Z"
    }
   },
   "outputs": [],
   "source": [
    "\n",
    "df_grouped = df_plot.groupby(['id_p', 'ml']).mean(numeric_only=True)\n",
    "df_plot = pd.DataFrame(columns = ['id_p', 'ml', 'correlation', 'p_value'])\n",
    "\n",
    "for index in df_grouped.index:        \n",
    "    id_p = index[0]\n",
    "    ml = index[1]\n",
    "    r = df_grouped.loc[index]['correlation']\n",
    "    p = df_grouped.loc[index]['p_value']\n",
    "\n",
    "    \n",
    "    df_plot = pd.concat([df_plot, pd.DataFrame([[id_p, ml,  r, p]], columns = ['id_p', 'ml', 'correlation', 'p_value'], index = [0])], ignore_index=True)"
   ]
  },
  {
   "cell_type": "code",
   "execution_count": 28,
   "id": "d77ea6927bbca7d8",
   "metadata": {
    "ExecuteTime": {
     "end_time": "2024-12-25T09:34:30.047298Z",
     "start_time": "2024-12-25T09:34:29.468871Z"
    }
   },
   "outputs": [
    {
     "data": {
      "application/vnd.plotly.v1+json": {
       "config": {
        "plotlyServerURL": "https://plot.ly"
       },
       "data": [
        {
         "alignmentgroup": "True",
         "hovertemplate": "Patient=P07<br>Pose Estimation Model=%{x}<br>Correlation [r]=%{y}<extra></extra>",
         "legendgroup": "P07",
         "marker": {
          "color": "#636efa",
          "pattern": {
           "shape": ""
          }
         },
         "name": "P07",
         "offsetgroup": "P07",
         "orientation": "v",
         "showlegend": true,
         "textposition": "auto",
         "type": "bar",
         "x": [
          "Metrabs",
          "SimCC"
         ],
         "xaxis": "x",
         "y": [
          0.6172819474905787,
          0.6424583820964918
         ],
         "yaxis": "y"
        },
        {
         "alignmentgroup": "True",
         "hovertemplate": "Patient=P08<br>Pose Estimation Model=%{x}<br>Correlation [r]=%{y}<extra></extra>",
         "legendgroup": "P08",
         "marker": {
          "color": "#EF553B",
          "pattern": {
           "shape": ""
          }
         },
         "name": "P08",
         "offsetgroup": "P08",
         "orientation": "v",
         "showlegend": true,
         "textposition": "auto",
         "type": "bar",
         "x": [
          "Metrabs",
          "SimCC"
         ],
         "xaxis": "x",
         "y": [
          0.6190472757574965,
          0.5911060851805052
         ],
         "yaxis": "y"
        },
        {
         "alignmentgroup": "True",
         "hovertemplate": "Patient=P10<br>Pose Estimation Model=%{x}<br>Correlation [r]=%{y}<extra></extra>",
         "legendgroup": "P10",
         "marker": {
          "color": "#00cc96",
          "pattern": {
           "shape": ""
          }
         },
         "name": "P10",
         "offsetgroup": "P10",
         "orientation": "v",
         "showlegend": true,
         "textposition": "auto",
         "type": "bar",
         "x": [
          "Metrabs",
          "SimCC"
         ],
         "xaxis": "x",
         "y": [
          0.6013934154036323,
          0.6494701000861817
         ],
         "yaxis": "y"
        },
        {
         "alignmentgroup": "True",
         "hovertemplate": "Patient=P12<br>Pose Estimation Model=%{x}<br>Correlation [r]=%{y}<extra></extra>",
         "legendgroup": "P12",
         "marker": {
          "color": "#ab63fa",
          "pattern": {
           "shape": ""
          }
         },
         "name": "P12",
         "offsetgroup": "P12",
         "orientation": "v",
         "showlegend": true,
         "textposition": "auto",
         "type": "bar",
         "x": [
          "Metrabs",
          "SimCC"
         ],
         "xaxis": "x",
         "y": [
          0.5160882898976573,
          0.44879044916938093
         ],
         "yaxis": "y"
        },
        {
         "alignmentgroup": "True",
         "hovertemplate": "Patient=P15<br>Pose Estimation Model=%{x}<br>Correlation [r]=%{y}<extra></extra>",
         "legendgroup": "P15",
         "marker": {
          "color": "#FFA15A",
          "pattern": {
           "shape": ""
          }
         },
         "name": "P15",
         "offsetgroup": "P15",
         "orientation": "v",
         "showlegend": true,
         "textposition": "auto",
         "type": "bar",
         "x": [
          "Metrabs",
          "SimCC"
         ],
         "xaxis": "x",
         "y": [
          0.2207083777977742,
          0.099424400626744
         ],
         "yaxis": "y"
        },
        {
         "alignmentgroup": "True",
         "hovertemplate": "Patient=P241<br>Pose Estimation Model=%{x}<br>Correlation [r]=%{y}<extra></extra>",
         "legendgroup": "P241",
         "marker": {
          "color": "#19d3f3",
          "pattern": {
           "shape": ""
          }
         },
         "name": "P241",
         "offsetgroup": "P241",
         "orientation": "v",
         "showlegend": true,
         "textposition": "auto",
         "type": "bar",
         "x": [
          "Metrabs",
          "SimCC"
         ],
         "xaxis": "x",
         "y": [
          0.79805909247282,
          0.5651133887997039
         ],
         "yaxis": "y"
        },
        {
         "alignmentgroup": "True",
         "hovertemplate": "Patient=P242<br>Pose Estimation Model=%{x}<br>Correlation [r]=%{y}<extra></extra>",
         "legendgroup": "P242",
         "marker": {
          "color": "#FF6692",
          "pattern": {
           "shape": ""
          }
         },
         "name": "P242",
         "offsetgroup": "P242",
         "orientation": "v",
         "showlegend": true,
         "textposition": "auto",
         "type": "bar",
         "x": [
          "Metrabs",
          "SimCC"
         ],
         "xaxis": "x",
         "y": [
          0.7399292998968072,
          0.5986160940738541
         ],
         "yaxis": "y"
        },
        {
         "alignmentgroup": "True",
         "hovertemplate": "Patient=P251<br>Pose Estimation Model=%{x}<br>Correlation [r]=%{y}<extra></extra>",
         "legendgroup": "P251",
         "marker": {
          "color": "#B6E880",
          "pattern": {
           "shape": ""
          }
         },
         "name": "P251",
         "offsetgroup": "P251",
         "orientation": "v",
         "showlegend": true,
         "textposition": "auto",
         "type": "bar",
         "x": [
          "Metrabs",
          "SimCC"
         ],
         "xaxis": "x",
         "y": [
          0.2935030217368603,
          0.39868379418749894
         ],
         "yaxis": "y"
        },
        {
         "alignmentgroup": "True",
         "hovertemplate": "Patient=P252<br>Pose Estimation Model=%{x}<br>Correlation [r]=%{y}<extra></extra>",
         "legendgroup": "P252",
         "marker": {
          "color": "#FF97FF",
          "pattern": {
           "shape": ""
          }
         },
         "name": "P252",
         "offsetgroup": "P252",
         "orientation": "v",
         "showlegend": true,
         "textposition": "auto",
         "type": "bar",
         "x": [
          "Metrabs",
          "SimCC"
         ],
         "xaxis": "x",
         "y": [
          0.4030042095661357,
          0.5955094346331826
         ],
         "yaxis": "y"
        }
       ],
       "layout": {
        "barmode": "group",
        "height": 600,
        "legend": {
         "title": {
          "text": "Patient"
         },
         "tracegroupgap": 0
        },
        "margin": {
         "t": 60
        },
        "shapes": [
         {
          "line": {
           "color": "red",
           "dash": "dot"
          },
          "name": "corr = 0.9",
          "type": "line",
          "x0": 0,
          "x1": 1,
          "xref": "x domain",
          "y0": 0.9,
          "y1": 0.9,
          "yref": "y"
         }
        ],
        "template": {
         "data": {
          "bar": [
           {
            "error_x": {
             "color": "#2a3f5f"
            },
            "error_y": {
             "color": "#2a3f5f"
            },
            "marker": {
             "line": {
              "color": "#E5ECF6",
              "width": 0.5
             },
             "pattern": {
              "fillmode": "overlay",
              "size": 10,
              "solidity": 0.2
             }
            },
            "type": "bar"
           }
          ],
          "barpolar": [
           {
            "marker": {
             "line": {
              "color": "#E5ECF6",
              "width": 0.5
             },
             "pattern": {
              "fillmode": "overlay",
              "size": 10,
              "solidity": 0.2
             }
            },
            "type": "barpolar"
           }
          ],
          "carpet": [
           {
            "aaxis": {
             "endlinecolor": "#2a3f5f",
             "gridcolor": "white",
             "linecolor": "white",
             "minorgridcolor": "white",
             "startlinecolor": "#2a3f5f"
            },
            "baxis": {
             "endlinecolor": "#2a3f5f",
             "gridcolor": "white",
             "linecolor": "white",
             "minorgridcolor": "white",
             "startlinecolor": "#2a3f5f"
            },
            "type": "carpet"
           }
          ],
          "choropleth": [
           {
            "colorbar": {
             "outlinewidth": 0,
             "ticks": ""
            },
            "type": "choropleth"
           }
          ],
          "contour": [
           {
            "colorbar": {
             "outlinewidth": 0,
             "ticks": ""
            },
            "colorscale": [
             [
              0,
              "#0d0887"
             ],
             [
              0.1111111111111111,
              "#46039f"
             ],
             [
              0.2222222222222222,
              "#7201a8"
             ],
             [
              0.3333333333333333,
              "#9c179e"
             ],
             [
              0.4444444444444444,
              "#bd3786"
             ],
             [
              0.5555555555555556,
              "#d8576b"
             ],
             [
              0.6666666666666666,
              "#ed7953"
             ],
             [
              0.7777777777777778,
              "#fb9f3a"
             ],
             [
              0.8888888888888888,
              "#fdca26"
             ],
             [
              1,
              "#f0f921"
             ]
            ],
            "type": "contour"
           }
          ],
          "contourcarpet": [
           {
            "colorbar": {
             "outlinewidth": 0,
             "ticks": ""
            },
            "type": "contourcarpet"
           }
          ],
          "heatmap": [
           {
            "colorbar": {
             "outlinewidth": 0,
             "ticks": ""
            },
            "colorscale": [
             [
              0,
              "#0d0887"
             ],
             [
              0.1111111111111111,
              "#46039f"
             ],
             [
              0.2222222222222222,
              "#7201a8"
             ],
             [
              0.3333333333333333,
              "#9c179e"
             ],
             [
              0.4444444444444444,
              "#bd3786"
             ],
             [
              0.5555555555555556,
              "#d8576b"
             ],
             [
              0.6666666666666666,
              "#ed7953"
             ],
             [
              0.7777777777777778,
              "#fb9f3a"
             ],
             [
              0.8888888888888888,
              "#fdca26"
             ],
             [
              1,
              "#f0f921"
             ]
            ],
            "type": "heatmap"
           }
          ],
          "heatmapgl": [
           {
            "colorbar": {
             "outlinewidth": 0,
             "ticks": ""
            },
            "colorscale": [
             [
              0,
              "#0d0887"
             ],
             [
              0.1111111111111111,
              "#46039f"
             ],
             [
              0.2222222222222222,
              "#7201a8"
             ],
             [
              0.3333333333333333,
              "#9c179e"
             ],
             [
              0.4444444444444444,
              "#bd3786"
             ],
             [
              0.5555555555555556,
              "#d8576b"
             ],
             [
              0.6666666666666666,
              "#ed7953"
             ],
             [
              0.7777777777777778,
              "#fb9f3a"
             ],
             [
              0.8888888888888888,
              "#fdca26"
             ],
             [
              1,
              "#f0f921"
             ]
            ],
            "type": "heatmapgl"
           }
          ],
          "histogram": [
           {
            "marker": {
             "pattern": {
              "fillmode": "overlay",
              "size": 10,
              "solidity": 0.2
             }
            },
            "type": "histogram"
           }
          ],
          "histogram2d": [
           {
            "colorbar": {
             "outlinewidth": 0,
             "ticks": ""
            },
            "colorscale": [
             [
              0,
              "#0d0887"
             ],
             [
              0.1111111111111111,
              "#46039f"
             ],
             [
              0.2222222222222222,
              "#7201a8"
             ],
             [
              0.3333333333333333,
              "#9c179e"
             ],
             [
              0.4444444444444444,
              "#bd3786"
             ],
             [
              0.5555555555555556,
              "#d8576b"
             ],
             [
              0.6666666666666666,
              "#ed7953"
             ],
             [
              0.7777777777777778,
              "#fb9f3a"
             ],
             [
              0.8888888888888888,
              "#fdca26"
             ],
             [
              1,
              "#f0f921"
             ]
            ],
            "type": "histogram2d"
           }
          ],
          "histogram2dcontour": [
           {
            "colorbar": {
             "outlinewidth": 0,
             "ticks": ""
            },
            "colorscale": [
             [
              0,
              "#0d0887"
             ],
             [
              0.1111111111111111,
              "#46039f"
             ],
             [
              0.2222222222222222,
              "#7201a8"
             ],
             [
              0.3333333333333333,
              "#9c179e"
             ],
             [
              0.4444444444444444,
              "#bd3786"
             ],
             [
              0.5555555555555556,
              "#d8576b"
             ],
             [
              0.6666666666666666,
              "#ed7953"
             ],
             [
              0.7777777777777778,
              "#fb9f3a"
             ],
             [
              0.8888888888888888,
              "#fdca26"
             ],
             [
              1,
              "#f0f921"
             ]
            ],
            "type": "histogram2dcontour"
           }
          ],
          "mesh3d": [
           {
            "colorbar": {
             "outlinewidth": 0,
             "ticks": ""
            },
            "type": "mesh3d"
           }
          ],
          "parcoords": [
           {
            "line": {
             "colorbar": {
              "outlinewidth": 0,
              "ticks": ""
             }
            },
            "type": "parcoords"
           }
          ],
          "pie": [
           {
            "automargin": true,
            "type": "pie"
           }
          ],
          "scatter": [
           {
            "fillpattern": {
             "fillmode": "overlay",
             "size": 10,
             "solidity": 0.2
            },
            "type": "scatter"
           }
          ],
          "scatter3d": [
           {
            "line": {
             "colorbar": {
              "outlinewidth": 0,
              "ticks": ""
             }
            },
            "marker": {
             "colorbar": {
              "outlinewidth": 0,
              "ticks": ""
             }
            },
            "type": "scatter3d"
           }
          ],
          "scattercarpet": [
           {
            "marker": {
             "colorbar": {
              "outlinewidth": 0,
              "ticks": ""
             }
            },
            "type": "scattercarpet"
           }
          ],
          "scattergeo": [
           {
            "marker": {
             "colorbar": {
              "outlinewidth": 0,
              "ticks": ""
             }
            },
            "type": "scattergeo"
           }
          ],
          "scattergl": [
           {
            "marker": {
             "colorbar": {
              "outlinewidth": 0,
              "ticks": ""
             }
            },
            "type": "scattergl"
           }
          ],
          "scattermapbox": [
           {
            "marker": {
             "colorbar": {
              "outlinewidth": 0,
              "ticks": ""
             }
            },
            "type": "scattermapbox"
           }
          ],
          "scatterpolar": [
           {
            "marker": {
             "colorbar": {
              "outlinewidth": 0,
              "ticks": ""
             }
            },
            "type": "scatterpolar"
           }
          ],
          "scatterpolargl": [
           {
            "marker": {
             "colorbar": {
              "outlinewidth": 0,
              "ticks": ""
             }
            },
            "type": "scatterpolargl"
           }
          ],
          "scatterternary": [
           {
            "marker": {
             "colorbar": {
              "outlinewidth": 0,
              "ticks": ""
             }
            },
            "type": "scatterternary"
           }
          ],
          "surface": [
           {
            "colorbar": {
             "outlinewidth": 0,
             "ticks": ""
            },
            "colorscale": [
             [
              0,
              "#0d0887"
             ],
             [
              0.1111111111111111,
              "#46039f"
             ],
             [
              0.2222222222222222,
              "#7201a8"
             ],
             [
              0.3333333333333333,
              "#9c179e"
             ],
             [
              0.4444444444444444,
              "#bd3786"
             ],
             [
              0.5555555555555556,
              "#d8576b"
             ],
             [
              0.6666666666666666,
              "#ed7953"
             ],
             [
              0.7777777777777778,
              "#fb9f3a"
             ],
             [
              0.8888888888888888,
              "#fdca26"
             ],
             [
              1,
              "#f0f921"
             ]
            ],
            "type": "surface"
           }
          ],
          "table": [
           {
            "cells": {
             "fill": {
              "color": "#EBF0F8"
             },
             "line": {
              "color": "white"
             }
            },
            "header": {
             "fill": {
              "color": "#C8D4E3"
             },
             "line": {
              "color": "white"
             }
            },
            "type": "table"
           }
          ]
         },
         "layout": {
          "annotationdefaults": {
           "arrowcolor": "#2a3f5f",
           "arrowhead": 0,
           "arrowwidth": 1
          },
          "autotypenumbers": "strict",
          "coloraxis": {
           "colorbar": {
            "outlinewidth": 0,
            "ticks": ""
           }
          },
          "colorscale": {
           "diverging": [
            [
             0,
             "#8e0152"
            ],
            [
             0.1,
             "#c51b7d"
            ],
            [
             0.2,
             "#de77ae"
            ],
            [
             0.3,
             "#f1b6da"
            ],
            [
             0.4,
             "#fde0ef"
            ],
            [
             0.5,
             "#f7f7f7"
            ],
            [
             0.6,
             "#e6f5d0"
            ],
            [
             0.7,
             "#b8e186"
            ],
            [
             0.8,
             "#7fbc41"
            ],
            [
             0.9,
             "#4d9221"
            ],
            [
             1,
             "#276419"
            ]
           ],
           "sequential": [
            [
             0,
             "#0d0887"
            ],
            [
             0.1111111111111111,
             "#46039f"
            ],
            [
             0.2222222222222222,
             "#7201a8"
            ],
            [
             0.3333333333333333,
             "#9c179e"
            ],
            [
             0.4444444444444444,
             "#bd3786"
            ],
            [
             0.5555555555555556,
             "#d8576b"
            ],
            [
             0.6666666666666666,
             "#ed7953"
            ],
            [
             0.7777777777777778,
             "#fb9f3a"
            ],
            [
             0.8888888888888888,
             "#fdca26"
            ],
            [
             1,
             "#f0f921"
            ]
           ],
           "sequentialminus": [
            [
             0,
             "#0d0887"
            ],
            [
             0.1111111111111111,
             "#46039f"
            ],
            [
             0.2222222222222222,
             "#7201a8"
            ],
            [
             0.3333333333333333,
             "#9c179e"
            ],
            [
             0.4444444444444444,
             "#bd3786"
            ],
            [
             0.5555555555555556,
             "#d8576b"
            ],
            [
             0.6666666666666666,
             "#ed7953"
            ],
            [
             0.7777777777777778,
             "#fb9f3a"
            ],
            [
             0.8888888888888888,
             "#fdca26"
            ],
            [
             1,
             "#f0f921"
            ]
           ]
          },
          "colorway": [
           "#636efa",
           "#EF553B",
           "#00cc96",
           "#ab63fa",
           "#FFA15A",
           "#19d3f3",
           "#FF6692",
           "#B6E880",
           "#FF97FF",
           "#FECB52"
          ],
          "font": {
           "color": "#2a3f5f"
          },
          "geo": {
           "bgcolor": "white",
           "lakecolor": "white",
           "landcolor": "#E5ECF6",
           "showlakes": true,
           "showland": true,
           "subunitcolor": "white"
          },
          "hoverlabel": {
           "align": "left"
          },
          "hovermode": "closest",
          "mapbox": {
           "style": "light"
          },
          "paper_bgcolor": "white",
          "plot_bgcolor": "#E5ECF6",
          "polar": {
           "angularaxis": {
            "gridcolor": "white",
            "linecolor": "white",
            "ticks": ""
           },
           "bgcolor": "#E5ECF6",
           "radialaxis": {
            "gridcolor": "white",
            "linecolor": "white",
            "ticks": ""
           }
          },
          "scene": {
           "xaxis": {
            "backgroundcolor": "#E5ECF6",
            "gridcolor": "white",
            "gridwidth": 2,
            "linecolor": "white",
            "showbackground": true,
            "ticks": "",
            "zerolinecolor": "white"
           },
           "yaxis": {
            "backgroundcolor": "#E5ECF6",
            "gridcolor": "white",
            "gridwidth": 2,
            "linecolor": "white",
            "showbackground": true,
            "ticks": "",
            "zerolinecolor": "white"
           },
           "zaxis": {
            "backgroundcolor": "#E5ECF6",
            "gridcolor": "white",
            "gridwidth": 2,
            "linecolor": "white",
            "showbackground": true,
            "ticks": "",
            "zerolinecolor": "white"
           }
          },
          "shapedefaults": {
           "line": {
            "color": "#2a3f5f"
           }
          },
          "ternary": {
           "aaxis": {
            "gridcolor": "white",
            "linecolor": "white",
            "ticks": ""
           },
           "baxis": {
            "gridcolor": "white",
            "linecolor": "white",
            "ticks": ""
           },
           "bgcolor": "#E5ECF6",
           "caxis": {
            "gridcolor": "white",
            "linecolor": "white",
            "ticks": ""
           }
          },
          "title": {
           "x": 0.05
          },
          "xaxis": {
           "automargin": true,
           "gridcolor": "white",
           "linecolor": "white",
           "ticks": "",
           "title": {
            "standoff": 15
           },
           "zerolinecolor": "white",
           "zerolinewidth": 2
          },
          "yaxis": {
           "automargin": true,
           "gridcolor": "white",
           "linecolor": "white",
           "ticks": "",
           "title": {
            "standoff": 15
           },
           "zerolinecolor": "white",
           "zerolinewidth": 2
          }
         }
        },
        "title": {
         "text": "Pearson Correlation for multi-cam settings"
        },
        "width": 1300,
        "xaxis": {
         "anchor": "y",
         "domain": [
          0,
          1
         ],
         "title": {
          "text": "Pose Estimation Model"
         }
        },
        "yaxis": {
         "anchor": "x",
         "domain": [
          0,
          1
         ],
         "title": {
          "text": "Correlation [r]"
         }
        }
       }
      },
      "text/html": [
       "<div>                            <div id=\"9c28d7d9-fde6-4a23-a44c-a7450211e545\" class=\"plotly-graph-div\" style=\"height:600px; width:1300px;\"></div>            <script type=\"text/javascript\">                require([\"plotly\"], function(Plotly) {                    window.PLOTLYENV=window.PLOTLYENV || {};                                    if (document.getElementById(\"9c28d7d9-fde6-4a23-a44c-a7450211e545\")) {                    Plotly.newPlot(                        \"9c28d7d9-fde6-4a23-a44c-a7450211e545\",                        [{\"alignmentgroup\":\"True\",\"hovertemplate\":\"Patient=P07\\u003cbr\\u003ePose Estimation Model=%{x}\\u003cbr\\u003eCorrelation [r]=%{y}\\u003cextra\\u003e\\u003c\\u002fextra\\u003e\",\"legendgroup\":\"P07\",\"marker\":{\"color\":\"#636efa\",\"pattern\":{\"shape\":\"\"}},\"name\":\"P07\",\"offsetgroup\":\"P07\",\"orientation\":\"v\",\"showlegend\":true,\"textposition\":\"auto\",\"x\":[\"Metrabs\",\"SimCC\"],\"xaxis\":\"x\",\"y\":[0.6172819474905787,0.6424583820964918],\"yaxis\":\"y\",\"type\":\"bar\"},{\"alignmentgroup\":\"True\",\"hovertemplate\":\"Patient=P08\\u003cbr\\u003ePose Estimation Model=%{x}\\u003cbr\\u003eCorrelation [r]=%{y}\\u003cextra\\u003e\\u003c\\u002fextra\\u003e\",\"legendgroup\":\"P08\",\"marker\":{\"color\":\"#EF553B\",\"pattern\":{\"shape\":\"\"}},\"name\":\"P08\",\"offsetgroup\":\"P08\",\"orientation\":\"v\",\"showlegend\":true,\"textposition\":\"auto\",\"x\":[\"Metrabs\",\"SimCC\"],\"xaxis\":\"x\",\"y\":[0.6190472757574965,0.5911060851805052],\"yaxis\":\"y\",\"type\":\"bar\"},{\"alignmentgroup\":\"True\",\"hovertemplate\":\"Patient=P10\\u003cbr\\u003ePose Estimation Model=%{x}\\u003cbr\\u003eCorrelation [r]=%{y}\\u003cextra\\u003e\\u003c\\u002fextra\\u003e\",\"legendgroup\":\"P10\",\"marker\":{\"color\":\"#00cc96\",\"pattern\":{\"shape\":\"\"}},\"name\":\"P10\",\"offsetgroup\":\"P10\",\"orientation\":\"v\",\"showlegend\":true,\"textposition\":\"auto\",\"x\":[\"Metrabs\",\"SimCC\"],\"xaxis\":\"x\",\"y\":[0.6013934154036323,0.6494701000861817],\"yaxis\":\"y\",\"type\":\"bar\"},{\"alignmentgroup\":\"True\",\"hovertemplate\":\"Patient=P12\\u003cbr\\u003ePose Estimation Model=%{x}\\u003cbr\\u003eCorrelation [r]=%{y}\\u003cextra\\u003e\\u003c\\u002fextra\\u003e\",\"legendgroup\":\"P12\",\"marker\":{\"color\":\"#ab63fa\",\"pattern\":{\"shape\":\"\"}},\"name\":\"P12\",\"offsetgroup\":\"P12\",\"orientation\":\"v\",\"showlegend\":true,\"textposition\":\"auto\",\"x\":[\"Metrabs\",\"SimCC\"],\"xaxis\":\"x\",\"y\":[0.5160882898976573,0.44879044916938093],\"yaxis\":\"y\",\"type\":\"bar\"},{\"alignmentgroup\":\"True\",\"hovertemplate\":\"Patient=P15\\u003cbr\\u003ePose Estimation Model=%{x}\\u003cbr\\u003eCorrelation [r]=%{y}\\u003cextra\\u003e\\u003c\\u002fextra\\u003e\",\"legendgroup\":\"P15\",\"marker\":{\"color\":\"#FFA15A\",\"pattern\":{\"shape\":\"\"}},\"name\":\"P15\",\"offsetgroup\":\"P15\",\"orientation\":\"v\",\"showlegend\":true,\"textposition\":\"auto\",\"x\":[\"Metrabs\",\"SimCC\"],\"xaxis\":\"x\",\"y\":[0.2207083777977742,0.099424400626744],\"yaxis\":\"y\",\"type\":\"bar\"},{\"alignmentgroup\":\"True\",\"hovertemplate\":\"Patient=P241\\u003cbr\\u003ePose Estimation Model=%{x}\\u003cbr\\u003eCorrelation [r]=%{y}\\u003cextra\\u003e\\u003c\\u002fextra\\u003e\",\"legendgroup\":\"P241\",\"marker\":{\"color\":\"#19d3f3\",\"pattern\":{\"shape\":\"\"}},\"name\":\"P241\",\"offsetgroup\":\"P241\",\"orientation\":\"v\",\"showlegend\":true,\"textposition\":\"auto\",\"x\":[\"Metrabs\",\"SimCC\"],\"xaxis\":\"x\",\"y\":[0.79805909247282,0.5651133887997039],\"yaxis\":\"y\",\"type\":\"bar\"},{\"alignmentgroup\":\"True\",\"hovertemplate\":\"Patient=P242\\u003cbr\\u003ePose Estimation Model=%{x}\\u003cbr\\u003eCorrelation [r]=%{y}\\u003cextra\\u003e\\u003c\\u002fextra\\u003e\",\"legendgroup\":\"P242\",\"marker\":{\"color\":\"#FF6692\",\"pattern\":{\"shape\":\"\"}},\"name\":\"P242\",\"offsetgroup\":\"P242\",\"orientation\":\"v\",\"showlegend\":true,\"textposition\":\"auto\",\"x\":[\"Metrabs\",\"SimCC\"],\"xaxis\":\"x\",\"y\":[0.7399292998968072,0.5986160940738541],\"yaxis\":\"y\",\"type\":\"bar\"},{\"alignmentgroup\":\"True\",\"hovertemplate\":\"Patient=P251\\u003cbr\\u003ePose Estimation Model=%{x}\\u003cbr\\u003eCorrelation [r]=%{y}\\u003cextra\\u003e\\u003c\\u002fextra\\u003e\",\"legendgroup\":\"P251\",\"marker\":{\"color\":\"#B6E880\",\"pattern\":{\"shape\":\"\"}},\"name\":\"P251\",\"offsetgroup\":\"P251\",\"orientation\":\"v\",\"showlegend\":true,\"textposition\":\"auto\",\"x\":[\"Metrabs\",\"SimCC\"],\"xaxis\":\"x\",\"y\":[0.2935030217368603,0.39868379418749894],\"yaxis\":\"y\",\"type\":\"bar\"},{\"alignmentgroup\":\"True\",\"hovertemplate\":\"Patient=P252\\u003cbr\\u003ePose Estimation Model=%{x}\\u003cbr\\u003eCorrelation [r]=%{y}\\u003cextra\\u003e\\u003c\\u002fextra\\u003e\",\"legendgroup\":\"P252\",\"marker\":{\"color\":\"#FF97FF\",\"pattern\":{\"shape\":\"\"}},\"name\":\"P252\",\"offsetgroup\":\"P252\",\"orientation\":\"v\",\"showlegend\":true,\"textposition\":\"auto\",\"x\":[\"Metrabs\",\"SimCC\"],\"xaxis\":\"x\",\"y\":[0.4030042095661357,0.5955094346331826],\"yaxis\":\"y\",\"type\":\"bar\"}],                        {\"template\":{\"data\":{\"barpolar\":[{\"marker\":{\"line\":{\"color\":\"#E5ECF6\",\"width\":0.5},\"pattern\":{\"fillmode\":\"overlay\",\"size\":10,\"solidity\":0.2}},\"type\":\"barpolar\"}],\"bar\":[{\"error_x\":{\"color\":\"#2a3f5f\"},\"error_y\":{\"color\":\"#2a3f5f\"},\"marker\":{\"line\":{\"color\":\"#E5ECF6\",\"width\":0.5},\"pattern\":{\"fillmode\":\"overlay\",\"size\":10,\"solidity\":0.2}},\"type\":\"bar\"}],\"carpet\":[{\"aaxis\":{\"endlinecolor\":\"#2a3f5f\",\"gridcolor\":\"white\",\"linecolor\":\"white\",\"minorgridcolor\":\"white\",\"startlinecolor\":\"#2a3f5f\"},\"baxis\":{\"endlinecolor\":\"#2a3f5f\",\"gridcolor\":\"white\",\"linecolor\":\"white\",\"minorgridcolor\":\"white\",\"startlinecolor\":\"#2a3f5f\"},\"type\":\"carpet\"}],\"choropleth\":[{\"colorbar\":{\"outlinewidth\":0,\"ticks\":\"\"},\"type\":\"choropleth\"}],\"contourcarpet\":[{\"colorbar\":{\"outlinewidth\":0,\"ticks\":\"\"},\"type\":\"contourcarpet\"}],\"contour\":[{\"colorbar\":{\"outlinewidth\":0,\"ticks\":\"\"},\"colorscale\":[[0.0,\"#0d0887\"],[0.1111111111111111,\"#46039f\"],[0.2222222222222222,\"#7201a8\"],[0.3333333333333333,\"#9c179e\"],[0.4444444444444444,\"#bd3786\"],[0.5555555555555556,\"#d8576b\"],[0.6666666666666666,\"#ed7953\"],[0.7777777777777778,\"#fb9f3a\"],[0.8888888888888888,\"#fdca26\"],[1.0,\"#f0f921\"]],\"type\":\"contour\"}],\"heatmapgl\":[{\"colorbar\":{\"outlinewidth\":0,\"ticks\":\"\"},\"colorscale\":[[0.0,\"#0d0887\"],[0.1111111111111111,\"#46039f\"],[0.2222222222222222,\"#7201a8\"],[0.3333333333333333,\"#9c179e\"],[0.4444444444444444,\"#bd3786\"],[0.5555555555555556,\"#d8576b\"],[0.6666666666666666,\"#ed7953\"],[0.7777777777777778,\"#fb9f3a\"],[0.8888888888888888,\"#fdca26\"],[1.0,\"#f0f921\"]],\"type\":\"heatmapgl\"}],\"heatmap\":[{\"colorbar\":{\"outlinewidth\":0,\"ticks\":\"\"},\"colorscale\":[[0.0,\"#0d0887\"],[0.1111111111111111,\"#46039f\"],[0.2222222222222222,\"#7201a8\"],[0.3333333333333333,\"#9c179e\"],[0.4444444444444444,\"#bd3786\"],[0.5555555555555556,\"#d8576b\"],[0.6666666666666666,\"#ed7953\"],[0.7777777777777778,\"#fb9f3a\"],[0.8888888888888888,\"#fdca26\"],[1.0,\"#f0f921\"]],\"type\":\"heatmap\"}],\"histogram2dcontour\":[{\"colorbar\":{\"outlinewidth\":0,\"ticks\":\"\"},\"colorscale\":[[0.0,\"#0d0887\"],[0.1111111111111111,\"#46039f\"],[0.2222222222222222,\"#7201a8\"],[0.3333333333333333,\"#9c179e\"],[0.4444444444444444,\"#bd3786\"],[0.5555555555555556,\"#d8576b\"],[0.6666666666666666,\"#ed7953\"],[0.7777777777777778,\"#fb9f3a\"],[0.8888888888888888,\"#fdca26\"],[1.0,\"#f0f921\"]],\"type\":\"histogram2dcontour\"}],\"histogram2d\":[{\"colorbar\":{\"outlinewidth\":0,\"ticks\":\"\"},\"colorscale\":[[0.0,\"#0d0887\"],[0.1111111111111111,\"#46039f\"],[0.2222222222222222,\"#7201a8\"],[0.3333333333333333,\"#9c179e\"],[0.4444444444444444,\"#bd3786\"],[0.5555555555555556,\"#d8576b\"],[0.6666666666666666,\"#ed7953\"],[0.7777777777777778,\"#fb9f3a\"],[0.8888888888888888,\"#fdca26\"],[1.0,\"#f0f921\"]],\"type\":\"histogram2d\"}],\"histogram\":[{\"marker\":{\"pattern\":{\"fillmode\":\"overlay\",\"size\":10,\"solidity\":0.2}},\"type\":\"histogram\"}],\"mesh3d\":[{\"colorbar\":{\"outlinewidth\":0,\"ticks\":\"\"},\"type\":\"mesh3d\"}],\"parcoords\":[{\"line\":{\"colorbar\":{\"outlinewidth\":0,\"ticks\":\"\"}},\"type\":\"parcoords\"}],\"pie\":[{\"automargin\":true,\"type\":\"pie\"}],\"scatter3d\":[{\"line\":{\"colorbar\":{\"outlinewidth\":0,\"ticks\":\"\"}},\"marker\":{\"colorbar\":{\"outlinewidth\":0,\"ticks\":\"\"}},\"type\":\"scatter3d\"}],\"scattercarpet\":[{\"marker\":{\"colorbar\":{\"outlinewidth\":0,\"ticks\":\"\"}},\"type\":\"scattercarpet\"}],\"scattergeo\":[{\"marker\":{\"colorbar\":{\"outlinewidth\":0,\"ticks\":\"\"}},\"type\":\"scattergeo\"}],\"scattergl\":[{\"marker\":{\"colorbar\":{\"outlinewidth\":0,\"ticks\":\"\"}},\"type\":\"scattergl\"}],\"scattermapbox\":[{\"marker\":{\"colorbar\":{\"outlinewidth\":0,\"ticks\":\"\"}},\"type\":\"scattermapbox\"}],\"scatterpolargl\":[{\"marker\":{\"colorbar\":{\"outlinewidth\":0,\"ticks\":\"\"}},\"type\":\"scatterpolargl\"}],\"scatterpolar\":[{\"marker\":{\"colorbar\":{\"outlinewidth\":0,\"ticks\":\"\"}},\"type\":\"scatterpolar\"}],\"scatter\":[{\"fillpattern\":{\"fillmode\":\"overlay\",\"size\":10,\"solidity\":0.2},\"type\":\"scatter\"}],\"scatterternary\":[{\"marker\":{\"colorbar\":{\"outlinewidth\":0,\"ticks\":\"\"}},\"type\":\"scatterternary\"}],\"surface\":[{\"colorbar\":{\"outlinewidth\":0,\"ticks\":\"\"},\"colorscale\":[[0.0,\"#0d0887\"],[0.1111111111111111,\"#46039f\"],[0.2222222222222222,\"#7201a8\"],[0.3333333333333333,\"#9c179e\"],[0.4444444444444444,\"#bd3786\"],[0.5555555555555556,\"#d8576b\"],[0.6666666666666666,\"#ed7953\"],[0.7777777777777778,\"#fb9f3a\"],[0.8888888888888888,\"#fdca26\"],[1.0,\"#f0f921\"]],\"type\":\"surface\"}],\"table\":[{\"cells\":{\"fill\":{\"color\":\"#EBF0F8\"},\"line\":{\"color\":\"white\"}},\"header\":{\"fill\":{\"color\":\"#C8D4E3\"},\"line\":{\"color\":\"white\"}},\"type\":\"table\"}]},\"layout\":{\"annotationdefaults\":{\"arrowcolor\":\"#2a3f5f\",\"arrowhead\":0,\"arrowwidth\":1},\"autotypenumbers\":\"strict\",\"coloraxis\":{\"colorbar\":{\"outlinewidth\":0,\"ticks\":\"\"}},\"colorscale\":{\"diverging\":[[0,\"#8e0152\"],[0.1,\"#c51b7d\"],[0.2,\"#de77ae\"],[0.3,\"#f1b6da\"],[0.4,\"#fde0ef\"],[0.5,\"#f7f7f7\"],[0.6,\"#e6f5d0\"],[0.7,\"#b8e186\"],[0.8,\"#7fbc41\"],[0.9,\"#4d9221\"],[1,\"#276419\"]],\"sequential\":[[0.0,\"#0d0887\"],[0.1111111111111111,\"#46039f\"],[0.2222222222222222,\"#7201a8\"],[0.3333333333333333,\"#9c179e\"],[0.4444444444444444,\"#bd3786\"],[0.5555555555555556,\"#d8576b\"],[0.6666666666666666,\"#ed7953\"],[0.7777777777777778,\"#fb9f3a\"],[0.8888888888888888,\"#fdca26\"],[1.0,\"#f0f921\"]],\"sequentialminus\":[[0.0,\"#0d0887\"],[0.1111111111111111,\"#46039f\"],[0.2222222222222222,\"#7201a8\"],[0.3333333333333333,\"#9c179e\"],[0.4444444444444444,\"#bd3786\"],[0.5555555555555556,\"#d8576b\"],[0.6666666666666666,\"#ed7953\"],[0.7777777777777778,\"#fb9f3a\"],[0.8888888888888888,\"#fdca26\"],[1.0,\"#f0f921\"]]},\"colorway\":[\"#636efa\",\"#EF553B\",\"#00cc96\",\"#ab63fa\",\"#FFA15A\",\"#19d3f3\",\"#FF6692\",\"#B6E880\",\"#FF97FF\",\"#FECB52\"],\"font\":{\"color\":\"#2a3f5f\"},\"geo\":{\"bgcolor\":\"white\",\"lakecolor\":\"white\",\"landcolor\":\"#E5ECF6\",\"showlakes\":true,\"showland\":true,\"subunitcolor\":\"white\"},\"hoverlabel\":{\"align\":\"left\"},\"hovermode\":\"closest\",\"mapbox\":{\"style\":\"light\"},\"paper_bgcolor\":\"white\",\"plot_bgcolor\":\"#E5ECF6\",\"polar\":{\"angularaxis\":{\"gridcolor\":\"white\",\"linecolor\":\"white\",\"ticks\":\"\"},\"bgcolor\":\"#E5ECF6\",\"radialaxis\":{\"gridcolor\":\"white\",\"linecolor\":\"white\",\"ticks\":\"\"}},\"scene\":{\"xaxis\":{\"backgroundcolor\":\"#E5ECF6\",\"gridcolor\":\"white\",\"gridwidth\":2,\"linecolor\":\"white\",\"showbackground\":true,\"ticks\":\"\",\"zerolinecolor\":\"white\"},\"yaxis\":{\"backgroundcolor\":\"#E5ECF6\",\"gridcolor\":\"white\",\"gridwidth\":2,\"linecolor\":\"white\",\"showbackground\":true,\"ticks\":\"\",\"zerolinecolor\":\"white\"},\"zaxis\":{\"backgroundcolor\":\"#E5ECF6\",\"gridcolor\":\"white\",\"gridwidth\":2,\"linecolor\":\"white\",\"showbackground\":true,\"ticks\":\"\",\"zerolinecolor\":\"white\"}},\"shapedefaults\":{\"line\":{\"color\":\"#2a3f5f\"}},\"ternary\":{\"aaxis\":{\"gridcolor\":\"white\",\"linecolor\":\"white\",\"ticks\":\"\"},\"baxis\":{\"gridcolor\":\"white\",\"linecolor\":\"white\",\"ticks\":\"\"},\"bgcolor\":\"#E5ECF6\",\"caxis\":{\"gridcolor\":\"white\",\"linecolor\":\"white\",\"ticks\":\"\"}},\"title\":{\"x\":0.05},\"xaxis\":{\"automargin\":true,\"gridcolor\":\"white\",\"linecolor\":\"white\",\"ticks\":\"\",\"title\":{\"standoff\":15},\"zerolinecolor\":\"white\",\"zerolinewidth\":2},\"yaxis\":{\"automargin\":true,\"gridcolor\":\"white\",\"linecolor\":\"white\",\"ticks\":\"\",\"title\":{\"standoff\":15},\"zerolinecolor\":\"white\",\"zerolinewidth\":2}}},\"xaxis\":{\"anchor\":\"y\",\"domain\":[0.0,1.0],\"title\":{\"text\":\"Pose Estimation Model\"}},\"yaxis\":{\"anchor\":\"x\",\"domain\":[0.0,1.0],\"title\":{\"text\":\"Correlation [r]\"}},\"legend\":{\"title\":{\"text\":\"Patient\"},\"tracegroupgap\":0},\"margin\":{\"t\":60},\"barmode\":\"group\",\"shapes\":[{\"line\":{\"color\":\"red\",\"dash\":\"dot\"},\"name\":\"corr = 0.9\",\"type\":\"line\",\"x0\":0,\"x1\":1,\"xref\":\"x domain\",\"y0\":0.9,\"y1\":0.9,\"yref\":\"y\"}],\"title\":{\"text\":\"Pearson Correlation for multi-cam settings\"},\"width\":1300,\"height\":600},                        {\"responsive\": true}                    ).then(function(){\n",
       "                            \n",
       "var gd = document.getElementById('9c28d7d9-fde6-4a23-a44c-a7450211e545');\n",
       "var x = new MutationObserver(function (mutations, observer) {{\n",
       "        var display = window.getComputedStyle(gd).display;\n",
       "        if (!display || display === 'none') {{\n",
       "            console.log([gd, 'removed!']);\n",
       "            Plotly.purge(gd);\n",
       "            observer.disconnect();\n",
       "        }}\n",
       "}});\n",
       "\n",
       "// Listen for the removal of the full notebook cells\n",
       "var notebookContainer = gd.closest('#notebook-container');\n",
       "if (notebookContainer) {{\n",
       "    x.observe(notebookContainer, {childList: true});\n",
       "}}\n",
       "\n",
       "// Listen for the clearing of the current output cell\n",
       "var outputEl = gd.closest('.output');\n",
       "if (outputEl) {{\n",
       "    x.observe(outputEl, {childList: true});\n",
       "}}\n",
       "\n",
       "                        })                };                });            </script>        </div>"
      ]
     },
     "metadata": {},
     "output_type": "display_data"
    }
   ],
   "source": [
    "fig = px.bar(df_plot, x= 'ml', y='correlation', color='id_p', template = 'plotly', barmode='group', labels={\"id_p\": \"Patient\", \"ml\": \"Pose Estimation Model\", 'correlation': 'Correlation [r]'})\n",
    "\n",
    "fig.add_hline(y=0.9, line_dash='dot', line_color='red', name = 'corr = 0.9')\n",
    "\n",
    "fig.update_layout(title= f'Pearson Correlation for multi-cam settings',\n",
    "                  width=1300, height=600\n",
    "          )\n",
    "\n",
    "os.makedirs(os.path.join(dir_plots_cont, '04_correlation'), exist_ok=True)\n",
    "\n",
    "path = os.path.join(dir_plots_cont, '04_correlation', f'pearson_corr_multi_cam_model.html')\n",
    "fig.write_html(path)\n",
    "\n",
    "path = os.path.join(dir_plots_cont, '04_correlation', f'pearson_corr_multi_cam_model.png')\n",
    "fig.write_image(path, scale = 5)\n",
    "fig.show()\n"
   ]
  },
  {
   "cell_type": "code",
   "execution_count": 13,
   "id": "fb9d366acb2fd51c",
   "metadata": {
    "ExecuteTime": {
     "end_time": "2024-12-31T09:19:40.373636Z",
     "start_time": "2024-12-31T09:19:40.360054Z"
    }
   },
   "outputs": [
    {
     "data": {
      "text/html": [
       "<div>\n",
       "<style scoped>\n",
       "    .dataframe tbody tr th:only-of-type {\n",
       "        vertical-align: middle;\n",
       "    }\n",
       "\n",
       "    .dataframe tbody tr th {\n",
       "        vertical-align: top;\n",
       "    }\n",
       "\n",
       "    .dataframe thead th {\n",
       "        text-align: right;\n",
       "    }\n",
       "</style>\n",
       "<table border=\"1\" class=\"dataframe\">\n",
       "  <thead>\n",
       "    <tr style=\"text-align: right;\">\n",
       "      <th></th>\n",
       "      <th>id_p</th>\n",
       "      <th>ml</th>\n",
       "      <th>correlation</th>\n",
       "      <th>p_value</th>\n",
       "    </tr>\n",
       "  </thead>\n",
       "  <tbody>\n",
       "    <tr>\n",
       "      <th>0</th>\n",
       "      <td>P07</td>\n",
       "      <td>Metrabs</td>\n",
       "      <td>0.617282</td>\n",
       "      <td>0.022210</td>\n",
       "    </tr>\n",
       "    <tr>\n",
       "      <th>1</th>\n",
       "      <td>P07</td>\n",
       "      <td>SimCC</td>\n",
       "      <td>0.642458</td>\n",
       "      <td>0.031843</td>\n",
       "    </tr>\n",
       "    <tr>\n",
       "      <th>2</th>\n",
       "      <td>P08</td>\n",
       "      <td>Metrabs</td>\n",
       "      <td>0.619047</td>\n",
       "      <td>0.054934</td>\n",
       "    </tr>\n",
       "    <tr>\n",
       "      <th>3</th>\n",
       "      <td>P08</td>\n",
       "      <td>SimCC</td>\n",
       "      <td>0.591106</td>\n",
       "      <td>0.015088</td>\n",
       "    </tr>\n",
       "    <tr>\n",
       "      <th>4</th>\n",
       "      <td>P10</td>\n",
       "      <td>Metrabs</td>\n",
       "      <td>0.601393</td>\n",
       "      <td>0.027641</td>\n",
       "    </tr>\n",
       "    <tr>\n",
       "      <th>5</th>\n",
       "      <td>P10</td>\n",
       "      <td>SimCC</td>\n",
       "      <td>0.649470</td>\n",
       "      <td>0.022652</td>\n",
       "    </tr>\n",
       "    <tr>\n",
       "      <th>6</th>\n",
       "      <td>P12</td>\n",
       "      <td>Metrabs</td>\n",
       "      <td>0.516088</td>\n",
       "      <td>0.036265</td>\n",
       "    </tr>\n",
       "    <tr>\n",
       "      <th>7</th>\n",
       "      <td>P12</td>\n",
       "      <td>SimCC</td>\n",
       "      <td>0.448790</td>\n",
       "      <td>0.063633</td>\n",
       "    </tr>\n",
       "    <tr>\n",
       "      <th>8</th>\n",
       "      <td>P15</td>\n",
       "      <td>Metrabs</td>\n",
       "      <td>0.220708</td>\n",
       "      <td>0.150686</td>\n",
       "    </tr>\n",
       "    <tr>\n",
       "      <th>9</th>\n",
       "      <td>P15</td>\n",
       "      <td>SimCC</td>\n",
       "      <td>0.099424</td>\n",
       "      <td>0.155695</td>\n",
       "    </tr>\n",
       "    <tr>\n",
       "      <th>10</th>\n",
       "      <td>P241</td>\n",
       "      <td>Metrabs</td>\n",
       "      <td>0.798059</td>\n",
       "      <td>0.011604</td>\n",
       "    </tr>\n",
       "    <tr>\n",
       "      <th>11</th>\n",
       "      <td>P241</td>\n",
       "      <td>SimCC</td>\n",
       "      <td>0.565113</td>\n",
       "      <td>0.039610</td>\n",
       "    </tr>\n",
       "    <tr>\n",
       "      <th>12</th>\n",
       "      <td>P242</td>\n",
       "      <td>Metrabs</td>\n",
       "      <td>0.739929</td>\n",
       "      <td>0.008451</td>\n",
       "    </tr>\n",
       "    <tr>\n",
       "      <th>13</th>\n",
       "      <td>P242</td>\n",
       "      <td>SimCC</td>\n",
       "      <td>0.598616</td>\n",
       "      <td>0.047965</td>\n",
       "    </tr>\n",
       "    <tr>\n",
       "      <th>14</th>\n",
       "      <td>P251</td>\n",
       "      <td>Metrabs</td>\n",
       "      <td>0.293503</td>\n",
       "      <td>0.162436</td>\n",
       "    </tr>\n",
       "    <tr>\n",
       "      <th>15</th>\n",
       "      <td>P251</td>\n",
       "      <td>SimCC</td>\n",
       "      <td>0.398684</td>\n",
       "      <td>0.086764</td>\n",
       "    </tr>\n",
       "    <tr>\n",
       "      <th>16</th>\n",
       "      <td>P252</td>\n",
       "      <td>Metrabs</td>\n",
       "      <td>0.403004</td>\n",
       "      <td>0.114691</td>\n",
       "    </tr>\n",
       "    <tr>\n",
       "      <th>17</th>\n",
       "      <td>P252</td>\n",
       "      <td>SimCC</td>\n",
       "      <td>0.595509</td>\n",
       "      <td>0.073756</td>\n",
       "    </tr>\n",
       "  </tbody>\n",
       "</table>\n",
       "</div>"
      ],
      "text/plain": [
       "    id_p       ml  correlation   p_value\n",
       "0    P07  Metrabs     0.617282  0.022210\n",
       "1    P07    SimCC     0.642458  0.031843\n",
       "2    P08  Metrabs     0.619047  0.054934\n",
       "3    P08    SimCC     0.591106  0.015088\n",
       "4    P10  Metrabs     0.601393  0.027641\n",
       "5    P10    SimCC     0.649470  0.022652\n",
       "6    P12  Metrabs     0.516088  0.036265\n",
       "7    P12    SimCC     0.448790  0.063633\n",
       "8    P15  Metrabs     0.220708  0.150686\n",
       "9    P15    SimCC     0.099424  0.155695\n",
       "10  P241  Metrabs     0.798059  0.011604\n",
       "11  P241    SimCC     0.565113  0.039610\n",
       "12  P242  Metrabs     0.739929  0.008451\n",
       "13  P242    SimCC     0.598616  0.047965\n",
       "14  P251  Metrabs     0.293503  0.162436\n",
       "15  P251    SimCC     0.398684  0.086764\n",
       "16  P252  Metrabs     0.403004  0.114691\n",
       "17  P252    SimCC     0.595509  0.073756"
      ]
     },
     "execution_count": 13,
     "metadata": {},
     "output_type": "execute_result"
    }
   ],
   "source": [
    "df_plot"
   ]
  },
  {
   "cell_type": "markdown",
   "id": "38d6bb94a8a0c706",
   "metadata": {},
   "source": [
    "Settings using less than five cameras show bad performance.\n",
    "### SingleCam"
   ]
  },
  {
   "cell_type": "code",
   "execution_count": 29,
   "id": "57c2c9d335ddd502",
   "metadata": {
    "ExecuteTime": {
     "end_time": "2024-12-25T09:34:30.167293Z",
     "start_time": "2024-12-25T09:34:30.133105Z"
    }
   },
   "outputs": [],
   "source": [
    "df_plot = pd.DataFrame(columns = ['id_s', 'id_s_name', 'id_p', 'correlation', 'p_value'])\n",
    "df_grouped = df_corr_ts[(df_corr_ts['dynamic'] == 'fixed') & (df_corr_ts['id_s'].isin(idx_s_singlecam))].groupby(['id_s', 'id_p']).mean(numeric_only=True)\n",
    "\n",
    "for index in df_grouped.index:\n",
    "    id_s = index[0]\n",
    "    id_p = index[1]\n",
    "    r = df_grouped.loc[index]['pearson']\n",
    "    p = df_grouped.loc[index]['pearson_p']\n",
    "    id_s_name = get_setting_axis_name(id_s)\n",
    "    \n",
    "    df_plot = pd.concat([df_plot, pd.DataFrame([[id_s, id_s_name, id_p, r, p]], columns = ['id_s', 'id_s_name', 'id_p', 'correlation', 'p_value'], index = [0])], ignore_index=True)\n",
    "    df_plot.sort_values(by='id_s', inplace=True)"
   ]
  },
  {
   "cell_type": "code",
   "execution_count": 30,
   "id": "f556a66b269e3cc6",
   "metadata": {
    "ExecuteTime": {
     "end_time": "2024-12-25T09:34:30.373289Z",
     "start_time": "2024-12-25T09:34:30.232418Z"
    }
   },
   "outputs": [],
   "source": [
    "fig = px.bar(df_plot, x='id_s', y='correlation', color='id_p', template = 'plotly', barmode='group', labels={\"id_p\": \"Patient\"})\n",
    "\n",
    "fig.add_hline(y=0.9, line_dash='dot', line_color='red', name = 'corr = 0.9')\n",
    "\n",
    "fig.update_layout(title= f'Pearson Correlation for single-cam settings',\n",
    "                  xaxis_title=f'Setting',\n",
    "                  yaxis_title=f'Correlation [r]',\n",
    "                  width=1300, height=600\n",
    "                  )\n",
    "\n",
    "path = os.path.join(dir_plots_cont, '04_correlation', 'pearson_corr_single_cam.html')\n",
    "fig.write_html(path)\n",
    "\n",
    "path = os.path.join(dir_plots_cont, '04_correlation', 'pearson_corr_single_cam.png')\n",
    "fig.write_image(path)\n"
   ]
  },
  {
   "cell_type": "markdown",
   "id": "5f4ff75ab352c7dc",
   "metadata": {},
   "source": [
    "### All Settings"
   ]
  },
  {
   "cell_type": "code",
   "execution_count": 16,
   "id": "18e878fdfcc692b2",
   "metadata": {
    "ExecuteTime": {
     "end_time": "2024-12-31T09:20:17.776264Z",
     "start_time": "2024-12-31T09:20:17.770775Z"
    }
   },
   "outputs": [],
   "source": [
    "idx_s_to_use = idx_s_reduced if reduced_analysis else idx_s_full\n",
    "idx_p_to_use = [p for p in df_corr_ts['id_p'].unique() if p not in ignore_id_p]"
   ]
  },
  {
   "cell_type": "code",
   "execution_count": 17,
   "id": "632a97f6da2be907",
   "metadata": {
    "ExecuteTime": {
     "end_time": "2024-12-31T09:20:20.388340Z",
     "start_time": "2024-12-31T09:20:20.294174Z"
    }
   },
   "outputs": [],
   "source": [
    "df_plot = pd.DataFrame(columns = ['id_s', 'id_s_name', 'id_p', 'correlation', 'p_value'])\n",
    "df_grouped = df_corr_ts[(df_corr_ts['dynamic'] == 'fixed') & (df_corr_ts['id_s'].isin(idx_s_to_use)) & (df_corr_ts['id_p'].isin(idx_p_to_use))].groupby(['id_s', 'id_p']).mean(numeric_only=True)\n",
    "\n",
    "for index in df_grouped.index:\n",
    "    id_s = index[0]\n",
    "    id_p = index[1]\n",
    "    r = df_grouped.loc[index]['pearson']\n",
    "    p = df_grouped.loc[index]['pearson_p']\n",
    "    id_s_name = get_setting_axis_name(id_s)\n",
    "    \n",
    "    df_plot = pd.concat([df_plot, pd.DataFrame([[id_s, id_s_name, id_p, r, p]], columns = ['id_s', 'id_s_name',  'id_p', 'correlation', 'p_value'], index = [0])], ignore_index=True)\n",
    "    df_plot.sort_values(by='id_s', inplace=True)"
   ]
  },
  {
   "cell_type": "code",
   "execution_count": 21,
   "id": "5427b167f5df90e7",
   "metadata": {
    "ExecuteTime": {
     "end_time": "2024-12-31T09:22:36.138767Z",
     "start_time": "2024-12-31T09:22:36.132930Z"
    }
   },
   "outputs": [],
   "source": [
    "df_latex = df_plot.groupby(['id_s_name'], as_index=False).mean(numeric_only=True).round(2)\n",
    "df_latex.drop(columns=['p_value'], inplace=True)"
   ]
  },
  {
   "cell_type": "code",
   "execution_count": 25,
   "id": "7618f1edb4c45d75",
   "metadata": {
    "ExecuteTime": {
     "end_time": "2024-12-31T09:23:50.222521Z",
     "start_time": "2024-12-31T09:23:50.214431Z"
    }
   },
   "outputs": [
    {
     "name": "stdout",
     "output_type": "stream",
     "text": [
      "\\begin{table}\n",
      "\\caption{Pearson Correlation of time-series for all Settings}\n",
      "\\label{tab:app:cont:pearson_corr_all}\n",
      "\\begin{tabular}{llr}\n",
      " & id_s_name & correlation \\\\\n",
      "0 & Metrabs, Cams: 1,2,3,4,5 & 0.870000 \\\\\n",
      "1 & Metrabs, Cams: 1,3,5 & 0.380000 \\\\\n",
      "2 & Metrabs, Cams: 2,3,4 & 0.540000 \\\\\n",
      "3 & Metrabs, Cams: 2,4 & 0.420000 \\\\\n",
      "4 & Metrabs, Cams: 6,7,8,9,10 & 0.010000 \\\\\n",
      "5 & Metrabs, Cams: 6,8,10 & 0.190000 \\\\\n",
      "6 & Metrabs, Cams: 7,8,9 & 0.080000 \\\\\n",
      "7 & Metrabs, Cams: 7,9 & 0.120000 \\\\\n",
      "8 & SimCC, Cams: 1,2,3,4,5 & 0.830000 \\\\\n",
      "9 & SimCC, Cams: 1,3,5 & 0.240000 \\\\\n",
      "10 & SimCC, Cams: 2,3,4 & 0.350000 \\\\\n",
      "11 & SimCC, Cams: 2,4 & 0.480000 \\\\\n",
      "12 & SimCC, Cams: 6,7,8,9,10 & 0.030000 \\\\\n",
      "13 & SimCC, Cams: 6,8,10 & 0.030000 \\\\\n",
      "14 & SimCC, Cams: 7,8,9 & 0.040000 \\\\\n",
      "15 & SimCC, Cams: 7,9 & 0.010000 \\\\\n",
      "16 & Single, Cam: 1, filt & 0.810000 \\\\\n",
      "17 & Single, Cam: 1, unfilt & 0.770000 \\\\\n",
      "\\end{tabular}\n",
      "\\end{table}\n",
      "\n"
     ]
    }
   ],
   "source": [
    "print(df_latex.style.to_latex(caption = 'Pearson Correlation of time-series for all Settings',\n",
    "                              label = 'tab:app:cont:pearson_corr_all'))"
   ]
  },
  {
   "cell_type": "code",
   "execution_count": 33,
   "id": "e0811a9e72c7e405",
   "metadata": {
    "ExecuteTime": {
     "end_time": "2024-12-25T09:34:31.257570Z",
     "start_time": "2024-12-25T09:34:30.826715Z"
    }
   },
   "outputs": [],
   "source": [
    "fig = px.bar(df_plot.sort_values(by='id_s'), x='id_s_name', y='correlation', color='id_p', template = 'plotly', barmode='group', labels={\"id_p\": \"Patient\"})\n",
    "\n",
    "fig.add_hline(y=0.9, line_dash='dot', line_color='red', name = 'corr = 0.9')\n",
    "\n",
    "fig.update_layout(title= f'Mean Pearson Correlation for settings and patients',\n",
    "                  xaxis_title=f'Setting',\n",
    "                  yaxis_title=f'Correlation [r]',\n",
    "                  width=1300, height=600\n",
    "          )\n",
    "\n",
    "path = os.path.join(dir_plots_cont, '04_correlation', f'pearson_corr_all_settings{file_app}.html')\n",
    "fig.write_html(path)\n",
    "\n",
    "path = os.path.join(dir_plots_cont, '04_correlation', f'pearson_corr_all_settings{file_app}.png')\n",
    "fig.write_image(path, scale = 5)\n"
   ]
  },
  {
   "cell_type": "code",
   "execution_count": 34,
   "id": "e119b22388b9a690",
   "metadata": {
    "ExecuteTime": {
     "end_time": "2024-12-25T09:34:31.336651Z",
     "start_time": "2024-12-25T09:34:31.326637Z"
    }
   },
   "outputs": [
    {
     "data": {
      "text/html": [
       "<div>\n",
       "<style scoped>\n",
       "    .dataframe tbody tr th:only-of-type {\n",
       "        vertical-align: middle;\n",
       "    }\n",
       "\n",
       "    .dataframe tbody tr th {\n",
       "        vertical-align: top;\n",
       "    }\n",
       "\n",
       "    .dataframe thead th {\n",
       "        text-align: right;\n",
       "    }\n",
       "</style>\n",
       "<table border=\"1\" class=\"dataframe\">\n",
       "  <thead>\n",
       "    <tr style=\"text-align: right;\">\n",
       "      <th></th>\n",
       "      <th>id_s</th>\n",
       "      <th>id_p</th>\n",
       "      <th>id_t</th>\n",
       "      <th>dynamic</th>\n",
       "      <th>metric</th>\n",
       "      <th>pearson</th>\n",
       "      <th>pearson_p</th>\n",
       "    </tr>\n",
       "  </thead>\n",
       "  <tbody>\n",
       "    <tr>\n",
       "      <th>0</th>\n",
       "      <td>S023</td>\n",
       "      <td>P07</td>\n",
       "      <td>T011</td>\n",
       "      <td>fixed</td>\n",
       "      <td>hand_vel</td>\n",
       "      <td>0.937507</td>\n",
       "      <td>1.791011e-241</td>\n",
       "    </tr>\n",
       "    <tr>\n",
       "      <th>1</th>\n",
       "      <td>S023</td>\n",
       "      <td>P07</td>\n",
       "      <td>T011</td>\n",
       "      <td>fixed</td>\n",
       "      <td>elbow_vel</td>\n",
       "      <td>0.968818</td>\n",
       "      <td>1.784763e-318</td>\n",
       "    </tr>\n",
       "    <tr>\n",
       "      <th>2</th>\n",
       "      <td>S023</td>\n",
       "      <td>P07</td>\n",
       "      <td>T011</td>\n",
       "      <td>fixed</td>\n",
       "      <td>trunk_disp</td>\n",
       "      <td>0.912600</td>\n",
       "      <td>6.622425e-205</td>\n",
       "    </tr>\n",
       "    <tr>\n",
       "      <th>3</th>\n",
       "      <td>S023</td>\n",
       "      <td>P07</td>\n",
       "      <td>T011</td>\n",
       "      <td>fixed</td>\n",
       "      <td>elbow_flex_pos</td>\n",
       "      <td>0.991970</td>\n",
       "      <td>0.000000e+00</td>\n",
       "    </tr>\n",
       "    <tr>\n",
       "      <th>4</th>\n",
       "      <td>S023</td>\n",
       "      <td>P07</td>\n",
       "      <td>T011</td>\n",
       "      <td>fixed</td>\n",
       "      <td>shoulder_flex_pos</td>\n",
       "      <td>0.976410</td>\n",
       "      <td>0.000000e+00</td>\n",
       "    </tr>\n",
       "    <tr>\n",
       "      <th>...</th>\n",
       "      <td>...</td>\n",
       "      <td>...</td>\n",
       "      <td>...</td>\n",
       "      <td>...</td>\n",
       "      <td>...</td>\n",
       "      <td>...</td>\n",
       "      <td>...</td>\n",
       "    </tr>\n",
       "    <tr>\n",
       "      <th>54811</th>\n",
       "      <td>S001</td>\n",
       "      <td>P252</td>\n",
       "      <td>T048</td>\n",
       "      <td>fixed</td>\n",
       "      <td>elbow_vel</td>\n",
       "      <td>0.957496</td>\n",
       "      <td>8.581049e-288</td>\n",
       "    </tr>\n",
       "    <tr>\n",
       "      <th>54812</th>\n",
       "      <td>S001</td>\n",
       "      <td>P252</td>\n",
       "      <td>T048</td>\n",
       "      <td>fixed</td>\n",
       "      <td>trunk_disp</td>\n",
       "      <td>0.994917</td>\n",
       "      <td>0.000000e+00</td>\n",
       "    </tr>\n",
       "    <tr>\n",
       "      <th>54813</th>\n",
       "      <td>S001</td>\n",
       "      <td>P252</td>\n",
       "      <td>T048</td>\n",
       "      <td>fixed</td>\n",
       "      <td>elbow_flex_pos</td>\n",
       "      <td>0.993108</td>\n",
       "      <td>0.000000e+00</td>\n",
       "    </tr>\n",
       "    <tr>\n",
       "      <th>54814</th>\n",
       "      <td>S001</td>\n",
       "      <td>P252</td>\n",
       "      <td>T048</td>\n",
       "      <td>fixed</td>\n",
       "      <td>shoulder_flex_pos</td>\n",
       "      <td>0.963977</td>\n",
       "      <td>2.025946e-306</td>\n",
       "    </tr>\n",
       "    <tr>\n",
       "      <th>54815</th>\n",
       "      <td>S001</td>\n",
       "      <td>P252</td>\n",
       "      <td>T048</td>\n",
       "      <td>fixed</td>\n",
       "      <td>shoulder_abduction_pos</td>\n",
       "      <td>0.832467</td>\n",
       "      <td>9.268914e-138</td>\n",
       "    </tr>\n",
       "  </tbody>\n",
       "</table>\n",
       "<p>43284 rows × 7 columns</p>\n",
       "</div>"
      ],
      "text/plain": [
       "       id_s  id_p  id_t dynamic                  metric   pearson  \\\n",
       "0      S023   P07  T011   fixed                hand_vel  0.937507   \n",
       "1      S023   P07  T011   fixed               elbow_vel  0.968818   \n",
       "2      S023   P07  T011   fixed              trunk_disp  0.912600   \n",
       "3      S023   P07  T011   fixed          elbow_flex_pos  0.991970   \n",
       "4      S023   P07  T011   fixed       shoulder_flex_pos  0.976410   \n",
       "...     ...   ...   ...     ...                     ...       ...   \n",
       "54811  S001  P252  T048   fixed               elbow_vel  0.957496   \n",
       "54812  S001  P252  T048   fixed              trunk_disp  0.994917   \n",
       "54813  S001  P252  T048   fixed          elbow_flex_pos  0.993108   \n",
       "54814  S001  P252  T048   fixed       shoulder_flex_pos  0.963977   \n",
       "54815  S001  P252  T048   fixed  shoulder_abduction_pos  0.832467   \n",
       "\n",
       "           pearson_p  \n",
       "0      1.791011e-241  \n",
       "1      1.784763e-318  \n",
       "2      6.622425e-205  \n",
       "3       0.000000e+00  \n",
       "4       0.000000e+00  \n",
       "...              ...  \n",
       "54811  8.581049e-288  \n",
       "54812   0.000000e+00  \n",
       "54813   0.000000e+00  \n",
       "54814  2.025946e-306  \n",
       "54815  9.268914e-138  \n",
       "\n",
       "[43284 rows x 7 columns]"
      ]
     },
     "execution_count": 34,
     "metadata": {},
     "output_type": "execute_result"
    }
   ],
   "source": [
    "df_corr_ts"
   ]
  },
  {
   "cell_type": "code",
   "execution_count": 35,
   "id": "2aed28f077f26021",
   "metadata": {
    "ExecuteTime": {
     "end_time": "2024-12-25T09:34:31.492366Z",
     "start_time": "2024-12-25T09:34:31.440672Z"
    }
   },
   "outputs": [],
   "source": [
    "df_plot = pd.DataFrame(columns = ['id_s', 'id_s_name', 'id_p', 'correlation', 'p_value'])\n",
    "df_grouped = df_corr_ts[(df_corr_ts['dynamic'] == 'fixed') & (df_corr_ts['id_s'].isin(idx_s_to_use)) & (df_corr_ts['id_p'].isin(idx_p_to_use))].groupby(['id_s', 'metric']).mean(numeric_only=True)\n",
    "\n",
    "for index in df_grouped.index:\n",
    "    id_s = index[0]\n",
    "    metric = index[1]\n",
    "    r = df_grouped.loc[index]['pearson']\n",
    "    p = df_grouped.loc[index]['pearson_p']\n",
    "    id_s_name = get_setting_axis_name(id_s)\n",
    "    \n",
    "    df_plot = pd.concat([df_plot, pd.DataFrame([[id_s, id_s_name, metric, r, p]], columns = ['id_s', 'id_s_name', 'metric', 'correlation', 'p_value'], index = [0])], ignore_index=True)\n",
    "    df_plot.sort_values(by='id_s', inplace=True)\n",
    "\n",
    "df_plot['metric'] = df_plot['metric'].apply(lambda x: get_title_measure_name(x, add_unit = False))"
   ]
  },
  {
   "cell_type": "code",
   "execution_count": 36,
   "id": "3cb4dba3749e3fdf",
   "metadata": {
    "ExecuteTime": {
     "end_time": "2024-12-25T09:34:32.060603Z",
     "start_time": "2024-12-25T09:34:31.685599Z"
    }
   },
   "outputs": [],
   "source": [
    "fig = px.bar(df_plot.sort_values(by='id_s'), x='id_s_name', y='correlation', color='metric', template = 'plotly', barmode='group', labels={\"metric\": \"Kin. metrics\"})\n",
    "\n",
    "fig.add_hline(y=0.9, line_dash='dot', line_color='red', name = 'corr = 0.9')\n",
    "\n",
    "fig.update_layout(title= dict(text=f'<b>Pearson Correlation for chosen settings and kinematic metrics<b>', font=dict(size=20)),\n",
    "                  yaxis_title=dict(text=f'<b>Mean Correlation [r]<b>', font=dict(size=18)),\n",
    "                  xaxis_title=dict(text='<b>Settings<b>', font=dict(size=18)),\n",
    "                  xaxis = dict(tickfont=dict(size=16)),\n",
    "                  width=1000, height=500\n",
    "                  )\n",
    "\n",
    "path = os.path.join(dir_plots_cont, '04_correlation', f'pearson_corr_kinematics{file_app}.html')\n",
    "fig.write_html(path)\n",
    "\n",
    "path = os.path.join(dir_plots_cont, '04_correlation', f'0307_pearson_corr_kinematics{file_app}.png')\n",
    "fig.write_image(path, scale = 5)"
   ]
  },
  {
   "cell_type": "code",
   "execution_count": 37,
   "id": "d39aa719e7786c20",
   "metadata": {
    "ExecuteTime": {
     "end_time": "2024-12-25T09:34:32.150950Z",
     "start_time": "2024-12-25T09:34:32.142360Z"
    }
   },
   "outputs": [
    {
     "data": {
      "application/vnd.plotly.v1+json": {
       "config": {
        "plotlyServerURL": "https://plot.ly"
       },
       "data": [
        {
         "alignmentgroup": "True",
         "hovertemplate": "Kin. metrics=Elbow Flexion<br>id_s_name=%{x}<br>correlation=%{y}<extra></extra>",
         "legendgroup": "Elbow Flexion",
         "marker": {
          "color": "#636efa",
          "pattern": {
           "shape": ""
          }
         },
         "name": "Elbow Flexion",
         "offsetgroup": "Elbow Flexion",
         "orientation": "v",
         "showlegend": true,
         "textposition": "auto",
         "type": "bar",
         "x": [
          "SimCC, Cams: 1,2,3,4,5",
          "Metrabs, Cams: 1,2,3,4,5",
          "Single, Cam: 1, filt",
          "Single, Cam: 1, unfilt"
         ],
         "xaxis": "x",
         "y": [
          0.8873007715723188,
          0.959845798548367,
          0.9706747618428176,
          0.9706401380690849
         ],
         "yaxis": "y"
        },
        {
         "alignmentgroup": "True",
         "hovertemplate": "Kin. metrics=Elbow Velocity<br>id_s_name=%{x}<br>correlation=%{y}<extra></extra>",
         "legendgroup": "Elbow Velocity",
         "marker": {
          "color": "#EF553B",
          "pattern": {
           "shape": ""
          }
         },
         "name": "Elbow Velocity",
         "offsetgroup": "Elbow Velocity",
         "orientation": "v",
         "showlegend": true,
         "textposition": "auto",
         "type": "bar",
         "x": [
          "SimCC, Cams: 1,2,3,4,5",
          "Metrabs, Cams: 1,2,3,4,5",
          "Single, Cam: 1, filt",
          "Single, Cam: 1, unfilt"
         ],
         "xaxis": "x",
         "y": [
          0.7791746401734091,
          0.8595630217864619,
          0.9027412834217758,
          0.8883571599960737
         ],
         "yaxis": "y"
        },
        {
         "alignmentgroup": "True",
         "hovertemplate": "Kin. metrics=Hand Velocity<br>id_s_name=%{x}<br>correlation=%{y}<extra></extra>",
         "legendgroup": "Hand Velocity",
         "marker": {
          "color": "#00cc96",
          "pattern": {
           "shape": ""
          }
         },
         "name": "Hand Velocity",
         "offsetgroup": "Hand Velocity",
         "orientation": "v",
         "showlegend": true,
         "textposition": "auto",
         "type": "bar",
         "x": [
          "SimCC, Cams: 1,2,3,4,5",
          "Metrabs, Cams: 1,2,3,4,5",
          "Single, Cam: 1, filt",
          "Single, Cam: 1, unfilt"
         ],
         "xaxis": "x",
         "y": [
          0.7832333575206187,
          0.8494813319500099,
          0.8847219764138089,
          0.6738703532971981
         ],
         "yaxis": "y"
        },
        {
         "alignmentgroup": "True",
         "hovertemplate": "Kin. metrics=Shoulder Abduction<br>id_s_name=%{x}<br>correlation=%{y}<extra></extra>",
         "legendgroup": "Shoulder Abduction",
         "marker": {
          "color": "#ab63fa",
          "pattern": {
           "shape": ""
          }
         },
         "name": "Shoulder Abduction",
         "offsetgroup": "Shoulder Abduction",
         "orientation": "v",
         "showlegend": true,
         "textposition": "auto",
         "type": "bar",
         "x": [
          "SimCC, Cams: 1,2,3,4,5",
          "Metrabs, Cams: 1,2,3,4,5",
          "Single, Cam: 1, filt",
          "Single, Cam: 1, unfilt"
         ],
         "xaxis": "x",
         "y": [
          0.711582798412155,
          0.7243744590923442,
          0.34116079493979645,
          0.34035815018996013
         ],
         "yaxis": "y"
        },
        {
         "alignmentgroup": "True",
         "hovertemplate": "Kin. metrics=Shoulder Flexion<br>id_s_name=%{x}<br>correlation=%{y}<extra></extra>",
         "legendgroup": "Shoulder Flexion",
         "marker": {
          "color": "#FFA15A",
          "pattern": {
           "shape": ""
          }
         },
         "name": "Shoulder Flexion",
         "offsetgroup": "Shoulder Flexion",
         "orientation": "v",
         "showlegend": true,
         "textposition": "auto",
         "type": "bar",
         "x": [
          "SimCC, Cams: 1,2,3,4,5",
          "Metrabs, Cams: 1,2,3,4,5",
          "Single, Cam: 1, filt",
          "Single, Cam: 1, unfilt"
         ],
         "xaxis": "x",
         "y": [
          0.8514724748089888,
          0.9188495605839481,
          0.9383447215404607,
          0.9384188380055686
         ],
         "yaxis": "y"
        },
        {
         "alignmentgroup": "True",
         "hovertemplate": "Kin. metrics=Trunk Displacement<br>id_s_name=%{x}<br>correlation=%{y}<extra></extra>",
         "legendgroup": "Trunk Displacement",
         "marker": {
          "color": "#19d3f3",
          "pattern": {
           "shape": ""
          }
         },
         "name": "Trunk Displacement",
         "offsetgroup": "Trunk Displacement",
         "orientation": "v",
         "showlegend": true,
         "textposition": "auto",
         "type": "bar",
         "x": [
          "SimCC, Cams: 1,2,3,4,5",
          "Metrabs, Cams: 1,2,3,4,5",
          "Single, Cam: 1, filt",
          "Single, Cam: 1, unfilt"
         ],
         "xaxis": "x",
         "y": [
          0.8380839303514784,
          0.8952458267941235,
          0.8072722801069139,
          0.8065284948135725
         ],
         "yaxis": "y"
        }
       ],
       "layout": {
        "barmode": "group",
        "height": 500,
        "legend": {
         "title": {
          "text": "Kin. metrics"
         },
         "tracegroupgap": 0
        },
        "margin": {
         "t": 60
        },
        "shapes": [
         {
          "line": {
           "color": "red",
           "dash": "dot"
          },
          "name": "corr = 0.9",
          "type": "line",
          "x0": 0,
          "x1": 1,
          "xref": "x domain",
          "y0": 0.9,
          "y1": 0.9,
          "yref": "y"
         }
        ],
        "template": {
         "data": {
          "bar": [
           {
            "error_x": {
             "color": "#2a3f5f"
            },
            "error_y": {
             "color": "#2a3f5f"
            },
            "marker": {
             "line": {
              "color": "#E5ECF6",
              "width": 0.5
             },
             "pattern": {
              "fillmode": "overlay",
              "size": 10,
              "solidity": 0.2
             }
            },
            "type": "bar"
           }
          ],
          "barpolar": [
           {
            "marker": {
             "line": {
              "color": "#E5ECF6",
              "width": 0.5
             },
             "pattern": {
              "fillmode": "overlay",
              "size": 10,
              "solidity": 0.2
             }
            },
            "type": "barpolar"
           }
          ],
          "carpet": [
           {
            "aaxis": {
             "endlinecolor": "#2a3f5f",
             "gridcolor": "white",
             "linecolor": "white",
             "minorgridcolor": "white",
             "startlinecolor": "#2a3f5f"
            },
            "baxis": {
             "endlinecolor": "#2a3f5f",
             "gridcolor": "white",
             "linecolor": "white",
             "minorgridcolor": "white",
             "startlinecolor": "#2a3f5f"
            },
            "type": "carpet"
           }
          ],
          "choropleth": [
           {
            "colorbar": {
             "outlinewidth": 0,
             "ticks": ""
            },
            "type": "choropleth"
           }
          ],
          "contour": [
           {
            "colorbar": {
             "outlinewidth": 0,
             "ticks": ""
            },
            "colorscale": [
             [
              0,
              "#0d0887"
             ],
             [
              0.1111111111111111,
              "#46039f"
             ],
             [
              0.2222222222222222,
              "#7201a8"
             ],
             [
              0.3333333333333333,
              "#9c179e"
             ],
             [
              0.4444444444444444,
              "#bd3786"
             ],
             [
              0.5555555555555556,
              "#d8576b"
             ],
             [
              0.6666666666666666,
              "#ed7953"
             ],
             [
              0.7777777777777778,
              "#fb9f3a"
             ],
             [
              0.8888888888888888,
              "#fdca26"
             ],
             [
              1,
              "#f0f921"
             ]
            ],
            "type": "contour"
           }
          ],
          "contourcarpet": [
           {
            "colorbar": {
             "outlinewidth": 0,
             "ticks": ""
            },
            "type": "contourcarpet"
           }
          ],
          "heatmap": [
           {
            "colorbar": {
             "outlinewidth": 0,
             "ticks": ""
            },
            "colorscale": [
             [
              0,
              "#0d0887"
             ],
             [
              0.1111111111111111,
              "#46039f"
             ],
             [
              0.2222222222222222,
              "#7201a8"
             ],
             [
              0.3333333333333333,
              "#9c179e"
             ],
             [
              0.4444444444444444,
              "#bd3786"
             ],
             [
              0.5555555555555556,
              "#d8576b"
             ],
             [
              0.6666666666666666,
              "#ed7953"
             ],
             [
              0.7777777777777778,
              "#fb9f3a"
             ],
             [
              0.8888888888888888,
              "#fdca26"
             ],
             [
              1,
              "#f0f921"
             ]
            ],
            "type": "heatmap"
           }
          ],
          "heatmapgl": [
           {
            "colorbar": {
             "outlinewidth": 0,
             "ticks": ""
            },
            "colorscale": [
             [
              0,
              "#0d0887"
             ],
             [
              0.1111111111111111,
              "#46039f"
             ],
             [
              0.2222222222222222,
              "#7201a8"
             ],
             [
              0.3333333333333333,
              "#9c179e"
             ],
             [
              0.4444444444444444,
              "#bd3786"
             ],
             [
              0.5555555555555556,
              "#d8576b"
             ],
             [
              0.6666666666666666,
              "#ed7953"
             ],
             [
              0.7777777777777778,
              "#fb9f3a"
             ],
             [
              0.8888888888888888,
              "#fdca26"
             ],
             [
              1,
              "#f0f921"
             ]
            ],
            "type": "heatmapgl"
           }
          ],
          "histogram": [
           {
            "marker": {
             "pattern": {
              "fillmode": "overlay",
              "size": 10,
              "solidity": 0.2
             }
            },
            "type": "histogram"
           }
          ],
          "histogram2d": [
           {
            "colorbar": {
             "outlinewidth": 0,
             "ticks": ""
            },
            "colorscale": [
             [
              0,
              "#0d0887"
             ],
             [
              0.1111111111111111,
              "#46039f"
             ],
             [
              0.2222222222222222,
              "#7201a8"
             ],
             [
              0.3333333333333333,
              "#9c179e"
             ],
             [
              0.4444444444444444,
              "#bd3786"
             ],
             [
              0.5555555555555556,
              "#d8576b"
             ],
             [
              0.6666666666666666,
              "#ed7953"
             ],
             [
              0.7777777777777778,
              "#fb9f3a"
             ],
             [
              0.8888888888888888,
              "#fdca26"
             ],
             [
              1,
              "#f0f921"
             ]
            ],
            "type": "histogram2d"
           }
          ],
          "histogram2dcontour": [
           {
            "colorbar": {
             "outlinewidth": 0,
             "ticks": ""
            },
            "colorscale": [
             [
              0,
              "#0d0887"
             ],
             [
              0.1111111111111111,
              "#46039f"
             ],
             [
              0.2222222222222222,
              "#7201a8"
             ],
             [
              0.3333333333333333,
              "#9c179e"
             ],
             [
              0.4444444444444444,
              "#bd3786"
             ],
             [
              0.5555555555555556,
              "#d8576b"
             ],
             [
              0.6666666666666666,
              "#ed7953"
             ],
             [
              0.7777777777777778,
              "#fb9f3a"
             ],
             [
              0.8888888888888888,
              "#fdca26"
             ],
             [
              1,
              "#f0f921"
             ]
            ],
            "type": "histogram2dcontour"
           }
          ],
          "mesh3d": [
           {
            "colorbar": {
             "outlinewidth": 0,
             "ticks": ""
            },
            "type": "mesh3d"
           }
          ],
          "parcoords": [
           {
            "line": {
             "colorbar": {
              "outlinewidth": 0,
              "ticks": ""
             }
            },
            "type": "parcoords"
           }
          ],
          "pie": [
           {
            "automargin": true,
            "type": "pie"
           }
          ],
          "scatter": [
           {
            "fillpattern": {
             "fillmode": "overlay",
             "size": 10,
             "solidity": 0.2
            },
            "type": "scatter"
           }
          ],
          "scatter3d": [
           {
            "line": {
             "colorbar": {
              "outlinewidth": 0,
              "ticks": ""
             }
            },
            "marker": {
             "colorbar": {
              "outlinewidth": 0,
              "ticks": ""
             }
            },
            "type": "scatter3d"
           }
          ],
          "scattercarpet": [
           {
            "marker": {
             "colorbar": {
              "outlinewidth": 0,
              "ticks": ""
             }
            },
            "type": "scattercarpet"
           }
          ],
          "scattergeo": [
           {
            "marker": {
             "colorbar": {
              "outlinewidth": 0,
              "ticks": ""
             }
            },
            "type": "scattergeo"
           }
          ],
          "scattergl": [
           {
            "marker": {
             "colorbar": {
              "outlinewidth": 0,
              "ticks": ""
             }
            },
            "type": "scattergl"
           }
          ],
          "scattermapbox": [
           {
            "marker": {
             "colorbar": {
              "outlinewidth": 0,
              "ticks": ""
             }
            },
            "type": "scattermapbox"
           }
          ],
          "scatterpolar": [
           {
            "marker": {
             "colorbar": {
              "outlinewidth": 0,
              "ticks": ""
             }
            },
            "type": "scatterpolar"
           }
          ],
          "scatterpolargl": [
           {
            "marker": {
             "colorbar": {
              "outlinewidth": 0,
              "ticks": ""
             }
            },
            "type": "scatterpolargl"
           }
          ],
          "scatterternary": [
           {
            "marker": {
             "colorbar": {
              "outlinewidth": 0,
              "ticks": ""
             }
            },
            "type": "scatterternary"
           }
          ],
          "surface": [
           {
            "colorbar": {
             "outlinewidth": 0,
             "ticks": ""
            },
            "colorscale": [
             [
              0,
              "#0d0887"
             ],
             [
              0.1111111111111111,
              "#46039f"
             ],
             [
              0.2222222222222222,
              "#7201a8"
             ],
             [
              0.3333333333333333,
              "#9c179e"
             ],
             [
              0.4444444444444444,
              "#bd3786"
             ],
             [
              0.5555555555555556,
              "#d8576b"
             ],
             [
              0.6666666666666666,
              "#ed7953"
             ],
             [
              0.7777777777777778,
              "#fb9f3a"
             ],
             [
              0.8888888888888888,
              "#fdca26"
             ],
             [
              1,
              "#f0f921"
             ]
            ],
            "type": "surface"
           }
          ],
          "table": [
           {
            "cells": {
             "fill": {
              "color": "#EBF0F8"
             },
             "line": {
              "color": "white"
             }
            },
            "header": {
             "fill": {
              "color": "#C8D4E3"
             },
             "line": {
              "color": "white"
             }
            },
            "type": "table"
           }
          ]
         },
         "layout": {
          "annotationdefaults": {
           "arrowcolor": "#2a3f5f",
           "arrowhead": 0,
           "arrowwidth": 1
          },
          "autotypenumbers": "strict",
          "coloraxis": {
           "colorbar": {
            "outlinewidth": 0,
            "ticks": ""
           }
          },
          "colorscale": {
           "diverging": [
            [
             0,
             "#8e0152"
            ],
            [
             0.1,
             "#c51b7d"
            ],
            [
             0.2,
             "#de77ae"
            ],
            [
             0.3,
             "#f1b6da"
            ],
            [
             0.4,
             "#fde0ef"
            ],
            [
             0.5,
             "#f7f7f7"
            ],
            [
             0.6,
             "#e6f5d0"
            ],
            [
             0.7,
             "#b8e186"
            ],
            [
             0.8,
             "#7fbc41"
            ],
            [
             0.9,
             "#4d9221"
            ],
            [
             1,
             "#276419"
            ]
           ],
           "sequential": [
            [
             0,
             "#0d0887"
            ],
            [
             0.1111111111111111,
             "#46039f"
            ],
            [
             0.2222222222222222,
             "#7201a8"
            ],
            [
             0.3333333333333333,
             "#9c179e"
            ],
            [
             0.4444444444444444,
             "#bd3786"
            ],
            [
             0.5555555555555556,
             "#d8576b"
            ],
            [
             0.6666666666666666,
             "#ed7953"
            ],
            [
             0.7777777777777778,
             "#fb9f3a"
            ],
            [
             0.8888888888888888,
             "#fdca26"
            ],
            [
             1,
             "#f0f921"
            ]
           ],
           "sequentialminus": [
            [
             0,
             "#0d0887"
            ],
            [
             0.1111111111111111,
             "#46039f"
            ],
            [
             0.2222222222222222,
             "#7201a8"
            ],
            [
             0.3333333333333333,
             "#9c179e"
            ],
            [
             0.4444444444444444,
             "#bd3786"
            ],
            [
             0.5555555555555556,
             "#d8576b"
            ],
            [
             0.6666666666666666,
             "#ed7953"
            ],
            [
             0.7777777777777778,
             "#fb9f3a"
            ],
            [
             0.8888888888888888,
             "#fdca26"
            ],
            [
             1,
             "#f0f921"
            ]
           ]
          },
          "colorway": [
           "#636efa",
           "#EF553B",
           "#00cc96",
           "#ab63fa",
           "#FFA15A",
           "#19d3f3",
           "#FF6692",
           "#B6E880",
           "#FF97FF",
           "#FECB52"
          ],
          "font": {
           "color": "#2a3f5f"
          },
          "geo": {
           "bgcolor": "white",
           "lakecolor": "white",
           "landcolor": "#E5ECF6",
           "showlakes": true,
           "showland": true,
           "subunitcolor": "white"
          },
          "hoverlabel": {
           "align": "left"
          },
          "hovermode": "closest",
          "mapbox": {
           "style": "light"
          },
          "paper_bgcolor": "white",
          "plot_bgcolor": "#E5ECF6",
          "polar": {
           "angularaxis": {
            "gridcolor": "white",
            "linecolor": "white",
            "ticks": ""
           },
           "bgcolor": "#E5ECF6",
           "radialaxis": {
            "gridcolor": "white",
            "linecolor": "white",
            "ticks": ""
           }
          },
          "scene": {
           "xaxis": {
            "backgroundcolor": "#E5ECF6",
            "gridcolor": "white",
            "gridwidth": 2,
            "linecolor": "white",
            "showbackground": true,
            "ticks": "",
            "zerolinecolor": "white"
           },
           "yaxis": {
            "backgroundcolor": "#E5ECF6",
            "gridcolor": "white",
            "gridwidth": 2,
            "linecolor": "white",
            "showbackground": true,
            "ticks": "",
            "zerolinecolor": "white"
           },
           "zaxis": {
            "backgroundcolor": "#E5ECF6",
            "gridcolor": "white",
            "gridwidth": 2,
            "linecolor": "white",
            "showbackground": true,
            "ticks": "",
            "zerolinecolor": "white"
           }
          },
          "shapedefaults": {
           "line": {
            "color": "#2a3f5f"
           }
          },
          "ternary": {
           "aaxis": {
            "gridcolor": "white",
            "linecolor": "white",
            "ticks": ""
           },
           "baxis": {
            "gridcolor": "white",
            "linecolor": "white",
            "ticks": ""
           },
           "bgcolor": "#E5ECF6",
           "caxis": {
            "gridcolor": "white",
            "linecolor": "white",
            "ticks": ""
           }
          },
          "title": {
           "x": 0.05
          },
          "xaxis": {
           "automargin": true,
           "gridcolor": "white",
           "linecolor": "white",
           "ticks": "",
           "title": {
            "standoff": 15
           },
           "zerolinecolor": "white",
           "zerolinewidth": 2
          },
          "yaxis": {
           "automargin": true,
           "gridcolor": "white",
           "linecolor": "white",
           "ticks": "",
           "title": {
            "standoff": 15
           },
           "zerolinecolor": "white",
           "zerolinewidth": 2
          }
         }
        },
        "title": {
         "font": {
          "size": 20
         },
         "text": "<b>Pearson Correlation for chosen settings and kinematic metrics<b>"
        },
        "width": 1000,
        "xaxis": {
         "anchor": "y",
         "domain": [
          0,
          1
         ],
         "tickfont": {
          "size": 16
         },
         "title": {
          "font": {
           "size": 18
          },
          "text": "<b>Settings<b>"
         }
        },
        "yaxis": {
         "anchor": "x",
         "domain": [
          0,
          1
         ],
         "title": {
          "font": {
           "size": 18
          },
          "text": "<b>Mean Correlation [r]<b>"
         }
        }
       }
      },
      "text/html": [
       "<div>                            <div id=\"dab8c5f0-89f0-467a-a830-422140a42fa2\" class=\"plotly-graph-div\" style=\"height:500px; width:1000px;\"></div>            <script type=\"text/javascript\">                require([\"plotly\"], function(Plotly) {                    window.PLOTLYENV=window.PLOTLYENV || {};                                    if (document.getElementById(\"dab8c5f0-89f0-467a-a830-422140a42fa2\")) {                    Plotly.newPlot(                        \"dab8c5f0-89f0-467a-a830-422140a42fa2\",                        [{\"alignmentgroup\":\"True\",\"hovertemplate\":\"Kin. metrics=Elbow Flexion\\u003cbr\\u003eid_s_name=%{x}\\u003cbr\\u003ecorrelation=%{y}\\u003cextra\\u003e\\u003c\\u002fextra\\u003e\",\"legendgroup\":\"Elbow Flexion\",\"marker\":{\"color\":\"#636efa\",\"pattern\":{\"shape\":\"\"}},\"name\":\"Elbow Flexion\",\"offsetgroup\":\"Elbow Flexion\",\"orientation\":\"v\",\"showlegend\":true,\"textposition\":\"auto\",\"x\":[\"SimCC, Cams: 1,2,3,4,5\",\"Metrabs, Cams: 1,2,3,4,5\",\"Single, Cam: 1, filt\",\"Single, Cam: 1, unfilt\"],\"xaxis\":\"x\",\"y\":[0.8873007715723188,0.959845798548367,0.9706747618428176,0.9706401380690849],\"yaxis\":\"y\",\"type\":\"bar\"},{\"alignmentgroup\":\"True\",\"hovertemplate\":\"Kin. metrics=Elbow Velocity\\u003cbr\\u003eid_s_name=%{x}\\u003cbr\\u003ecorrelation=%{y}\\u003cextra\\u003e\\u003c\\u002fextra\\u003e\",\"legendgroup\":\"Elbow Velocity\",\"marker\":{\"color\":\"#EF553B\",\"pattern\":{\"shape\":\"\"}},\"name\":\"Elbow Velocity\",\"offsetgroup\":\"Elbow Velocity\",\"orientation\":\"v\",\"showlegend\":true,\"textposition\":\"auto\",\"x\":[\"SimCC, Cams: 1,2,3,4,5\",\"Metrabs, Cams: 1,2,3,4,5\",\"Single, Cam: 1, filt\",\"Single, Cam: 1, unfilt\"],\"xaxis\":\"x\",\"y\":[0.7791746401734091,0.8595630217864619,0.9027412834217758,0.8883571599960737],\"yaxis\":\"y\",\"type\":\"bar\"},{\"alignmentgroup\":\"True\",\"hovertemplate\":\"Kin. metrics=Hand Velocity\\u003cbr\\u003eid_s_name=%{x}\\u003cbr\\u003ecorrelation=%{y}\\u003cextra\\u003e\\u003c\\u002fextra\\u003e\",\"legendgroup\":\"Hand Velocity\",\"marker\":{\"color\":\"#00cc96\",\"pattern\":{\"shape\":\"\"}},\"name\":\"Hand Velocity\",\"offsetgroup\":\"Hand Velocity\",\"orientation\":\"v\",\"showlegend\":true,\"textposition\":\"auto\",\"x\":[\"SimCC, Cams: 1,2,3,4,5\",\"Metrabs, Cams: 1,2,3,4,5\",\"Single, Cam: 1, filt\",\"Single, Cam: 1, unfilt\"],\"xaxis\":\"x\",\"y\":[0.7832333575206187,0.8494813319500099,0.8847219764138089,0.6738703532971981],\"yaxis\":\"y\",\"type\":\"bar\"},{\"alignmentgroup\":\"True\",\"hovertemplate\":\"Kin. metrics=Shoulder Abduction\\u003cbr\\u003eid_s_name=%{x}\\u003cbr\\u003ecorrelation=%{y}\\u003cextra\\u003e\\u003c\\u002fextra\\u003e\",\"legendgroup\":\"Shoulder Abduction\",\"marker\":{\"color\":\"#ab63fa\",\"pattern\":{\"shape\":\"\"}},\"name\":\"Shoulder Abduction\",\"offsetgroup\":\"Shoulder Abduction\",\"orientation\":\"v\",\"showlegend\":true,\"textposition\":\"auto\",\"x\":[\"SimCC, Cams: 1,2,3,4,5\",\"Metrabs, Cams: 1,2,3,4,5\",\"Single, Cam: 1, filt\",\"Single, Cam: 1, unfilt\"],\"xaxis\":\"x\",\"y\":[0.711582798412155,0.7243744590923442,0.34116079493979645,0.34035815018996013],\"yaxis\":\"y\",\"type\":\"bar\"},{\"alignmentgroup\":\"True\",\"hovertemplate\":\"Kin. metrics=Shoulder Flexion\\u003cbr\\u003eid_s_name=%{x}\\u003cbr\\u003ecorrelation=%{y}\\u003cextra\\u003e\\u003c\\u002fextra\\u003e\",\"legendgroup\":\"Shoulder Flexion\",\"marker\":{\"color\":\"#FFA15A\",\"pattern\":{\"shape\":\"\"}},\"name\":\"Shoulder Flexion\",\"offsetgroup\":\"Shoulder Flexion\",\"orientation\":\"v\",\"showlegend\":true,\"textposition\":\"auto\",\"x\":[\"SimCC, Cams: 1,2,3,4,5\",\"Metrabs, Cams: 1,2,3,4,5\",\"Single, Cam: 1, filt\",\"Single, Cam: 1, unfilt\"],\"xaxis\":\"x\",\"y\":[0.8514724748089888,0.9188495605839481,0.9383447215404607,0.9384188380055686],\"yaxis\":\"y\",\"type\":\"bar\"},{\"alignmentgroup\":\"True\",\"hovertemplate\":\"Kin. metrics=Trunk Displacement\\u003cbr\\u003eid_s_name=%{x}\\u003cbr\\u003ecorrelation=%{y}\\u003cextra\\u003e\\u003c\\u002fextra\\u003e\",\"legendgroup\":\"Trunk Displacement\",\"marker\":{\"color\":\"#19d3f3\",\"pattern\":{\"shape\":\"\"}},\"name\":\"Trunk Displacement\",\"offsetgroup\":\"Trunk Displacement\",\"orientation\":\"v\",\"showlegend\":true,\"textposition\":\"auto\",\"x\":[\"SimCC, Cams: 1,2,3,4,5\",\"Metrabs, Cams: 1,2,3,4,5\",\"Single, Cam: 1, filt\",\"Single, Cam: 1, unfilt\"],\"xaxis\":\"x\",\"y\":[0.8380839303514784,0.8952458267941235,0.8072722801069139,0.8065284948135725],\"yaxis\":\"y\",\"type\":\"bar\"}],                        {\"template\":{\"data\":{\"barpolar\":[{\"marker\":{\"line\":{\"color\":\"#E5ECF6\",\"width\":0.5},\"pattern\":{\"fillmode\":\"overlay\",\"size\":10,\"solidity\":0.2}},\"type\":\"barpolar\"}],\"bar\":[{\"error_x\":{\"color\":\"#2a3f5f\"},\"error_y\":{\"color\":\"#2a3f5f\"},\"marker\":{\"line\":{\"color\":\"#E5ECF6\",\"width\":0.5},\"pattern\":{\"fillmode\":\"overlay\",\"size\":10,\"solidity\":0.2}},\"type\":\"bar\"}],\"carpet\":[{\"aaxis\":{\"endlinecolor\":\"#2a3f5f\",\"gridcolor\":\"white\",\"linecolor\":\"white\",\"minorgridcolor\":\"white\",\"startlinecolor\":\"#2a3f5f\"},\"baxis\":{\"endlinecolor\":\"#2a3f5f\",\"gridcolor\":\"white\",\"linecolor\":\"white\",\"minorgridcolor\":\"white\",\"startlinecolor\":\"#2a3f5f\"},\"type\":\"carpet\"}],\"choropleth\":[{\"colorbar\":{\"outlinewidth\":0,\"ticks\":\"\"},\"type\":\"choropleth\"}],\"contourcarpet\":[{\"colorbar\":{\"outlinewidth\":0,\"ticks\":\"\"},\"type\":\"contourcarpet\"}],\"contour\":[{\"colorbar\":{\"outlinewidth\":0,\"ticks\":\"\"},\"colorscale\":[[0.0,\"#0d0887\"],[0.1111111111111111,\"#46039f\"],[0.2222222222222222,\"#7201a8\"],[0.3333333333333333,\"#9c179e\"],[0.4444444444444444,\"#bd3786\"],[0.5555555555555556,\"#d8576b\"],[0.6666666666666666,\"#ed7953\"],[0.7777777777777778,\"#fb9f3a\"],[0.8888888888888888,\"#fdca26\"],[1.0,\"#f0f921\"]],\"type\":\"contour\"}],\"heatmapgl\":[{\"colorbar\":{\"outlinewidth\":0,\"ticks\":\"\"},\"colorscale\":[[0.0,\"#0d0887\"],[0.1111111111111111,\"#46039f\"],[0.2222222222222222,\"#7201a8\"],[0.3333333333333333,\"#9c179e\"],[0.4444444444444444,\"#bd3786\"],[0.5555555555555556,\"#d8576b\"],[0.6666666666666666,\"#ed7953\"],[0.7777777777777778,\"#fb9f3a\"],[0.8888888888888888,\"#fdca26\"],[1.0,\"#f0f921\"]],\"type\":\"heatmapgl\"}],\"heatmap\":[{\"colorbar\":{\"outlinewidth\":0,\"ticks\":\"\"},\"colorscale\":[[0.0,\"#0d0887\"],[0.1111111111111111,\"#46039f\"],[0.2222222222222222,\"#7201a8\"],[0.3333333333333333,\"#9c179e\"],[0.4444444444444444,\"#bd3786\"],[0.5555555555555556,\"#d8576b\"],[0.6666666666666666,\"#ed7953\"],[0.7777777777777778,\"#fb9f3a\"],[0.8888888888888888,\"#fdca26\"],[1.0,\"#f0f921\"]],\"type\":\"heatmap\"}],\"histogram2dcontour\":[{\"colorbar\":{\"outlinewidth\":0,\"ticks\":\"\"},\"colorscale\":[[0.0,\"#0d0887\"],[0.1111111111111111,\"#46039f\"],[0.2222222222222222,\"#7201a8\"],[0.3333333333333333,\"#9c179e\"],[0.4444444444444444,\"#bd3786\"],[0.5555555555555556,\"#d8576b\"],[0.6666666666666666,\"#ed7953\"],[0.7777777777777778,\"#fb9f3a\"],[0.8888888888888888,\"#fdca26\"],[1.0,\"#f0f921\"]],\"type\":\"histogram2dcontour\"}],\"histogram2d\":[{\"colorbar\":{\"outlinewidth\":0,\"ticks\":\"\"},\"colorscale\":[[0.0,\"#0d0887\"],[0.1111111111111111,\"#46039f\"],[0.2222222222222222,\"#7201a8\"],[0.3333333333333333,\"#9c179e\"],[0.4444444444444444,\"#bd3786\"],[0.5555555555555556,\"#d8576b\"],[0.6666666666666666,\"#ed7953\"],[0.7777777777777778,\"#fb9f3a\"],[0.8888888888888888,\"#fdca26\"],[1.0,\"#f0f921\"]],\"type\":\"histogram2d\"}],\"histogram\":[{\"marker\":{\"pattern\":{\"fillmode\":\"overlay\",\"size\":10,\"solidity\":0.2}},\"type\":\"histogram\"}],\"mesh3d\":[{\"colorbar\":{\"outlinewidth\":0,\"ticks\":\"\"},\"type\":\"mesh3d\"}],\"parcoords\":[{\"line\":{\"colorbar\":{\"outlinewidth\":0,\"ticks\":\"\"}},\"type\":\"parcoords\"}],\"pie\":[{\"automargin\":true,\"type\":\"pie\"}],\"scatter3d\":[{\"line\":{\"colorbar\":{\"outlinewidth\":0,\"ticks\":\"\"}},\"marker\":{\"colorbar\":{\"outlinewidth\":0,\"ticks\":\"\"}},\"type\":\"scatter3d\"}],\"scattercarpet\":[{\"marker\":{\"colorbar\":{\"outlinewidth\":0,\"ticks\":\"\"}},\"type\":\"scattercarpet\"}],\"scattergeo\":[{\"marker\":{\"colorbar\":{\"outlinewidth\":0,\"ticks\":\"\"}},\"type\":\"scattergeo\"}],\"scattergl\":[{\"marker\":{\"colorbar\":{\"outlinewidth\":0,\"ticks\":\"\"}},\"type\":\"scattergl\"}],\"scattermapbox\":[{\"marker\":{\"colorbar\":{\"outlinewidth\":0,\"ticks\":\"\"}},\"type\":\"scattermapbox\"}],\"scatterpolargl\":[{\"marker\":{\"colorbar\":{\"outlinewidth\":0,\"ticks\":\"\"}},\"type\":\"scatterpolargl\"}],\"scatterpolar\":[{\"marker\":{\"colorbar\":{\"outlinewidth\":0,\"ticks\":\"\"}},\"type\":\"scatterpolar\"}],\"scatter\":[{\"fillpattern\":{\"fillmode\":\"overlay\",\"size\":10,\"solidity\":0.2},\"type\":\"scatter\"}],\"scatterternary\":[{\"marker\":{\"colorbar\":{\"outlinewidth\":0,\"ticks\":\"\"}},\"type\":\"scatterternary\"}],\"surface\":[{\"colorbar\":{\"outlinewidth\":0,\"ticks\":\"\"},\"colorscale\":[[0.0,\"#0d0887\"],[0.1111111111111111,\"#46039f\"],[0.2222222222222222,\"#7201a8\"],[0.3333333333333333,\"#9c179e\"],[0.4444444444444444,\"#bd3786\"],[0.5555555555555556,\"#d8576b\"],[0.6666666666666666,\"#ed7953\"],[0.7777777777777778,\"#fb9f3a\"],[0.8888888888888888,\"#fdca26\"],[1.0,\"#f0f921\"]],\"type\":\"surface\"}],\"table\":[{\"cells\":{\"fill\":{\"color\":\"#EBF0F8\"},\"line\":{\"color\":\"white\"}},\"header\":{\"fill\":{\"color\":\"#C8D4E3\"},\"line\":{\"color\":\"white\"}},\"type\":\"table\"}]},\"layout\":{\"annotationdefaults\":{\"arrowcolor\":\"#2a3f5f\",\"arrowhead\":0,\"arrowwidth\":1},\"autotypenumbers\":\"strict\",\"coloraxis\":{\"colorbar\":{\"outlinewidth\":0,\"ticks\":\"\"}},\"colorscale\":{\"diverging\":[[0,\"#8e0152\"],[0.1,\"#c51b7d\"],[0.2,\"#de77ae\"],[0.3,\"#f1b6da\"],[0.4,\"#fde0ef\"],[0.5,\"#f7f7f7\"],[0.6,\"#e6f5d0\"],[0.7,\"#b8e186\"],[0.8,\"#7fbc41\"],[0.9,\"#4d9221\"],[1,\"#276419\"]],\"sequential\":[[0.0,\"#0d0887\"],[0.1111111111111111,\"#46039f\"],[0.2222222222222222,\"#7201a8\"],[0.3333333333333333,\"#9c179e\"],[0.4444444444444444,\"#bd3786\"],[0.5555555555555556,\"#d8576b\"],[0.6666666666666666,\"#ed7953\"],[0.7777777777777778,\"#fb9f3a\"],[0.8888888888888888,\"#fdca26\"],[1.0,\"#f0f921\"]],\"sequentialminus\":[[0.0,\"#0d0887\"],[0.1111111111111111,\"#46039f\"],[0.2222222222222222,\"#7201a8\"],[0.3333333333333333,\"#9c179e\"],[0.4444444444444444,\"#bd3786\"],[0.5555555555555556,\"#d8576b\"],[0.6666666666666666,\"#ed7953\"],[0.7777777777777778,\"#fb9f3a\"],[0.8888888888888888,\"#fdca26\"],[1.0,\"#f0f921\"]]},\"colorway\":[\"#636efa\",\"#EF553B\",\"#00cc96\",\"#ab63fa\",\"#FFA15A\",\"#19d3f3\",\"#FF6692\",\"#B6E880\",\"#FF97FF\",\"#FECB52\"],\"font\":{\"color\":\"#2a3f5f\"},\"geo\":{\"bgcolor\":\"white\",\"lakecolor\":\"white\",\"landcolor\":\"#E5ECF6\",\"showlakes\":true,\"showland\":true,\"subunitcolor\":\"white\"},\"hoverlabel\":{\"align\":\"left\"},\"hovermode\":\"closest\",\"mapbox\":{\"style\":\"light\"},\"paper_bgcolor\":\"white\",\"plot_bgcolor\":\"#E5ECF6\",\"polar\":{\"angularaxis\":{\"gridcolor\":\"white\",\"linecolor\":\"white\",\"ticks\":\"\"},\"bgcolor\":\"#E5ECF6\",\"radialaxis\":{\"gridcolor\":\"white\",\"linecolor\":\"white\",\"ticks\":\"\"}},\"scene\":{\"xaxis\":{\"backgroundcolor\":\"#E5ECF6\",\"gridcolor\":\"white\",\"gridwidth\":2,\"linecolor\":\"white\",\"showbackground\":true,\"ticks\":\"\",\"zerolinecolor\":\"white\"},\"yaxis\":{\"backgroundcolor\":\"#E5ECF6\",\"gridcolor\":\"white\",\"gridwidth\":2,\"linecolor\":\"white\",\"showbackground\":true,\"ticks\":\"\",\"zerolinecolor\":\"white\"},\"zaxis\":{\"backgroundcolor\":\"#E5ECF6\",\"gridcolor\":\"white\",\"gridwidth\":2,\"linecolor\":\"white\",\"showbackground\":true,\"ticks\":\"\",\"zerolinecolor\":\"white\"}},\"shapedefaults\":{\"line\":{\"color\":\"#2a3f5f\"}},\"ternary\":{\"aaxis\":{\"gridcolor\":\"white\",\"linecolor\":\"white\",\"ticks\":\"\"},\"baxis\":{\"gridcolor\":\"white\",\"linecolor\":\"white\",\"ticks\":\"\"},\"bgcolor\":\"#E5ECF6\",\"caxis\":{\"gridcolor\":\"white\",\"linecolor\":\"white\",\"ticks\":\"\"}},\"title\":{\"x\":0.05},\"xaxis\":{\"automargin\":true,\"gridcolor\":\"white\",\"linecolor\":\"white\",\"ticks\":\"\",\"title\":{\"standoff\":15},\"zerolinecolor\":\"white\",\"zerolinewidth\":2},\"yaxis\":{\"automargin\":true,\"gridcolor\":\"white\",\"linecolor\":\"white\",\"ticks\":\"\",\"title\":{\"standoff\":15},\"zerolinecolor\":\"white\",\"zerolinewidth\":2}}},\"xaxis\":{\"anchor\":\"y\",\"domain\":[0.0,1.0],\"title\":{\"text\":\"\\u003cb\\u003eSettings\\u003cb\\u003e\",\"font\":{\"size\":18}},\"tickfont\":{\"size\":16}},\"yaxis\":{\"anchor\":\"x\",\"domain\":[0.0,1.0],\"title\":{\"text\":\"\\u003cb\\u003eMean Correlation [r]\\u003cb\\u003e\",\"font\":{\"size\":18}}},\"legend\":{\"title\":{\"text\":\"Kin. metrics\"},\"tracegroupgap\":0},\"margin\":{\"t\":60},\"barmode\":\"group\",\"shapes\":[{\"line\":{\"color\":\"red\",\"dash\":\"dot\"},\"name\":\"corr = 0.9\",\"type\":\"line\",\"x0\":0,\"x1\":1,\"xref\":\"x domain\",\"y0\":0.9,\"y1\":0.9,\"yref\":\"y\"}],\"title\":{\"font\":{\"size\":20},\"text\":\"\\u003cb\\u003ePearson Correlation for chosen settings and kinematic metrics\\u003cb\\u003e\"},\"width\":1000,\"height\":500},                        {\"responsive\": true}                    ).then(function(){\n",
       "                            \n",
       "var gd = document.getElementById('dab8c5f0-89f0-467a-a830-422140a42fa2');\n",
       "var x = new MutationObserver(function (mutations, observer) {{\n",
       "        var display = window.getComputedStyle(gd).display;\n",
       "        if (!display || display === 'none') {{\n",
       "            console.log([gd, 'removed!']);\n",
       "            Plotly.purge(gd);\n",
       "            observer.disconnect();\n",
       "        }}\n",
       "}});\n",
       "\n",
       "// Listen for the removal of the full notebook cells\n",
       "var notebookContainer = gd.closest('#notebook-container');\n",
       "if (notebookContainer) {{\n",
       "    x.observe(notebookContainer, {childList: true});\n",
       "}}\n",
       "\n",
       "// Listen for the clearing of the current output cell\n",
       "var outputEl = gd.closest('.output');\n",
       "if (outputEl) {{\n",
       "    x.observe(outputEl, {childList: true});\n",
       "}}\n",
       "\n",
       "                        })                };                });            </script>        </div>"
      ]
     },
     "metadata": {},
     "output_type": "display_data"
    }
   ],
   "source": [
    "fig.show()"
   ]
  },
  {
   "cell_type": "code",
   "execution_count": 38,
   "id": "26a86eb016248cd4",
   "metadata": {
    "ExecuteTime": {
     "end_time": "2024-12-25T09:34:32.221199Z",
     "start_time": "2024-12-25T09:34:32.216184Z"
    }
   },
   "outputs": [],
   "source": [
    "df_plot.drop(columns=['id_s', 'id_p'], inplace=True)\n"
   ]
  },
  {
   "cell_type": "code",
   "execution_count": 39,
   "id": "3be009eddaf273d9",
   "metadata": {
    "ExecuteTime": {
     "end_time": "2024-12-25T09:34:32.839730Z",
     "start_time": "2024-12-25T09:34:32.832945Z"
    }
   },
   "outputs": [],
   "source": [
    "c_titles = ['id_s_name', 'metric', 'correlation', 'p_value']\n",
    "df_plot = df_plot.reindex(columns = c_titles)\n",
    "\n",
    "df_plot['metric'] = df_plot['metric'].apply(lambda x: get_title_measure_name(x, add_unit = True))"
   ]
  },
  {
   "cell_type": "code",
   "execution_count": 40,
   "id": "6c122cf3664484b",
   "metadata": {
    "ExecuteTime": {
     "end_time": "2024-12-25T09:34:33.004697Z",
     "start_time": "2024-12-25T09:34:32.988709Z"
    }
   },
   "outputs": [
    {
     "data": {
      "text/html": [
       "<div>\n",
       "<style scoped>\n",
       "    .dataframe tbody tr th:only-of-type {\n",
       "        vertical-align: middle;\n",
       "    }\n",
       "\n",
       "    .dataframe tbody tr th {\n",
       "        vertical-align: top;\n",
       "    }\n",
       "\n",
       "    .dataframe thead th {\n",
       "        text-align: right;\n",
       "    }\n",
       "</style>\n",
       "<table border=\"1\" class=\"dataframe\">\n",
       "  <thead>\n",
       "    <tr style=\"text-align: right;\">\n",
       "      <th></th>\n",
       "      <th>id_s_name</th>\n",
       "      <th>metric</th>\n",
       "      <th>correlation</th>\n",
       "      <th>p_value</th>\n",
       "    </tr>\n",
       "  </thead>\n",
       "  <tbody>\n",
       "    <tr>\n",
       "      <th>0</th>\n",
       "      <td>SimCC, Cams: 1,2,3,4,5</td>\n",
       "      <td>Elbow Flexion [deg]</td>\n",
       "      <td>0.89</td>\n",
       "      <td>0.05</td>\n",
       "    </tr>\n",
       "    <tr>\n",
       "      <th>1</th>\n",
       "      <td>SimCC, Cams: 1,2,3,4,5</td>\n",
       "      <td>Elbow Velocity [deg/s]</td>\n",
       "      <td>0.78</td>\n",
       "      <td>0.01</td>\n",
       "    </tr>\n",
       "    <tr>\n",
       "      <th>2</th>\n",
       "      <td>SimCC, Cams: 1,2,3,4,5</td>\n",
       "      <td>Hand Velocity [mm/s]</td>\n",
       "      <td>0.78</td>\n",
       "      <td>0.02</td>\n",
       "    </tr>\n",
       "    <tr>\n",
       "      <th>3</th>\n",
       "      <td>SimCC, Cams: 1,2,3,4,5</td>\n",
       "      <td>Shoulder Abduction [deg]</td>\n",
       "      <td>0.71</td>\n",
       "      <td>0.02</td>\n",
       "    </tr>\n",
       "    <tr>\n",
       "      <th>4</th>\n",
       "      <td>SimCC, Cams: 1,2,3,4,5</td>\n",
       "      <td>Shoulder Flexion [deg]</td>\n",
       "      <td>0.85</td>\n",
       "      <td>0.00</td>\n",
       "    </tr>\n",
       "    <tr>\n",
       "      <th>5</th>\n",
       "      <td>SimCC, Cams: 1,2,3,4,5</td>\n",
       "      <td>Trunk Displacement</td>\n",
       "      <td>0.84</td>\n",
       "      <td>0.01</td>\n",
       "    </tr>\n",
       "    <tr>\n",
       "      <th>10</th>\n",
       "      <td>Metrabs, Cams: 1,2,3,4,5</td>\n",
       "      <td>Elbow Velocity [deg/s]</td>\n",
       "      <td>0.86</td>\n",
       "      <td>0.00</td>\n",
       "    </tr>\n",
       "    <tr>\n",
       "      <th>9</th>\n",
       "      <td>Metrabs, Cams: 1,2,3,4,5</td>\n",
       "      <td>Elbow Flexion [deg]</td>\n",
       "      <td>0.96</td>\n",
       "      <td>0.00</td>\n",
       "    </tr>\n",
       "    <tr>\n",
       "      <th>11</th>\n",
       "      <td>Metrabs, Cams: 1,2,3,4,5</td>\n",
       "      <td>Hand Velocity [mm/s]</td>\n",
       "      <td>0.85</td>\n",
       "      <td>0.01</td>\n",
       "    </tr>\n",
       "    <tr>\n",
       "      <th>7</th>\n",
       "      <td>Metrabs, Cams: 1,2,3,4,5</td>\n",
       "      <td>Shoulder Flexion [deg]</td>\n",
       "      <td>0.92</td>\n",
       "      <td>0.00</td>\n",
       "    </tr>\n",
       "    <tr>\n",
       "      <th>6</th>\n",
       "      <td>Metrabs, Cams: 1,2,3,4,5</td>\n",
       "      <td>Shoulder Abduction [deg]</td>\n",
       "      <td>0.72</td>\n",
       "      <td>0.02</td>\n",
       "    </tr>\n",
       "    <tr>\n",
       "      <th>8</th>\n",
       "      <td>Metrabs, Cams: 1,2,3,4,5</td>\n",
       "      <td>Trunk Displacement</td>\n",
       "      <td>0.90</td>\n",
       "      <td>0.00</td>\n",
       "    </tr>\n",
       "    <tr>\n",
       "      <th>12</th>\n",
       "      <td>Single, Cam: 1, filt</td>\n",
       "      <td>Trunk Displacement</td>\n",
       "      <td>0.81</td>\n",
       "      <td>0.01</td>\n",
       "    </tr>\n",
       "    <tr>\n",
       "      <th>13</th>\n",
       "      <td>Single, Cam: 1, filt</td>\n",
       "      <td>Elbow Flexion [deg]</td>\n",
       "      <td>0.97</td>\n",
       "      <td>0.00</td>\n",
       "    </tr>\n",
       "    <tr>\n",
       "      <th>14</th>\n",
       "      <td>Single, Cam: 1, filt</td>\n",
       "      <td>Elbow Velocity [deg/s]</td>\n",
       "      <td>0.90</td>\n",
       "      <td>0.00</td>\n",
       "    </tr>\n",
       "    <tr>\n",
       "      <th>15</th>\n",
       "      <td>Single, Cam: 1, filt</td>\n",
       "      <td>Hand Velocity [mm/s]</td>\n",
       "      <td>0.88</td>\n",
       "      <td>0.01</td>\n",
       "    </tr>\n",
       "    <tr>\n",
       "      <th>16</th>\n",
       "      <td>Single, Cam: 1, filt</td>\n",
       "      <td>Shoulder Abduction [deg]</td>\n",
       "      <td>0.34</td>\n",
       "      <td>0.02</td>\n",
       "    </tr>\n",
       "    <tr>\n",
       "      <th>17</th>\n",
       "      <td>Single, Cam: 1, filt</td>\n",
       "      <td>Shoulder Flexion [deg]</td>\n",
       "      <td>0.94</td>\n",
       "      <td>0.00</td>\n",
       "    </tr>\n",
       "    <tr>\n",
       "      <th>22</th>\n",
       "      <td>Single, Cam: 1, unfilt</td>\n",
       "      <td>Shoulder Flexion [deg]</td>\n",
       "      <td>0.94</td>\n",
       "      <td>0.00</td>\n",
       "    </tr>\n",
       "    <tr>\n",
       "      <th>18</th>\n",
       "      <td>Single, Cam: 1, unfilt</td>\n",
       "      <td>Shoulder Abduction [deg]</td>\n",
       "      <td>0.34</td>\n",
       "      <td>0.02</td>\n",
       "    </tr>\n",
       "    <tr>\n",
       "      <th>19</th>\n",
       "      <td>Single, Cam: 1, unfilt</td>\n",
       "      <td>Hand Velocity [mm/s]</td>\n",
       "      <td>0.67</td>\n",
       "      <td>0.01</td>\n",
       "    </tr>\n",
       "    <tr>\n",
       "      <th>20</th>\n",
       "      <td>Single, Cam: 1, unfilt</td>\n",
       "      <td>Elbow Velocity [deg/s]</td>\n",
       "      <td>0.89</td>\n",
       "      <td>0.00</td>\n",
       "    </tr>\n",
       "    <tr>\n",
       "      <th>21</th>\n",
       "      <td>Single, Cam: 1, unfilt</td>\n",
       "      <td>Elbow Flexion [deg]</td>\n",
       "      <td>0.97</td>\n",
       "      <td>0.00</td>\n",
       "    </tr>\n",
       "    <tr>\n",
       "      <th>23</th>\n",
       "      <td>Single, Cam: 1, unfilt</td>\n",
       "      <td>Trunk Displacement</td>\n",
       "      <td>0.81</td>\n",
       "      <td>0.01</td>\n",
       "    </tr>\n",
       "  </tbody>\n",
       "</table>\n",
       "</div>"
      ],
      "text/plain": [
       "                   id_s_name                    metric  correlation  p_value\n",
       "0     SimCC, Cams: 1,2,3,4,5       Elbow Flexion [deg]         0.89     0.05\n",
       "1     SimCC, Cams: 1,2,3,4,5    Elbow Velocity [deg/s]         0.78     0.01\n",
       "2     SimCC, Cams: 1,2,3,4,5      Hand Velocity [mm/s]         0.78     0.02\n",
       "3     SimCC, Cams: 1,2,3,4,5  Shoulder Abduction [deg]         0.71     0.02\n",
       "4     SimCC, Cams: 1,2,3,4,5    Shoulder Flexion [deg]         0.85     0.00\n",
       "5     SimCC, Cams: 1,2,3,4,5        Trunk Displacement         0.84     0.01\n",
       "10  Metrabs, Cams: 1,2,3,4,5    Elbow Velocity [deg/s]         0.86     0.00\n",
       "9   Metrabs, Cams: 1,2,3,4,5       Elbow Flexion [deg]         0.96     0.00\n",
       "11  Metrabs, Cams: 1,2,3,4,5      Hand Velocity [mm/s]         0.85     0.01\n",
       "7   Metrabs, Cams: 1,2,3,4,5    Shoulder Flexion [deg]         0.92     0.00\n",
       "6   Metrabs, Cams: 1,2,3,4,5  Shoulder Abduction [deg]         0.72     0.02\n",
       "8   Metrabs, Cams: 1,2,3,4,5        Trunk Displacement         0.90     0.00\n",
       "12      Single, Cam: 1, filt        Trunk Displacement         0.81     0.01\n",
       "13      Single, Cam: 1, filt       Elbow Flexion [deg]         0.97     0.00\n",
       "14      Single, Cam: 1, filt    Elbow Velocity [deg/s]         0.90     0.00\n",
       "15      Single, Cam: 1, filt      Hand Velocity [mm/s]         0.88     0.01\n",
       "16      Single, Cam: 1, filt  Shoulder Abduction [deg]         0.34     0.02\n",
       "17      Single, Cam: 1, filt    Shoulder Flexion [deg]         0.94     0.00\n",
       "22    Single, Cam: 1, unfilt    Shoulder Flexion [deg]         0.94     0.00\n",
       "18    Single, Cam: 1, unfilt  Shoulder Abduction [deg]         0.34     0.02\n",
       "19    Single, Cam: 1, unfilt      Hand Velocity [mm/s]         0.67     0.01\n",
       "20    Single, Cam: 1, unfilt    Elbow Velocity [deg/s]         0.89     0.00\n",
       "21    Single, Cam: 1, unfilt       Elbow Flexion [deg]         0.97     0.00\n",
       "23    Single, Cam: 1, unfilt        Trunk Displacement         0.81     0.01"
      ]
     },
     "execution_count": 40,
     "metadata": {},
     "output_type": "execute_result"
    }
   ],
   "source": [
    "df_plot.round(2)"
   ]
  },
  {
   "cell_type": "code",
   "execution_count": 41,
   "id": "e713e681d05e7c24",
   "metadata": {
    "ExecuteTime": {
     "end_time": "2024-12-25T09:34:34.127993Z",
     "start_time": "2024-12-25T09:34:33.064075Z"
    }
   },
   "outputs": [
    {
     "name": "stdout",
     "output_type": "stream",
     "text": [
      "\\begin{table}\n",
      "\\caption{Pearson Correlation and corresponding P-Value}\n",
      "\\label{tab:res:cont:pearson_corr}\n",
      "\\begin{tabular}{lllrr}\n",
      " & id_s_name & metric & correlation & p_value \\\\\n",
      "0 & SimCC, Cams: 1,2,3,4,5 & Elbow Flexion [deg] & 0.887301 & 0.048570 \\\\\n",
      "1 & SimCC, Cams: 1,2,3,4,5 & Elbow Velocity [deg/s] & 0.779175 & 0.012742 \\\\\n",
      "2 & SimCC, Cams: 1,2,3,4,5 & Hand Velocity [mm/s] & 0.783233 & 0.024572 \\\\\n",
      "3 & SimCC, Cams: 1,2,3,4,5 & Shoulder Abduction [deg] & 0.711583 & 0.023773 \\\\\n",
      "4 & SimCC, Cams: 1,2,3,4,5 & Shoulder Flexion [deg] & 0.851472 & 0.004710 \\\\\n",
      "5 & SimCC, Cams: 1,2,3,4,5 & Trunk Displacement & 0.838084 & 0.008703 \\\\\n",
      "10 & Metrabs, Cams: 1,2,3,4,5 & Elbow Velocity [deg/s] & 0.859563 & 0.002017 \\\\\n",
      "9 & Metrabs, Cams: 1,2,3,4,5 & Elbow Flexion [deg] & 0.959846 & 0.000002 \\\\\n",
      "11 & Metrabs, Cams: 1,2,3,4,5 & Hand Velocity [mm/s] & 0.849481 & 0.006643 \\\\\n",
      "7 & Metrabs, Cams: 1,2,3,4,5 & Shoulder Flexion [deg] & 0.918850 & 0.002157 \\\\\n",
      "6 & Metrabs, Cams: 1,2,3,4,5 & Shoulder Abduction [deg] & 0.724374 & 0.016217 \\\\\n",
      "8 & Metrabs, Cams: 1,2,3,4,5 & Trunk Displacement & 0.895246 & 0.004817 \\\\\n",
      "12 & Single, Cam: 1, filt & Trunk Displacement & 0.807272 & 0.006401 \\\\\n",
      "13 & Single, Cam: 1, filt & Elbow Flexion [deg] & 0.970675 & 0.001078 \\\\\n",
      "14 & Single, Cam: 1, filt & Elbow Velocity [deg/s] & 0.902741 & 0.002716 \\\\\n",
      "15 & Single, Cam: 1, filt & Hand Velocity [mm/s] & 0.884722 & 0.006946 \\\\\n",
      "16 & Single, Cam: 1, filt & Shoulder Abduction [deg] & 0.341161 & 0.021039 \\\\\n",
      "17 & Single, Cam: 1, filt & Shoulder Flexion [deg] & 0.938345 & 0.001897 \\\\\n",
      "22 & Single, Cam: 1, unfilt & Shoulder Flexion [deg] & 0.938419 & 0.001899 \\\\\n",
      "18 & Single, Cam: 1, unfilt & Shoulder Abduction [deg] & 0.340358 & 0.020752 \\\\\n",
      "19 & Single, Cam: 1, unfilt & Hand Velocity [mm/s] & 0.673870 & 0.012586 \\\\\n",
      "20 & Single, Cam: 1, unfilt & Elbow Velocity [deg/s] & 0.888357 & 0.004285 \\\\\n",
      "21 & Single, Cam: 1, unfilt & Elbow Flexion [deg] & 0.970640 & 0.000734 \\\\\n",
      "23 & Single, Cam: 1, unfilt & Trunk Displacement & 0.806528 & 0.006495 \\\\\n",
      "\\end{tabular}\n",
      "\\end{table}\n",
      "\n"
     ]
    }
   ],
   "source": [
    "print(df_plot.style.to_latex(caption='Pearson Correlation and corresponding P-Value',\n",
    "      label = 'tab:res:cont:pearson_corr'))"
   ]
  },
  {
   "cell_type": "code",
   "execution_count": null,
   "id": "568bf8eab291b75f",
   "metadata": {
    "ExecuteTime": {
     "end_time": "2024-12-25T09:34:36.020725Z",
     "start_time": "2024-12-25T09:34:36.018230Z"
    }
   },
   "outputs": [],
   "source": []
  }
 ],
 "metadata": {
  "kernelspec": {
   "display_name": "iDrink_GUI",
   "language": "python",
   "name": "python3"
  },
  "language_info": {
   "codemirror_mode": {
    "name": "ipython",
    "version": 3
   },
   "file_extension": ".py",
   "mimetype": "text/x-python",
   "name": "python",
   "nbconvert_exporter": "python",
   "pygments_lexer": "ipython3",
   "version": "3.11.9"
  }
 },
 "nbformat": 4,
 "nbformat_minor": 5
}
