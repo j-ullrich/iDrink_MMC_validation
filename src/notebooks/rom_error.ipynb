{
 "cells": [
  {
   "cell_type": "code",
   "execution_count": 3,
   "id": "initial_id",
   "metadata": {
    "ExecuteTime": {
     "end_time": "2024-12-31T10:28:31.330259Z",
     "start_time": "2024-12-31T10:28:29.427464Z"
    },
    "collapsed": true
   },
   "outputs": [],
   "source": [
    "import os\n",
    "import sys\n",
    "import glob\n",
    "from operator import index\n",
    "from os import write\n",
    "\n",
    "from tqdm import tqdm\n",
    "import pandas as pd\n",
    "import numpy as np\n",
    "import ast\n",
    "\n",
    "import plotly as py\n",
    "import plotly.express as px\n",
    "import plotly.graph_objects as go\n",
    "from plotly.subplots import make_subplots\n",
    "from traitsui.examples.demo.Advanced.Tabular_editor_with_context_menu_demo import columns\n",
    "\n",
    "sys.path.append(os.path.realpath(os.path.abspath('..')))\n",
    "from iDrink import iDrinkUtilities\n",
    "from iDrink.iDrinkUtilities import get_title_measure_name, get_unit, get_cad, get_setting_axis_name"
   ]
  },
  {
   "cell_type": "code",
   "execution_count": 4,
   "id": "36db9321baf743a8",
   "metadata": {
    "ExecuteTime": {
     "end_time": "2024-12-31T10:28:32.685993Z",
     "start_time": "2024-12-31T10:28:32.446095Z"
    }
   },
   "outputs": [],
   "source": [
    "drive = iDrinkUtilities.get_drivepath()\n",
    "\n",
    "root_iDrink = os.path.join(drive, 'iDrink')\n",
    "root_val = os.path.join(root_iDrink, \"validation_root\")\n",
    "root_stat = os.path.join(root_val, '04_Statistics')\n",
    "root_omc = os.path.join(root_val, '03_data', 'OMC_new', 'S15133')\n",
    "root_data = os.path.join(root_val, \"03_data\")\n",
    "root_logs = os.path.join(root_val, \"05_logs\")\n",
    "\n",
    "csv_val_trials = os.path.join(root_logs, 'validation_trials.csv')\n",
    "df_val_trials = pd.read_csv(csv_val_trials, sep=';')\n",
    "\n",
    "csv_settings = os.path.join(root_logs, 'validation_settings.csv')\n",
    "df_settings = pd.read_csv(csv_settings, sep=';')\n",
    "\n",
    "csv_calib_error = os.path.join(root_logs, 'calib_errors.csv')\n",
    "df_calib_error = pd.read_csv(csv_calib_error, sep=';')\n",
    "\n",
    "csv_murphy = os.path.join(root_stat, '02_categorical', 'murphy_measures.csv')\n",
    "df_murphy = pd.read_csv(csv_murphy, sep=';')\n",
    "\n",
    "csv_failed_trials = os.path.join(root_stat, '04_failed_trials', 'failed_trials.csv')\n",
    "df_failed_trials = pd.read_csv(csv_failed_trials, sep=';')\n",
    "\n",
    "\n",
    "csv_cad = os.path.join(root_stat, '02_categorical', 'clinically_acceptable_difference.csv')\n",
    "\n",
    "df_cad = pd.read_csv(csv_cad, sep=',')\n",
    "\n",
    "list_identifier = sorted(df_val_trials['identifier'].tolist())\n",
    "\n",
    "ignore_id_p = ['P11', 'P19']\n",
    "idx_s_singlecam_full = ['S017', 'S018', 'S019', 'S020', 'S021', 'S022', 'S023', 'S024', 'S025', 'S026']\n",
    "idx_s_singlecam = ['S017', 'S018']\n",
    "idx_s_multicam = ['S001', 'S002', 'S003', 'S004', 'S005', 'S006', 'S007', 'S008', 'S009', 'S010', 'S011', 'S012', 'S013', 'S014', 'S015', 'S016']\n",
    "idx_s_multicam_reduced = ['S001', 'S002']\n",
    "idx_s_reduced = idx_s_multicam_reduced + idx_s_singlecam\n",
    "idx_s = idx_s_multicam + idx_s_singlecam"
   ]
  },
  {
   "cell_type": "markdown",
   "id": "9ed845150dfc3ba0",
   "metadata": {},
   "source": [
    "# Range of Motion Error\n",
    "## Time-Series"
   ]
  },
  {
   "cell_type": "code",
   "execution_count": 5,
   "id": "dbbdf8da65d0f9c3",
   "metadata": {
    "ExecuteTime": {
     "end_time": "2024-12-31T10:28:38.031765Z",
     "start_time": "2024-12-31T10:28:35.593569Z"
    }
   },
   "outputs": [],
   "source": [
    "from scipy import stats\n",
    "\n",
    "dir_stat_cont = os.path.join(root_stat, '01_continuous')\n",
    "dir_results = os.path.join(dir_stat_cont, '01_results')\n",
    "dir_plots = os.path.join(dir_stat_cont, '02_plots')\n",
    "\n",
    "csv_rom = os.path.join(dir_results, 'omc_mmc_rom.csv')\n",
    "df_rom = pd.read_csv(csv_rom, sep=';')\n",
    "df_rom.dropna(axis=1, inplace=True)\n",
    "dir_boxplots_rom_error = os.path.join(dir_plots, '04_rom', '01_rom_error_boxplots')\n",
    "\n",
    "df_rom = df_rom[(df_rom['id_s'].isin(idx_s_reduced)) & (~df_rom['id_p'].isin(ignore_id_p))]\n",
    "\n",
    "# Detect outlier for ROM errors\n",
    "cols_error = ['hand_vel_rom_error', 'elbow_vel_rom_error', 'trunk_disp_rom_error', 'elbow_flex_pos_rom_error', 'shoulder_flex_pos_rom_error', 'shoulder_abduction_pos_rom_error']\n",
    "df_rom = df_rom[(np.abs(stats.zscore(df_rom[cols_error])) < 3).all(axis=1)]\n",
    "\n",
    "\n",
    "#metrics = ['hand_vel', 'elbow_vel', 'trunk_disp', 'trunk_ang', 'elbow_flex_pos', 'shoulder_flex_pos', 'shoulder_abduction_pos']\n",
    "metrics = ['hand_vel', 'elbow_vel', 'trunk_disp', 'elbow_flex_pos', 'shoulder_flex_pos', 'shoulder_abduction_pos']\n",
    "\n",
    "df_filtered = df_rom[~df_rom['id_p'].isin(ignore_id_p)].sort_values(by='id_p')\n",
    "df_filtered = df_filtered[df_filtered['dynamic'] == 'fixed']\n",
    "df_filtered_rom_errors = df_filtered.groupby(['id_s', 'id_t']).median(numeric_only=True).filter(like='error')\n",
    "\n",
    "df_for_plot = pd.DataFrame(columns=['id_s', 'id_s_name', 'id_t', 'measure', 'error'])\n",
    "joint_metrics = ['elbow_flex_pos', 'shoulder_flex_pos', 'shoulder_abduction_pos']\n",
    "\n",
    "for id in df_filtered_rom_errors.index.to_list():\n",
    "    id_s = id[0]\n",
    "    id_t = id[1]\n",
    "    id_s_name = get_setting_axis_name(id_s)\n",
    "    for metric in metrics:\n",
    "        error = df_filtered_rom_errors.loc[id, f'{metric}_rom_error']\n",
    "        df_for_plot = pd.concat([df_for_plot, pd.DataFrame({'id_s': id_s, 'id_s_name': id_s_name, 'id_t': id_t, 'measure': metric, 'error': error}, index=[0])], ignore_index=True)\n",
    "    "
   ]
  },
  {
   "cell_type": "code",
   "execution_count": 6,
   "id": "555c7821156234fb",
   "metadata": {
    "ExecuteTime": {
     "end_time": "2024-12-31T10:28:44.083776Z",
     "start_time": "2024-12-31T10:28:40.128187Z"
    }
   },
   "outputs": [],
   "source": [
    "os.makedirs(dir_boxplots_rom_error, exist_ok=True)\n",
    "\n",
    "for measure in metrics:\n",
    "    unit = get_unit(measure)\n",
    "    title_name = get_title_measure_name(measure)\n",
    "        \n",
    "    cad = get_cad(df_cad, measure)\n",
    "    cad_neg = -cad\n",
    "    \n",
    "    fig = px.box(df_for_plot[df_for_plot['measure'] == measure].sort_values(by='id_s'), x='id_s_name', y='error', title=f'{title_name} ROM error, cad = {cad}', template='plotly', hover_name='id_t', width=650, height=650)\n",
    "    \n",
    "\n",
    "    \n",
    "    fig.add_hline(y=cad, line_dash='dash', line_color='red', name='CAD')\n",
    "    fig.add_hline(y=cad_neg, line_dash='dash', line_color='red', name='CAD')\n",
    "    \n",
    "    fig.update_layout(title= dict(text=f'<b>{title_name} ROM error<br>cad = {cad} {unit}<b>', font=dict(size=26)),\n",
    "                      xaxis_title=dict(text=f'<b>Settings<b>', font=dict(size=22)),\n",
    "                      yaxis_title=dict(text=f'<b>ROM error [{unit}]<b>', font=dict(size=22)),\n",
    "                      xaxis=dict(tickfont=dict(size=20))\n",
    "                  )\n",
    "    \n",
    "    #fig.show()\n",
    "\n",
    "    os.makedirs(os.path.join(dir_boxplots_rom_error, 'png'), exist_ok=True)\n",
    "    \n",
    "    filepath = os.path.join(dir_boxplots_rom_error, f'{measure}_rom_error_boxplot.html')\n",
    "    fig.write_html(filepath)\n",
    "    \n",
    "    filepath = os.path.join(dir_boxplots_rom_error, 'png', f'0304_{measure}_rom_error_boxplot.png')\n",
    "    fig.write_image(filepath, scale=5)\n",
    "    \n",
    "    filepath = os.path.join(dir_boxplots_rom_error, f'{measure}_rom_error_boxplot.svg')\n",
    "    fig.write_image(filepath)\n",
    "    "
   ]
  },
  {
   "cell_type": "code",
   "execution_count": null,
   "id": "b77d7b3a0fd3d786",
   "metadata": {
    "ExecuteTime": {
     "end_time": "2024-12-23T15:29:40.137481Z",
     "start_time": "2024-12-23T15:29:40.135584Z"
    }
   },
   "outputs": [],
   "source": []
  },
  {
   "cell_type": "code",
   "execution_count": 7,
   "id": "e10df9068b90b434",
   "metadata": {
    "ExecuteTime": {
     "end_time": "2024-12-29T21:51:59.584218Z",
     "start_time": "2024-12-29T21:51:59.580050Z"
    }
   },
   "outputs": [],
   "source": [
    "ignore_id_s = ['S003', 'S005', 'S006', 'S007', 'S008']"
   ]
  },
  {
   "cell_type": "code",
   "execution_count": 8,
   "id": "35fb2d5011f949af",
   "metadata": {
    "ExecuteTime": {
     "end_time": "2024-12-31T10:28:56.375098Z",
     "start_time": "2024-12-31T10:28:54.700994Z"
    }
   },
   "outputs": [],
   "source": [
    "df_filtered = df_rom[~df_rom['id_p'].isin(ignore_id_p)].sort_values(by='id_p')\n",
    "df_filtered = df_filtered[~df_filtered['id_s'].isin(ignore_id_s)].sort_values(by='id_p')\n",
    "\n",
    "\n",
    "df_filtered = df_filtered[df_filtered['dynamic'] == 'fixed']\n",
    "df_filtered_rom_errors = df_filtered.groupby(['id_s', 'id_t']).mean(numeric_only=True).filter(like='error')\n",
    "\n",
    "df_for_plot_corr = pd.DataFrame(columns=['id_s', 'id_s_name', 'id_t', 'measure', 'error'])\n",
    "joint_metrics = ['elbow_flex_pos', 'shoulder_flex_pos', 'shoulder_abduction_pos']\n",
    "\n",
    "for id in df_filtered_rom_errors.index.to_list():\n",
    "    id_s = id[0]\n",
    "    id_t = id[1]\n",
    "    id_s_name = get_setting_axis_name(id_s)\n",
    "    for metric in metrics:\n",
    "        error = df_filtered_rom_errors.loc[id, f'{metric}_rom_error']\n",
    "        df_for_plot_corr = pd.concat([df_for_plot_corr, pd.DataFrame({'id_s': id_s, 'id_s_name': id_s_name, 'id_t': id_t, 'measure': metric, 'error': error}, index=[0])], ignore_index=True)\n",
    "    "
   ]
  },
  {
   "cell_type": "code",
   "execution_count": 9,
   "id": "fb144e868829a4cc",
   "metadata": {
    "ExecuteTime": {
     "end_time": "2024-12-23T15:29:40.916205Z",
     "start_time": "2024-12-23T15:29:40.911286Z"
    }
   },
   "outputs": [],
   "source": [
    "df_checkup = df_for_plot.groupby(['id_s', 'measure']).median(numeric_only=True)"
   ]
  },
  {
   "cell_type": "code",
   "execution_count": 10,
   "id": "1dd4fe5657816c92",
   "metadata": {
    "ExecuteTime": {
     "end_time": "2024-12-23T15:29:41.458631Z",
     "start_time": "2024-12-23T15:29:40.956863Z"
    }
   },
   "outputs": [],
   "source": [
    "os.makedirs(dir_boxplots_rom_error, exist_ok=True)\n",
    "\n",
    "for measure in metrics:\n",
    "    unit = get_unit(measure)\n",
    "    title_name = get_title_measure_name(measure)\n",
    "    \n",
    "    cad = get_cad(df_cad, measure)\n",
    "    cad_minus = -cad\n",
    "    \n",
    "    fig = px.box(df_for_plot_corr[df_for_plot_corr['measure'] == measure], x='id_s_name', y='error', title=f'{title_name} ROM error, cad = {cad} {unit}',\n",
    "                 template='plotly')\n",
    "    \n",
    "\n",
    "    \n",
    "    fig.add_hline(y=cad, line_dash='dash', line_color='red', name='CAD')\n",
    "    fig.add_hline(y=-cad, line_dash='dash', line_color='red', name='CAD')\n",
    "    \n",
    "    fig.update_layout(title= f'{title_name} ROM error, cad = {cad} {unit}',\n",
    "                  xaxis_title=f'Settings',\n",
    "                  yaxis_title=f'ROM error [{unit}]',\n",
    "                  )\n",
    "    \n",
    "    #fig.show()\n",
    "    \n",
    "    \"\"\"filepath = os.path.join(dir_boxplots_rom_error, f'{measure}_rom_error_boxplot_corr.html')\n",
    "    fig.write_html(filepath)\n",
    "    \n",
    "    filepath = os.path.join(dir_boxplots_rom_error, f'{measure}_rom_error_boxplot_corr.png')\n",
    "    fig.write_image(filepath)\"\"\""
   ]
  },
  {
   "cell_type": "markdown",
   "id": "366eb9bcd79d9cd9",
   "metadata": {},
   "source": [
    "## ROM RMSE\n"
   ]
  },
  {
   "cell_type": "code",
   "execution_count": 11,
   "id": "82a21219a608362e",
   "metadata": {
    "ExecuteTime": {
     "end_time": "2024-12-31T10:29:26.835590Z",
     "start_time": "2024-12-31T10:29:26.815151Z"
    }
   },
   "outputs": [],
   "source": [
    "dir_stat_cont = os.path.join(root_stat, '01_continuous')\n",
    "dir_results = os.path.join(dir_stat_cont, '01_results')\n",
    "dir_plots = os.path.join(dir_stat_cont, '02_plots')\n",
    "\n",
    "csv_rom_rmse = os.path.join(dir_results, 'omc_mmc_rom_rmse.csv')\n",
    "df_rom_rmse = pd.read_csv(csv_rom_rmse, sep=';')\n",
    "\n",
    "metrics = ['hand_vel', 'elbow_vel', 'trunk_disp', 'elbow_flex_pos', 'shoulder_flex_pos',\n",
    "           'shoulder_abduction_pos']"
   ]
  },
  {
   "cell_type": "code",
   "execution_count": null,
   "id": "c40603f1a0b06935",
   "metadata": {
    "ExecuteTime": {
     "end_time": "2024-12-29T22:14:55.426887Z",
     "start_time": "2024-12-29T22:14:55.424881Z"
    }
   },
   "outputs": [],
   "source": []
  },
  {
   "cell_type": "code",
   "execution_count": 12,
   "id": "ff5c1ce13121c796",
   "metadata": {
    "ExecuteTime": {
     "end_time": "2024-12-29T22:14:56.092400Z",
     "start_time": "2024-12-29T22:14:56.084881Z"
    }
   },
   "outputs": [
    {
     "data": {
      "text/plain": [
       "\"df_rom_rmse['id_s']= df_rom_rmse['id'].str.split('_').str[0]\\ndf_rom_rmse['id_p']= df_rom_rmse['id'].str.split('_').str[1]\\ndf_rom_rmse['id_p'] = df_rom_rmse['id_p'].fillna(np.nan)\\n\\ndf_rom_rmse = df_rom_rmse.drop(columns=['id'])\""
      ]
     },
     "execution_count": 12,
     "metadata": {},
     "output_type": "execute_result"
    }
   ],
   "source": [
    "\"\"\"df_rom_rmse['id_s']= df_rom_rmse['id'].str.split('_').str[0]\n",
    "df_rom_rmse['id_p']= df_rom_rmse['id'].str.split('_').str[1]\n",
    "df_rom_rmse['id_p'] = df_rom_rmse['id_p'].fillna(np.nan)\n",
    "\n",
    "df_rom_rmse = df_rom_rmse.drop(columns=['id'])\"\"\""
   ]
  },
  {
   "cell_type": "code",
   "execution_count": 13,
   "id": "cd8de76194932479",
   "metadata": {
    "ExecuteTime": {
     "end_time": "2024-12-29T22:14:57.287632Z",
     "start_time": "2024-12-29T22:14:57.271525Z"
    }
   },
   "outputs": [
    {
     "data": {
      "application/vnd.microsoft.datawrangler.viewer.v0+json": {
       "columns": [
        {
         "name": "index",
         "rawType": "int64",
         "type": "integer"
        },
        {
         "name": "id",
         "rawType": "object",
         "type": "string"
        },
        {
         "name": "dynamic",
         "rawType": "object",
         "type": "string"
        },
        {
         "name": "condition",
         "rawType": "object",
         "type": "string"
        },
        {
         "name": "hand_vel_rom_rmse",
         "rawType": "float64",
         "type": "float"
        },
        {
         "name": "elbow_vel_rom_rmse",
         "rawType": "float64",
         "type": "float"
        },
        {
         "name": "trunk_disp_rom_rmse",
         "rawType": "float64",
         "type": "float"
        },
        {
         "name": "trunk_ang_rom_rmse",
         "rawType": "float64",
         "type": "float"
        },
        {
         "name": "elbow_flex_pos_rom_rmse",
         "rawType": "float64",
         "type": "float"
        },
        {
         "name": "shoulder_flex_pos_rom_rmse",
         "rawType": "float64",
         "type": "float"
        },
        {
         "name": "shoulder_abduction_pos_rom_rmse",
         "rawType": "float64",
         "type": "float"
        },
        {
         "name": "hand_vel_max_rmse",
         "rawType": "float64",
         "type": "float"
        },
        {
         "name": "hand_vel_min_rmse",
         "rawType": "float64",
         "type": "float"
        },
        {
         "name": "elbow_vel_max_rmse",
         "rawType": "float64",
         "type": "float"
        },
        {
         "name": "elbow_vel_min_rmse",
         "rawType": "float64",
         "type": "float"
        },
        {
         "name": "trunk_disp_max_rmse",
         "rawType": "float64",
         "type": "float"
        },
        {
         "name": "trunk_disp_min_rmse",
         "rawType": "float64",
         "type": "float"
        },
        {
         "name": "trunk_ang_max_rmse",
         "rawType": "float64",
         "type": "float"
        },
        {
         "name": "trunk_ang_min_rmse",
         "rawType": "float64",
         "type": "float"
        },
        {
         "name": "elbow_flex_pos_max_rmse",
         "rawType": "float64",
         "type": "float"
        },
        {
         "name": "elbow_flex_pos_min_rmse",
         "rawType": "float64",
         "type": "float"
        },
        {
         "name": "shoulder_flex_pos_max_rmse",
         "rawType": "float64",
         "type": "float"
        },
        {
         "name": "shoulder_flex_pos_min_rmse",
         "rawType": "float64",
         "type": "float"
        },
        {
         "name": "shoulder_abduction_pos_max_rmse",
         "rawType": "float64",
         "type": "float"
        },
        {
         "name": "shoulder_abduction_pos_min_rmse",
         "rawType": "float64",
         "type": "float"
        },
        {
         "name": "id_s",
         "rawType": "object",
         "type": "string"
        },
        {
         "name": "id_p",
         "rawType": "object",
         "type": "string"
        },
        {
         "name": "metric",
         "rawType": "object",
         "type": "string"
        },
        {
         "name": "rom_rmse",
         "rawType": "float64",
         "type": "float"
        }
       ],
       "conversionMethod": "pd.DataFrame",
       "ref": "ca4f2e95-d876-46df-959f-31c5dfd6ce75",
       "rows": [
        [
         "0",
         "S003",
         "fixed",
         "unaffected",
         "134.50133280063298",
         "1.532447401738143",
         "63.12879211489391",
         "2.192512593933956",
         "4.2268284434371175",
         "6.956935078717747",
         "10.48197953993229",
         "141.39274642463891",
         "13.132899075622587",
         "1.5243354159783191",
         "0.0205409587772362",
         "63.470278592669246",
         "0.5720713399695037",
         "68.13967525139182",
         "69.84575592138953",
         "3.759723095390854",
         "2.112326780975203",
         "7.664803904261308",
         "1.5537636480576715",
         "3.7457720101197904",
         "8.64348628561096",
         null,
         null,
         null,
         null
        ],
        [
         "1",
         "S003",
         "fixed",
         "affected",
         "267.88900419495485",
         "1.3324889609911377",
         "3.892988570272253",
         "3.388245940326182",
         "11.156659693789166",
         "11.327909563536153",
         "3.4506337455602045",
         "268.6064912662245",
         "13.089649704215592",
         "1.3276104538765172",
         "0.0184826148016264",
         "3.700681661478442",
         "0.4046509363750667",
         "70.5640460929347",
         "73.39505497414874",
         "2.576818081416743",
         "9.38475307788612",
         "14.924953958030653",
         "3.963279719507596",
         "8.35904232387529",
         "9.764519306763942",
         null,
         null,
         null,
         null
        ],
        [
         "2",
         "S003",
         "dynamic",
         "unaffected",
         "134.50133280063295",
         "1.532447401738143",
         "63.12879211489391",
         "2.192512593933956",
         "4.226828443437112",
         "6.956935078717747",
         "10.48197953993229",
         "103.63329297596825",
         "63.71360622826246",
         "1.2671229156464192",
         "0.2696461398185966",
         "40.61176158913533",
         "23.23440559766928",
         "1.851672023138016",
         "0.658033608869",
         "7.009060794250973",
         "3.586134834553889",
         "2.141910580252223",
         "5.072722104088368",
         "5.428947336092265",
         "5.320056544340778",
         null,
         null,
         null,
         null
        ],
        [
         "3",
         "S003",
         "dynamic",
         "affected",
         "267.8914315762655",
         "1.3324787369524338",
         "3.890899912902357",
         "3.388245940326181",
         "11.156659693789166",
         "11.327836572674912",
         "3.452875003118685",
         "263.0852692962191",
         "35.42749833224544",
         "1.166236367703215",
         "0.1730298667220204",
         "5.753113319960038",
         "3.20378122380651",
         "1.4036156346231332",
         "2.3353323671260737",
         "8.689379714159553",
         "3.0485336924288364",
         "8.45036977476392",
         "3.034262753266707",
         "3.8227082847955214",
         "4.867206536831167",
         null,
         null,
         null,
         null
        ],
        [
         "4",
         "S004",
         "fixed",
         "unaffected",
         "1137.5075092722984",
         "1.525185232798813",
         "63.40022209153855",
         "2.201263570343388",
         "4.219640226359237",
         "6.929598163599676",
         "10.362900146260014",
         "1168.5887404993082",
         "116.82679873754972",
         "1.5573104013346009",
         "0.0417566206459863",
         "63.7541316480339",
         "0.5931637770159262",
         "68.12597351785955",
         "69.84405339429364",
         "3.76927283331643",
         "2.1093159720327743",
         "7.6605953064718335",
         "1.5760402102585986",
         "3.687244668442677",
         "8.6029832430414",
         null,
         null,
         null,
         null
        ],
        [
         "5",
         "S004",
         "fixed",
         "affected",
         "597.6088435636907",
         "1.3525236961799882",
         "3.891126310309864",
         "3.3857826645639744",
         "11.216226051022838",
         "11.124413080974842",
         "3.396611789730519",
         "650.5792272231947",
         "105.42074517890924",
         "1.3975135897323248",
         "0.0526145508486701",
         "3.703658430849265",
         "0.413609955764026",
         "70.57057558203361",
         "73.38871723235482",
         "2.596875647741759",
         "9.420211397828858",
         "14.75140073831096",
         "3.993713876495231",
         "8.430825868817246",
         "9.741970783851665",
         null,
         null,
         null,
         null
        ],
        [
         "6",
         "S004",
         "dynamic",
         "unaffected",
         "1133.7767070990233",
         "1.525185232798813",
         "63.40022209153855",
         "2.2012635703433894",
         "4.21964022635924",
         "6.929598163599676",
         "10.362900146260014",
         "885.6357968968475",
         "311.0433424589848",
         "1.2480452081840303",
         "0.2822629553842108",
         "40.817676680074655",
         "23.2926498685582",
         "1.8515938721893803",
         "0.6572651437257401",
         "7.016375348440558",
         "3.601231296670369",
         "2.12475504610244",
         "5.065486924738361",
         "5.3454317374804985",
         "5.283868874319767",
         null,
         null,
         null,
         null
        ],
        [
         "7",
         "S004",
         "dynamic",
         "affected",
         "560.6695598142305",
         "1.3514391693703958",
         "3.88908231766222",
         "3.385782664563972",
         "11.216226051022838",
         "11.124916328695091",
         "3.399441254017721",
         "425.06458396385926",
         "258.50920322423417",
         "1.13259177924138",
         "0.2270698515946971",
         "5.776786216744135",
         "3.2728602883828946",
         "1.4061319857523038",
         "2.341208349039169",
         "8.71461817651037",
         "3.084090252887631",
         "8.281521839833006",
         "3.0032416493029643",
         "3.875921748338945",
         "4.837541301646644",
         null,
         null,
         null,
         null
        ],
        [
         "8",
         "S005",
         "fixed",
         "unaffected",
         "935.8673351003278",
         "1.2612135162908986",
         "52.479742036832505",
         "8.526703372246688",
         "11.155945670788842",
         "4.1104546481067645",
         "4.27519817296881",
         "927.991819050502",
         "35.20662611548543",
         "1.2554038566951704",
         "0.0199067358015796",
         "53.08434299050359",
         "1.0236180687144352",
         "70.42940046606493",
         "78.64213941872828",
         "15.01890393743848",
         "4.813420867928641",
         "4.218343522891653",
         "3.7839317886946735",
         "7.941853136769208",
         "4.13388635887657",
         null,
         null,
         null,
         null
        ],
        [
         "9",
         "S005",
         "fixed",
         "affected",
         "306.3666039867405",
         "1.1819382565562695",
         "44.30527202825842",
         "13.448212727895749",
         "6.29507236241885",
         "7.4600468126992",
         "3.328332801829724",
         "302.5486220891942",
         "19.16374987858933",
         "1.1748349422781716",
         "0.0264010993257937",
         "44.54392699327827",
         "0.4385421694238539",
         "60.42312225585815",
         "73.65081456760338",
         "3.380522385712986",
         "3.7488162351707945",
         "14.90676868956304",
         "8.536699566684403",
         "6.193614715834775",
         "5.074762982280719",
         null,
         null,
         null,
         null
        ],
        [
         "10",
         "S005",
         "dynamic",
         "unaffected",
         "935.8673351003278",
         "1.2612135162908986",
         "52.479742036832505",
         "8.526703372246685",
         "11.155945670788835",
         "4.113374044361813",
         "4.276794352053347",
         "798.6312096825636",
         "151.9232568691725",
         "1.0286801439010107",
         "0.2388387006586584",
         "28.7856158167437",
         "24.872390440194845",
         "7.039129926770284",
         "1.6391595725467227",
         "4.617041833012473",
         "7.067763681181456",
         "2.9984203980795074",
         "3.06953591459302",
         "2.1440615150030253",
         "2.282989909585551",
         null,
         null,
         null,
         null
        ],
        [
         "11",
         "S005",
         "dynamic",
         "affected",
         "306.3345122783071",
         "1.1818365885394655",
         "44.262387348192846",
         "13.44821272789574",
         "6.295072362418845",
         "7.4711806660886815",
         "3.328332801829724",
         "321.5900019376264",
         "58.95722509573165",
         "1.001563200507834",
         "0.1926550255668989",
         "23.82430338849457",
         "22.64387432956666",
         "9.660275493906822",
         "4.124361144073363",
         "5.389691706365547",
         "2.709775877010496",
         "2.444946280530115",
         "7.386876670948017",
         "4.717621832360233",
         "3.610481563027484",
         null,
         null,
         null,
         null
        ],
        [
         "12",
         "S006",
         "fixed",
         "unaffected",
         "2154.323059714903",
         "1.2682742621150938",
         "52.9244524731776",
         "8.325126744842107",
         "11.136634401972968",
         "4.040152053530751",
         "4.280546321836897",
         "2278.4056315915755",
         "156.02346124004103",
         "1.323356312047685",
         "0.0716887621456397",
         "53.59513035788127",
         "1.0860999738086523",
         "70.65171764900973",
         "78.62803236531117",
         "14.927522535780732",
         "4.755027797585214",
         "4.235871863193627",
         "3.8151944457341465",
         "7.931683776386378",
         "4.127353033922663",
         null,
         null,
         null,
         null
        ],
        [
         "13",
         "S006",
         "fixed",
         "affected",
         "998.3366978402915",
         "1.3215716802967812",
         "44.95961340938621",
         "13.379633446108455",
         "6.413539045961562",
         "7.403342951438797",
         "3.3418429574381627",
         "1071.6768049231084",
         "141.7752708331686",
         "1.366013304404786",
         "0.0560292641420303",
         "45.20980035161296",
         "0.4359364292545704",
         "60.49720696269425",
         "73.65476072630764",
         "3.450936412213775",
         "3.792390440509592",
         "14.883262635662852",
         "8.574894102866413",
         "6.231425252318056",
         "5.037843859750962",
         null,
         null,
         null,
         null
        ],
        [
         "14",
         "S006",
         "dynamic",
         "unaffected",
         "2154.1151091240035",
         "1.2682742621150938",
         "52.9244524731776",
         "8.325126744842105",
         "11.136634401972968",
         "4.043833407213804",
         "4.282029257610275",
         "1758.4146701580405",
         "428.4378327060595",
         "0.9878604861167402",
         "0.289780409352545",
         "29.098624443545106",
         "24.968958075559108",
         "6.800415764369157",
         "1.6761985938143222",
         "4.589836719034319",
         "7.109141598138328",
         "2.976918670298436",
         "3.081741533557745",
         "2.129871691806205",
         "2.301286058276492",
         null,
         null,
         null,
         null
        ],
        [
         "15",
         "S006",
         "dynamic",
         "affected",
         "958.7038754599693",
         "1.3179337567629146",
         "44.915269130238514",
         "13.37963344610846",
         "6.413539045961563",
         "7.41400743639385",
         "3.341842957438164",
         "657.0301001821188",
         "404.8032188081781",
         "0.9965465782572795",
         "0.3508792614311425",
         "24.419164820372146",
         "22.66258823829904",
         "9.569084114040065",
         "4.139215213563551",
         "5.467338069947643",
         "2.7012048941539075",
         "2.452827859798913",
         "7.372947665988084",
         "4.750123998026926",
         "3.573639632292968",
         null,
         null,
         null,
         null
        ],
        [
         "16",
         "S007",
         "fixed",
         "unaffected",
         "337.2266613897326",
         "1.4976707054217135",
         "80.26216395690841",
         "16.390318843213212",
         "12.105348518017658",
         "3.6705227652389136",
         "1.1481255342404806",
         "350.46007922610903",
         "17.888304518142256",
         "1.5021496432248265",
         "0.015682950986469",
         "80.86594095119376",
         "0.9554859970078726",
         "83.92122082600135",
         "100.12478627169922",
         "13.955391614769685",
         "2.950700639411925",
         "5.6396104425441065",
         "7.347316999409467",
         "6.419516577740274",
         "6.42479910400707",
         null,
         null,
         null,
         null
        ],
        [
         "17",
         "S007",
         "fixed",
         "affected",
         "401.4432596726938",
         "1.3559519333486747",
         "66.48696620795599",
         "41.494839454600935",
         "9.09814228724671",
         "10.26967608982364",
         "4.050237958982382",
         "403.39736816494025",
         "17.75231435682762",
         "1.3460968995378666",
         "0.0294638347678591",
         "66.74320956108107",
         "0.5086065081031721",
         "51.30309546213434",
         "92.62506024673122",
         "8.605220678589466",
         "16.047838106110643",
         "4.633216592087846",
         "13.876813242249485",
         "1.8380925865189115",
         "3.1450696606139577",
         null,
         null,
         null,
         null
        ],
        [
         "18",
         "S007",
         "dynamic",
         "unaffected",
         "337.22666138973256",
         "1.4976707054217135",
         "80.26216395690841",
         "16.39031884321321",
         "12.105348518017658",
         "3.6705227652389127",
         "1.1481255342404806",
         "295.71637551808635",
         "50.84892276235973",
         "1.2374611736035417",
         "0.2691587451438502",
         "63.29140778616596",
         "18.072486415441205",
         "7.855649220756475",
         "8.688686278526564",
         "7.269523559518139",
         "5.388298497316692",
         "2.570985742590324",
         "3.716455293303839",
         "0.865840940502705",
         "0.9342226071592398",
         null,
         null,
         null,
         null
        ],
        [
         "19",
         "S007",
         "dynamic",
         "affected",
         "401.4354729196653",
         "1.3557357288562286",
         "66.48816279008872",
         "41.494839454600935",
         "9.098142287246706",
         "10.24747954522705",
         "4.050237958982381",
         "379.8142804958286",
         "56.27398474401272",
         "1.111541186612872",
         "0.2699955839507506",
         "50.79700572569824",
         "18.266296520958484",
         "25.34269520232484",
         "16.669127513266428",
         "3.237147764271643",
         "6.956238854726289",
         "3.445970574701624",
         "7.7332276504280815",
         "4.846381464435354",
         "1.5790709528995484",
         null,
         null,
         null,
         null
        ],
        [
         "20",
         "S008",
         "fixed",
         "unaffected",
         "751.2608620814361",
         "1.5171303778803171",
         "80.54472099612326",
         "16.791040596278673",
         "12.03554357209413",
         "3.668823120067215",
         "1.2055364792139294",
         "827.0603962773918",
         "102.81854721706095",
         "1.5776119965767237",
         "0.0662472424923596",
         "81.17825415099063",
         "0.9967071617638354",
         "83.58878125412072",
         "100.14337595723512",
         "13.877270004391942",
         "2.9586588514890657",
         "5.644753938365938",
         "7.392916345224296",
         "6.381707529440995",
         "6.528425928715103",
         null,
         null,
         null,
         null
        ],
        [
         "21",
         "S008",
         "fixed",
         "affected",
         "875.7147509997716",
         "1.683093186574692",
         "66.89295422378503",
         "40.56047643711926",
         "9.182953148638887",
         "10.334320035968917",
         "4.087190559143558",
         "917.7900167462932",
         "109.77378049848532",
         "1.7370023213872214",
         "0.0722800661065488",
         "67.16505179450436",
         "0.5475387839457079",
         "51.90476803258684",
         "92.30401033081564",
         "8.552061905231229",
         "16.086464912583246",
         "4.608727211533977",
         "13.911353260018949",
         "1.8422654508418608",
         "3.168176099100108",
         null,
         null,
         null,
         null
        ],
        [
         "22",
         "S008",
         "dynamic",
         "unaffected",
         "737.6127495956532",
         "1.5171303778803171",
         "80.54472099612326",
         "16.791040596278677",
         "12.035543572094127",
         "3.668823120067215",
         "1.2055364792139296",
         "553.5389196281931",
         "223.49877395407097",
         "1.1999956807470404",
         "0.3278541644325001",
         "63.51871114207455",
         "18.11277617956302",
         "8.24201278097088",
         "8.731331729885063",
         "7.205341203131357",
         "5.39331938835424",
         "2.550217748738023",
         "3.722708675270816",
         "0.894085938217471",
         "0.926984073490299",
         null,
         null,
         null,
         null
        ],
        [
         "23",
         "S008",
         "dynamic",
         "affected",
         "791.262801458127",
         "1.6808669854711686",
         "66.89420461665908",
         "40.560476437119256",
         "9.182953148638887",
         "10.310581770978516",
         "4.087190559143558",
         "583.8718787615647",
         "282.8792492092689",
         "1.275645025392648",
         "0.4453784683737191",
         "51.13480745220006",
         "18.28172913173817",
         "24.69939775902091",
         "16.362736813667997",
         "3.2566642231108323",
         "7.000887119971836",
         "3.4686612100586456",
         "7.75562182414654",
         "4.8658017947574",
         "1.560646847836029",
         null,
         null,
         null,
         null
        ],
        [
         "24",
         "S009",
         "fixed",
         "unaffected",
         "1288.540901760392",
         "1.410417585202829",
         "252.09106318586225",
         "7.596376481036899",
         "9.534957136780022",
         "18.073843924114016",
         "8.0683597621829",
         "1340.2529076314013",
         "71.70982017235876",
         "1.4184272931951671",
         "0.0248161412307605",
         "254.1359669270792",
         "3.1231644898759474",
         "45.32701843273631",
         "52.78453868853928",
         "12.054978930373316",
         "3.485796685974272",
         "6.361885021588124",
         "22.35879181585816",
         "11.632109644826222",
         "4.386345748996883",
         null,
         null,
         null,
         null
        ],
        [
         "25",
         "S009",
         "fixed",
         "affected",
         "2235.6064890784896",
         "2.0855474643068512",
         "154.93576156931815",
         "19.08301841852635",
         "29.32009239823609",
         "18.88370712784678",
         "6.366442895249912",
         "2256.3617747056737",
         "59.66547307513255",
         "2.080985591454784",
         "0.0407187738029789",
         "156.4350753084375",
         "2.03996813299466",
         "47.95559854066301",
         "66.38223290516544",
         "12.345596916994404",
         "17.561227440719392",
         "16.048982516548385",
         "32.233646004411064",
         "3.509532843188097",
         "4.139960342905081",
         null,
         null,
         null,
         null
        ],
        [
         "26",
         "S009",
         "dynamic",
         "unaffected",
         "1272.890949566226",
         "1.410417585202829",
         "252.09106318586225",
         "7.581971989746164",
         "9.534957136780022",
         "18.07384392411402",
         "8.0683597621829",
         "889.2899295974285",
         "429.3932036247773",
         "1.1583765475855856",
         "0.2616905668042493",
         "155.27802624439784",
         "100.75065081600384",
         "3.901242192307897",
         "3.79090960257111",
         "3.026930407972044",
         "6.742343610364276",
         "5.409138676244213",
         "14.092194894842557",
         "4.728383232859639",
         "3.5802617918827018",
         null,
         null,
         null,
         null
        ],
        [
         "27",
         "S009",
         "dynamic",
         "affected",
         "2235.502760807817",
         "2.085458324066667",
         "154.72139738067403",
         "19.08301841852635",
         "29.32009239823609",
         "18.88511503655636",
         "6.366442895249912",
         "1991.2560635581417",
         "373.54323586161087",
         "1.6917231080375192",
         "0.430842928508769",
         "112.31878693628828",
         "48.19833287357169",
         "4.138751801910206",
         "15.378112193151116",
         "17.22219453708142",
         "12.537570286228547",
         "12.593577378555752",
         "8.48143472305466",
         "3.209135307208096",
         "4.600064195817906",
         null,
         null,
         null,
         null
        ],
        [
         "28",
         "S010",
         "fixed",
         "unaffected",
         "20522.42621032576",
         "1.4711846139307394",
         "253.61723554575747",
         "6.705152001124263",
         "9.281584376464815",
         "19.211171537928287",
         "7.760618070549993",
         "20857.75128751052",
         "608.5384020128894",
         "1.5692352508377785",
         "0.1134052435781416",
         "255.7807381891332",
         "3.147508893755549",
         "45.66204199990471",
         "52.22127975230307",
         "12.010849069384925",
         "3.685958968032943",
         "5.659871097301616",
         "22.704598918662736",
         "11.595617692635953",
         "4.697241254612761",
         null,
         null,
         null,
         null
        ],
        [
         "29",
         "S010",
         "fixed",
         "affected",
         "10173.777031905294",
         "4.77800303475853",
         "159.94499666597414",
         "19.08213888219872",
         "29.91652854831852",
         "20.237813079821017",
         "5.9981208873513125",
         "10670.987047017145",
         "683.451915012977",
         "4.858735857252754",
         "0.1227090558060921",
         "161.43479245783126",
         "2.030973418974465",
         "48.37606092059112",
         "66.83401491364214",
         "12.871810293973963",
         "17.57711334336465",
         "15.842829469396856",
         "33.36806442692371",
         "3.464890916820401",
         "4.063670169427343",
         null,
         null,
         null,
         null
        ],
        [
         "30",
         "S010",
         "dynamic",
         "unaffected",
         "20391.336579030627",
         "1.4711846139307394",
         "253.61723554575747",
         "6.680473121547176",
         "9.281584376464812",
         "19.211171537928287",
         "7.760618070549993",
         "17842.27532658886",
         "2992.524213806352",
         "1.0947483802007023",
         "0.4011442880126291",
         "156.9855859507454",
         "100.57658925844856",
         "3.6106299885480695",
         "3.204570012245056",
         "2.976893257669257",
         "6.562443999912009",
         "6.231641922834417",
         "14.112139093422588",
         "4.655615137234877",
         "3.441081088097078",
         null,
         null,
         null,
         null
        ],
        [
         "31",
         "S010",
         "dynamic",
         "affected",
         "9345.506652866969",
         "4.765099742465827",
         "159.75099029788657",
         "19.08213888219871",
         "29.91652854831851",
         "20.239338060712367",
         "5.9981208873513125",
         "7594.70827445702",
         "2083.603912775743",
         "3.9952574030736256",
         "0.8349199195280469",
         "116.80522998880586",
         "48.65234089203026",
         "3.9611995992989706",
         "15.552860569874513",
         "17.651468374007067",
         "12.682550444641514",
         "13.248281569693788",
         "9.031425401825205",
         "3.2513108435503866",
         "4.476602387177283",
         null,
         null,
         null,
         null
        ],
        [
         "32",
         "S003_P07",
         "fixed",
         "unaffected",
         "134.50133280063298",
         "1.532447401738143",
         "63.12879211489391",
         "2.192512593933956",
         "4.2268284434371175",
         "6.956935078717747",
         "10.48197953993229",
         "141.39274642463891",
         "13.132899075622587",
         "1.5243354159783191",
         "0.0205409587772362",
         "63.470278592669246",
         "0.5720713399695037",
         "68.13967525139182",
         "69.84575592138953",
         "3.759723095390854",
         "2.112326780975203",
         "7.664803904261308",
         "1.5537636480576715",
         "3.7457720101197904",
         "8.64348628561096",
         null,
         null,
         null,
         null
        ],
        [
         "33",
         "S003_P07",
         "fixed",
         "affected",
         "267.88900419495485",
         "1.3324889609911377",
         "3.892988570272253",
         "3.388245940326182",
         "11.156659693789166",
         "11.327909563536153",
         "3.4506337455602045",
         "268.6064912662245",
         "13.089649704215592",
         "1.3276104538765172",
         "0.0184826148016264",
         "3.700681661478442",
         "0.4046509363750667",
         "70.5640460929347",
         "73.39505497414874",
         "2.576818081416743",
         "9.38475307788612",
         "14.924953958030653",
         "3.963279719507596",
         "8.35904232387529",
         "9.764519306763942",
         null,
         null,
         null,
         null
        ],
        [
         "34",
         "S003_P07",
         "dynamic",
         "unaffected",
         "134.50133280063295",
         "1.532447401738143",
         "63.12879211489391",
         "2.192512593933956",
         "4.226828443437112",
         "6.956935078717747",
         "10.48197953993229",
         "103.63329297596825",
         "63.71360622826246",
         "1.2671229156464192",
         "0.2696461398185966",
         "40.61176158913533",
         "23.23440559766928",
         "1.851672023138016",
         "0.658033608869",
         "7.009060794250973",
         "3.586134834553889",
         "2.141910580252223",
         "5.072722104088368",
         "5.428947336092265",
         "5.320056544340778",
         null,
         null,
         null,
         null
        ],
        [
         "35",
         "S003_P07",
         "dynamic",
         "affected",
         "267.8914315762655",
         "1.3324787369524338",
         "3.890899912902357",
         "3.388245940326181",
         "11.156659693789166",
         "11.327836572674912",
         "3.452875003118685",
         "263.0852692962191",
         "35.42749833224544",
         "1.166236367703215",
         "0.1730298667220204",
         "5.753113319960038",
         "3.20378122380651",
         "1.4036156346231332",
         "2.3353323671260737",
         "8.689379714159553",
         "3.0485336924288364",
         "8.45036977476392",
         "3.034262753266707",
         "3.8227082847955214",
         "4.867206536831167",
         null,
         null,
         null,
         null
        ],
        [
         "36",
         "S004_P07",
         "fixed",
         "unaffected",
         "1137.5075092722984",
         "1.525185232798813",
         "63.40022209153855",
         "2.201263570343388",
         "4.219640226359237",
         "6.929598163599676",
         "10.362900146260014",
         "1168.5887404993082",
         "116.82679873754972",
         "1.5573104013346009",
         "0.0417566206459863",
         "63.7541316480339",
         "0.5931637770159262",
         "68.12597351785955",
         "69.84405339429364",
         "3.76927283331643",
         "2.1093159720327743",
         "7.6605953064718335",
         "1.5760402102585986",
         "3.687244668442677",
         "8.6029832430414",
         null,
         null,
         null,
         null
        ],
        [
         "37",
         "S004_P07",
         "fixed",
         "affected",
         "597.6088435636907",
         "1.3525236961799882",
         "3.891126310309864",
         "3.3857826645639744",
         "11.216226051022838",
         "11.124413080974842",
         "3.396611789730519",
         "650.5792272231947",
         "105.42074517890924",
         "1.3975135897323248",
         "0.0526145508486701",
         "3.703658430849265",
         "0.413609955764026",
         "70.57057558203361",
         "73.38871723235482",
         "2.596875647741759",
         "9.420211397828858",
         "14.75140073831096",
         "3.993713876495231",
         "8.430825868817246",
         "9.741970783851665",
         null,
         null,
         null,
         null
        ],
        [
         "38",
         "S004_P07",
         "dynamic",
         "unaffected",
         "1133.7767070990233",
         "1.525185232798813",
         "63.40022209153855",
         "2.2012635703433894",
         "4.21964022635924",
         "6.929598163599676",
         "10.362900146260014",
         "885.6357968968475",
         "311.0433424589848",
         "1.2480452081840303",
         "0.2822629553842108",
         "40.817676680074655",
         "23.2926498685582",
         "1.8515938721893803",
         "0.6572651437257401",
         "7.016375348440558",
         "3.601231296670369",
         "2.12475504610244",
         "5.065486924738361",
         "5.3454317374804985",
         "5.283868874319767",
         null,
         null,
         null,
         null
        ],
        [
         "39",
         "S004_P07",
         "dynamic",
         "affected",
         "560.6695598142305",
         "1.3514391693703958",
         "3.88908231766222",
         "3.385782664563972",
         "11.216226051022838",
         "11.124916328695091",
         "3.399441254017721",
         "425.06458396385926",
         "258.50920322423417",
         "1.13259177924138",
         "0.2270698515946971",
         "5.776786216744135",
         "3.2728602883828946",
         "1.4061319857523038",
         "2.341208349039169",
         "8.71461817651037",
         "3.084090252887631",
         "8.281521839833006",
         "3.0032416493029643",
         "3.875921748338945",
         "4.837541301646644",
         null,
         null,
         null,
         null
        ],
        [
         "40",
         "S005_P07",
         "fixed",
         "unaffected",
         "935.8673351003278",
         "1.2612135162908986",
         "52.479742036832505",
         "8.526703372246688",
         "11.155945670788842",
         "4.1104546481067645",
         "4.27519817296881",
         "927.991819050502",
         "35.20662611548543",
         "1.2554038566951704",
         "0.0199067358015796",
         "53.08434299050359",
         "1.0236180687144352",
         "70.42940046606493",
         "78.64213941872828",
         "15.01890393743848",
         "4.813420867928641",
         "4.218343522891653",
         "3.7839317886946735",
         "7.941853136769208",
         "4.13388635887657",
         null,
         null,
         null,
         null
        ],
        [
         "41",
         "S005_P07",
         "fixed",
         "affected",
         "306.3666039867405",
         "1.1819382565562695",
         "44.30527202825842",
         "13.448212727895749",
         "6.29507236241885",
         "7.4600468126992",
         "3.328332801829724",
         "302.5486220891942",
         "19.16374987858933",
         "1.1748349422781716",
         "0.0264010993257937",
         "44.54392699327827",
         "0.4385421694238539",
         "60.42312225585815",
         "73.65081456760338",
         "3.380522385712986",
         "3.7488162351707945",
         "14.90676868956304",
         "8.536699566684403",
         "6.193614715834775",
         "5.074762982280719",
         null,
         null,
         null,
         null
        ],
        [
         "42",
         "S005_P07",
         "dynamic",
         "unaffected",
         "935.8673351003278",
         "1.2612135162908986",
         "52.479742036832505",
         "8.526703372246685",
         "11.155945670788835",
         "4.113374044361813",
         "4.276794352053347",
         "798.6312096825636",
         "151.9232568691725",
         "1.0286801439010107",
         "0.2388387006586584",
         "28.7856158167437",
         "24.872390440194845",
         "7.039129926770284",
         "1.6391595725467227",
         "4.617041833012473",
         "7.067763681181456",
         "2.9984203980795074",
         "3.06953591459302",
         "2.1440615150030253",
         "2.282989909585551",
         null,
         null,
         null,
         null
        ],
        [
         "43",
         "S005_P07",
         "dynamic",
         "affected",
         "306.3345122783071",
         "1.1818365885394655",
         "44.262387348192846",
         "13.44821272789574",
         "6.295072362418845",
         "7.4711806660886815",
         "3.328332801829724",
         "321.5900019376264",
         "58.95722509573165",
         "1.001563200507834",
         "0.1926550255668989",
         "23.82430338849457",
         "22.64387432956666",
         "9.660275493906822",
         "4.124361144073363",
         "5.389691706365547",
         "2.709775877010496",
         "2.444946280530115",
         "7.386876670948017",
         "4.717621832360233",
         "3.610481563027484",
         null,
         null,
         null,
         null
        ],
        [
         "44",
         "S006_P07",
         "fixed",
         "unaffected",
         "2154.323059714903",
         "1.2682742621150938",
         "52.9244524731776",
         "8.325126744842107",
         "11.136634401972968",
         "4.040152053530751",
         "4.280546321836897",
         "2278.4056315915755",
         "156.02346124004103",
         "1.323356312047685",
         "0.0716887621456397",
         "53.59513035788127",
         "1.0860999738086523",
         "70.65171764900973",
         "78.62803236531117",
         "14.927522535780732",
         "4.755027797585214",
         "4.235871863193627",
         "3.8151944457341465",
         "7.931683776386378",
         "4.127353033922663",
         null,
         null,
         null,
         null
        ],
        [
         "45",
         "S006_P07",
         "fixed",
         "affected",
         "998.3366978402915",
         "1.3215716802967812",
         "44.95961340938621",
         "13.379633446108455",
         "6.413539045961562",
         "7.403342951438797",
         "3.3418429574381627",
         "1071.6768049231084",
         "141.7752708331686",
         "1.366013304404786",
         "0.0560292641420303",
         "45.20980035161296",
         "0.4359364292545704",
         "60.49720696269425",
         "73.65476072630764",
         "3.450936412213775",
         "3.792390440509592",
         "14.883262635662852",
         "8.574894102866413",
         "6.231425252318056",
         "5.037843859750962",
         null,
         null,
         null,
         null
        ],
        [
         "46",
         "S006_P07",
         "dynamic",
         "unaffected",
         "2154.1151091240035",
         "1.2682742621150938",
         "52.9244524731776",
         "8.325126744842105",
         "11.136634401972968",
         "4.043833407213804",
         "4.282029257610275",
         "1758.4146701580405",
         "428.4378327060595",
         "0.9878604861167402",
         "0.289780409352545",
         "29.098624443545106",
         "24.968958075559108",
         "6.800415764369157",
         "1.6761985938143222",
         "4.589836719034319",
         "7.109141598138328",
         "2.976918670298436",
         "3.081741533557745",
         "2.129871691806205",
         "2.301286058276492",
         null,
         null,
         null,
         null
        ],
        [
         "47",
         "S006_P07",
         "dynamic",
         "affected",
         "958.7038754599693",
         "1.3179337567629146",
         "44.915269130238514",
         "13.37963344610846",
         "6.413539045961563",
         "7.41400743639385",
         "3.341842957438164",
         "657.0301001821188",
         "404.8032188081781",
         "0.9965465782572795",
         "0.3508792614311425",
         "24.419164820372146",
         "22.66258823829904",
         "9.569084114040065",
         "4.139215213563551",
         "5.467338069947643",
         "2.7012048941539075",
         "2.452827859798913",
         "7.372947665988084",
         "4.750123998026926",
         "3.573639632292968",
         null,
         null,
         null,
         null
        ],
        [
         "48",
         "S007_P07",
         "fixed",
         "unaffected",
         "337.2266613897326",
         "1.4976707054217135",
         "80.26216395690841",
         "16.390318843213212",
         "12.105348518017658",
         "3.6705227652389136",
         "1.1481255342404806",
         "350.46007922610903",
         "17.888304518142256",
         "1.5021496432248265",
         "0.015682950986469",
         "80.86594095119376",
         "0.9554859970078726",
         "83.92122082600135",
         "100.12478627169922",
         "13.955391614769685",
         "2.950700639411925",
         "5.6396104425441065",
         "7.347316999409467",
         "6.419516577740274",
         "6.42479910400707",
         null,
         null,
         null,
         null
        ],
        [
         "49",
         "S007_P07",
         "fixed",
         "affected",
         "401.4432596726938",
         "1.3559519333486747",
         "66.48696620795599",
         "41.494839454600935",
         "9.09814228724671",
         "10.26967608982364",
         "4.050237958982382",
         "403.39736816494025",
         "17.75231435682762",
         "1.3460968995378666",
         "0.0294638347678591",
         "66.74320956108107",
         "0.5086065081031721",
         "51.30309546213434",
         "92.62506024673122",
         "8.605220678589466",
         "16.047838106110643",
         "4.633216592087846",
         "13.876813242249485",
         "1.8380925865189115",
         "3.1450696606139577",
         null,
         null,
         null,
         null
        ]
       ],
       "shape": {
        "columns": 28,
        "rows": 288
       }
      },
      "text/html": [
       "<div>\n",
       "<style scoped>\n",
       "    .dataframe tbody tr th:only-of-type {\n",
       "        vertical-align: middle;\n",
       "    }\n",
       "\n",
       "    .dataframe tbody tr th {\n",
       "        vertical-align: top;\n",
       "    }\n",
       "\n",
       "    .dataframe thead th {\n",
       "        text-align: right;\n",
       "    }\n",
       "</style>\n",
       "<table border=\"1\" class=\"dataframe\">\n",
       "  <thead>\n",
       "    <tr style=\"text-align: right;\">\n",
       "      <th></th>\n",
       "      <th>id</th>\n",
       "      <th>dynamic</th>\n",
       "      <th>condition</th>\n",
       "      <th>hand_vel_rom_rmse</th>\n",
       "      <th>elbow_vel_rom_rmse</th>\n",
       "      <th>trunk_disp_rom_rmse</th>\n",
       "      <th>trunk_ang_rom_rmse</th>\n",
       "      <th>elbow_flex_pos_rom_rmse</th>\n",
       "      <th>shoulder_flex_pos_rom_rmse</th>\n",
       "      <th>shoulder_abduction_pos_rom_rmse</th>\n",
       "      <th>...</th>\n",
       "      <th>elbow_flex_pos_max_rmse</th>\n",
       "      <th>elbow_flex_pos_min_rmse</th>\n",
       "      <th>shoulder_flex_pos_max_rmse</th>\n",
       "      <th>shoulder_flex_pos_min_rmse</th>\n",
       "      <th>shoulder_abduction_pos_max_rmse</th>\n",
       "      <th>shoulder_abduction_pos_min_rmse</th>\n",
       "      <th>id_s</th>\n",
       "      <th>id_p</th>\n",
       "      <th>metric</th>\n",
       "      <th>rom_rmse</th>\n",
       "    </tr>\n",
       "  </thead>\n",
       "  <tbody>\n",
       "    <tr>\n",
       "      <th>0</th>\n",
       "      <td>S003</td>\n",
       "      <td>fixed</td>\n",
       "      <td>unaffected</td>\n",
       "      <td>134.501333</td>\n",
       "      <td>1.532447</td>\n",
       "      <td>63.128792</td>\n",
       "      <td>2.192513</td>\n",
       "      <td>4.226828</td>\n",
       "      <td>6.956935</td>\n",
       "      <td>10.481980</td>\n",
       "      <td>...</td>\n",
       "      <td>3.759723</td>\n",
       "      <td>2.112327</td>\n",
       "      <td>7.664804</td>\n",
       "      <td>1.553764</td>\n",
       "      <td>3.745772</td>\n",
       "      <td>8.643486</td>\n",
       "      <td>NaN</td>\n",
       "      <td>NaN</td>\n",
       "      <td>NaN</td>\n",
       "      <td>NaN</td>\n",
       "    </tr>\n",
       "    <tr>\n",
       "      <th>1</th>\n",
       "      <td>S003</td>\n",
       "      <td>fixed</td>\n",
       "      <td>affected</td>\n",
       "      <td>267.889004</td>\n",
       "      <td>1.332489</td>\n",
       "      <td>3.892989</td>\n",
       "      <td>3.388246</td>\n",
       "      <td>11.156660</td>\n",
       "      <td>11.327910</td>\n",
       "      <td>3.450634</td>\n",
       "      <td>...</td>\n",
       "      <td>2.576818</td>\n",
       "      <td>9.384753</td>\n",
       "      <td>14.924954</td>\n",
       "      <td>3.963280</td>\n",
       "      <td>8.359042</td>\n",
       "      <td>9.764519</td>\n",
       "      <td>NaN</td>\n",
       "      <td>NaN</td>\n",
       "      <td>NaN</td>\n",
       "      <td>NaN</td>\n",
       "    </tr>\n",
       "    <tr>\n",
       "      <th>2</th>\n",
       "      <td>S003</td>\n",
       "      <td>dynamic</td>\n",
       "      <td>unaffected</td>\n",
       "      <td>134.501333</td>\n",
       "      <td>1.532447</td>\n",
       "      <td>63.128792</td>\n",
       "      <td>2.192513</td>\n",
       "      <td>4.226828</td>\n",
       "      <td>6.956935</td>\n",
       "      <td>10.481980</td>\n",
       "      <td>...</td>\n",
       "      <td>7.009061</td>\n",
       "      <td>3.586135</td>\n",
       "      <td>2.141911</td>\n",
       "      <td>5.072722</td>\n",
       "      <td>5.428947</td>\n",
       "      <td>5.320057</td>\n",
       "      <td>NaN</td>\n",
       "      <td>NaN</td>\n",
       "      <td>NaN</td>\n",
       "      <td>NaN</td>\n",
       "    </tr>\n",
       "    <tr>\n",
       "      <th>3</th>\n",
       "      <td>S003</td>\n",
       "      <td>dynamic</td>\n",
       "      <td>affected</td>\n",
       "      <td>267.891432</td>\n",
       "      <td>1.332479</td>\n",
       "      <td>3.890900</td>\n",
       "      <td>3.388246</td>\n",
       "      <td>11.156660</td>\n",
       "      <td>11.327837</td>\n",
       "      <td>3.452875</td>\n",
       "      <td>...</td>\n",
       "      <td>8.689380</td>\n",
       "      <td>3.048534</td>\n",
       "      <td>8.450370</td>\n",
       "      <td>3.034263</td>\n",
       "      <td>3.822708</td>\n",
       "      <td>4.867207</td>\n",
       "      <td>NaN</td>\n",
       "      <td>NaN</td>\n",
       "      <td>NaN</td>\n",
       "      <td>NaN</td>\n",
       "    </tr>\n",
       "    <tr>\n",
       "      <th>4</th>\n",
       "      <td>S004</td>\n",
       "      <td>fixed</td>\n",
       "      <td>unaffected</td>\n",
       "      <td>1137.507509</td>\n",
       "      <td>1.525185</td>\n",
       "      <td>63.400222</td>\n",
       "      <td>2.201264</td>\n",
       "      <td>4.219640</td>\n",
       "      <td>6.929598</td>\n",
       "      <td>10.362900</td>\n",
       "      <td>...</td>\n",
       "      <td>3.769273</td>\n",
       "      <td>2.109316</td>\n",
       "      <td>7.660595</td>\n",
       "      <td>1.576040</td>\n",
       "      <td>3.687245</td>\n",
       "      <td>8.602983</td>\n",
       "      <td>NaN</td>\n",
       "      <td>NaN</td>\n",
       "      <td>NaN</td>\n",
       "      <td>NaN</td>\n",
       "    </tr>\n",
       "    <tr>\n",
       "      <th>...</th>\n",
       "      <td>...</td>\n",
       "      <td>...</td>\n",
       "      <td>...</td>\n",
       "      <td>...</td>\n",
       "      <td>...</td>\n",
       "      <td>...</td>\n",
       "      <td>...</td>\n",
       "      <td>...</td>\n",
       "      <td>...</td>\n",
       "      <td>...</td>\n",
       "      <td>...</td>\n",
       "      <td>...</td>\n",
       "      <td>...</td>\n",
       "      <td>...</td>\n",
       "      <td>...</td>\n",
       "      <td>...</td>\n",
       "      <td>...</td>\n",
       "      <td>...</td>\n",
       "      <td>...</td>\n",
       "      <td>...</td>\n",
       "      <td>...</td>\n",
       "    </tr>\n",
       "    <tr>\n",
       "      <th>283</th>\n",
       "      <td>NaN</td>\n",
       "      <td>dynamic</td>\n",
       "      <td>unaffected</td>\n",
       "      <td>NaN</td>\n",
       "      <td>NaN</td>\n",
       "      <td>NaN</td>\n",
       "      <td>NaN</td>\n",
       "      <td>NaN</td>\n",
       "      <td>NaN</td>\n",
       "      <td>NaN</td>\n",
       "      <td>...</td>\n",
       "      <td>NaN</td>\n",
       "      <td>NaN</td>\n",
       "      <td>NaN</td>\n",
       "      <td>NaN</td>\n",
       "      <td>NaN</td>\n",
       "      <td>NaN</td>\n",
       "      <td>S010</td>\n",
       "      <td>P07</td>\n",
       "      <td>shoulder_flex_pos</td>\n",
       "      <td>19.211172</td>\n",
       "    </tr>\n",
       "    <tr>\n",
       "      <th>284</th>\n",
       "      <td>NaN</td>\n",
       "      <td>fixed</td>\n",
       "      <td>affected</td>\n",
       "      <td>NaN</td>\n",
       "      <td>NaN</td>\n",
       "      <td>NaN</td>\n",
       "      <td>NaN</td>\n",
       "      <td>NaN</td>\n",
       "      <td>NaN</td>\n",
       "      <td>NaN</td>\n",
       "      <td>...</td>\n",
       "      <td>NaN</td>\n",
       "      <td>NaN</td>\n",
       "      <td>NaN</td>\n",
       "      <td>NaN</td>\n",
       "      <td>NaN</td>\n",
       "      <td>NaN</td>\n",
       "      <td>S010</td>\n",
       "      <td>P07</td>\n",
       "      <td>shoulder_abduction_pos</td>\n",
       "      <td>5.998121</td>\n",
       "    </tr>\n",
       "    <tr>\n",
       "      <th>285</th>\n",
       "      <td>NaN</td>\n",
       "      <td>fixed</td>\n",
       "      <td>unaffected</td>\n",
       "      <td>NaN</td>\n",
       "      <td>NaN</td>\n",
       "      <td>NaN</td>\n",
       "      <td>NaN</td>\n",
       "      <td>NaN</td>\n",
       "      <td>NaN</td>\n",
       "      <td>NaN</td>\n",
       "      <td>...</td>\n",
       "      <td>NaN</td>\n",
       "      <td>NaN</td>\n",
       "      <td>NaN</td>\n",
       "      <td>NaN</td>\n",
       "      <td>NaN</td>\n",
       "      <td>NaN</td>\n",
       "      <td>S010</td>\n",
       "      <td>P07</td>\n",
       "      <td>shoulder_abduction_pos</td>\n",
       "      <td>7.760618</td>\n",
       "    </tr>\n",
       "    <tr>\n",
       "      <th>286</th>\n",
       "      <td>NaN</td>\n",
       "      <td>dynamic</td>\n",
       "      <td>affected</td>\n",
       "      <td>NaN</td>\n",
       "      <td>NaN</td>\n",
       "      <td>NaN</td>\n",
       "      <td>NaN</td>\n",
       "      <td>NaN</td>\n",
       "      <td>NaN</td>\n",
       "      <td>NaN</td>\n",
       "      <td>...</td>\n",
       "      <td>NaN</td>\n",
       "      <td>NaN</td>\n",
       "      <td>NaN</td>\n",
       "      <td>NaN</td>\n",
       "      <td>NaN</td>\n",
       "      <td>NaN</td>\n",
       "      <td>S010</td>\n",
       "      <td>P07</td>\n",
       "      <td>shoulder_abduction_pos</td>\n",
       "      <td>5.998121</td>\n",
       "    </tr>\n",
       "    <tr>\n",
       "      <th>287</th>\n",
       "      <td>NaN</td>\n",
       "      <td>dynamic</td>\n",
       "      <td>unaffected</td>\n",
       "      <td>NaN</td>\n",
       "      <td>NaN</td>\n",
       "      <td>NaN</td>\n",
       "      <td>NaN</td>\n",
       "      <td>NaN</td>\n",
       "      <td>NaN</td>\n",
       "      <td>NaN</td>\n",
       "      <td>...</td>\n",
       "      <td>NaN</td>\n",
       "      <td>NaN</td>\n",
       "      <td>NaN</td>\n",
       "      <td>NaN</td>\n",
       "      <td>NaN</td>\n",
       "      <td>NaN</td>\n",
       "      <td>S010</td>\n",
       "      <td>P07</td>\n",
       "      <td>shoulder_abduction_pos</td>\n",
       "      <td>7.760618</td>\n",
       "    </tr>\n",
       "  </tbody>\n",
       "</table>\n",
       "<p>288 rows × 28 columns</p>\n",
       "</div>"
      ],
      "text/plain": [
       "       id  dynamic   condition  hand_vel_rom_rmse  elbow_vel_rom_rmse  \\\n",
       "0    S003    fixed  unaffected         134.501333            1.532447   \n",
       "1    S003    fixed    affected         267.889004            1.332489   \n",
       "2    S003  dynamic  unaffected         134.501333            1.532447   \n",
       "3    S003  dynamic    affected         267.891432            1.332479   \n",
       "4    S004    fixed  unaffected        1137.507509            1.525185   \n",
       "..    ...      ...         ...                ...                 ...   \n",
       "283   NaN  dynamic  unaffected                NaN                 NaN   \n",
       "284   NaN    fixed    affected                NaN                 NaN   \n",
       "285   NaN    fixed  unaffected                NaN                 NaN   \n",
       "286   NaN  dynamic    affected                NaN                 NaN   \n",
       "287   NaN  dynamic  unaffected                NaN                 NaN   \n",
       "\n",
       "     trunk_disp_rom_rmse  trunk_ang_rom_rmse  elbow_flex_pos_rom_rmse  \\\n",
       "0              63.128792            2.192513                 4.226828   \n",
       "1               3.892989            3.388246                11.156660   \n",
       "2              63.128792            2.192513                 4.226828   \n",
       "3               3.890900            3.388246                11.156660   \n",
       "4              63.400222            2.201264                 4.219640   \n",
       "..                   ...                 ...                      ...   \n",
       "283                  NaN                 NaN                      NaN   \n",
       "284                  NaN                 NaN                      NaN   \n",
       "285                  NaN                 NaN                      NaN   \n",
       "286                  NaN                 NaN                      NaN   \n",
       "287                  NaN                 NaN                      NaN   \n",
       "\n",
       "     shoulder_flex_pos_rom_rmse  shoulder_abduction_pos_rom_rmse  ...  \\\n",
       "0                      6.956935                        10.481980  ...   \n",
       "1                     11.327910                         3.450634  ...   \n",
       "2                      6.956935                        10.481980  ...   \n",
       "3                     11.327837                         3.452875  ...   \n",
       "4                      6.929598                        10.362900  ...   \n",
       "..                          ...                              ...  ...   \n",
       "283                         NaN                              NaN  ...   \n",
       "284                         NaN                              NaN  ...   \n",
       "285                         NaN                              NaN  ...   \n",
       "286                         NaN                              NaN  ...   \n",
       "287                         NaN                              NaN  ...   \n",
       "\n",
       "     elbow_flex_pos_max_rmse  elbow_flex_pos_min_rmse  \\\n",
       "0                   3.759723                 2.112327   \n",
       "1                   2.576818                 9.384753   \n",
       "2                   7.009061                 3.586135   \n",
       "3                   8.689380                 3.048534   \n",
       "4                   3.769273                 2.109316   \n",
       "..                       ...                      ...   \n",
       "283                      NaN                      NaN   \n",
       "284                      NaN                      NaN   \n",
       "285                      NaN                      NaN   \n",
       "286                      NaN                      NaN   \n",
       "287                      NaN                      NaN   \n",
       "\n",
       "     shoulder_flex_pos_max_rmse  shoulder_flex_pos_min_rmse  \\\n",
       "0                      7.664804                    1.553764   \n",
       "1                     14.924954                    3.963280   \n",
       "2                      2.141911                    5.072722   \n",
       "3                      8.450370                    3.034263   \n",
       "4                      7.660595                    1.576040   \n",
       "..                          ...                         ...   \n",
       "283                         NaN                         NaN   \n",
       "284                         NaN                         NaN   \n",
       "285                         NaN                         NaN   \n",
       "286                         NaN                         NaN   \n",
       "287                         NaN                         NaN   \n",
       "\n",
       "     shoulder_abduction_pos_max_rmse  shoulder_abduction_pos_min_rmse  id_s  \\\n",
       "0                           3.745772                         8.643486   NaN   \n",
       "1                           8.359042                         9.764519   NaN   \n",
       "2                           5.428947                         5.320057   NaN   \n",
       "3                           3.822708                         4.867207   NaN   \n",
       "4                           3.687245                         8.602983   NaN   \n",
       "..                               ...                              ...   ...   \n",
       "283                              NaN                              NaN  S010   \n",
       "284                              NaN                              NaN  S010   \n",
       "285                              NaN                              NaN  S010   \n",
       "286                              NaN                              NaN  S010   \n",
       "287                              NaN                              NaN  S010   \n",
       "\n",
       "     id_p                  metric   rom_rmse  \n",
       "0     NaN                     NaN        NaN  \n",
       "1     NaN                     NaN        NaN  \n",
       "2     NaN                     NaN        NaN  \n",
       "3     NaN                     NaN        NaN  \n",
       "4     NaN                     NaN        NaN  \n",
       "..    ...                     ...        ...  \n",
       "283   P07       shoulder_flex_pos  19.211172  \n",
       "284   P07  shoulder_abduction_pos   5.998121  \n",
       "285   P07  shoulder_abduction_pos   7.760618  \n",
       "286   P07  shoulder_abduction_pos   5.998121  \n",
       "287   P07  shoulder_abduction_pos   7.760618  \n",
       "\n",
       "[288 rows x 28 columns]"
      ]
     },
     "execution_count": 13,
     "metadata": {},
     "output_type": "execute_result"
    }
   ],
   "source": [
    "df_rom_rmse"
   ]
  },
  {
   "cell_type": "code",
   "execution_count": 14,
   "id": "449decbfb4c3b954",
   "metadata": {
    "ExecuteTime": {
     "end_time": "2024-12-31T10:30:48.175932Z",
     "start_time": "2024-12-31T10:30:48.140413Z"
    }
   },
   "outputs": [],
   "source": [
    "# Detect outlier for ROM errors\n",
    "cols_error = ['hand_vel_rom_error', 'elbow_vel_rom_error', 'trunk_disp_rom_error', 'trunk_ang_rom_error', 'elbow_flex_pos_rom_error', 'shoulder_flex_pos_rom_error', 'shoulder_abduction_pos_rom_error']\n",
    "df_rom = df_rom[(np.abs(stats.zscore(df_rom[cols_error])) < 3).all(axis=1)]\n",
    "\n",
    "df_rom_rmse.dropna(axis=0, inplace=True)\n",
    "dir_barplots_rom_rmse_error = os.path.join(dir_plots, '04_rom', '02_rom_rmse_barplots')\n",
    "\n",
    "\"\"\"for metric in metrics:\n",
    "    mask = np.abs(stats.zscore(df_rom_rmse[df_rom_rmse['metric'] == metric]['rom_rmse'])) < 3\n",
    "    mask = mask.reindex(df_rom_rmse.index, fill_value=True)\n",
    "    df_rom_rmse = df_rom_rmse.loc[mask]\"\"\"\n",
    "\n",
    "df_filtered = df_rom_rmse[(df_rom_rmse['id_s'].isin(idx_s_reduced))&(~df_rom_rmse['id_p'].isin(ignore_id_p))].sort_values(by='id_p')\n",
    "df_filtered = df_filtered[df_filtered['dynamic'] == 'fixed']\n",
    "df_filtered = df_filtered.groupby(['id_s', 'metric']).mean(numeric_only=True)\n",
    "\n",
    "df_for_plot = pd.DataFrame(columns=['id_s', 'id_s_name',  'metric', 'rom_rmse'])\n",
    "joint_metrics = ['elbow_flex_pos', 'shoulder_flex_pos', 'shoulder_abduction_pos']\n",
    "\n",
    "for id in df_filtered.index.to_list():\n",
    "    id_s = id[0]\n",
    "    metric = id[1]\n",
    "    rmse = df_filtered.loc[id, 'rom_rmse']\n",
    "    id_s_name = get_setting_axis_name(id_s)\n",
    "    df_for_plot = pd.concat([df_for_plot, pd.DataFrame({'id_s': id_s, 'id_s_name': id_s_name, 'metric': metric, 'rom_rmse': rmse}, index=[0])], ignore_index=True)"
   ]
  },
  {
   "cell_type": "code",
   "execution_count": 15,
   "id": "6776969d325442dd",
   "metadata": {
    "ExecuteTime": {
     "end_time": "2024-12-29T22:28:53.359618Z",
     "start_time": "2024-12-29T22:28:53.041599Z"
    }
   },
   "outputs": [],
   "source": [
    "os.makedirs(dir_barplots_rom_rmse_error, exist_ok=True)\n",
    "\n",
    "for metric in metrics:\n",
    "    cad = get_cad(df_cad, metric)\n",
    "    unit = get_unit(metric)\n",
    "    title_name = get_title_measure_name(metric)\n",
    "    fig = px.bar(df_for_plot[df_for_plot['metric'] == metric], x='id_s_name', y='rom_rmse', title=f'{title_name} ROM RMSE, cad = {cad}',\n",
    "                 template='plotly', width=650, height=650)\n",
    "    \n",
    "    \n",
    "    \n",
    "    fig.add_hline(y=cad, line_dash='dash', line_color='red', name='CAD')\n",
    "\n",
    "    fig.update_layout(title= dict(text=f'<b>{title_name} ROM RMSE,<br>cad = {cad} {unit}<b>', font=dict(size=26)),\n",
    "              xaxis_title=dict(text=f'<b>Settings<b>', font=dict(size=22)),\n",
    "              yaxis_title=dict(text=f'<b>ROM RMSE [{unit}]<b>', font=dict(size=22)),\n",
    "                  xaxis=dict(tickfont=dict(size=20))\n",
    "              )\n",
    "    #fig.show()\n",
    "    filepath = os.path.join(dir_barplots_rom_rmse_error, f'{metric}_rom_rmse_barplot.html')\n",
    "    fig.write_html(filepath)\n",
    "\n",
    "    os.makedirs(os.path.join(dir_barplots_rom_rmse_error, 'png'), exist_ok=True)\n",
    "    filepath = os.path.join(dir_barplots_rom_rmse_error, 'png', f'0305-{metric}_rom_rmse_barplot.png')\n",
    "    fig.write_image(filepath)"
   ]
  },
  {
   "cell_type": "code",
   "execution_count": 122,
   "id": "684d27ab22bbdbc4",
   "metadata": {
    "ExecuteTime": {
     "end_time": "2024-12-23T15:29:44.423820Z",
     "start_time": "2024-12-23T15:29:44.420389Z"
    }
   },
   "outputs": [],
   "source": [
    "df_for_plot.insert(0, 'Setting', df_for_plot['id_s'].apply(lambda x: get_setting_axis_name(x)))\n",
    "df_for_plot.drop(columns=['id_s_name', 'id_s'], inplace=True)\n",
    "\n"
   ]
  },
  {
   "cell_type": "code",
   "execution_count": 123,
   "id": "91bc2441563ffcaf",
   "metadata": {
    "ExecuteTime": {
     "end_time": "2024-12-23T15:29:47.372799Z",
     "start_time": "2024-12-23T15:29:47.365424Z"
    }
   },
   "outputs": [],
   "source": [
    "df_for_plot['CAD'] = df_for_plot['metric'].apply(lambda x: get_cad(df_cad, x))\n",
    "df_for_plot['metric'] = df_for_plot['metric'].apply(lambda x: get_title_measure_name(x, add_unit = True))\n",
    "\n",
    "df_for_plot['RMSE < CAD'] = df_for_plot.apply(\n",
    "    lambda row: 'Yes' if (row['rom_rmse'] < row['CAD']) else 'No', axis=1)"
   ]
  },
  {
   "cell_type": "code",
   "execution_count": 124,
   "id": "7fe9e2b9e9c664e2",
   "metadata": {
    "ExecuteTime": {
     "end_time": "2024-12-23T15:29:50.342565Z",
     "start_time": "2024-12-23T15:29:50.336732Z"
    }
   },
   "outputs": [],
   "source": [
    "df_latex = df_for_plot.round(2)"
   ]
  },
  {
   "cell_type": "code",
   "execution_count": 86,
   "id": "4271e04f58c45210",
   "metadata": {
    "ExecuteTime": {
     "end_time": "2024-12-23T15:14:46.299302Z",
     "start_time": "2024-12-23T15:14:46.294374Z"
    }
   },
   "outputs": [],
   "source": [
    "df_latex = df_for_plot.groupby(['Setting', 'metric']).mean(numeric_only=True).round(2)"
   ]
  },
  {
   "cell_type": "code",
   "execution_count": 125,
   "id": "eb8755b5a0160ea5",
   "metadata": {
    "ExecuteTime": {
     "end_time": "2024-12-23T15:29:52.246170Z",
     "start_time": "2024-12-23T15:29:52.240070Z"
    }
   },
   "outputs": [
    {
     "name": "stdout",
     "output_type": "stream",
     "text": [
      "\\begin{table}\n",
      "\\caption{ROM RMSE for 5-cam and single-cam settings. The full table can be found in section \\ref{sec:app:plots_ts}}\n",
      "\\label{tab:res:cont:rom_rmse}\n",
      "\\begin{tabular}{lllrrl}\n",
      " & Setting & metric & rom_rmse & CAD & RMSE < CAD \\\\\n",
      "0 & SimCC, Cams: 1,2,3,4,5 & Elbow Flexion [deg] & 13.370000 & 4.480000 & No \\\\\n",
      "1 & SimCC, Cams: 1,2,3,4,5 & Elbow Velocity [deg/s] & 3.170000 & 21.710000 & Yes \\\\\n",
      "2 & SimCC, Cams: 1,2,3,4,5 & Hand Velocity [mm/s] & 5465.320000 & 78.960000 & No \\\\\n",
      "3 & SimCC, Cams: 1,2,3,4,5 & Shoulder Abduction [deg] & 6.820000 & 9.990000 & Yes \\\\\n",
      "4 & SimCC, Cams: 1,2,3,4,5 & Shoulder Flexion [deg] & 12.520000 & 7.820000 & No \\\\\n",
      "5 & SimCC, Cams: 1,2,3,4,5 & Trunk Angle [deg] & 25.170000 & nan & No \\\\\n",
      "6 & SimCC, Cams: 1,2,3,4,5 & Trunk Displacement [mm] & 40.410000 & 31.890000 & No \\\\\n",
      "7 & Metrabs, Cams: 1,2,3,4,5 & Elbow Flexion [deg] & 9.090000 & 4.480000 & No \\\\\n",
      "8 & Metrabs, Cams: 1,2,3,4,5 & Elbow Velocity [deg/s] & 2.600000 & 21.710000 & Yes \\\\\n",
      "9 & Metrabs, Cams: 1,2,3,4,5 & Hand Velocity [mm/s] & 7738.870000 & 78.960000 & No \\\\\n",
      "10 & Metrabs, Cams: 1,2,3,4,5 & Shoulder Abduction [deg] & 8.690000 & 9.990000 & Yes \\\\\n",
      "11 & Metrabs, Cams: 1,2,3,4,5 & Shoulder Flexion [deg] & 8.520000 & 7.820000 & No \\\\\n",
      "12 & Metrabs, Cams: 1,2,3,4,5 & Trunk Angle [deg] & 23.840000 & nan & No \\\\\n",
      "13 & Metrabs, Cams: 1,2,3,4,5 & Trunk Displacement [mm] & 22.060000 & 31.890000 & Yes \\\\\n",
      "14 & Single, Cam: 1, filt & Elbow Flexion [deg] & 9.320000 & 4.480000 & No \\\\\n",
      "15 & Single, Cam: 1, filt & Elbow Velocity [deg/s] & 1.330000 & 21.710000 & Yes \\\\\n",
      "16 & Single, Cam: 1, filt & Hand Velocity [mm/s] & 922.440000 & 78.960000 & No \\\\\n",
      "17 & Single, Cam: 1, filt & Shoulder Abduction [deg] & 5.520000 & 9.990000 & Yes \\\\\n",
      "18 & Single, Cam: 1, filt & Shoulder Flexion [deg] & 5.510000 & 7.820000 & Yes \\\\\n",
      "19 & Single, Cam: 1, filt & Trunk Angle [deg] & 21.080000 & nan & No \\\\\n",
      "20 & Single, Cam: 1, filt & Trunk Displacement [mm] & 29.120000 & 31.890000 & Yes \\\\\n",
      "21 & Single, Cam: 1, unfilt & Elbow Flexion [deg] & 9.300000 & 4.480000 & No \\\\\n",
      "22 & Single, Cam: 1, unfilt & Elbow Velocity [deg/s] & 1.380000 & 21.710000 & Yes \\\\\n",
      "23 & Single, Cam: 1, unfilt & Hand Velocity [mm/s] & 3467.620000 & 78.960000 & No \\\\\n",
      "24 & Single, Cam: 1, unfilt & Shoulder Abduction [deg] & 5.470000 & 9.990000 & Yes \\\\\n",
      "25 & Single, Cam: 1, unfilt & Shoulder Flexion [deg] & 5.390000 & 7.820000 & Yes \\\\\n",
      "26 & Single, Cam: 1, unfilt & Trunk Angle [deg] & 21.080000 & nan & No \\\\\n",
      "27 & Single, Cam: 1, unfilt & Trunk Displacement [mm] & 30.760000 & 31.890000 & Yes \\\\\n",
      "\\end{tabular}\n",
      "\\end{table}\n",
      "\n"
     ]
    }
   ],
   "source": [
    "print(df_latex.style.to_latex(label='tab:res:cont:rom_rmse',\n",
    "                              caption=r'ROM RMSE for 5-cam and single-cam settings. The full table can be found in section \\ref{sec:app:plots_ts}'))"
   ]
  },
  {
   "cell_type": "code",
   "execution_count": 81,
   "id": "f0f72a33925c1e",
   "metadata": {
    "ExecuteTime": {
     "end_time": "2024-12-23T15:14:22.536766Z",
     "start_time": "2024-12-23T15:14:22.051545Z"
    }
   },
   "outputs": [
    {
     "ename": "KeyError",
     "evalue": "'id_s'",
     "output_type": "error",
     "traceback": [
      "\u001b[1;31m---------------------------------------------------------------------------\u001b[0m",
      "\u001b[1;31mKeyError\u001b[0m                                  Traceback (most recent call last)",
      "Cell \u001b[1;32mIn[81], line 1\u001b[0m\n\u001b[1;32m----> 1\u001b[0m df_for_plot\u001b[38;5;241m.\u001b[39mgroupby([\u001b[38;5;124m'\u001b[39m\u001b[38;5;124mid_s\u001b[39m\u001b[38;5;124m'\u001b[39m, \u001b[38;5;124m'\u001b[39m\u001b[38;5;124mmetric\u001b[39m\u001b[38;5;124m'\u001b[39m])\u001b[38;5;241m.\u001b[39mmedian(numeric_only\u001b[38;5;241m=\u001b[39m\u001b[38;5;28;01mTrue\u001b[39;00m)\n",
      "File \u001b[1;32m~\\anaconda3\\envs\\iDrink_GUI\\Lib\\site-packages\\pandas\\core\\frame.py:8402\u001b[0m, in \u001b[0;36mDataFrame.groupby\u001b[1;34m(self, by, axis, level, as_index, sort, group_keys, squeeze, observed, dropna)\u001b[0m\n\u001b[0;32m   8399\u001b[0m     \u001b[38;5;28;01mraise\u001b[39;00m \u001b[38;5;167;01mTypeError\u001b[39;00m(\u001b[38;5;124m\"\u001b[39m\u001b[38;5;124mYou have to supply one of \u001b[39m\u001b[38;5;124m'\u001b[39m\u001b[38;5;124mby\u001b[39m\u001b[38;5;124m'\u001b[39m\u001b[38;5;124m and \u001b[39m\u001b[38;5;124m'\u001b[39m\u001b[38;5;124mlevel\u001b[39m\u001b[38;5;124m'\u001b[39m\u001b[38;5;124m\"\u001b[39m)\n\u001b[0;32m   8400\u001b[0m axis \u001b[38;5;241m=\u001b[39m \u001b[38;5;28mself\u001b[39m\u001b[38;5;241m.\u001b[39m_get_axis_number(axis)\n\u001b[1;32m-> 8402\u001b[0m \u001b[38;5;28;01mreturn\u001b[39;00m DataFrameGroupBy(\n\u001b[0;32m   8403\u001b[0m     obj\u001b[38;5;241m=\u001b[39m\u001b[38;5;28mself\u001b[39m,\n\u001b[0;32m   8404\u001b[0m     keys\u001b[38;5;241m=\u001b[39mby,\n\u001b[0;32m   8405\u001b[0m     axis\u001b[38;5;241m=\u001b[39maxis,\n\u001b[0;32m   8406\u001b[0m     level\u001b[38;5;241m=\u001b[39mlevel,\n\u001b[0;32m   8407\u001b[0m     as_index\u001b[38;5;241m=\u001b[39mas_index,\n\u001b[0;32m   8408\u001b[0m     sort\u001b[38;5;241m=\u001b[39msort,\n\u001b[0;32m   8409\u001b[0m     group_keys\u001b[38;5;241m=\u001b[39mgroup_keys,\n\u001b[0;32m   8410\u001b[0m     squeeze\u001b[38;5;241m=\u001b[39msqueeze,\n\u001b[0;32m   8411\u001b[0m     observed\u001b[38;5;241m=\u001b[39mobserved,\n\u001b[0;32m   8412\u001b[0m     dropna\u001b[38;5;241m=\u001b[39mdropna,\n\u001b[0;32m   8413\u001b[0m )\n",
      "File \u001b[1;32m~\\anaconda3\\envs\\iDrink_GUI\\Lib\\site-packages\\pandas\\core\\groupby\\groupby.py:965\u001b[0m, in \u001b[0;36mGroupBy.__init__\u001b[1;34m(self, obj, keys, axis, level, grouper, exclusions, selection, as_index, sort, group_keys, squeeze, observed, mutated, dropna)\u001b[0m\n\u001b[0;32m    962\u001b[0m \u001b[38;5;28;01mif\u001b[39;00m grouper \u001b[38;5;129;01mis\u001b[39;00m \u001b[38;5;28;01mNone\u001b[39;00m:\n\u001b[0;32m    963\u001b[0m     \u001b[38;5;28;01mfrom\u001b[39;00m \u001b[38;5;21;01mpandas\u001b[39;00m\u001b[38;5;21;01m.\u001b[39;00m\u001b[38;5;21;01mcore\u001b[39;00m\u001b[38;5;21;01m.\u001b[39;00m\u001b[38;5;21;01mgroupby\u001b[39;00m\u001b[38;5;21;01m.\u001b[39;00m\u001b[38;5;21;01mgrouper\u001b[39;00m \u001b[38;5;28;01mimport\u001b[39;00m get_grouper\n\u001b[1;32m--> 965\u001b[0m     grouper, exclusions, obj \u001b[38;5;241m=\u001b[39m get_grouper(\n\u001b[0;32m    966\u001b[0m         obj,\n\u001b[0;32m    967\u001b[0m         keys,\n\u001b[0;32m    968\u001b[0m         axis\u001b[38;5;241m=\u001b[39maxis,\n\u001b[0;32m    969\u001b[0m         level\u001b[38;5;241m=\u001b[39mlevel,\n\u001b[0;32m    970\u001b[0m         sort\u001b[38;5;241m=\u001b[39msort,\n\u001b[0;32m    971\u001b[0m         observed\u001b[38;5;241m=\u001b[39mobserved,\n\u001b[0;32m    972\u001b[0m         mutated\u001b[38;5;241m=\u001b[39m\u001b[38;5;28mself\u001b[39m\u001b[38;5;241m.\u001b[39mmutated,\n\u001b[0;32m    973\u001b[0m         dropna\u001b[38;5;241m=\u001b[39m\u001b[38;5;28mself\u001b[39m\u001b[38;5;241m.\u001b[39mdropna,\n\u001b[0;32m    974\u001b[0m     )\n\u001b[0;32m    976\u001b[0m \u001b[38;5;28mself\u001b[39m\u001b[38;5;241m.\u001b[39mobj \u001b[38;5;241m=\u001b[39m obj\n\u001b[0;32m    977\u001b[0m \u001b[38;5;28mself\u001b[39m\u001b[38;5;241m.\u001b[39maxis \u001b[38;5;241m=\u001b[39m obj\u001b[38;5;241m.\u001b[39m_get_axis_number(axis)\n",
      "File \u001b[1;32m~\\anaconda3\\envs\\iDrink_GUI\\Lib\\site-packages\\pandas\\core\\groupby\\grouper.py:888\u001b[0m, in \u001b[0;36mget_grouper\u001b[1;34m(obj, key, axis, level, sort, observed, mutated, validate, dropna)\u001b[0m\n\u001b[0;32m    886\u001b[0m         in_axis, level, gpr \u001b[38;5;241m=\u001b[39m \u001b[38;5;28;01mFalse\u001b[39;00m, gpr, \u001b[38;5;28;01mNone\u001b[39;00m\n\u001b[0;32m    887\u001b[0m     \u001b[38;5;28;01melse\u001b[39;00m:\n\u001b[1;32m--> 888\u001b[0m         \u001b[38;5;28;01mraise\u001b[39;00m \u001b[38;5;167;01mKeyError\u001b[39;00m(gpr)\n\u001b[0;32m    889\u001b[0m \u001b[38;5;28;01melif\u001b[39;00m \u001b[38;5;28misinstance\u001b[39m(gpr, Grouper) \u001b[38;5;129;01mand\u001b[39;00m gpr\u001b[38;5;241m.\u001b[39mkey \u001b[38;5;129;01mis\u001b[39;00m \u001b[38;5;129;01mnot\u001b[39;00m \u001b[38;5;28;01mNone\u001b[39;00m:\n\u001b[0;32m    890\u001b[0m     \u001b[38;5;66;03m# Add key to exclusions\u001b[39;00m\n\u001b[0;32m    891\u001b[0m     exclusions\u001b[38;5;241m.\u001b[39madd(gpr\u001b[38;5;241m.\u001b[39mkey)\n",
      "\u001b[1;31mKeyError\u001b[0m: 'id_s'"
     ]
    }
   ],
   "source": [
    "df_for_plot.groupby(['id_s', 'metric']).median(numeric_only=True)"
   ]
  },
  {
   "cell_type": "code",
   "execution_count": 21,
   "id": "fcc11efb6c126e0d",
   "metadata": {
    "ExecuteTime": {
     "end_time": "2024-12-31T10:38:57.521505Z",
     "start_time": "2024-12-31T10:38:56.783569Z"
    }
   },
   "outputs": [
    {
     "data": {
      "application/vnd.plotly.v1+json": {
       "config": {
        "plotlyServerURL": "https://plot.ly"
       },
       "data": [
        {
         "alignmentgroup": "True",
         "hovertemplate": "ids_name=%{x}<br>rom_rmse=%{y}<extra></extra>",
         "legendgroup": "",
         "marker": {
          "color": "#636efa",
          "pattern": {
           "shape": ""
          }
         },
         "name": "",
         "offsetgroup": "",
         "orientation": "v",
         "showlegend": false,
         "textposition": "auto",
         "type": "bar",
         "x": [
          "SimCC, Cams: 1,2,3,4,5",
          "Metrabs, Cams: 1,2,3,4,5",
          "SimCC, Cams: 6,7,8,9,10",
          "Metrabs, Cams: 6,7,8,9,10",
          "SimCC, Cams: 1,3,5",
          "Metrabs, Cams: 1,3,5",
          "SimCC, Cams: 2,3,4",
          "Metrabs, Cams: 2,3,4",
          "SimCC, Cams: 6,8,10",
          "Metrabs, Cams: 6,8,10",
          "SimCC, Cams: 7,8,9",
          "Metrabs, Cams: 7,8,9",
          "SimCC, Cams: 2,4",
          "Metrabs, Cams: 2,4",
          "SimCC, Cams: 7,9",
          "Metrabs, Cams: 7,9",
          "Single, Cam: 1, filt",
          "Single, Cam: 1, unfilt"
         ],
         "xaxis": "x",
         "y": [
          10889.897104245221,
          10498.047968056842,
          17821766.804791424,
          30065.51550946249,
          1010664.0612925855,
          252190487.0644969,
          331415173.27776486,
          8043230799.604988,
          92508.60291077392,
          32629.18190258057,
          37243.58672497454,
          5608.197885927566,
          24012.009208501244,
          89953.90242955122,
          40792.22842524982,
          19136.09498117864,
          5559.252632838611,
          7948.551835651611
         ],
         "yaxis": "y"
        }
       ],
       "layout": {
        "barmode": "relative",
        "legend": {
         "tracegroupgap": 0
        },
        "shapes": [
         {
          "line": {
           "color": "red",
           "dash": "dash"
          },
          "name": "CAD",
          "type": "line",
          "x0": 0,
          "x1": 1,
          "xref": "x domain",
          "y0": 78.96,
          "y1": 78.96,
          "yref": "y"
         }
        ],
        "template": {
         "data": {
          "bar": [
           {
            "error_x": {
             "color": "#2a3f5f"
            },
            "error_y": {
             "color": "#2a3f5f"
            },
            "marker": {
             "line": {
              "color": "#E5ECF6",
              "width": 0.5
             },
             "pattern": {
              "fillmode": "overlay",
              "size": 10,
              "solidity": 0.2
             }
            },
            "type": "bar"
           }
          ],
          "barpolar": [
           {
            "marker": {
             "line": {
              "color": "#E5ECF6",
              "width": 0.5
             },
             "pattern": {
              "fillmode": "overlay",
              "size": 10,
              "solidity": 0.2
             }
            },
            "type": "barpolar"
           }
          ],
          "carpet": [
           {
            "aaxis": {
             "endlinecolor": "#2a3f5f",
             "gridcolor": "white",
             "linecolor": "white",
             "minorgridcolor": "white",
             "startlinecolor": "#2a3f5f"
            },
            "baxis": {
             "endlinecolor": "#2a3f5f",
             "gridcolor": "white",
             "linecolor": "white",
             "minorgridcolor": "white",
             "startlinecolor": "#2a3f5f"
            },
            "type": "carpet"
           }
          ],
          "choropleth": [
           {
            "colorbar": {
             "outlinewidth": 0,
             "ticks": ""
            },
            "type": "choropleth"
           }
          ],
          "contour": [
           {
            "colorbar": {
             "outlinewidth": 0,
             "ticks": ""
            },
            "colorscale": [
             [
              0,
              "#0d0887"
             ],
             [
              0.1111111111111111,
              "#46039f"
             ],
             [
              0.2222222222222222,
              "#7201a8"
             ],
             [
              0.3333333333333333,
              "#9c179e"
             ],
             [
              0.4444444444444444,
              "#bd3786"
             ],
             [
              0.5555555555555556,
              "#d8576b"
             ],
             [
              0.6666666666666666,
              "#ed7953"
             ],
             [
              0.7777777777777778,
              "#fb9f3a"
             ],
             [
              0.8888888888888888,
              "#fdca26"
             ],
             [
              1,
              "#f0f921"
             ]
            ],
            "type": "contour"
           }
          ],
          "contourcarpet": [
           {
            "colorbar": {
             "outlinewidth": 0,
             "ticks": ""
            },
            "type": "contourcarpet"
           }
          ],
          "heatmap": [
           {
            "colorbar": {
             "outlinewidth": 0,
             "ticks": ""
            },
            "colorscale": [
             [
              0,
              "#0d0887"
             ],
             [
              0.1111111111111111,
              "#46039f"
             ],
             [
              0.2222222222222222,
              "#7201a8"
             ],
             [
              0.3333333333333333,
              "#9c179e"
             ],
             [
              0.4444444444444444,
              "#bd3786"
             ],
             [
              0.5555555555555556,
              "#d8576b"
             ],
             [
              0.6666666666666666,
              "#ed7953"
             ],
             [
              0.7777777777777778,
              "#fb9f3a"
             ],
             [
              0.8888888888888888,
              "#fdca26"
             ],
             [
              1,
              "#f0f921"
             ]
            ],
            "type": "heatmap"
           }
          ],
          "heatmapgl": [
           {
            "colorbar": {
             "outlinewidth": 0,
             "ticks": ""
            },
            "colorscale": [
             [
              0,
              "#0d0887"
             ],
             [
              0.1111111111111111,
              "#46039f"
             ],
             [
              0.2222222222222222,
              "#7201a8"
             ],
             [
              0.3333333333333333,
              "#9c179e"
             ],
             [
              0.4444444444444444,
              "#bd3786"
             ],
             [
              0.5555555555555556,
              "#d8576b"
             ],
             [
              0.6666666666666666,
              "#ed7953"
             ],
             [
              0.7777777777777778,
              "#fb9f3a"
             ],
             [
              0.8888888888888888,
              "#fdca26"
             ],
             [
              1,
              "#f0f921"
             ]
            ],
            "type": "heatmapgl"
           }
          ],
          "histogram": [
           {
            "marker": {
             "pattern": {
              "fillmode": "overlay",
              "size": 10,
              "solidity": 0.2
             }
            },
            "type": "histogram"
           }
          ],
          "histogram2d": [
           {
            "colorbar": {
             "outlinewidth": 0,
             "ticks": ""
            },
            "colorscale": [
             [
              0,
              "#0d0887"
             ],
             [
              0.1111111111111111,
              "#46039f"
             ],
             [
              0.2222222222222222,
              "#7201a8"
             ],
             [
              0.3333333333333333,
              "#9c179e"
             ],
             [
              0.4444444444444444,
              "#bd3786"
             ],
             [
              0.5555555555555556,
              "#d8576b"
             ],
             [
              0.6666666666666666,
              "#ed7953"
             ],
             [
              0.7777777777777778,
              "#fb9f3a"
             ],
             [
              0.8888888888888888,
              "#fdca26"
             ],
             [
              1,
              "#f0f921"
             ]
            ],
            "type": "histogram2d"
           }
          ],
          "histogram2dcontour": [
           {
            "colorbar": {
             "outlinewidth": 0,
             "ticks": ""
            },
            "colorscale": [
             [
              0,
              "#0d0887"
             ],
             [
              0.1111111111111111,
              "#46039f"
             ],
             [
              0.2222222222222222,
              "#7201a8"
             ],
             [
              0.3333333333333333,
              "#9c179e"
             ],
             [
              0.4444444444444444,
              "#bd3786"
             ],
             [
              0.5555555555555556,
              "#d8576b"
             ],
             [
              0.6666666666666666,
              "#ed7953"
             ],
             [
              0.7777777777777778,
              "#fb9f3a"
             ],
             [
              0.8888888888888888,
              "#fdca26"
             ],
             [
              1,
              "#f0f921"
             ]
            ],
            "type": "histogram2dcontour"
           }
          ],
          "mesh3d": [
           {
            "colorbar": {
             "outlinewidth": 0,
             "ticks": ""
            },
            "type": "mesh3d"
           }
          ],
          "parcoords": [
           {
            "line": {
             "colorbar": {
              "outlinewidth": 0,
              "ticks": ""
             }
            },
            "type": "parcoords"
           }
          ],
          "pie": [
           {
            "automargin": true,
            "type": "pie"
           }
          ],
          "scatter": [
           {
            "fillpattern": {
             "fillmode": "overlay",
             "size": 10,
             "solidity": 0.2
            },
            "type": "scatter"
           }
          ],
          "scatter3d": [
           {
            "line": {
             "colorbar": {
              "outlinewidth": 0,
              "ticks": ""
             }
            },
            "marker": {
             "colorbar": {
              "outlinewidth": 0,
              "ticks": ""
             }
            },
            "type": "scatter3d"
           }
          ],
          "scattercarpet": [
           {
            "marker": {
             "colorbar": {
              "outlinewidth": 0,
              "ticks": ""
             }
            },
            "type": "scattercarpet"
           }
          ],
          "scattergeo": [
           {
            "marker": {
             "colorbar": {
              "outlinewidth": 0,
              "ticks": ""
             }
            },
            "type": "scattergeo"
           }
          ],
          "scattergl": [
           {
            "marker": {
             "colorbar": {
              "outlinewidth": 0,
              "ticks": ""
             }
            },
            "type": "scattergl"
           }
          ],
          "scattermapbox": [
           {
            "marker": {
             "colorbar": {
              "outlinewidth": 0,
              "ticks": ""
             }
            },
            "type": "scattermapbox"
           }
          ],
          "scatterpolar": [
           {
            "marker": {
             "colorbar": {
              "outlinewidth": 0,
              "ticks": ""
             }
            },
            "type": "scatterpolar"
           }
          ],
          "scatterpolargl": [
           {
            "marker": {
             "colorbar": {
              "outlinewidth": 0,
              "ticks": ""
             }
            },
            "type": "scatterpolargl"
           }
          ],
          "scatterternary": [
           {
            "marker": {
             "colorbar": {
              "outlinewidth": 0,
              "ticks": ""
             }
            },
            "type": "scatterternary"
           }
          ],
          "surface": [
           {
            "colorbar": {
             "outlinewidth": 0,
             "ticks": ""
            },
            "colorscale": [
             [
              0,
              "#0d0887"
             ],
             [
              0.1111111111111111,
              "#46039f"
             ],
             [
              0.2222222222222222,
              "#7201a8"
             ],
             [
              0.3333333333333333,
              "#9c179e"
             ],
             [
              0.4444444444444444,
              "#bd3786"
             ],
             [
              0.5555555555555556,
              "#d8576b"
             ],
             [
              0.6666666666666666,
              "#ed7953"
             ],
             [
              0.7777777777777778,
              "#fb9f3a"
             ],
             [
              0.8888888888888888,
              "#fdca26"
             ],
             [
              1,
              "#f0f921"
             ]
            ],
            "type": "surface"
           }
          ],
          "table": [
           {
            "cells": {
             "fill": {
              "color": "#EBF0F8"
             },
             "line": {
              "color": "white"
             }
            },
            "header": {
             "fill": {
              "color": "#C8D4E3"
             },
             "line": {
              "color": "white"
             }
            },
            "type": "table"
           }
          ]
         },
         "layout": {
          "annotationdefaults": {
           "arrowcolor": "#2a3f5f",
           "arrowhead": 0,
           "arrowwidth": 1
          },
          "autotypenumbers": "strict",
          "coloraxis": {
           "colorbar": {
            "outlinewidth": 0,
            "ticks": ""
           }
          },
          "colorscale": {
           "diverging": [
            [
             0,
             "#8e0152"
            ],
            [
             0.1,
             "#c51b7d"
            ],
            [
             0.2,
             "#de77ae"
            ],
            [
             0.3,
             "#f1b6da"
            ],
            [
             0.4,
             "#fde0ef"
            ],
            [
             0.5,
             "#f7f7f7"
            ],
            [
             0.6,
             "#e6f5d0"
            ],
            [
             0.7,
             "#b8e186"
            ],
            [
             0.8,
             "#7fbc41"
            ],
            [
             0.9,
             "#4d9221"
            ],
            [
             1,
             "#276419"
            ]
           ],
           "sequential": [
            [
             0,
             "#0d0887"
            ],
            [
             0.1111111111111111,
             "#46039f"
            ],
            [
             0.2222222222222222,
             "#7201a8"
            ],
            [
             0.3333333333333333,
             "#9c179e"
            ],
            [
             0.4444444444444444,
             "#bd3786"
            ],
            [
             0.5555555555555556,
             "#d8576b"
            ],
            [
             0.6666666666666666,
             "#ed7953"
            ],
            [
             0.7777777777777778,
             "#fb9f3a"
            ],
            [
             0.8888888888888888,
             "#fdca26"
            ],
            [
             1,
             "#f0f921"
            ]
           ],
           "sequentialminus": [
            [
             0,
             "#0d0887"
            ],
            [
             0.1111111111111111,
             "#46039f"
            ],
            [
             0.2222222222222222,
             "#7201a8"
            ],
            [
             0.3333333333333333,
             "#9c179e"
            ],
            [
             0.4444444444444444,
             "#bd3786"
            ],
            [
             0.5555555555555556,
             "#d8576b"
            ],
            [
             0.6666666666666666,
             "#ed7953"
            ],
            [
             0.7777777777777778,
             "#fb9f3a"
            ],
            [
             0.8888888888888888,
             "#fdca26"
            ],
            [
             1,
             "#f0f921"
            ]
           ]
          },
          "colorway": [
           "#636efa",
           "#EF553B",
           "#00cc96",
           "#ab63fa",
           "#FFA15A",
           "#19d3f3",
           "#FF6692",
           "#B6E880",
           "#FF97FF",
           "#FECB52"
          ],
          "font": {
           "color": "#2a3f5f"
          },
          "geo": {
           "bgcolor": "white",
           "lakecolor": "white",
           "landcolor": "#E5ECF6",
           "showlakes": true,
           "showland": true,
           "subunitcolor": "white"
          },
          "hoverlabel": {
           "align": "left"
          },
          "hovermode": "closest",
          "mapbox": {
           "style": "light"
          },
          "paper_bgcolor": "white",
          "plot_bgcolor": "#E5ECF6",
          "polar": {
           "angularaxis": {
            "gridcolor": "white",
            "linecolor": "white",
            "ticks": ""
           },
           "bgcolor": "#E5ECF6",
           "radialaxis": {
            "gridcolor": "white",
            "linecolor": "white",
            "ticks": ""
           }
          },
          "scene": {
           "xaxis": {
            "backgroundcolor": "#E5ECF6",
            "gridcolor": "white",
            "gridwidth": 2,
            "linecolor": "white",
            "showbackground": true,
            "ticks": "",
            "zerolinecolor": "white"
           },
           "yaxis": {
            "backgroundcolor": "#E5ECF6",
            "gridcolor": "white",
            "gridwidth": 2,
            "linecolor": "white",
            "showbackground": true,
            "ticks": "",
            "zerolinecolor": "white"
           },
           "zaxis": {
            "backgroundcolor": "#E5ECF6",
            "gridcolor": "white",
            "gridwidth": 2,
            "linecolor": "white",
            "showbackground": true,
            "ticks": "",
            "zerolinecolor": "white"
           }
          },
          "shapedefaults": {
           "line": {
            "color": "#2a3f5f"
           }
          },
          "ternary": {
           "aaxis": {
            "gridcolor": "white",
            "linecolor": "white",
            "ticks": ""
           },
           "baxis": {
            "gridcolor": "white",
            "linecolor": "white",
            "ticks": ""
           },
           "bgcolor": "#E5ECF6",
           "caxis": {
            "gridcolor": "white",
            "linecolor": "white",
            "ticks": ""
           }
          },
          "title": {
           "x": 0.05
          },
          "xaxis": {
           "automargin": true,
           "gridcolor": "white",
           "linecolor": "white",
           "ticks": "",
           "title": {
            "standoff": 15
           },
           "zerolinecolor": "white",
           "zerolinewidth": 2
          },
          "yaxis": {
           "automargin": true,
           "gridcolor": "white",
           "linecolor": "white",
           "ticks": "",
           "title": {
            "standoff": 15
           },
           "zerolinecolor": "white",
           "zerolinewidth": 2
          }
         }
        },
        "title": {
         "font": {
          "size": 24
         },
         "text": "Hand Velocity ROM RMSE, cad = 78.96 mm/s"
        },
        "xaxis": {
         "anchor": "y",
         "domain": [
          0,
          1
         ],
         "title": {
          "font": {
           "size": 20
          },
          "text": "Settings"
         }
        },
        "yaxis": {
         "anchor": "x",
         "domain": [
          0,
          1
         ],
         "range": [
          0,
          2510
         ],
         "title": {
          "font": {
           "size": 20
          },
          "text": "ROM RMSE [mm/s]"
         }
        }
       }
      },
      "text/html": [
       "<div>                            <div id=\"5346e7be-638a-4d1d-a73c-2a1ec38128ee\" class=\"plotly-graph-div\" style=\"height:525px; width:100%;\"></div>            <script type=\"text/javascript\">                require([\"plotly\"], function(Plotly) {                    window.PLOTLYENV=window.PLOTLYENV || {};                                    if (document.getElementById(\"5346e7be-638a-4d1d-a73c-2a1ec38128ee\")) {                    Plotly.newPlot(                        \"5346e7be-638a-4d1d-a73c-2a1ec38128ee\",                        [{\"alignmentgroup\":\"True\",\"hovertemplate\":\"ids_name=%{x}\\u003cbr\\u003erom_rmse=%{y}\\u003cextra\\u003e\\u003c\\u002fextra\\u003e\",\"legendgroup\":\"\",\"marker\":{\"color\":\"#636efa\",\"pattern\":{\"shape\":\"\"}},\"name\":\"\",\"offsetgroup\":\"\",\"orientation\":\"v\",\"showlegend\":false,\"textposition\":\"auto\",\"x\":[\"SimCC, Cams: 1,2,3,4,5\",\"Metrabs, Cams: 1,2,3,4,5\",\"SimCC, Cams: 6,7,8,9,10\",\"Metrabs, Cams: 6,7,8,9,10\",\"SimCC, Cams: 1,3,5\",\"Metrabs, Cams: 1,3,5\",\"SimCC, Cams: 2,3,4\",\"Metrabs, Cams: 2,3,4\",\"SimCC, Cams: 6,8,10\",\"Metrabs, Cams: 6,8,10\",\"SimCC, Cams: 7,8,9\",\"Metrabs, Cams: 7,8,9\",\"SimCC, Cams: 2,4\",\"Metrabs, Cams: 2,4\",\"SimCC, Cams: 7,9\",\"Metrabs, Cams: 7,9\",\"Single, Cam: 1, filt\",\"Single, Cam: 1, unfilt\"],\"xaxis\":\"x\",\"y\":[10889.897104245221,10498.047968056842,17821766.804791424,30065.51550946249,1010664.0612925855,252190487.0644969,331415173.27776486,8043230799.604988,92508.60291077392,32629.18190258057,37243.58672497454,5608.197885927566,24012.009208501244,89953.90242955122,40792.22842524982,19136.09498117864,5559.252632838611,7948.551835651611],\"yaxis\":\"y\",\"type\":\"bar\"}],                        {\"template\":{\"data\":{\"barpolar\":[{\"marker\":{\"line\":{\"color\":\"#E5ECF6\",\"width\":0.5},\"pattern\":{\"fillmode\":\"overlay\",\"size\":10,\"solidity\":0.2}},\"type\":\"barpolar\"}],\"bar\":[{\"error_x\":{\"color\":\"#2a3f5f\"},\"error_y\":{\"color\":\"#2a3f5f\"},\"marker\":{\"line\":{\"color\":\"#E5ECF6\",\"width\":0.5},\"pattern\":{\"fillmode\":\"overlay\",\"size\":10,\"solidity\":0.2}},\"type\":\"bar\"}],\"carpet\":[{\"aaxis\":{\"endlinecolor\":\"#2a3f5f\",\"gridcolor\":\"white\",\"linecolor\":\"white\",\"minorgridcolor\":\"white\",\"startlinecolor\":\"#2a3f5f\"},\"baxis\":{\"endlinecolor\":\"#2a3f5f\",\"gridcolor\":\"white\",\"linecolor\":\"white\",\"minorgridcolor\":\"white\",\"startlinecolor\":\"#2a3f5f\"},\"type\":\"carpet\"}],\"choropleth\":[{\"colorbar\":{\"outlinewidth\":0,\"ticks\":\"\"},\"type\":\"choropleth\"}],\"contourcarpet\":[{\"colorbar\":{\"outlinewidth\":0,\"ticks\":\"\"},\"type\":\"contourcarpet\"}],\"contour\":[{\"colorbar\":{\"outlinewidth\":0,\"ticks\":\"\"},\"colorscale\":[[0.0,\"#0d0887\"],[0.1111111111111111,\"#46039f\"],[0.2222222222222222,\"#7201a8\"],[0.3333333333333333,\"#9c179e\"],[0.4444444444444444,\"#bd3786\"],[0.5555555555555556,\"#d8576b\"],[0.6666666666666666,\"#ed7953\"],[0.7777777777777778,\"#fb9f3a\"],[0.8888888888888888,\"#fdca26\"],[1.0,\"#f0f921\"]],\"type\":\"contour\"}],\"heatmapgl\":[{\"colorbar\":{\"outlinewidth\":0,\"ticks\":\"\"},\"colorscale\":[[0.0,\"#0d0887\"],[0.1111111111111111,\"#46039f\"],[0.2222222222222222,\"#7201a8\"],[0.3333333333333333,\"#9c179e\"],[0.4444444444444444,\"#bd3786\"],[0.5555555555555556,\"#d8576b\"],[0.6666666666666666,\"#ed7953\"],[0.7777777777777778,\"#fb9f3a\"],[0.8888888888888888,\"#fdca26\"],[1.0,\"#f0f921\"]],\"type\":\"heatmapgl\"}],\"heatmap\":[{\"colorbar\":{\"outlinewidth\":0,\"ticks\":\"\"},\"colorscale\":[[0.0,\"#0d0887\"],[0.1111111111111111,\"#46039f\"],[0.2222222222222222,\"#7201a8\"],[0.3333333333333333,\"#9c179e\"],[0.4444444444444444,\"#bd3786\"],[0.5555555555555556,\"#d8576b\"],[0.6666666666666666,\"#ed7953\"],[0.7777777777777778,\"#fb9f3a\"],[0.8888888888888888,\"#fdca26\"],[1.0,\"#f0f921\"]],\"type\":\"heatmap\"}],\"histogram2dcontour\":[{\"colorbar\":{\"outlinewidth\":0,\"ticks\":\"\"},\"colorscale\":[[0.0,\"#0d0887\"],[0.1111111111111111,\"#46039f\"],[0.2222222222222222,\"#7201a8\"],[0.3333333333333333,\"#9c179e\"],[0.4444444444444444,\"#bd3786\"],[0.5555555555555556,\"#d8576b\"],[0.6666666666666666,\"#ed7953\"],[0.7777777777777778,\"#fb9f3a\"],[0.8888888888888888,\"#fdca26\"],[1.0,\"#f0f921\"]],\"type\":\"histogram2dcontour\"}],\"histogram2d\":[{\"colorbar\":{\"outlinewidth\":0,\"ticks\":\"\"},\"colorscale\":[[0.0,\"#0d0887\"],[0.1111111111111111,\"#46039f\"],[0.2222222222222222,\"#7201a8\"],[0.3333333333333333,\"#9c179e\"],[0.4444444444444444,\"#bd3786\"],[0.5555555555555556,\"#d8576b\"],[0.6666666666666666,\"#ed7953\"],[0.7777777777777778,\"#fb9f3a\"],[0.8888888888888888,\"#fdca26\"],[1.0,\"#f0f921\"]],\"type\":\"histogram2d\"}],\"histogram\":[{\"marker\":{\"pattern\":{\"fillmode\":\"overlay\",\"size\":10,\"solidity\":0.2}},\"type\":\"histogram\"}],\"mesh3d\":[{\"colorbar\":{\"outlinewidth\":0,\"ticks\":\"\"},\"type\":\"mesh3d\"}],\"parcoords\":[{\"line\":{\"colorbar\":{\"outlinewidth\":0,\"ticks\":\"\"}},\"type\":\"parcoords\"}],\"pie\":[{\"automargin\":true,\"type\":\"pie\"}],\"scatter3d\":[{\"line\":{\"colorbar\":{\"outlinewidth\":0,\"ticks\":\"\"}},\"marker\":{\"colorbar\":{\"outlinewidth\":0,\"ticks\":\"\"}},\"type\":\"scatter3d\"}],\"scattercarpet\":[{\"marker\":{\"colorbar\":{\"outlinewidth\":0,\"ticks\":\"\"}},\"type\":\"scattercarpet\"}],\"scattergeo\":[{\"marker\":{\"colorbar\":{\"outlinewidth\":0,\"ticks\":\"\"}},\"type\":\"scattergeo\"}],\"scattergl\":[{\"marker\":{\"colorbar\":{\"outlinewidth\":0,\"ticks\":\"\"}},\"type\":\"scattergl\"}],\"scattermapbox\":[{\"marker\":{\"colorbar\":{\"outlinewidth\":0,\"ticks\":\"\"}},\"type\":\"scattermapbox\"}],\"scatterpolargl\":[{\"marker\":{\"colorbar\":{\"outlinewidth\":0,\"ticks\":\"\"}},\"type\":\"scatterpolargl\"}],\"scatterpolar\":[{\"marker\":{\"colorbar\":{\"outlinewidth\":0,\"ticks\":\"\"}},\"type\":\"scatterpolar\"}],\"scatter\":[{\"fillpattern\":{\"fillmode\":\"overlay\",\"size\":10,\"solidity\":0.2},\"type\":\"scatter\"}],\"scatterternary\":[{\"marker\":{\"colorbar\":{\"outlinewidth\":0,\"ticks\":\"\"}},\"type\":\"scatterternary\"}],\"surface\":[{\"colorbar\":{\"outlinewidth\":0,\"ticks\":\"\"},\"colorscale\":[[0.0,\"#0d0887\"],[0.1111111111111111,\"#46039f\"],[0.2222222222222222,\"#7201a8\"],[0.3333333333333333,\"#9c179e\"],[0.4444444444444444,\"#bd3786\"],[0.5555555555555556,\"#d8576b\"],[0.6666666666666666,\"#ed7953\"],[0.7777777777777778,\"#fb9f3a\"],[0.8888888888888888,\"#fdca26\"],[1.0,\"#f0f921\"]],\"type\":\"surface\"}],\"table\":[{\"cells\":{\"fill\":{\"color\":\"#EBF0F8\"},\"line\":{\"color\":\"white\"}},\"header\":{\"fill\":{\"color\":\"#C8D4E3\"},\"line\":{\"color\":\"white\"}},\"type\":\"table\"}]},\"layout\":{\"annotationdefaults\":{\"arrowcolor\":\"#2a3f5f\",\"arrowhead\":0,\"arrowwidth\":1},\"autotypenumbers\":\"strict\",\"coloraxis\":{\"colorbar\":{\"outlinewidth\":0,\"ticks\":\"\"}},\"colorscale\":{\"diverging\":[[0,\"#8e0152\"],[0.1,\"#c51b7d\"],[0.2,\"#de77ae\"],[0.3,\"#f1b6da\"],[0.4,\"#fde0ef\"],[0.5,\"#f7f7f7\"],[0.6,\"#e6f5d0\"],[0.7,\"#b8e186\"],[0.8,\"#7fbc41\"],[0.9,\"#4d9221\"],[1,\"#276419\"]],\"sequential\":[[0.0,\"#0d0887\"],[0.1111111111111111,\"#46039f\"],[0.2222222222222222,\"#7201a8\"],[0.3333333333333333,\"#9c179e\"],[0.4444444444444444,\"#bd3786\"],[0.5555555555555556,\"#d8576b\"],[0.6666666666666666,\"#ed7953\"],[0.7777777777777778,\"#fb9f3a\"],[0.8888888888888888,\"#fdca26\"],[1.0,\"#f0f921\"]],\"sequentialminus\":[[0.0,\"#0d0887\"],[0.1111111111111111,\"#46039f\"],[0.2222222222222222,\"#7201a8\"],[0.3333333333333333,\"#9c179e\"],[0.4444444444444444,\"#bd3786\"],[0.5555555555555556,\"#d8576b\"],[0.6666666666666666,\"#ed7953\"],[0.7777777777777778,\"#fb9f3a\"],[0.8888888888888888,\"#fdca26\"],[1.0,\"#f0f921\"]]},\"colorway\":[\"#636efa\",\"#EF553B\",\"#00cc96\",\"#ab63fa\",\"#FFA15A\",\"#19d3f3\",\"#FF6692\",\"#B6E880\",\"#FF97FF\",\"#FECB52\"],\"font\":{\"color\":\"#2a3f5f\"},\"geo\":{\"bgcolor\":\"white\",\"lakecolor\":\"white\",\"landcolor\":\"#E5ECF6\",\"showlakes\":true,\"showland\":true,\"subunitcolor\":\"white\"},\"hoverlabel\":{\"align\":\"left\"},\"hovermode\":\"closest\",\"mapbox\":{\"style\":\"light\"},\"paper_bgcolor\":\"white\",\"plot_bgcolor\":\"#E5ECF6\",\"polar\":{\"angularaxis\":{\"gridcolor\":\"white\",\"linecolor\":\"white\",\"ticks\":\"\"},\"bgcolor\":\"#E5ECF6\",\"radialaxis\":{\"gridcolor\":\"white\",\"linecolor\":\"white\",\"ticks\":\"\"}},\"scene\":{\"xaxis\":{\"backgroundcolor\":\"#E5ECF6\",\"gridcolor\":\"white\",\"gridwidth\":2,\"linecolor\":\"white\",\"showbackground\":true,\"ticks\":\"\",\"zerolinecolor\":\"white\"},\"yaxis\":{\"backgroundcolor\":\"#E5ECF6\",\"gridcolor\":\"white\",\"gridwidth\":2,\"linecolor\":\"white\",\"showbackground\":true,\"ticks\":\"\",\"zerolinecolor\":\"white\"},\"zaxis\":{\"backgroundcolor\":\"#E5ECF6\",\"gridcolor\":\"white\",\"gridwidth\":2,\"linecolor\":\"white\",\"showbackground\":true,\"ticks\":\"\",\"zerolinecolor\":\"white\"}},\"shapedefaults\":{\"line\":{\"color\":\"#2a3f5f\"}},\"ternary\":{\"aaxis\":{\"gridcolor\":\"white\",\"linecolor\":\"white\",\"ticks\":\"\"},\"baxis\":{\"gridcolor\":\"white\",\"linecolor\":\"white\",\"ticks\":\"\"},\"bgcolor\":\"#E5ECF6\",\"caxis\":{\"gridcolor\":\"white\",\"linecolor\":\"white\",\"ticks\":\"\"}},\"title\":{\"x\":0.05},\"xaxis\":{\"automargin\":true,\"gridcolor\":\"white\",\"linecolor\":\"white\",\"ticks\":\"\",\"title\":{\"standoff\":15},\"zerolinecolor\":\"white\",\"zerolinewidth\":2},\"yaxis\":{\"automargin\":true,\"gridcolor\":\"white\",\"linecolor\":\"white\",\"ticks\":\"\",\"title\":{\"standoff\":15},\"zerolinecolor\":\"white\",\"zerolinewidth\":2}}},\"xaxis\":{\"anchor\":\"y\",\"domain\":[0.0,1.0],\"title\":{\"text\":\"Settings\",\"font\":{\"size\":20}}},\"yaxis\":{\"anchor\":\"x\",\"domain\":[0.0,1.0],\"title\":{\"text\":\"ROM RMSE [mm\\u002fs]\",\"font\":{\"size\":20}},\"range\":[0,2510]},\"legend\":{\"tracegroupgap\":0},\"title\":{\"text\":\"Hand Velocity ROM RMSE, cad = 78.96 mm\\u002fs\",\"font\":{\"size\":24}},\"barmode\":\"relative\",\"shapes\":[{\"line\":{\"color\":\"red\",\"dash\":\"dash\"},\"name\":\"CAD\",\"type\":\"line\",\"x0\":0,\"x1\":1,\"xref\":\"x domain\",\"y0\":78.96,\"y1\":78.96,\"yref\":\"y\"}]},                        {\"responsive\": true}                    ).then(function(){\n",
       "                            \n",
       "var gd = document.getElementById('5346e7be-638a-4d1d-a73c-2a1ec38128ee');\n",
       "var x = new MutationObserver(function (mutations, observer) {{\n",
       "        var display = window.getComputedStyle(gd).display;\n",
       "        if (!display || display === 'none') {{\n",
       "            console.log([gd, 'removed!']);\n",
       "            Plotly.purge(gd);\n",
       "            observer.disconnect();\n",
       "        }}\n",
       "}});\n",
       "\n",
       "// Listen for the removal of the full notebook cells\n",
       "var notebookContainer = gd.closest('#notebook-container');\n",
       "if (notebookContainer) {{\n",
       "    x.observe(notebookContainer, {childList: true});\n",
       "}}\n",
       "\n",
       "// Listen for the clearing of the current output cell\n",
       "var outputEl = gd.closest('.output');\n",
       "if (outputEl) {{\n",
       "    x.observe(outputEl, {childList: true});\n",
       "}}\n",
       "\n",
       "                        })                };                });            </script>        </div>"
      ]
     },
     "metadata": {},
     "output_type": "display_data"
    },
    {
     "data": {
      "application/vnd.plotly.v1+json": {
       "config": {
        "plotlyServerURL": "https://plot.ly"
       },
       "data": [
        {
         "alignmentgroup": "True",
         "hovertemplate": "ids_name=%{x}<br>rom_rmse=%{y}<extra></extra>",
         "legendgroup": "",
         "marker": {
          "color": "#636efa",
          "pattern": {
           "shape": ""
          }
         },
         "name": "",
         "offsetgroup": "",
         "orientation": "v",
         "showlegend": false,
         "textposition": "auto",
         "type": "bar",
         "x": [
          "SimCC, Cams: 1,2,3,4,5",
          "Metrabs, Cams: 1,2,3,4,5",
          "SimCC, Cams: 6,7,8,9,10",
          "Metrabs, Cams: 6,7,8,9,10",
          "SimCC, Cams: 1,3,5",
          "Metrabs, Cams: 1,3,5",
          "SimCC, Cams: 2,3,4",
          "Metrabs, Cams: 2,3,4",
          "SimCC, Cams: 6,8,10",
          "Metrabs, Cams: 6,8,10",
          "SimCC, Cams: 7,8,9",
          "Metrabs, Cams: 7,8,9",
          "SimCC, Cams: 2,4",
          "Metrabs, Cams: 2,4",
          "SimCC, Cams: 7,9",
          "Metrabs, Cams: 7,9",
          "Single, Cam: 1, filt",
          "Single, Cam: 1, unfilt"
         ],
         "xaxis": "x",
         "y": [
          3.9934215602941965,
          4.143991700097822,
          18.07280965118877,
          5.391019629480951,
          15.422551201865316,
          6.768348297830449,
          13.786319805862485,
          6.017574218032837,
          12.15230670024387,
          34.870344180450026,
          11.328035310390437,
          4.2253698486447195,
          6.1778814480417354,
          7.117421834879796,
          8.29128439478467,
          10.892150583894475,
          1.4711599468973284,
          2.46078347240378
         ],
         "yaxis": "y"
        }
       ],
       "layout": {
        "barmode": "relative",
        "legend": {
         "tracegroupgap": 0
        },
        "shapes": [
         {
          "line": {
           "color": "red",
           "dash": "dash"
          },
          "name": "CAD",
          "type": "line",
          "x0": 0,
          "x1": 1,
          "xref": "x domain",
          "y0": 21.71,
          "y1": 21.71,
          "yref": "y"
         }
        ],
        "template": {
         "data": {
          "bar": [
           {
            "error_x": {
             "color": "#2a3f5f"
            },
            "error_y": {
             "color": "#2a3f5f"
            },
            "marker": {
             "line": {
              "color": "#E5ECF6",
              "width": 0.5
             },
             "pattern": {
              "fillmode": "overlay",
              "size": 10,
              "solidity": 0.2
             }
            },
            "type": "bar"
           }
          ],
          "barpolar": [
           {
            "marker": {
             "line": {
              "color": "#E5ECF6",
              "width": 0.5
             },
             "pattern": {
              "fillmode": "overlay",
              "size": 10,
              "solidity": 0.2
             }
            },
            "type": "barpolar"
           }
          ],
          "carpet": [
           {
            "aaxis": {
             "endlinecolor": "#2a3f5f",
             "gridcolor": "white",
             "linecolor": "white",
             "minorgridcolor": "white",
             "startlinecolor": "#2a3f5f"
            },
            "baxis": {
             "endlinecolor": "#2a3f5f",
             "gridcolor": "white",
             "linecolor": "white",
             "minorgridcolor": "white",
             "startlinecolor": "#2a3f5f"
            },
            "type": "carpet"
           }
          ],
          "choropleth": [
           {
            "colorbar": {
             "outlinewidth": 0,
             "ticks": ""
            },
            "type": "choropleth"
           }
          ],
          "contour": [
           {
            "colorbar": {
             "outlinewidth": 0,
             "ticks": ""
            },
            "colorscale": [
             [
              0,
              "#0d0887"
             ],
             [
              0.1111111111111111,
              "#46039f"
             ],
             [
              0.2222222222222222,
              "#7201a8"
             ],
             [
              0.3333333333333333,
              "#9c179e"
             ],
             [
              0.4444444444444444,
              "#bd3786"
             ],
             [
              0.5555555555555556,
              "#d8576b"
             ],
             [
              0.6666666666666666,
              "#ed7953"
             ],
             [
              0.7777777777777778,
              "#fb9f3a"
             ],
             [
              0.8888888888888888,
              "#fdca26"
             ],
             [
              1,
              "#f0f921"
             ]
            ],
            "type": "contour"
           }
          ],
          "contourcarpet": [
           {
            "colorbar": {
             "outlinewidth": 0,
             "ticks": ""
            },
            "type": "contourcarpet"
           }
          ],
          "heatmap": [
           {
            "colorbar": {
             "outlinewidth": 0,
             "ticks": ""
            },
            "colorscale": [
             [
              0,
              "#0d0887"
             ],
             [
              0.1111111111111111,
              "#46039f"
             ],
             [
              0.2222222222222222,
              "#7201a8"
             ],
             [
              0.3333333333333333,
              "#9c179e"
             ],
             [
              0.4444444444444444,
              "#bd3786"
             ],
             [
              0.5555555555555556,
              "#d8576b"
             ],
             [
              0.6666666666666666,
              "#ed7953"
             ],
             [
              0.7777777777777778,
              "#fb9f3a"
             ],
             [
              0.8888888888888888,
              "#fdca26"
             ],
             [
              1,
              "#f0f921"
             ]
            ],
            "type": "heatmap"
           }
          ],
          "heatmapgl": [
           {
            "colorbar": {
             "outlinewidth": 0,
             "ticks": ""
            },
            "colorscale": [
             [
              0,
              "#0d0887"
             ],
             [
              0.1111111111111111,
              "#46039f"
             ],
             [
              0.2222222222222222,
              "#7201a8"
             ],
             [
              0.3333333333333333,
              "#9c179e"
             ],
             [
              0.4444444444444444,
              "#bd3786"
             ],
             [
              0.5555555555555556,
              "#d8576b"
             ],
             [
              0.6666666666666666,
              "#ed7953"
             ],
             [
              0.7777777777777778,
              "#fb9f3a"
             ],
             [
              0.8888888888888888,
              "#fdca26"
             ],
             [
              1,
              "#f0f921"
             ]
            ],
            "type": "heatmapgl"
           }
          ],
          "histogram": [
           {
            "marker": {
             "pattern": {
              "fillmode": "overlay",
              "size": 10,
              "solidity": 0.2
             }
            },
            "type": "histogram"
           }
          ],
          "histogram2d": [
           {
            "colorbar": {
             "outlinewidth": 0,
             "ticks": ""
            },
            "colorscale": [
             [
              0,
              "#0d0887"
             ],
             [
              0.1111111111111111,
              "#46039f"
             ],
             [
              0.2222222222222222,
              "#7201a8"
             ],
             [
              0.3333333333333333,
              "#9c179e"
             ],
             [
              0.4444444444444444,
              "#bd3786"
             ],
             [
              0.5555555555555556,
              "#d8576b"
             ],
             [
              0.6666666666666666,
              "#ed7953"
             ],
             [
              0.7777777777777778,
              "#fb9f3a"
             ],
             [
              0.8888888888888888,
              "#fdca26"
             ],
             [
              1,
              "#f0f921"
             ]
            ],
            "type": "histogram2d"
           }
          ],
          "histogram2dcontour": [
           {
            "colorbar": {
             "outlinewidth": 0,
             "ticks": ""
            },
            "colorscale": [
             [
              0,
              "#0d0887"
             ],
             [
              0.1111111111111111,
              "#46039f"
             ],
             [
              0.2222222222222222,
              "#7201a8"
             ],
             [
              0.3333333333333333,
              "#9c179e"
             ],
             [
              0.4444444444444444,
              "#bd3786"
             ],
             [
              0.5555555555555556,
              "#d8576b"
             ],
             [
              0.6666666666666666,
              "#ed7953"
             ],
             [
              0.7777777777777778,
              "#fb9f3a"
             ],
             [
              0.8888888888888888,
              "#fdca26"
             ],
             [
              1,
              "#f0f921"
             ]
            ],
            "type": "histogram2dcontour"
           }
          ],
          "mesh3d": [
           {
            "colorbar": {
             "outlinewidth": 0,
             "ticks": ""
            },
            "type": "mesh3d"
           }
          ],
          "parcoords": [
           {
            "line": {
             "colorbar": {
              "outlinewidth": 0,
              "ticks": ""
             }
            },
            "type": "parcoords"
           }
          ],
          "pie": [
           {
            "automargin": true,
            "type": "pie"
           }
          ],
          "scatter": [
           {
            "fillpattern": {
             "fillmode": "overlay",
             "size": 10,
             "solidity": 0.2
            },
            "type": "scatter"
           }
          ],
          "scatter3d": [
           {
            "line": {
             "colorbar": {
              "outlinewidth": 0,
              "ticks": ""
             }
            },
            "marker": {
             "colorbar": {
              "outlinewidth": 0,
              "ticks": ""
             }
            },
            "type": "scatter3d"
           }
          ],
          "scattercarpet": [
           {
            "marker": {
             "colorbar": {
              "outlinewidth": 0,
              "ticks": ""
             }
            },
            "type": "scattercarpet"
           }
          ],
          "scattergeo": [
           {
            "marker": {
             "colorbar": {
              "outlinewidth": 0,
              "ticks": ""
             }
            },
            "type": "scattergeo"
           }
          ],
          "scattergl": [
           {
            "marker": {
             "colorbar": {
              "outlinewidth": 0,
              "ticks": ""
             }
            },
            "type": "scattergl"
           }
          ],
          "scattermapbox": [
           {
            "marker": {
             "colorbar": {
              "outlinewidth": 0,
              "ticks": ""
             }
            },
            "type": "scattermapbox"
           }
          ],
          "scatterpolar": [
           {
            "marker": {
             "colorbar": {
              "outlinewidth": 0,
              "ticks": ""
             }
            },
            "type": "scatterpolar"
           }
          ],
          "scatterpolargl": [
           {
            "marker": {
             "colorbar": {
              "outlinewidth": 0,
              "ticks": ""
             }
            },
            "type": "scatterpolargl"
           }
          ],
          "scatterternary": [
           {
            "marker": {
             "colorbar": {
              "outlinewidth": 0,
              "ticks": ""
             }
            },
            "type": "scatterternary"
           }
          ],
          "surface": [
           {
            "colorbar": {
             "outlinewidth": 0,
             "ticks": ""
            },
            "colorscale": [
             [
              0,
              "#0d0887"
             ],
             [
              0.1111111111111111,
              "#46039f"
             ],
             [
              0.2222222222222222,
              "#7201a8"
             ],
             [
              0.3333333333333333,
              "#9c179e"
             ],
             [
              0.4444444444444444,
              "#bd3786"
             ],
             [
              0.5555555555555556,
              "#d8576b"
             ],
             [
              0.6666666666666666,
              "#ed7953"
             ],
             [
              0.7777777777777778,
              "#fb9f3a"
             ],
             [
              0.8888888888888888,
              "#fdca26"
             ],
             [
              1,
              "#f0f921"
             ]
            ],
            "type": "surface"
           }
          ],
          "table": [
           {
            "cells": {
             "fill": {
              "color": "#EBF0F8"
             },
             "line": {
              "color": "white"
             }
            },
            "header": {
             "fill": {
              "color": "#C8D4E3"
             },
             "line": {
              "color": "white"
             }
            },
            "type": "table"
           }
          ]
         },
         "layout": {
          "annotationdefaults": {
           "arrowcolor": "#2a3f5f",
           "arrowhead": 0,
           "arrowwidth": 1
          },
          "autotypenumbers": "strict",
          "coloraxis": {
           "colorbar": {
            "outlinewidth": 0,
            "ticks": ""
           }
          },
          "colorscale": {
           "diverging": [
            [
             0,
             "#8e0152"
            ],
            [
             0.1,
             "#c51b7d"
            ],
            [
             0.2,
             "#de77ae"
            ],
            [
             0.3,
             "#f1b6da"
            ],
            [
             0.4,
             "#fde0ef"
            ],
            [
             0.5,
             "#f7f7f7"
            ],
            [
             0.6,
             "#e6f5d0"
            ],
            [
             0.7,
             "#b8e186"
            ],
            [
             0.8,
             "#7fbc41"
            ],
            [
             0.9,
             "#4d9221"
            ],
            [
             1,
             "#276419"
            ]
           ],
           "sequential": [
            [
             0,
             "#0d0887"
            ],
            [
             0.1111111111111111,
             "#46039f"
            ],
            [
             0.2222222222222222,
             "#7201a8"
            ],
            [
             0.3333333333333333,
             "#9c179e"
            ],
            [
             0.4444444444444444,
             "#bd3786"
            ],
            [
             0.5555555555555556,
             "#d8576b"
            ],
            [
             0.6666666666666666,
             "#ed7953"
            ],
            [
             0.7777777777777778,
             "#fb9f3a"
            ],
            [
             0.8888888888888888,
             "#fdca26"
            ],
            [
             1,
             "#f0f921"
            ]
           ],
           "sequentialminus": [
            [
             0,
             "#0d0887"
            ],
            [
             0.1111111111111111,
             "#46039f"
            ],
            [
             0.2222222222222222,
             "#7201a8"
            ],
            [
             0.3333333333333333,
             "#9c179e"
            ],
            [
             0.4444444444444444,
             "#bd3786"
            ],
            [
             0.5555555555555556,
             "#d8576b"
            ],
            [
             0.6666666666666666,
             "#ed7953"
            ],
            [
             0.7777777777777778,
             "#fb9f3a"
            ],
            [
             0.8888888888888888,
             "#fdca26"
            ],
            [
             1,
             "#f0f921"
            ]
           ]
          },
          "colorway": [
           "#636efa",
           "#EF553B",
           "#00cc96",
           "#ab63fa",
           "#FFA15A",
           "#19d3f3",
           "#FF6692",
           "#B6E880",
           "#FF97FF",
           "#FECB52"
          ],
          "font": {
           "color": "#2a3f5f"
          },
          "geo": {
           "bgcolor": "white",
           "lakecolor": "white",
           "landcolor": "#E5ECF6",
           "showlakes": true,
           "showland": true,
           "subunitcolor": "white"
          },
          "hoverlabel": {
           "align": "left"
          },
          "hovermode": "closest",
          "mapbox": {
           "style": "light"
          },
          "paper_bgcolor": "white",
          "plot_bgcolor": "#E5ECF6",
          "polar": {
           "angularaxis": {
            "gridcolor": "white",
            "linecolor": "white",
            "ticks": ""
           },
           "bgcolor": "#E5ECF6",
           "radialaxis": {
            "gridcolor": "white",
            "linecolor": "white",
            "ticks": ""
           }
          },
          "scene": {
           "xaxis": {
            "backgroundcolor": "#E5ECF6",
            "gridcolor": "white",
            "gridwidth": 2,
            "linecolor": "white",
            "showbackground": true,
            "ticks": "",
            "zerolinecolor": "white"
           },
           "yaxis": {
            "backgroundcolor": "#E5ECF6",
            "gridcolor": "white",
            "gridwidth": 2,
            "linecolor": "white",
            "showbackground": true,
            "ticks": "",
            "zerolinecolor": "white"
           },
           "zaxis": {
            "backgroundcolor": "#E5ECF6",
            "gridcolor": "white",
            "gridwidth": 2,
            "linecolor": "white",
            "showbackground": true,
            "ticks": "",
            "zerolinecolor": "white"
           }
          },
          "shapedefaults": {
           "line": {
            "color": "#2a3f5f"
           }
          },
          "ternary": {
           "aaxis": {
            "gridcolor": "white",
            "linecolor": "white",
            "ticks": ""
           },
           "baxis": {
            "gridcolor": "white",
            "linecolor": "white",
            "ticks": ""
           },
           "bgcolor": "#E5ECF6",
           "caxis": {
            "gridcolor": "white",
            "linecolor": "white",
            "ticks": ""
           }
          },
          "title": {
           "x": 0.05
          },
          "xaxis": {
           "automargin": true,
           "gridcolor": "white",
           "linecolor": "white",
           "ticks": "",
           "title": {
            "standoff": 15
           },
           "zerolinecolor": "white",
           "zerolinewidth": 2
          },
          "yaxis": {
           "automargin": true,
           "gridcolor": "white",
           "linecolor": "white",
           "ticks": "",
           "title": {
            "standoff": 15
           },
           "zerolinecolor": "white",
           "zerolinewidth": 2
          }
         }
        },
        "title": {
         "font": {
          "size": 24
         },
         "text": "Elbow Velocity ROM RMSE, cad = 21.71 deg/s"
        },
        "xaxis": {
         "anchor": "y",
         "domain": [
          0,
          1
         ],
         "title": {
          "font": {
           "size": 20
          },
          "text": "Settings"
         }
        },
        "yaxis": {
         "anchor": "x",
         "domain": [
          0,
          1
         ],
         "range": [
          0,
          44.870344180450026
         ],
         "title": {
          "font": {
           "size": 20
          },
          "text": "ROM RMSE [deg/s]"
         }
        }
       }
      },
      "text/html": [
       "<div>                            <div id=\"c8e223ee-4f03-4727-8125-a747334b0734\" class=\"plotly-graph-div\" style=\"height:525px; width:100%;\"></div>            <script type=\"text/javascript\">                require([\"plotly\"], function(Plotly) {                    window.PLOTLYENV=window.PLOTLYENV || {};                                    if (document.getElementById(\"c8e223ee-4f03-4727-8125-a747334b0734\")) {                    Plotly.newPlot(                        \"c8e223ee-4f03-4727-8125-a747334b0734\",                        [{\"alignmentgroup\":\"True\",\"hovertemplate\":\"ids_name=%{x}\\u003cbr\\u003erom_rmse=%{y}\\u003cextra\\u003e\\u003c\\u002fextra\\u003e\",\"legendgroup\":\"\",\"marker\":{\"color\":\"#636efa\",\"pattern\":{\"shape\":\"\"}},\"name\":\"\",\"offsetgroup\":\"\",\"orientation\":\"v\",\"showlegend\":false,\"textposition\":\"auto\",\"x\":[\"SimCC, Cams: 1,2,3,4,5\",\"Metrabs, Cams: 1,2,3,4,5\",\"SimCC, Cams: 6,7,8,9,10\",\"Metrabs, Cams: 6,7,8,9,10\",\"SimCC, Cams: 1,3,5\",\"Metrabs, Cams: 1,3,5\",\"SimCC, Cams: 2,3,4\",\"Metrabs, Cams: 2,3,4\",\"SimCC, Cams: 6,8,10\",\"Metrabs, Cams: 6,8,10\",\"SimCC, Cams: 7,8,9\",\"Metrabs, Cams: 7,8,9\",\"SimCC, Cams: 2,4\",\"Metrabs, Cams: 2,4\",\"SimCC, Cams: 7,9\",\"Metrabs, Cams: 7,9\",\"Single, Cam: 1, filt\",\"Single, Cam: 1, unfilt\"],\"xaxis\":\"x\",\"y\":[3.9934215602941965,4.143991700097822,18.07280965118877,5.391019629480951,15.422551201865316,6.768348297830449,13.786319805862485,6.017574218032837,12.15230670024387,34.870344180450026,11.328035310390437,4.2253698486447195,6.1778814480417354,7.117421834879796,8.29128439478467,10.892150583894475,1.4711599468973284,2.46078347240378],\"yaxis\":\"y\",\"type\":\"bar\"}],                        {\"template\":{\"data\":{\"barpolar\":[{\"marker\":{\"line\":{\"color\":\"#E5ECF6\",\"width\":0.5},\"pattern\":{\"fillmode\":\"overlay\",\"size\":10,\"solidity\":0.2}},\"type\":\"barpolar\"}],\"bar\":[{\"error_x\":{\"color\":\"#2a3f5f\"},\"error_y\":{\"color\":\"#2a3f5f\"},\"marker\":{\"line\":{\"color\":\"#E5ECF6\",\"width\":0.5},\"pattern\":{\"fillmode\":\"overlay\",\"size\":10,\"solidity\":0.2}},\"type\":\"bar\"}],\"carpet\":[{\"aaxis\":{\"endlinecolor\":\"#2a3f5f\",\"gridcolor\":\"white\",\"linecolor\":\"white\",\"minorgridcolor\":\"white\",\"startlinecolor\":\"#2a3f5f\"},\"baxis\":{\"endlinecolor\":\"#2a3f5f\",\"gridcolor\":\"white\",\"linecolor\":\"white\",\"minorgridcolor\":\"white\",\"startlinecolor\":\"#2a3f5f\"},\"type\":\"carpet\"}],\"choropleth\":[{\"colorbar\":{\"outlinewidth\":0,\"ticks\":\"\"},\"type\":\"choropleth\"}],\"contourcarpet\":[{\"colorbar\":{\"outlinewidth\":0,\"ticks\":\"\"},\"type\":\"contourcarpet\"}],\"contour\":[{\"colorbar\":{\"outlinewidth\":0,\"ticks\":\"\"},\"colorscale\":[[0.0,\"#0d0887\"],[0.1111111111111111,\"#46039f\"],[0.2222222222222222,\"#7201a8\"],[0.3333333333333333,\"#9c179e\"],[0.4444444444444444,\"#bd3786\"],[0.5555555555555556,\"#d8576b\"],[0.6666666666666666,\"#ed7953\"],[0.7777777777777778,\"#fb9f3a\"],[0.8888888888888888,\"#fdca26\"],[1.0,\"#f0f921\"]],\"type\":\"contour\"}],\"heatmapgl\":[{\"colorbar\":{\"outlinewidth\":0,\"ticks\":\"\"},\"colorscale\":[[0.0,\"#0d0887\"],[0.1111111111111111,\"#46039f\"],[0.2222222222222222,\"#7201a8\"],[0.3333333333333333,\"#9c179e\"],[0.4444444444444444,\"#bd3786\"],[0.5555555555555556,\"#d8576b\"],[0.6666666666666666,\"#ed7953\"],[0.7777777777777778,\"#fb9f3a\"],[0.8888888888888888,\"#fdca26\"],[1.0,\"#f0f921\"]],\"type\":\"heatmapgl\"}],\"heatmap\":[{\"colorbar\":{\"outlinewidth\":0,\"ticks\":\"\"},\"colorscale\":[[0.0,\"#0d0887\"],[0.1111111111111111,\"#46039f\"],[0.2222222222222222,\"#7201a8\"],[0.3333333333333333,\"#9c179e\"],[0.4444444444444444,\"#bd3786\"],[0.5555555555555556,\"#d8576b\"],[0.6666666666666666,\"#ed7953\"],[0.7777777777777778,\"#fb9f3a\"],[0.8888888888888888,\"#fdca26\"],[1.0,\"#f0f921\"]],\"type\":\"heatmap\"}],\"histogram2dcontour\":[{\"colorbar\":{\"outlinewidth\":0,\"ticks\":\"\"},\"colorscale\":[[0.0,\"#0d0887\"],[0.1111111111111111,\"#46039f\"],[0.2222222222222222,\"#7201a8\"],[0.3333333333333333,\"#9c179e\"],[0.4444444444444444,\"#bd3786\"],[0.5555555555555556,\"#d8576b\"],[0.6666666666666666,\"#ed7953\"],[0.7777777777777778,\"#fb9f3a\"],[0.8888888888888888,\"#fdca26\"],[1.0,\"#f0f921\"]],\"type\":\"histogram2dcontour\"}],\"histogram2d\":[{\"colorbar\":{\"outlinewidth\":0,\"ticks\":\"\"},\"colorscale\":[[0.0,\"#0d0887\"],[0.1111111111111111,\"#46039f\"],[0.2222222222222222,\"#7201a8\"],[0.3333333333333333,\"#9c179e\"],[0.4444444444444444,\"#bd3786\"],[0.5555555555555556,\"#d8576b\"],[0.6666666666666666,\"#ed7953\"],[0.7777777777777778,\"#fb9f3a\"],[0.8888888888888888,\"#fdca26\"],[1.0,\"#f0f921\"]],\"type\":\"histogram2d\"}],\"histogram\":[{\"marker\":{\"pattern\":{\"fillmode\":\"overlay\",\"size\":10,\"solidity\":0.2}},\"type\":\"histogram\"}],\"mesh3d\":[{\"colorbar\":{\"outlinewidth\":0,\"ticks\":\"\"},\"type\":\"mesh3d\"}],\"parcoords\":[{\"line\":{\"colorbar\":{\"outlinewidth\":0,\"ticks\":\"\"}},\"type\":\"parcoords\"}],\"pie\":[{\"automargin\":true,\"type\":\"pie\"}],\"scatter3d\":[{\"line\":{\"colorbar\":{\"outlinewidth\":0,\"ticks\":\"\"}},\"marker\":{\"colorbar\":{\"outlinewidth\":0,\"ticks\":\"\"}},\"type\":\"scatter3d\"}],\"scattercarpet\":[{\"marker\":{\"colorbar\":{\"outlinewidth\":0,\"ticks\":\"\"}},\"type\":\"scattercarpet\"}],\"scattergeo\":[{\"marker\":{\"colorbar\":{\"outlinewidth\":0,\"ticks\":\"\"}},\"type\":\"scattergeo\"}],\"scattergl\":[{\"marker\":{\"colorbar\":{\"outlinewidth\":0,\"ticks\":\"\"}},\"type\":\"scattergl\"}],\"scattermapbox\":[{\"marker\":{\"colorbar\":{\"outlinewidth\":0,\"ticks\":\"\"}},\"type\":\"scattermapbox\"}],\"scatterpolargl\":[{\"marker\":{\"colorbar\":{\"outlinewidth\":0,\"ticks\":\"\"}},\"type\":\"scatterpolargl\"}],\"scatterpolar\":[{\"marker\":{\"colorbar\":{\"outlinewidth\":0,\"ticks\":\"\"}},\"type\":\"scatterpolar\"}],\"scatter\":[{\"fillpattern\":{\"fillmode\":\"overlay\",\"size\":10,\"solidity\":0.2},\"type\":\"scatter\"}],\"scatterternary\":[{\"marker\":{\"colorbar\":{\"outlinewidth\":0,\"ticks\":\"\"}},\"type\":\"scatterternary\"}],\"surface\":[{\"colorbar\":{\"outlinewidth\":0,\"ticks\":\"\"},\"colorscale\":[[0.0,\"#0d0887\"],[0.1111111111111111,\"#46039f\"],[0.2222222222222222,\"#7201a8\"],[0.3333333333333333,\"#9c179e\"],[0.4444444444444444,\"#bd3786\"],[0.5555555555555556,\"#d8576b\"],[0.6666666666666666,\"#ed7953\"],[0.7777777777777778,\"#fb9f3a\"],[0.8888888888888888,\"#fdca26\"],[1.0,\"#f0f921\"]],\"type\":\"surface\"}],\"table\":[{\"cells\":{\"fill\":{\"color\":\"#EBF0F8\"},\"line\":{\"color\":\"white\"}},\"header\":{\"fill\":{\"color\":\"#C8D4E3\"},\"line\":{\"color\":\"white\"}},\"type\":\"table\"}]},\"layout\":{\"annotationdefaults\":{\"arrowcolor\":\"#2a3f5f\",\"arrowhead\":0,\"arrowwidth\":1},\"autotypenumbers\":\"strict\",\"coloraxis\":{\"colorbar\":{\"outlinewidth\":0,\"ticks\":\"\"}},\"colorscale\":{\"diverging\":[[0,\"#8e0152\"],[0.1,\"#c51b7d\"],[0.2,\"#de77ae\"],[0.3,\"#f1b6da\"],[0.4,\"#fde0ef\"],[0.5,\"#f7f7f7\"],[0.6,\"#e6f5d0\"],[0.7,\"#b8e186\"],[0.8,\"#7fbc41\"],[0.9,\"#4d9221\"],[1,\"#276419\"]],\"sequential\":[[0.0,\"#0d0887\"],[0.1111111111111111,\"#46039f\"],[0.2222222222222222,\"#7201a8\"],[0.3333333333333333,\"#9c179e\"],[0.4444444444444444,\"#bd3786\"],[0.5555555555555556,\"#d8576b\"],[0.6666666666666666,\"#ed7953\"],[0.7777777777777778,\"#fb9f3a\"],[0.8888888888888888,\"#fdca26\"],[1.0,\"#f0f921\"]],\"sequentialminus\":[[0.0,\"#0d0887\"],[0.1111111111111111,\"#46039f\"],[0.2222222222222222,\"#7201a8\"],[0.3333333333333333,\"#9c179e\"],[0.4444444444444444,\"#bd3786\"],[0.5555555555555556,\"#d8576b\"],[0.6666666666666666,\"#ed7953\"],[0.7777777777777778,\"#fb9f3a\"],[0.8888888888888888,\"#fdca26\"],[1.0,\"#f0f921\"]]},\"colorway\":[\"#636efa\",\"#EF553B\",\"#00cc96\",\"#ab63fa\",\"#FFA15A\",\"#19d3f3\",\"#FF6692\",\"#B6E880\",\"#FF97FF\",\"#FECB52\"],\"font\":{\"color\":\"#2a3f5f\"},\"geo\":{\"bgcolor\":\"white\",\"lakecolor\":\"white\",\"landcolor\":\"#E5ECF6\",\"showlakes\":true,\"showland\":true,\"subunitcolor\":\"white\"},\"hoverlabel\":{\"align\":\"left\"},\"hovermode\":\"closest\",\"mapbox\":{\"style\":\"light\"},\"paper_bgcolor\":\"white\",\"plot_bgcolor\":\"#E5ECF6\",\"polar\":{\"angularaxis\":{\"gridcolor\":\"white\",\"linecolor\":\"white\",\"ticks\":\"\"},\"bgcolor\":\"#E5ECF6\",\"radialaxis\":{\"gridcolor\":\"white\",\"linecolor\":\"white\",\"ticks\":\"\"}},\"scene\":{\"xaxis\":{\"backgroundcolor\":\"#E5ECF6\",\"gridcolor\":\"white\",\"gridwidth\":2,\"linecolor\":\"white\",\"showbackground\":true,\"ticks\":\"\",\"zerolinecolor\":\"white\"},\"yaxis\":{\"backgroundcolor\":\"#E5ECF6\",\"gridcolor\":\"white\",\"gridwidth\":2,\"linecolor\":\"white\",\"showbackground\":true,\"ticks\":\"\",\"zerolinecolor\":\"white\"},\"zaxis\":{\"backgroundcolor\":\"#E5ECF6\",\"gridcolor\":\"white\",\"gridwidth\":2,\"linecolor\":\"white\",\"showbackground\":true,\"ticks\":\"\",\"zerolinecolor\":\"white\"}},\"shapedefaults\":{\"line\":{\"color\":\"#2a3f5f\"}},\"ternary\":{\"aaxis\":{\"gridcolor\":\"white\",\"linecolor\":\"white\",\"ticks\":\"\"},\"baxis\":{\"gridcolor\":\"white\",\"linecolor\":\"white\",\"ticks\":\"\"},\"bgcolor\":\"#E5ECF6\",\"caxis\":{\"gridcolor\":\"white\",\"linecolor\":\"white\",\"ticks\":\"\"}},\"title\":{\"x\":0.05},\"xaxis\":{\"automargin\":true,\"gridcolor\":\"white\",\"linecolor\":\"white\",\"ticks\":\"\",\"title\":{\"standoff\":15},\"zerolinecolor\":\"white\",\"zerolinewidth\":2},\"yaxis\":{\"automargin\":true,\"gridcolor\":\"white\",\"linecolor\":\"white\",\"ticks\":\"\",\"title\":{\"standoff\":15},\"zerolinecolor\":\"white\",\"zerolinewidth\":2}}},\"xaxis\":{\"anchor\":\"y\",\"domain\":[0.0,1.0],\"title\":{\"text\":\"Settings\",\"font\":{\"size\":20}}},\"yaxis\":{\"anchor\":\"x\",\"domain\":[0.0,1.0],\"title\":{\"text\":\"ROM RMSE [deg\\u002fs]\",\"font\":{\"size\":20}},\"range\":[0,44.870344180450026]},\"legend\":{\"tracegroupgap\":0},\"title\":{\"text\":\"Elbow Velocity ROM RMSE, cad = 21.71 deg\\u002fs\",\"font\":{\"size\":24}},\"barmode\":\"relative\",\"shapes\":[{\"line\":{\"color\":\"red\",\"dash\":\"dash\"},\"name\":\"CAD\",\"type\":\"line\",\"x0\":0,\"x1\":1,\"xref\":\"x domain\",\"y0\":21.71,\"y1\":21.71,\"yref\":\"y\"}]},                        {\"responsive\": true}                    ).then(function(){\n",
       "                            \n",
       "var gd = document.getElementById('c8e223ee-4f03-4727-8125-a747334b0734');\n",
       "var x = new MutationObserver(function (mutations, observer) {{\n",
       "        var display = window.getComputedStyle(gd).display;\n",
       "        if (!display || display === 'none') {{\n",
       "            console.log([gd, 'removed!']);\n",
       "            Plotly.purge(gd);\n",
       "            observer.disconnect();\n",
       "        }}\n",
       "}});\n",
       "\n",
       "// Listen for the removal of the full notebook cells\n",
       "var notebookContainer = gd.closest('#notebook-container');\n",
       "if (notebookContainer) {{\n",
       "    x.observe(notebookContainer, {childList: true});\n",
       "}}\n",
       "\n",
       "// Listen for the clearing of the current output cell\n",
       "var outputEl = gd.closest('.output');\n",
       "if (outputEl) {{\n",
       "    x.observe(outputEl, {childList: true});\n",
       "}}\n",
       "\n",
       "                        })                };                });            </script>        </div>"
      ]
     },
     "metadata": {},
     "output_type": "display_data"
    },
    {
     "data": {
      "application/vnd.plotly.v1+json": {
       "config": {
        "plotlyServerURL": "https://plot.ly"
       },
       "data": [
        {
         "alignmentgroup": "True",
         "hovertemplate": "ids_name=%{x}<br>rom_rmse=%{y}<extra></extra>",
         "legendgroup": "",
         "marker": {
          "color": "#636efa",
          "pattern": {
           "shape": ""
          }
         },
         "name": "",
         "offsetgroup": "",
         "orientation": "v",
         "showlegend": false,
         "textposition": "auto",
         "type": "bar",
         "x": [
          "SimCC, Cams: 1,2,3,4,5",
          "Metrabs, Cams: 1,2,3,4,5",
          "SimCC, Cams: 6,7,8,9,10",
          "Metrabs, Cams: 6,7,8,9,10",
          "SimCC, Cams: 1,3,5",
          "Metrabs, Cams: 1,3,5",
          "SimCC, Cams: 2,3,4",
          "Metrabs, Cams: 2,3,4",
          "SimCC, Cams: 6,8,10",
          "Metrabs, Cams: 6,8,10",
          "SimCC, Cams: 7,8,9",
          "Metrabs, Cams: 7,8,9",
          "SimCC, Cams: 2,4",
          "Metrabs, Cams: 2,4",
          "SimCC, Cams: 7,9",
          "Metrabs, Cams: 7,9",
          "Single, Cam: 1, filt",
          "Single, Cam: 1, unfilt"
         ],
         "xaxis": "x",
         "y": [
          70.564745130957,
          22.015125269793707,
          99695.31535150357,
          22.064731532745906,
          9028.202734541974,
          15707.419062152218,
          9981.283810801297,
          27948.5526604316,
          1054.641526562904,
          81.36946042230898,
          335.381365651994,
          28.497532103434764,
          96.0325885901306,
          272.84828621412896,
          528.2779664543729,
          38.07315005212753,
          79.1150194728379,
          80.4725670851056
         ],
         "yaxis": "y"
        }
       ],
       "layout": {
        "barmode": "relative",
        "legend": {
         "tracegroupgap": 0
        },
        "shapes": [
         {
          "line": {
           "color": "red",
           "dash": "dash"
          },
          "name": "CAD",
          "type": "line",
          "x0": 0,
          "x1": 1,
          "xref": "x domain",
          "y0": 31.89,
          "y1": 31.89,
          "yref": "y"
         }
        ],
        "template": {
         "data": {
          "bar": [
           {
            "error_x": {
             "color": "#2a3f5f"
            },
            "error_y": {
             "color": "#2a3f5f"
            },
            "marker": {
             "line": {
              "color": "#E5ECF6",
              "width": 0.5
             },
             "pattern": {
              "fillmode": "overlay",
              "size": 10,
              "solidity": 0.2
             }
            },
            "type": "bar"
           }
          ],
          "barpolar": [
           {
            "marker": {
             "line": {
              "color": "#E5ECF6",
              "width": 0.5
             },
             "pattern": {
              "fillmode": "overlay",
              "size": 10,
              "solidity": 0.2
             }
            },
            "type": "barpolar"
           }
          ],
          "carpet": [
           {
            "aaxis": {
             "endlinecolor": "#2a3f5f",
             "gridcolor": "white",
             "linecolor": "white",
             "minorgridcolor": "white",
             "startlinecolor": "#2a3f5f"
            },
            "baxis": {
             "endlinecolor": "#2a3f5f",
             "gridcolor": "white",
             "linecolor": "white",
             "minorgridcolor": "white",
             "startlinecolor": "#2a3f5f"
            },
            "type": "carpet"
           }
          ],
          "choropleth": [
           {
            "colorbar": {
             "outlinewidth": 0,
             "ticks": ""
            },
            "type": "choropleth"
           }
          ],
          "contour": [
           {
            "colorbar": {
             "outlinewidth": 0,
             "ticks": ""
            },
            "colorscale": [
             [
              0,
              "#0d0887"
             ],
             [
              0.1111111111111111,
              "#46039f"
             ],
             [
              0.2222222222222222,
              "#7201a8"
             ],
             [
              0.3333333333333333,
              "#9c179e"
             ],
             [
              0.4444444444444444,
              "#bd3786"
             ],
             [
              0.5555555555555556,
              "#d8576b"
             ],
             [
              0.6666666666666666,
              "#ed7953"
             ],
             [
              0.7777777777777778,
              "#fb9f3a"
             ],
             [
              0.8888888888888888,
              "#fdca26"
             ],
             [
              1,
              "#f0f921"
             ]
            ],
            "type": "contour"
           }
          ],
          "contourcarpet": [
           {
            "colorbar": {
             "outlinewidth": 0,
             "ticks": ""
            },
            "type": "contourcarpet"
           }
          ],
          "heatmap": [
           {
            "colorbar": {
             "outlinewidth": 0,
             "ticks": ""
            },
            "colorscale": [
             [
              0,
              "#0d0887"
             ],
             [
              0.1111111111111111,
              "#46039f"
             ],
             [
              0.2222222222222222,
              "#7201a8"
             ],
             [
              0.3333333333333333,
              "#9c179e"
             ],
             [
              0.4444444444444444,
              "#bd3786"
             ],
             [
              0.5555555555555556,
              "#d8576b"
             ],
             [
              0.6666666666666666,
              "#ed7953"
             ],
             [
              0.7777777777777778,
              "#fb9f3a"
             ],
             [
              0.8888888888888888,
              "#fdca26"
             ],
             [
              1,
              "#f0f921"
             ]
            ],
            "type": "heatmap"
           }
          ],
          "heatmapgl": [
           {
            "colorbar": {
             "outlinewidth": 0,
             "ticks": ""
            },
            "colorscale": [
             [
              0,
              "#0d0887"
             ],
             [
              0.1111111111111111,
              "#46039f"
             ],
             [
              0.2222222222222222,
              "#7201a8"
             ],
             [
              0.3333333333333333,
              "#9c179e"
             ],
             [
              0.4444444444444444,
              "#bd3786"
             ],
             [
              0.5555555555555556,
              "#d8576b"
             ],
             [
              0.6666666666666666,
              "#ed7953"
             ],
             [
              0.7777777777777778,
              "#fb9f3a"
             ],
             [
              0.8888888888888888,
              "#fdca26"
             ],
             [
              1,
              "#f0f921"
             ]
            ],
            "type": "heatmapgl"
           }
          ],
          "histogram": [
           {
            "marker": {
             "pattern": {
              "fillmode": "overlay",
              "size": 10,
              "solidity": 0.2
             }
            },
            "type": "histogram"
           }
          ],
          "histogram2d": [
           {
            "colorbar": {
             "outlinewidth": 0,
             "ticks": ""
            },
            "colorscale": [
             [
              0,
              "#0d0887"
             ],
             [
              0.1111111111111111,
              "#46039f"
             ],
             [
              0.2222222222222222,
              "#7201a8"
             ],
             [
              0.3333333333333333,
              "#9c179e"
             ],
             [
              0.4444444444444444,
              "#bd3786"
             ],
             [
              0.5555555555555556,
              "#d8576b"
             ],
             [
              0.6666666666666666,
              "#ed7953"
             ],
             [
              0.7777777777777778,
              "#fb9f3a"
             ],
             [
              0.8888888888888888,
              "#fdca26"
             ],
             [
              1,
              "#f0f921"
             ]
            ],
            "type": "histogram2d"
           }
          ],
          "histogram2dcontour": [
           {
            "colorbar": {
             "outlinewidth": 0,
             "ticks": ""
            },
            "colorscale": [
             [
              0,
              "#0d0887"
             ],
             [
              0.1111111111111111,
              "#46039f"
             ],
             [
              0.2222222222222222,
              "#7201a8"
             ],
             [
              0.3333333333333333,
              "#9c179e"
             ],
             [
              0.4444444444444444,
              "#bd3786"
             ],
             [
              0.5555555555555556,
              "#d8576b"
             ],
             [
              0.6666666666666666,
              "#ed7953"
             ],
             [
              0.7777777777777778,
              "#fb9f3a"
             ],
             [
              0.8888888888888888,
              "#fdca26"
             ],
             [
              1,
              "#f0f921"
             ]
            ],
            "type": "histogram2dcontour"
           }
          ],
          "mesh3d": [
           {
            "colorbar": {
             "outlinewidth": 0,
             "ticks": ""
            },
            "type": "mesh3d"
           }
          ],
          "parcoords": [
           {
            "line": {
             "colorbar": {
              "outlinewidth": 0,
              "ticks": ""
             }
            },
            "type": "parcoords"
           }
          ],
          "pie": [
           {
            "automargin": true,
            "type": "pie"
           }
          ],
          "scatter": [
           {
            "fillpattern": {
             "fillmode": "overlay",
             "size": 10,
             "solidity": 0.2
            },
            "type": "scatter"
           }
          ],
          "scatter3d": [
           {
            "line": {
             "colorbar": {
              "outlinewidth": 0,
              "ticks": ""
             }
            },
            "marker": {
             "colorbar": {
              "outlinewidth": 0,
              "ticks": ""
             }
            },
            "type": "scatter3d"
           }
          ],
          "scattercarpet": [
           {
            "marker": {
             "colorbar": {
              "outlinewidth": 0,
              "ticks": ""
             }
            },
            "type": "scattercarpet"
           }
          ],
          "scattergeo": [
           {
            "marker": {
             "colorbar": {
              "outlinewidth": 0,
              "ticks": ""
             }
            },
            "type": "scattergeo"
           }
          ],
          "scattergl": [
           {
            "marker": {
             "colorbar": {
              "outlinewidth": 0,
              "ticks": ""
             }
            },
            "type": "scattergl"
           }
          ],
          "scattermapbox": [
           {
            "marker": {
             "colorbar": {
              "outlinewidth": 0,
              "ticks": ""
             }
            },
            "type": "scattermapbox"
           }
          ],
          "scatterpolar": [
           {
            "marker": {
             "colorbar": {
              "outlinewidth": 0,
              "ticks": ""
             }
            },
            "type": "scatterpolar"
           }
          ],
          "scatterpolargl": [
           {
            "marker": {
             "colorbar": {
              "outlinewidth": 0,
              "ticks": ""
             }
            },
            "type": "scatterpolargl"
           }
          ],
          "scatterternary": [
           {
            "marker": {
             "colorbar": {
              "outlinewidth": 0,
              "ticks": ""
             }
            },
            "type": "scatterternary"
           }
          ],
          "surface": [
           {
            "colorbar": {
             "outlinewidth": 0,
             "ticks": ""
            },
            "colorscale": [
             [
              0,
              "#0d0887"
             ],
             [
              0.1111111111111111,
              "#46039f"
             ],
             [
              0.2222222222222222,
              "#7201a8"
             ],
             [
              0.3333333333333333,
              "#9c179e"
             ],
             [
              0.4444444444444444,
              "#bd3786"
             ],
             [
              0.5555555555555556,
              "#d8576b"
             ],
             [
              0.6666666666666666,
              "#ed7953"
             ],
             [
              0.7777777777777778,
              "#fb9f3a"
             ],
             [
              0.8888888888888888,
              "#fdca26"
             ],
             [
              1,
              "#f0f921"
             ]
            ],
            "type": "surface"
           }
          ],
          "table": [
           {
            "cells": {
             "fill": {
              "color": "#EBF0F8"
             },
             "line": {
              "color": "white"
             }
            },
            "header": {
             "fill": {
              "color": "#C8D4E3"
             },
             "line": {
              "color": "white"
             }
            },
            "type": "table"
           }
          ]
         },
         "layout": {
          "annotationdefaults": {
           "arrowcolor": "#2a3f5f",
           "arrowhead": 0,
           "arrowwidth": 1
          },
          "autotypenumbers": "strict",
          "coloraxis": {
           "colorbar": {
            "outlinewidth": 0,
            "ticks": ""
           }
          },
          "colorscale": {
           "diverging": [
            [
             0,
             "#8e0152"
            ],
            [
             0.1,
             "#c51b7d"
            ],
            [
             0.2,
             "#de77ae"
            ],
            [
             0.3,
             "#f1b6da"
            ],
            [
             0.4,
             "#fde0ef"
            ],
            [
             0.5,
             "#f7f7f7"
            ],
            [
             0.6,
             "#e6f5d0"
            ],
            [
             0.7,
             "#b8e186"
            ],
            [
             0.8,
             "#7fbc41"
            ],
            [
             0.9,
             "#4d9221"
            ],
            [
             1,
             "#276419"
            ]
           ],
           "sequential": [
            [
             0,
             "#0d0887"
            ],
            [
             0.1111111111111111,
             "#46039f"
            ],
            [
             0.2222222222222222,
             "#7201a8"
            ],
            [
             0.3333333333333333,
             "#9c179e"
            ],
            [
             0.4444444444444444,
             "#bd3786"
            ],
            [
             0.5555555555555556,
             "#d8576b"
            ],
            [
             0.6666666666666666,
             "#ed7953"
            ],
            [
             0.7777777777777778,
             "#fb9f3a"
            ],
            [
             0.8888888888888888,
             "#fdca26"
            ],
            [
             1,
             "#f0f921"
            ]
           ],
           "sequentialminus": [
            [
             0,
             "#0d0887"
            ],
            [
             0.1111111111111111,
             "#46039f"
            ],
            [
             0.2222222222222222,
             "#7201a8"
            ],
            [
             0.3333333333333333,
             "#9c179e"
            ],
            [
             0.4444444444444444,
             "#bd3786"
            ],
            [
             0.5555555555555556,
             "#d8576b"
            ],
            [
             0.6666666666666666,
             "#ed7953"
            ],
            [
             0.7777777777777778,
             "#fb9f3a"
            ],
            [
             0.8888888888888888,
             "#fdca26"
            ],
            [
             1,
             "#f0f921"
            ]
           ]
          },
          "colorway": [
           "#636efa",
           "#EF553B",
           "#00cc96",
           "#ab63fa",
           "#FFA15A",
           "#19d3f3",
           "#FF6692",
           "#B6E880",
           "#FF97FF",
           "#FECB52"
          ],
          "font": {
           "color": "#2a3f5f"
          },
          "geo": {
           "bgcolor": "white",
           "lakecolor": "white",
           "landcolor": "#E5ECF6",
           "showlakes": true,
           "showland": true,
           "subunitcolor": "white"
          },
          "hoverlabel": {
           "align": "left"
          },
          "hovermode": "closest",
          "mapbox": {
           "style": "light"
          },
          "paper_bgcolor": "white",
          "plot_bgcolor": "#E5ECF6",
          "polar": {
           "angularaxis": {
            "gridcolor": "white",
            "linecolor": "white",
            "ticks": ""
           },
           "bgcolor": "#E5ECF6",
           "radialaxis": {
            "gridcolor": "white",
            "linecolor": "white",
            "ticks": ""
           }
          },
          "scene": {
           "xaxis": {
            "backgroundcolor": "#E5ECF6",
            "gridcolor": "white",
            "gridwidth": 2,
            "linecolor": "white",
            "showbackground": true,
            "ticks": "",
            "zerolinecolor": "white"
           },
           "yaxis": {
            "backgroundcolor": "#E5ECF6",
            "gridcolor": "white",
            "gridwidth": 2,
            "linecolor": "white",
            "showbackground": true,
            "ticks": "",
            "zerolinecolor": "white"
           },
           "zaxis": {
            "backgroundcolor": "#E5ECF6",
            "gridcolor": "white",
            "gridwidth": 2,
            "linecolor": "white",
            "showbackground": true,
            "ticks": "",
            "zerolinecolor": "white"
           }
          },
          "shapedefaults": {
           "line": {
            "color": "#2a3f5f"
           }
          },
          "ternary": {
           "aaxis": {
            "gridcolor": "white",
            "linecolor": "white",
            "ticks": ""
           },
           "baxis": {
            "gridcolor": "white",
            "linecolor": "white",
            "ticks": ""
           },
           "bgcolor": "#E5ECF6",
           "caxis": {
            "gridcolor": "white",
            "linecolor": "white",
            "ticks": ""
           }
          },
          "title": {
           "x": 0.05
          },
          "xaxis": {
           "automargin": true,
           "gridcolor": "white",
           "linecolor": "white",
           "ticks": "",
           "title": {
            "standoff": 15
           },
           "zerolinecolor": "white",
           "zerolinewidth": 2
          },
          "yaxis": {
           "automargin": true,
           "gridcolor": "white",
           "linecolor": "white",
           "ticks": "",
           "title": {
            "standoff": 15
           },
           "zerolinecolor": "white",
           "zerolinewidth": 2
          }
         }
        },
        "title": {
         "font": {
          "size": 24
         },
         "text": "Trunk Displacement ROM RMSE, cad = 31.89 mm"
        },
        "xaxis": {
         "anchor": "y",
         "domain": [
          0,
          1
         ],
         "title": {
          "font": {
           "size": 20
          },
          "text": "Settings"
         }
        },
        "yaxis": {
         "anchor": "x",
         "domain": [
          0,
          1
         ],
         "range": [
          0,
          2510
         ],
         "title": {
          "font": {
           "size": 20
          },
          "text": "ROM RMSE [mm]"
         }
        }
       }
      },
      "text/html": [
       "<div>                            <div id=\"da42059e-ad41-45cd-998e-cbe3530c003d\" class=\"plotly-graph-div\" style=\"height:525px; width:100%;\"></div>            <script type=\"text/javascript\">                require([\"plotly\"], function(Plotly) {                    window.PLOTLYENV=window.PLOTLYENV || {};                                    if (document.getElementById(\"da42059e-ad41-45cd-998e-cbe3530c003d\")) {                    Plotly.newPlot(                        \"da42059e-ad41-45cd-998e-cbe3530c003d\",                        [{\"alignmentgroup\":\"True\",\"hovertemplate\":\"ids_name=%{x}\\u003cbr\\u003erom_rmse=%{y}\\u003cextra\\u003e\\u003c\\u002fextra\\u003e\",\"legendgroup\":\"\",\"marker\":{\"color\":\"#636efa\",\"pattern\":{\"shape\":\"\"}},\"name\":\"\",\"offsetgroup\":\"\",\"orientation\":\"v\",\"showlegend\":false,\"textposition\":\"auto\",\"x\":[\"SimCC, Cams: 1,2,3,4,5\",\"Metrabs, Cams: 1,2,3,4,5\",\"SimCC, Cams: 6,7,8,9,10\",\"Metrabs, Cams: 6,7,8,9,10\",\"SimCC, Cams: 1,3,5\",\"Metrabs, Cams: 1,3,5\",\"SimCC, Cams: 2,3,4\",\"Metrabs, Cams: 2,3,4\",\"SimCC, Cams: 6,8,10\",\"Metrabs, Cams: 6,8,10\",\"SimCC, Cams: 7,8,9\",\"Metrabs, Cams: 7,8,9\",\"SimCC, Cams: 2,4\",\"Metrabs, Cams: 2,4\",\"SimCC, Cams: 7,9\",\"Metrabs, Cams: 7,9\",\"Single, Cam: 1, filt\",\"Single, Cam: 1, unfilt\"],\"xaxis\":\"x\",\"y\":[70.564745130957,22.015125269793707,99695.31535150357,22.064731532745906,9028.202734541974,15707.419062152218,9981.283810801297,27948.5526604316,1054.641526562904,81.36946042230898,335.381365651994,28.497532103434764,96.0325885901306,272.84828621412896,528.2779664543729,38.07315005212753,79.1150194728379,80.4725670851056],\"yaxis\":\"y\",\"type\":\"bar\"}],                        {\"template\":{\"data\":{\"barpolar\":[{\"marker\":{\"line\":{\"color\":\"#E5ECF6\",\"width\":0.5},\"pattern\":{\"fillmode\":\"overlay\",\"size\":10,\"solidity\":0.2}},\"type\":\"barpolar\"}],\"bar\":[{\"error_x\":{\"color\":\"#2a3f5f\"},\"error_y\":{\"color\":\"#2a3f5f\"},\"marker\":{\"line\":{\"color\":\"#E5ECF6\",\"width\":0.5},\"pattern\":{\"fillmode\":\"overlay\",\"size\":10,\"solidity\":0.2}},\"type\":\"bar\"}],\"carpet\":[{\"aaxis\":{\"endlinecolor\":\"#2a3f5f\",\"gridcolor\":\"white\",\"linecolor\":\"white\",\"minorgridcolor\":\"white\",\"startlinecolor\":\"#2a3f5f\"},\"baxis\":{\"endlinecolor\":\"#2a3f5f\",\"gridcolor\":\"white\",\"linecolor\":\"white\",\"minorgridcolor\":\"white\",\"startlinecolor\":\"#2a3f5f\"},\"type\":\"carpet\"}],\"choropleth\":[{\"colorbar\":{\"outlinewidth\":0,\"ticks\":\"\"},\"type\":\"choropleth\"}],\"contourcarpet\":[{\"colorbar\":{\"outlinewidth\":0,\"ticks\":\"\"},\"type\":\"contourcarpet\"}],\"contour\":[{\"colorbar\":{\"outlinewidth\":0,\"ticks\":\"\"},\"colorscale\":[[0.0,\"#0d0887\"],[0.1111111111111111,\"#46039f\"],[0.2222222222222222,\"#7201a8\"],[0.3333333333333333,\"#9c179e\"],[0.4444444444444444,\"#bd3786\"],[0.5555555555555556,\"#d8576b\"],[0.6666666666666666,\"#ed7953\"],[0.7777777777777778,\"#fb9f3a\"],[0.8888888888888888,\"#fdca26\"],[1.0,\"#f0f921\"]],\"type\":\"contour\"}],\"heatmapgl\":[{\"colorbar\":{\"outlinewidth\":0,\"ticks\":\"\"},\"colorscale\":[[0.0,\"#0d0887\"],[0.1111111111111111,\"#46039f\"],[0.2222222222222222,\"#7201a8\"],[0.3333333333333333,\"#9c179e\"],[0.4444444444444444,\"#bd3786\"],[0.5555555555555556,\"#d8576b\"],[0.6666666666666666,\"#ed7953\"],[0.7777777777777778,\"#fb9f3a\"],[0.8888888888888888,\"#fdca26\"],[1.0,\"#f0f921\"]],\"type\":\"heatmapgl\"}],\"heatmap\":[{\"colorbar\":{\"outlinewidth\":0,\"ticks\":\"\"},\"colorscale\":[[0.0,\"#0d0887\"],[0.1111111111111111,\"#46039f\"],[0.2222222222222222,\"#7201a8\"],[0.3333333333333333,\"#9c179e\"],[0.4444444444444444,\"#bd3786\"],[0.5555555555555556,\"#d8576b\"],[0.6666666666666666,\"#ed7953\"],[0.7777777777777778,\"#fb9f3a\"],[0.8888888888888888,\"#fdca26\"],[1.0,\"#f0f921\"]],\"type\":\"heatmap\"}],\"histogram2dcontour\":[{\"colorbar\":{\"outlinewidth\":0,\"ticks\":\"\"},\"colorscale\":[[0.0,\"#0d0887\"],[0.1111111111111111,\"#46039f\"],[0.2222222222222222,\"#7201a8\"],[0.3333333333333333,\"#9c179e\"],[0.4444444444444444,\"#bd3786\"],[0.5555555555555556,\"#d8576b\"],[0.6666666666666666,\"#ed7953\"],[0.7777777777777778,\"#fb9f3a\"],[0.8888888888888888,\"#fdca26\"],[1.0,\"#f0f921\"]],\"type\":\"histogram2dcontour\"}],\"histogram2d\":[{\"colorbar\":{\"outlinewidth\":0,\"ticks\":\"\"},\"colorscale\":[[0.0,\"#0d0887\"],[0.1111111111111111,\"#46039f\"],[0.2222222222222222,\"#7201a8\"],[0.3333333333333333,\"#9c179e\"],[0.4444444444444444,\"#bd3786\"],[0.5555555555555556,\"#d8576b\"],[0.6666666666666666,\"#ed7953\"],[0.7777777777777778,\"#fb9f3a\"],[0.8888888888888888,\"#fdca26\"],[1.0,\"#f0f921\"]],\"type\":\"histogram2d\"}],\"histogram\":[{\"marker\":{\"pattern\":{\"fillmode\":\"overlay\",\"size\":10,\"solidity\":0.2}},\"type\":\"histogram\"}],\"mesh3d\":[{\"colorbar\":{\"outlinewidth\":0,\"ticks\":\"\"},\"type\":\"mesh3d\"}],\"parcoords\":[{\"line\":{\"colorbar\":{\"outlinewidth\":0,\"ticks\":\"\"}},\"type\":\"parcoords\"}],\"pie\":[{\"automargin\":true,\"type\":\"pie\"}],\"scatter3d\":[{\"line\":{\"colorbar\":{\"outlinewidth\":0,\"ticks\":\"\"}},\"marker\":{\"colorbar\":{\"outlinewidth\":0,\"ticks\":\"\"}},\"type\":\"scatter3d\"}],\"scattercarpet\":[{\"marker\":{\"colorbar\":{\"outlinewidth\":0,\"ticks\":\"\"}},\"type\":\"scattercarpet\"}],\"scattergeo\":[{\"marker\":{\"colorbar\":{\"outlinewidth\":0,\"ticks\":\"\"}},\"type\":\"scattergeo\"}],\"scattergl\":[{\"marker\":{\"colorbar\":{\"outlinewidth\":0,\"ticks\":\"\"}},\"type\":\"scattergl\"}],\"scattermapbox\":[{\"marker\":{\"colorbar\":{\"outlinewidth\":0,\"ticks\":\"\"}},\"type\":\"scattermapbox\"}],\"scatterpolargl\":[{\"marker\":{\"colorbar\":{\"outlinewidth\":0,\"ticks\":\"\"}},\"type\":\"scatterpolargl\"}],\"scatterpolar\":[{\"marker\":{\"colorbar\":{\"outlinewidth\":0,\"ticks\":\"\"}},\"type\":\"scatterpolar\"}],\"scatter\":[{\"fillpattern\":{\"fillmode\":\"overlay\",\"size\":10,\"solidity\":0.2},\"type\":\"scatter\"}],\"scatterternary\":[{\"marker\":{\"colorbar\":{\"outlinewidth\":0,\"ticks\":\"\"}},\"type\":\"scatterternary\"}],\"surface\":[{\"colorbar\":{\"outlinewidth\":0,\"ticks\":\"\"},\"colorscale\":[[0.0,\"#0d0887\"],[0.1111111111111111,\"#46039f\"],[0.2222222222222222,\"#7201a8\"],[0.3333333333333333,\"#9c179e\"],[0.4444444444444444,\"#bd3786\"],[0.5555555555555556,\"#d8576b\"],[0.6666666666666666,\"#ed7953\"],[0.7777777777777778,\"#fb9f3a\"],[0.8888888888888888,\"#fdca26\"],[1.0,\"#f0f921\"]],\"type\":\"surface\"}],\"table\":[{\"cells\":{\"fill\":{\"color\":\"#EBF0F8\"},\"line\":{\"color\":\"white\"}},\"header\":{\"fill\":{\"color\":\"#C8D4E3\"},\"line\":{\"color\":\"white\"}},\"type\":\"table\"}]},\"layout\":{\"annotationdefaults\":{\"arrowcolor\":\"#2a3f5f\",\"arrowhead\":0,\"arrowwidth\":1},\"autotypenumbers\":\"strict\",\"coloraxis\":{\"colorbar\":{\"outlinewidth\":0,\"ticks\":\"\"}},\"colorscale\":{\"diverging\":[[0,\"#8e0152\"],[0.1,\"#c51b7d\"],[0.2,\"#de77ae\"],[0.3,\"#f1b6da\"],[0.4,\"#fde0ef\"],[0.5,\"#f7f7f7\"],[0.6,\"#e6f5d0\"],[0.7,\"#b8e186\"],[0.8,\"#7fbc41\"],[0.9,\"#4d9221\"],[1,\"#276419\"]],\"sequential\":[[0.0,\"#0d0887\"],[0.1111111111111111,\"#46039f\"],[0.2222222222222222,\"#7201a8\"],[0.3333333333333333,\"#9c179e\"],[0.4444444444444444,\"#bd3786\"],[0.5555555555555556,\"#d8576b\"],[0.6666666666666666,\"#ed7953\"],[0.7777777777777778,\"#fb9f3a\"],[0.8888888888888888,\"#fdca26\"],[1.0,\"#f0f921\"]],\"sequentialminus\":[[0.0,\"#0d0887\"],[0.1111111111111111,\"#46039f\"],[0.2222222222222222,\"#7201a8\"],[0.3333333333333333,\"#9c179e\"],[0.4444444444444444,\"#bd3786\"],[0.5555555555555556,\"#d8576b\"],[0.6666666666666666,\"#ed7953\"],[0.7777777777777778,\"#fb9f3a\"],[0.8888888888888888,\"#fdca26\"],[1.0,\"#f0f921\"]]},\"colorway\":[\"#636efa\",\"#EF553B\",\"#00cc96\",\"#ab63fa\",\"#FFA15A\",\"#19d3f3\",\"#FF6692\",\"#B6E880\",\"#FF97FF\",\"#FECB52\"],\"font\":{\"color\":\"#2a3f5f\"},\"geo\":{\"bgcolor\":\"white\",\"lakecolor\":\"white\",\"landcolor\":\"#E5ECF6\",\"showlakes\":true,\"showland\":true,\"subunitcolor\":\"white\"},\"hoverlabel\":{\"align\":\"left\"},\"hovermode\":\"closest\",\"mapbox\":{\"style\":\"light\"},\"paper_bgcolor\":\"white\",\"plot_bgcolor\":\"#E5ECF6\",\"polar\":{\"angularaxis\":{\"gridcolor\":\"white\",\"linecolor\":\"white\",\"ticks\":\"\"},\"bgcolor\":\"#E5ECF6\",\"radialaxis\":{\"gridcolor\":\"white\",\"linecolor\":\"white\",\"ticks\":\"\"}},\"scene\":{\"xaxis\":{\"backgroundcolor\":\"#E5ECF6\",\"gridcolor\":\"white\",\"gridwidth\":2,\"linecolor\":\"white\",\"showbackground\":true,\"ticks\":\"\",\"zerolinecolor\":\"white\"},\"yaxis\":{\"backgroundcolor\":\"#E5ECF6\",\"gridcolor\":\"white\",\"gridwidth\":2,\"linecolor\":\"white\",\"showbackground\":true,\"ticks\":\"\",\"zerolinecolor\":\"white\"},\"zaxis\":{\"backgroundcolor\":\"#E5ECF6\",\"gridcolor\":\"white\",\"gridwidth\":2,\"linecolor\":\"white\",\"showbackground\":true,\"ticks\":\"\",\"zerolinecolor\":\"white\"}},\"shapedefaults\":{\"line\":{\"color\":\"#2a3f5f\"}},\"ternary\":{\"aaxis\":{\"gridcolor\":\"white\",\"linecolor\":\"white\",\"ticks\":\"\"},\"baxis\":{\"gridcolor\":\"white\",\"linecolor\":\"white\",\"ticks\":\"\"},\"bgcolor\":\"#E5ECF6\",\"caxis\":{\"gridcolor\":\"white\",\"linecolor\":\"white\",\"ticks\":\"\"}},\"title\":{\"x\":0.05},\"xaxis\":{\"automargin\":true,\"gridcolor\":\"white\",\"linecolor\":\"white\",\"ticks\":\"\",\"title\":{\"standoff\":15},\"zerolinecolor\":\"white\",\"zerolinewidth\":2},\"yaxis\":{\"automargin\":true,\"gridcolor\":\"white\",\"linecolor\":\"white\",\"ticks\":\"\",\"title\":{\"standoff\":15},\"zerolinecolor\":\"white\",\"zerolinewidth\":2}}},\"xaxis\":{\"anchor\":\"y\",\"domain\":[0.0,1.0],\"title\":{\"text\":\"Settings\",\"font\":{\"size\":20}}},\"yaxis\":{\"anchor\":\"x\",\"domain\":[0.0,1.0],\"title\":{\"text\":\"ROM RMSE [mm]\",\"font\":{\"size\":20}},\"range\":[0,2510]},\"legend\":{\"tracegroupgap\":0},\"title\":{\"text\":\"Trunk Displacement ROM RMSE, cad = 31.89 mm\",\"font\":{\"size\":24}},\"barmode\":\"relative\",\"shapes\":[{\"line\":{\"color\":\"red\",\"dash\":\"dash\"},\"name\":\"CAD\",\"type\":\"line\",\"x0\":0,\"x1\":1,\"xref\":\"x domain\",\"y0\":31.89,\"y1\":31.89,\"yref\":\"y\"}]},                        {\"responsive\": true}                    ).then(function(){\n",
       "                            \n",
       "var gd = document.getElementById('da42059e-ad41-45cd-998e-cbe3530c003d');\n",
       "var x = new MutationObserver(function (mutations, observer) {{\n",
       "        var display = window.getComputedStyle(gd).display;\n",
       "        if (!display || display === 'none') {{\n",
       "            console.log([gd, 'removed!']);\n",
       "            Plotly.purge(gd);\n",
       "            observer.disconnect();\n",
       "        }}\n",
       "}});\n",
       "\n",
       "// Listen for the removal of the full notebook cells\n",
       "var notebookContainer = gd.closest('#notebook-container');\n",
       "if (notebookContainer) {{\n",
       "    x.observe(notebookContainer, {childList: true});\n",
       "}}\n",
       "\n",
       "// Listen for the clearing of the current output cell\n",
       "var outputEl = gd.closest('.output');\n",
       "if (outputEl) {{\n",
       "    x.observe(outputEl, {childList: true});\n",
       "}}\n",
       "\n",
       "                        })                };                });            </script>        </div>"
      ]
     },
     "metadata": {},
     "output_type": "display_data"
    },
    {
     "data": {
      "application/vnd.plotly.v1+json": {
       "config": {
        "plotlyServerURL": "https://plot.ly"
       },
       "data": [
        {
         "alignmentgroup": "True",
         "hovertemplate": "ids_name=%{x}<br>rom_rmse=%{y}<extra></extra>",
         "legendgroup": "",
         "marker": {
          "color": "#636efa",
          "pattern": {
           "shape": ""
          }
         },
         "name": "",
         "offsetgroup": "",
         "orientation": "v",
         "showlegend": false,
         "textposition": "auto",
         "type": "bar",
         "x": [
          "SimCC, Cams: 1,2,3,4,5",
          "Metrabs, Cams: 1,2,3,4,5",
          "SimCC, Cams: 6,7,8,9,10",
          "Metrabs, Cams: 6,7,8,9,10",
          "SimCC, Cams: 1,3,5",
          "Metrabs, Cams: 1,3,5",
          "SimCC, Cams: 2,3,4",
          "Metrabs, Cams: 2,3,4",
          "SimCC, Cams: 6,8,10",
          "Metrabs, Cams: 6,8,10",
          "SimCC, Cams: 7,8,9",
          "Metrabs, Cams: 7,8,9",
          "SimCC, Cams: 2,4",
          "Metrabs, Cams: 2,4",
          "SimCC, Cams: 7,9",
          "Metrabs, Cams: 7,9",
          "Single, Cam: 1, filt",
          "Single, Cam: 1, unfilt"
         ],
         "xaxis": "x",
         "y": [
          16.61980692187043,
          16.406852826506466,
          58.730034914529114,
          76.87893671254831,
          41.1159194951209,
          35.59213553215005,
          40.51853057014745,
          32.607100892252845,
          43.70306727451484,
          28.948235857860066,
          57.44536009711851,
          63.44013532087915,
          21.306086084606665,
          32.4889803725756,
          73.74862154600284,
          41.15555704450262,
          9.910701172419351,
          9.92458714893598
         ],
         "yaxis": "y"
        }
       ],
       "layout": {
        "barmode": "relative",
        "legend": {
         "tracegroupgap": 0
        },
        "shapes": [
         {
          "line": {
           "color": "red",
           "dash": "dash"
          },
          "name": "CAD",
          "type": "line",
          "x0": 0,
          "x1": 1,
          "xref": "x domain",
          "y0": 4.48,
          "y1": 4.48,
          "yref": "y"
         }
        ],
        "template": {
         "data": {
          "bar": [
           {
            "error_x": {
             "color": "#2a3f5f"
            },
            "error_y": {
             "color": "#2a3f5f"
            },
            "marker": {
             "line": {
              "color": "#E5ECF6",
              "width": 0.5
             },
             "pattern": {
              "fillmode": "overlay",
              "size": 10,
              "solidity": 0.2
             }
            },
            "type": "bar"
           }
          ],
          "barpolar": [
           {
            "marker": {
             "line": {
              "color": "#E5ECF6",
              "width": 0.5
             },
             "pattern": {
              "fillmode": "overlay",
              "size": 10,
              "solidity": 0.2
             }
            },
            "type": "barpolar"
           }
          ],
          "carpet": [
           {
            "aaxis": {
             "endlinecolor": "#2a3f5f",
             "gridcolor": "white",
             "linecolor": "white",
             "minorgridcolor": "white",
             "startlinecolor": "#2a3f5f"
            },
            "baxis": {
             "endlinecolor": "#2a3f5f",
             "gridcolor": "white",
             "linecolor": "white",
             "minorgridcolor": "white",
             "startlinecolor": "#2a3f5f"
            },
            "type": "carpet"
           }
          ],
          "choropleth": [
           {
            "colorbar": {
             "outlinewidth": 0,
             "ticks": ""
            },
            "type": "choropleth"
           }
          ],
          "contour": [
           {
            "colorbar": {
             "outlinewidth": 0,
             "ticks": ""
            },
            "colorscale": [
             [
              0,
              "#0d0887"
             ],
             [
              0.1111111111111111,
              "#46039f"
             ],
             [
              0.2222222222222222,
              "#7201a8"
             ],
             [
              0.3333333333333333,
              "#9c179e"
             ],
             [
              0.4444444444444444,
              "#bd3786"
             ],
             [
              0.5555555555555556,
              "#d8576b"
             ],
             [
              0.6666666666666666,
              "#ed7953"
             ],
             [
              0.7777777777777778,
              "#fb9f3a"
             ],
             [
              0.8888888888888888,
              "#fdca26"
             ],
             [
              1,
              "#f0f921"
             ]
            ],
            "type": "contour"
           }
          ],
          "contourcarpet": [
           {
            "colorbar": {
             "outlinewidth": 0,
             "ticks": ""
            },
            "type": "contourcarpet"
           }
          ],
          "heatmap": [
           {
            "colorbar": {
             "outlinewidth": 0,
             "ticks": ""
            },
            "colorscale": [
             [
              0,
              "#0d0887"
             ],
             [
              0.1111111111111111,
              "#46039f"
             ],
             [
              0.2222222222222222,
              "#7201a8"
             ],
             [
              0.3333333333333333,
              "#9c179e"
             ],
             [
              0.4444444444444444,
              "#bd3786"
             ],
             [
              0.5555555555555556,
              "#d8576b"
             ],
             [
              0.6666666666666666,
              "#ed7953"
             ],
             [
              0.7777777777777778,
              "#fb9f3a"
             ],
             [
              0.8888888888888888,
              "#fdca26"
             ],
             [
              1,
              "#f0f921"
             ]
            ],
            "type": "heatmap"
           }
          ],
          "heatmapgl": [
           {
            "colorbar": {
             "outlinewidth": 0,
             "ticks": ""
            },
            "colorscale": [
             [
              0,
              "#0d0887"
             ],
             [
              0.1111111111111111,
              "#46039f"
             ],
             [
              0.2222222222222222,
              "#7201a8"
             ],
             [
              0.3333333333333333,
              "#9c179e"
             ],
             [
              0.4444444444444444,
              "#bd3786"
             ],
             [
              0.5555555555555556,
              "#d8576b"
             ],
             [
              0.6666666666666666,
              "#ed7953"
             ],
             [
              0.7777777777777778,
              "#fb9f3a"
             ],
             [
              0.8888888888888888,
              "#fdca26"
             ],
             [
              1,
              "#f0f921"
             ]
            ],
            "type": "heatmapgl"
           }
          ],
          "histogram": [
           {
            "marker": {
             "pattern": {
              "fillmode": "overlay",
              "size": 10,
              "solidity": 0.2
             }
            },
            "type": "histogram"
           }
          ],
          "histogram2d": [
           {
            "colorbar": {
             "outlinewidth": 0,
             "ticks": ""
            },
            "colorscale": [
             [
              0,
              "#0d0887"
             ],
             [
              0.1111111111111111,
              "#46039f"
             ],
             [
              0.2222222222222222,
              "#7201a8"
             ],
             [
              0.3333333333333333,
              "#9c179e"
             ],
             [
              0.4444444444444444,
              "#bd3786"
             ],
             [
              0.5555555555555556,
              "#d8576b"
             ],
             [
              0.6666666666666666,
              "#ed7953"
             ],
             [
              0.7777777777777778,
              "#fb9f3a"
             ],
             [
              0.8888888888888888,
              "#fdca26"
             ],
             [
              1,
              "#f0f921"
             ]
            ],
            "type": "histogram2d"
           }
          ],
          "histogram2dcontour": [
           {
            "colorbar": {
             "outlinewidth": 0,
             "ticks": ""
            },
            "colorscale": [
             [
              0,
              "#0d0887"
             ],
             [
              0.1111111111111111,
              "#46039f"
             ],
             [
              0.2222222222222222,
              "#7201a8"
             ],
             [
              0.3333333333333333,
              "#9c179e"
             ],
             [
              0.4444444444444444,
              "#bd3786"
             ],
             [
              0.5555555555555556,
              "#d8576b"
             ],
             [
              0.6666666666666666,
              "#ed7953"
             ],
             [
              0.7777777777777778,
              "#fb9f3a"
             ],
             [
              0.8888888888888888,
              "#fdca26"
             ],
             [
              1,
              "#f0f921"
             ]
            ],
            "type": "histogram2dcontour"
           }
          ],
          "mesh3d": [
           {
            "colorbar": {
             "outlinewidth": 0,
             "ticks": ""
            },
            "type": "mesh3d"
           }
          ],
          "parcoords": [
           {
            "line": {
             "colorbar": {
              "outlinewidth": 0,
              "ticks": ""
             }
            },
            "type": "parcoords"
           }
          ],
          "pie": [
           {
            "automargin": true,
            "type": "pie"
           }
          ],
          "scatter": [
           {
            "fillpattern": {
             "fillmode": "overlay",
             "size": 10,
             "solidity": 0.2
            },
            "type": "scatter"
           }
          ],
          "scatter3d": [
           {
            "line": {
             "colorbar": {
              "outlinewidth": 0,
              "ticks": ""
             }
            },
            "marker": {
             "colorbar": {
              "outlinewidth": 0,
              "ticks": ""
             }
            },
            "type": "scatter3d"
           }
          ],
          "scattercarpet": [
           {
            "marker": {
             "colorbar": {
              "outlinewidth": 0,
              "ticks": ""
             }
            },
            "type": "scattercarpet"
           }
          ],
          "scattergeo": [
           {
            "marker": {
             "colorbar": {
              "outlinewidth": 0,
              "ticks": ""
             }
            },
            "type": "scattergeo"
           }
          ],
          "scattergl": [
           {
            "marker": {
             "colorbar": {
              "outlinewidth": 0,
              "ticks": ""
             }
            },
            "type": "scattergl"
           }
          ],
          "scattermapbox": [
           {
            "marker": {
             "colorbar": {
              "outlinewidth": 0,
              "ticks": ""
             }
            },
            "type": "scattermapbox"
           }
          ],
          "scatterpolar": [
           {
            "marker": {
             "colorbar": {
              "outlinewidth": 0,
              "ticks": ""
             }
            },
            "type": "scatterpolar"
           }
          ],
          "scatterpolargl": [
           {
            "marker": {
             "colorbar": {
              "outlinewidth": 0,
              "ticks": ""
             }
            },
            "type": "scatterpolargl"
           }
          ],
          "scatterternary": [
           {
            "marker": {
             "colorbar": {
              "outlinewidth": 0,
              "ticks": ""
             }
            },
            "type": "scatterternary"
           }
          ],
          "surface": [
           {
            "colorbar": {
             "outlinewidth": 0,
             "ticks": ""
            },
            "colorscale": [
             [
              0,
              "#0d0887"
             ],
             [
              0.1111111111111111,
              "#46039f"
             ],
             [
              0.2222222222222222,
              "#7201a8"
             ],
             [
              0.3333333333333333,
              "#9c179e"
             ],
             [
              0.4444444444444444,
              "#bd3786"
             ],
             [
              0.5555555555555556,
              "#d8576b"
             ],
             [
              0.6666666666666666,
              "#ed7953"
             ],
             [
              0.7777777777777778,
              "#fb9f3a"
             ],
             [
              0.8888888888888888,
              "#fdca26"
             ],
             [
              1,
              "#f0f921"
             ]
            ],
            "type": "surface"
           }
          ],
          "table": [
           {
            "cells": {
             "fill": {
              "color": "#EBF0F8"
             },
             "line": {
              "color": "white"
             }
            },
            "header": {
             "fill": {
              "color": "#C8D4E3"
             },
             "line": {
              "color": "white"
             }
            },
            "type": "table"
           }
          ]
         },
         "layout": {
          "annotationdefaults": {
           "arrowcolor": "#2a3f5f",
           "arrowhead": 0,
           "arrowwidth": 1
          },
          "autotypenumbers": "strict",
          "coloraxis": {
           "colorbar": {
            "outlinewidth": 0,
            "ticks": ""
           }
          },
          "colorscale": {
           "diverging": [
            [
             0,
             "#8e0152"
            ],
            [
             0.1,
             "#c51b7d"
            ],
            [
             0.2,
             "#de77ae"
            ],
            [
             0.3,
             "#f1b6da"
            ],
            [
             0.4,
             "#fde0ef"
            ],
            [
             0.5,
             "#f7f7f7"
            ],
            [
             0.6,
             "#e6f5d0"
            ],
            [
             0.7,
             "#b8e186"
            ],
            [
             0.8,
             "#7fbc41"
            ],
            [
             0.9,
             "#4d9221"
            ],
            [
             1,
             "#276419"
            ]
           ],
           "sequential": [
            [
             0,
             "#0d0887"
            ],
            [
             0.1111111111111111,
             "#46039f"
            ],
            [
             0.2222222222222222,
             "#7201a8"
            ],
            [
             0.3333333333333333,
             "#9c179e"
            ],
            [
             0.4444444444444444,
             "#bd3786"
            ],
            [
             0.5555555555555556,
             "#d8576b"
            ],
            [
             0.6666666666666666,
             "#ed7953"
            ],
            [
             0.7777777777777778,
             "#fb9f3a"
            ],
            [
             0.8888888888888888,
             "#fdca26"
            ],
            [
             1,
             "#f0f921"
            ]
           ],
           "sequentialminus": [
            [
             0,
             "#0d0887"
            ],
            [
             0.1111111111111111,
             "#46039f"
            ],
            [
             0.2222222222222222,
             "#7201a8"
            ],
            [
             0.3333333333333333,
             "#9c179e"
            ],
            [
             0.4444444444444444,
             "#bd3786"
            ],
            [
             0.5555555555555556,
             "#d8576b"
            ],
            [
             0.6666666666666666,
             "#ed7953"
            ],
            [
             0.7777777777777778,
             "#fb9f3a"
            ],
            [
             0.8888888888888888,
             "#fdca26"
            ],
            [
             1,
             "#f0f921"
            ]
           ]
          },
          "colorway": [
           "#636efa",
           "#EF553B",
           "#00cc96",
           "#ab63fa",
           "#FFA15A",
           "#19d3f3",
           "#FF6692",
           "#B6E880",
           "#FF97FF",
           "#FECB52"
          ],
          "font": {
           "color": "#2a3f5f"
          },
          "geo": {
           "bgcolor": "white",
           "lakecolor": "white",
           "landcolor": "#E5ECF6",
           "showlakes": true,
           "showland": true,
           "subunitcolor": "white"
          },
          "hoverlabel": {
           "align": "left"
          },
          "hovermode": "closest",
          "mapbox": {
           "style": "light"
          },
          "paper_bgcolor": "white",
          "plot_bgcolor": "#E5ECF6",
          "polar": {
           "angularaxis": {
            "gridcolor": "white",
            "linecolor": "white",
            "ticks": ""
           },
           "bgcolor": "#E5ECF6",
           "radialaxis": {
            "gridcolor": "white",
            "linecolor": "white",
            "ticks": ""
           }
          },
          "scene": {
           "xaxis": {
            "backgroundcolor": "#E5ECF6",
            "gridcolor": "white",
            "gridwidth": 2,
            "linecolor": "white",
            "showbackground": true,
            "ticks": "",
            "zerolinecolor": "white"
           },
           "yaxis": {
            "backgroundcolor": "#E5ECF6",
            "gridcolor": "white",
            "gridwidth": 2,
            "linecolor": "white",
            "showbackground": true,
            "ticks": "",
            "zerolinecolor": "white"
           },
           "zaxis": {
            "backgroundcolor": "#E5ECF6",
            "gridcolor": "white",
            "gridwidth": 2,
            "linecolor": "white",
            "showbackground": true,
            "ticks": "",
            "zerolinecolor": "white"
           }
          },
          "shapedefaults": {
           "line": {
            "color": "#2a3f5f"
           }
          },
          "ternary": {
           "aaxis": {
            "gridcolor": "white",
            "linecolor": "white",
            "ticks": ""
           },
           "baxis": {
            "gridcolor": "white",
            "linecolor": "white",
            "ticks": ""
           },
           "bgcolor": "#E5ECF6",
           "caxis": {
            "gridcolor": "white",
            "linecolor": "white",
            "ticks": ""
           }
          },
          "title": {
           "x": 0.05
          },
          "xaxis": {
           "automargin": true,
           "gridcolor": "white",
           "linecolor": "white",
           "ticks": "",
           "title": {
            "standoff": 15
           },
           "zerolinecolor": "white",
           "zerolinewidth": 2
          },
          "yaxis": {
           "automargin": true,
           "gridcolor": "white",
           "linecolor": "white",
           "ticks": "",
           "title": {
            "standoff": 15
           },
           "zerolinecolor": "white",
           "zerolinewidth": 2
          }
         }
        },
        "title": {
         "font": {
          "size": 24
         },
         "text": "Elbow Flexion ROM RMSE, cad = 4.48 deg"
        },
        "xaxis": {
         "anchor": "y",
         "domain": [
          0,
          1
         ],
         "title": {
          "font": {
           "size": 20
          },
          "text": "Settings"
         }
        },
        "yaxis": {
         "anchor": "x",
         "domain": [
          0,
          1
         ],
         "range": [
          0,
          86.87893671254831
         ],
         "title": {
          "font": {
           "size": 20
          },
          "text": "ROM RMSE [deg]"
         }
        }
       }
      },
      "text/html": [
       "<div>                            <div id=\"3c99c67a-5b30-4e1b-8836-58cd127175a9\" class=\"plotly-graph-div\" style=\"height:525px; width:100%;\"></div>            <script type=\"text/javascript\">                require([\"plotly\"], function(Plotly) {                    window.PLOTLYENV=window.PLOTLYENV || {};                                    if (document.getElementById(\"3c99c67a-5b30-4e1b-8836-58cd127175a9\")) {                    Plotly.newPlot(                        \"3c99c67a-5b30-4e1b-8836-58cd127175a9\",                        [{\"alignmentgroup\":\"True\",\"hovertemplate\":\"ids_name=%{x}\\u003cbr\\u003erom_rmse=%{y}\\u003cextra\\u003e\\u003c\\u002fextra\\u003e\",\"legendgroup\":\"\",\"marker\":{\"color\":\"#636efa\",\"pattern\":{\"shape\":\"\"}},\"name\":\"\",\"offsetgroup\":\"\",\"orientation\":\"v\",\"showlegend\":false,\"textposition\":\"auto\",\"x\":[\"SimCC, Cams: 1,2,3,4,5\",\"Metrabs, Cams: 1,2,3,4,5\",\"SimCC, Cams: 6,7,8,9,10\",\"Metrabs, Cams: 6,7,8,9,10\",\"SimCC, Cams: 1,3,5\",\"Metrabs, Cams: 1,3,5\",\"SimCC, Cams: 2,3,4\",\"Metrabs, Cams: 2,3,4\",\"SimCC, Cams: 6,8,10\",\"Metrabs, Cams: 6,8,10\",\"SimCC, Cams: 7,8,9\",\"Metrabs, Cams: 7,8,9\",\"SimCC, Cams: 2,4\",\"Metrabs, Cams: 2,4\",\"SimCC, Cams: 7,9\",\"Metrabs, Cams: 7,9\",\"Single, Cam: 1, filt\",\"Single, Cam: 1, unfilt\"],\"xaxis\":\"x\",\"y\":[16.61980692187043,16.406852826506466,58.730034914529114,76.87893671254831,41.1159194951209,35.59213553215005,40.51853057014745,32.607100892252845,43.70306727451484,28.948235857860066,57.44536009711851,63.44013532087915,21.306086084606665,32.4889803725756,73.74862154600284,41.15555704450262,9.910701172419351,9.92458714893598],\"yaxis\":\"y\",\"type\":\"bar\"}],                        {\"template\":{\"data\":{\"barpolar\":[{\"marker\":{\"line\":{\"color\":\"#E5ECF6\",\"width\":0.5},\"pattern\":{\"fillmode\":\"overlay\",\"size\":10,\"solidity\":0.2}},\"type\":\"barpolar\"}],\"bar\":[{\"error_x\":{\"color\":\"#2a3f5f\"},\"error_y\":{\"color\":\"#2a3f5f\"},\"marker\":{\"line\":{\"color\":\"#E5ECF6\",\"width\":0.5},\"pattern\":{\"fillmode\":\"overlay\",\"size\":10,\"solidity\":0.2}},\"type\":\"bar\"}],\"carpet\":[{\"aaxis\":{\"endlinecolor\":\"#2a3f5f\",\"gridcolor\":\"white\",\"linecolor\":\"white\",\"minorgridcolor\":\"white\",\"startlinecolor\":\"#2a3f5f\"},\"baxis\":{\"endlinecolor\":\"#2a3f5f\",\"gridcolor\":\"white\",\"linecolor\":\"white\",\"minorgridcolor\":\"white\",\"startlinecolor\":\"#2a3f5f\"},\"type\":\"carpet\"}],\"choropleth\":[{\"colorbar\":{\"outlinewidth\":0,\"ticks\":\"\"},\"type\":\"choropleth\"}],\"contourcarpet\":[{\"colorbar\":{\"outlinewidth\":0,\"ticks\":\"\"},\"type\":\"contourcarpet\"}],\"contour\":[{\"colorbar\":{\"outlinewidth\":0,\"ticks\":\"\"},\"colorscale\":[[0.0,\"#0d0887\"],[0.1111111111111111,\"#46039f\"],[0.2222222222222222,\"#7201a8\"],[0.3333333333333333,\"#9c179e\"],[0.4444444444444444,\"#bd3786\"],[0.5555555555555556,\"#d8576b\"],[0.6666666666666666,\"#ed7953\"],[0.7777777777777778,\"#fb9f3a\"],[0.8888888888888888,\"#fdca26\"],[1.0,\"#f0f921\"]],\"type\":\"contour\"}],\"heatmapgl\":[{\"colorbar\":{\"outlinewidth\":0,\"ticks\":\"\"},\"colorscale\":[[0.0,\"#0d0887\"],[0.1111111111111111,\"#46039f\"],[0.2222222222222222,\"#7201a8\"],[0.3333333333333333,\"#9c179e\"],[0.4444444444444444,\"#bd3786\"],[0.5555555555555556,\"#d8576b\"],[0.6666666666666666,\"#ed7953\"],[0.7777777777777778,\"#fb9f3a\"],[0.8888888888888888,\"#fdca26\"],[1.0,\"#f0f921\"]],\"type\":\"heatmapgl\"}],\"heatmap\":[{\"colorbar\":{\"outlinewidth\":0,\"ticks\":\"\"},\"colorscale\":[[0.0,\"#0d0887\"],[0.1111111111111111,\"#46039f\"],[0.2222222222222222,\"#7201a8\"],[0.3333333333333333,\"#9c179e\"],[0.4444444444444444,\"#bd3786\"],[0.5555555555555556,\"#d8576b\"],[0.6666666666666666,\"#ed7953\"],[0.7777777777777778,\"#fb9f3a\"],[0.8888888888888888,\"#fdca26\"],[1.0,\"#f0f921\"]],\"type\":\"heatmap\"}],\"histogram2dcontour\":[{\"colorbar\":{\"outlinewidth\":0,\"ticks\":\"\"},\"colorscale\":[[0.0,\"#0d0887\"],[0.1111111111111111,\"#46039f\"],[0.2222222222222222,\"#7201a8\"],[0.3333333333333333,\"#9c179e\"],[0.4444444444444444,\"#bd3786\"],[0.5555555555555556,\"#d8576b\"],[0.6666666666666666,\"#ed7953\"],[0.7777777777777778,\"#fb9f3a\"],[0.8888888888888888,\"#fdca26\"],[1.0,\"#f0f921\"]],\"type\":\"histogram2dcontour\"}],\"histogram2d\":[{\"colorbar\":{\"outlinewidth\":0,\"ticks\":\"\"},\"colorscale\":[[0.0,\"#0d0887\"],[0.1111111111111111,\"#46039f\"],[0.2222222222222222,\"#7201a8\"],[0.3333333333333333,\"#9c179e\"],[0.4444444444444444,\"#bd3786\"],[0.5555555555555556,\"#d8576b\"],[0.6666666666666666,\"#ed7953\"],[0.7777777777777778,\"#fb9f3a\"],[0.8888888888888888,\"#fdca26\"],[1.0,\"#f0f921\"]],\"type\":\"histogram2d\"}],\"histogram\":[{\"marker\":{\"pattern\":{\"fillmode\":\"overlay\",\"size\":10,\"solidity\":0.2}},\"type\":\"histogram\"}],\"mesh3d\":[{\"colorbar\":{\"outlinewidth\":0,\"ticks\":\"\"},\"type\":\"mesh3d\"}],\"parcoords\":[{\"line\":{\"colorbar\":{\"outlinewidth\":0,\"ticks\":\"\"}},\"type\":\"parcoords\"}],\"pie\":[{\"automargin\":true,\"type\":\"pie\"}],\"scatter3d\":[{\"line\":{\"colorbar\":{\"outlinewidth\":0,\"ticks\":\"\"}},\"marker\":{\"colorbar\":{\"outlinewidth\":0,\"ticks\":\"\"}},\"type\":\"scatter3d\"}],\"scattercarpet\":[{\"marker\":{\"colorbar\":{\"outlinewidth\":0,\"ticks\":\"\"}},\"type\":\"scattercarpet\"}],\"scattergeo\":[{\"marker\":{\"colorbar\":{\"outlinewidth\":0,\"ticks\":\"\"}},\"type\":\"scattergeo\"}],\"scattergl\":[{\"marker\":{\"colorbar\":{\"outlinewidth\":0,\"ticks\":\"\"}},\"type\":\"scattergl\"}],\"scattermapbox\":[{\"marker\":{\"colorbar\":{\"outlinewidth\":0,\"ticks\":\"\"}},\"type\":\"scattermapbox\"}],\"scatterpolargl\":[{\"marker\":{\"colorbar\":{\"outlinewidth\":0,\"ticks\":\"\"}},\"type\":\"scatterpolargl\"}],\"scatterpolar\":[{\"marker\":{\"colorbar\":{\"outlinewidth\":0,\"ticks\":\"\"}},\"type\":\"scatterpolar\"}],\"scatter\":[{\"fillpattern\":{\"fillmode\":\"overlay\",\"size\":10,\"solidity\":0.2},\"type\":\"scatter\"}],\"scatterternary\":[{\"marker\":{\"colorbar\":{\"outlinewidth\":0,\"ticks\":\"\"}},\"type\":\"scatterternary\"}],\"surface\":[{\"colorbar\":{\"outlinewidth\":0,\"ticks\":\"\"},\"colorscale\":[[0.0,\"#0d0887\"],[0.1111111111111111,\"#46039f\"],[0.2222222222222222,\"#7201a8\"],[0.3333333333333333,\"#9c179e\"],[0.4444444444444444,\"#bd3786\"],[0.5555555555555556,\"#d8576b\"],[0.6666666666666666,\"#ed7953\"],[0.7777777777777778,\"#fb9f3a\"],[0.8888888888888888,\"#fdca26\"],[1.0,\"#f0f921\"]],\"type\":\"surface\"}],\"table\":[{\"cells\":{\"fill\":{\"color\":\"#EBF0F8\"},\"line\":{\"color\":\"white\"}},\"header\":{\"fill\":{\"color\":\"#C8D4E3\"},\"line\":{\"color\":\"white\"}},\"type\":\"table\"}]},\"layout\":{\"annotationdefaults\":{\"arrowcolor\":\"#2a3f5f\",\"arrowhead\":0,\"arrowwidth\":1},\"autotypenumbers\":\"strict\",\"coloraxis\":{\"colorbar\":{\"outlinewidth\":0,\"ticks\":\"\"}},\"colorscale\":{\"diverging\":[[0,\"#8e0152\"],[0.1,\"#c51b7d\"],[0.2,\"#de77ae\"],[0.3,\"#f1b6da\"],[0.4,\"#fde0ef\"],[0.5,\"#f7f7f7\"],[0.6,\"#e6f5d0\"],[0.7,\"#b8e186\"],[0.8,\"#7fbc41\"],[0.9,\"#4d9221\"],[1,\"#276419\"]],\"sequential\":[[0.0,\"#0d0887\"],[0.1111111111111111,\"#46039f\"],[0.2222222222222222,\"#7201a8\"],[0.3333333333333333,\"#9c179e\"],[0.4444444444444444,\"#bd3786\"],[0.5555555555555556,\"#d8576b\"],[0.6666666666666666,\"#ed7953\"],[0.7777777777777778,\"#fb9f3a\"],[0.8888888888888888,\"#fdca26\"],[1.0,\"#f0f921\"]],\"sequentialminus\":[[0.0,\"#0d0887\"],[0.1111111111111111,\"#46039f\"],[0.2222222222222222,\"#7201a8\"],[0.3333333333333333,\"#9c179e\"],[0.4444444444444444,\"#bd3786\"],[0.5555555555555556,\"#d8576b\"],[0.6666666666666666,\"#ed7953\"],[0.7777777777777778,\"#fb9f3a\"],[0.8888888888888888,\"#fdca26\"],[1.0,\"#f0f921\"]]},\"colorway\":[\"#636efa\",\"#EF553B\",\"#00cc96\",\"#ab63fa\",\"#FFA15A\",\"#19d3f3\",\"#FF6692\",\"#B6E880\",\"#FF97FF\",\"#FECB52\"],\"font\":{\"color\":\"#2a3f5f\"},\"geo\":{\"bgcolor\":\"white\",\"lakecolor\":\"white\",\"landcolor\":\"#E5ECF6\",\"showlakes\":true,\"showland\":true,\"subunitcolor\":\"white\"},\"hoverlabel\":{\"align\":\"left\"},\"hovermode\":\"closest\",\"mapbox\":{\"style\":\"light\"},\"paper_bgcolor\":\"white\",\"plot_bgcolor\":\"#E5ECF6\",\"polar\":{\"angularaxis\":{\"gridcolor\":\"white\",\"linecolor\":\"white\",\"ticks\":\"\"},\"bgcolor\":\"#E5ECF6\",\"radialaxis\":{\"gridcolor\":\"white\",\"linecolor\":\"white\",\"ticks\":\"\"}},\"scene\":{\"xaxis\":{\"backgroundcolor\":\"#E5ECF6\",\"gridcolor\":\"white\",\"gridwidth\":2,\"linecolor\":\"white\",\"showbackground\":true,\"ticks\":\"\",\"zerolinecolor\":\"white\"},\"yaxis\":{\"backgroundcolor\":\"#E5ECF6\",\"gridcolor\":\"white\",\"gridwidth\":2,\"linecolor\":\"white\",\"showbackground\":true,\"ticks\":\"\",\"zerolinecolor\":\"white\"},\"zaxis\":{\"backgroundcolor\":\"#E5ECF6\",\"gridcolor\":\"white\",\"gridwidth\":2,\"linecolor\":\"white\",\"showbackground\":true,\"ticks\":\"\",\"zerolinecolor\":\"white\"}},\"shapedefaults\":{\"line\":{\"color\":\"#2a3f5f\"}},\"ternary\":{\"aaxis\":{\"gridcolor\":\"white\",\"linecolor\":\"white\",\"ticks\":\"\"},\"baxis\":{\"gridcolor\":\"white\",\"linecolor\":\"white\",\"ticks\":\"\"},\"bgcolor\":\"#E5ECF6\",\"caxis\":{\"gridcolor\":\"white\",\"linecolor\":\"white\",\"ticks\":\"\"}},\"title\":{\"x\":0.05},\"xaxis\":{\"automargin\":true,\"gridcolor\":\"white\",\"linecolor\":\"white\",\"ticks\":\"\",\"title\":{\"standoff\":15},\"zerolinecolor\":\"white\",\"zerolinewidth\":2},\"yaxis\":{\"automargin\":true,\"gridcolor\":\"white\",\"linecolor\":\"white\",\"ticks\":\"\",\"title\":{\"standoff\":15},\"zerolinecolor\":\"white\",\"zerolinewidth\":2}}},\"xaxis\":{\"anchor\":\"y\",\"domain\":[0.0,1.0],\"title\":{\"text\":\"Settings\",\"font\":{\"size\":20}}},\"yaxis\":{\"anchor\":\"x\",\"domain\":[0.0,1.0],\"title\":{\"text\":\"ROM RMSE [deg]\",\"font\":{\"size\":20}},\"range\":[0,86.87893671254831]},\"legend\":{\"tracegroupgap\":0},\"title\":{\"text\":\"Elbow Flexion ROM RMSE, cad = 4.48 deg\",\"font\":{\"size\":24}},\"barmode\":\"relative\",\"shapes\":[{\"line\":{\"color\":\"red\",\"dash\":\"dash\"},\"name\":\"CAD\",\"type\":\"line\",\"x0\":0,\"x1\":1,\"xref\":\"x domain\",\"y0\":4.48,\"y1\":4.48,\"yref\":\"y\"}]},                        {\"responsive\": true}                    ).then(function(){\n",
       "                            \n",
       "var gd = document.getElementById('3c99c67a-5b30-4e1b-8836-58cd127175a9');\n",
       "var x = new MutationObserver(function (mutations, observer) {{\n",
       "        var display = window.getComputedStyle(gd).display;\n",
       "        if (!display || display === 'none') {{\n",
       "            console.log([gd, 'removed!']);\n",
       "            Plotly.purge(gd);\n",
       "            observer.disconnect();\n",
       "        }}\n",
       "}});\n",
       "\n",
       "// Listen for the removal of the full notebook cells\n",
       "var notebookContainer = gd.closest('#notebook-container');\n",
       "if (notebookContainer) {{\n",
       "    x.observe(notebookContainer, {childList: true});\n",
       "}}\n",
       "\n",
       "// Listen for the clearing of the current output cell\n",
       "var outputEl = gd.closest('.output');\n",
       "if (outputEl) {{\n",
       "    x.observe(outputEl, {childList: true});\n",
       "}}\n",
       "\n",
       "                        })                };                });            </script>        </div>"
      ]
     },
     "metadata": {},
     "output_type": "display_data"
    },
    {
     "data": {
      "application/vnd.plotly.v1+json": {
       "config": {
        "plotlyServerURL": "https://plot.ly"
       },
       "data": [
        {
         "alignmentgroup": "True",
         "hovertemplate": "ids_name=%{x}<br>rom_rmse=%{y}<extra></extra>",
         "legendgroup": "",
         "marker": {
          "color": "#636efa",
          "pattern": {
           "shape": ""
          }
         },
         "name": "",
         "offsetgroup": "",
         "orientation": "v",
         "showlegend": false,
         "textposition": "auto",
         "type": "bar",
         "x": [
          "SimCC, Cams: 1,2,3,4,5",
          "Metrabs, Cams: 1,2,3,4,5",
          "SimCC, Cams: 6,7,8,9,10",
          "Metrabs, Cams: 6,7,8,9,10",
          "SimCC, Cams: 1,3,5",
          "Metrabs, Cams: 1,3,5",
          "SimCC, Cams: 2,3,4",
          "Metrabs, Cams: 2,3,4",
          "SimCC, Cams: 6,8,10",
          "Metrabs, Cams: 6,8,10",
          "SimCC, Cams: 7,8,9",
          "Metrabs, Cams: 7,8,9",
          "SimCC, Cams: 2,4",
          "Metrabs, Cams: 2,4",
          "SimCC, Cams: 7,9",
          "Metrabs, Cams: 7,9",
          "Single, Cam: 1, filt",
          "Single, Cam: 1, unfilt"
         ],
         "xaxis": "x",
         "y": [
          15.60448348788121,
          15.115769862547403,
          69.44652522211629,
          41.32732679446125,
          50.87904562875795,
          37.21801774332474,
          41.88992732838752,
          24.63952503065197,
          38.40907960813233,
          29.711782590741947,
          31.917509505743993,
          28.793981121668107,
          25.343286481184318,
          24.43528170236335,
          43.06365479364985,
          24.777058003786536,
          9.06133602581338,
          8.780851363793879
         ],
         "yaxis": "y"
        }
       ],
       "layout": {
        "barmode": "relative",
        "legend": {
         "tracegroupgap": 0
        },
        "shapes": [
         {
          "line": {
           "color": "red",
           "dash": "dash"
          },
          "name": "CAD",
          "type": "line",
          "x0": 0,
          "x1": 1,
          "xref": "x domain",
          "y0": 7.82,
          "y1": 7.82,
          "yref": "y"
         }
        ],
        "template": {
         "data": {
          "bar": [
           {
            "error_x": {
             "color": "#2a3f5f"
            },
            "error_y": {
             "color": "#2a3f5f"
            },
            "marker": {
             "line": {
              "color": "#E5ECF6",
              "width": 0.5
             },
             "pattern": {
              "fillmode": "overlay",
              "size": 10,
              "solidity": 0.2
             }
            },
            "type": "bar"
           }
          ],
          "barpolar": [
           {
            "marker": {
             "line": {
              "color": "#E5ECF6",
              "width": 0.5
             },
             "pattern": {
              "fillmode": "overlay",
              "size": 10,
              "solidity": 0.2
             }
            },
            "type": "barpolar"
           }
          ],
          "carpet": [
           {
            "aaxis": {
             "endlinecolor": "#2a3f5f",
             "gridcolor": "white",
             "linecolor": "white",
             "minorgridcolor": "white",
             "startlinecolor": "#2a3f5f"
            },
            "baxis": {
             "endlinecolor": "#2a3f5f",
             "gridcolor": "white",
             "linecolor": "white",
             "minorgridcolor": "white",
             "startlinecolor": "#2a3f5f"
            },
            "type": "carpet"
           }
          ],
          "choropleth": [
           {
            "colorbar": {
             "outlinewidth": 0,
             "ticks": ""
            },
            "type": "choropleth"
           }
          ],
          "contour": [
           {
            "colorbar": {
             "outlinewidth": 0,
             "ticks": ""
            },
            "colorscale": [
             [
              0,
              "#0d0887"
             ],
             [
              0.1111111111111111,
              "#46039f"
             ],
             [
              0.2222222222222222,
              "#7201a8"
             ],
             [
              0.3333333333333333,
              "#9c179e"
             ],
             [
              0.4444444444444444,
              "#bd3786"
             ],
             [
              0.5555555555555556,
              "#d8576b"
             ],
             [
              0.6666666666666666,
              "#ed7953"
             ],
             [
              0.7777777777777778,
              "#fb9f3a"
             ],
             [
              0.8888888888888888,
              "#fdca26"
             ],
             [
              1,
              "#f0f921"
             ]
            ],
            "type": "contour"
           }
          ],
          "contourcarpet": [
           {
            "colorbar": {
             "outlinewidth": 0,
             "ticks": ""
            },
            "type": "contourcarpet"
           }
          ],
          "heatmap": [
           {
            "colorbar": {
             "outlinewidth": 0,
             "ticks": ""
            },
            "colorscale": [
             [
              0,
              "#0d0887"
             ],
             [
              0.1111111111111111,
              "#46039f"
             ],
             [
              0.2222222222222222,
              "#7201a8"
             ],
             [
              0.3333333333333333,
              "#9c179e"
             ],
             [
              0.4444444444444444,
              "#bd3786"
             ],
             [
              0.5555555555555556,
              "#d8576b"
             ],
             [
              0.6666666666666666,
              "#ed7953"
             ],
             [
              0.7777777777777778,
              "#fb9f3a"
             ],
             [
              0.8888888888888888,
              "#fdca26"
             ],
             [
              1,
              "#f0f921"
             ]
            ],
            "type": "heatmap"
           }
          ],
          "heatmapgl": [
           {
            "colorbar": {
             "outlinewidth": 0,
             "ticks": ""
            },
            "colorscale": [
             [
              0,
              "#0d0887"
             ],
             [
              0.1111111111111111,
              "#46039f"
             ],
             [
              0.2222222222222222,
              "#7201a8"
             ],
             [
              0.3333333333333333,
              "#9c179e"
             ],
             [
              0.4444444444444444,
              "#bd3786"
             ],
             [
              0.5555555555555556,
              "#d8576b"
             ],
             [
              0.6666666666666666,
              "#ed7953"
             ],
             [
              0.7777777777777778,
              "#fb9f3a"
             ],
             [
              0.8888888888888888,
              "#fdca26"
             ],
             [
              1,
              "#f0f921"
             ]
            ],
            "type": "heatmapgl"
           }
          ],
          "histogram": [
           {
            "marker": {
             "pattern": {
              "fillmode": "overlay",
              "size": 10,
              "solidity": 0.2
             }
            },
            "type": "histogram"
           }
          ],
          "histogram2d": [
           {
            "colorbar": {
             "outlinewidth": 0,
             "ticks": ""
            },
            "colorscale": [
             [
              0,
              "#0d0887"
             ],
             [
              0.1111111111111111,
              "#46039f"
             ],
             [
              0.2222222222222222,
              "#7201a8"
             ],
             [
              0.3333333333333333,
              "#9c179e"
             ],
             [
              0.4444444444444444,
              "#bd3786"
             ],
             [
              0.5555555555555556,
              "#d8576b"
             ],
             [
              0.6666666666666666,
              "#ed7953"
             ],
             [
              0.7777777777777778,
              "#fb9f3a"
             ],
             [
              0.8888888888888888,
              "#fdca26"
             ],
             [
              1,
              "#f0f921"
             ]
            ],
            "type": "histogram2d"
           }
          ],
          "histogram2dcontour": [
           {
            "colorbar": {
             "outlinewidth": 0,
             "ticks": ""
            },
            "colorscale": [
             [
              0,
              "#0d0887"
             ],
             [
              0.1111111111111111,
              "#46039f"
             ],
             [
              0.2222222222222222,
              "#7201a8"
             ],
             [
              0.3333333333333333,
              "#9c179e"
             ],
             [
              0.4444444444444444,
              "#bd3786"
             ],
             [
              0.5555555555555556,
              "#d8576b"
             ],
             [
              0.6666666666666666,
              "#ed7953"
             ],
             [
              0.7777777777777778,
              "#fb9f3a"
             ],
             [
              0.8888888888888888,
              "#fdca26"
             ],
             [
              1,
              "#f0f921"
             ]
            ],
            "type": "histogram2dcontour"
           }
          ],
          "mesh3d": [
           {
            "colorbar": {
             "outlinewidth": 0,
             "ticks": ""
            },
            "type": "mesh3d"
           }
          ],
          "parcoords": [
           {
            "line": {
             "colorbar": {
              "outlinewidth": 0,
              "ticks": ""
             }
            },
            "type": "parcoords"
           }
          ],
          "pie": [
           {
            "automargin": true,
            "type": "pie"
           }
          ],
          "scatter": [
           {
            "fillpattern": {
             "fillmode": "overlay",
             "size": 10,
             "solidity": 0.2
            },
            "type": "scatter"
           }
          ],
          "scatter3d": [
           {
            "line": {
             "colorbar": {
              "outlinewidth": 0,
              "ticks": ""
             }
            },
            "marker": {
             "colorbar": {
              "outlinewidth": 0,
              "ticks": ""
             }
            },
            "type": "scatter3d"
           }
          ],
          "scattercarpet": [
           {
            "marker": {
             "colorbar": {
              "outlinewidth": 0,
              "ticks": ""
             }
            },
            "type": "scattercarpet"
           }
          ],
          "scattergeo": [
           {
            "marker": {
             "colorbar": {
              "outlinewidth": 0,
              "ticks": ""
             }
            },
            "type": "scattergeo"
           }
          ],
          "scattergl": [
           {
            "marker": {
             "colorbar": {
              "outlinewidth": 0,
              "ticks": ""
             }
            },
            "type": "scattergl"
           }
          ],
          "scattermapbox": [
           {
            "marker": {
             "colorbar": {
              "outlinewidth": 0,
              "ticks": ""
             }
            },
            "type": "scattermapbox"
           }
          ],
          "scatterpolar": [
           {
            "marker": {
             "colorbar": {
              "outlinewidth": 0,
              "ticks": ""
             }
            },
            "type": "scatterpolar"
           }
          ],
          "scatterpolargl": [
           {
            "marker": {
             "colorbar": {
              "outlinewidth": 0,
              "ticks": ""
             }
            },
            "type": "scatterpolargl"
           }
          ],
          "scatterternary": [
           {
            "marker": {
             "colorbar": {
              "outlinewidth": 0,
              "ticks": ""
             }
            },
            "type": "scatterternary"
           }
          ],
          "surface": [
           {
            "colorbar": {
             "outlinewidth": 0,
             "ticks": ""
            },
            "colorscale": [
             [
              0,
              "#0d0887"
             ],
             [
              0.1111111111111111,
              "#46039f"
             ],
             [
              0.2222222222222222,
              "#7201a8"
             ],
             [
              0.3333333333333333,
              "#9c179e"
             ],
             [
              0.4444444444444444,
              "#bd3786"
             ],
             [
              0.5555555555555556,
              "#d8576b"
             ],
             [
              0.6666666666666666,
              "#ed7953"
             ],
             [
              0.7777777777777778,
              "#fb9f3a"
             ],
             [
              0.8888888888888888,
              "#fdca26"
             ],
             [
              1,
              "#f0f921"
             ]
            ],
            "type": "surface"
           }
          ],
          "table": [
           {
            "cells": {
             "fill": {
              "color": "#EBF0F8"
             },
             "line": {
              "color": "white"
             }
            },
            "header": {
             "fill": {
              "color": "#C8D4E3"
             },
             "line": {
              "color": "white"
             }
            },
            "type": "table"
           }
          ]
         },
         "layout": {
          "annotationdefaults": {
           "arrowcolor": "#2a3f5f",
           "arrowhead": 0,
           "arrowwidth": 1
          },
          "autotypenumbers": "strict",
          "coloraxis": {
           "colorbar": {
            "outlinewidth": 0,
            "ticks": ""
           }
          },
          "colorscale": {
           "diverging": [
            [
             0,
             "#8e0152"
            ],
            [
             0.1,
             "#c51b7d"
            ],
            [
             0.2,
             "#de77ae"
            ],
            [
             0.3,
             "#f1b6da"
            ],
            [
             0.4,
             "#fde0ef"
            ],
            [
             0.5,
             "#f7f7f7"
            ],
            [
             0.6,
             "#e6f5d0"
            ],
            [
             0.7,
             "#b8e186"
            ],
            [
             0.8,
             "#7fbc41"
            ],
            [
             0.9,
             "#4d9221"
            ],
            [
             1,
             "#276419"
            ]
           ],
           "sequential": [
            [
             0,
             "#0d0887"
            ],
            [
             0.1111111111111111,
             "#46039f"
            ],
            [
             0.2222222222222222,
             "#7201a8"
            ],
            [
             0.3333333333333333,
             "#9c179e"
            ],
            [
             0.4444444444444444,
             "#bd3786"
            ],
            [
             0.5555555555555556,
             "#d8576b"
            ],
            [
             0.6666666666666666,
             "#ed7953"
            ],
            [
             0.7777777777777778,
             "#fb9f3a"
            ],
            [
             0.8888888888888888,
             "#fdca26"
            ],
            [
             1,
             "#f0f921"
            ]
           ],
           "sequentialminus": [
            [
             0,
             "#0d0887"
            ],
            [
             0.1111111111111111,
             "#46039f"
            ],
            [
             0.2222222222222222,
             "#7201a8"
            ],
            [
             0.3333333333333333,
             "#9c179e"
            ],
            [
             0.4444444444444444,
             "#bd3786"
            ],
            [
             0.5555555555555556,
             "#d8576b"
            ],
            [
             0.6666666666666666,
             "#ed7953"
            ],
            [
             0.7777777777777778,
             "#fb9f3a"
            ],
            [
             0.8888888888888888,
             "#fdca26"
            ],
            [
             1,
             "#f0f921"
            ]
           ]
          },
          "colorway": [
           "#636efa",
           "#EF553B",
           "#00cc96",
           "#ab63fa",
           "#FFA15A",
           "#19d3f3",
           "#FF6692",
           "#B6E880",
           "#FF97FF",
           "#FECB52"
          ],
          "font": {
           "color": "#2a3f5f"
          },
          "geo": {
           "bgcolor": "white",
           "lakecolor": "white",
           "landcolor": "#E5ECF6",
           "showlakes": true,
           "showland": true,
           "subunitcolor": "white"
          },
          "hoverlabel": {
           "align": "left"
          },
          "hovermode": "closest",
          "mapbox": {
           "style": "light"
          },
          "paper_bgcolor": "white",
          "plot_bgcolor": "#E5ECF6",
          "polar": {
           "angularaxis": {
            "gridcolor": "white",
            "linecolor": "white",
            "ticks": ""
           },
           "bgcolor": "#E5ECF6",
           "radialaxis": {
            "gridcolor": "white",
            "linecolor": "white",
            "ticks": ""
           }
          },
          "scene": {
           "xaxis": {
            "backgroundcolor": "#E5ECF6",
            "gridcolor": "white",
            "gridwidth": 2,
            "linecolor": "white",
            "showbackground": true,
            "ticks": "",
            "zerolinecolor": "white"
           },
           "yaxis": {
            "backgroundcolor": "#E5ECF6",
            "gridcolor": "white",
            "gridwidth": 2,
            "linecolor": "white",
            "showbackground": true,
            "ticks": "",
            "zerolinecolor": "white"
           },
           "zaxis": {
            "backgroundcolor": "#E5ECF6",
            "gridcolor": "white",
            "gridwidth": 2,
            "linecolor": "white",
            "showbackground": true,
            "ticks": "",
            "zerolinecolor": "white"
           }
          },
          "shapedefaults": {
           "line": {
            "color": "#2a3f5f"
           }
          },
          "ternary": {
           "aaxis": {
            "gridcolor": "white",
            "linecolor": "white",
            "ticks": ""
           },
           "baxis": {
            "gridcolor": "white",
            "linecolor": "white",
            "ticks": ""
           },
           "bgcolor": "#E5ECF6",
           "caxis": {
            "gridcolor": "white",
            "linecolor": "white",
            "ticks": ""
           }
          },
          "title": {
           "x": 0.05
          },
          "xaxis": {
           "automargin": true,
           "gridcolor": "white",
           "linecolor": "white",
           "ticks": "",
           "title": {
            "standoff": 15
           },
           "zerolinecolor": "white",
           "zerolinewidth": 2
          },
          "yaxis": {
           "automargin": true,
           "gridcolor": "white",
           "linecolor": "white",
           "ticks": "",
           "title": {
            "standoff": 15
           },
           "zerolinecolor": "white",
           "zerolinewidth": 2
          }
         }
        },
        "title": {
         "font": {
          "size": 24
         },
         "text": "Shoulder Flexion ROM RMSE, cad = 7.82 deg"
        },
        "xaxis": {
         "anchor": "y",
         "domain": [
          0,
          1
         ],
         "title": {
          "font": {
           "size": 20
          },
          "text": "Settings"
         }
        },
        "yaxis": {
         "anchor": "x",
         "domain": [
          0,
          1
         ],
         "range": [
          0,
          79.44652522211629
         ],
         "title": {
          "font": {
           "size": 20
          },
          "text": "ROM RMSE [deg]"
         }
        }
       }
      },
      "text/html": [
       "<div>                            <div id=\"1da6431d-f00e-4711-9aa1-28efaf55be62\" class=\"plotly-graph-div\" style=\"height:525px; width:100%;\"></div>            <script type=\"text/javascript\">                require([\"plotly\"], function(Plotly) {                    window.PLOTLYENV=window.PLOTLYENV || {};                                    if (document.getElementById(\"1da6431d-f00e-4711-9aa1-28efaf55be62\")) {                    Plotly.newPlot(                        \"1da6431d-f00e-4711-9aa1-28efaf55be62\",                        [{\"alignmentgroup\":\"True\",\"hovertemplate\":\"ids_name=%{x}\\u003cbr\\u003erom_rmse=%{y}\\u003cextra\\u003e\\u003c\\u002fextra\\u003e\",\"legendgroup\":\"\",\"marker\":{\"color\":\"#636efa\",\"pattern\":{\"shape\":\"\"}},\"name\":\"\",\"offsetgroup\":\"\",\"orientation\":\"v\",\"showlegend\":false,\"textposition\":\"auto\",\"x\":[\"SimCC, Cams: 1,2,3,4,5\",\"Metrabs, Cams: 1,2,3,4,5\",\"SimCC, Cams: 6,7,8,9,10\",\"Metrabs, Cams: 6,7,8,9,10\",\"SimCC, Cams: 1,3,5\",\"Metrabs, Cams: 1,3,5\",\"SimCC, Cams: 2,3,4\",\"Metrabs, Cams: 2,3,4\",\"SimCC, Cams: 6,8,10\",\"Metrabs, Cams: 6,8,10\",\"SimCC, Cams: 7,8,9\",\"Metrabs, Cams: 7,8,9\",\"SimCC, Cams: 2,4\",\"Metrabs, Cams: 2,4\",\"SimCC, Cams: 7,9\",\"Metrabs, Cams: 7,9\",\"Single, Cam: 1, filt\",\"Single, Cam: 1, unfilt\"],\"xaxis\":\"x\",\"y\":[15.60448348788121,15.115769862547403,69.44652522211629,41.32732679446125,50.87904562875795,37.21801774332474,41.88992732838752,24.63952503065197,38.40907960813233,29.711782590741947,31.917509505743993,28.793981121668107,25.343286481184318,24.43528170236335,43.06365479364985,24.777058003786536,9.06133602581338,8.780851363793879],\"yaxis\":\"y\",\"type\":\"bar\"}],                        {\"template\":{\"data\":{\"barpolar\":[{\"marker\":{\"line\":{\"color\":\"#E5ECF6\",\"width\":0.5},\"pattern\":{\"fillmode\":\"overlay\",\"size\":10,\"solidity\":0.2}},\"type\":\"barpolar\"}],\"bar\":[{\"error_x\":{\"color\":\"#2a3f5f\"},\"error_y\":{\"color\":\"#2a3f5f\"},\"marker\":{\"line\":{\"color\":\"#E5ECF6\",\"width\":0.5},\"pattern\":{\"fillmode\":\"overlay\",\"size\":10,\"solidity\":0.2}},\"type\":\"bar\"}],\"carpet\":[{\"aaxis\":{\"endlinecolor\":\"#2a3f5f\",\"gridcolor\":\"white\",\"linecolor\":\"white\",\"minorgridcolor\":\"white\",\"startlinecolor\":\"#2a3f5f\"},\"baxis\":{\"endlinecolor\":\"#2a3f5f\",\"gridcolor\":\"white\",\"linecolor\":\"white\",\"minorgridcolor\":\"white\",\"startlinecolor\":\"#2a3f5f\"},\"type\":\"carpet\"}],\"choropleth\":[{\"colorbar\":{\"outlinewidth\":0,\"ticks\":\"\"},\"type\":\"choropleth\"}],\"contourcarpet\":[{\"colorbar\":{\"outlinewidth\":0,\"ticks\":\"\"},\"type\":\"contourcarpet\"}],\"contour\":[{\"colorbar\":{\"outlinewidth\":0,\"ticks\":\"\"},\"colorscale\":[[0.0,\"#0d0887\"],[0.1111111111111111,\"#46039f\"],[0.2222222222222222,\"#7201a8\"],[0.3333333333333333,\"#9c179e\"],[0.4444444444444444,\"#bd3786\"],[0.5555555555555556,\"#d8576b\"],[0.6666666666666666,\"#ed7953\"],[0.7777777777777778,\"#fb9f3a\"],[0.8888888888888888,\"#fdca26\"],[1.0,\"#f0f921\"]],\"type\":\"contour\"}],\"heatmapgl\":[{\"colorbar\":{\"outlinewidth\":0,\"ticks\":\"\"},\"colorscale\":[[0.0,\"#0d0887\"],[0.1111111111111111,\"#46039f\"],[0.2222222222222222,\"#7201a8\"],[0.3333333333333333,\"#9c179e\"],[0.4444444444444444,\"#bd3786\"],[0.5555555555555556,\"#d8576b\"],[0.6666666666666666,\"#ed7953\"],[0.7777777777777778,\"#fb9f3a\"],[0.8888888888888888,\"#fdca26\"],[1.0,\"#f0f921\"]],\"type\":\"heatmapgl\"}],\"heatmap\":[{\"colorbar\":{\"outlinewidth\":0,\"ticks\":\"\"},\"colorscale\":[[0.0,\"#0d0887\"],[0.1111111111111111,\"#46039f\"],[0.2222222222222222,\"#7201a8\"],[0.3333333333333333,\"#9c179e\"],[0.4444444444444444,\"#bd3786\"],[0.5555555555555556,\"#d8576b\"],[0.6666666666666666,\"#ed7953\"],[0.7777777777777778,\"#fb9f3a\"],[0.8888888888888888,\"#fdca26\"],[1.0,\"#f0f921\"]],\"type\":\"heatmap\"}],\"histogram2dcontour\":[{\"colorbar\":{\"outlinewidth\":0,\"ticks\":\"\"},\"colorscale\":[[0.0,\"#0d0887\"],[0.1111111111111111,\"#46039f\"],[0.2222222222222222,\"#7201a8\"],[0.3333333333333333,\"#9c179e\"],[0.4444444444444444,\"#bd3786\"],[0.5555555555555556,\"#d8576b\"],[0.6666666666666666,\"#ed7953\"],[0.7777777777777778,\"#fb9f3a\"],[0.8888888888888888,\"#fdca26\"],[1.0,\"#f0f921\"]],\"type\":\"histogram2dcontour\"}],\"histogram2d\":[{\"colorbar\":{\"outlinewidth\":0,\"ticks\":\"\"},\"colorscale\":[[0.0,\"#0d0887\"],[0.1111111111111111,\"#46039f\"],[0.2222222222222222,\"#7201a8\"],[0.3333333333333333,\"#9c179e\"],[0.4444444444444444,\"#bd3786\"],[0.5555555555555556,\"#d8576b\"],[0.6666666666666666,\"#ed7953\"],[0.7777777777777778,\"#fb9f3a\"],[0.8888888888888888,\"#fdca26\"],[1.0,\"#f0f921\"]],\"type\":\"histogram2d\"}],\"histogram\":[{\"marker\":{\"pattern\":{\"fillmode\":\"overlay\",\"size\":10,\"solidity\":0.2}},\"type\":\"histogram\"}],\"mesh3d\":[{\"colorbar\":{\"outlinewidth\":0,\"ticks\":\"\"},\"type\":\"mesh3d\"}],\"parcoords\":[{\"line\":{\"colorbar\":{\"outlinewidth\":0,\"ticks\":\"\"}},\"type\":\"parcoords\"}],\"pie\":[{\"automargin\":true,\"type\":\"pie\"}],\"scatter3d\":[{\"line\":{\"colorbar\":{\"outlinewidth\":0,\"ticks\":\"\"}},\"marker\":{\"colorbar\":{\"outlinewidth\":0,\"ticks\":\"\"}},\"type\":\"scatter3d\"}],\"scattercarpet\":[{\"marker\":{\"colorbar\":{\"outlinewidth\":0,\"ticks\":\"\"}},\"type\":\"scattercarpet\"}],\"scattergeo\":[{\"marker\":{\"colorbar\":{\"outlinewidth\":0,\"ticks\":\"\"}},\"type\":\"scattergeo\"}],\"scattergl\":[{\"marker\":{\"colorbar\":{\"outlinewidth\":0,\"ticks\":\"\"}},\"type\":\"scattergl\"}],\"scattermapbox\":[{\"marker\":{\"colorbar\":{\"outlinewidth\":0,\"ticks\":\"\"}},\"type\":\"scattermapbox\"}],\"scatterpolargl\":[{\"marker\":{\"colorbar\":{\"outlinewidth\":0,\"ticks\":\"\"}},\"type\":\"scatterpolargl\"}],\"scatterpolar\":[{\"marker\":{\"colorbar\":{\"outlinewidth\":0,\"ticks\":\"\"}},\"type\":\"scatterpolar\"}],\"scatter\":[{\"fillpattern\":{\"fillmode\":\"overlay\",\"size\":10,\"solidity\":0.2},\"type\":\"scatter\"}],\"scatterternary\":[{\"marker\":{\"colorbar\":{\"outlinewidth\":0,\"ticks\":\"\"}},\"type\":\"scatterternary\"}],\"surface\":[{\"colorbar\":{\"outlinewidth\":0,\"ticks\":\"\"},\"colorscale\":[[0.0,\"#0d0887\"],[0.1111111111111111,\"#46039f\"],[0.2222222222222222,\"#7201a8\"],[0.3333333333333333,\"#9c179e\"],[0.4444444444444444,\"#bd3786\"],[0.5555555555555556,\"#d8576b\"],[0.6666666666666666,\"#ed7953\"],[0.7777777777777778,\"#fb9f3a\"],[0.8888888888888888,\"#fdca26\"],[1.0,\"#f0f921\"]],\"type\":\"surface\"}],\"table\":[{\"cells\":{\"fill\":{\"color\":\"#EBF0F8\"},\"line\":{\"color\":\"white\"}},\"header\":{\"fill\":{\"color\":\"#C8D4E3\"},\"line\":{\"color\":\"white\"}},\"type\":\"table\"}]},\"layout\":{\"annotationdefaults\":{\"arrowcolor\":\"#2a3f5f\",\"arrowhead\":0,\"arrowwidth\":1},\"autotypenumbers\":\"strict\",\"coloraxis\":{\"colorbar\":{\"outlinewidth\":0,\"ticks\":\"\"}},\"colorscale\":{\"diverging\":[[0,\"#8e0152\"],[0.1,\"#c51b7d\"],[0.2,\"#de77ae\"],[0.3,\"#f1b6da\"],[0.4,\"#fde0ef\"],[0.5,\"#f7f7f7\"],[0.6,\"#e6f5d0\"],[0.7,\"#b8e186\"],[0.8,\"#7fbc41\"],[0.9,\"#4d9221\"],[1,\"#276419\"]],\"sequential\":[[0.0,\"#0d0887\"],[0.1111111111111111,\"#46039f\"],[0.2222222222222222,\"#7201a8\"],[0.3333333333333333,\"#9c179e\"],[0.4444444444444444,\"#bd3786\"],[0.5555555555555556,\"#d8576b\"],[0.6666666666666666,\"#ed7953\"],[0.7777777777777778,\"#fb9f3a\"],[0.8888888888888888,\"#fdca26\"],[1.0,\"#f0f921\"]],\"sequentialminus\":[[0.0,\"#0d0887\"],[0.1111111111111111,\"#46039f\"],[0.2222222222222222,\"#7201a8\"],[0.3333333333333333,\"#9c179e\"],[0.4444444444444444,\"#bd3786\"],[0.5555555555555556,\"#d8576b\"],[0.6666666666666666,\"#ed7953\"],[0.7777777777777778,\"#fb9f3a\"],[0.8888888888888888,\"#fdca26\"],[1.0,\"#f0f921\"]]},\"colorway\":[\"#636efa\",\"#EF553B\",\"#00cc96\",\"#ab63fa\",\"#FFA15A\",\"#19d3f3\",\"#FF6692\",\"#B6E880\",\"#FF97FF\",\"#FECB52\"],\"font\":{\"color\":\"#2a3f5f\"},\"geo\":{\"bgcolor\":\"white\",\"lakecolor\":\"white\",\"landcolor\":\"#E5ECF6\",\"showlakes\":true,\"showland\":true,\"subunitcolor\":\"white\"},\"hoverlabel\":{\"align\":\"left\"},\"hovermode\":\"closest\",\"mapbox\":{\"style\":\"light\"},\"paper_bgcolor\":\"white\",\"plot_bgcolor\":\"#E5ECF6\",\"polar\":{\"angularaxis\":{\"gridcolor\":\"white\",\"linecolor\":\"white\",\"ticks\":\"\"},\"bgcolor\":\"#E5ECF6\",\"radialaxis\":{\"gridcolor\":\"white\",\"linecolor\":\"white\",\"ticks\":\"\"}},\"scene\":{\"xaxis\":{\"backgroundcolor\":\"#E5ECF6\",\"gridcolor\":\"white\",\"gridwidth\":2,\"linecolor\":\"white\",\"showbackground\":true,\"ticks\":\"\",\"zerolinecolor\":\"white\"},\"yaxis\":{\"backgroundcolor\":\"#E5ECF6\",\"gridcolor\":\"white\",\"gridwidth\":2,\"linecolor\":\"white\",\"showbackground\":true,\"ticks\":\"\",\"zerolinecolor\":\"white\"},\"zaxis\":{\"backgroundcolor\":\"#E5ECF6\",\"gridcolor\":\"white\",\"gridwidth\":2,\"linecolor\":\"white\",\"showbackground\":true,\"ticks\":\"\",\"zerolinecolor\":\"white\"}},\"shapedefaults\":{\"line\":{\"color\":\"#2a3f5f\"}},\"ternary\":{\"aaxis\":{\"gridcolor\":\"white\",\"linecolor\":\"white\",\"ticks\":\"\"},\"baxis\":{\"gridcolor\":\"white\",\"linecolor\":\"white\",\"ticks\":\"\"},\"bgcolor\":\"#E5ECF6\",\"caxis\":{\"gridcolor\":\"white\",\"linecolor\":\"white\",\"ticks\":\"\"}},\"title\":{\"x\":0.05},\"xaxis\":{\"automargin\":true,\"gridcolor\":\"white\",\"linecolor\":\"white\",\"ticks\":\"\",\"title\":{\"standoff\":15},\"zerolinecolor\":\"white\",\"zerolinewidth\":2},\"yaxis\":{\"automargin\":true,\"gridcolor\":\"white\",\"linecolor\":\"white\",\"ticks\":\"\",\"title\":{\"standoff\":15},\"zerolinecolor\":\"white\",\"zerolinewidth\":2}}},\"xaxis\":{\"anchor\":\"y\",\"domain\":[0.0,1.0],\"title\":{\"text\":\"Settings\",\"font\":{\"size\":20}}},\"yaxis\":{\"anchor\":\"x\",\"domain\":[0.0,1.0],\"title\":{\"text\":\"ROM RMSE [deg]\",\"font\":{\"size\":20}},\"range\":[0,79.44652522211629]},\"legend\":{\"tracegroupgap\":0},\"title\":{\"text\":\"Shoulder Flexion ROM RMSE, cad = 7.82 deg\",\"font\":{\"size\":24}},\"barmode\":\"relative\",\"shapes\":[{\"line\":{\"color\":\"red\",\"dash\":\"dash\"},\"name\":\"CAD\",\"type\":\"line\",\"x0\":0,\"x1\":1,\"xref\":\"x domain\",\"y0\":7.82,\"y1\":7.82,\"yref\":\"y\"}]},                        {\"responsive\": true}                    ).then(function(){\n",
       "                            \n",
       "var gd = document.getElementById('1da6431d-f00e-4711-9aa1-28efaf55be62');\n",
       "var x = new MutationObserver(function (mutations, observer) {{\n",
       "        var display = window.getComputedStyle(gd).display;\n",
       "        if (!display || display === 'none') {{\n",
       "            console.log([gd, 'removed!']);\n",
       "            Plotly.purge(gd);\n",
       "            observer.disconnect();\n",
       "        }}\n",
       "}});\n",
       "\n",
       "// Listen for the removal of the full notebook cells\n",
       "var notebookContainer = gd.closest('#notebook-container');\n",
       "if (notebookContainer) {{\n",
       "    x.observe(notebookContainer, {childList: true});\n",
       "}}\n",
       "\n",
       "// Listen for the clearing of the current output cell\n",
       "var outputEl = gd.closest('.output');\n",
       "if (outputEl) {{\n",
       "    x.observe(outputEl, {childList: true});\n",
       "}}\n",
       "\n",
       "                        })                };                });            </script>        </div>"
      ]
     },
     "metadata": {},
     "output_type": "display_data"
    },
    {
     "data": {
      "application/vnd.plotly.v1+json": {
       "config": {
        "plotlyServerURL": "https://plot.ly"
       },
       "data": [
        {
         "alignmentgroup": "True",
         "hovertemplate": "ids_name=%{x}<br>rom_rmse=%{y}<extra></extra>",
         "legendgroup": "",
         "marker": {
          "color": "#636efa",
          "pattern": {
           "shape": ""
          }
         },
         "name": "",
         "offsetgroup": "",
         "orientation": "v",
         "showlegend": false,
         "textposition": "auto",
         "type": "bar",
         "x": [
          "SimCC, Cams: 1,2,3,4,5",
          "Metrabs, Cams: 1,2,3,4,5",
          "SimCC, Cams: 6,7,8,9,10",
          "Metrabs, Cams: 6,7,8,9,10",
          "SimCC, Cams: 1,3,5",
          "Metrabs, Cams: 1,3,5",
          "SimCC, Cams: 2,3,4",
          "Metrabs, Cams: 2,3,4",
          "SimCC, Cams: 6,8,10",
          "Metrabs, Cams: 6,8,10",
          "SimCC, Cams: 7,8,9",
          "Metrabs, Cams: 7,8,9",
          "SimCC, Cams: 2,4",
          "Metrabs, Cams: 2,4",
          "SimCC, Cams: 7,9",
          "Metrabs, Cams: 7,9",
          "Single, Cam: 1, filt",
          "Single, Cam: 1, unfilt"
         ],
         "xaxis": "x",
         "y": [
          13.043274971100033,
          14.764400447169674,
          56.28689830061963,
          21.686692193479974,
          39.94098490876184,
          45.068634711463694,
          37.76750225679148,
          25.204316121122147,
          37.73762205756167,
          60.329990012826656,
          35.472330361031766,
          28.114763313813484,
          24.257023851857337,
          27.711198700186024,
          27.97605305548541,
          42.463179554213205,
          7.629520222521797,
          7.612013525703967
         ],
         "yaxis": "y"
        }
       ],
       "layout": {
        "barmode": "relative",
        "legend": {
         "tracegroupgap": 0
        },
        "shapes": [
         {
          "line": {
           "color": "red",
           "dash": "dash"
          },
          "name": "CAD",
          "type": "line",
          "x0": 0,
          "x1": 1,
          "xref": "x domain",
          "y0": 9.99,
          "y1": 9.99,
          "yref": "y"
         }
        ],
        "template": {
         "data": {
          "bar": [
           {
            "error_x": {
             "color": "#2a3f5f"
            },
            "error_y": {
             "color": "#2a3f5f"
            },
            "marker": {
             "line": {
              "color": "#E5ECF6",
              "width": 0.5
             },
             "pattern": {
              "fillmode": "overlay",
              "size": 10,
              "solidity": 0.2
             }
            },
            "type": "bar"
           }
          ],
          "barpolar": [
           {
            "marker": {
             "line": {
              "color": "#E5ECF6",
              "width": 0.5
             },
             "pattern": {
              "fillmode": "overlay",
              "size": 10,
              "solidity": 0.2
             }
            },
            "type": "barpolar"
           }
          ],
          "carpet": [
           {
            "aaxis": {
             "endlinecolor": "#2a3f5f",
             "gridcolor": "white",
             "linecolor": "white",
             "minorgridcolor": "white",
             "startlinecolor": "#2a3f5f"
            },
            "baxis": {
             "endlinecolor": "#2a3f5f",
             "gridcolor": "white",
             "linecolor": "white",
             "minorgridcolor": "white",
             "startlinecolor": "#2a3f5f"
            },
            "type": "carpet"
           }
          ],
          "choropleth": [
           {
            "colorbar": {
             "outlinewidth": 0,
             "ticks": ""
            },
            "type": "choropleth"
           }
          ],
          "contour": [
           {
            "colorbar": {
             "outlinewidth": 0,
             "ticks": ""
            },
            "colorscale": [
             [
              0,
              "#0d0887"
             ],
             [
              0.1111111111111111,
              "#46039f"
             ],
             [
              0.2222222222222222,
              "#7201a8"
             ],
             [
              0.3333333333333333,
              "#9c179e"
             ],
             [
              0.4444444444444444,
              "#bd3786"
             ],
             [
              0.5555555555555556,
              "#d8576b"
             ],
             [
              0.6666666666666666,
              "#ed7953"
             ],
             [
              0.7777777777777778,
              "#fb9f3a"
             ],
             [
              0.8888888888888888,
              "#fdca26"
             ],
             [
              1,
              "#f0f921"
             ]
            ],
            "type": "contour"
           }
          ],
          "contourcarpet": [
           {
            "colorbar": {
             "outlinewidth": 0,
             "ticks": ""
            },
            "type": "contourcarpet"
           }
          ],
          "heatmap": [
           {
            "colorbar": {
             "outlinewidth": 0,
             "ticks": ""
            },
            "colorscale": [
             [
              0,
              "#0d0887"
             ],
             [
              0.1111111111111111,
              "#46039f"
             ],
             [
              0.2222222222222222,
              "#7201a8"
             ],
             [
              0.3333333333333333,
              "#9c179e"
             ],
             [
              0.4444444444444444,
              "#bd3786"
             ],
             [
              0.5555555555555556,
              "#d8576b"
             ],
             [
              0.6666666666666666,
              "#ed7953"
             ],
             [
              0.7777777777777778,
              "#fb9f3a"
             ],
             [
              0.8888888888888888,
              "#fdca26"
             ],
             [
              1,
              "#f0f921"
             ]
            ],
            "type": "heatmap"
           }
          ],
          "heatmapgl": [
           {
            "colorbar": {
             "outlinewidth": 0,
             "ticks": ""
            },
            "colorscale": [
             [
              0,
              "#0d0887"
             ],
             [
              0.1111111111111111,
              "#46039f"
             ],
             [
              0.2222222222222222,
              "#7201a8"
             ],
             [
              0.3333333333333333,
              "#9c179e"
             ],
             [
              0.4444444444444444,
              "#bd3786"
             ],
             [
              0.5555555555555556,
              "#d8576b"
             ],
             [
              0.6666666666666666,
              "#ed7953"
             ],
             [
              0.7777777777777778,
              "#fb9f3a"
             ],
             [
              0.8888888888888888,
              "#fdca26"
             ],
             [
              1,
              "#f0f921"
             ]
            ],
            "type": "heatmapgl"
           }
          ],
          "histogram": [
           {
            "marker": {
             "pattern": {
              "fillmode": "overlay",
              "size": 10,
              "solidity": 0.2
             }
            },
            "type": "histogram"
           }
          ],
          "histogram2d": [
           {
            "colorbar": {
             "outlinewidth": 0,
             "ticks": ""
            },
            "colorscale": [
             [
              0,
              "#0d0887"
             ],
             [
              0.1111111111111111,
              "#46039f"
             ],
             [
              0.2222222222222222,
              "#7201a8"
             ],
             [
              0.3333333333333333,
              "#9c179e"
             ],
             [
              0.4444444444444444,
              "#bd3786"
             ],
             [
              0.5555555555555556,
              "#d8576b"
             ],
             [
              0.6666666666666666,
              "#ed7953"
             ],
             [
              0.7777777777777778,
              "#fb9f3a"
             ],
             [
              0.8888888888888888,
              "#fdca26"
             ],
             [
              1,
              "#f0f921"
             ]
            ],
            "type": "histogram2d"
           }
          ],
          "histogram2dcontour": [
           {
            "colorbar": {
             "outlinewidth": 0,
             "ticks": ""
            },
            "colorscale": [
             [
              0,
              "#0d0887"
             ],
             [
              0.1111111111111111,
              "#46039f"
             ],
             [
              0.2222222222222222,
              "#7201a8"
             ],
             [
              0.3333333333333333,
              "#9c179e"
             ],
             [
              0.4444444444444444,
              "#bd3786"
             ],
             [
              0.5555555555555556,
              "#d8576b"
             ],
             [
              0.6666666666666666,
              "#ed7953"
             ],
             [
              0.7777777777777778,
              "#fb9f3a"
             ],
             [
              0.8888888888888888,
              "#fdca26"
             ],
             [
              1,
              "#f0f921"
             ]
            ],
            "type": "histogram2dcontour"
           }
          ],
          "mesh3d": [
           {
            "colorbar": {
             "outlinewidth": 0,
             "ticks": ""
            },
            "type": "mesh3d"
           }
          ],
          "parcoords": [
           {
            "line": {
             "colorbar": {
              "outlinewidth": 0,
              "ticks": ""
             }
            },
            "type": "parcoords"
           }
          ],
          "pie": [
           {
            "automargin": true,
            "type": "pie"
           }
          ],
          "scatter": [
           {
            "fillpattern": {
             "fillmode": "overlay",
             "size": 10,
             "solidity": 0.2
            },
            "type": "scatter"
           }
          ],
          "scatter3d": [
           {
            "line": {
             "colorbar": {
              "outlinewidth": 0,
              "ticks": ""
             }
            },
            "marker": {
             "colorbar": {
              "outlinewidth": 0,
              "ticks": ""
             }
            },
            "type": "scatter3d"
           }
          ],
          "scattercarpet": [
           {
            "marker": {
             "colorbar": {
              "outlinewidth": 0,
              "ticks": ""
             }
            },
            "type": "scattercarpet"
           }
          ],
          "scattergeo": [
           {
            "marker": {
             "colorbar": {
              "outlinewidth": 0,
              "ticks": ""
             }
            },
            "type": "scattergeo"
           }
          ],
          "scattergl": [
           {
            "marker": {
             "colorbar": {
              "outlinewidth": 0,
              "ticks": ""
             }
            },
            "type": "scattergl"
           }
          ],
          "scattermapbox": [
           {
            "marker": {
             "colorbar": {
              "outlinewidth": 0,
              "ticks": ""
             }
            },
            "type": "scattermapbox"
           }
          ],
          "scatterpolar": [
           {
            "marker": {
             "colorbar": {
              "outlinewidth": 0,
              "ticks": ""
             }
            },
            "type": "scatterpolar"
           }
          ],
          "scatterpolargl": [
           {
            "marker": {
             "colorbar": {
              "outlinewidth": 0,
              "ticks": ""
             }
            },
            "type": "scatterpolargl"
           }
          ],
          "scatterternary": [
           {
            "marker": {
             "colorbar": {
              "outlinewidth": 0,
              "ticks": ""
             }
            },
            "type": "scatterternary"
           }
          ],
          "surface": [
           {
            "colorbar": {
             "outlinewidth": 0,
             "ticks": ""
            },
            "colorscale": [
             [
              0,
              "#0d0887"
             ],
             [
              0.1111111111111111,
              "#46039f"
             ],
             [
              0.2222222222222222,
              "#7201a8"
             ],
             [
              0.3333333333333333,
              "#9c179e"
             ],
             [
              0.4444444444444444,
              "#bd3786"
             ],
             [
              0.5555555555555556,
              "#d8576b"
             ],
             [
              0.6666666666666666,
              "#ed7953"
             ],
             [
              0.7777777777777778,
              "#fb9f3a"
             ],
             [
              0.8888888888888888,
              "#fdca26"
             ],
             [
              1,
              "#f0f921"
             ]
            ],
            "type": "surface"
           }
          ],
          "table": [
           {
            "cells": {
             "fill": {
              "color": "#EBF0F8"
             },
             "line": {
              "color": "white"
             }
            },
            "header": {
             "fill": {
              "color": "#C8D4E3"
             },
             "line": {
              "color": "white"
             }
            },
            "type": "table"
           }
          ]
         },
         "layout": {
          "annotationdefaults": {
           "arrowcolor": "#2a3f5f",
           "arrowhead": 0,
           "arrowwidth": 1
          },
          "autotypenumbers": "strict",
          "coloraxis": {
           "colorbar": {
            "outlinewidth": 0,
            "ticks": ""
           }
          },
          "colorscale": {
           "diverging": [
            [
             0,
             "#8e0152"
            ],
            [
             0.1,
             "#c51b7d"
            ],
            [
             0.2,
             "#de77ae"
            ],
            [
             0.3,
             "#f1b6da"
            ],
            [
             0.4,
             "#fde0ef"
            ],
            [
             0.5,
             "#f7f7f7"
            ],
            [
             0.6,
             "#e6f5d0"
            ],
            [
             0.7,
             "#b8e186"
            ],
            [
             0.8,
             "#7fbc41"
            ],
            [
             0.9,
             "#4d9221"
            ],
            [
             1,
             "#276419"
            ]
           ],
           "sequential": [
            [
             0,
             "#0d0887"
            ],
            [
             0.1111111111111111,
             "#46039f"
            ],
            [
             0.2222222222222222,
             "#7201a8"
            ],
            [
             0.3333333333333333,
             "#9c179e"
            ],
            [
             0.4444444444444444,
             "#bd3786"
            ],
            [
             0.5555555555555556,
             "#d8576b"
            ],
            [
             0.6666666666666666,
             "#ed7953"
            ],
            [
             0.7777777777777778,
             "#fb9f3a"
            ],
            [
             0.8888888888888888,
             "#fdca26"
            ],
            [
             1,
             "#f0f921"
            ]
           ],
           "sequentialminus": [
            [
             0,
             "#0d0887"
            ],
            [
             0.1111111111111111,
             "#46039f"
            ],
            [
             0.2222222222222222,
             "#7201a8"
            ],
            [
             0.3333333333333333,
             "#9c179e"
            ],
            [
             0.4444444444444444,
             "#bd3786"
            ],
            [
             0.5555555555555556,
             "#d8576b"
            ],
            [
             0.6666666666666666,
             "#ed7953"
            ],
            [
             0.7777777777777778,
             "#fb9f3a"
            ],
            [
             0.8888888888888888,
             "#fdca26"
            ],
            [
             1,
             "#f0f921"
            ]
           ]
          },
          "colorway": [
           "#636efa",
           "#EF553B",
           "#00cc96",
           "#ab63fa",
           "#FFA15A",
           "#19d3f3",
           "#FF6692",
           "#B6E880",
           "#FF97FF",
           "#FECB52"
          ],
          "font": {
           "color": "#2a3f5f"
          },
          "geo": {
           "bgcolor": "white",
           "lakecolor": "white",
           "landcolor": "#E5ECF6",
           "showlakes": true,
           "showland": true,
           "subunitcolor": "white"
          },
          "hoverlabel": {
           "align": "left"
          },
          "hovermode": "closest",
          "mapbox": {
           "style": "light"
          },
          "paper_bgcolor": "white",
          "plot_bgcolor": "#E5ECF6",
          "polar": {
           "angularaxis": {
            "gridcolor": "white",
            "linecolor": "white",
            "ticks": ""
           },
           "bgcolor": "#E5ECF6",
           "radialaxis": {
            "gridcolor": "white",
            "linecolor": "white",
            "ticks": ""
           }
          },
          "scene": {
           "xaxis": {
            "backgroundcolor": "#E5ECF6",
            "gridcolor": "white",
            "gridwidth": 2,
            "linecolor": "white",
            "showbackground": true,
            "ticks": "",
            "zerolinecolor": "white"
           },
           "yaxis": {
            "backgroundcolor": "#E5ECF6",
            "gridcolor": "white",
            "gridwidth": 2,
            "linecolor": "white",
            "showbackground": true,
            "ticks": "",
            "zerolinecolor": "white"
           },
           "zaxis": {
            "backgroundcolor": "#E5ECF6",
            "gridcolor": "white",
            "gridwidth": 2,
            "linecolor": "white",
            "showbackground": true,
            "ticks": "",
            "zerolinecolor": "white"
           }
          },
          "shapedefaults": {
           "line": {
            "color": "#2a3f5f"
           }
          },
          "ternary": {
           "aaxis": {
            "gridcolor": "white",
            "linecolor": "white",
            "ticks": ""
           },
           "baxis": {
            "gridcolor": "white",
            "linecolor": "white",
            "ticks": ""
           },
           "bgcolor": "#E5ECF6",
           "caxis": {
            "gridcolor": "white",
            "linecolor": "white",
            "ticks": ""
           }
          },
          "title": {
           "x": 0.05
          },
          "xaxis": {
           "automargin": true,
           "gridcolor": "white",
           "linecolor": "white",
           "ticks": "",
           "title": {
            "standoff": 15
           },
           "zerolinecolor": "white",
           "zerolinewidth": 2
          },
          "yaxis": {
           "automargin": true,
           "gridcolor": "white",
           "linecolor": "white",
           "ticks": "",
           "title": {
            "standoff": 15
           },
           "zerolinecolor": "white",
           "zerolinewidth": 2
          }
         }
        },
        "title": {
         "font": {
          "size": 24
         },
         "text": "Shoulder Abduction ROM RMSE, cad = 9.99 deg"
        },
        "xaxis": {
         "anchor": "y",
         "domain": [
          0,
          1
         ],
         "title": {
          "font": {
           "size": 20
          },
          "text": "Settings"
         }
        },
        "yaxis": {
         "anchor": "x",
         "domain": [
          0,
          1
         ],
         "range": [
          0,
          70.32999001282666
         ],
         "title": {
          "font": {
           "size": 20
          },
          "text": "ROM RMSE [deg]"
         }
        }
       }
      },
      "text/html": [
       "<div>                            <div id=\"c3348c0d-c4d0-4b07-9958-f4d34d576b24\" class=\"plotly-graph-div\" style=\"height:525px; width:100%;\"></div>            <script type=\"text/javascript\">                require([\"plotly\"], function(Plotly) {                    window.PLOTLYENV=window.PLOTLYENV || {};                                    if (document.getElementById(\"c3348c0d-c4d0-4b07-9958-f4d34d576b24\")) {                    Plotly.newPlot(                        \"c3348c0d-c4d0-4b07-9958-f4d34d576b24\",                        [{\"alignmentgroup\":\"True\",\"hovertemplate\":\"ids_name=%{x}\\u003cbr\\u003erom_rmse=%{y}\\u003cextra\\u003e\\u003c\\u002fextra\\u003e\",\"legendgroup\":\"\",\"marker\":{\"color\":\"#636efa\",\"pattern\":{\"shape\":\"\"}},\"name\":\"\",\"offsetgroup\":\"\",\"orientation\":\"v\",\"showlegend\":false,\"textposition\":\"auto\",\"x\":[\"SimCC, Cams: 1,2,3,4,5\",\"Metrabs, Cams: 1,2,3,4,5\",\"SimCC, Cams: 6,7,8,9,10\",\"Metrabs, Cams: 6,7,8,9,10\",\"SimCC, Cams: 1,3,5\",\"Metrabs, Cams: 1,3,5\",\"SimCC, Cams: 2,3,4\",\"Metrabs, Cams: 2,3,4\",\"SimCC, Cams: 6,8,10\",\"Metrabs, Cams: 6,8,10\",\"SimCC, Cams: 7,8,9\",\"Metrabs, Cams: 7,8,9\",\"SimCC, Cams: 2,4\",\"Metrabs, Cams: 2,4\",\"SimCC, Cams: 7,9\",\"Metrabs, Cams: 7,9\",\"Single, Cam: 1, filt\",\"Single, Cam: 1, unfilt\"],\"xaxis\":\"x\",\"y\":[13.043274971100033,14.764400447169674,56.28689830061963,21.686692193479974,39.94098490876184,45.068634711463694,37.76750225679148,25.204316121122147,37.73762205756167,60.329990012826656,35.472330361031766,28.114763313813484,24.257023851857337,27.711198700186024,27.97605305548541,42.463179554213205,7.629520222521797,7.612013525703967],\"yaxis\":\"y\",\"type\":\"bar\"}],                        {\"template\":{\"data\":{\"barpolar\":[{\"marker\":{\"line\":{\"color\":\"#E5ECF6\",\"width\":0.5},\"pattern\":{\"fillmode\":\"overlay\",\"size\":10,\"solidity\":0.2}},\"type\":\"barpolar\"}],\"bar\":[{\"error_x\":{\"color\":\"#2a3f5f\"},\"error_y\":{\"color\":\"#2a3f5f\"},\"marker\":{\"line\":{\"color\":\"#E5ECF6\",\"width\":0.5},\"pattern\":{\"fillmode\":\"overlay\",\"size\":10,\"solidity\":0.2}},\"type\":\"bar\"}],\"carpet\":[{\"aaxis\":{\"endlinecolor\":\"#2a3f5f\",\"gridcolor\":\"white\",\"linecolor\":\"white\",\"minorgridcolor\":\"white\",\"startlinecolor\":\"#2a3f5f\"},\"baxis\":{\"endlinecolor\":\"#2a3f5f\",\"gridcolor\":\"white\",\"linecolor\":\"white\",\"minorgridcolor\":\"white\",\"startlinecolor\":\"#2a3f5f\"},\"type\":\"carpet\"}],\"choropleth\":[{\"colorbar\":{\"outlinewidth\":0,\"ticks\":\"\"},\"type\":\"choropleth\"}],\"contourcarpet\":[{\"colorbar\":{\"outlinewidth\":0,\"ticks\":\"\"},\"type\":\"contourcarpet\"}],\"contour\":[{\"colorbar\":{\"outlinewidth\":0,\"ticks\":\"\"},\"colorscale\":[[0.0,\"#0d0887\"],[0.1111111111111111,\"#46039f\"],[0.2222222222222222,\"#7201a8\"],[0.3333333333333333,\"#9c179e\"],[0.4444444444444444,\"#bd3786\"],[0.5555555555555556,\"#d8576b\"],[0.6666666666666666,\"#ed7953\"],[0.7777777777777778,\"#fb9f3a\"],[0.8888888888888888,\"#fdca26\"],[1.0,\"#f0f921\"]],\"type\":\"contour\"}],\"heatmapgl\":[{\"colorbar\":{\"outlinewidth\":0,\"ticks\":\"\"},\"colorscale\":[[0.0,\"#0d0887\"],[0.1111111111111111,\"#46039f\"],[0.2222222222222222,\"#7201a8\"],[0.3333333333333333,\"#9c179e\"],[0.4444444444444444,\"#bd3786\"],[0.5555555555555556,\"#d8576b\"],[0.6666666666666666,\"#ed7953\"],[0.7777777777777778,\"#fb9f3a\"],[0.8888888888888888,\"#fdca26\"],[1.0,\"#f0f921\"]],\"type\":\"heatmapgl\"}],\"heatmap\":[{\"colorbar\":{\"outlinewidth\":0,\"ticks\":\"\"},\"colorscale\":[[0.0,\"#0d0887\"],[0.1111111111111111,\"#46039f\"],[0.2222222222222222,\"#7201a8\"],[0.3333333333333333,\"#9c179e\"],[0.4444444444444444,\"#bd3786\"],[0.5555555555555556,\"#d8576b\"],[0.6666666666666666,\"#ed7953\"],[0.7777777777777778,\"#fb9f3a\"],[0.8888888888888888,\"#fdca26\"],[1.0,\"#f0f921\"]],\"type\":\"heatmap\"}],\"histogram2dcontour\":[{\"colorbar\":{\"outlinewidth\":0,\"ticks\":\"\"},\"colorscale\":[[0.0,\"#0d0887\"],[0.1111111111111111,\"#46039f\"],[0.2222222222222222,\"#7201a8\"],[0.3333333333333333,\"#9c179e\"],[0.4444444444444444,\"#bd3786\"],[0.5555555555555556,\"#d8576b\"],[0.6666666666666666,\"#ed7953\"],[0.7777777777777778,\"#fb9f3a\"],[0.8888888888888888,\"#fdca26\"],[1.0,\"#f0f921\"]],\"type\":\"histogram2dcontour\"}],\"histogram2d\":[{\"colorbar\":{\"outlinewidth\":0,\"ticks\":\"\"},\"colorscale\":[[0.0,\"#0d0887\"],[0.1111111111111111,\"#46039f\"],[0.2222222222222222,\"#7201a8\"],[0.3333333333333333,\"#9c179e\"],[0.4444444444444444,\"#bd3786\"],[0.5555555555555556,\"#d8576b\"],[0.6666666666666666,\"#ed7953\"],[0.7777777777777778,\"#fb9f3a\"],[0.8888888888888888,\"#fdca26\"],[1.0,\"#f0f921\"]],\"type\":\"histogram2d\"}],\"histogram\":[{\"marker\":{\"pattern\":{\"fillmode\":\"overlay\",\"size\":10,\"solidity\":0.2}},\"type\":\"histogram\"}],\"mesh3d\":[{\"colorbar\":{\"outlinewidth\":0,\"ticks\":\"\"},\"type\":\"mesh3d\"}],\"parcoords\":[{\"line\":{\"colorbar\":{\"outlinewidth\":0,\"ticks\":\"\"}},\"type\":\"parcoords\"}],\"pie\":[{\"automargin\":true,\"type\":\"pie\"}],\"scatter3d\":[{\"line\":{\"colorbar\":{\"outlinewidth\":0,\"ticks\":\"\"}},\"marker\":{\"colorbar\":{\"outlinewidth\":0,\"ticks\":\"\"}},\"type\":\"scatter3d\"}],\"scattercarpet\":[{\"marker\":{\"colorbar\":{\"outlinewidth\":0,\"ticks\":\"\"}},\"type\":\"scattercarpet\"}],\"scattergeo\":[{\"marker\":{\"colorbar\":{\"outlinewidth\":0,\"ticks\":\"\"}},\"type\":\"scattergeo\"}],\"scattergl\":[{\"marker\":{\"colorbar\":{\"outlinewidth\":0,\"ticks\":\"\"}},\"type\":\"scattergl\"}],\"scattermapbox\":[{\"marker\":{\"colorbar\":{\"outlinewidth\":0,\"ticks\":\"\"}},\"type\":\"scattermapbox\"}],\"scatterpolargl\":[{\"marker\":{\"colorbar\":{\"outlinewidth\":0,\"ticks\":\"\"}},\"type\":\"scatterpolargl\"}],\"scatterpolar\":[{\"marker\":{\"colorbar\":{\"outlinewidth\":0,\"ticks\":\"\"}},\"type\":\"scatterpolar\"}],\"scatter\":[{\"fillpattern\":{\"fillmode\":\"overlay\",\"size\":10,\"solidity\":0.2},\"type\":\"scatter\"}],\"scatterternary\":[{\"marker\":{\"colorbar\":{\"outlinewidth\":0,\"ticks\":\"\"}},\"type\":\"scatterternary\"}],\"surface\":[{\"colorbar\":{\"outlinewidth\":0,\"ticks\":\"\"},\"colorscale\":[[0.0,\"#0d0887\"],[0.1111111111111111,\"#46039f\"],[0.2222222222222222,\"#7201a8\"],[0.3333333333333333,\"#9c179e\"],[0.4444444444444444,\"#bd3786\"],[0.5555555555555556,\"#d8576b\"],[0.6666666666666666,\"#ed7953\"],[0.7777777777777778,\"#fb9f3a\"],[0.8888888888888888,\"#fdca26\"],[1.0,\"#f0f921\"]],\"type\":\"surface\"}],\"table\":[{\"cells\":{\"fill\":{\"color\":\"#EBF0F8\"},\"line\":{\"color\":\"white\"}},\"header\":{\"fill\":{\"color\":\"#C8D4E3\"},\"line\":{\"color\":\"white\"}},\"type\":\"table\"}]},\"layout\":{\"annotationdefaults\":{\"arrowcolor\":\"#2a3f5f\",\"arrowhead\":0,\"arrowwidth\":1},\"autotypenumbers\":\"strict\",\"coloraxis\":{\"colorbar\":{\"outlinewidth\":0,\"ticks\":\"\"}},\"colorscale\":{\"diverging\":[[0,\"#8e0152\"],[0.1,\"#c51b7d\"],[0.2,\"#de77ae\"],[0.3,\"#f1b6da\"],[0.4,\"#fde0ef\"],[0.5,\"#f7f7f7\"],[0.6,\"#e6f5d0\"],[0.7,\"#b8e186\"],[0.8,\"#7fbc41\"],[0.9,\"#4d9221\"],[1,\"#276419\"]],\"sequential\":[[0.0,\"#0d0887\"],[0.1111111111111111,\"#46039f\"],[0.2222222222222222,\"#7201a8\"],[0.3333333333333333,\"#9c179e\"],[0.4444444444444444,\"#bd3786\"],[0.5555555555555556,\"#d8576b\"],[0.6666666666666666,\"#ed7953\"],[0.7777777777777778,\"#fb9f3a\"],[0.8888888888888888,\"#fdca26\"],[1.0,\"#f0f921\"]],\"sequentialminus\":[[0.0,\"#0d0887\"],[0.1111111111111111,\"#46039f\"],[0.2222222222222222,\"#7201a8\"],[0.3333333333333333,\"#9c179e\"],[0.4444444444444444,\"#bd3786\"],[0.5555555555555556,\"#d8576b\"],[0.6666666666666666,\"#ed7953\"],[0.7777777777777778,\"#fb9f3a\"],[0.8888888888888888,\"#fdca26\"],[1.0,\"#f0f921\"]]},\"colorway\":[\"#636efa\",\"#EF553B\",\"#00cc96\",\"#ab63fa\",\"#FFA15A\",\"#19d3f3\",\"#FF6692\",\"#B6E880\",\"#FF97FF\",\"#FECB52\"],\"font\":{\"color\":\"#2a3f5f\"},\"geo\":{\"bgcolor\":\"white\",\"lakecolor\":\"white\",\"landcolor\":\"#E5ECF6\",\"showlakes\":true,\"showland\":true,\"subunitcolor\":\"white\"},\"hoverlabel\":{\"align\":\"left\"},\"hovermode\":\"closest\",\"mapbox\":{\"style\":\"light\"},\"paper_bgcolor\":\"white\",\"plot_bgcolor\":\"#E5ECF6\",\"polar\":{\"angularaxis\":{\"gridcolor\":\"white\",\"linecolor\":\"white\",\"ticks\":\"\"},\"bgcolor\":\"#E5ECF6\",\"radialaxis\":{\"gridcolor\":\"white\",\"linecolor\":\"white\",\"ticks\":\"\"}},\"scene\":{\"xaxis\":{\"backgroundcolor\":\"#E5ECF6\",\"gridcolor\":\"white\",\"gridwidth\":2,\"linecolor\":\"white\",\"showbackground\":true,\"ticks\":\"\",\"zerolinecolor\":\"white\"},\"yaxis\":{\"backgroundcolor\":\"#E5ECF6\",\"gridcolor\":\"white\",\"gridwidth\":2,\"linecolor\":\"white\",\"showbackground\":true,\"ticks\":\"\",\"zerolinecolor\":\"white\"},\"zaxis\":{\"backgroundcolor\":\"#E5ECF6\",\"gridcolor\":\"white\",\"gridwidth\":2,\"linecolor\":\"white\",\"showbackground\":true,\"ticks\":\"\",\"zerolinecolor\":\"white\"}},\"shapedefaults\":{\"line\":{\"color\":\"#2a3f5f\"}},\"ternary\":{\"aaxis\":{\"gridcolor\":\"white\",\"linecolor\":\"white\",\"ticks\":\"\"},\"baxis\":{\"gridcolor\":\"white\",\"linecolor\":\"white\",\"ticks\":\"\"},\"bgcolor\":\"#E5ECF6\",\"caxis\":{\"gridcolor\":\"white\",\"linecolor\":\"white\",\"ticks\":\"\"}},\"title\":{\"x\":0.05},\"xaxis\":{\"automargin\":true,\"gridcolor\":\"white\",\"linecolor\":\"white\",\"ticks\":\"\",\"title\":{\"standoff\":15},\"zerolinecolor\":\"white\",\"zerolinewidth\":2},\"yaxis\":{\"automargin\":true,\"gridcolor\":\"white\",\"linecolor\":\"white\",\"ticks\":\"\",\"title\":{\"standoff\":15},\"zerolinecolor\":\"white\",\"zerolinewidth\":2}}},\"xaxis\":{\"anchor\":\"y\",\"domain\":[0.0,1.0],\"title\":{\"text\":\"Settings\",\"font\":{\"size\":20}}},\"yaxis\":{\"anchor\":\"x\",\"domain\":[0.0,1.0],\"title\":{\"text\":\"ROM RMSE [deg]\",\"font\":{\"size\":20}},\"range\":[0,70.32999001282666]},\"legend\":{\"tracegroupgap\":0},\"title\":{\"text\":\"Shoulder Abduction ROM RMSE, cad = 9.99 deg\",\"font\":{\"size\":24}},\"barmode\":\"relative\",\"shapes\":[{\"line\":{\"color\":\"red\",\"dash\":\"dash\"},\"name\":\"CAD\",\"type\":\"line\",\"x0\":0,\"x1\":1,\"xref\":\"x domain\",\"y0\":9.99,\"y1\":9.99,\"yref\":\"y\"}]},                        {\"responsive\": true}                    ).then(function(){\n",
       "                            \n",
       "var gd = document.getElementById('c3348c0d-c4d0-4b07-9958-f4d34d576b24');\n",
       "var x = new MutationObserver(function (mutations, observer) {{\n",
       "        var display = window.getComputedStyle(gd).display;\n",
       "        if (!display || display === 'none') {{\n",
       "            console.log([gd, 'removed!']);\n",
       "            Plotly.purge(gd);\n",
       "            observer.disconnect();\n",
       "        }}\n",
       "}});\n",
       "\n",
       "// Listen for the removal of the full notebook cells\n",
       "var notebookContainer = gd.closest('#notebook-container');\n",
       "if (notebookContainer) {{\n",
       "    x.observe(notebookContainer, {childList: true});\n",
       "}}\n",
       "\n",
       "// Listen for the clearing of the current output cell\n",
       "var outputEl = gd.closest('.output');\n",
       "if (outputEl) {{\n",
       "    x.observe(outputEl, {childList: true});\n",
       "}}\n",
       "\n",
       "                        })                };                });            </script>        </div>"
      ]
     },
     "metadata": {},
     "output_type": "display_data"
    }
   ],
   "source": [
    "df_filtered = df_rom_rmse[df_rom_rmse['id_s'].isin(idx_s)].sort_values(by='id_p')\n",
    "df_rom_rmse_corr = df_filtered.groupby(['id_s', 'metric']).mean(numeric_only=True)\n",
    "\n",
    "df_for_plot_corr_rmse = pd.DataFrame(columns=['id_s', 'metric', 'rom_rmse'])\n",
    "joint_metrics = ['elbow_flex_pos', 'shoulder_flex_pos', 'shoulder_abduction_pos']\n",
    "\n",
    "for id in df_rom_rmse_corr.index.to_list():\n",
    "    id_s = id[0]\n",
    "    metric = id[1]\n",
    "    rmse = df_rom_rmse_corr.loc[id, 'rom_rmse']\n",
    "    df_for_plot_corr_rmse = pd.concat([df_for_plot_corr_rmse, pd.DataFrame({'id_s': [id_s], 'metric': [metric], 'rom_rmse': [rmse]})], ignore_index=True)\n",
    "\n",
    "df_for_plot_corr_rmse['ids_name'] = df_for_plot_corr_rmse['id_s'].apply(lambda x: get_setting_axis_name(x))\n",
    "\n",
    "os.makedirs(dir_barplots_rom_rmse_error, exist_ok=True)\n",
    "\n",
    "for metric in metrics:\n",
    "    cad = get_cad(df_cad, metric)\n",
    "    unit = get_unit(metric)\n",
    "    title_name = get_title_measure_name(metric)\n",
    "    fig = px.bar(df_for_plot_corr_rmse[df_for_plot_corr_rmse['metric'] == metric].sort_values(by='id_s'), x='ids_name', y='rom_rmse', title=f'{title_name} ROM RMSE, cad = {cad}',\n",
    "                 template='plotly')\n",
    "    \n",
    "    fig.add_hline(y=cad, line_dash='dash', line_color='red', name='CAD')\n",
    "    \n",
    "    fig.update_yaxes(range=[0,  min(2500, df_for_plot_corr_rmse[df_for_plot_corr_rmse['metric'] == metric]['rom_rmse'].max()) + 10])\n",
    "    \n",
    "    fig.update_layout(title= dict(text=f'{title_name} ROM RMSE, cad = {cad} {unit}', font=dict(size=24)),\n",
    "                  xaxis_title=dict(text=f'Settings', font=dict(size=20)),\n",
    "                  yaxis_title=dict(text=f'ROM RMSE [{unit}]', font=dict(size=20)),\n",
    "                  )\n",
    "    fig.show()\n",
    "    \n",
    "    newdir = os.path.join(dir_barplots_rom_rmse_error , 'new')\n",
    "    os.makedirs(newdir, exist_ok=True)\n",
    "    filepath = os.path.join(dir_barplots_rom_rmse_error, f'{metric}_rom_rmse_barplot_corr.html')\n",
    "    fig.write_html(filepath)\n",
    "    \n",
    "    filepath = os.path.join(newdir, f'0601_{metric}_rom_rmse_barplot_corr.png')\n",
    "    fig.write_image(filepath)"
   ]
  },
  {
   "cell_type": "code",
   "execution_count": 16,
   "id": "81a2b59a7e7fbd53",
   "metadata": {
    "ExecuteTime": {
     "end_time": "2024-12-17T19:27:12.060504Z",
     "start_time": "2024-12-17T19:27:12.052949Z"
    }
   },
   "outputs": [
    {
     "data": {
      "text/html": [
       "<div>\n",
       "<style scoped>\n",
       "    .dataframe tbody tr th:only-of-type {\n",
       "        vertical-align: middle;\n",
       "    }\n",
       "\n",
       "    .dataframe tbody tr th {\n",
       "        vertical-align: top;\n",
       "    }\n",
       "\n",
       "    .dataframe thead th {\n",
       "        text-align: right;\n",
       "    }\n",
       "</style>\n",
       "<table border=\"1\" class=\"dataframe\">\n",
       "  <thead>\n",
       "    <tr style=\"text-align: right;\">\n",
       "      <th></th>\n",
       "      <th>id_s</th>\n",
       "      <th>metric</th>\n",
       "      <th>rom_rmse</th>\n",
       "    </tr>\n",
       "  </thead>\n",
       "  <tbody>\n",
       "    <tr>\n",
       "      <th>0</th>\n",
       "      <td>S001</td>\n",
       "      <td>elbow_flex_pos</td>\n",
       "      <td>16.627595</td>\n",
       "    </tr>\n",
       "    <tr>\n",
       "      <th>1</th>\n",
       "      <td>S001</td>\n",
       "      <td>elbow_vel</td>\n",
       "      <td>3.992229</td>\n",
       "    </tr>\n",
       "    <tr>\n",
       "      <th>2</th>\n",
       "      <td>S001</td>\n",
       "      <td>hand_vel</td>\n",
       "      <td>10891.368523</td>\n",
       "    </tr>\n",
       "    <tr>\n",
       "      <th>3</th>\n",
       "      <td>S001</td>\n",
       "      <td>shoulder_abduction_pos</td>\n",
       "      <td>13.058625</td>\n",
       "    </tr>\n",
       "    <tr>\n",
       "      <th>4</th>\n",
       "      <td>S001</td>\n",
       "      <td>shoulder_flex_pos</td>\n",
       "      <td>15.612322</td>\n",
       "    </tr>\n",
       "    <tr>\n",
       "      <th>...</th>\n",
       "      <td>...</td>\n",
       "      <td>...</td>\n",
       "      <td>...</td>\n",
       "    </tr>\n",
       "    <tr>\n",
       "      <th>142</th>\n",
       "      <td>S026</td>\n",
       "      <td>hand_vel</td>\n",
       "      <td>1080.370298</td>\n",
       "    </tr>\n",
       "    <tr>\n",
       "      <th>143</th>\n",
       "      <td>S026</td>\n",
       "      <td>shoulder_abduction_pos</td>\n",
       "      <td>2.940550</td>\n",
       "    </tr>\n",
       "    <tr>\n",
       "      <th>144</th>\n",
       "      <td>S026</td>\n",
       "      <td>shoulder_flex_pos</td>\n",
       "      <td>4.294567</td>\n",
       "    </tr>\n",
       "    <tr>\n",
       "      <th>145</th>\n",
       "      <td>S026</td>\n",
       "      <td>trunk_ang</td>\n",
       "      <td>3.881742</td>\n",
       "    </tr>\n",
       "    <tr>\n",
       "      <th>146</th>\n",
       "      <td>S026</td>\n",
       "      <td>trunk_disp</td>\n",
       "      <td>37.548138</td>\n",
       "    </tr>\n",
       "  </tbody>\n",
       "</table>\n",
       "<p>147 rows × 3 columns</p>\n",
       "</div>"
      ],
      "text/plain": [
       "     id_s                  metric      rom_rmse\n",
       "0    S001          elbow_flex_pos     16.627595\n",
       "1    S001               elbow_vel      3.992229\n",
       "2    S001                hand_vel  10891.368523\n",
       "3    S001  shoulder_abduction_pos     13.058625\n",
       "4    S001       shoulder_flex_pos     15.612322\n",
       "..    ...                     ...           ...\n",
       "142  S026                hand_vel   1080.370298\n",
       "143  S026  shoulder_abduction_pos      2.940550\n",
       "144  S026       shoulder_flex_pos      4.294567\n",
       "145  S026               trunk_ang      3.881742\n",
       "146  S026              trunk_disp     37.548138\n",
       "\n",
       "[147 rows x 3 columns]"
      ]
     },
     "execution_count": 16,
     "metadata": {},
     "output_type": "execute_result"
    }
   ],
   "source": [
    "df_for_plot_corr_rmse"
   ]
  },
  {
   "cell_type": "code",
   "execution_count": 17,
   "id": "8cd59d2feda57c36",
   "metadata": {
    "ExecuteTime": {
     "end_time": "2024-12-17T19:27:12.152018Z",
     "start_time": "2024-12-17T19:27:12.139975Z"
    }
   },
   "outputs": [
    {
     "data": {
      "text/html": [
       "<div>\n",
       "<style scoped>\n",
       "    .dataframe tbody tr th:only-of-type {\n",
       "        vertical-align: middle;\n",
       "    }\n",
       "\n",
       "    .dataframe tbody tr th {\n",
       "        vertical-align: top;\n",
       "    }\n",
       "\n",
       "    .dataframe thead th {\n",
       "        text-align: right;\n",
       "    }\n",
       "</style>\n",
       "<table border=\"1\" class=\"dataframe\">\n",
       "  <thead>\n",
       "    <tr style=\"text-align: right;\">\n",
       "      <th></th>\n",
       "      <th></th>\n",
       "      <th>rom_rmse</th>\n",
       "    </tr>\n",
       "    <tr>\n",
       "      <th>id_s</th>\n",
       "      <th>metric</th>\n",
       "      <th></th>\n",
       "    </tr>\n",
       "  </thead>\n",
       "  <tbody>\n",
       "    <tr>\n",
       "      <th rowspan=\"5\" valign=\"top\">S001</th>\n",
       "      <th>elbow_flex_pos</th>\n",
       "      <td>16.627595</td>\n",
       "    </tr>\n",
       "    <tr>\n",
       "      <th>elbow_vel</th>\n",
       "      <td>3.992229</td>\n",
       "    </tr>\n",
       "    <tr>\n",
       "      <th>hand_vel</th>\n",
       "      <td>10891.368523</td>\n",
       "    </tr>\n",
       "    <tr>\n",
       "      <th>shoulder_abduction_pos</th>\n",
       "      <td>13.058625</td>\n",
       "    </tr>\n",
       "    <tr>\n",
       "      <th>shoulder_flex_pos</th>\n",
       "      <td>15.612322</td>\n",
       "    </tr>\n",
       "    <tr>\n",
       "      <th>...</th>\n",
       "      <th>...</th>\n",
       "      <td>...</td>\n",
       "    </tr>\n",
       "    <tr>\n",
       "      <th rowspan=\"5\" valign=\"top\">S026</th>\n",
       "      <th>hand_vel</th>\n",
       "      <td>1080.370298</td>\n",
       "    </tr>\n",
       "    <tr>\n",
       "      <th>shoulder_abduction_pos</th>\n",
       "      <td>2.940550</td>\n",
       "    </tr>\n",
       "    <tr>\n",
       "      <th>shoulder_flex_pos</th>\n",
       "      <td>4.294567</td>\n",
       "    </tr>\n",
       "    <tr>\n",
       "      <th>trunk_ang</th>\n",
       "      <td>3.881742</td>\n",
       "    </tr>\n",
       "    <tr>\n",
       "      <th>trunk_disp</th>\n",
       "      <td>37.548138</td>\n",
       "    </tr>\n",
       "  </tbody>\n",
       "</table>\n",
       "<p>147 rows × 1 columns</p>\n",
       "</div>"
      ],
      "text/plain": [
       "                                 rom_rmse\n",
       "id_s metric                              \n",
       "S001 elbow_flex_pos             16.627595\n",
       "     elbow_vel                   3.992229\n",
       "     hand_vel                10891.368523\n",
       "     shoulder_abduction_pos     13.058625\n",
       "     shoulder_flex_pos          15.612322\n",
       "...                                   ...\n",
       "S026 hand_vel                 1080.370298\n",
       "     shoulder_abduction_pos      2.940550\n",
       "     shoulder_flex_pos           4.294567\n",
       "     trunk_ang                   3.881742\n",
       "     trunk_disp                 37.548138\n",
       "\n",
       "[147 rows x 1 columns]"
      ]
     },
     "execution_count": 17,
     "metadata": {},
     "output_type": "execute_result"
    }
   ],
   "source": [
    "df_for_plot_corr_rmse.groupby(['id_s', 'metric']).mean(numeric_only=True)"
   ]
  },
  {
   "cell_type": "markdown",
   "id": "5801262c95da9943",
   "metadata": {},
   "source": [
    "# Correlation\n"
   ]
  },
  {
   "cell_type": "code",
   "execution_count": null,
   "id": "ed73a9360e7064c2",
   "metadata": {
    "ExecuteTime": {
     "end_time": "2024-12-17T19:27:12.439987Z",
     "start_time": "2024-12-17T19:27:12.436401Z"
    }
   },
   "outputs": [],
   "source": []
  }
 ],
 "metadata": {
  "kernelspec": {
   "display_name": "iDrink_GUI",
   "language": "python",
   "name": "python3"
  },
  "language_info": {
   "codemirror_mode": {
    "name": "ipython",
    "version": 3
   },
   "file_extension": ".py",
   "mimetype": "text/x-python",
   "name": "python",
   "nbconvert_exporter": "python",
   "pygments_lexer": "ipython3",
   "version": "3.11.9"
  }
 },
 "nbformat": 4,
 "nbformat_minor": 5
}
